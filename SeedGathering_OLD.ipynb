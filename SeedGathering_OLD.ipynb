{
 "cells": [
  {
   "cell_type": "markdown",
   "id": "805e9d4c-f390-4aba-9ec8-627b9ed85aea",
   "metadata": {},
   "source": [
    "### SEED GATHERING GET CONTENT"
   ]
  },
  {
   "cell_type": "code",
   "execution_count": 3,
   "id": "bfd3e144-73cb-42fa-9550-075c51686a77",
   "metadata": {},
   "outputs": [],
   "source": [
    "from tree_sitter_parser import LANGUAGE, make_parser, node_to_string\n",
    "import datasets\n",
    "import os\n",
    "import signal\n",
    "from multiprocessing import Pool\n",
    "#import os\n",
    "import boto3\n",
    "import smart_open\n",
    "#from datasets import load_dataset,Dataset\n",
    "from botocore import UNSIGNED\n",
    "from botocore.config import Config\n",
    "\n",
    "s3 = boto3.client(\"s3\", config=Config(signature_version=UNSIGNED))\n",
    "def download_contents(blob_id, src_encoding):\n",
    "    s3_url = f\"s3://softwareheritage/content/{blob_id}\"\n",
    "    with smart_open.open(s3_url, \"rb\", compression=\".gz\", transport_params={\"client\": s3}) as fin:\n",
    "        content = fin.read().decode(src_encoding)\n",
    "    \n",
    "    return content"
   ]
  },
  {
   "cell_type": "code",
   "execution_count": 4,
   "id": "8c8ee925-5001-4a30-b29f-5741f8d173a2",
   "metadata": {},
   "outputs": [],
   "source": [
    "TOPLEVEL_DOCSTRING_QUERY = LANGUAGE.query(\"\"\"\n",
    "(\n",
    "    (function_definition\n",
    "      name: (identifier)\n",
    "      body: (block .\n",
    "        (expression_statement\n",
    "            (string\n",
    "                (string_start) @docstring.start\n",
    "                (string_content)\n",
    "                (string_end) @docstring.end)))) @function.def\n",
    "    (#eq? @docstring.start \"\\\\\\\"\\\\\\\"\\\\\\\"\")\n",
    "    (#eq? @docstring.end \"\\\\\\\"\\\\\\\"\\\\\\\"\")\n",
    ")\n",
    "\"\"\")\n",
    "\n",
    "\n",
    "def get_fns_with_docstrings(src, tree):\n",
    "    captures = TOPLEVEL_DOCSTRING_QUERY.captures(tree.root_node)\n",
    "    res = []\n",
    "    for capture in captures:\n",
    "        node, ty = capture\n",
    "        if ty != \"function.def\":\n",
    "            continue\n",
    "        # if the starting col is not 0, then it's not a top-level fn\n",
    "        _, col = node.start_point\n",
    "        if col != 0:\n",
    "            continue\n",
    "        res.append(node_to_string(src, node))\n",
    "    return res\n",
    "\n",
    "\n",
    "def parse_ex(parser, ex):\n",
    "    #ex = ex[\"content\"]\n",
    "    ex = download_contents(ex[\"blob_id\"], ex[\"src_encoding\"])\n",
    "    try:\n",
    "        buf = bytes(ex, \"utf8\")\n",
    "        tree = parser.parse(buf)\n",
    "        return get_fns_with_docstrings(buf, tree)\n",
    "    except:\n",
    "        return []\n",
    "\n",
    "\n",
    "# if one parser segfaults, we can just make a new one and other parsers will still be fine\n",
    "# WE LOVE TREE SITTER!\n",
    "PARSERS = None\n",
    "\n",
    "\n",
    "def process_chunk(idx_and_chunk):\n",
    "    assert PARSERS is not None\n",
    "    idx, chunk = idx_and_chunk\n",
    "    parser = PARSERS[idx]\n",
    "    chunk_new_funs = set()\n",
    "    for ex in chunk:\n",
    "        chunk_new_funs.update(parse_ex(parser, ex))\n",
    "    return chunk_new_funs\n",
    "\n",
    "\n",
    "def main(args):\n",
    "    global PARSERS\n",
    "    ds = datasets.load_dataset(\n",
    "        args.dataset,\n",
    "        data_dir=args.data_dir,\n",
    "        split=\"train\",\n",
    "    )\n",
    "    funs = set()\n",
    "    PARSERS = [make_parser() for _ in range(args.num_workers)]\n",
    "    total_len = len(ds)\n",
    "    CHUNK_SIZE = 1000 * args.num_workers\n",
    "\n",
    "    print(f\"Total length: {total_len}\")\n",
    "    print(f\"Chunk size: {CHUNK_SIZE}\")\n",
    "\n",
    "    chunk = []\n",
    "    p = Pool(args.num_workers)\n",
    "    for i, ex in enumerate(ds):\n",
    "        if i % (total_len // 100) == 0:\n",
    "            print(f\"{i}/{total_len}\")\n",
    "        try:\n",
    "            chunk.append(ex)\n",
    "            if len(chunk) == CHUNK_SIZE or i == total_len - 1:\n",
    "                print(f\"Processing chunk {i // CHUNK_SIZE}\")\n",
    "                # divide the chunk into NUM_WORKERS chunks\n",
    "                subchunk_size = len(chunk) // args.num_workers\n",
    "                subchunks = [chunk[i:i + subchunk_size]\n",
    "                             for i in range(0, len(chunk), subchunk_size)]\n",
    "                new_funs_iter = p.imap(\n",
    "                    process_chunk, [(i, subchunk) for i, subchunk in enumerate(subchunks)])\n",
    "                print(\"Getting new functions\")\n",
    "                len_before = len(funs)\n",
    "                while True:\n",
    "                    try:\n",
    "                        def timeout_handler(_, __):\n",
    "                            raise KeyboardInterrupt  # it's fineeeeeee\n",
    "                        signal.signal(signal.SIGALRM, timeout_handler)\n",
    "                        signal.alarm(60)\n",
    "                        funs.update(next(new_funs_iter))\n",
    "                        signal.alarm(0)\n",
    "                    except KeyboardInterrupt:\n",
    "                        signal.alarm(0)\n",
    "                        print(\"Keyboard interrupt. Terminating pool\")\n",
    "                        p.terminate()\n",
    "                        p = Pool(args.num_workers)\n",
    "                        break\n",
    "                    except StopIteration:\n",
    "                        break\n",
    "                    except Exception as e:\n",
    "                        print(e)\n",
    "\n",
    "                signal.alarm(0)\n",
    "\n",
    "                PARSERS = [make_parser() for _ in range(args.num_workers)]\n",
    "\n",
    "                print(\n",
    "                    f\"Done processing chunk {i // CHUNK_SIZE}. Got {len(funs) - len_before} new functions\")\n",
    "\n",
    "                chunk = []\n",
    "        except Exception as e:\n",
    "            print(e)\n",
    "            chunk = []\n",
    "\n",
    "        if i == total_len - 1:\n",
    "            break\n",
    "\n",
    "    p.close()\n",
    "\n",
    "    new_ds_dict = {\n",
    "        \"content\": list(funs),\n",
    "        \"id\": list(range(len(funs)))\n",
    "    }\n",
    "\n",
    "    new_ds = datasets.Dataset.from_dict(new_ds_dict)\n",
    "    #new_ds.push_to_hub(args.push, private=True)\n",
    "\n",
    "\n"
   ]
  },
  {
   "cell_type": "code",
   "execution_count": 5,
   "id": "74accea3-de2a-4b38-bbf2-b0c7f2be7aa4",
   "metadata": {},
   "outputs": [],
   "source": [
    "NUMWORKERS = os.cpu_count()"
   ]
  },
  {
   "cell_type": "code",
   "execution_count": 6,
   "id": "c8798ed1-24c7-4694-a97a-a381ab122392",
   "metadata": {},
   "outputs": [
    {
     "data": {
      "application/vnd.jupyter.widget-view+json": {
       "model_id": "cfe301794bdd4ccea62441e5b0b00911",
       "version_major": 2,
       "version_minor": 0
      },
      "text/plain": [
       "Resolving data files:   0%|          | 0/757 [00:00<?, ?it/s]"
      ]
     },
     "metadata": {},
     "output_type": "display_data"
    },
    {
     "data": {
      "application/vnd.jupyter.widget-view+json": {
       "model_id": "596f27125e92472bad69ad718401aa3a",
       "version_major": 2,
       "version_minor": 0
      },
      "text/plain": [
       "Downloading data:   0%|          | 0.00/2.56G [00:00<?, ?B/s]"
      ]
     },
     "metadata": {},
     "output_type": "display_data"
    },
    {
     "data": {
      "application/vnd.jupyter.widget-view+json": {
       "model_id": "145e324321464b86ae7361862a2ceebc",
       "version_major": 2,
       "version_minor": 0
      },
      "text/plain": [
       "Downloading data:   0%|          | 0.00/2.56G [00:00<?, ?B/s]"
      ]
     },
     "metadata": {},
     "output_type": "display_data"
    },
    {
     "data": {
      "application/vnd.jupyter.widget-view+json": {
       "model_id": "aa2a55283fbc4b83b658d5d83eaf2eed",
       "version_major": 2,
       "version_minor": 0
      },
      "text/plain": [
       "Downloading data:   0%|          | 0.00/2.56G [00:00<?, ?B/s]"
      ]
     },
     "metadata": {},
     "output_type": "display_data"
    },
    {
     "data": {
      "application/vnd.jupyter.widget-view+json": {
       "model_id": "fb83ff7d6f2248d683b918f6fc67875f",
       "version_major": 2,
       "version_minor": 0
      },
      "text/plain": [
       "Downloading data:   0%|          | 0.00/2.56G [00:00<?, ?B/s]"
      ]
     },
     "metadata": {},
     "output_type": "display_data"
    },
    {
     "data": {
      "application/vnd.jupyter.widget-view+json": {
       "model_id": "58380088029046bd8f0523ca963063e1",
       "version_major": 2,
       "version_minor": 0
      },
      "text/plain": [
       "Downloading data:   0%|          | 0.00/2.56G [00:00<?, ?B/s]"
      ]
     },
     "metadata": {},
     "output_type": "display_data"
    },
    {
     "data": {
      "application/vnd.jupyter.widget-view+json": {
       "model_id": "fa906d2e0fb241fcbff5612c74546792",
       "version_major": 2,
       "version_minor": 0
      },
      "text/plain": [
       "Downloading data:   0%|          | 0.00/2.56G [00:00<?, ?B/s]"
      ]
     },
     "metadata": {},
     "output_type": "display_data"
    },
    {
     "data": {
      "application/vnd.jupyter.widget-view+json": {
       "model_id": "e51dc837d6a9438db95693d27cba3ad4",
       "version_major": 2,
       "version_minor": 0
      },
      "text/plain": [
       "Generating train split:   0%|          | 0/47272886 [00:00<?, ? examples/s]"
      ]
     },
     "metadata": {},
     "output_type": "display_data"
    },
    {
     "data": {
      "application/vnd.jupyter.widget-view+json": {
       "model_id": "67d0e5fb549d43b5938ce96447ca5ffb",
       "version_major": 2,
       "version_minor": 0
      },
      "text/plain": [
       "Loading dataset shards:   0%|          | 0/43 [00:00<?, ?it/s]"
      ]
     },
     "metadata": {},
     "output_type": "display_data"
    },
    {
     "name": "stdout",
     "output_type": "stream",
     "text": [
      "Total length: 10000000\n",
      "Chunk size: 128000\n"
     ]
    }
   ],
   "source": [
    "ds = datasets.load_dataset(\"bigcode/the-stack-v2-dedup\", \"Python\", cache_dir=f\"../nk569/stack\", streaming=False, split=\"train\")\n",
    "\n"
   ]
  },
  {
   "cell_type": "code",
   "execution_count": 7,
   "id": "82541f12-dd45-44f7-ad0f-928224086086",
   "metadata": {},
   "outputs": [
    {
     "name": "stdout",
     "output_type": "stream",
     "text": [
      "Total length: 47272886\n",
      "Chunk size: 128000\n"
     ]
    }
   ],
   "source": [
    "funs = set()\n",
    "PARSERS = [make_parser() for _ in range(NUMWORKERS)]\n",
    "total_len = len(ds)\n",
    "CHUNK_SIZE = 1000 * NUMWORKERS\n",
    "\n",
    "print(f\"Total length: {total_len}\")\n",
    "print(f\"Chunk size: {CHUNK_SIZE}\")\n",
    "\n",
    "chunk = []\n",
    "p = Pool(NUMWORKERS)"
   ]
  },
  {
   "cell_type": "code",
   "execution_count": null,
   "id": "78f242aa-2972-4037-b5d9-acc1f1cc7308",
   "metadata": {
    "scrolled": true
   },
   "outputs": [
    {
     "name": "stdout",
     "output_type": "stream",
     "text": [
      "0/47272886\n",
      "Processing chunk 0\n",
      "Getting new functions\n",
      "Done processing chunk 0. Got 32645 new functions\n",
      "Processing chunk 1\n",
      "Getting new functions\n",
      "Done processing chunk 1. Got 32222 new functions\n",
      "Processing chunk 2\n",
      "Getting new functions\n",
      "Done processing chunk 2. Got 32158 new functions\n",
      "472728/47272886\n",
      "Processing chunk 3\n",
      "Getting new functions\n",
      "Done processing chunk 3. Got 31775 new functions\n",
      "Processing chunk 4\n",
      "Getting new functions\n",
      "Done processing chunk 4. Got 31002 new functions\n",
      "Processing chunk 5\n",
      "Getting new functions\n",
      "Done processing chunk 5. Got 31746 new functions\n",
      "Processing chunk 6\n",
      "Getting new functions\n",
      "Done processing chunk 6. Got 30393 new functions\n",
      "945456/47272886\n",
      "Processing chunk 7\n",
      "Getting new functions\n",
      "Done processing chunk 7. Got 33611 new functions\n",
      "Processing chunk 8\n",
      "Getting new functions\n",
      "Done processing chunk 8. Got 32778 new functions\n",
      "Processing chunk 9\n",
      "Getting new functions\n",
      "Done processing chunk 9. Got 33583 new functions\n",
      "Processing chunk 10\n",
      "Getting new functions\n",
      "unable to access bucket: 'softwareheritage' key: 'content/c02517b036464104b8a2e983739eea4bf1a66325' version: None error: An error occurred (NoSuchKey) when calling the GetObject operation: The specified key does not exist.\n",
      "Done processing chunk 10. Got 30955 new functions\n",
      "1418184/47272886\n",
      "Processing chunk 11\n",
      "Getting new functions\n",
      "Done processing chunk 11. Got 30544 new functions\n",
      "Processing chunk 12\n",
      "Getting new functions\n",
      "Done processing chunk 12. Got 31936 new functions\n",
      "Processing chunk 13\n",
      "Getting new functions\n",
      "Done processing chunk 13. Got 32135 new functions\n",
      "1890912/47272886\n",
      "Processing chunk 14\n",
      "Getting new functions\n",
      "Done processing chunk 14. Got 36530 new functions\n",
      "Processing chunk 15\n",
      "Getting new functions\n",
      "Keyboard interrupt. Terminating pool\n",
      "Done processing chunk 15. Got 0 new functions\n",
      "Processing chunk 16\n",
      "Getting new functions\n",
      "Keyboard interrupt. Terminating pool\n",
      "Done processing chunk 16. Got 0 new functions\n",
      "Processing chunk 17\n",
      "Getting new functions\n",
      "Keyboard interrupt. Terminating pool\n",
      "Done processing chunk 17. Got 0 new functions\n",
      "2363640/47272886\n",
      "Processing chunk 18\n",
      "Getting new functions\n",
      "Keyboard interrupt. Terminating pool\n",
      "Done processing chunk 18. Got 0 new functions\n",
      "Processing chunk 19\n",
      "Getting new functions\n",
      "Keyboard interrupt. Terminating pool\n",
      "Done processing chunk 19. Got 0 new functions\n",
      "Processing chunk 20\n",
      "Getting new functions\n",
      "Keyboard interrupt. Terminating pool\n",
      "Done processing chunk 20. Got 0 new functions\n",
      "Processing chunk 21\n",
      "Getting new functions\n",
      "Keyboard interrupt. Terminating pool\n",
      "Done processing chunk 21. Got 0 new functions\n",
      "2836368/47272886\n",
      "Processing chunk 22\n",
      "Getting new functions\n",
      "Keyboard interrupt. Terminating pool\n",
      "Done processing chunk 22. Got 0 new functions\n",
      "Processing chunk 23\n",
      "Getting new functions\n",
      "Keyboard interrupt. Terminating pool\n",
      "Done processing chunk 23. Got 0 new functions\n",
      "Processing chunk 24\n",
      "Getting new functions\n",
      "Keyboard interrupt. Terminating pool\n",
      "Done processing chunk 24. Got 0 new functions\n",
      "3309096/47272886\n",
      "Processing chunk 25\n",
      "Getting new functions\n",
      "Keyboard interrupt. Terminating pool\n",
      "Done processing chunk 25. Got 0 new functions\n",
      "Processing chunk 26\n",
      "Getting new functions\n",
      "Keyboard interrupt. Terminating pool\n",
      "Done processing chunk 26. Got 0 new functions\n",
      "Processing chunk 27\n",
      "Getting new functions\n",
      "Keyboard interrupt. Terminating pool\n",
      "Done processing chunk 27. Got 0 new functions\n",
      "Processing chunk 28\n",
      "Getting new functions\n",
      "Keyboard interrupt. Terminating pool\n",
      "Done processing chunk 28. Got 0 new functions\n",
      "3781824/47272886\n",
      "Processing chunk 29\n",
      "Getting new functions\n",
      "Keyboard interrupt. Terminating pool\n",
      "Done processing chunk 29. Got 0 new functions\n",
      "Processing chunk 30\n",
      "Getting new functions\n",
      "Keyboard interrupt. Terminating pool\n",
      "Done processing chunk 30. Got 0 new functions\n",
      "Processing chunk 31\n",
      "Getting new functions\n",
      "Keyboard interrupt. Terminating pool\n",
      "Done processing chunk 31. Got 0 new functions\n",
      "Processing chunk 32\n",
      "Getting new functions\n",
      "Keyboard interrupt. Terminating pool\n",
      "Done processing chunk 32. Got 0 new functions\n",
      "4254552/47272886\n",
      "Processing chunk 33\n",
      "Getting new functions\n",
      "Keyboard interrupt. Terminating pool\n",
      "Done processing chunk 33. Got 0 new functions\n",
      "Processing chunk 34\n",
      "Getting new functions\n",
      "Keyboard interrupt. Terminating pool\n",
      "Done processing chunk 34. Got 0 new functions\n",
      "Processing chunk 35\n",
      "Getting new functions\n"
     ]
    }
   ],
   "source": [
    "for i, ex in enumerate(iter(ds)):\n",
    "    if i % (total_len // 100) == 0:\n",
    "        print(f\"{i}/{total_len}\")\n",
    "    try:\n",
    "        chunk.append(ex)\n",
    "        if len(chunk) == CHUNK_SIZE or i == total_len - 1:\n",
    "            print(f\"Processing chunk {i // CHUNK_SIZE}\")\n",
    "            # divide the chunk into NUM_WORKERS chunks\n",
    "            subchunk_size = len(chunk) // NUMWORKERS\n",
    "            subchunks = [chunk[i:i + subchunk_size]\n",
    "                         for i in range(0, len(chunk), subchunk_size)]\n",
    "            new_funs_iter = p.imap(\n",
    "                process_chunk, [(i, subchunk) for i, subchunk in enumerate(subchunks)])\n",
    "            print(\"Getting new functions\")\n",
    "            len_before = len(funs)\n",
    "            while True:\n",
    "                try:\n",
    "                    def timeout_handler(_, __):\n",
    "                        raise KeyboardInterrupt  # it's fineeeeeee\n",
    "                    signal.signal(signal.SIGALRM, timeout_handler)\n",
    "                    signal.alarm(60)\n",
    "                    funs.update(next(new_funs_iter))\n",
    "                    signal.alarm(0)\n",
    "                except KeyboardInterrupt:\n",
    "                    signal.alarm(0)\n",
    "                    print(\"Keyboard interrupt. Terminating pool\")\n",
    "                    p.terminate()\n",
    "                    p = Pool(NUMWORKERS)\n",
    "                    break\n",
    "                except StopIteration:\n",
    "                    break\n",
    "                except Exception as e:\n",
    "                    print(e)\n",
    "\n",
    "            signal.alarm(0)\n",
    "\n",
    "            PARSERS = [make_parser() for _ in range(NUMWORKERS)]\n",
    "\n",
    "            print(\n",
    "                f\"Done processing chunk {i // CHUNK_SIZE}. Got {len(funs) - len_before} new functions\")\n",
    "\n",
    "            chunk = []\n",
    "    except Exception as e:\n",
    "        print(e)\n",
    "        chunk = []\n",
    "\n",
    "    if i == total_len - 1:\n",
    "        break\n",
    "\n",
    "\n",
    "p.close()\n",
    "new_ds_dict = {\n",
    "    \"content\": list(funs),\n",
    "    \"id\": list(range(len(funs)))\n",
    "}\n",
    "\n",
    "new_ds = datasets.Dataset.from_dict(new_ds_dict)"
   ]
  },
  {
   "cell_type": "code",
   "execution_count": 35,
   "id": "d99d75d7-bac9-4f47-bb2c-a5773f46ea18",
   "metadata": {},
   "outputs": [],
   "source": [
    "ds = new_ds"
   ]
  },
  {
   "cell_type": "code",
   "execution_count": 36,
   "id": "720c8fa5-2fe1-495a-842a-f32eaca53cc9",
   "metadata": {},
   "outputs": [
    {
     "data": {
      "text/plain": [
       "Dataset({\n",
       "    features: ['content', 'id'],\n",
       "    num_rows: 397062\n",
       "})"
      ]
     },
     "execution_count": 36,
     "metadata": {},
     "output_type": "execute_result"
    }
   ],
   "source": [
    "ds"
   ]
  },
  {
   "cell_type": "markdown",
   "id": "1afa60b0-bf47-4b30-93e2-2ee8a71958bf",
   "metadata": {},
   "source": [
    "### SEED GATHERING HIGH-QUALITY SUBSET"
   ]
  },
  {
   "cell_type": "code",
   "execution_count": 63,
   "id": "bb1fe7e6-04d4-49c6-b19f-3ebf3d7642e4",
   "metadata": {
    "jupyter": {
     "source_hidden": true
    }
   },
   "outputs": [],
   "source": [
    "import subprocess\n",
    "import tempfile\n",
    "import signal\n",
    "import hashlib\n",
    "import os\n",
    "import argparse\n",
    "from typing import List, Dict\n",
    "from tqdm import tqdm\n",
    "from tree_sitter_parser import LANGUAGE, global_parser\n",
    "\n",
    "RETURN_QUERY = LANGUAGE.query(\"\"\"\n",
    "(return_statement) @return\n",
    "\"\"\")\n",
    "\n",
    "def does_have_return(src):\n",
    "    tree = global_parser.parse(bytes(src, \"utf8\"))\n",
    "    root = tree.root_node\n",
    "    captures = RETURN_QUERY.captures(root)\n",
    "    for node, _ in captures:\n",
    "        # if it doesn't have an argument, it's not a return with a value\n",
    "        if len(node.children) <= 1:  # includes \"return\" itself\n",
    "            continue\n",
    "        else:\n",
    "            return True\n",
    "    return False\n",
    "\n",
    "# runs mypy in the given directory, returns stdout\n",
    "# then, it logs the number of errors for each file\n",
    "def run_mypy(d):\n",
    "    try:\n",
    "        outs = subprocess.run(\n",
    "            [\"mypy\", \".\"],\n",
    "            cwd=d,\n",
    "            capture_output=True,\n",
    "            timeout=120,\n",
    "            text=True,\n",
    "        ).stdout\n",
    "    except Exception as e:\n",
    "        print(e)\n",
    "        return None\n",
    "\n",
    "    filemap = {}\n",
    "    lines = outs.split(\"\\n\")\n",
    "    for line in lines:\n",
    "        if line.strip():\n",
    "            parts = line.split(\":\")\n",
    "            if len(parts) >= 2:\n",
    "                file = parts[0].split(\"/\")[-1]\n",
    "                if file not in filemap:\n",
    "                    filemap[file] = 0\n",
    "                if \"error:\" in line:\n",
    "                    filemap[file] += 1\n",
    "\n",
    "    return filemap\n",
    "\n",
    "def typecheck_batch(files: List[str]) -> Dict[str, str]:\n",
    "    # Create a temporary directory using the tempfile module\n",
    "    filemap: Dict[str, str] = {}\n",
    "    with tempfile.TemporaryDirectory() as tempdir:\n",
    "        for contents in files:\n",
    "            hash_object = hashlib.sha1(bytes(contents, \"utf8\"))\n",
    "            hex_dig = hash_object.hexdigest()\n",
    "            filemap[hex_dig] = contents\n",
    "            name = os.path.join(tempdir, hex_dig + \".py\")\n",
    "            with open(name, \"w\") as f:\n",
    "                f.write(contents)\n",
    "\n",
    "        # Run mypy in the temporary directory\n",
    "        typecheck_map = run_mypy(tempdir)\n",
    "        print(typecheck_map)\n",
    "\n",
    "        if typecheck_map is None:\n",
    "            return {}\n",
    "\n",
    "        for contents, errors in typecheck_map.items():\n",
    "            no_py = contents.replace(\".py\", \"\")\n",
    "            if errors == 0:\n",
    "                continue\n",
    "            if no_py in filemap:\n",
    "                del filemap[no_py]\n",
    "\n",
    "        print(f\"Pass rate: {len(filemap)}/{len(files)}\")\n",
    "        return filemap\n",
    "\n",
    "def infer_imports(code: str) -> str:\n",
    "    import autoimport\n",
    "    try:\n",
    "        def handler(signum, frame):\n",
    "            raise Exception(\"Timeout\")\n",
    "        signal.signal(signal.SIGALRM, handler)\n",
    "        signal.alarm(10)\n",
    "        inferred = autoimport.fix_code(code)\n",
    "        signal.alarm(0)\n",
    "        return inferred\n",
    "    except Exception as e:\n",
    "        signal.alarm(0)\n",
    "        print(f\"Error while inferring imports: {e}\")\n",
    "        return code"
   ]
  },
  {
   "cell_type": "code",
   "execution_count": 37,
   "id": "a5889ead-f07b-460e-8798-37df9b0c8257",
   "metadata": {},
   "outputs": [
    {
     "name": "stderr",
     "output_type": "stream",
     "text": [
      "Parameter 'function'=<function <lambda> at 0x7ffdd53609d0> of the transform datasets.arrow_dataset.Dataset.filter@2.0.1 couldn't be hashed properly, a random hash was used instead. Make sure your transforms and parameters are serializable with pickle or dill for the dataset fingerprinting and caching to work. If you reuse this transform, the caching mechanism will consider it to be different from the previous calls and recompute everything. This warning is only showed once. Subsequent hashing failures won't be showed.\n"
     ]
    },
    {
     "name": "stdout",
     "output_type": "stream",
     "text": [
      "Filtering to only functions with return statements\n"
     ]
    },
    {
     "data": {
      "application/vnd.jupyter.widget-view+json": {
       "model_id": "153f46c976e447888cd4f83ee85af8a0",
       "version_major": 2,
       "version_minor": 0
      },
      "text/plain": [
       "Filter (num_proc=128):   0%|          | 0/397062 [00:00<?, ? examples/s]"
      ]
     },
     "metadata": {},
     "output_type": "display_data"
    }
   ],
   "source": [
    "print(\"Filtering to only functions with return statements\")\n",
    "ds = ds.filter(lambda ex: does_have_return(\n",
    "    ex[\"content\"]), num_proc=os.cpu_count())\n"
   ]
  },
  {
   "cell_type": "code",
   "execution_count": 42,
   "id": "36d780ab-b991-46e4-b542-8b8802734c87",
   "metadata": {},
   "outputs": [
    {
     "data": {
      "text/plain": [
       "Dataset({\n",
       "    features: ['content', 'id'],\n",
       "    num_rows: 279231\n",
       "})"
      ]
     },
     "execution_count": 42,
     "metadata": {},
     "output_type": "execute_result"
    }
   ],
   "source": [
    "ds"
   ]
  },
  {
   "cell_type": "code",
   "execution_count": 56,
   "id": "8db3fd22-9743-45e8-b17a-2195a5119c79",
   "metadata": {},
   "outputs": [],
   "source": [
    "# if args.infer_imports:\n",
    "#     print(\"Inferring imports for functions\")\n",
    "#     ds = ds.map(lambda ex: {\"content\": infer_imports(\n",
    "#         ex[\"content\"])}, num_proc=os.cpu_count())\n",
    "\n",
    "batch = []\n",
    "max_i = len(ds) - 1\n",
    "\n",
    "new_ds = {\n",
    "    \"content\": [],\n",
    "    \"sha1\": [],\n",
    "    \"id\": [],\n",
    "}\n",
    "\n",
    "e_id = 0\n",
    "\n",
    "for i, ex in enumerate(tqdm(ds, total=len(ds))):\n",
    "    try:\n",
    "        code = ex[\"content\"]\n",
    "\n",
    "        batch.append(code)\n",
    "\n",
    "        if len(batch) == 250 or i == max_i:\n",
    "            filemap = typecheck_batch(batch)\n",
    "            for sha1, contents in filemap.items():\n",
    "                new_ds[\"content\"].append(contents)\n",
    "                new_ds[\"sha1\"].append(sha1)\n",
    "                new_ds[\"id\"].append(e_id)\n",
    "                e_id += 1\n",
    "            batch = []\n",
    "            \n",
    "    except Exception as e:\n",
    "        print(f\"There was an error: {e}\")\n",
    "        continue\n",
    "\n",
    "new_ds_hf = datasets.Dataset.from_dict(new_ds)"
   ]
  },
  {
   "cell_type": "code",
   "execution_count": null,
   "id": "39c04146-d49d-4cfd-83f9-0aa270ea3ef8",
   "metadata": {},
   "outputs": [],
   "source": []
  },
  {
   "cell_type": "code",
   "execution_count": null,
   "id": "32d692b2-f8be-48d9-9e75-b07ee1c422f2",
   "metadata": {},
   "outputs": [],
   "source": []
  },
  {
   "cell_type": "code",
   "execution_count": 61,
   "id": "32e7cfd7-af58-4f7e-b88a-616014b4f866",
   "metadata": {},
   "outputs": [
    {
     "name": "stdout",
     "output_type": "stream",
     "text": [
      "def gibberish(*args):\n",
      "    \"\"\"Concatenate strings in *args together.\"\"\"\n",
      "    \n",
      "    # Initialize an empty string: hodgepodge\n",
      "    hodgepodge = ''\n",
      "\n",
      "    # Concatenate the strings in args\n",
      "    for word in args:\n",
      "        hodgepodge += word\n",
      "\n",
      "    # Return hodgepodge\n",
      "    return(hodgepodge)\n"
     ]
    }
   ],
   "source": [
    "print(new_ds_hf['content'][0])"
   ]
  },
  {
   "cell_type": "code",
   "execution_count": 64,
   "id": "418df388-25a5-460d-825b-c95ede49b43c",
   "metadata": {},
   "outputs": [],
   "source": [
    "save_dir = \"../datasets/seed2\""
   ]
  },
  {
   "cell_type": "code",
   "execution_count": 65,
   "id": "7673ee98-d98e-4766-931c-2a921293fec0",
   "metadata": {},
   "outputs": [
    {
     "data": {
      "application/vnd.jupyter.widget-view+json": {
       "model_id": "fef9a07426014f398a435979e7680ff5",
       "version_major": 2,
       "version_minor": 0
      },
      "text/plain": [
       "Saving the dataset (0/1 shards):   0%|          | 0/278081 [00:00<?, ? examples/s]"
      ]
     },
     "metadata": {},
     "output_type": "display_data"
    }
   ],
   "source": [
    "new_ds_hf.save_to_disk(save_dir)"
   ]
  },
  {
   "cell_type": "code",
   "execution_count": null,
   "id": "f1e6a4e5-2734-4602-80c9-5391521b391e",
   "metadata": {},
   "outputs": [],
   "source": []
  },
  {
   "cell_type": "markdown",
   "id": "53c67802-a173-4df2-b661-234745f0bfdf",
   "metadata": {},
   "source": [
    "### SEED GATHERING FILTER DATASET"
   ]
  },
  {
   "cell_type": "code",
   "execution_count": 66,
   "id": "01086352-e230-4267-9b7b-feab665f681a",
   "metadata": {},
   "outputs": [],
   "source": [
    "import datasets\n",
    "import os\n",
    "from tree_sitter_parser import global_parser, LANGUAGE, does_have_return, make_parser\n",
    "import benchmark_data\n",
    "from tqdm import tqdm\n",
    "import torch\n",
    "import argparse\n",
    "from vllm import LLM, SamplingParams\n",
    "import random"
   ]
  },
  {
   "cell_type": "code",
   "execution_count": 67,
   "id": "4adfc94c-0964-4eaa-9e9c-7749bb4cf952",
   "metadata": {},
   "outputs": [],
   "source": [
    "FN_BLOCK_QUERY = LANGUAGE.query(\"\"\"\n",
    "(function_definition\n",
    "  body: (block) @fn-block)\n",
    "\"\"\")\n",
    "\n",
    "\n",
    "def template_few_shot(code, answer, rationale):\n",
    "    doc, code = py_extract_docstring(code)\n",
    "    assert answer == \"No\" or answer == \"Yes\"\n",
    "    prompt = f\"\"\"<issue_start>username_0: I have a function in Python and I'd like someone to check my description of this function.\n",
    "I'm doing this so that I can write a good docstring for this function.\n",
    "\n",
    "Here is the code for the function:\n",
    "```py\n",
    "{code}\n",
    "```\n",
    "\n",
    "Here is my description of this program:\n",
    "```\n",
    "{doc}\n",
    "```\n",
    "\n",
    "Do not attempt to execute the function or to judge its correctness.\n",
    "Answer with \"Yes\" or \"No\" depending on if my description has enough information alone to re-implement the function.\n",
    "Also, answer with \"No\" if the description does not match the function.<issue_comment>username_1: Sure, no problem. I will be able to help.\n",
    "My answer is: {answer}\n",
    "\n",
    "{rationale}\n",
    "\n",
    "Upvotes: 200\"\"\"\n",
    "    return prompt\n",
    "\n",
    "\n",
    "FEW_SHOTS = [\n",
    "    (\n",
    "        '''def simple_scan_network():\n",
    "    \"\"\"\n",
    "    Do a simple network scan, which only works if your network configuration\n",
    "    is 192.168.1.x\n",
    "    \"\"\"\n",
    "    base_ip = \"192.168.1.\"\n",
    "    addresses = ['127.0.0.1']\n",
    "\n",
    "    for index in range(1, 255):\n",
    "        addresses.extend([base_ip + str(index)])\n",
    "\n",
    "    return addresses''',\n",
    "        \"No\",\n",
    "        \"The simple_scan_network function you have provided seems to generate addresses that then would be used for a network scan, but does not actually perform it, unlike the function claims.\",\n",
    "    ),\n",
    "    (\n",
    "        '''import pandas\n",
    "\n",
    "\n",
    "def coerce_integer(df):\n",
    "    \"\"\"\n",
    "    Loop through the columns of a df, if it is numeric,\n",
    "    convert it to integer and fill nans with zeros.\n",
    "    This is somewhat heavy-handed in an attempt to force\n",
    "    Esri to recognize sparse columns as integers.\n",
    "    \"\"\"\n",
    "    # Numeric columns to not coerce to integer\n",
    "    EXCEPT = [\"latitude\", \"longitude\", \"zipCode\"]\n",
    "\n",
    "    def numeric_column_to_int(series):\n",
    "        return (\n",
    "            series.fillna(0).astype(int)\n",
    "            if pandas.api.types.is_numeric_dtype(series) and series.name not in EXCEPT\n",
    "            else series\n",
    "        )\n",
    "\n",
    "    return df.transform(numeric_column_to_int, axis=0)''',\n",
    "        \"Yes\",\n",
    "        \"The docstring does seem to match the implementation! The function loops through the columns of a df and coerces it as explained.\",\n",
    "    ),\n",
    "    ('''def __trans_df_into_dict(data):\n",
    "    \"\"\"Converte DataFrame to dictionary.\n",
    "\n",
    "    Args:\n",
    "        data (pandas.DataFrame): DataFrame.\n",
    "\n",
    "    Returns:\n",
    "        dict: Name dictionary.\n",
    "    \"\"\"\n",
    "    data[\"en_name\"] = data[\"en_name\"].str.upper()\n",
    "    data[\"en_name_f\"] = data[\"en_name\"].str.split(\" \", expand=True)[0]\n",
    "    data[\"en_name_l\"] = data[\"en_name\"].str.split(\" \", expand=True)[1]\n",
    "    data[\"jp_name_f\"] = data[\"jp_name\"].str.split(\"・\", expand=True)[0]\n",
    "    data[\"jp_name_l\"] = data[\"jp_name\"].str.split(\"・\", expand=True)[1]\n",
    "    fullname_dict = dict(zip(data[\"en_name\"], data[\"jp_name\"]))\n",
    "    fname_dict = dict(zip(data[\"en_name_f\"], data[\"jp_name_f\"]))\n",
    "    lname_dict = dict(zip(data[\"en_name_l\"], data[\"jp_name_l\"]))\n",
    "    return fullname_dict, fname_dict, lname_dict''',\n",
    "     \"No\",\n",
    "     \"The function__trans_df_into_dict  does indeed convert a dataframe into a dictionary, however, it converts various columns that were not described in the docstring.\\nFor instance, nowhere in the docstring it mentions handling japanese characters or the name of the column.\",\n",
    "     ),\n",
    "    (\n",
    "        '''def inchesToMeters(inches):\n",
    "    \"\"\"Convert inches to meters.\"\"\"\n",
    "    return inches * 0.0254''',\n",
    "        \"Yes\",\n",
    "        \"inchesToMeters is a very simple function, the doccstring explains concisely its purpose, which is of converting inches to meters.\",\n",
    "    ),\n",
    "    ('''def square_crop(im, target_size=None):\n",
    "  \"\"\" Crop image to `target_size`. If that's None the image is squared\n",
    "  to the smallest size\n",
    "  \"\"\"\n",
    "\n",
    "  w = im.size[0]\n",
    "  h = im.size[1]\n",
    "\n",
    "  target_size = target_size if target_size else min(w, h)\n",
    "\n",
    "  dx = (w - target_size) / 2\n",
    "  dy = (h - target_size) / 2\n",
    "\n",
    "  return im.crop((dx, dy, dx + target_size, dy + target_size))''',\n",
    "     \"Yes\",\n",
    "     \"Following the standard description for docstrings for functions and methods, the square_crop function description tells exactly what the function does.\"\n",
    "     ),\n",
    "    ('''def _setup_motifs_files(args):\n",
    "    \"\"\"convenience fn, make sure setup is same across\n",
    "    multiplicity/orientation/spacing workflows\n",
    "    \"\"\"\n",
    "    motifs_files = {}\n",
    "    motifs_files[\"early\"] = \"{}/{}/ggr.scanmotifs.h5\".format(\n",
    "        args.inputs[\"inference\"][args.cluster][\"scanmotifs_dir\"],\n",
    "        args.inputs[\"inference\"][args.cluster][\"scanmotifs_early_dir\"])\n",
    "    motifs_files[\"mid\"] = \"{}/{}/ggr.scanmotifs.h5\".format(\n",
    "        args.inputs[\"inference\"][args.cluster][\"scanmotifs_dir\"],\n",
    "        args.inputs[\"inference\"][args.cluster][\"scanmotifs_mid_dir\"])\n",
    "    motifs_files[\"late\"] = \"{}/{}/ggr.scanmotifs.h5\".format(\n",
    "        args.inputs[\"inference\"][args.cluster][\"scanmotifs_dir\"],\n",
    "        args.inputs[\"inference\"][args.cluster][\"scanmotifs_late_dir\"])\n",
    "\n",
    "    return motifs_files''',\n",
    "     \"No\",\n",
    "     \"The docstring for _setup_motifs_files just says this is a convenience function. There is definitely not enough information to re-implement this function from the docstring alone.\",\n",
    "     ),\n",
    "    ('''def trip(u, v):\n",
    "    \"\"\"\n",
    "    Returns the scalar triple product of vectors u and v and z axis.\n",
    "    The convention is z dot (u cross v). Dotting with the z axis simplifies\n",
    "    it to the z component of the u cross v\n",
    "    The product is:\n",
    "        positive if v is to the left of u, that is,\n",
    "          the shortest right hand rotation from u to v is ccw\n",
    "        negative if v is to the right of u, that is,\n",
    "          the shortest right hand rotation from u to v is cw\n",
    "        zero if v is colinear with u\n",
    "    Essentially trip is the z component of the cross product of u x v\n",
    "    \"\"\"\n",
    "    return (u[0] * v[1] - u[1] * v[0])''',\n",
    "     \"Yes\",\n",
    "     \"The docstring for the trip function is very detailed and describes the function's purpose and the mathematical formula used to calculate the scalar triple product.\",\n",
    "     )\n",
    "]\n",
    "\n",
    "\n",
    "def prompt_fmt(code):\n",
    "    doc, code = py_extract_docstring(code)\n",
    "    random.shuffle(FEW_SHOTS)\n",
    "    buf = \"\"\n",
    "    for few in FEW_SHOTS:\n",
    "        buf += template_few_shot(*few)\n",
    "    buf += f\"\"\"<issue_start>username_0: I have a function in Python and I'd like someone to check my description of this function.\n",
    "I'm doing this so that I can write a good docstring for this function.\n",
    "\n",
    "Here is the code for the function:\n",
    "```py\n",
    "{code}\n",
    "```\n",
    "\n",
    "Here is my description of this program:\n",
    "```\n",
    "{doc}\n",
    "```\n",
    "\n",
    "Do not attempt to execute the function or to judge its correctness.\n",
    "Answer with \"Yes\" or \"No\" depending on if my description has enough information alone to re-implement the function.\n",
    "Also, answer with \"No\" if the description does not match the function.\n",
    "Upvotes: 100<issue_comment>username_1: Sure, no problem. I will be able to help.\n",
    "My answer is:\"\"\"\n",
    "    return buf\n",
    "\n",
    "\n",
    "def auto_dtype():\n",
    "    if torch.cuda.is_bf16_supported():\n",
    "        return \"bfloat16\"\n",
    "    return \"auto\"\n",
    "\n",
    "\n",
    "def chunkify(lst, n):\n",
    "    chunks = []\n",
    "    for i in range(0, len(lst), n):\n",
    "        chunk = []\n",
    "        for j in range(n):\n",
    "            if i + j < len(lst):\n",
    "                chunk.append(lst[i + j])\n",
    "        chunks.append(chunk)\n",
    "    return chunks\n"
   ]
  },
  {
   "cell_type": "code",
   "execution_count": 71,
   "id": "cbcfa4b2-d3bb-4560-9578-8ce15d4d68de",
   "metadata": {},
   "outputs": [],
   "source": [
    "dataset = new_ds_hf"
   ]
  },
  {
   "cell_type": "code",
   "execution_count": null,
   "id": "d0992371-9ad5-4ad9-8aaa-d74b25eb4da0",
   "metadata": {
    "scrolled": true
   },
   "outputs": [],
   "source": [
    "print(f\"Loaded {len(dataset)} examples. Running pre-filtering...\")\n",
    "\n",
    "BAD_WORDS = [\"todo\", \"fixme\", \"bug\"]\n",
    "BAD_IMPORTS = [\"argparse\", \"os\", \"subprocess\", \"sys\", \"setuptools\",\n",
    "               \"distutils\", \"matplotlib\", \"seaborn\"]\n",
    "BAD_IMPORTS = [f\"import {b}\" for b in BAD_IMPORTS] + \\\n",
    "    [f\"from {b}\" for b in BAD_IMPORTS]\n",
    "BAD_SUBSTRINGS = BAD_WORDS + BAD_IMPORTS\n",
    "\n",
    "bench_filter = benchmark_data.filter_out()\n",
    "all_bench = bench_filter[\"human_eval_docstrings\"] + \\\n",
    "    bench_filter[\"human_eval_solutions\"] + \\\n",
    "    bench_filter[\"mbpp_docstrings\"] + \\\n",
    "    bench_filter[\"mbpp_solutions\"]"
   ]
  },
  {
   "cell_type": "code",
   "execution_count": 74,
   "id": "1af077da-feac-4358-8702-e3c06927f0bf",
   "metadata": {},
   "outputs": [
    {
     "data": {
      "application/vnd.jupyter.widget-view+json": {
       "model_id": "91980cb594b64a6c8db62ca2d2efa5a2",
       "version_major": 2,
       "version_minor": 0
      },
      "text/plain": [
       "Filter (num_proc=127):   0%|          | 0/278081 [00:00<?, ? examples/s]"
      ]
     },
     "metadata": {},
     "output_type": "display_data"
    }
   ],
   "source": [
    "def pre_filtering(ex):\n",
    "    code = ex[\"content\"]\n",
    "    code_bytes = code.encode('utf-8')\n",
    "\n",
    "    # filter out bad substrings\n",
    "    lower = code.lower()\n",
    "    for word in BAD_SUBSTRINGS:\n",
    "        if word in lower:\n",
    "            return False\n",
    "\n",
    "    for b in all_bench:\n",
    "        if b in code:  # contaminated sample!\n",
    "            return False\n",
    "\n",
    "    # too many lines of code -- say 150\n",
    "    lines = code.split(\"\\n\")\n",
    "    if len(lines) > 150:\n",
    "        return False\n",
    "\n",
    "    # filter functions which don't have an argument\n",
    "    # 1. find first def statement in lines\n",
    "    # 2. check if contains ():\n",
    "    for line in lines:\n",
    "        if line.startswith(\"def \") and \"():\" in line:\n",
    "            return False\n",
    "\n",
    "    # filter out functions with no return statement\n",
    "    parser = make_parser()\n",
    "    if not does_have_return(code, parser=parser):\n",
    "        return False\n",
    "\n",
    "    try:\n",
    "        tree = global_parser.parse(code_bytes)\n",
    "        block, _ = FN_BLOCK_QUERY.captures(tree.root_node)[0]\n",
    "\n",
    "        # get the docstring, filter if not a docstring\n",
    "        exp = block.children[0]\n",
    "        if not exp.type == 'expression_statement' and not exp.children[0].type == 'string':\n",
    "            return False\n",
    "\n",
    "        docstring = exp.children[0]\n",
    "        docstring_text = docstring.text.decode('utf-8')\n",
    "        if not docstring_text.startswith('\"\"\"') and not docstring_text.endswith('\"\"\"'):\n",
    "            return False\n",
    "    except Exception as e:\n",
    "        print(f\"Error in filtering: {e}\")\n",
    "        return False\n",
    "\n",
    "    return True  # all good!\n",
    "\n",
    "\n",
    "threads = os.cpu_count() - 1  # type: ignore\n",
    "dataset = dataset.filter(pre_filtering, num_proc=threads)"
   ]
  },
  {
   "cell_type": "code",
   "execution_count": 75,
   "id": "ff87dd56-0118-4c02-a46e-777191048250",
   "metadata": {},
   "outputs": [
    {
     "data": {
      "text/plain": [
       "Dataset({\n",
       "    features: ['content', 'sha1', 'id'],\n",
       "    num_rows: 236926\n",
       "})"
      ]
     },
     "execution_count": 75,
     "metadata": {},
     "output_type": "execute_result"
    }
   ],
   "source": [
    "dataset"
   ]
  },
  {
   "cell_type": "code",
   "execution_count": null,
   "id": "0b9fe5b8-dbd1-4d93-96ca-46186b36bbb1",
   "metadata": {},
   "outputs": [],
   "source": []
  },
  {
   "cell_type": "code",
   "execution_count": 76,
   "id": "5d9bb5f5-d5d8-468f-923e-8e8c94b99e75",
   "metadata": {},
   "outputs": [
    {
     "name": "stdout",
     "output_type": "stream",
     "text": [
      "INFO 10-11 13:21:28 config.py:1430] Downcasting torch.float32 to torch.bfloat16.\n",
      "INFO 10-11 13:21:28 llm_engine.py:176] Initializing an LLM engine (v0.5.3) with config: model='../../../StarCoder', speculative_config=None, tokenizer='../../../StarCoder', skip_tokenizer_init=False, tokenizer_mode=auto, revision=None, rope_scaling=None, rope_theta=None, tokenizer_revision=None, trust_remote_code=False, dtype=torch.bfloat16, max_seq_len=16384, download_dir=None, load_format=LoadFormat.AUTO, tensor_parallel_size=1, pipeline_parallel_size=1, disable_custom_all_reduce=False, quantization=None, enforce_eager=False, kv_cache_dtype=auto, quantization_param_path=None, device_config=cuda, decoding_config=DecodingConfig(guided_decoding_backend='outlines'), observability_config=ObservabilityConfig(otlp_traces_endpoint=None), seed=0, served_model_name=../../../StarCoder, use_v2_block_manager=False, enable_prefix_caching=False)\n",
      "INFO 10-11 13:21:30 selector.py:170] Cannot use FlashAttention-2 backend due to sliding window.\n",
      "INFO 10-11 13:21:30 selector.py:54] Using XFormers backend.\n",
      "INFO 10-11 13:22:23 model_runner.py:680] Starting to load model ../../../StarCoder...\n",
      "INFO 10-11 13:22:27 selector.py:170] Cannot use FlashAttention-2 backend due to sliding window.\n",
      "INFO 10-11 13:22:27 selector.py:54] Using XFormers backend.\n"
     ]
    },
    {
     "data": {
      "application/vnd.jupyter.widget-view+json": {
       "model_id": "90846825eb634dcd9ba6cde2f924bf08",
       "version_major": 2,
       "version_minor": 0
      },
      "text/plain": [
       "Loading safetensors checkpoint shards:   0% Completed | 0/14 [00:00<?, ?it/s]\n"
      ]
     },
     "metadata": {},
     "output_type": "display_data"
    },
    {
     "name": "stdout",
     "output_type": "stream",
     "text": [
      "INFO 10-11 13:27:56 model_runner.py:692] Loading model weights took 29.7278 GB\n",
      "INFO 10-11 13:28:08 gpu_executor.py:102] # GPU blocks: 35262, # CPU blocks: 3276\n",
      "INFO 10-11 13:28:10 model_runner.py:980] Capturing the model for CUDA graphs. This may lead to unexpected consequences if the model is not static. To run the model in eager mode, set 'enforce_eager=True' or use '--enforce-eager' in the CLI.\n",
      "INFO 10-11 13:28:10 model_runner.py:984] CUDA graphs can take additional 1~3 GiB memory per GPU. If you are running out of memory, consider decreasing `gpu_memory_utilization` or enforcing eager mode. You can also reduce the `max_num_seqs` as needed to decrease memory usage.\n",
      "INFO 10-11 13:28:32 model_runner.py:1181] Graph capturing finished in 23 secs.\n"
     ]
    }
   ],
   "source": [
    "model = LLM(f\"../../../StarCoder\", dtype=auto_dtype(),\n",
    "            gpu_memory_utilization=0.95, tensor_parallel_size=1)\n"
   ]
  },
  {
   "cell_type": "code",
   "execution_count": 77,
   "id": "8caba169-b4ca-49f7-9912-b163e0a08deb",
   "metadata": {},
   "outputs": [],
   "source": [
    "tokenizer = model.get_tokenizer()"
   ]
  },
  {
   "cell_type": "code",
   "execution_count": 78,
   "id": "3188670a-403c-4e47-b230-22a3896fe9e5",
   "metadata": {},
   "outputs": [
    {
     "name": "stdout",
     "output_type": "stream",
     "text": [
      "Now running stage 3 filtering on 236926 examples...\n"
     ]
    }
   ],
   "source": [
    "print(f\"Now running stage 3 filtering on {len(dataset)} examples...\")"
   ]
  },
  {
   "cell_type": "code",
   "execution_count": 79,
   "id": "f87ecf24-2e5a-4201-ba6c-cfcae19a9e65",
   "metadata": {},
   "outputs": [],
   "source": [
    "def unindent(s):\n",
    "    lines = s.splitlines()\n",
    "    non_blank_lines = [line for line in lines if line.strip()]\n",
    "    min_indent = min(len(line) - len(line.lstrip())\n",
    "                     for line in non_blank_lines) if non_blank_lines else 0\n",
    "    unindented_lines = [line[min_indent:] if len(\n",
    "        line) >= min_indent else line for line in lines]\n",
    "    return '\\n'.join(unindented_lines)\n",
    "\n",
    "\n",
    "def py_extract_docstring(code):\n",
    "    first_doc = code.find('\"\"\"')\n",
    "    assert first_doc != -1\n",
    "    first_doc = first_doc + 3\n",
    "    second_doc = code[first_doc+1:].find('\"\"\"')\n",
    "    assert second_doc != -1\n",
    "    second_doc = second_doc + first_doc + 1\n",
    "    doc = code[first_doc:second_doc]\n",
    "    doc = unindent(doc).strip()\n",
    "    code = code[:first_doc-3] + code[second_doc+3:]\n",
    "    return doc, code\n",
    "\n"
   ]
  },
  {
   "cell_type": "code",
   "execution_count": 80,
   "id": "c7c13f00-6712-413d-a039-5964f3e7c45f",
   "metadata": {},
   "outputs": [
    {
     "name": "stdout",
     "output_type": "stream",
     "text": [
      "Few-shot prompt has 2573 tokens\n"
     ]
    }
   ],
   "source": [
    "dummy = 'def dummy(): \\n    \"\"\"\\n    \"\"\"\\n pass'\n",
    "dummy_prompt = prompt_fmt(dummy)\n",
    "few_shot_toks = len(tokenizer.encode(\n",
    "    dummy_prompt)) - len(tokenizer.encode(dummy))\n",
    "print(f\"Few-shot prompt has {few_shot_toks} tokens\")"
   ]
  },
  {
   "cell_type": "code",
   "execution_count": null,
   "id": "624a4e6e-e67a-4207-9c74-9e2674946387",
   "metadata": {
    "collapsed": true,
    "jupyter": {
     "outputs_hidden": true
    },
    "scrolled": true
   },
   "outputs": [
    {
     "name": "stderr",
     "output_type": "stream",
     "text": [
      "Generating prompts:  15%|██████████████████████▉                                                                                                                                  | 35479/236926 [00:21<02:06, 1588.67it/s]"
     ]
    },
    {
     "name": "stdout",
     "output_type": "stream",
     "text": [
      "Skipping example with 29237 tokens\n"
     ]
    },
    {
     "name": "stderr",
     "output_type": "stream",
     "text": [
      "Generating prompts:  35%|█████████████████████████████████████████████████████▊                                                                                                   | 83335/236926 [00:49<01:36, 1595.44it/s]"
     ]
    },
    {
     "name": "stdout",
     "output_type": "stream",
     "text": [
      "Skipping example with 20286 tokens\n"
     ]
    },
    {
     "name": "stderr",
     "output_type": "stream",
     "text": [
      "Generating prompts: 100%|████████████████████████████████████████████████████████████████████████████████████████████████████████████████████████████████████████████████████████| 236926/236926 [02:22<00:00, 1666.63it/s]\n",
      "Generating responses:   0%|                                                                                                                                                                        | 0/463 [00:00<?, ?it/s]\n",
      "Processed prompts:   0%|                                                                                                                       | 0/512 [00:00<?, ?it/s, est. speed input: 0.00 toks/s, output: 0.00 toks/s]\u001b[A\n",
      "Processed prompts:   0%|▏                                                                                                          | 1/512 [01:10<10:04:01, 70.92s/it, est. speed input: 37.29 toks/s, output: 0.03 toks/s]\u001b[A\n",
      "Processed prompts:  39%|████████████████████████████████████████▉                                                                 | 198/512 [02:22<03:12,  1.63it/s, est. speed input: 3930.46 toks/s, output: 2.78 toks/s]\u001b[A\n",
      "Processed prompts: 100%|██████████████████████████████████████████████████████████████████████████████████████████████████████████| 512/512 [03:04<00:00,  2.78it/s, est. speed input: 7824.25 toks/s, output: 5.56 toks/s]\u001b[A\n",
      "Generating responses:   0%|▎                                                                                                                                                           | 1/463 [03:06<23:56:08, 186.51s/it]\n",
      "Processed prompts:   0%|                                                                                                                       | 0/512 [00:00<?, ?it/s, est. speed input: 0.00 toks/s, output: 0.00 toks/s]\u001b[A\n",
      "Processed prompts:   0%|▏                                                                                                          | 1/512 [01:11<10:04:48, 71.01s/it, est. speed input: 37.33 toks/s, output: 0.03 toks/s]\u001b[A\n",
      "Processed prompts:  39%|█████████████████████████████████████████▍                                                                | 200/512 [02:21<03:08,  1.65it/s, est. speed input: 3930.13 toks/s, output: 2.82 toks/s]\u001b[A\n",
      "Processed prompts: 100%|██████████████████████████████████████████████████████████████████████████████████████████████████████████| 512/512 [03:04<00:00,  2.78it/s, est. speed input: 7824.97 toks/s, output: 5.56 toks/s]\u001b[A\n",
      "Generating responses:   0%|▋                                                                                                                                                           | 2/463 [06:12<23:52:04, 186.39s/it]\n",
      "Processed prompts:   0%|                                                                                                                       | 0/512 [00:00<?, ?it/s, est. speed input: 0.00 toks/s, output: 0.00 toks/s]\u001b[A\n",
      "Processed prompts:   0%|▏                                                                                                          | 1/512 [01:10<10:03:32, 70.87s/it, est. speed input: 42.40 toks/s, output: 0.03 toks/s]\u001b[A\n",
      "Processed prompts:  39%|█████████████████████████████████████████▏                                                                | 199/512 [02:21<03:10,  1.65it/s, est. speed input: 3925.27 toks/s, output: 2.80 toks/s]\u001b[A\n",
      "Processed prompts: 100%|██████████████████████████████████████████████████████████████████████████████████████████████████████████| 512/512 [03:04<00:00,  2.77it/s, est. speed input: 7814.88 toks/s, output: 5.54 toks/s]\u001b[A\n",
      "Generating responses:   1%|█                                                                                                                                                           | 3/463 [09:19<23:51:22, 186.70s/it]\n",
      "Processed prompts:   0%|                                                                                                                       | 0/512 [00:00<?, ?it/s, est. speed input: 0.00 toks/s, output: 0.00 toks/s]\u001b[A\n",
      "Processed prompts:   0%|▏                                                                                                          | 1/512 [01:10<10:04:24, 70.97s/it, est. speed input: 41.33 toks/s, output: 0.03 toks/s]\u001b[A\n",
      "Processed prompts:  38%|████████████████████████████████████████▊                                                                 | 197/512 [02:22<03:13,  1.63it/s, est. speed input: 3921.02 toks/s, output: 2.77 toks/s]\u001b[A\n",
      "Processed prompts: 100%|██████████████████████████████████████████████████████████████████████████████████████████████████████████| 512/512 [03:05<00:00,  2.76it/s, est. speed input: 7813.27 toks/s, output: 5.53 toks/s]\u001b[A\n",
      "Generating responses:   1%|█▎                                                                                                                                                          | 4/463 [12:27<23:52:07, 187.21s/it]\n",
      "Processed prompts:   0%|                                                                                                                       | 0/512 [00:00<?, ?it/s, est. speed input: 0.00 toks/s, output: 0.00 toks/s]\u001b[A\n",
      "Processed prompts:   0%|▏                                                                                                          | 1/512 [01:10<10:03:53, 70.91s/it, est. speed input: 37.20 toks/s, output: 0.03 toks/s]\u001b[A\n",
      "Processed prompts:  39%|█████████████████████████████████████████▏                                                                | 199/512 [02:21<03:09,  1.65it/s, est. speed input: 3935.83 toks/s, output: 2.81 toks/s]\u001b[A\n",
      "Processed prompts: 100%|██████████████████████████████████████████████████████████████████████████████████████████████████████████| 512/512 [03:03<00:00,  2.80it/s, est. speed input: 7830.03 toks/s, output: 5.60 toks/s]\u001b[A\n",
      "Generating responses:   1%|█▋                                                                                                                                                          | 5/463 [15:33<23:43:46, 186.52s/it]\n",
      "Processed prompts:   0%|                                                                                                                       | 0/512 [00:00<?, ?it/s, est. speed input: 0.00 toks/s, output: 0.00 toks/s]\u001b[A\n",
      "Processed prompts:   0%|▏                                                                                                          | 1/512 [01:11<10:08:33, 71.45s/it, est. speed input: 39.05 toks/s, output: 0.03 toks/s]\u001b[A\n",
      "Processed prompts:  39%|█████████████████████████████████████████▏                                                                | 199/512 [02:22<03:10,  1.64it/s, est. speed input: 3936.23 toks/s, output: 2.79 toks/s]\u001b[A\n",
      "Processed prompts: 100%|██████████████████████████████████████████████████████████████████████████████████████████████████████████| 512/512 [03:04<00:00,  2.77it/s, est. speed input: 7813.03 toks/s, output: 5.54 toks/s]\u001b[A\n",
      "Generating responses:   1%|██                                                                                                                                                          | 6/463 [18:40<23:42:13, 186.73s/it]\n",
      "Processed prompts:   0%|                                                                                                                       | 0/512 [00:00<?, ?it/s, est. speed input: 0.00 toks/s, output: 0.00 toks/s]\u001b[A\n",
      "Processed prompts:   0%|▏                                                                                                          | 1/512 [01:11<10:07:43, 71.36s/it, est. speed input: 37.88 toks/s, output: 0.03 toks/s]\u001b[A\n",
      "Processed prompts:  39%|█████████████████████████████████████████▏                                                                | 199/512 [02:22<03:10,  1.64it/s, est. speed input: 3937.51 toks/s, output: 2.79 toks/s]\u001b[A\n",
      "Processed prompts: 100%|██████████████████████████████████████████████████████████████████████████████████████████████████████████| 512/512 [03:04<00:00,  2.77it/s, est. speed input: 7818.00 toks/s, output: 5.54 toks/s]\u001b[A\n",
      "Generating responses:   2%|██▎                                                                                                                                                         | 7/463 [21:47<23:40:20, 186.89s/it]\n",
      "Processed prompts:   0%|                                                                                                                       | 0/512 [00:00<?, ?it/s, est. speed input: 0.00 toks/s, output: 0.00 toks/s]\u001b[A\n",
      "Processed prompts:   0%|▏                                                                                                          | 1/512 [01:10<10:04:35, 70.99s/it, est. speed input: 38.61 toks/s, output: 0.03 toks/s]\u001b[A\n",
      "Processed prompts:  39%|█████████████████████████████████████████▍                                                                | 200/512 [02:22<03:09,  1.65it/s, est. speed input: 3926.13 toks/s, output: 2.81 toks/s]\u001b[A\n",
      "Processed prompts: 100%|██████████████████████████████████████████████████████████████████████████████████████████████████████████| 512/512 [03:03<00:00,  2.78it/s, est. speed input: 7814.20 toks/s, output: 5.57 toks/s]\u001b[A\n",
      "Generating responses:   2%|██▋                                                                                                                                                         | 8/463 [24:53<23:35:34, 186.67s/it]\n",
      "Processed prompts:   0%|                                                                                                                       | 0/512 [00:00<?, ?it/s, est. speed input: 0.00 toks/s, output: 0.00 toks/s]\u001b[A\n",
      "Processed prompts:   0%|▏                                                                                                          | 1/512 [01:11<10:06:15, 71.19s/it, est. speed input: 42.40 toks/s, output: 0.03 toks/s]\u001b[A\n",
      "Processed prompts:  39%|████████████████████████████████████████▉                                                                 | 198/512 [02:21<03:11,  1.64it/s, est. speed input: 3943.63 toks/s, output: 2.79 toks/s]\u001b[A\n",
      "Processed prompts: 100%|██████████████████████████████████████████████████████████████████████████████████████████████████████████| 512/512 [03:04<00:00,  2.78it/s, est. speed input: 7827.27 toks/s, output: 5.56 toks/s]\u001b[A\n",
      "Generating responses:   2%|███                                                                                                                                                         | 9/463 [28:00<23:32:21, 186.65s/it]\n",
      "Processed prompts:   0%|                                                                                                                       | 0/512 [00:00<?, ?it/s, est. speed input: 0.00 toks/s, output: 0.00 toks/s]\u001b[A\n",
      "Processed prompts:   0%|▏                                                                                                          | 1/512 [01:10<10:04:21, 70.96s/it, est. speed input: 37.65 toks/s, output: 0.03 toks/s]\u001b[A\n",
      "Processed prompts:  39%|█████████████████████████████████████████▏                                                                | 199/512 [02:22<03:10,  1.64it/s, est. speed input: 3932.41 toks/s, output: 2.80 toks/s]\u001b[A\n",
      "Processed prompts: 100%|██████████████████████████████████████████████████████████████████████████████████████████████████████████| 512/512 [03:04<00:00,  2.77it/s, est. speed input: 7824.74 toks/s, output: 5.54 toks/s]\u001b[A\n",
      "Generating responses:   2%|███▎                                                                                                                                                       | 10/463 [31:07<23:30:30, 186.82s/it]\n",
      "Processed prompts:   0%|                                                                                                                       | 0/512 [00:00<?, ?it/s, est. speed input: 0.00 toks/s, output: 0.00 toks/s]\u001b[A\n",
      "Processed prompts:   0%|▏                                                                                                          | 1/512 [01:10<10:04:35, 70.99s/it, est. speed input: 42.23 toks/s, output: 0.03 toks/s]\u001b[A\n",
      "Processed prompts:  38%|████████████████████████████████████████▊                                                                 | 197/512 [02:22<03:14,  1.62it/s, est. speed input: 3914.35 toks/s, output: 2.76 toks/s]\u001b[A\n",
      "Processed prompts: 100%|██████████████████████████████████████████████████████████████████████████████████████████████████████████| 512/512 [03:06<00:00,  2.74it/s, est. speed input: 7806.83 toks/s, output: 5.48 toks/s]\u001b[A\n",
      "Generating responses:   2%|███▋                                                                                                                                                       | 11/463 [34:16<23:32:52, 187.55s/it]\n",
      "Processed prompts:   0%|                                                                                                                       | 0/512 [00:00<?, ?it/s, est. speed input: 0.00 toks/s, output: 0.00 toks/s]\u001b[A\n",
      "Processed prompts:   0%|▏                                                                                                          | 1/512 [01:11<10:04:58, 71.03s/it, est. speed input: 37.63 toks/s, output: 0.03 toks/s]\u001b[A\n",
      "Processed prompts:  38%|████████████████████████████████████████▊                                                                 | 197/512 [02:21<03:13,  1.63it/s, est. speed input: 3935.86 toks/s, output: 2.77 toks/s]\u001b[A\n",
      "Processed prompts: 100%|██████████████████████████████████████████████████████████████████████████████████████████████████████████| 512/512 [03:05<00:00,  2.76it/s, est. speed input: 7829.40 toks/s, output: 5.53 toks/s]\u001b[A\n",
      "Generating responses:   3%|████                                                                                                                                                       | 12/463 [37:24<23:30:06, 187.60s/it]\n",
      "Processed prompts:   0%|                                                                                                                       | 0/512 [00:00<?, ?it/s, est. speed input: 0.00 toks/s, output: 0.00 toks/s]\u001b[A\n",
      "Processed prompts:   0%|▏                                                                                                          | 1/512 [01:10<10:03:32, 70.87s/it, est. speed input: 37.58 toks/s, output: 0.03 toks/s]\u001b[A\n",
      "Processed prompts:  39%|█████████████████████████████████████████▏                                                                | 199/512 [02:21<03:09,  1.65it/s, est. speed input: 3933.35 toks/s, output: 2.81 toks/s]\u001b[A\n",
      "Processed prompts: 100%|██████████████████████████████████████████████████████████████████████████████████████████████████████████| 512/512 [03:03<00:00,  2.79it/s, est. speed input: 7828.89 toks/s, output: 5.58 toks/s]\u001b[A\n",
      "Generating responses:   3%|████▎                                                                                                                                                      | 13/463 [40:30<23:22:44, 187.03s/it]\n",
      "Processed prompts:   0%|                                                                                                                       | 0/512 [00:00<?, ?it/s, est. speed input: 0.00 toks/s, output: 0.00 toks/s]\u001b[A\n",
      "Processed prompts:   0%|▏                                                                                                          | 1/512 [01:11<10:05:10, 71.06s/it, est. speed input: 36.89 toks/s, output: 0.03 toks/s]\u001b[A\n",
      "Processed prompts:  39%|█████████████████████████████████████████▍                                                                | 200/512 [02:21<03:08,  1.66it/s, est. speed input: 3941.70 toks/s, output: 2.82 toks/s]\u001b[A\n",
      "Processed prompts: 100%|██████████████████████████████████████████████████████████████████████████████████████████████████████████| 512/512 [03:04<00:00,  2.78it/s, est. speed input: 7827.79 toks/s, output: 5.56 toks/s]\u001b[A\n",
      "Generating responses:   3%|████▋                                                                                                                                                      | 14/463 [43:36<23:18:46, 186.92s/it]\n",
      "Processed prompts:   0%|                                                                                                                       | 0/512 [00:00<?, ?it/s, est. speed input: 0.00 toks/s, output: 0.00 toks/s]\u001b[A\n",
      "Processed prompts:   0%|▏                                                                                                          | 1/512 [01:11<10:05:46, 71.13s/it, est. speed input: 37.10 toks/s, output: 0.03 toks/s]\u001b[A\n",
      "Processed prompts:  39%|████████████████████████████████████████▉                                                                 | 198/512 [02:22<03:12,  1.63it/s, est. speed input: 3919.81 toks/s, output: 2.78 toks/s]\u001b[A\n",
      "Processed prompts: 100%|██████████████████████████████████████████████████████████████████████████████████████████████████████████| 512/512 [03:05<00:00,  2.76it/s, est. speed input: 7815.56 toks/s, output: 5.52 toks/s]\u001b[A\n",
      "Generating responses:   3%|█████                                                                                                                                                      | 15/463 [46:44<23:18:04, 187.24s/it]\n",
      "Processed prompts:   0%|                                                                                                                       | 0/512 [00:00<?, ?it/s, est. speed input: 0.00 toks/s, output: 0.00 toks/s]\u001b[A\n",
      "Processed prompts:   0%|▏                                                                                                          | 1/512 [01:10<10:04:29, 70.98s/it, est. speed input: 37.34 toks/s, output: 0.03 toks/s]\u001b[A\n",
      "Processed prompts:  38%|████████████████████████████████████████▌                                                                 | 196/512 [02:21<03:14,  1.62it/s, est. speed input: 3936.17 toks/s, output: 2.76 toks/s]\u001b[A\n",
      "Processed prompts: 100%|██████████████████████████████████████████████████████████████████████████████████████████████████████████| 512/512 [03:05<00:00,  2.77it/s, est. speed input: 7834.16 toks/s, output: 5.53 toks/s]\u001b[A\n",
      "Generating responses:   3%|█████▎                                                                                                                                                     | 16/463 [49:52<23:15:43, 187.35s/it]\n",
      "Processed prompts:   0%|                                                                                                                       | 0/512 [00:00<?, ?it/s, est. speed input: 0.00 toks/s, output: 0.00 toks/s]\u001b[A\n",
      "Processed prompts:   0%|▏                                                                                                          | 1/512 [01:10<10:04:06, 70.93s/it, est. speed input: 37.68 toks/s, output: 0.03 toks/s]\u001b[A\n",
      "Processed prompts:  39%|████████████████████████████████████████▉                                                                 | 198/512 [02:22<03:12,  1.63it/s, est. speed input: 3930.48 toks/s, output: 2.78 toks/s]\u001b[A\n",
      "Processed prompts: 100%|██████████████████████████████████████████████████████████████████████████████████████████████████████████| 512/512 [03:04<00:00,  2.78it/s, est. speed input: 7839.28 toks/s, output: 5.56 toks/s]\u001b[A\n",
      "Generating responses:   4%|█████▋                                                                                                                                                     | 17/463 [52:59<23:11:07, 187.15s/it]\n",
      "Processed prompts:   0%|                                                                                                                       | 0/512 [00:00<?, ?it/s, est. speed input: 0.00 toks/s, output: 0.00 toks/s]\u001b[A\n",
      "Processed prompts:   0%|▏                                                                                                          | 1/512 [01:10<10:03:06, 70.82s/it, est. speed input: 36.91 toks/s, output: 0.03 toks/s]\u001b[A\n",
      "Processed prompts:  38%|████████████████████████████████████████▊                                                                 | 197/512 [02:21<03:13,  1.63it/s, est. speed input: 3929.15 toks/s, output: 2.78 toks/s]\u001b[A\n",
      "Processed prompts: 100%|██████████████████████████████████████████████████████████████████████████████████████████████████████████| 512/512 [03:04<00:00,  2.77it/s, est. speed input: 7826.77 toks/s, output: 5.54 toks/s]\u001b[A\n",
      "Generating responses:   4%|██████                                                                                                                                                     | 18/463 [56:06<23:08:01, 187.15s/it]\n",
      "Processed prompts:   0%|                                                                                                                       | 0/512 [00:00<?, ?it/s, est. speed input: 0.00 toks/s, output: 0.00 toks/s]\u001b[A\n",
      "Processed prompts:   0%|▏                                                                                                          | 1/512 [01:11<10:06:11, 71.18s/it, est. speed input: 36.92 toks/s, output: 0.03 toks/s]\u001b[A\n",
      "Processed prompts:  39%|████████████████████████████████████████▉                                                                 | 198/512 [02:22<03:11,  1.64it/s, est. speed input: 3939.50 toks/s, output: 2.79 toks/s]\u001b[A\n",
      "Processed prompts: 100%|██████████████████████████████████████████████████████████████████████████████████████████████████████████| 512/512 [03:04<00:00,  2.77it/s, est. speed input: 7837.48 toks/s, output: 5.55 toks/s]\u001b[A\n",
      "Generating responses:   4%|██████▎                                                                                                                                                    | 19/463 [59:13<23:06:00, 187.30s/it]\n",
      "Processed prompts:   0%|                                                                                                                       | 0/512 [00:00<?, ?it/s, est. speed input: 0.00 toks/s, output: 0.00 toks/s]\u001b[A\n",
      "Processed prompts:   0%|▏                                                                                                          | 1/512 [01:11<10:04:52, 71.02s/it, est. speed input: 39.57 toks/s, output: 0.03 toks/s]\u001b[A\n",
      "Processed prompts:  39%|█████████████████████████████████████████▏                                                                | 199/512 [02:22<03:10,  1.65it/s, est. speed input: 3935.99 toks/s, output: 2.80 toks/s]\u001b[A\n",
      "Processed prompts: 100%|██████████████████████████████████████████████████████████████████████████████████████████████████████████| 512/512 [03:03<00:00,  2.78it/s, est. speed input: 7831.19 toks/s, output: 5.57 toks/s]\u001b[A\n",
      "Generating responses:   4%|██████▌                                                                                                                                                  | 20/463 [1:02:20<23:00:38, 187.00s/it]\n",
      "Processed prompts:   0%|                                                                                                                       | 0/512 [00:00<?, ?it/s, est. speed input: 0.00 toks/s, output: 0.00 toks/s]\u001b[A\n",
      "Processed prompts:   0%|▏                                                                                                          | 1/512 [01:10<10:03:36, 70.87s/it, est. speed input: 37.59 toks/s, output: 0.03 toks/s]\u001b[A\n",
      "Processed prompts:  39%|█████████████████████████████████████████▍                                                                | 200/512 [02:21<03:08,  1.66it/s, est. speed input: 3935.19 toks/s, output: 2.82 toks/s]\u001b[A\n",
      "Processed prompts: 100%|██████████████████████████████████████████████████████████████████████████████████████████████████████████| 512/512 [03:03<00:00,  2.79it/s, est. speed input: 7825.25 toks/s, output: 5.58 toks/s]\u001b[A\n",
      "Generating responses:   5%|██████▉                                                                                                                                                  | 21/463 [1:05:26<22:55:13, 186.68s/it]\n",
      "Processed prompts:   0%|                                                                                                                       | 0/512 [00:00<?, ?it/s, est. speed input: 0.00 toks/s, output: 0.00 toks/s]\u001b[A\n",
      "Processed prompts:   0%|▏                                                                                                          | 1/512 [01:10<10:03:34, 70.87s/it, est. speed input: 38.35 toks/s, output: 0.03 toks/s]\u001b[A\n",
      "Processed prompts:  39%|████████████████████████████████████████▉                                                                 | 198/512 [02:21<03:11,  1.64it/s, est. speed input: 3940.36 toks/s, output: 2.80 toks/s]\u001b[A\n",
      "Processed prompts: 100%|██████████████████████████████████████████████████████████████████████████████████████████████████████████| 512/512 [03:03<00:00,  2.79it/s, est. speed input: 7846.52 toks/s, output: 5.59 toks/s]\u001b[A\n",
      "Generating responses:   5%|███████▎                                                                                                                                                 | 22/463 [1:08:31<22:49:51, 186.37s/it]\n",
      "Processed prompts:   0%|                                                                                                                       | 0/512 [00:00<?, ?it/s, est. speed input: 0.00 toks/s, output: 0.00 toks/s]\u001b[A\n",
      "Processed prompts:   0%|▏                                                                                                          | 1/512 [01:10<10:04:37, 70.99s/it, est. speed input: 37.98 toks/s, output: 0.03 toks/s]\u001b[A\n",
      "Processed prompts:  38%|████████████████████████████████████████▊                                                                 | 197/512 [02:22<03:13,  1.63it/s, est. speed input: 3939.45 toks/s, output: 2.77 toks/s]\u001b[A\n",
      "Processed prompts: 100%|██████████████████████████████████████████████████████████████████████████████████████████████████████████| 512/512 [03:04<00:00,  2.77it/s, est. speed input: 7836.49 toks/s, output: 5.55 toks/s]\u001b[A\n",
      "Generating responses:   5%|███████▌                                                                                                                                                 | 23/463 [1:11:38<22:48:18, 186.59s/it]\n",
      "Processed prompts:   0%|                                                                                                                       | 0/512 [00:00<?, ?it/s, est. speed input: 0.00 toks/s, output: 0.00 toks/s]\u001b[A\n",
      "Processed prompts:   0%|▏                                                                                                          | 1/512 [01:11<10:04:57, 71.03s/it, est. speed input: 38.32 toks/s, output: 0.03 toks/s]\u001b[A\n",
      "Processed prompts:  38%|████████████████████████████████████████▎                                                                 | 195/512 [02:22<03:16,  1.61it/s, est. speed input: 3931.01 toks/s, output: 2.74 toks/s]\u001b[A\n",
      "Processed prompts: 100%|██████████████████████████████████████████████████████████████████████████████████████████████████████████| 512/512 [03:05<00:00,  2.76it/s, est. speed input: 7840.37 toks/s, output: 5.51 toks/s]\u001b[A\n",
      "Generating responses:   5%|███████▉                                                                                                                                                 | 24/463 [1:14:47<22:48:44, 187.07s/it]\n",
      "Processed prompts:   0%|                                                                                                                       | 0/512 [00:00<?, ?it/s, est. speed input: 0.00 toks/s, output: 0.00 toks/s]\u001b[A\n",
      "Processed prompts:   0%|▏                                                                                                          | 1/512 [01:10<10:04:08, 70.94s/it, est. speed input: 37.15 toks/s, output: 0.03 toks/s]\u001b[A\n",
      "Processed prompts:  38%|████████████████████████████████████████▌                                                                 | 196/512 [02:21<03:14,  1.63it/s, est. speed input: 3937.12 toks/s, output: 2.77 toks/s]\u001b[A\n",
      "Processed prompts: 100%|██████████████████████████████████████████████████████████████████████████████████████████████████████████| 512/512 [03:03<00:00,  2.79it/s, est. speed input: 7840.00 toks/s, output: 5.58 toks/s]\u001b[A\n",
      "Generating responses:   5%|████████▎                                                                                                                                                | 25/463 [1:17:53<22:43:13, 186.74s/it]\n",
      "Processed prompts:   0%|                                                                                                                       | 0/512 [00:00<?, ?it/s, est. speed input: 0.00 toks/s, output: 0.00 toks/s]\u001b[A\n",
      "Processed prompts:   0%|▏                                                                                                          | 1/512 [01:11<10:05:34, 71.10s/it, est. speed input: 36.99 toks/s, output: 0.03 toks/s]\u001b[A\n",
      "Processed prompts:  38%|████████████████████████████████████████▊                                                                 | 197/512 [02:22<03:13,  1.63it/s, est. speed input: 3938.02 toks/s, output: 2.77 toks/s]\u001b[A\n",
      "Processed prompts: 100%|██████████████████████████████████████████████████████████████████████████████████████████████████████████| 512/512 [03:05<00:00,  2.76it/s, est. speed input: 7822.34 toks/s, output: 5.53 toks/s]\u001b[A\n",
      "Generating responses:   6%|████████▌                                                                                                                                                | 26/463 [1:21:00<22:42:25, 187.06s/it]\n",
      "Processed prompts:   0%|                                                                                                                       | 0/512 [00:00<?, ?it/s, est. speed input: 0.00 toks/s, output: 0.00 toks/s]\u001b[A\n",
      "Processed prompts:   0%|▏                                                                                                          | 1/512 [01:11<10:05:32, 71.10s/it, est. speed input: 39.00 toks/s, output: 0.03 toks/s]\u001b[A\n",
      "Processed prompts:  39%|█████████████████████████████████████████▏                                                                | 199/512 [02:22<03:10,  1.64it/s, est. speed input: 3942.56 toks/s, output: 2.80 toks/s]\u001b[A\n",
      "Processed prompts: 100%|██████████████████████████████████████████████████████████████████████████████████████████████████████████| 512/512 [03:03<00:00,  2.79it/s, est. speed input: 7838.84 toks/s, output: 5.58 toks/s]\u001b[A\n",
      "Generating responses:   6%|████████▉                                                                                                                                                | 27/463 [1:24:07<22:38:15, 186.92s/it]\n",
      "Processed prompts:   0%|                                                                                                                       | 0/512 [00:00<?, ?it/s, est. speed input: 0.00 toks/s, output: 0.00 toks/s]\u001b[A\n",
      "Processed prompts:   0%|▏                                                                                                          | 1/512 [01:11<10:04:56, 71.03s/it, est. speed input: 36.84 toks/s, output: 0.03 toks/s]\u001b[A\n",
      "Processed prompts:  38%|████████████████████████████████████████▊                                                                 | 197/512 [02:22<03:13,  1.63it/s, est. speed input: 3933.93 toks/s, output: 2.77 toks/s]\u001b[A\n",
      "Processed prompts: 100%|██████████████████████████████████████████████████████████████████████████████████████████████████████████| 512/512 [03:04<00:00,  2.77it/s, est. speed input: 7832.41 toks/s, output: 5.54 toks/s]\u001b[A\n",
      "Generating responses:   6%|█████████▎                                                                                                                                               | 28/463 [1:27:14<22:35:38, 186.98s/it]\n",
      "Processed prompts:   0%|                                                                                                                       | 0/512 [00:00<?, ?it/s, est. speed input: 0.00 toks/s, output: 0.00 toks/s]\u001b[A\n",
      "Processed prompts:   0%|▏                                                                                                          | 1/512 [01:11<10:06:01, 71.16s/it, est. speed input: 49.24 toks/s, output: 0.03 toks/s]\u001b[A\n",
      "Processed prompts:  39%|█████████████████████████████████████████▏                                                                | 199/512 [02:22<03:10,  1.64it/s, est. speed input: 3943.99 toks/s, output: 2.80 toks/s]\u001b[A\n",
      "Processed prompts: 100%|██████████████████████████████████████████████████████████████████████████████████████████████████████████| 512/512 [03:04<00:00,  2.78it/s, est. speed input: 7836.50 toks/s, output: 5.56 toks/s]\u001b[A\n",
      "Generating responses:   6%|█████████▌                                                                                                                                               | 29/463 [1:30:21<22:31:39, 186.86s/it]\n",
      "Processed prompts:   0%|                                                                                                                       | 0/512 [00:00<?, ?it/s, est. speed input: 0.00 toks/s, output: 0.00 toks/s]\u001b[A\n",
      "Processed prompts:   0%|▏                                                                                                          | 1/512 [01:11<10:04:59, 71.04s/it, est. speed input: 44.58 toks/s, output: 0.03 toks/s]\u001b[A\n",
      "Processed prompts:  39%|████████████████████████████████████████▉                                                                 | 198/512 [02:21<03:11,  1.64it/s, est. speed input: 3934.28 toks/s, output: 2.79 toks/s]\u001b[A\n",
      "Processed prompts: 100%|██████████████████████████████████████████████████████████████████████████████████████████████████████████| 512/512 [03:04<00:00,  2.78it/s, est. speed input: 7828.58 toks/s, output: 5.56 toks/s]\u001b[A\n",
      "Generating responses:   6%|█████████▉                                                                                                                                               | 30/463 [1:33:27<22:27:54, 186.78s/it]\n",
      "Processed prompts:   0%|                                                                                                                       | 0/512 [00:00<?, ?it/s, est. speed input: 0.00 toks/s, output: 0.00 toks/s]\u001b[A\n",
      "Processed prompts:   0%|▏                                                                                                          | 1/512 [01:10<10:03:08, 70.82s/it, est. speed input: 40.89 toks/s, output: 0.03 toks/s]\u001b[A\n",
      "Processed prompts:  39%|█████████████████████████████████████████▏                                                                | 199/512 [02:21<03:09,  1.65it/s, est. speed input: 3940.69 toks/s, output: 2.81 toks/s]\u001b[A\n",
      "Processed prompts: 100%|██████████████████████████████████████████████████████████████████████████████████████████████████████████| 512/512 [03:02<00:00,  2.80it/s, est. speed input: 7845.99 toks/s, output: 5.61 toks/s]\u001b[A\n",
      "Generating responses:   7%|██████████▏                                                                                                                                              | 31/463 [1:36:32<22:21:03, 186.26s/it]\n",
      "Processed prompts:   0%|                                                                                                                       | 0/512 [00:00<?, ?it/s, est. speed input: 0.00 toks/s, output: 0.00 toks/s]\u001b[A\n",
      "Processed prompts:   0%|▏                                                                                                          | 1/512 [01:11<10:04:52, 71.02s/it, est. speed input: 41.11 toks/s, output: 0.03 toks/s]\u001b[A\n",
      "Processed prompts:  39%|█████████████████████████████████████████▌                                                                | 201/512 [02:21<03:06,  1.67it/s, est. speed input: 3948.24 toks/s, output: 2.84 toks/s]\u001b[A\n",
      "Processed prompts: 100%|██████████████████████████████████████████████████████████████████████████████████████████████████████████| 512/512 [03:02<00:00,  2.81it/s, est. speed input: 7844.74 toks/s, output: 5.61 toks/s]\u001b[A\n",
      "Generating responses:   7%|██████████▌                                                                                                                                              | 32/463 [1:39:37<22:15:13, 185.88s/it]\n",
      "Processed prompts:   0%|                                                                                                                       | 0/512 [00:00<?, ?it/s, est. speed input: 0.00 toks/s, output: 0.00 toks/s]\u001b[A\n",
      "Processed prompts:   0%|▏                                                                                                          | 1/512 [01:10<10:03:58, 70.92s/it, est. speed input: 37.16 toks/s, output: 0.03 toks/s]\u001b[A\n",
      "Processed prompts:  38%|████████████████████████████████████████▌                                                                 | 196/512 [02:21<03:14,  1.62it/s, est. speed input: 3945.16 toks/s, output: 2.76 toks/s]\u001b[A\n",
      "Processed prompts: 100%|██████████████████████████████████████████████████████████████████████████████████████████████████████████| 512/512 [03:05<00:00,  2.76it/s, est. speed input: 7842.01 toks/s, output: 5.52 toks/s]\u001b[A\n",
      "Generating responses:   7%|██████████▉                                                                                                                                              | 33/463 [1:42:45<22:16:26, 186.48s/it]\n",
      "Processed prompts:   0%|                                                                                                                       | 0/512 [00:00<?, ?it/s, est. speed input: 0.00 toks/s, output: 0.00 toks/s]\u001b[A\n",
      "Processed prompts:   0%|▏                                                                                                          | 1/512 [01:11<10:08:28, 71.44s/it, est. speed input: 37.96 toks/s, output: 0.03 toks/s]\u001b[A\n",
      "Processed prompts:  39%|████████████████████████████████████████▉                                                                 | 198/512 [02:22<03:11,  1.64it/s, est. speed input: 3916.30 toks/s, output: 2.78 toks/s]\u001b[A\n",
      "Processed prompts: 100%|██████████████████████████████████████████████████████████████████████████████████████████████████████████| 512/512 [03:05<00:00,  2.76it/s, est. speed input: 7801.27 toks/s, output: 5.52 toks/s]\u001b[A\n",
      "Generating responses:   7%|███████████▏                                                                                                                                             | 34/463 [1:45:53<22:16:35, 186.94s/it]\n",
      "Processed prompts:   0%|                                                                                                                       | 0/512 [00:00<?, ?it/s, est. speed input: 0.00 toks/s, output: 0.00 toks/s]\u001b[A\n",
      "Processed prompts:   0%|▏                                                                                                          | 1/512 [01:10<10:02:46, 70.78s/it, est. speed input: 37.92 toks/s, output: 0.03 toks/s]\u001b[A\n",
      "Processed prompts:  39%|████████████████████████████████████████▉                                                                 | 198/512 [02:21<03:11,  1.64it/s, est. speed input: 3928.88 toks/s, output: 2.79 toks/s]\u001b[A\n",
      "Processed prompts: 100%|██████████████████████████████████████████████████████████████████████████████████████████████████████████| 512/512 [03:04<00:00,  2.78it/s, est. speed input: 7832.14 toks/s, output: 5.56 toks/s]\u001b[A\n",
      "Generating responses:   8%|███████████▌                                                                                                                                             | 35/463 [1:49:00<22:12:42, 186.83s/it]\n",
      "Processed prompts:   0%|                                                                                                                       | 0/512 [00:00<?, ?it/s, est. speed input: 0.00 toks/s, output: 0.00 toks/s]\u001b[A\n",
      "Processed prompts:   0%|▏                                                                                                          | 1/512 [01:10<10:04:10, 70.94s/it, est. speed input: 36.86 toks/s, output: 0.03 toks/s]\u001b[A\n",
      "Processed prompts:  38%|████████████████████████████████████████▊                                                                 | 197/512 [02:21<03:12,  1.63it/s, est. speed input: 3936.50 toks/s, output: 2.78 toks/s]\u001b[A\n",
      "Processed prompts: 100%|██████████████████████████████████████████████████████████████████████████████████████████████████████████| 512/512 [03:04<00:00,  2.77it/s, est. speed input: 7828.07 toks/s, output: 5.55 toks/s]\u001b[A\n",
      "Generating responses:   8%|███████████▉                                                                                                                                             | 36/463 [1:52:07<22:10:08, 186.91s/it]\n",
      "Processed prompts:   0%|                                                                                                                       | 0/512 [00:00<?, ?it/s, est. speed input: 0.00 toks/s, output: 0.00 toks/s]\u001b[A\n",
      "Processed prompts:   0%|▏                                                                                                          | 1/512 [01:11<10:05:48, 71.13s/it, est. speed input: 37.90 toks/s, output: 0.03 toks/s]\u001b[A\n",
      "Processed prompts:  39%|████████████████████████████████████████▉                                                                 | 198/512 [02:22<03:11,  1.64it/s, est. speed input: 3939.37 toks/s, output: 2.79 toks/s]\u001b[A\n",
      "Processed prompts: 100%|██████████████████████████████████████████████████████████████████████████████████████████████████████████| 512/512 [03:04<00:00,  2.77it/s, est. speed input: 7828.89 toks/s, output: 5.55 toks/s]\u001b[A\n",
      "Generating responses:   8%|████████████▏                                                                                                                                            | 37/463 [1:55:14<22:07:31, 186.97s/it]\n",
      "Processed prompts:   0%|                                                                                                                       | 0/512 [00:00<?, ?it/s, est. speed input: 0.00 toks/s, output: 0.00 toks/s]\u001b[A\n",
      "Processed prompts:   0%|▏                                                                                                          | 1/512 [01:11<10:06:30, 71.21s/it, est. speed input: 62.29 toks/s, output: 0.03 toks/s]\u001b[A\n",
      "Processed prompts:  39%|████████████████████████████████████████▉                                                                 | 198/512 [02:22<03:11,  1.64it/s, est. speed input: 3941.71 toks/s, output: 2.79 toks/s]\u001b[A\n",
      "Processed prompts: 100%|██████████████████████████████████████████████████████████████████████████████████████████████████████████| 512/512 [03:04<00:00,  2.78it/s, est. speed input: 7827.77 toks/s, output: 5.55 toks/s]\u001b[A\n",
      "Generating responses:   8%|████████████▌                                                                                                                                            | 38/463 [1:58:21<22:04:18, 186.96s/it]\n",
      "Processed prompts:   0%|                                                                                                                       | 0/512 [00:00<?, ?it/s, est. speed input: 0.00 toks/s, output: 0.00 toks/s]\u001b[A\n",
      "Processed prompts:   0%|▏                                                                                                          | 1/512 [01:11<10:05:06, 71.05s/it, est. speed input: 45.22 toks/s, output: 0.03 toks/s]\u001b[A\n",
      "Processed prompts:  39%|█████████████████████████████████████████▏                                                                | 199/512 [02:22<03:10,  1.64it/s, est. speed input: 3933.51 toks/s, output: 2.80 toks/s]\u001b[A\n",
      "Processed prompts: 100%|██████████████████████████████████████████████████████████████████████████████████████████████████████████| 512/512 [03:04<00:00,  2.78it/s, est. speed input: 7827.57 toks/s, output: 5.55 toks/s]\u001b[A\n",
      "Generating responses:   8%|████████████▉                                                                                                                                            | 39/463 [2:01:28<22:00:55, 186.92s/it]\n",
      "Processed prompts:   0%|                                                                                                                       | 0/512 [00:00<?, ?it/s, est. speed input: 0.00 toks/s, output: 0.00 toks/s]\u001b[A\n",
      "Processed prompts:   0%|▏                                                                                                          | 1/512 [01:10<10:03:08, 70.82s/it, est. speed input: 37.18 toks/s, output: 0.03 toks/s]\u001b[A\n",
      "Processed prompts:  39%|████████████████████████████████████████▉                                                                 | 198/512 [02:21<03:11,  1.64it/s, est. speed input: 3936.61 toks/s, output: 2.80 toks/s]\u001b[A\n",
      "Processed prompts: 100%|██████████████████████████████████████████████████████████████████████████████████████████████████████████| 512/512 [03:04<00:00,  2.78it/s, est. speed input: 7824.17 toks/s, output: 5.56 toks/s]\u001b[A\n",
      "Generating responses:   9%|█████████████▏                                                                                                                                           | 40/463 [2:04:34<21:57:05, 186.82s/it]\n",
      "Processed prompts:   0%|                                                                                                                       | 0/512 [00:00<?, ?it/s, est. speed input: 0.00 toks/s, output: 0.00 toks/s]\u001b[A\n",
      "Processed prompts:   0%|▏                                                                                                          | 1/512 [01:10<10:03:13, 70.83s/it, est. speed input: 41.20 toks/s, output: 0.03 toks/s]\u001b[A\n",
      "Processed prompts:  39%|█████████████████████████████████████████▍                                                                | 200/512 [02:21<03:08,  1.65it/s, est. speed input: 3939.12 toks/s, output: 2.82 toks/s]\u001b[A\n",
      "Processed prompts: 100%|██████████████████████████████████████████████████████████████████████████████████████████████████████████| 512/512 [03:04<00:00,  2.78it/s, est. speed input: 7830.29 toks/s, output: 5.56 toks/s]\u001b[A\n",
      "Generating responses:   9%|█████████████▌                                                                                                                                           | 41/463 [2:07:41<21:53:26, 186.75s/it]\n",
      "Processed prompts:   0%|                                                                                                                       | 0/512 [00:00<?, ?it/s, est. speed input: 0.00 toks/s, output: 0.00 toks/s]\u001b[A\n",
      "Processed prompts:   0%|▏                                                                                                          | 1/512 [01:10<10:04:02, 70.92s/it, est. speed input: 37.24 toks/s, output: 0.03 toks/s]\u001b[A\n",
      "Processed prompts:  39%|█████████████████████████████████████████▏                                                                | 199/512 [02:21<03:09,  1.65it/s, est. speed input: 3938.29 toks/s, output: 2.81 toks/s]\u001b[A\n",
      "Processed prompts: 100%|██████████████████████████████████████████████████████████████████████████████████████████████████████████| 512/512 [03:03<00:00,  2.79it/s, est. speed input: 7834.91 toks/s, output: 5.59 toks/s]\u001b[A\n",
      "Generating responses:   9%|█████████████▉                                                                                                                                           | 42/463 [2:10:47<21:49:13, 186.59s/it]\n",
      "Processed prompts:   0%|                                                                                                                       | 0/512 [00:00<?, ?it/s, est. speed input: 0.00 toks/s, output: 0.00 toks/s]\u001b[A\n",
      "Processed prompts:   0%|▏                                                                                                          | 1/512 [01:10<10:04:11, 70.94s/it, est. speed input: 38.40 toks/s, output: 0.03 toks/s]\u001b[A\n",
      "Processed prompts:  38%|████████████████████████████████████████▊                                                                 | 197/512 [02:22<03:13,  1.63it/s, est. speed input: 3926.81 toks/s, output: 2.77 toks/s]\u001b[A\n",
      "Processed prompts: 100%|██████████████████████████████████████████████████████████████████████████████████████████████████████████| 512/512 [03:04<00:00,  2.78it/s, est. speed input: 7822.57 toks/s, output: 5.55 toks/s]\u001b[A\n",
      "Generating responses:   9%|██████████████▏                                                                                                                                          | 43/463 [2:13:54<21:46:44, 186.68s/it]\n",
      "Processed prompts:   0%|                                                                                                                       | 0/512 [00:00<?, ?it/s, est. speed input: 0.00 toks/s, output: 0.00 toks/s]\u001b[A\n",
      "Processed prompts:   0%|▏                                                                                                          | 1/512 [01:11<10:04:50, 71.02s/it, est. speed input: 52.72 toks/s, output: 0.03 toks/s]\u001b[A\n",
      "Processed prompts:  38%|████████████████████████████████████████▊                                                                 | 197/512 [02:21<03:13,  1.63it/s, est. speed input: 3934.61 toks/s, output: 2.78 toks/s]\u001b[A\n",
      "Processed prompts: 100%|██████████████████████████████████████████████████████████████████████████████████████████████████████████| 512/512 [03:03<00:00,  2.79it/s, est. speed input: 7835.54 toks/s, output: 5.58 toks/s]\u001b[A\n",
      "Generating responses:  10%|██████████████▌                                                                                                                                          | 44/463 [2:17:00<21:42:30, 186.52s/it]\n",
      "Processed prompts:   0%|                                                                                                                       | 0/512 [00:00<?, ?it/s, est. speed input: 0.00 toks/s, output: 0.00 toks/s]\u001b[A\n",
      "Processed prompts:   0%|▏                                                                                                          | 1/512 [01:11<10:05:00, 71.04s/it, est. speed input: 36.92 toks/s, output: 0.03 toks/s]\u001b[A\n",
      "Processed prompts:  38%|████████████████████████████████████████▌                                                                 | 196/512 [02:22<03:15,  1.62it/s, est. speed input: 3928.34 toks/s, output: 2.75 toks/s]\u001b[A\n",
      "Processed prompts: 100%|██████████████████████████████████████████████████████████████████████████████████████████████████████████| 512/512 [03:04<00:00,  2.77it/s, est. speed input: 7825.39 toks/s, output: 5.54 toks/s]\u001b[A\n",
      "Generating responses:  10%|██████████████▊                                                                                                                                          | 45/463 [2:20:08<21:41:13, 186.78s/it]\n",
      "Processed prompts:   0%|                                                                                                                       | 0/512 [00:00<?, ?it/s, est. speed input: 0.00 toks/s, output: 0.00 toks/s]\u001b[A\n",
      "Processed prompts:   0%|▏                                                                                                          | 1/512 [01:10<10:04:21, 70.96s/it, est. speed input: 38.05 toks/s, output: 0.03 toks/s]\u001b[A\n",
      "Processed prompts:  39%|█████████████████████████████████████████▏                                                                | 199/512 [02:21<03:09,  1.65it/s, est. speed input: 3943.84 toks/s, output: 2.81 toks/s]\u001b[A\n",
      "Processed prompts: 100%|██████████████████████████████████████████████████████████████████████████████████████████████████████████| 512/512 [03:03<00:00,  2.79it/s, est. speed input: 7839.75 toks/s, output: 5.58 toks/s]\u001b[A\n",
      "Generating responses:  10%|███████████████▏                                                                                                                                         | 46/463 [2:23:14<21:36:39, 186.57s/it]\n",
      "Processed prompts:   0%|                                                                                                                       | 0/512 [00:00<?, ?it/s, est. speed input: 0.00 toks/s, output: 0.00 toks/s]\u001b[A\n",
      "Processed prompts:   0%|▏                                                                                                          | 1/512 [01:11<10:06:00, 71.16s/it, est. speed input: 44.34 toks/s, output: 0.03 toks/s]\u001b[A\n",
      "Processed prompts:  39%|█████████████████████████████████████████▏                                                                | 199/512 [02:22<03:10,  1.65it/s, est. speed input: 3939.91 toks/s, output: 2.80 toks/s]\u001b[A\n",
      "Processed prompts: 100%|██████████████████████████████████████████████████████████████████████████████████████████████████████████| 512/512 [03:03<00:00,  2.79it/s, est. speed input: 7828.86 toks/s, output: 5.59 toks/s]\u001b[A\n",
      "Generating responses:  10%|███████████████▌                                                                                                                                         | 47/463 [2:26:19<21:31:47, 186.32s/it]\n",
      "Processed prompts:   0%|                                                                                                                       | 0/512 [00:00<?, ?it/s, est. speed input: 0.00 toks/s, output: 0.00 toks/s]\u001b[A\n",
      "Processed prompts:   0%|▏                                                                                                          | 1/512 [01:10<10:02:59, 70.80s/it, est. speed input: 39.76 toks/s, output: 0.03 toks/s]\u001b[A\n",
      "Processed prompts:  38%|████████████████████████████████████████▊                                                                 | 197/512 [02:21<03:13,  1.63it/s, est. speed input: 3932.93 toks/s, output: 2.78 toks/s]\u001b[A\n",
      "Processed prompts: 100%|██████████████████████████████████████████████████████████████████████████████████████████████████████████| 512/512 [03:05<00:00,  2.76it/s, est. speed input: 7828.39 toks/s, output: 5.53 toks/s]\u001b[A\n",
      "Generating responses:  10%|███████████████▊                                                                                                                                         | 48/463 [2:29:27<21:31:32, 186.73s/it]\n",
      "Processed prompts:   0%|                                                                                                                       | 0/512 [00:00<?, ?it/s, est. speed input: 0.00 toks/s, output: 0.00 toks/s]\u001b[A\n",
      "Processed prompts:   0%|▏                                                                                                          | 1/512 [01:11<10:08:08, 71.41s/it, est. speed input: 38.29 toks/s, output: 0.03 toks/s]\u001b[A\n",
      "Processed prompts:  39%|█████████████████████████████████████████▏                                                                | 199/512 [02:22<03:10,  1.64it/s, est. speed input: 3922.31 toks/s, output: 2.79 toks/s]\u001b[A\n",
      "Processed prompts: 100%|██████████████████████████████████████████████████████████████████████████████████████████████████████████| 512/512 [03:05<00:00,  2.77it/s, est. speed input: 7811.15 toks/s, output: 5.53 toks/s]\u001b[A\n",
      "Generating responses:  11%|████████████████▏                                                                                                                                        | 49/463 [2:32:35<21:30:05, 186.97s/it]\n",
      "Processed prompts:   0%|                                                                                                                       | 0/512 [00:00<?, ?it/s, est. speed input: 0.00 toks/s, output: 0.00 toks/s]\u001b[A\n",
      "Processed prompts:   0%|▏                                                                                                          | 1/512 [01:11<10:09:10, 71.53s/it, est. speed input: 38.46 toks/s, output: 0.03 toks/s]\u001b[A\n",
      "Processed prompts:  39%|████████████████████████████████████████▉                                                                 | 198/512 [02:22<03:11,  1.64it/s, est. speed input: 3943.28 toks/s, output: 2.78 toks/s]\u001b[A\n",
      "Processed prompts: 100%|██████████████████████████████████████████████████████████████████████████████████████████████████████████| 512/512 [03:05<00:00,  2.76it/s, est. speed input: 7821.73 toks/s, output: 5.53 toks/s]\u001b[A\n",
      "Generating responses:  11%|████████████████▌                                                                                                                                        | 50/463 [2:35:42<21:28:36, 187.21s/it]\n",
      "Processed prompts:   0%|                                                                                                                       | 0/512 [00:00<?, ?it/s, est. speed input: 0.00 toks/s, output: 0.00 toks/s]\u001b[A\n",
      "Processed prompts:   0%|▏                                                                                                          | 1/512 [01:11<10:05:13, 71.06s/it, est. speed input: 38.47 toks/s, output: 0.03 toks/s]\u001b[A\n",
      "Processed prompts:  39%|█████████████████████████████████████████▍                                                                | 200/512 [02:22<03:08,  1.65it/s, est. speed input: 3934.42 toks/s, output: 2.81 toks/s]\u001b[A\n",
      "Processed prompts: 100%|██████████████████████████████████████████████████████████████████████████████████████████████████████████| 512/512 [03:04<00:00,  2.78it/s, est. speed input: 7825.99 toks/s, output: 5.56 toks/s]\u001b[A\n",
      "Generating responses:  11%|████████████████▊                                                                                                                                        | 51/463 [2:38:49<21:24:33, 187.07s/it]\n",
      "Processed prompts:   0%|                                                                                                                       | 0/512 [00:00<?, ?it/s, est. speed input: 0.00 toks/s, output: 0.00 toks/s]\u001b[A\n",
      "Processed prompts:   0%|▏                                                                                                          | 1/512 [01:10<10:03:37, 70.88s/it, est. speed input: 42.43 toks/s, output: 0.03 toks/s]\u001b[A\n",
      "Processed prompts:  39%|█████████████████████████████████████████▌                                                                | 201/512 [02:21<03:06,  1.67it/s, est. speed input: 3944.44 toks/s, output: 2.84 toks/s]\u001b[A\n",
      "Processed prompts: 100%|██████████████████████████████████████████████████████████████████████████████████████████████████████████| 512/512 [03:03<00:00,  2.80it/s, est. speed input: 7841.24 toks/s, output: 5.59 toks/s]\u001b[A\n",
      "Generating responses:  11%|█████████████████▏                                                                                                                                       | 52/463 [2:41:55<21:18:30, 186.64s/it]\n",
      "Processed prompts:   0%|                                                                                                                       | 0/512 [00:00<?, ?it/s, est. speed input: 0.00 toks/s, output: 0.00 toks/s]\u001b[A\n",
      "Processed prompts:   0%|▏                                                                                                          | 1/512 [01:10<10:03:04, 70.81s/it, est. speed input: 38.05 toks/s, output: 0.03 toks/s]\u001b[A\n",
      "Processed prompts:  39%|█████████████████████████████████████████▏                                                                | 199/512 [02:21<03:10,  1.65it/s, est. speed input: 3936.95 toks/s, output: 2.80 toks/s]\u001b[A\n",
      "Processed prompts: 100%|██████████████████████████████████████████████████████████████████████████████████████████████████████████| 512/512 [03:03<00:00,  2.78it/s, est. speed input: 7838.76 toks/s, output: 5.57 toks/s]\u001b[A\n",
      "Generating responses:  11%|█████████████████▌                                                                                                                                       | 53/463 [2:45:01<21:14:31, 186.52s/it]\n",
      "Processed prompts:   0%|                                                                                                                       | 0/512 [00:00<?, ?it/s, est. speed input: 0.00 toks/s, output: 0.00 toks/s]\u001b[A\n",
      "Processed prompts:   0%|▏                                                                                                          | 1/512 [01:11<10:05:12, 71.06s/it, est. speed input: 44.09 toks/s, output: 0.03 toks/s]\u001b[A\n",
      "Processed prompts:  39%|█████████████████████████████████████████▏                                                                | 199/512 [02:21<03:09,  1.65it/s, est. speed input: 3946.65 toks/s, output: 2.81 toks/s]\u001b[A\n",
      "Processed prompts: 100%|██████████████████████████████████████████████████████████████████████████████████████████████████████████| 512/512 [03:04<00:00,  2.78it/s, est. speed input: 7835.39 toks/s, output: 5.55 toks/s]\u001b[A\n",
      "Generating responses:  12%|█████████████████▊                                                                                                                                       | 54/463 [2:48:08<21:11:36, 186.54s/it]\n",
      "Processed prompts:   0%|                                                                                                                       | 0/512 [00:00<?, ?it/s, est. speed input: 0.00 toks/s, output: 0.00 toks/s]\u001b[A\n",
      "Processed prompts:   0%|▏                                                                                                          | 1/512 [01:11<10:06:19, 71.19s/it, est. speed input: 41.93 toks/s, output: 0.03 toks/s]\u001b[A\n",
      "Processed prompts:  38%|████████████████████████████████████████▊                                                                 | 197/512 [02:22<03:13,  1.63it/s, est. speed input: 3933.33 toks/s, output: 2.77 toks/s]\u001b[A\n",
      "Processed prompts: 100%|██████████████████████████████████████████████████████████████████████████████████████████████████████████| 512/512 [03:04<00:00,  2.78it/s, est. speed input: 7833.10 toks/s, output: 5.56 toks/s]\u001b[A\n",
      "Generating responses:  12%|██████████████████▏                                                                                                                                      | 55/463 [2:51:14<21:08:03, 186.48s/it]\n",
      "Processed prompts:   0%|                                                                                                                       | 0/512 [00:00<?, ?it/s, est. speed input: 0.00 toks/s, output: 0.00 toks/s]\u001b[A\n",
      "Processed prompts:   0%|▏                                                                                                          | 1/512 [01:10<10:03:54, 70.91s/it, est. speed input: 38.54 toks/s, output: 0.03 toks/s]\u001b[A\n",
      "Processed prompts:  39%|█████████████████████████████████████████▏                                                                | 199/512 [02:21<03:10,  1.65it/s, est. speed input: 3933.55 toks/s, output: 2.80 toks/s]\u001b[A\n",
      "Processed prompts: 100%|██████████████████████████████████████████████████████████████████████████████████████████████████████████| 512/512 [03:04<00:00,  2.78it/s, est. speed input: 7818.97 toks/s, output: 5.55 toks/s]\u001b[A\n",
      "Generating responses:  12%|██████████████████▌                                                                                                                                      | 56/463 [2:54:21<21:05:26, 186.55s/it]\n",
      "Processed prompts:   0%|                                                                                                                       | 0/512 [00:00<?, ?it/s, est. speed input: 0.00 toks/s, output: 0.00 toks/s]\u001b[A\n",
      "Processed prompts:   0%|▏                                                                                                          | 1/512 [01:10<10:02:30, 70.75s/it, est. speed input: 38.56 toks/s, output: 0.03 toks/s]\u001b[A\n",
      "Processed prompts:  39%|█████████████████████████████████████████▍                                                                | 200/512 [02:22<03:08,  1.65it/s, est. speed input: 3925.86 toks/s, output: 2.82 toks/s]\u001b[A\n",
      "Processed prompts: 100%|██████████████████████████████████████████████████████████████████████████████████████████████████████████| 512/512 [03:04<00:00,  2.77it/s, est. speed input: 7830.56 toks/s, output: 5.54 toks/s]\u001b[A\n",
      "Generating responses:  12%|██████████████████▊                                                                                                                                      | 57/463 [2:57:28<21:03:16, 186.69s/it]\n",
      "Processed prompts:   0%|                                                                                                                       | 0/512 [00:00<?, ?it/s, est. speed input: 0.00 toks/s, output: 0.00 toks/s]\u001b[A\n",
      "Processed prompts:   0%|▏                                                                                                          | 1/512 [01:11<10:04:47, 71.01s/it, est. speed input: 46.19 toks/s, output: 0.03 toks/s]\u001b[A\n",
      "Processed prompts:  39%|█████████████████████████████████████████▏                                                                | 199/512 [02:22<03:10,  1.65it/s, est. speed input: 3932.86 toks/s, output: 2.80 toks/s]\u001b[A\n",
      "Processed prompts: 100%|██████████████████████████████████████████████████████████████████████████████████████████████████████████| 512/512 [03:03<00:00,  2.79it/s, est. speed input: 7827.54 toks/s, output: 5.57 toks/s]\u001b[A\n",
      "Generating responses:  13%|███████████████████▏                                                                                                                                     | 58/463 [3:00:34<20:58:55, 186.51s/it]\n",
      "Processed prompts:   0%|                                                                                                                       | 0/512 [00:00<?, ?it/s, est. speed input: 0.00 toks/s, output: 0.00 toks/s]\u001b[A\n",
      "Processed prompts:   0%|▏                                                                                                          | 1/512 [01:11<10:04:47, 71.01s/it, est. speed input: 37.57 toks/s, output: 0.03 toks/s]\u001b[A\n",
      "Processed prompts:  39%|█████████████████████████████████████████▏                                                                | 199/512 [02:21<03:09,  1.65it/s, est. speed input: 3944.09 toks/s, output: 2.81 toks/s]\u001b[A\n",
      "Processed prompts: 100%|██████████████████████████████████████████████████████████████████████████████████████████████████████████| 512/512 [03:04<00:00,  2.78it/s, est. speed input: 7838.45 toks/s, output: 5.56 toks/s]\u001b[A\n",
      "Generating responses:  13%|███████████████████▍                                                                                                                                     | 59/463 [3:03:40<20:55:33, 186.47s/it]\n",
      "Processed prompts:   0%|                                                                                                                       | 0/512 [00:00<?, ?it/s, est. speed input: 0.00 toks/s, output: 0.00 toks/s]\u001b[A\n",
      "Processed prompts:   0%|▏                                                                                                          | 1/512 [01:10<10:04:07, 70.94s/it, est. speed input: 39.20 toks/s, output: 0.03 toks/s]\u001b[A\n",
      "Processed prompts:  39%|████████████████████████████████████████▉                                                                 | 198/512 [02:22<03:11,  1.64it/s, est. speed input: 3927.76 toks/s, output: 2.79 toks/s]\u001b[A\n",
      "Processed prompts: 100%|██████████████████████████████████████████████████████████████████████████████████████████████████████████| 512/512 [03:04<00:00,  2.78it/s, est. speed input: 7839.98 toks/s, output: 5.56 toks/s]\u001b[A\n",
      "Generating responses:  13%|███████████████████▊                                                                                                                                     | 60/463 [3:06:46<20:52:03, 186.41s/it]\n",
      "Processed prompts:   0%|                                                                                                                       | 0/512 [00:00<?, ?it/s, est. speed input: 0.00 toks/s, output: 0.00 toks/s]\u001b[A\n",
      "Processed prompts:   0%|▏                                                                                                          | 1/512 [01:10<10:02:35, 70.75s/it, est. speed input: 39.33 toks/s, output: 0.03 toks/s]\u001b[A\n",
      "Processed prompts:  39%|█████████████████████████████████████████▏                                                                | 199/512 [02:21<03:09,  1.65it/s, est. speed input: 3937.03 toks/s, output: 2.81 toks/s]\u001b[A\n",
      "Processed prompts: 100%|██████████████████████████████████████████████████████████████████████████████████████████████████████████| 512/512 [03:03<00:00,  2.79it/s, est. speed input: 7835.48 toks/s, output: 5.59 toks/s]\u001b[A\n",
      "Generating responses:  13%|████████████████████▏                                                                                                                                    | 61/463 [3:09:52<20:47:14, 186.16s/it]\n",
      "Processed prompts:   0%|                                                                                                                       | 0/512 [00:00<?, ?it/s, est. speed input: 0.00 toks/s, output: 0.00 toks/s]\u001b[A\n",
      "Processed prompts:   0%|▏                                                                                                          | 1/512 [01:10<10:03:47, 70.89s/it, est. speed input: 38.97 toks/s, output: 0.03 toks/s]\u001b[A\n",
      "Processed prompts:  39%|█████████████████████████████████████████▏                                                                | 199/512 [02:22<03:10,  1.64it/s, est. speed input: 3929.11 toks/s, output: 2.80 toks/s]\u001b[A\n",
      "Processed prompts: 100%|██████████████████████████████████████████████████████████████████████████████████████████████████████████| 512/512 [03:03<00:00,  2.79it/s, est. speed input: 7831.91 toks/s, output: 5.58 toks/s]\u001b[A\n",
      "Generating responses:  13%|████████████████████▍                                                                                                                                    | 62/463 [3:12:58<20:43:26, 186.05s/it]\n",
      "Processed prompts:   0%|                                                                                                                       | 0/512 [00:00<?, ?it/s, est. speed input: 0.00 toks/s, output: 0.00 toks/s]\u001b[A\n",
      "Processed prompts:   0%|▏                                                                                                          | 1/512 [01:10<10:03:21, 70.84s/it, est. speed input: 37.43 toks/s, output: 0.03 toks/s]\u001b[A\n",
      "Processed prompts:  39%|█████████████████████████████████████████▍                                                                | 200/512 [02:21<03:08,  1.65it/s, est. speed input: 3935.22 toks/s, output: 2.82 toks/s]\u001b[A\n",
      "Processed prompts: 100%|██████████████████████████████████████████████████████████████████████████████████████████████████████████| 512/512 [03:03<00:00,  2.80it/s, est. speed input: 7844.42 toks/s, output: 5.59 toks/s]\u001b[A\n",
      "Generating responses:  14%|████████████████████▊                                                                                                                                    | 63/463 [3:16:03<20:38:48, 185.82s/it]\n",
      "Processed prompts:   0%|                                                                                                                       | 0/512 [00:00<?, ?it/s, est. speed input: 0.00 toks/s, output: 0.00 toks/s]\u001b[A\n",
      "Processed prompts:   0%|▏                                                                                                          | 1/512 [01:11<10:05:56, 71.15s/it, est. speed input: 39.97 toks/s, output: 0.03 toks/s]\u001b[A\n",
      "Processed prompts:  39%|████████████████████████████████████████▉                                                                 | 198/512 [02:21<03:11,  1.64it/s, est. speed input: 3932.62 toks/s, output: 2.79 toks/s]\u001b[A\n",
      "Processed prompts: 100%|██████████████████████████████████████████████████████████████████████████████████████████████████████████| 512/512 [03:03<00:00,  2.79it/s, est. speed input: 7827.76 toks/s, output: 5.58 toks/s]\u001b[A\n",
      "Generating responses:  14%|█████████████████████▏                                                                                                                                   | 64/463 [3:19:09<20:35:15, 185.75s/it]\n",
      "Processed prompts:   0%|                                                                                                                       | 0/512 [00:00<?, ?it/s, est. speed input: 0.00 toks/s, output: 0.00 toks/s]\u001b[A\n",
      "Processed prompts:   0%|▏                                                                                                          | 1/512 [01:10<10:04:14, 70.95s/it, est. speed input: 39.45 toks/s, output: 0.03 toks/s]\u001b[A\n",
      "Processed prompts:  39%|█████████████████████████████████████████▍                                                                | 200/512 [02:22<03:08,  1.65it/s, est. speed input: 3932.09 toks/s, output: 2.82 toks/s]\u001b[A\n",
      "Processed prompts: 100%|██████████████████████████████████████████████████████████████████████████████████████████████████████████| 512/512 [03:03<00:00,  2.79it/s, est. speed input: 7834.12 toks/s, output: 5.57 toks/s]\u001b[A\n",
      "Generating responses:  14%|█████████████████████▍                                                                                                                                   | 65/463 [3:22:15<20:32:36, 185.82s/it]\n",
      "Processed prompts:   0%|                                                                                                                       | 0/512 [00:00<?, ?it/s, est. speed input: 0.00 toks/s, output: 0.00 toks/s]\u001b[A\n",
      "Processed prompts:   0%|▏                                                                                                          | 1/512 [01:10<10:03:57, 70.91s/it, est. speed input: 39.16 toks/s, output: 0.03 toks/s]\u001b[A\n",
      "Processed prompts:  39%|█████████████████████████████████████████▍                                                                | 200/512 [02:21<03:08,  1.66it/s, est. speed input: 3937.03 toks/s, output: 2.82 toks/s]\u001b[A\n",
      "Processed prompts: 100%|██████████████████████████████████████████████████████████████████████████████████████████████████████████| 512/512 [03:04<00:00,  2.78it/s, est. speed input: 7834.66 toks/s, output: 5.56 toks/s]\u001b[A\n",
      "Generating responses:  14%|█████████████████████▊                                                                                                                                   | 66/463 [3:25:21<20:30:54, 186.03s/it]\n",
      "Processed prompts:   0%|                                                                                                                       | 0/512 [00:00<?, ?it/s, est. speed input: 0.00 toks/s, output: 0.00 toks/s]\u001b[A\n",
      "Processed prompts:   0%|▏                                                                                                          | 1/512 [01:10<10:03:39, 70.88s/it, est. speed input: 39.94 toks/s, output: 0.03 toks/s]\u001b[A\n",
      "Processed prompts:  39%|█████████████████████████████████████████▍                                                                | 200/512 [02:22<03:08,  1.65it/s, est. speed input: 3942.12 toks/s, output: 2.82 toks/s]\u001b[A\n",
      "Processed prompts: 100%|██████████████████████████████████████████████████████████████████████████████████████████████████████████| 512/512 [03:04<00:00,  2.78it/s, est. speed input: 7836.98 toks/s, output: 5.55 toks/s]\u001b[A\n",
      "Generating responses:  14%|██████████████████████▏                                                                                                                                  | 67/463 [3:28:28<20:29:02, 186.22s/it]\n",
      "Processed prompts:   0%|                                                                                                                       | 0/512 [00:00<?, ?it/s, est. speed input: 0.00 toks/s, output: 0.00 toks/s]\u001b[A\n",
      "Processed prompts:   0%|▏                                                                                                          | 1/512 [01:10<10:02:35, 70.75s/it, est. speed input: 39.38 toks/s, output: 0.03 toks/s]\u001b[A\n",
      "Processed prompts:  39%|█████████████████████████████████████████▏                                                                | 199/512 [02:21<03:09,  1.65it/s, est. speed input: 3947.36 toks/s, output: 2.81 toks/s]\u001b[A\n",
      "Processed prompts: 100%|██████████████████████████████████████████████████████████████████████████████████████████████████████████| 512/512 [03:03<00:00,  2.80it/s, est. speed input: 7835.34 toks/s, output: 5.59 toks/s]\u001b[A\n",
      "Generating responses:  15%|██████████████████████▍                                                                                                                                  | 68/463 [3:31:33<20:24:22, 185.98s/it]\n",
      "Processed prompts:   0%|                                                                                                                       | 0/512 [00:00<?, ?it/s, est. speed input: 0.00 toks/s, output: 0.00 toks/s]\u001b[A\n",
      "Processed prompts:   0%|▏                                                                                                          | 1/512 [01:10<10:03:23, 70.85s/it, est. speed input: 39.79 toks/s, output: 0.03 toks/s]\u001b[A\n",
      "Processed prompts:  39%|████████████████████████████████████████▉                                                                 | 198/512 [02:21<03:11,  1.64it/s, est. speed input: 3932.55 toks/s, output: 2.79 toks/s]\u001b[A\n",
      "Processed prompts: 100%|██████████████████████████████████████████████████████████████████████████████████████████████████████████| 512/512 [03:03<00:00,  2.78it/s, est. speed input: 7836.00 toks/s, output: 5.57 toks/s]\u001b[A\n",
      "Generating responses:  15%|██████████████████████▊                                                                                                                                  | 69/463 [3:34:39<20:21:49, 186.07s/it]\n",
      "Processed prompts:   0%|                                                                                                                       | 0/512 [00:00<?, ?it/s, est. speed input: 0.00 toks/s, output: 0.00 toks/s]\u001b[A\n",
      "Processed prompts:   0%|▏                                                                                                          | 1/512 [01:10<10:01:07, 70.58s/it, est. speed input: 38.25 toks/s, output: 0.03 toks/s]\u001b[A\n",
      "Processed prompts:  39%|█████████████████████████████████████████▏                                                                | 199/512 [02:21<03:09,  1.65it/s, est. speed input: 3939.15 toks/s, output: 2.81 toks/s]\u001b[A\n",
      "Processed prompts: 100%|██████████████████████████████████████████████████████████████████████████████████████████████████████████| 512/512 [03:03<00:00,  2.79it/s, est. speed input: 7840.03 toks/s, output: 5.58 toks/s]\u001b[A\n",
      "Generating responses:  15%|███████████████████████▏                                                                                                                                 | 70/463 [3:37:45<20:18:03, 185.96s/it]\n",
      "Processed prompts:   0%|                                                                                                                       | 0/512 [00:00<?, ?it/s, est. speed input: 0.00 toks/s, output: 0.00 toks/s]\u001b[A\n",
      "Processed prompts:   0%|▏                                                                                                          | 1/512 [01:11<10:09:05, 71.52s/it, est. speed input: 36.70 toks/s, output: 0.03 toks/s]\u001b[A\n",
      "Processed prompts:  38%|████████████████████████████████████████▊                                                                 | 197/512 [02:22<03:13,  1.63it/s, est. speed input: 3926.36 toks/s, output: 2.77 toks/s]\u001b[A\n",
      "Processed prompts: 100%|██████████████████████████████████████████████████████████████████████████████████████████████████████████| 512/512 [03:05<00:00,  2.75it/s, est. speed input: 7810.04 toks/s, output: 5.51 toks/s]\u001b[A\n",
      "Generating responses:  15%|███████████████████████▍                                                                                                                                 | 71/463 [3:40:53<20:19:21, 186.64s/it]\n",
      "Processed prompts:   0%|                                                                                                                       | 0/512 [00:00<?, ?it/s, est. speed input: 0.00 toks/s, output: 0.00 toks/s]\u001b[A\n",
      "Processed prompts:   0%|▏                                                                                                          | 1/512 [01:10<10:04:27, 70.97s/it, est. speed input: 37.17 toks/s, output: 0.03 toks/s]\u001b[A\n",
      "Processed prompts:  38%|████████████████████████████████████████▊                                                                 | 197/512 [02:22<03:13,  1.63it/s, est. speed input: 3925.63 toks/s, output: 2.77 toks/s]\u001b[A\n",
      "Processed prompts: 100%|██████████████████████████████████████████████████████████████████████████████████████████████████████████| 512/512 [03:05<00:00,  2.76it/s, est. speed input: 7821.72 toks/s, output: 5.52 toks/s]\u001b[A\n",
      "Generating responses:  16%|███████████████████████▊                                                                                                                                 | 72/463 [3:44:01<20:18:43, 187.02s/it]\n",
      "Processed prompts:   0%|                                                                                                                       | 0/512 [00:00<?, ?it/s, est. speed input: 0.00 toks/s, output: 0.00 toks/s]\u001b[A\n",
      "Processed prompts:   0%|▏                                                                                                          | 1/512 [01:10<10:03:38, 70.88s/it, est. speed input: 46.53 toks/s, output: 0.03 toks/s]\u001b[A\n",
      "Processed prompts:  39%|█████████████████████████████████████████▏                                                                | 199/512 [02:21<03:09,  1.65it/s, est. speed input: 3939.66 toks/s, output: 2.81 toks/s]\u001b[A\n",
      "Processed prompts: 100%|██████████████████████████████████████████████████████████████████████████████████████████████████████████| 512/512 [03:02<00:00,  2.80it/s, est. speed input: 7842.25 toks/s, output: 5.60 toks/s]\u001b[A\n",
      "Generating responses:  16%|████████████████████████                                                                                                                                 | 73/463 [3:47:06<20:12:07, 186.48s/it]\n",
      "Processed prompts:   0%|                                                                                                                       | 0/512 [00:00<?, ?it/s, est. speed input: 0.00 toks/s, output: 0.00 toks/s]\u001b[A\n",
      "Processed prompts:   0%|▏                                                                                                          | 1/512 [01:10<10:03:37, 70.88s/it, est. speed input: 38.43 toks/s, output: 0.03 toks/s]\u001b[A\n",
      "Processed prompts:  39%|█████████████████████████████████████████▏                                                                | 199/512 [02:21<03:10,  1.65it/s, est. speed input: 3935.08 toks/s, output: 2.80 toks/s]\u001b[A\n",
      "Processed prompts: 100%|██████████████████████████████████████████████████████████████████████████████████████████████████████████| 512/512 [03:04<00:00,  2.77it/s, est. speed input: 7831.04 toks/s, output: 5.55 toks/s]\u001b[A\n",
      "Generating responses:  16%|████████████████████████▍                                                                                                                                | 74/463 [3:50:13<20:09:46, 186.60s/it]\n",
      "Processed prompts:   0%|                                                                                                                       | 0/512 [00:00<?, ?it/s, est. speed input: 0.00 toks/s, output: 0.00 toks/s]\u001b[A"
     ]
    }
   ],
   "source": [
    "prompts = []\n",
    "for ex in tqdm(dataset, total=len(dataset), desc=\"Generating prompts\"):\n",
    "    code = ex[\"content\"]\n",
    "    toks = len(tokenizer.encode(code)) + few_shot_toks\n",
    "    if toks > 16380:\n",
    "        print(f\"Skipping example with {toks} tokens\")\n",
    "        # to skip, just add dummy prompt\n",
    "        prompts.append(dummy_prompt)\n",
    "        continue\n",
    "    p = prompt_fmt(code)\n",
    "    prompts.append(p)\n",
    "\n",
    "responses = []\n",
    "for chunk in tqdm(chunkify(prompts, 512), desc=\"Generating responses\"):\n",
    "    outs = model.generate(chunk, SamplingParams(\n",
    "        temperature=0.0, stop=\"\\n\", max_tokens=5))\n",
    "    contents = [o.outputs[0].text for o in outs]\n",
    "    for c in contents:\n",
    "        yes_count = c.lower().count(\"yes\")\n",
    "        no_count = c.lower().count(\"no\")\n",
    "        if yes_count > no_count:\n",
    "            responses.append(True)\n",
    "        elif yes_count < no_count:\n",
    "            responses.append(False)\n",
    "        else:\n",
    "            # default to No\n",
    "            responses.append(False)\n",
    "\n"
   ]
  },
  {
   "cell_type": "code",
   "execution_count": 90,
   "id": "d02e6021-71c7-449b-a54a-d6f9a54e4f04",
   "metadata": {},
   "outputs": [
    {
     "data": {
      "text/plain": [
       "Dataset({\n",
       "    features: ['content', 'sha1', 'id'],\n",
       "    num_rows: 236926\n",
       "})"
      ]
     },
     "execution_count": 90,
     "metadata": {},
     "output_type": "execute_result"
    }
   ],
   "source": [
    "dataset"
   ]
  },
  {
   "cell_type": "code",
   "execution_count": 91,
   "id": "fa02eef9-f557-4f36-adf3-0115a5c08041",
   "metadata": {},
   "outputs": [],
   "source": [
    "subset = dataset.select(range(75000))"
   ]
  },
  {
   "cell_type": "code",
   "execution_count": 92,
   "id": "8d5579e1-7c33-438e-8e79-d8acab10b66b",
   "metadata": {},
   "outputs": [
    {
     "data": {
      "text/plain": [
       "Dataset({\n",
       "    features: ['content', 'sha1', 'id'],\n",
       "    num_rows: 75000\n",
       "})"
      ]
     },
     "execution_count": 92,
     "metadata": {},
     "output_type": "execute_result"
    }
   ],
   "source": [
    "subset"
   ]
  },
  {
   "cell_type": "code",
   "execution_count": 93,
   "id": "da440e82-7104-4c01-99dc-b7dac8803cb9",
   "metadata": {},
   "outputs": [
    {
     "data": {
      "application/vnd.jupyter.widget-view+json": {
       "model_id": "b9179316fd5e490db6769cb501e85d83",
       "version_major": 2,
       "version_minor": 0
      },
      "text/plain": [
       "Filter:   0%|          | 0/75000 [00:00<?, ? examples/s]"
      ]
     },
     "metadata": {},
     "output_type": "display_data"
    },
    {
     "name": "stdout",
     "output_type": "stream",
     "text": [
      "Filtered 233319 examples\n"
     ]
    }
   ],
   "source": [
    "new_ds = subset.filter(  # horrible hack!\n",
    "    lambda ex, i: responses[i] and \"def dummy()\" not in ex[\"content\"], with_indices=True)\n",
    "print(f\"Filtered {len(dataset) - len(new_ds)} examples\")"
   ]
  },
  {
   "cell_type": "code",
   "execution_count": 97,
   "id": "908e497d-4afe-4651-b73c-5950e57b06e8",
   "metadata": {},
   "outputs": [
    {
     "data": {
      "application/vnd.jupyter.widget-view+json": {
       "model_id": "6a97b459634344fc9cc7e4e0ed06283d",
       "version_major": 2,
       "version_minor": 0
      },
      "text/plain": [
       "Saving the dataset (0/1 shards):   0%|          | 0/3607 [00:00<?, ? examples/s]"
      ]
     },
     "metadata": {},
     "output_type": "display_data"
    }
   ],
   "source": [
    "new_ds.save_to_disk(\"../datasets/seed3\")"
   ]
  },
  {
   "cell_type": "code",
   "execution_count": 98,
   "id": "9148b29c-1dc5-47a3-bef7-60dc19d75764",
   "metadata": {},
   "outputs": [
    {
     "data": {
      "text/plain": [
       "Dataset({\n",
       "    features: ['content', 'sha1', 'id'],\n",
       "    num_rows: 3607\n",
       "})"
      ]
     },
     "execution_count": 98,
     "metadata": {},
     "output_type": "execute_result"
    }
   ],
   "source": [
    "new_ds"
   ]
  }
 ],
 "metadata": {
  "kernelspec": {
   "display_name": "Python 3",
   "language": "python",
   "name": "python3"
  },
  "language_info": {
   "codemirror_mode": {
    "name": "ipython",
    "version": 3
   },
   "file_extension": ".py",
   "mimetype": "text/x-python",
   "name": "python",
   "nbconvert_exporter": "python",
   "pygments_lexer": "ipython3",
   "version": "3.11.0"
  }
 },
 "nbformat": 4,
 "nbformat_minor": 5
}
