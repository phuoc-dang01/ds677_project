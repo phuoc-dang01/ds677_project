{
 "cells": [
  {
   "cell_type": "markdown",
   "id": "805e9d4c-f390-4aba-9ec8-627b9ed85aea",
   "metadata": {},
   "source": [
    "### SEED GATHERING GET CONTENT"
   ]
  },
  {
   "cell_type": "code",
   "execution_count": 1,
   "id": "bfd3e144-73cb-42fa-9550-075c51686a77",
   "metadata": {},
   "outputs": [],
   "source": [
    "from tree_sitter_parser import LANGUAGE, make_parser, node_to_string\n",
    "import datasets\n",
    "import os\n",
    "import signal\n",
    "from multiprocessing import Pool\n",
    "import os\n",
    "import boto3\n",
    "import smart_open\n",
    "from datasets import load_dataset,Dataset\n",
    "from botocore import UNSIGNED\n",
    "from botocore.config import Config\n",
    "from transformers import AutoModelForCausalLM, AutoTokenizer\n",
    "\n",
    "os.environ[\"TOKENIZERS_PARALLELISM\"] = \"false\"\n",
    "\n",
    "s3 = boto3.client(\"s3\", config=Config(signature_version=UNSIGNED))\n",
    "\n",
    "def download_contents(blob_id, src_encoding):\n",
    "    s3_url = f\"s3://softwareheritage/content/{blob_id}\"\n",
    "    with smart_open.open(s3_url, \"rb\", compression=\".gz\", transport_params={\"client\": s3}) as fin:\n",
    "        content = fin.read().decode(src_encoding)\n",
    "    \n",
    "    return content"
   ]
  },
  {
   "cell_type": "code",
   "execution_count": 59,
   "id": "d96d57b4",
   "metadata": {},
   "outputs": [
    {
     "name": "stderr",
     "output_type": "stream",
     "text": [
      "/usr/local/lib/python3.11/dist-packages/huggingface_hub/file_download.py:797: FutureWarning: `resume_download` is deprecated and will be removed in version 1.0.0. Downloads always resume when possible. If you want to force a new download, use `force_download=True`.\n",
      "  warnings.warn(\n",
      "The attention mask and the pad token id were not set. As a consequence, you may observe unexpected behavior. Please pass your input's `attention_mask` to obtain reliable results.\n",
      "Setting `pad_token_id` to `eos_token_id`:0 for open-end generation.\n",
      "/usr/local/lib/python3.11/dist-packages/transformers/generation/utils.py:1141: UserWarning: Using the model-agnostic default `max_length` (=20) to control the generation length. We recommend setting `max_new_tokens` to control the maximum length of the generation.\n",
      "  warnings.warn(\n"
     ]
    },
    {
     "name": "stdout",
     "output_type": "stream",
     "text": [
      "def print_hello_world():\n",
      "    print(\"Hello World!\")\n",
      "\n",
      "\n",
      "def print_hello_\n"
     ]
    }
   ],
   "source": [
    "checkpoint = \"bigcode/starcoderbase-1b\"\n",
    "device = \"cuda\" # for GPU usage or \"cpu\" for CPU usage\n",
    "\n",
    "tokenizer = AutoTokenizer.from_pretrained(checkpoint)\n",
    "model = AutoModelForCausalLM.from_pretrained(checkpoint).to(device)\n",
    "\n",
    "inputs = tokenizer.encode(\"def print_hello_world():\", return_tensors=\"pt\").to(device)\n",
    "outputs = model.generate(inputs)\n",
    "print(tokenizer.decode(outputs[0]))"
   ]
  },
  {
   "cell_type": "code",
   "execution_count": 62,
   "id": "eae6c31c",
   "metadata": {},
   "outputs": [],
   "source": [
    "JAVA_METHOD_QUERY = LANGUAGE.query(\"\"\"\n",
    "(\n",
    "  (method_declaration\n",
    "    name: (identifier) @method.name\n",
    "    (modifiers)? @method.modifiers\n",
    "    (type_identifier)? @method.return_type\n",
    "    parameters: (formal_parameters) @method.parameters) @method.declaration\n",
    ")\n",
    "\"\"\")\n",
    "\n",
    "\n",
    "\n",
    "# JAVA_METHOD_QUERY = LANGUAGE.query(\"\"\"\n",
    "# (method_declaration\n",
    "#     name: (identifier) @method.name\n",
    "#     body: (block) @method.body\n",
    "# ) @method.declaration\n",
    "# \"\"\")\n",
    "\n",
    "\n",
    "def get_methods(src, tree):\n",
    "    captures = JAVA_METHOD_QUERY.captures(tree.root_node)\n",
    "    res = []\n",
    "    for capture in captures:\n",
    "        node, ty = capture\n",
    "        if ty != \"method.declaration\":\n",
    "            continue\n",
    "        # Filter for top-level methods (starting column 0)\n",
    "        _, col = node.start_point\n",
    "        if col != 0:\n",
    "            continue\n",
    "        res.append(node_to_string(src, node))\n",
    "    return res\n",
    "\n",
    "def parse_ex_java(parser, ex):\n",
    "    ex = download_contents(ex[\"blob_id\"], ex[\"src_encoding\"])\n",
    "    try:\n",
    "        buf = bytes(ex, \"utf8\")\n",
    "        tree = parser.parse(buf)\n",
    "        return get_methods(buf, tree)\n",
    "    except:\n",
    "        return []\n",
    "\n",
    "def process_chunk_java(idx_and_chunk):\n",
    "    assert PARSERS is not None\n",
    "    idx, chunk = idx_and_chunk\n",
    "    parser = PARSERS[idx]\n",
    "    chunk_new_methods = set()\n",
    "    for ex in chunk:\n",
    "        chunk_new_methods.update(parse_ex_java(parser, ex))\n",
    "    return chunk_new_methods\n",
    "\n",
    "def main_java(args):\n",
    "    global PARSERS\n",
    "    ds = datasets.load_dataset(\n",
    "        args.dataset,\n",
    "        data_dir=args.data_dir,\n",
    "        split=\"train\",\n",
    "    )\n",
    "    methods = set()\n",
    "    PARSERS = [make_parser() for _ in range(args.num_workers)]\n",
    "    total_len = len(ds)\n",
    "    CHUNK_SIZE = 1000 * args.num_workers\n",
    "\n",
    "    print(f\"Total length: {total_len}\")\n",
    "    print(f\"Chunk size: {CHUNK_SIZE}\")\n",
    "\n",
    "    chunk = []\n",
    "    p = Pool(args.num_workers)\n",
    "    for i, ex in enumerate(ds):\n",
    "        if i % (total_len // 100) == 0:\n",
    "            print(f\"{i}/{total_len}\")\n",
    "        try:\n",
    "            chunk.append(ex)\n",
    "            if len(chunk) == CHUNK_SIZE or i == total_len - 1:\n",
    "                print(f\"Processing chunk {i // CHUNK_SIZE}\")\n",
    "                subchunk_size = len(chunk) // args.num_workers\n",
    "                subchunks = [chunk[i:i + subchunk_size]\n",
    "                             for i in range(0, len(chunk), subchunk_size)]\n",
    "                new_methods_iter = p.imap(\n",
    "                    process_chunk_java, [(i, subchunk) for i, subchunk in enumerate(subchunks)])\n",
    "                print(\"Getting new methods\")\n",
    "                len_before = len(methods)\n",
    "                while True:\n",
    "                    try:\n",
    "                        def timeout_handler(_, __):\n",
    "                            raise KeyboardInterrupt\n",
    "                        signal.signal(signal.SIGALRM, timeout_handler)\n",
    "                        signal.alarm(60)\n",
    "                        methods.update(next(new_methods_iter))\n",
    "                        signal.alarm(0)\n",
    "                    except KeyboardInterrupt:\n",
    "                        signal.alarm(0)\n",
    "                        print(\"Keyboard interrupt. Terminating pool\")\n",
    "                        p.terminate()\n",
    "                        p = Pool(args.num_workers)\n",
    "                        break\n",
    "                    except StopIteration:\n",
    "                        break\n",
    "                    except Exception as e:\n",
    "                        print(e)\n",
    "\n",
    "                signal.alarm(0)\n",
    "\n",
    "                PARSERS = [make_parser() for _ in range(args.num_workers)]\n",
    "\n",
    "                print(\n",
    "                    f\"Done processing chunk {i // CHUNK_SIZE}. Got {len(methods) - len_before} new methods\")\n",
    "\n",
    "                chunk = []\n",
    "        except Exception as e:\n",
    "            print(e)\n",
    "            chunk = []\n",
    "\n",
    "        if i == total_len - 1:\n",
    "            break\n",
    "\n",
    "    p.close()\n",
    "\n",
    "    new_ds_dict = {\n",
    "        \"content\": list(methods),\n",
    "        \"id\": list(range(len(methods)))\n",
    "    }\n",
    "\n",
    "    new_ds = datasets.Dataset.from_dict(new_ds_dict)"
   ]
  },
  {
   "cell_type": "code",
   "execution_count": 64,
   "id": "37c058c6",
   "metadata": {},
   "outputs": [
    {
     "name": "stdout",
     "output_type": "stream",
     "text": [
      "Type: method.declaration, Code: b'public void sayHello() {\\n        System.out.println(\"Hello, world!\");\\n    }'\n",
      "Type: method.name, Code: b'sayHello'\n",
      "Type: method.parameters, Code: b'()'\n",
      "Type: method.declaration, Code: b'public int add(int a, int b) {\\n        return a + b;\\n    }'\n",
      "Type: method.name, Code: b'add'\n",
      "Type: method.parameters, Code: b'(int a, int b)'\n"
     ]
    }
   ],
   "source": [
    "code = \"\"\"\n",
    "public class Example {\n",
    "    public void sayHello() {\n",
    "        System.out.println(\"Hello, world!\");\n",
    "    }\n",
    "    public int add(int a, int b) {\n",
    "        return a + b;\n",
    "    }\n",
    "}\n",
    "\"\"\"\n",
    "\n",
    "parser = make_parser()  # Use your make_parser function\n",
    "tree = parser.parse(bytes(code, \"utf8\"))\n",
    "\n",
    "captures = JAVA_METHOD_QUERY.captures(tree.root_node)\n",
    "for node, ty in captures:\n",
    "    print(f\"Type: {ty}, Code: {node_to_string(bytes(code, 'utf8'), node)}\")\n"
   ]
  },
  {
   "cell_type": "code",
   "execution_count": 66,
   "id": "74accea3-de2a-4b38-bbf2-b0c7f2be7aa4",
   "metadata": {},
   "outputs": [],
   "source": [
    "NUMWORKERS = os.cpu_count()"
   ]
  },
  {
   "cell_type": "code",
   "execution_count": 67,
   "id": "c8798ed1-24c7-4694-a97a-a381ab122392",
   "metadata": {},
   "outputs": [
    {
     "data": {
      "application/vnd.jupyter.widget-view+json": {
       "model_id": "bf870ab19b314a30863be19b0c376b70",
       "version_major": 2,
       "version_minor": 0
      },
      "text/plain": [
       "Resolving data files:   0%|          | 0/757 [00:00<?, ?it/s]"
      ]
     },
     "metadata": {},
     "output_type": "display_data"
    },
    {
     "name": "stdout",
     "output_type": "stream",
     "text": [
      "Dataset({\n",
      "    features: ['blob_id', 'directory_id', 'path', 'content_id', 'detected_licenses', 'license_type', 'repo_name', 'snapshot_id', 'revision_id', 'branch_name', 'visit_date', 'revision_date', 'committer_date', 'github_id', 'star_events_count', 'fork_events_count', 'gha_license_id', 'gha_event_created_at', 'gha_created_at', 'gha_language', 'src_encoding', 'language', 'is_vendor', 'is_generated', 'length_bytes', 'extension', 'filename'],\n",
      "    num_rows: 10001\n",
      "})\n"
     ]
    },
    {
     "data": {
      "application/vnd.jupyter.widget-view+json": {
       "model_id": "fd34c7c0efe04ef69abb0d350478dffd",
       "version_major": 2,
       "version_minor": 0
      },
      "text/plain": [
       "Saving the dataset (0/1 shards):   0%|          | 0/10001 [00:00<?, ? examples/s]"
      ]
     },
     "metadata": {},
     "output_type": "display_data"
    }
   ],
   "source": [
    "ds = datasets.load_dataset(\"bigcode/the-stack-v2-dedup\", \"Java\", cache_dir=\"../cache\", streaming=True, split=\"train\")\n",
    "\n",
    "data = []\n",
    "n =  10000\n",
    "for i, sample in enumerate(ds):\n",
    "    data.append(sample)\n",
    "    if i >= n:  # Stop after collecting 2000 samples\n",
    "        break\n",
    "\n",
    "map_style_dataset = Dataset.from_list(data)\n",
    "\n",
    "# Verify the Dataset\n",
    "print(map_style_dataset)\n",
    "\n",
    "map_style_dataset.save_to_disk(f\"sampled_dataset_{n}\")"
   ]
  },
  {
   "cell_type": "code",
   "execution_count": 69,
   "id": "d601380f",
   "metadata": {},
   "outputs": [],
   "source": [
    "loaded_dataset = Dataset.load_from_disk(f\"sampled_dataset_{n}\")\n",
    "ds = loaded_dataset"
   ]
  },
  {
   "cell_type": "code",
   "execution_count": 70,
   "id": "82541f12-dd45-44f7-ad0f-928224086086",
   "metadata": {},
   "outputs": [
    {
     "name": "stdout",
     "output_type": "stream",
     "text": [
      "Total length: 10001\n",
      "Chunk size: 20000\n"
     ]
    }
   ],
   "source": [
    "funs = set()\n",
    "PARSERS = [make_parser() for _ in range(NUMWORKERS)]\n",
    "total_len = len(ds)\n",
    "CHUNK_SIZE = 1000 * NUMWORKERS\n",
    "\n",
    "print(f\"Total length: {total_len}\")\n",
    "print(f\"Chunk size: {CHUNK_SIZE}\")\n",
    "\n",
    "chunk = []\n",
    "p = Pool(NUMWORKERS)"
   ]
  },
  {
   "cell_type": "code",
   "execution_count": 71,
   "id": "78f242aa-2972-4037-b5d9-acc1f1cc7308",
   "metadata": {
    "scrolled": true
   },
   "outputs": [
    {
     "name": "stdout",
     "output_type": "stream",
     "text": [
      "Processing chunk 0\n",
      "Getting new functions\n",
      "list index out of range\n",
      "Done processing chunk 0. Got 267 new functions\n"
     ]
    },
    {
     "data": {
      "text/plain": [
       "Dataset({\n",
       "    features: ['content', 'id'],\n",
       "    num_rows: 267\n",
       "})"
      ]
     },
     "execution_count": 71,
     "metadata": {},
     "output_type": "execute_result"
    }
   ],
   "source": [
    "for i, ex in enumerate(iter(ds)):\n",
    "    # if i % (total_len // 100) == 0:\n",
    "    #     print(f\"{i}/{total_len}\")\n",
    "    try:\n",
    "        chunk.append(ex)\n",
    "        if len(chunk) == CHUNK_SIZE or i == total_len - 1:\n",
    "            print(f\"Processing chunk {i // CHUNK_SIZE}\")\n",
    "            # divide the chunk into NUM_WORKERS chunks\n",
    "            subchunk_size = len(chunk) // NUMWORKERS\n",
    "            subchunks = [chunk[i:i + subchunk_size]\n",
    "                         for i in range(0, len(chunk), subchunk_size)]\n",
    "            new_funs_iter = p.imap(\n",
    "                process_chunk_java, [(i, subchunk) for i, subchunk in enumerate(subchunks)])\n",
    "            print(\"Getting new functions\")\n",
    "            len_before = len(funs)\n",
    "            while True:\n",
    "                try:\n",
    "                    def timeout_handler(_, __):\n",
    "                        raise KeyboardInterrupt  # it's fineeeeeee\n",
    "                    signal.signal(signal.SIGALRM, timeout_handler)\n",
    "                    signal.alarm(60)\n",
    "                    funs.update(next(new_funs_iter))\n",
    "                    signal.alarm(0)\n",
    "                except KeyboardInterrupt:\n",
    "                    signal.alarm(0)\n",
    "                    print(\"Keyboard interrupt. Terminating pool\")\n",
    "                    p.terminate()\n",
    "                    p = Pool(NUMWORKERS)\n",
    "                    break\n",
    "                except StopIteration:\n",
    "                    break\n",
    "                except Exception as e:\n",
    "                    print(e)\n",
    "\n",
    "            signal.alarm(0)\n",
    "\n",
    "            PARSERS = [make_parser() for _ in range(NUMWORKERS)]\n",
    "\n",
    "            print(\n",
    "                f\"Done processing chunk {i // CHUNK_SIZE}. Got {len(funs) - len_before} new functions\")\n",
    "\n",
    "            chunk = []\n",
    "    except Exception as e:\n",
    "        print(e)\n",
    "        chunk = []\n",
    "\n",
    "    if i == total_len - 1:\n",
    "        break\n",
    "\n",
    "\n",
    "p.close()\n",
    "new_ds_dict = {\n",
    "    \"content\": list(funs),\n",
    "    \"id\": list(range(len(funs)))\n",
    "}\n",
    "\n",
    "new_ds = datasets.Dataset.from_dict(new_ds_dict)\n",
    "new_ds"
   ]
  },
  {
   "cell_type": "code",
   "execution_count": 72,
   "id": "d99d75d7-bac9-4f47-bb2c-a5773f46ea18",
   "metadata": {},
   "outputs": [
    {
     "name": "stdout",
     "output_type": "stream",
     "text": [
      "b'public static EntityAddress fetchOne(String colName, Object colValue) {\\nreturn (EntityAddress)BaseSQLClass.getOne(EntityAddress.class, null, colName, colValue);\\n}'\n"
     ]
    }
   ],
   "source": [
    "ds = new_ds\n",
    "print(ds['content'][1])"
   ]
  },
  {
   "cell_type": "markdown",
   "id": "1afa60b0-bf47-4b30-93e2-2ee8a71958bf",
   "metadata": {},
   "source": [
    "### SEED GATHERING HIGH-QUALITY SUBSET"
   ]
  },
  {
   "cell_type": "code",
   "execution_count": null,
   "id": "b8d3a88a",
   "metadata": {},
   "outputs": [],
   "source": [
    "ds = Dataset.load_from_disk(\"sampled_dataset_10000\")"
   ]
  },
  {
   "cell_type": "code",
   "execution_count": 4,
   "id": "edd3300f",
   "metadata": {},
   "outputs": [
    {
     "name": "stderr",
     "output_type": "stream",
     "text": [
      "Parameter 'function'=<function <lambda> at 0x7f5a4418e2a0> of the transform datasets.arrow_dataset.Dataset._map_single couldn't be hashed properly, a random hash was used instead. Make sure your transforms and parameters are serializable with pickle or dill for the dataset fingerprinting and caching to work. If you reuse this transform, the caching mechanism will consider it to be different from the previous calls and recompute everything. This warning is only showed once. Subsequent hashing failures won't be showed.\n"
     ]
    },
    {
     "data": {
      "application/vnd.jupyter.widget-view+json": {
       "model_id": "405e975e9c8c417fbc6920956ba8a2b5",
       "version_major": 2,
       "version_minor": 0
      },
      "text/plain": [
       "Map (num_proc=20):   0%|          | 0/10001 [00:00<?, ? examples/s]"
      ]
     },
     "metadata": {},
     "output_type": "display_data"
    }
   ],
   "source": [
    "ds = ds.map(\n",
    "    lambda row: {'content': download_contents(row['blob_id'], row['src_encoding'])},\n",
    "    num_proc=os.cpu_count()\n",
    ")"
   ]
  },
  {
   "cell_type": "code",
   "execution_count": 5,
   "id": "89063770",
   "metadata": {},
   "outputs": [],
   "source": [
    "import subprocess\n",
    "import tempfile\n",
    "import signal\n",
    "import hashlib\n",
    "import os\n",
    "from typing import List, Dict\n",
    "from tqdm import tqdm\n",
    "from tree_sitter_parser import LANGUAGE, global_parser\n",
    "\n",
    "# Query to find return statements in Java code\n",
    "RETURN_QUERY = LANGUAGE.query(\"\"\"\n",
    "(return_statement) @return\n",
    "\"\"\")\n",
    "\n",
    "def does_have_return(src: str) -> bool:\n",
    "    \"\"\"\n",
    "    Check if the given Java code contains a return statement with a value.\n",
    "    \"\"\"\n",
    "    tree = global_parser.parse(bytes(src, \"utf8\"))\n",
    "    root = tree.root_node\n",
    "    captures = RETURN_QUERY.captures(root)\n",
    "    for node, _ in captures:\n",
    "        # If it doesn't have an argument, it's not a return with a value\n",
    "        if len(node.children) <= 1:  # Includes \"return\" itself\n",
    "            continue\n",
    "        else:\n",
    "            return True\n",
    "    return False\n"
   ]
  },
  {
   "cell_type": "code",
   "execution_count": 6,
   "id": "a5889ead-f07b-460e-8798-37df9b0c8257",
   "metadata": {},
   "outputs": [
    {
     "name": "stdout",
     "output_type": "stream",
     "text": [
      "Filtering to only functions with return statements\n"
     ]
    },
    {
     "data": {
      "application/vnd.jupyter.widget-view+json": {
       "model_id": "6dc5163b042844e1b45a0718784e2b1a",
       "version_major": 2,
       "version_minor": 0
      },
      "text/plain": [
       "Filter (num_proc=20):   0%|          | 0/10001 [00:00<?, ? examples/s]"
      ]
     },
     "metadata": {},
     "output_type": "display_data"
    },
    {
     "data": {
      "text/plain": [
       "Dataset({\n",
       "    features: ['blob_id', 'directory_id', 'path', 'content_id', 'detected_licenses', 'license_type', 'repo_name', 'snapshot_id', 'revision_id', 'branch_name', 'visit_date', 'revision_date', 'committer_date', 'github_id', 'star_events_count', 'fork_events_count', 'gha_license_id', 'gha_event_created_at', 'gha_created_at', 'gha_language', 'src_encoding', 'language', 'is_vendor', 'is_generated', 'length_bytes', 'extension', 'filename', 'content'],\n",
       "    num_rows: 5835\n",
       "})"
      ]
     },
     "execution_count": 6,
     "metadata": {},
     "output_type": "execute_result"
    }
   ],
   "source": [
    "print(\"Filtering to only functions with return statements\")\n",
    "ds = ds.filter(lambda ex: does_have_return(\n",
    "    ex[\"content\"]), num_proc=os.cpu_count())\n",
    "ds\n"
   ]
  },
  {
   "cell_type": "code",
   "execution_count": 7,
   "id": "fef71cc6",
   "metadata": {},
   "outputs": [],
   "source": [
    "\n",
    "def run_javac(directory: str) -> Dict[str, int]:\n",
    "    \"\"\"\n",
    "    Runs the `javac` command in the given directory and parses the output to count errors for each file.\n",
    "    \"\"\"\n",
    "    try:\n",
    "        result = subprocess.run(\n",
    "            [\"javac\", \"*.java\"],\n",
    "            cwd=directory,\n",
    "            capture_output=True,\n",
    "            timeout=120,\n",
    "            text=True,\n",
    "        )\n",
    "    except Exception as e:\n",
    "        print(f\"Error running javac: {e}\")\n",
    "        return {}\n",
    "\n",
    "    file_error_map = {}\n",
    "    error_lines = result.stderr.split(\"\\n\")\n",
    "    for line in error_lines:\n",
    "        if line.strip():\n",
    "            parts = line.split(\":\")\n",
    "            if len(parts) >= 2:\n",
    "                file_name = parts[0].strip()\n",
    "                if file_name not in file_error_map:\n",
    "                    file_error_map[file_name] = 0\n",
    "                if \"error\" in line:\n",
    "                    file_error_map[file_name] += 1\n",
    "\n",
    "    return file_error_map\n",
    "\n",
    "def typecheck_batch(files: List[str]) -> Dict[str, str]:\n",
    "    \"\"\"\n",
    "    Type-checks a batch of Java files and filters out files with compilation errors.\n",
    "    \"\"\"\n",
    "    filemap: Dict[str, str] = {}\n",
    "    with tempfile.TemporaryDirectory() as tempdir:\n",
    "        for content in files:\n",
    "            # Generate a unique filename using SHA-1 hash\n",
    "            hash_object = hashlib.sha1(bytes(content, \"utf8\"))\n",
    "            hex_dig = hash_object.hexdigest()\n",
    "            filemap[hex_dig] = content\n",
    "            file_path = os.path.join(tempdir, hex_dig + \".java\")\n",
    "            with open(file_path, \"w\") as f:\n",
    "                f.write(content)\n",
    "\n",
    "        # Run javac in the temporary directory\n",
    "        error_map = run_javac(tempdir)\n",
    "        print(error_map)\n",
    "\n",
    "        if not error_map:\n",
    "            return {}\n",
    "\n",
    "        for file_name, error_count in error_map.items():\n",
    "            no_java = file_name.replace(\".java\", \"\")\n",
    "            if error_count > 0 and no_java in filemap:\n",
    "                del filemap[no_java]\n",
    "\n",
    "        print(f\"Pass rate: {len(filemap)}/{len(files)}\")\n",
    "        return filemap\n"
   ]
  },
  {
   "cell_type": "code",
   "execution_count": 8,
   "id": "8db3fd22-9743-45e8-b17a-2195a5119c79",
   "metadata": {},
   "outputs": [
    {
     "name": "stderr",
     "output_type": "stream",
     "text": [
      "  8%|▊         | 455/5835 [00:00<00:05, 1024.21it/s]"
     ]
    },
    {
     "name": "stdout",
     "output_type": "stream",
     "text": [
      "{'error': 1, 'Usage': 0}\n",
      "Pass rate: 250/250\n"
     ]
    },
    {
     "name": "stderr",
     "output_type": "stream",
     "text": [
      " 10%|█         | 602/5835 [00:00<00:06, 761.39it/s] "
     ]
    },
    {
     "name": "stdout",
     "output_type": "stream",
     "text": [
      "{'error': 1, 'Usage': 0}\n",
      "Pass rate: 250/250\n"
     ]
    },
    {
     "name": "stderr",
     "output_type": "stream",
     "text": [
      " 13%|█▎        | 750/5835 [00:00<00:07, 724.45it/s]"
     ]
    },
    {
     "name": "stdout",
     "output_type": "stream",
     "text": [
      "{'error': 1, 'Usage': 0}\n",
      "Pass rate: 250/250\n"
     ]
    },
    {
     "name": "stderr",
     "output_type": "stream",
     "text": [
      " 17%|█▋        | 1000/5835 [00:01<00:05, 825.48it/s]"
     ]
    },
    {
     "name": "stdout",
     "output_type": "stream",
     "text": [
      "{'error': 1, 'Usage': 0}\n",
      "Pass rate: 250/250\n"
     ]
    },
    {
     "name": "stderr",
     "output_type": "stream",
     "text": [
      " 21%|██▏       | 1250/5835 [00:01<00:05, 828.95it/s]"
     ]
    },
    {
     "name": "stdout",
     "output_type": "stream",
     "text": [
      "{'error': 1, 'Usage': 0}\n",
      "Pass rate: 250/250\n"
     ]
    },
    {
     "name": "stderr",
     "output_type": "stream",
     "text": [
      " 26%|██▌       | 1500/5835 [00:01<00:05, 818.58it/s]"
     ]
    },
    {
     "name": "stdout",
     "output_type": "stream",
     "text": [
      "{'error': 1, 'Usage': 0}\n",
      "Pass rate: 250/250\n"
     ]
    },
    {
     "name": "stderr",
     "output_type": "stream",
     "text": [
      " 34%|███▍      | 1993/5835 [00:02<00:03, 988.34it/s]"
     ]
    },
    {
     "name": "stdout",
     "output_type": "stream",
     "text": [
      "{'error': 1, 'Usage': 0}\n",
      "Pass rate: 250/250\n"
     ]
    },
    {
     "name": "stderr",
     "output_type": "stream",
     "text": [
      " 36%|███▋      | 2125/5835 [00:02<00:04, 825.92it/s]"
     ]
    },
    {
     "name": "stdout",
     "output_type": "stream",
     "text": [
      "{'error': 1, 'Usage': 0}\n",
      "Pass rate: 250/250\n"
     ]
    },
    {
     "name": "stderr",
     "output_type": "stream",
     "text": [
      " 39%|███▊      | 2250/5835 [00:02<00:04, 726.15it/s]"
     ]
    },
    {
     "name": "stdout",
     "output_type": "stream",
     "text": [
      "{'error': 1, 'Usage': 0}\n",
      "Pass rate: 250/250\n"
     ]
    },
    {
     "name": "stderr",
     "output_type": "stream",
     "text": [
      " 47%|████▋     | 2748/5835 [00:03<00:03, 1024.63it/s]"
     ]
    },
    {
     "name": "stdout",
     "output_type": "stream",
     "text": [
      "{'error': 1, 'Usage': 0}\n",
      "Pass rate: 250/250\n"
     ]
    },
    {
     "name": "stderr",
     "output_type": "stream",
     "text": [
      " 49%|████▉     | 2886/5835 [00:03<00:04, 725.21it/s] "
     ]
    },
    {
     "name": "stdout",
     "output_type": "stream",
     "text": [
      "{'error': 1, 'Usage': 0}\n",
      "Pass rate: 250/250\n"
     ]
    },
    {
     "name": "stderr",
     "output_type": "stream",
     "text": [
      " 55%|█████▍    | 3201/5835 [00:04<00:03, 771.73it/s]"
     ]
    },
    {
     "name": "stdout",
     "output_type": "stream",
     "text": [
      "{'error': 1, 'Usage': 0}\n",
      "Pass rate: 250/250\n"
     ]
    },
    {
     "name": "stderr",
     "output_type": "stream",
     "text": [
      " 57%|█████▋    | 3321/5835 [00:04<00:04, 579.24it/s]"
     ]
    },
    {
     "name": "stdout",
     "output_type": "stream",
     "text": [
      "{'error': 1, 'Usage': 0}\n",
      "Pass rate: 250/250\n"
     ]
    },
    {
     "name": "stderr",
     "output_type": "stream",
     "text": [
      " 60%|█████▉    | 3500/5835 [00:04<00:03, 609.43it/s]"
     ]
    },
    {
     "name": "stdout",
     "output_type": "stream",
     "text": [
      "{'error': 1, 'Usage': 0}\n",
      "Pass rate: 250/250\n"
     ]
    },
    {
     "name": "stderr",
     "output_type": "stream",
     "text": [
      " 64%|██████▍   | 3750/5835 [00:04<00:02, 706.37it/s]"
     ]
    },
    {
     "name": "stdout",
     "output_type": "stream",
     "text": [
      "{'error': 1, 'Usage': 0}\n",
      "Pass rate: 250/250\n"
     ]
    },
    {
     "name": "stderr",
     "output_type": "stream",
     "text": [
      " 69%|██████▊   | 4000/5835 [00:05<00:02, 766.83it/s]"
     ]
    },
    {
     "name": "stdout",
     "output_type": "stream",
     "text": [
      "{'error': 1, 'Usage': 0}\n",
      "Pass rate: 250/250\n"
     ]
    },
    {
     "name": "stderr",
     "output_type": "stream",
     "text": [
      " 73%|███████▎  | 4250/5835 [00:05<00:01, 819.96it/s]"
     ]
    },
    {
     "name": "stdout",
     "output_type": "stream",
     "text": [
      "{'error': 1, 'Usage': 0}\n",
      "Pass rate: 250/250\n"
     ]
    },
    {
     "name": "stderr",
     "output_type": "stream",
     "text": [
      " 77%|███████▋  | 4500/5835 [00:05<00:01, 821.52it/s]"
     ]
    },
    {
     "name": "stdout",
     "output_type": "stream",
     "text": [
      "{'error': 1, 'Usage': 0}\n",
      "Pass rate: 250/250\n"
     ]
    },
    {
     "name": "stderr",
     "output_type": "stream",
     "text": [
      " 81%|████████▏ | 4750/5835 [00:06<00:01, 870.70it/s]"
     ]
    },
    {
     "name": "stdout",
     "output_type": "stream",
     "text": [
      "{'error': 1, 'Usage': 0}\n",
      "Pass rate: 250/250\n"
     ]
    },
    {
     "name": "stderr",
     "output_type": "stream",
     "text": [
      " 86%|████████▌ | 5000/5835 [00:06<00:00, 876.25it/s]"
     ]
    },
    {
     "name": "stdout",
     "output_type": "stream",
     "text": [
      "{'error': 1, 'Usage': 0}\n",
      "Pass rate: 250/250\n"
     ]
    },
    {
     "name": "stderr",
     "output_type": "stream",
     "text": [
      " 90%|████████▉ | 5250/5835 [00:06<00:00, 848.44it/s]"
     ]
    },
    {
     "name": "stdout",
     "output_type": "stream",
     "text": [
      "{'error': 1, 'Usage': 0}\n",
      "Pass rate: 250/250\n"
     ]
    },
    {
     "name": "stderr",
     "output_type": "stream",
     "text": [
      " 94%|█████████▍| 5500/5835 [00:06<00:00, 896.45it/s]"
     ]
    },
    {
     "name": "stdout",
     "output_type": "stream",
     "text": [
      "{'error': 1, 'Usage': 0}\n",
      "Pass rate: 250/250\n"
     ]
    },
    {
     "name": "stderr",
     "output_type": "stream",
     "text": [
      "100%|██████████| 5835/5835 [00:07<00:00, 794.55it/s]"
     ]
    },
    {
     "name": "stdout",
     "output_type": "stream",
     "text": [
      "{'error': 1, 'Usage': 0}\n",
      "Pass rate: 250/250\n",
      "{'error': 1, 'Usage': 0}\n",
      "Pass rate: 85/85\n"
     ]
    },
    {
     "name": "stderr",
     "output_type": "stream",
     "text": [
      "\n"
     ]
    }
   ],
   "source": [
    "batch = []\n",
    "max_i = len(ds) - 1\n",
    "\n",
    "new_ds = {\n",
    "    \"content\": [],\n",
    "    \"sha1\": [],\n",
    "    \"id\": [],\n",
    "}\n",
    "\n",
    "e_id = 0\n",
    "for i, ex in enumerate(tqdm(ds, total=len(ds))):\n",
    "    try:\n",
    "        code = ex[\"content\"]\n",
    "\n",
    "        batch.append(code)\n",
    "\n",
    "        if len(batch) == 250 or i == max_i:\n",
    "            filemap = typecheck_batch(batch)\n",
    "            for sha1, contents in filemap.items():\n",
    "                new_ds[\"content\"].append(contents)\n",
    "                new_ds[\"sha1\"].append(sha1)\n",
    "                new_ds[\"id\"].append(e_id)\n",
    "                e_id += 1\n",
    "            batch = []\n",
    "            \n",
    "    except Exception as e:\n",
    "        print(f\"There was an error: {e}\")\n",
    "        continue\n",
    "\n",
    "new_ds_hf = datasets.Dataset.from_dict(new_ds)"
   ]
  },
  {
   "cell_type": "code",
   "execution_count": 9,
   "id": "418df388-25a5-460d-825b-c95ede49b43c",
   "metadata": {},
   "outputs": [
    {
     "data": {
      "application/vnd.jupyter.widget-view+json": {
       "model_id": "14b36e4304b146cb9b33b84ea401093f",
       "version_major": 2,
       "version_minor": 0
      },
      "text/plain": [
       "Saving the dataset (0/1 shards):   0%|          | 0/5835 [00:00<?, ? examples/s]"
      ]
     },
     "metadata": {},
     "output_type": "display_data"
    }
   ],
   "source": [
    "save_dir = \"../datasets/Dec14\"\n",
    "new_ds_hf.save_to_disk(save_dir)"
   ]
  },
  {
   "cell_type": "code",
   "execution_count": null,
   "id": "b10a2057",
   "metadata": {},
   "outputs": [
    {
     "data": {
      "application/vnd.jupyter.widget-view+json": {
       "model_id": "e4b07d59b4a4448a8e3e8b4f79a01d5e",
       "version_major": 2,
       "version_minor": 0
      },
      "text/plain": [
       "Creating json from Arrow format:   0%|          | 0/2 [00:00<?, ?ba/s]"
      ]
     },
     "metadata": {},
     "output_type": "display_data"
    },
    {
     "data": {
      "text/plain": [
       "5225926"
      ]
     },
     "execution_count": 23,
     "metadata": {},
     "output_type": "execute_result"
    }
   ],
   "source": [
    "new_ds_hf.to_json(\"../datasets/Dec14/sample_from_2000.json\")"
   ]
  },
  {
   "cell_type": "markdown",
   "id": "53c67802-a173-4df2-b661-234745f0bfdf",
   "metadata": {},
   "source": [
    "### SEED GATHERING FILTER DATASET"
   ]
  },
  {
   "cell_type": "code",
   "execution_count": 28,
   "id": "e9ffba03",
   "metadata": {},
   "outputs": [
    {
     "name": "stderr",
     "output_type": "stream",
     "text": [
      "100%|██████████| 20/20 [00:00<00:00, 126.22it/s]"
     ]
    },
    {
     "name": "stdout",
     "output_type": "stream",
     "text": [
      "{'error': 1, 'Usage': 0}\n",
      "Pass rate: 20/20\n"
     ]
    },
    {
     "name": "stderr",
     "output_type": "stream",
     "text": [
      "\n"
     ]
    }
   ],
   "source": [
    "# if args.infer_imports:\n",
    "#     print(\"Inferring imports for functions\")\n",
    "#     ds = ds.map(lambda ex: {\"content\": infer_imports(\n",
    "#         ex[\"content\"])}, num_proc=os.cpu_count())\n",
    "\n",
    "batch = []\n",
    "max_i = len(ds) - 1\n",
    "\n",
    "new_ds = {\n",
    "    \"content\": [],\n",
    "    \"sha1\": [],\n",
    "    \"id\": [],\n",
    "}\n",
    "\n",
    "e_id = 0\n",
    "for i, ex in enumerate(tqdm(ds, total=len(ds))):\n",
    "    try:\n",
    "        code = ex[\"content\"]\n",
    "        batch.append(code)\n",
    "        if len(batch) == 250 or i == max_i:\n",
    "            filemap = typecheck_batch(batch)\n",
    "            for sha1, contents in filemap.items():\n",
    "                new_ds[\"content\"].append(contents)\n",
    "                new_ds[\"sha1\"].append(sha1)\n",
    "                new_ds[\"id\"].append(e_id)\n",
    "                e_id += 1\n",
    "            batch = []\n",
    "            \n",
    "    except Exception as e:\n",
    "        print(f\"There was an error: {e}\")\n",
    "        continue\n",
    "\n",
    "new_ds_hf = datasets.Dataset.from_dict(new_ds)"
   ]
  },
  {
   "cell_type": "code",
   "execution_count": 10,
   "id": "01086352-e230-4267-9b7b-feab665f681a",
   "metadata": {},
   "outputs": [],
   "source": [
    "import datasets\n",
    "import os\n",
    "from tree_sitter_parser import global_parser, LANGUAGE, does_have_return, make_parser\n",
    "import benchmark_data\n",
    "from tqdm import tqdm\n",
    "import torch\n",
    "import argparse\n",
    "from vllm import LLM, SamplingParams\n",
    "import random"
   ]
  },
  {
   "cell_type": "code",
   "execution_count": 14,
   "id": "e4ceb3de",
   "metadata": {},
   "outputs": [],
   "source": [
    "def unindent(s):\n",
    "    \"\"\"\n",
    "    Remove leading indentation from a multi-line string.\n",
    "    \"\"\"\n",
    "    lines = s.splitlines()\n",
    "    non_blank_lines = [line for line in lines if line.strip()]\n",
    "    min_indent = min(len(line) - len(line.lstrip())\n",
    "                     for line in non_blank_lines) if non_blank_lines else 0\n",
    "    unindented_lines = [line[min_indent:] if len(\n",
    "        line) >= min_indent else line for line in lines]\n",
    "    return '\\n'.join(unindented_lines)\n",
    "\n",
    "\n",
    "def java_extract_javadoc(code):\n",
    "    \"\"\"\n",
    "    Extract the first Javadoc-style comment (`/** ... */`) from Java code\n",
    "    and return the comment along with the remaining code.\n",
    "\n",
    "    Args:\n",
    "        code (str): The Java code as a string.\n",
    "\n",
    "    Returns:\n",
    "        tuple: The extracted Javadoc comment (str) and the remaining code (str).\n",
    "    \"\"\"\n",
    "    # Find the opening of the Javadoc comment\n",
    "    first_comment_start = code.find(\"/**\")\n",
    "    if first_comment_start == -1:\n",
    "        raise ValueError(\"No Javadoc comment found in the code.\")\n",
    "\n",
    "    # Find the closing of the Javadoc comment\n",
    "    first_comment_end = code.find(\"*/\", first_comment_start)\n",
    "    if first_comment_end == -1:\n",
    "        raise ValueError(\"Javadoc comment is not properly closed.\")\n",
    "\n",
    "    # Extract the comment\n",
    "    comment = code[first_comment_start + 3:first_comment_end]  # Skip `/**` and include content\n",
    "    comment = unindent(comment).strip()  # Unindent and clean up the comment\n",
    "\n",
    "    # Remove the Javadoc comment from the code\n",
    "    remaining_code = code[:first_comment_start] + code[first_comment_end + 2:]\n",
    "\n",
    "    return comment, remaining_code.strip()\n"
   ]
  },
  {
   "cell_type": "code",
   "execution_count": 24,
   "id": "4adfc94c-0964-4eaa-9e9c-7749bb4cf952",
   "metadata": {},
   "outputs": [],
   "source": [
    "FN_BLOCK_QUERY = LANGUAGE.query(\"\"\"\n",
    "(method_declaration\n",
    "    body: (block) @method-body)\n",
    "\"\"\")\n",
    "\n",
    "\n",
    "def template_few_shot(code, answer, rationale):\n",
    "    doc, code = java_extract_javadoc(code)\n",
    "    assert answer == \"No\" or answer == \"Yes\"\n",
    "    prompt = f\"\"\"<issue_start>username_0: I have a function in Java and I'd like someone to check my description of this function.\n",
    "I'm doing this so that I can write a good docstring for this function.\n",
    "\n",
    "Here is the code for the function:\n",
    "```Java\n",
    "{code}\n",
    "```\n",
    "\n",
    "Here is my description of this program:\n",
    "```\n",
    "{doc}\n",
    "```\n",
    "\n",
    "Do not attempt to execute the function or to judge its correctness.\n",
    "Answer with \"Yes\" or \"No\" depending on if my description has enough information alone to re-implement the function.\n",
    "Also, answer with \"No\" if the description does not match the function.<issue_comment>username_1: Sure, no problem. I will be able to help.\n",
    "My answer is: {answer}\n",
    "\n",
    "{rationale}\n",
    "\n",
    "Upvotes: 200\"\"\"\n",
    "    return prompt\n",
    "\n",
    "\n",
    "FEW_SHOTS = [\n",
    "    (\n",
    "        \"\"\"\n",
    "        public List<String> simpleScanNetwork() {\n",
    "            /**\n",
    "             * Do a simple network scan, which only works if your network configuration\n",
    "             * is 192.168.1.x\n",
    "             */\n",
    "            String baseIp = \"192.168.1.\";\n",
    "            List<String> addresses = new ArrayList<>();\n",
    "            addresses.add(\"127.0.0.1\");\n",
    "\n",
    "            for (int index = 1; index < 255; index++) {\n",
    "                addresses.add(baseIp + index);\n",
    "            }\n",
    "\n",
    "            return addresses;\n",
    "        }\n",
    "        \"\"\",\n",
    "        \"No\",\n",
    "        \"The simpleScanNetwork method you have provided seems to generate addresses that then would be used for a network scan, but does not actually perform it, unlike the method claims.\"\n",
    "    ),\n",
    "    (\n",
    "        \"\"\"\n",
    "        import java.util.*;\n",
    "        \n",
    "        public class DataFrameUtils {\n",
    "            public static DataFrame coerceInteger(DataFrame df) {\n",
    "                /**\n",
    "                 * Loop through the columns of a DataFrame. If it is numeric,\n",
    "                 * convert it to integer and fill missing values with zeros.\n",
    "                 * This is somewhat heavy-handed in an attempt to force\n",
    "                 * systems to recognize sparse columns as integers.\n",
    "                 */\n",
    "                List<String> except = Arrays.asList(\"latitude\", \"longitude\", \"zipCode\");\n",
    "\n",
    "                df.forEachColumn((name, series) -> {\n",
    "                    if (series.isNumeric() && !except.contains(name)) {\n",
    "                        series.fillNaN(0).toInteger();\n",
    "                    }\n",
    "                });\n",
    "\n",
    "                return df;\n",
    "            }\n",
    "        }\n",
    "        \"\"\",\n",
    "        \"Yes\",\n",
    "        \"The docstring does seem to match the implementation! The method loops through the columns of a DataFrame and coerces them as explained.\"\n",
    "    ),\n",
    "    (\n",
    "        \"\"\"\n",
    "        public class NameTransformer {\n",
    "            /**\n",
    "             * Converts a DataFrame to a dictionary.\n",
    "             *\n",
    "             * @param data The input DataFrame.\n",
    "             * @return A map containing transformed names.\n",
    "             */\n",
    "            public static Map<String, Map<String, String>> transformDataFrameToDict(DataFrame data) {\n",
    "                data.setColumn(\"en_name\", data.getColumn(\"en_name\").toUpperCase());\n",
    "                data.setColumn(\"en_name_f\", data.getColumn(\"en_name\").split(\" \")[0]);\n",
    "                data.setColumn(\"en_name_l\", data.getColumn(\"en_name\").split(\" \")[1]);\n",
    "                data.setColumn(\"jp_name_f\", data.getColumn(\"jp_name\").split(\"・\")[0]);\n",
    "                data.setColumn(\"jp_name_l\", data.getColumn(\"jp_name\").split(\"・\")[1]);\n",
    "\n",
    "                Map<String, String> fullNameMap = data.zipToMap(\"en_name\", \"jp_name\");\n",
    "                Map<String, String> firstNameMap = data.zipToMap(\"en_name_f\", \"jp_name_f\");\n",
    "                Map<String, String> lastNameMap = data.zipToMap(\"en_name_l\", \"jp_name_l\");\n",
    "\n",
    "                return Map.of(\n",
    "                    \"fullNameMap\", fullNameMap,\n",
    "                    \"firstNameMap\", firstNameMap,\n",
    "                    \"lastNameMap\", lastNameMap\n",
    "                );\n",
    "            }\n",
    "        }\n",
    "        \"\"\",\n",
    "        \"No\",\n",
    "        \"The transformDataFrameToDict method does indeed convert a DataFrame into a dictionary, but it transforms various columns that were not described in the docstring. For instance, nowhere in the docstring is it mentioned handling Japanese characters or the column names.\"\n",
    "    ),\n",
    "    (\n",
    "        \"\"\"\n",
    "        public double inchesToMeters(double inches) {\n",
    "            /**\n",
    "             * Convert inches to meters.\n",
    "             */\n",
    "            return inches * 0.0254;\n",
    "        }\n",
    "        \"\"\",\n",
    "        \"Yes\",\n",
    "        \"inchesToMeters is a very simple method. The docstring explains concisely its purpose, which is converting inches to meters.\"\n",
    "    ),\n",
    "    (\n",
    "        \"\"\"\n",
    "        public BufferedImage squareCrop(BufferedImage image, Integer targetSize) {\n",
    "            /**\n",
    "             * Crop the image to `targetSize`. If targetSize is null, the image\n",
    "             * is cropped to the smallest dimension, making it square.\n",
    "             */\n",
    "            int width = image.getWidth();\n",
    "            int height = image.getHeight();\n",
    "\n",
    "            if (targetSize == null) {\n",
    "                targetSize = Math.min(width, height);\n",
    "            }\n",
    "\n",
    "            int dx = (width - targetSize) / 2;\n",
    "            int dy = (height - targetSize) / 2;\n",
    "\n",
    "            return image.getSubimage(dx, dy, targetSize, targetSize);\n",
    "        }\n",
    "        \"\"\",\n",
    "        \"Yes\",\n",
    "        \"Following the standard description for docstrings for methods, the squareCrop method description tells exactly what the method does.\"\n",
    "    ),\n",
    "    (\n",
    "        \"\"\"\n",
    "        public Map<String, String> setupMotifFiles(Args args) {\n",
    "            /**\n",
    "             * Convenience method, ensures the setup is the same across\n",
    "             * multiplicity/orientation/spacing workflows.\n",
    "             */\n",
    "            Map<String, String> motifFiles = new HashMap<>();\n",
    "            motifFiles.put(\"early\", String.format(\"%s/%s/ggr.scanmotifs.h5\",\n",
    "                args.getInput(\"inference\").get(args.getCluster()).get(\"scanmotifs_dir\"),\n",
    "                args.getInput(\"inference\").get(args.getCluster()).get(\"scanmotifs_early_dir\")\n",
    "            ));\n",
    "            motifFiles.put(\"mid\", String.format(\"%s/%s/ggr.scanmotifs.h5\",\n",
    "                args.getInput(\"inference\").get(args.getCluster()).get(\"scanmotifs_dir\"),\n",
    "                args.getInput(\"inference\").get(args.getCluster()).get(\"scanmotifs_mid_dir\")\n",
    "            ));\n",
    "            motifFiles.put(\"late\", String.format(\"%s/%s/ggr.scanmotifs.h5\",\n",
    "                args.getInput(\"inference\").get(args.getCluster()).get(\"scanmotifs_dir\"),\n",
    "                args.getInput(\"inference\").get(args.getCluster()).get(\"scanmotifs_late_dir\")\n",
    "            ));\n",
    "            return motifFiles;\n",
    "        }\n",
    "        \"\"\",\n",
    "        \"No\",\n",
    "        \"The docstring for setupMotifFiles just says this is a convenience method. There is definitely not enough information to re-implement this method from the docstring alone.\"\n",
    "    ),\n",
    "    (\n",
    "        \"\"\"\n",
    "        public double trip(double[] u, double[] v) {\n",
    "            /**\n",
    "             * Returns the scalar triple product of vectors u and v and z-axis.\n",
    "             * The convention is z dot (u cross v). Dotting with the z-axis simplifies\n",
    "             * it to the z component of the u cross v.\n",
    "             *\n",
    "             * The product is:\n",
    "             * - positive if v is to the left of u, that is,\n",
    "             *   the shortest right-hand rotation from u to v is ccw.\n",
    "             * - negative if v is to the right of u, that is,\n",
    "             *   the shortest right-hand rotation from u to v is cw.\n",
    "             * - zero if v is collinear with u.\n",
    "             *\n",
    "             * Essentially, trip is the z component of the cross product of u x v.\n",
    "             */\n",
    "            return (u[0] * v[1] - u[1] * v[0]);\n",
    "        }\n",
    "        \"\"\",\n",
    "        \"Yes\",\n",
    "        \"The docstring for the trip method is very detailed and describes the method's purpose and the mathematical formula used to calculate the scalar triple product.\"\n",
    "    )\n",
    "]\n",
    "\n",
    "\n",
    "def prompt_fmt_java(code):\n",
    "    doc, code = java_extract_javadoc(code)\n",
    "    random.shuffle(FEW_SHOTS)\n",
    "    buf = \"\"\n",
    "    for few in FEW_SHOTS:\n",
    "        buf += template_few_shot(*few)\n",
    "    buf += f\"\"\"<issue_start>username_0: I have a function in Java and I'd like someone to check my description of this function.\n",
    "I'm doing this so that I can write a good docstring for this function.\n",
    "\n",
    "Here is the code for the function:\n",
    "```java\n",
    "{code}\n",
    "```\n",
    "\n",
    "Here is my description of this program:\n",
    "```\n",
    "{doc}\n",
    "```\n",
    "\n",
    "Do not attempt to execute the function or to judge its correctness.\n",
    "Answer with \"Yes\" or \"No\" depending on if my description has enough information alone to re-implement the function.\n",
    "Also, answer with \"No\" if the description does not match the function.\n",
    "Upvotes: 100<issue_comment>username_1: Sure, no problem. I will be able to help.\n",
    "My answer is:\"\"\"\n",
    "    return buf\n",
    "\n",
    "\n",
    "def auto_dtype():\n",
    "    if torch.cuda.is_bf16_supported():\n",
    "        return \"bfloat16\"\n",
    "    return \"auto\"\n",
    "\n",
    "\n",
    "def chunkify(lst, n):\n",
    "    chunks = []\n",
    "    for i in range(0, len(lst), n):\n",
    "        chunk = []\n",
    "        for j in range(n):\n",
    "            if i + j < len(lst):\n",
    "                chunk.append(lst[i + j])\n",
    "        chunks.append(chunk)\n",
    "    return chunks\n"
   ]
  },
  {
   "cell_type": "code",
   "execution_count": 13,
   "id": "cbcfa4b2-d3bb-4560-9578-8ce15d4d68de",
   "metadata": {},
   "outputs": [
    {
     "data": {
      "text/plain": [
       "Dataset({\n",
       "    features: ['content', 'sha1', 'id'],\n",
       "    num_rows: 5835\n",
       "})"
      ]
     },
     "execution_count": 13,
     "metadata": {},
     "output_type": "execute_result"
    }
   ],
   "source": [
    "dataset = new_ds_hf\n",
    "dataset"
   ]
  },
  {
   "cell_type": "code",
   "execution_count": 16,
   "id": "d0992371-9ad5-4ad9-8aaa-d74b25eb4da0",
   "metadata": {
    "scrolled": true
   },
   "outputs": [
    {
     "name": "stdout",
     "output_type": "stream",
     "text": [
      "Loaded 5835 examples. Running pre-filtering...\n"
     ]
    }
   ],
   "source": [
    "print(f\"Loaded {len(dataset)} examples. Running pre-filtering...\")\n",
    "\n",
    "BAD_WORDS = [\"todo\", \"fixme\", \"bug\"]\n",
    "BAD_IMPORTS = [\n",
    "    \"java.util.Scanner\", \n",
    "    \"java.lang.Runtime\", \n",
    "    \"java.lang.ProcessBuilder\", \n",
    "    \"javax.swing\", \n",
    "    \"java.awt\"\n",
    "]\n",
    "BAD_IMPORTS = [f\"import {b};\" for b in BAD_IMPORTS]\n",
    "# BAD_SUBSTRINGS = BAD_WORDS + BAD_IMPORTS\n",
    "BAD_SUBSTRINGS = BAD_WORDS\n",
    "\n",
    "# bench_filter = benchmark_data.filter_out()\n",
    "# all_bench = bench_filter[\"human_eval_docstrings\"] + \\\n",
    "#     bench_filter[\"human_eval_solutions\"] + \\\n",
    "#     bench_filter[\"mbpp_docstrings\"] + \\\n",
    "#     bench_filter[\"mbpp_solutions\"]"
   ]
  },
  {
   "cell_type": "code",
   "execution_count": 17,
   "id": "d63862e9",
   "metadata": {},
   "outputs": [
    {
     "data": {
      "text/plain": [
       "Dataset({\n",
       "    features: ['blob_id', 'directory_id', 'path', 'content_id', 'detected_licenses', 'license_type', 'repo_name', 'snapshot_id', 'revision_id', 'branch_name', 'visit_date', 'revision_date', 'committer_date', 'github_id', 'star_events_count', 'fork_events_count', 'gha_license_id', 'gha_event_created_at', 'gha_created_at', 'gha_language', 'src_encoding', 'language', 'is_vendor', 'is_generated', 'length_bytes', 'extension', 'filename', 'content'],\n",
       "    num_rows: 5835\n",
       "})"
      ]
     },
     "execution_count": 17,
     "metadata": {},
     "output_type": "execute_result"
    }
   ],
   "source": [
    "ds"
   ]
  },
  {
   "cell_type": "code",
   "execution_count": 20,
   "id": "1af077da-feac-4358-8702-e3c06927f0bf",
   "metadata": {},
   "outputs": [
    {
     "name": "stderr",
     "output_type": "stream",
     "text": [
      "/usr/local/lib/python3.11/dist-packages/dill/_dill.py:414: PicklingWarning: Cannot locate reference to <class '_ctypes.PyCFuncPtrType'>.\n",
      "  StockPickler.save(self, obj, save_persistent_id)\n",
      "/usr/local/lib/python3.11/dist-packages/dill/_dill.py:414: PicklingWarning: Cannot pickle <class '_ctypes.PyCFuncPtrType'>: _ctypes.PyCFuncPtrType has recursive self-references that trigger a RecursionError.\n",
      "  StockPickler.save(self, obj, save_persistent_id)\n"
     ]
    },
    {
     "data": {
      "application/vnd.jupyter.widget-view+json": {
       "model_id": "3cbc9b93a5d44a80b530fce02ed44ec5",
       "version_major": 2,
       "version_minor": 0
      },
      "text/plain": [
       "Filter (num_proc=20):   0%|          | 0/5835 [00:00<?, ? examples/s]"
      ]
     },
     "metadata": {},
     "output_type": "display_data"
    },
    {
     "data": {
      "text/plain": [
       "Dataset({\n",
       "    features: ['blob_id', 'directory_id', 'path', 'content_id', 'detected_licenses', 'license_type', 'repo_name', 'snapshot_id', 'revision_id', 'branch_name', 'visit_date', 'revision_date', 'committer_date', 'github_id', 'star_events_count', 'fork_events_count', 'gha_license_id', 'gha_event_created_at', 'gha_created_at', 'gha_language', 'src_encoding', 'language', 'is_vendor', 'is_generated', 'length_bytes', 'extension', 'filename', 'content'],\n",
       "    num_rows: 4156\n",
       "})"
      ]
     },
     "execution_count": 20,
     "metadata": {},
     "output_type": "execute_result"
    }
   ],
   "source": [
    "RETURN_QUERY = LANGUAGE.query(\"\"\"\n",
    "(return_statement) @return\n",
    "\"\"\")\n",
    "\n",
    "def does_have_return(src: str) -> bool:\n",
    "    \"\"\"\n",
    "    Check if the given Java code contains a return statement with a value.\n",
    "    \"\"\"\n",
    "    tree = global_parser.parse(bytes(src, \"utf8\"))\n",
    "    root = tree.root_node\n",
    "    captures = RETURN_QUERY.captures(root)\n",
    "    for node, _ in captures:\n",
    "        # If it doesn't have an argument, it's not a return with a value\n",
    "        if len(node.children) <= 1:  # Includes \"return\" itself\n",
    "            continue\n",
    "        else:\n",
    "            return True\n",
    "    return False\n",
    "\n",
    "def pre_filtering_java(ex):\n",
    "    # \"\"\"\n",
    "    # Pre-filter Java code examples based on specific quality criteria.\n",
    "    # \"\"\"\n",
    "    code = ex[\"content\"]\n",
    "    code_bytes = code.encode('utf-8')\n",
    "\n",
    "    # # Filter out bad substrings\n",
    "    lower = code.lower()\n",
    "    for word in BAD_SUBSTRINGS:\n",
    "        if word in lower:\n",
    "            return False\n",
    "\n",
    "    # Too many lines of code -- say 150\n",
    "    lines = code.split(\"\\n\")\n",
    "    if len(lines) > 150:\n",
    "        return False\n",
    "\n",
    "    # # Exclude methods without meaningful parameters\n",
    "    # for line in lines:\n",
    "    #     # Look for method declarations\n",
    "    #     if line.strip().startswith((\"public\", \"private\", \"protected\")) and \"()\" in line:\n",
    "    #         return False\n",
    "\n",
    "    # # Filter out methods with no return statement\n",
    "    parser = make_parser()\n",
    "    if not does_have_return(code):\n",
    "        return False\n",
    "\n",
    "    # try:\n",
    "    #     # Parse the Java code with Tree-sitter\n",
    "    #     tree = global_parser.parse(code_bytes)\n",
    "    #     block, _ = FN_BLOCK_QUERY.captures(tree.root_node)[0]\n",
    "\n",
    "    #     # Get the Javadoc, filter if not a valid Javadoc\n",
    "    #     preceding_comments = block.prev_sibling\n",
    "    #     if not preceding_comments or preceding_comments.type != \"comment\":\n",
    "    #         return False\n",
    "\n",
    "    #     # Extract and validate the Javadoc content\n",
    "    #     docstring_text = preceding_comments.text.decode('utf-8').strip()\n",
    "    #     # if not docstring_text.startswith(\"/*\") or not docstring_text.endswith(\"*/\"):\n",
    "    #     if not docstring_text.startswith(\"/**\") or not docstring_text.endswith(\"*/\"):\n",
    "    #         return False\n",
    "    # except Exception as e:\n",
    "    #     print(f\"Error in filtering: {e}\")\n",
    "    #     return False\n",
    "\n",
    "    return True  # Passes all checks\n",
    "\n",
    "\n",
    "# threads = os.cpu_count() - 1  # type: ignore\n",
    "dataset = ds.filter(pre_filtering_java, num_proc=os.cpu_count())\n",
    "dataset"
   ]
  },
  {
   "cell_type": "code",
   "execution_count": 42,
   "id": "39126a7b",
   "metadata": {},
   "outputs": [
    {
     "data": {
      "application/vnd.jupyter.widget-view+json": {
       "model_id": "1e1488a2fc5740c5b09030b98e96e5a4",
       "version_major": 2,
       "version_minor": 0
      },
      "text/plain": [
       "Saving the dataset (0/1 shards):   0%|          | 0/15 [00:00<?, ? examples/s]"
      ]
     },
     "metadata": {},
     "output_type": "display_data"
    }
   ],
   "source": [
    "dataset.save_to_disk(\"../datasets/seed23/Java_after_pre_filtering\")"
   ]
  },
  {
   "cell_type": "code",
   "execution_count": 3,
   "id": "a7afc500",
   "metadata": {},
   "outputs": [
    {
     "data": {
      "application/vnd.jupyter.widget-view+json": {
       "model_id": "bb36ae712b6c412ea74b9c47d55d636c",
       "version_major": 2,
       "version_minor": 0
      },
      "text/plain": [
       "Generating train split: 0 examples [00:00, ? examples/s]"
      ]
     },
     "metadata": {},
     "output_type": "display_data"
    }
   ],
   "source": [
    "from datasets import load_dataset\n",
    "\n",
    "# Load the dataset from the JSON file\n",
    "dataset = load_dataset(\"json\", data_files=\"../datasets/seed22/Java_after_pre_filtering.json\")\n"
   ]
  },
  {
   "cell_type": "code",
   "execution_count": 21,
   "id": "7b75ff8c",
   "metadata": {},
   "outputs": [
    {
     "data": {
      "text/plain": [
       "Dataset({\n",
       "    features: ['blob_id', 'directory_id', 'path', 'content_id', 'detected_licenses', 'license_type', 'repo_name', 'snapshot_id', 'revision_id', 'branch_name', 'visit_date', 'revision_date', 'committer_date', 'github_id', 'star_events_count', 'fork_events_count', 'gha_license_id', 'gha_event_created_at', 'gha_created_at', 'gha_language', 'src_encoding', 'language', 'is_vendor', 'is_generated', 'length_bytes', 'extension', 'filename', 'content'],\n",
       "    num_rows: 4156\n",
       "})"
      ]
     },
     "execution_count": 21,
     "metadata": {},
     "output_type": "execute_result"
    }
   ],
   "source": [
    "dataset"
   ]
  },
  {
   "cell_type": "code",
   "execution_count": null,
   "id": "5d9bb5f5-d5d8-468f-923e-8e8c94b99e75",
   "metadata": {},
   "outputs": [],
   "source": [
    "model = LLM(f\"../../../StarCoder\", dtype=auto_dtype(),\n",
    "            gpu_memory_utilization=0.95, tensor_parallel_size=1)\n"
   ]
  },
  {
   "cell_type": "code",
   "execution_count": 22,
   "id": "b9ec3274",
   "metadata": {},
   "outputs": [
    {
     "name": "stderr",
     "output_type": "stream",
     "text": [
      "/usr/local/lib/python3.11/dist-packages/huggingface_hub/file_download.py:797: FutureWarning: `resume_download` is deprecated and will be removed in version 1.0.0. Downloads always resume when possible. If you want to force a new download, use `force_download=True`.\n",
      "  warnings.warn(\n",
      "/usr/local/lib/python3.11/dist-packages/huggingface_hub/file_download.py:797: FutureWarning: `resume_download` is deprecated and will be removed in version 1.0.0. Downloads always resume when possible. If you want to force a new download, use `force_download=True`.\n",
      "  warnings.warn(\n"
     ]
    }
   ],
   "source": [
    "from transformers import AutoModelForCausalLM, AutoTokenizer\n",
    "\n",
    "CHECKPOINT = \"bigcode/starcoderbase-1b\"\n",
    "# CHECKPOINT = \"bigcode/starcoder2-3b\"\n",
    "DEVICE = \"cuda\" # for GPU usage or \"cpu\" for CPU usage\n",
    "\n",
    "tokenizer = AutoTokenizer.from_pretrained(CHECKPOINT)\n",
    "model = AutoModelForCausalLM.from_pretrained(CHECKPOINT).to(DEVICE)"
   ]
  },
  {
   "cell_type": "code",
   "execution_count": 23,
   "id": "3188670a-403c-4e47-b230-22a3896fe9e5",
   "metadata": {},
   "outputs": [
    {
     "name": "stdout",
     "output_type": "stream",
     "text": [
      "Now running stage 3 filtering on 4156 examples...\n"
     ]
    }
   ],
   "source": [
    "print(f\"Now running stage 3 filtering on {len(dataset)} examples...\")"
   ]
  },
  {
   "cell_type": "code",
   "execution_count": 40,
   "id": "d406ed80",
   "metadata": {},
   "outputs": [
    {
     "name": "stdout",
     "output_type": "stream",
     "text": [
      "package main;\n",
      "\n",
      "import main.model.mecanica.FabricaDeMecanicaDoJogo;\n",
      "import main.model.mecanica.MecanicaDoJogo;\n",
      "\n",
      "import java.util.Scanner;\n",
      "\n",
      "public class Principal {\n",
      "\n",
      "    private static MecanicaDoJogo jogo = FabricaDeMecanicaDoJogo.getMecanica();\n",
      "    private static Scanner in = new Scanner(System.in);\n",
      "\n",
      "    public static void main(String[] args) {\n",
      "\n",
      "        printInicio();\n",
      "\n",
      "        while (jogo.getContinueGame()) {\n",
      "\n",
      "            printNewWord();\n",
      "            printStatus();\n",
      "\n",
      "        }\n",
      "\n",
      "        printMensagemDeEncerramento();\n",
      "\n",
      "    }\n",
      "\n",
      "    private static void printNewWord() {\n",
      "        System.out.println(\"A palavra embaralhada é: \" + jogo.getNextWord());\n",
      "        System.out.print(\"A palavra original é: \");\n",
      "    }\n",
      "\n",
      "    private static void printStatus() {\n",
      "        System.out.println(getValidation() + \"\\n\");\n",
      "        System.out.println(jogo.getStatus());\n",
      "        System.out.println(jogo.lineSeparator);\n",
      "    }\n",
      "\n",
      "    private static String getValidation() {\n",
      "        return jogo.validateWord(in.nextLine());\n",
      "    }\n",
      "\n",
      "\n",
      "    private static void printInicio() {\n",
      "        System.out.println(jogo.getGameStart());\n",
      "    }\n",
      "\n",
      "    private static void printMensagemDeEncerramento(){\n",
      "        System.out.println(jogo.getMensagemDeEncerramento());\n",
      "    }\n",
      "}\n",
      "\n"
     ]
    }
   ],
   "source": [
    "print(dataset[7]['content'])"
   ]
  },
  {
   "cell_type": "code",
   "execution_count": 27,
   "id": "93838c07",
   "metadata": {},
   "outputs": [
    {
     "name": "stdout",
     "output_type": "stream",
     "text": [
      "Few-shot prompt has 2726 tokens\n"
     ]
    }
   ],
   "source": [
    "# Define a dummy Java function\n",
    "dummy_java = \"\"\"\n",
    "public class Dummy {\n",
    "    /**\n",
    "     * Dummy method for testing.\n",
    "     */\n",
    "    public void dummy() {\n",
    "        // This is a dummy function\n",
    "    }\n",
    "}\n",
    "\"\"\"\n",
    "\n",
    "# Apply formatting\n",
    "dummy_java_prompt = prompt_fmt_java(dummy_java)\n",
    "\n",
    "# Get tokens\n",
    "few_shot_toks = len(tokenizer.encode(dummy_java_prompt)) - len(tokenizer.encode(dummy_java))\n",
    "\n",
    "# Output the token overhead\n",
    "print(f\"Few-shot prompt has {few_shot_toks} tokens\")\n"
   ]
  },
  {
   "cell_type": "code",
   "execution_count": null,
   "id": "624a4e6e-e67a-4207-9c74-9e2674946387",
   "metadata": {
    "collapsed": true,
    "jupyter": {
     "outputs_hidden": true
    },
    "scrolled": true
   },
   "outputs": [],
   "source": [
    "import subprocess\n",
    "import tempfile\n",
    "import signal\n",
    "import hashlib\n",
    "import os\n",
    "from typing import List, Dict\n",
    "from tqdm import tqdm\n",
    "from tree_sitter_parser import LANGUAGE, global_parser\n",
    "\n",
    "\n",
    "prompts = []\n",
    "for ex in tqdm(dataset, total=len(dataset), desc=\"Generating prompts\"):\n",
    "    try:\n",
    "        code = ex[\"content\"]\n",
    "        toks = len(tokenizer.encode(code)) + few_shot_toks\n",
    "        if toks > 16380:\n",
    "            print(f\"Skipping example with {toks} tokens\")\n",
    "            # to skip, just add dummy prompt\n",
    "            prompts.append(dummy_java_prompt)\n",
    "            continue\n",
    "        p = prompt_fmt_java(code)\n",
    "        prompts.append(p)\n",
    "    except:\n",
    "        continue\n",
    "# responses = []\n",
    "# for chunk in tqdm(chunkify(prompts, 512), desc=\"Generating responses\"):\n",
    "#     outs = model.generate(chunk, SamplingParams(\n",
    "#         temperature=0.0, stop=\"\\n\", max_tokens=5))\n",
    "#     contents = [o.outputs[0].text for o in outs]\n",
    "#     for c in contents:\n",
    "#         yes_count = c.lower().count(\"yes\")\n",
    "#         no_count = c.lower().count(\"no\")\n",
    "#         if yes_count > no_count:\n",
    "#             responses.append(True)\n",
    "#         elif yes_count < no_count:\n",
    "#             responses.append(False)\n",
    "#         else:\n",
    "#             # default to No\n",
    "#             responses.append(False)\n",
    "\n"
   ]
  },
  {
   "cell_type": "code",
   "execution_count": 47,
   "id": "a2d82e7a",
   "metadata": {},
   "outputs": [
    {
     "name": "stderr",
     "output_type": "stream",
     "text": [
      "Processing dataset:   0%|          | 0/4156 [00:00<?, ?it/s]"
     ]
    },
    {
     "name": "stdout",
     "output_type": "stream",
     "text": [
      "Error processing example: No Javadoc comment found in the code.\n"
     ]
    },
    {
     "name": "stderr",
     "output_type": "stream",
     "text": [
      "Generating responses:   0%|          | 0/1 [00:00<?, ?it/s]\n"
     ]
    },
    {
     "name": "stdout",
     "output_type": "stream",
     "text": [
      "Error processing example: 'NoneType' object has no attribute 'copy'\n"
     ]
    },
    {
     "name": "stderr",
     "output_type": "stream",
     "text": [
      "Generating responses:   0%|          | 0/1 [00:00<?, ?it/s]\n"
     ]
    },
    {
     "name": "stdout",
     "output_type": "stream",
     "text": [
      "Error processing example: 'NoneType' object has no attribute 'copy'\n",
      "Error processing example: No Javadoc comment found in the code.\n"
     ]
    },
    {
     "name": "stderr",
     "output_type": "stream",
     "text": [
      "Generating responses:   0%|          | 0/1 [00:00<?, ?it/s]\n"
     ]
    },
    {
     "name": "stdout",
     "output_type": "stream",
     "text": [
      "Error processing example: 'NoneType' object has no attribute 'copy'\n"
     ]
    },
    {
     "name": "stderr",
     "output_type": "stream",
     "text": [
      "Generating responses:   0%|          | 0/1 [00:00<?, ?it/s]\n",
      "Processing dataset:   0%|          | 6/4156 [00:00<01:09, 59.90it/s]"
     ]
    },
    {
     "name": "stdout",
     "output_type": "stream",
     "text": [
      "Error processing example: 'NoneType' object has no attribute 'copy'\n",
      "Error processing example: No Javadoc comment found in the code.\n",
      "Error processing example: No Javadoc comment found in the code.\n",
      "Error processing example: No Javadoc comment found in the code.\n",
      "Error processing example: No Javadoc comment found in the code.\n"
     ]
    },
    {
     "name": "stderr",
     "output_type": "stream",
     "text": [
      "Generating responses:   0%|          | 0/1 [00:00<?, ?it/s]\n"
     ]
    },
    {
     "name": "stdout",
     "output_type": "stream",
     "text": [
      "Error processing example: 'NoneType' object has no attribute 'copy'\n"
     ]
    },
    {
     "name": "stderr",
     "output_type": "stream",
     "text": [
      "Generating responses:   0%|          | 0/1 [00:00<?, ?it/s]\n"
     ]
    },
    {
     "name": "stdout",
     "output_type": "stream",
     "text": [
      "Error processing example: 'NoneType' object has no attribute 'copy'\n",
      "Error processing example: No Javadoc comment found in the code.\n"
     ]
    },
    {
     "name": "stderr",
     "output_type": "stream",
     "text": [
      "Generating responses:   0%|          | 0/1 [00:00<?, ?it/s]\n"
     ]
    },
    {
     "name": "stdout",
     "output_type": "stream",
     "text": [
      "Error processing example: 'NoneType' object has no attribute 'copy'\n"
     ]
    },
    {
     "name": "stderr",
     "output_type": "stream",
     "text": [
      "Generating responses:   0%|          | 0/1 [00:00<?, ?it/s]\n",
      "Processing dataset:   0%|          | 15/4156 [00:00<00:53, 77.25it/s]"
     ]
    },
    {
     "name": "stdout",
     "output_type": "stream",
     "text": [
      "Error processing example: 'NoneType' object has no attribute 'copy'\n",
      "Error processing example: No Javadoc comment found in the code.\n",
      "Error processing example: No Javadoc comment found in the code.\n"
     ]
    },
    {
     "name": "stderr",
     "output_type": "stream",
     "text": [
      "Generating responses:   0%|          | 0/1 [00:00<?, ?it/s]\n"
     ]
    },
    {
     "name": "stdout",
     "output_type": "stream",
     "text": [
      "Error processing example: 'NoneType' object has no attribute 'copy'\n",
      "Error processing example: No Javadoc comment found in the code.\n"
     ]
    },
    {
     "name": "stderr",
     "output_type": "stream",
     "text": [
      "Generating responses:   0%|          | 0/1 [00:00<?, ?it/s]\n"
     ]
    },
    {
     "name": "stdout",
     "output_type": "stream",
     "text": [
      "Error processing example: 'NoneType' object has no attribute 'copy'\n",
      "Error processing example: No Javadoc comment found in the code.\n",
      "Error processing example: No Javadoc comment found in the code.\n"
     ]
    },
    {
     "name": "stderr",
     "output_type": "stream",
     "text": [
      "Processing dataset:   1%|          | 23/4156 [00:00<00:53, 77.44it/s]"
     ]
    },
    {
     "name": "stdout",
     "output_type": "stream",
     "text": [
      "Error processing example: No Javadoc comment found in the code.\n",
      "Error processing example: No Javadoc comment found in the code.\n",
      "Error processing example: No Javadoc comment found in the code.\n"
     ]
    },
    {
     "name": "stderr",
     "output_type": "stream",
     "text": [
      "Generating responses:   0%|          | 0/1 [00:00<?, ?it/s]\n"
     ]
    },
    {
     "name": "stdout",
     "output_type": "stream",
     "text": [
      "Error processing example: 'NoneType' object has no attribute 'copy'\n"
     ]
    },
    {
     "name": "stderr",
     "output_type": "stream",
     "text": [
      "Generating responses:   0%|          | 0/1 [00:00<?, ?it/s]\n"
     ]
    },
    {
     "name": "stdout",
     "output_type": "stream",
     "text": [
      "Error processing example: 'NoneType' object has no attribute 'copy'\n",
      "Error processing example: No Javadoc comment found in the code.\n",
      "Error processing example: No Javadoc comment found in the code.\n"
     ]
    },
    {
     "name": "stderr",
     "output_type": "stream",
     "text": [
      "Generating responses:   0%|          | 0/1 [00:00<?, ?it/s]"
     ]
    },
    {
     "name": "stdout",
     "output_type": "stream",
     "text": [
      "Error processing example: 'NoneType' object has no attribute 'copy'\n"
     ]
    },
    {
     "name": "stderr",
     "output_type": "stream",
     "text": [
      "\n",
      "Generating responses:   0%|          | 0/1 [00:00<?, ?it/s]\n",
      "Processing dataset:   1%|          | 31/4156 [00:00<01:01, 67.27it/s]"
     ]
    },
    {
     "name": "stdout",
     "output_type": "stream",
     "text": [
      "Error processing example: 'NoneType' object has no attribute 'copy'\n"
     ]
    },
    {
     "name": "stderr",
     "output_type": "stream",
     "text": [
      "Generating responses:   0%|          | 0/1 [00:00<?, ?it/s]\n"
     ]
    },
    {
     "name": "stdout",
     "output_type": "stream",
     "text": [
      "Error processing example: 'NoneType' object has no attribute 'copy'\n",
      "Error processing example: No Javadoc comment found in the code.\n"
     ]
    },
    {
     "name": "stderr",
     "output_type": "stream",
     "text": [
      "Generating responses:   0%|          | 0/1 [00:00<?, ?it/s]\n"
     ]
    },
    {
     "name": "stdout",
     "output_type": "stream",
     "text": [
      "Error processing example: 'NoneType' object has no attribute 'copy'\n"
     ]
    },
    {
     "name": "stderr",
     "output_type": "stream",
     "text": [
      "Generating responses:   0%|          | 0/1 [00:00<?, ?it/s]\n"
     ]
    },
    {
     "name": "stdout",
     "output_type": "stream",
     "text": [
      "Error processing example: 'NoneType' object has no attribute 'copy'\n"
     ]
    },
    {
     "name": "stderr",
     "output_type": "stream",
     "text": [
      "Generating responses:   0%|          | 0/1 [00:00<?, ?it/s]\n"
     ]
    },
    {
     "name": "stdout",
     "output_type": "stream",
     "text": [
      "Error processing example: 'NoneType' object has no attribute 'copy'\n",
      "Error processing example: No Javadoc comment found in the code.\n"
     ]
    },
    {
     "name": "stderr",
     "output_type": "stream",
     "text": [
      "Generating responses:   0%|          | 0/1 [00:00<?, ?it/s]\n",
      "Processing dataset:   1%|          | 38/4156 [00:00<01:10, 58.49it/s]"
     ]
    },
    {
     "name": "stdout",
     "output_type": "stream",
     "text": [
      "Error processing example: 'NoneType' object has no attribute 'copy'\n",
      "Error processing example: No Javadoc comment found in the code.\n",
      "Error processing example: No Javadoc comment found in the code.\n"
     ]
    },
    {
     "name": "stderr",
     "output_type": "stream",
     "text": [
      "Generating responses:   0%|          | 0/1 [00:00<?, ?it/s]\n"
     ]
    },
    {
     "name": "stdout",
     "output_type": "stream",
     "text": [
      "Error processing example: 'NoneType' object has no attribute 'copy'\n",
      "Error processing example: No Javadoc comment found in the code.\n"
     ]
    },
    {
     "name": "stderr",
     "output_type": "stream",
     "text": [
      "Generating responses:   0%|          | 0/1 [00:00<?, ?it/s]\n"
     ]
    },
    {
     "name": "stdout",
     "output_type": "stream",
     "text": [
      "Error processing example: 'NoneType' object has no attribute 'copy'\n",
      "Error processing example: No Javadoc comment found in the code.\n"
     ]
    },
    {
     "name": "stderr",
     "output_type": "stream",
     "text": [
      "Generating responses:   0%|          | 0/1 [00:00<?, ?it/s]"
     ]
    },
    {
     "name": "stdout",
     "output_type": "stream",
     "text": [
      "Error processing example: 'NoneType' object has no attribute 'copy'\n"
     ]
    },
    {
     "name": "stderr",
     "output_type": "stream",
     "text": [
      "\n",
      "Processing dataset:   1%|          | 47/4156 [00:00<01:01, 67.35it/s]"
     ]
    },
    {
     "name": "stdout",
     "output_type": "stream",
     "text": [
      "Error processing example: No Javadoc comment found in the code.\n",
      "Error processing example: No Javadoc comment found in the code.\n",
      "Error processing example: No Javadoc comment found in the code.\n",
      "Error processing example: No Javadoc comment found in the code.\n",
      "Error processing example: No Javadoc comment found in the code.\n"
     ]
    },
    {
     "name": "stderr",
     "output_type": "stream",
     "text": [
      "Generating responses:   0%|          | 0/1 [00:00<?, ?it/s]\n"
     ]
    },
    {
     "name": "stdout",
     "output_type": "stream",
     "text": [
      "Error processing example: 'NoneType' object has no attribute 'copy'\n",
      "Error processing example: No Javadoc comment found in the code.\n"
     ]
    },
    {
     "name": "stderr",
     "output_type": "stream",
     "text": [
      "Generating responses:   0%|          | 0/1 [00:00<?, ?it/s]\n"
     ]
    },
    {
     "name": "stdout",
     "output_type": "stream",
     "text": [
      "Error processing example: 'NoneType' object has no attribute 'copy'\n",
      "Error processing example: No Javadoc comment found in the code.\n"
     ]
    },
    {
     "name": "stderr",
     "output_type": "stream",
     "text": [
      "Generating responses:   0%|          | 0/1 [00:00<?, ?it/s]\n",
      "Processing dataset:   1%|▏         | 55/4156 [00:00<00:57, 70.75it/s]"
     ]
    },
    {
     "name": "stdout",
     "output_type": "stream",
     "text": [
      "Error processing example: 'NoneType' object has no attribute 'copy'\n"
     ]
    },
    {
     "name": "stderr",
     "output_type": "stream",
     "text": [
      "Generating responses:   0%|          | 0/1 [00:00<?, ?it/s]\n"
     ]
    },
    {
     "name": "stdout",
     "output_type": "stream",
     "text": [
      "Error processing example: 'NoneType' object has no attribute 'copy'\n"
     ]
    },
    {
     "name": "stderr",
     "output_type": "stream",
     "text": [
      "Generating responses:   0%|          | 0/1 [00:00<?, ?it/s]\n"
     ]
    },
    {
     "name": "stdout",
     "output_type": "stream",
     "text": [
      "Error processing example: 'NoneType' object has no attribute 'copy'\n"
     ]
    },
    {
     "name": "stderr",
     "output_type": "stream",
     "text": [
      "Generating responses:   0%|          | 0/1 [00:00<?, ?it/s]\n"
     ]
    },
    {
     "name": "stdout",
     "output_type": "stream",
     "text": [
      "Error processing example: 'NoneType' object has no attribute 'copy'\n"
     ]
    },
    {
     "name": "stderr",
     "output_type": "stream",
     "text": [
      "Generating responses:   0%|          | 0/1 [00:00<?, ?it/s]\n"
     ]
    },
    {
     "name": "stdout",
     "output_type": "stream",
     "text": [
      "Error processing example: 'NoneType' object has no attribute 'copy'\n"
     ]
    },
    {
     "name": "stderr",
     "output_type": "stream",
     "text": [
      "Generating responses:   0%|          | 0/1 [00:00<?, ?it/s]"
     ]
    },
    {
     "name": "stdout",
     "output_type": "stream",
     "text": [
      "Error processing example: 'NoneType' object has no attribute 'copy'\n"
     ]
    },
    {
     "name": "stderr",
     "output_type": "stream",
     "text": [
      "\n",
      "Processing dataset:   2%|▏         | 63/4156 [00:00<00:57, 71.11it/s]"
     ]
    },
    {
     "name": "stdout",
     "output_type": "stream",
     "text": [
      "Error processing example: No Javadoc comment found in the code.\n",
      "Error processing example: No Javadoc comment found in the code.\n",
      "Error processing example: No Javadoc comment found in the code.\n",
      "Error processing example: No Javadoc comment found in the code.\n",
      "Error processing example: No Javadoc comment found in the code.\n"
     ]
    },
    {
     "name": "stderr",
     "output_type": "stream",
     "text": [
      "Generating responses:   0%|          | 0/1 [00:00<?, ?it/s]\n"
     ]
    },
    {
     "name": "stdout",
     "output_type": "stream",
     "text": [
      "Error processing example: 'NoneType' object has no attribute 'copy'\n",
      "Error processing example: No Javadoc comment found in the code.\n"
     ]
    },
    {
     "name": "stderr",
     "output_type": "stream",
     "text": [
      "Generating responses:   0%|          | 0/1 [00:00<?, ?it/s]\n"
     ]
    },
    {
     "name": "stdout",
     "output_type": "stream",
     "text": [
      "Error processing example: 'NoneType' object has no attribute 'copy'\n",
      "Error processing example: No Javadoc comment found in the code.\n"
     ]
    },
    {
     "name": "stderr",
     "output_type": "stream",
     "text": [
      "Generating responses:   0%|          | 0/1 [00:00<?, ?it/s]\n"
     ]
    },
    {
     "name": "stdout",
     "output_type": "stream",
     "text": [
      "Error processing example: 'NoneType' object has no attribute 'copy'\n",
      "Error processing example: No Javadoc comment found in the code.\n"
     ]
    },
    {
     "name": "stderr",
     "output_type": "stream",
     "text": [
      "Generating responses:   0%|          | 0/1 [00:00<?, ?it/s]\n"
     ]
    },
    {
     "name": "stdout",
     "output_type": "stream",
     "text": [
      "Error processing example: 'NoneType' object has no attribute 'copy'\n",
      "Error processing example: No Javadoc comment found in the code.\n",
      "Error processing example: No Javadoc comment found in the code.\n",
      "Error processing example: No Javadoc comment found in the code.\n",
      "Error processing example: No Javadoc comment found in the code.\n",
      "Error processing example: No Javadoc comment found in the code.\n"
     ]
    },
    {
     "name": "stderr",
     "output_type": "stream",
     "text": [
      "Generating responses:   0%|          | 0/1 [00:00<?, ?it/s]\n",
      "Processing dataset:   2%|▏         | 78/4156 [00:01<00:45, 90.49it/s]"
     ]
    },
    {
     "name": "stdout",
     "output_type": "stream",
     "text": [
      "Error processing example: 'NoneType' object has no attribute 'copy'\n",
      "Error processing example: No Javadoc comment found in the code.\n",
      "Error processing example: No Javadoc comment found in the code.\n",
      "Error processing example: No Javadoc comment found in the code.\n",
      "Error processing example: No Javadoc comment found in the code.\n"
     ]
    },
    {
     "name": "stderr",
     "output_type": "stream",
     "text": [
      "Generating responses:   0%|          | 0/1 [00:00<?, ?it/s]\n"
     ]
    },
    {
     "name": "stdout",
     "output_type": "stream",
     "text": [
      "Error processing example: 'NoneType' object has no attribute 'copy'\n",
      "Error processing example: No Javadoc comment found in the code.\n",
      "Error processing example: No Javadoc comment found in the code.\n"
     ]
    },
    {
     "name": "stderr",
     "output_type": "stream",
     "text": [
      "Generating responses:   0%|          | 0/1 [00:00<?, ?it/s]\n"
     ]
    },
    {
     "name": "stdout",
     "output_type": "stream",
     "text": [
      "Error processing example: 'NoneType' object has no attribute 'copy'\n"
     ]
    },
    {
     "name": "stderr",
     "output_type": "stream",
     "text": [
      "Generating responses:   0%|          | 0/1 [00:00<?, ?it/s]\n",
      "Processing dataset:   2%|▏         | 91/4156 [00:01<00:40, 100.00it/s]"
     ]
    },
    {
     "name": "stdout",
     "output_type": "stream",
     "text": [
      "Error processing example: 'NoneType' object has no attribute 'copy'\n",
      "Error processing example: No Javadoc comment found in the code.\n",
      "Error processing example: No Javadoc comment found in the code.\n",
      "Error processing example: No Javadoc comment found in the code.\n",
      "Error processing example: No Javadoc comment found in the code.\n",
      "Error processing example: No Javadoc comment found in the code.\n",
      "Error processing example: No Javadoc comment found in the code.\n",
      "Error processing example: No Javadoc comment found in the code.\n",
      "Error processing example: No Javadoc comment found in the code.\n"
     ]
    },
    {
     "name": "stderr",
     "output_type": "stream",
     "text": [
      "Generating responses:   0%|          | 0/1 [00:00<?, ?it/s]\n"
     ]
    },
    {
     "name": "stdout",
     "output_type": "stream",
     "text": [
      "Error processing example: 'NoneType' object has no attribute 'copy'\n"
     ]
    },
    {
     "name": "stderr",
     "output_type": "stream",
     "text": [
      "Generating responses:   0%|          | 0/1 [00:00<?, ?it/s]\n"
     ]
    },
    {
     "name": "stdout",
     "output_type": "stream",
     "text": [
      "Error processing example: 'NoneType' object has no attribute 'copy'\n"
     ]
    },
    {
     "name": "stderr",
     "output_type": "stream",
     "text": [
      "Generating responses:   0%|          | 0/1 [00:00<?, ?it/s]\n"
     ]
    },
    {
     "name": "stdout",
     "output_type": "stream",
     "text": [
      "Error processing example: 'NoneType' object has no attribute 'copy'\n"
     ]
    },
    {
     "name": "stderr",
     "output_type": "stream",
     "text": [
      "Generating responses:   0%|          | 0/1 [00:00<?, ?it/s]\n"
     ]
    },
    {
     "name": "stdout",
     "output_type": "stream",
     "text": [
      "Error processing example: 'NoneType' object has no attribute 'copy'\n"
     ]
    },
    {
     "name": "stderr",
     "output_type": "stream",
     "text": [
      "Generating responses:   0%|          | 0/1 [00:00<?, ?it/s]\n"
     ]
    },
    {
     "name": "stdout",
     "output_type": "stream",
     "text": [
      "Error processing example: 'NoneType' object has no attribute 'copy'\n"
     ]
    },
    {
     "name": "stderr",
     "output_type": "stream",
     "text": [
      "Generating responses:   0%|          | 0/1 [00:00<?, ?it/s]\n"
     ]
    },
    {
     "name": "stdout",
     "output_type": "stream",
     "text": [
      "Error processing example: 'NoneType' object has no attribute 'copy'\n"
     ]
    },
    {
     "name": "stderr",
     "output_type": "stream",
     "text": [
      "Generating responses:   0%|          | 0/1 [00:00<?, ?it/s]\n",
      "Processing dataset:   2%|▏         | 102/4156 [00:01<00:47, 84.84it/s]"
     ]
    },
    {
     "name": "stdout",
     "output_type": "stream",
     "text": [
      "Error processing example: 'NoneType' object has no attribute 'copy'\n"
     ]
    },
    {
     "name": "stderr",
     "output_type": "stream",
     "text": [
      "Generating responses:   0%|          | 0/1 [00:00<?, ?it/s]\n"
     ]
    },
    {
     "name": "stdout",
     "output_type": "stream",
     "text": [
      "Error processing example: 'NoneType' object has no attribute 'copy'\n"
     ]
    },
    {
     "name": "stderr",
     "output_type": "stream",
     "text": [
      "Generating responses:   0%|          | 0/1 [00:00<?, ?it/s]"
     ]
    },
    {
     "name": "stdout",
     "output_type": "stream",
     "text": [
      "Error processing example: 'NoneType' object has no attribute 'copy'\n",
      "Error processing example: No Javadoc comment found in the code.\n",
      "Error processing example: No Javadoc comment found in the code.\n"
     ]
    },
    {
     "name": "stderr",
     "output_type": "stream",
     "text": [
      "\n",
      "Generating responses:   0%|          | 0/1 [00:00<?, ?it/s]\n"
     ]
    },
    {
     "name": "stdout",
     "output_type": "stream",
     "text": [
      "Error processing example: 'NoneType' object has no attribute 'copy'\n",
      "Error processing example: No Javadoc comment found in the code.\n"
     ]
    },
    {
     "name": "stderr",
     "output_type": "stream",
     "text": [
      "Generating responses:   0%|          | 0/1 [00:00<?, ?it/s]\n",
      "Processing dataset:   3%|▎         | 111/4156 [00:01<00:48, 83.61it/s]"
     ]
    },
    {
     "name": "stdout",
     "output_type": "stream",
     "text": [
      "Error processing example: 'NoneType' object has no attribute 'copy'\n",
      "Error processing example: No Javadoc comment found in the code.\n",
      "Error processing example: No Javadoc comment found in the code.\n",
      "Error processing example: No Javadoc comment found in the code.\n"
     ]
    },
    {
     "name": "stderr",
     "output_type": "stream",
     "text": [
      "Generating responses:   0%|          | 0/1 [00:00<?, ?it/s]\n"
     ]
    },
    {
     "name": "stdout",
     "output_type": "stream",
     "text": [
      "Error processing example: 'NoneType' object has no attribute 'copy'\n"
     ]
    },
    {
     "name": "stderr",
     "output_type": "stream",
     "text": [
      "Generating responses:   0%|          | 0/1 [00:00<?, ?it/s]\n"
     ]
    },
    {
     "name": "stdout",
     "output_type": "stream",
     "text": [
      "Error processing example: 'NoneType' object has no attribute 'copy'\n",
      "Error processing example: No Javadoc comment found in the code.\n",
      "Error processing example: No Javadoc comment found in the code.\n",
      "Error processing example: No Javadoc comment found in the code.\n",
      "Error processing example: No Javadoc comment found in the code.\n",
      "Error processing example: No Javadoc comment found in the code.\n",
      "Error processing example: No Javadoc comment found in the code.\n",
      "Error processing example: No Javadoc comment found in the code.\n",
      "Error processing example: No Javadoc comment found in the code.\n",
      "Error processing example: No Javadoc comment found in the code.\n",
      "Error processing example: No Javadoc comment found in the code.\n"
     ]
    },
    {
     "name": "stderr",
     "output_type": "stream",
     "text": [
      "Processing dataset:   3%|▎         | 126/4156 [00:01<00:40, 99.89it/s]"
     ]
    },
    {
     "name": "stdout",
     "output_type": "stream",
     "text": [
      "Error processing example: No Javadoc comment found in the code.\n",
      "Error processing example: No Javadoc comment found in the code.\n",
      "Error processing example: No Javadoc comment found in the code.\n",
      "Error processing example: No Javadoc comment found in the code.\n",
      "Error processing example: No Javadoc comment found in the code.\n",
      "Error processing example: No Javadoc comment found in the code.\n",
      "Error processing example: No Javadoc comment found in the code.\n"
     ]
    },
    {
     "name": "stderr",
     "output_type": "stream",
     "text": [
      "Generating responses:   0%|          | 0/1 [00:00<?, ?it/s]\n"
     ]
    },
    {
     "name": "stdout",
     "output_type": "stream",
     "text": [
      "Error processing example: 'NoneType' object has no attribute 'copy'\n",
      "Error processing example: No Javadoc comment found in the code.\n",
      "Error processing example: No Javadoc comment found in the code.\n"
     ]
    },
    {
     "name": "stderr",
     "output_type": "stream",
     "text": [
      "Generating responses:   0%|          | 0/1 [00:00<?, ?it/s]\n"
     ]
    },
    {
     "name": "stdout",
     "output_type": "stream",
     "text": [
      "Error processing example: 'NoneType' object has no attribute 'copy'\n"
     ]
    },
    {
     "name": "stderr",
     "output_type": "stream",
     "text": [
      "Generating responses:   0%|          | 0/1 [00:00<?, ?it/s]\n"
     ]
    },
    {
     "name": "stdout",
     "output_type": "stream",
     "text": [
      "Error processing example: 'NoneType' object has no attribute 'copy'\n"
     ]
    },
    {
     "name": "stderr",
     "output_type": "stream",
     "text": [
      "Processing dataset:   3%|▎         | 137/4156 [00:01<00:41, 96.09it/s]"
     ]
    },
    {
     "name": "stdout",
     "output_type": "stream",
     "text": [
      "Error processing example: No Javadoc comment found in the code.\n",
      "Error processing example: No Javadoc comment found in the code.\n",
      "Error processing example: No Javadoc comment found in the code.\n",
      "Error processing example: No Javadoc comment found in the code.\n",
      "Error processing example: No Javadoc comment found in the code.\n"
     ]
    },
    {
     "name": "stderr",
     "output_type": "stream",
     "text": [
      "Generating responses:   0%|          | 0/1 [00:00<?, ?it/s]"
     ]
    },
    {
     "name": "stdout",
     "output_type": "stream",
     "text": [
      "Error processing example: 'NoneType' object has no attribute 'copy'\n",
      "Error processing example: No Javadoc comment found in the code.\n",
      "Error processing example: No Javadoc comment found in the code.\n",
      "Error processing example: No Javadoc comment found in the code.\n"
     ]
    },
    {
     "name": "stderr",
     "output_type": "stream",
     "text": [
      "\n"
     ]
    },
    {
     "name": "stdout",
     "output_type": "stream",
     "text": [
      "Error processing example: No Javadoc comment found in the code.\n",
      "Error processing example: No Javadoc comment found in the code.\n",
      "Error processing example: No Javadoc comment found in the code.\n"
     ]
    },
    {
     "name": "stderr",
     "output_type": "stream",
     "text": [
      "Generating responses:   0%|          | 0/1 [00:00<?, ?it/s]"
     ]
    },
    {
     "name": "stdout",
     "output_type": "stream",
     "text": [
      "Error processing example: 'NoneType' object has no attribute 'copy'\n"
     ]
    },
    {
     "name": "stderr",
     "output_type": "stream",
     "text": [
      "\n",
      "Generating responses:   0%|          | 0/1 [00:00<?, ?it/s]\n",
      "Processing dataset:   4%|▎         | 150/4156 [00:01<00:38, 103.24it/s]"
     ]
    },
    {
     "name": "stdout",
     "output_type": "stream",
     "text": [
      "Error processing example: 'NoneType' object has no attribute 'copy'\n",
      "Error processing example: No Javadoc comment found in the code.\n",
      "Error processing example: No Javadoc comment found in the code.\n",
      "Error processing example: No Javadoc comment found in the code.\n"
     ]
    },
    {
     "name": "stderr",
     "output_type": "stream",
     "text": [
      "Generating responses:   0%|          | 0/1 [00:00<?, ?it/s]"
     ]
    },
    {
     "name": "stdout",
     "output_type": "stream",
     "text": [
      "Error processing example: 'NoneType' object has no attribute 'copy'\n"
     ]
    },
    {
     "name": "stderr",
     "output_type": "stream",
     "text": [
      "\n",
      "Generating responses:   0%|          | 0/1 [00:00<?, ?it/s]\n"
     ]
    },
    {
     "name": "stdout",
     "output_type": "stream",
     "text": [
      "Error processing example: 'NoneType' object has no attribute 'copy'\n",
      "Error processing example: No Javadoc comment found in the code.\n",
      "Error processing example: No Javadoc comment found in the code.\n",
      "Error processing example: No Javadoc comment found in the code.\n"
     ]
    },
    {
     "name": "stderr",
     "output_type": "stream",
     "text": [
      "Generating responses:   0%|          | 0/1 [00:00<?, ?it/s]\n"
     ]
    },
    {
     "name": "stdout",
     "output_type": "stream",
     "text": [
      "Error processing example: 'NoneType' object has no attribute 'copy'\n",
      "Error processing example: No Javadoc comment found in the code.\n"
     ]
    },
    {
     "name": "stderr",
     "output_type": "stream",
     "text": [
      "Processing dataset:   4%|▍         | 162/4156 [00:01<00:37, 107.26it/s]"
     ]
    },
    {
     "name": "stdout",
     "output_type": "stream",
     "text": [
      "Error processing example: No Javadoc comment found in the code.\n",
      "Error processing example: No Javadoc comment found in the code.\n",
      "Error processing example: No Javadoc comment found in the code.\n",
      "Error processing example: No Javadoc comment found in the code.\n",
      "Error processing example: No Javadoc comment found in the code.\n"
     ]
    },
    {
     "name": "stderr",
     "output_type": "stream",
     "text": [
      "Generating responses:   0%|          | 0/1 [00:00<?, ?it/s]\n"
     ]
    },
    {
     "name": "stdout",
     "output_type": "stream",
     "text": [
      "Error processing example: 'NoneType' object has no attribute 'copy'\n"
     ]
    },
    {
     "name": "stderr",
     "output_type": "stream",
     "text": [
      "Generating responses:   0%|          | 0/1 [00:00<?, ?it/s]"
     ]
    },
    {
     "name": "stdout",
     "output_type": "stream",
     "text": [
      "Error processing example: 'NoneType' object has no attribute 'copy'\n"
     ]
    },
    {
     "name": "stderr",
     "output_type": "stream",
     "text": [
      "\n",
      "Generating responses:   0%|          | 0/1 [00:00<?, ?it/s]"
     ]
    },
    {
     "name": "stdout",
     "output_type": "stream",
     "text": [
      "Error processing example: 'NoneType' object has no attribute 'copy'\n"
     ]
    },
    {
     "name": "stderr",
     "output_type": "stream",
     "text": [
      "\n",
      "Generating responses:   0%|          | 0/1 [00:00<?, ?it/s]\n"
     ]
    },
    {
     "name": "stdout",
     "output_type": "stream",
     "text": [
      "Error processing example: 'NoneType' object has no attribute 'copy'\n"
     ]
    },
    {
     "name": "stderr",
     "output_type": "stream",
     "text": [
      "Generating responses:   0%|          | 0/1 [00:00<?, ?it/s]\n"
     ]
    },
    {
     "name": "stdout",
     "output_type": "stream",
     "text": [
      "Error processing example: 'NoneType' object has no attribute 'copy'\n",
      "Error processing example: No Javadoc comment found in the code.\n"
     ]
    },
    {
     "name": "stderr",
     "output_type": "stream",
     "text": [
      "Generating responses:   0%|          | 0/1 [00:00<?, ?it/s]\n",
      "Processing dataset:   4%|▍         | 173/4156 [00:01<00:38, 102.57it/s]"
     ]
    },
    {
     "name": "stdout",
     "output_type": "stream",
     "text": [
      "Error processing example: 'NoneType' object has no attribute 'copy'\n",
      "Error processing example: No Javadoc comment found in the code.\n",
      "Error processing example: No Javadoc comment found in the code.\n",
      "Error processing example: No Javadoc comment found in the code.\n"
     ]
    },
    {
     "name": "stderr",
     "output_type": "stream",
     "text": [
      "Generating responses:   0%|          | 0/1 [00:00<?, ?it/s]\n"
     ]
    },
    {
     "name": "stdout",
     "output_type": "stream",
     "text": [
      "Error processing example: 'NoneType' object has no attribute 'copy'\n",
      "Error processing example: No Javadoc comment found in the code.\n"
     ]
    },
    {
     "name": "stderr",
     "output_type": "stream",
     "text": [
      "Generating responses:   0%|          | 0/1 [00:00<?, ?it/s]\n"
     ]
    },
    {
     "name": "stdout",
     "output_type": "stream",
     "text": [
      "Error processing example: 'NoneType' object has no attribute 'copy'\n"
     ]
    },
    {
     "name": "stderr",
     "output_type": "stream",
     "text": [
      "Generating responses:   0%|          | 0/1 [00:00<?, ?it/s]\n"
     ]
    },
    {
     "name": "stdout",
     "output_type": "stream",
     "text": [
      "Error processing example: 'NoneType' object has no attribute 'copy'\n"
     ]
    },
    {
     "name": "stderr",
     "output_type": "stream",
     "text": [
      "Generating responses:   0%|          | 0/1 [00:00<?, ?it/s]\n"
     ]
    },
    {
     "name": "stdout",
     "output_type": "stream",
     "text": [
      "Error processing example: 'NoneType' object has no attribute 'copy'\n"
     ]
    },
    {
     "name": "stderr",
     "output_type": "stream",
     "text": [
      "Generating responses:   0%|          | 0/1 [00:00<?, ?it/s]"
     ]
    },
    {
     "name": "stdout",
     "output_type": "stream",
     "text": [
      "Error processing example: 'NoneType' object has no attribute 'copy'\n"
     ]
    },
    {
     "name": "stderr",
     "output_type": "stream",
     "text": [
      "\n",
      "Generating responses:   0%|          | 0/1 [00:00<?, ?it/s]\n"
     ]
    },
    {
     "name": "stdout",
     "output_type": "stream",
     "text": [
      "Error processing example: 'NoneType' object has no attribute 'copy'\n"
     ]
    },
    {
     "name": "stderr",
     "output_type": "stream",
     "text": [
      "Generating responses:   0%|          | 0/1 [00:00<?, ?it/s]\n"
     ]
    },
    {
     "name": "stdout",
     "output_type": "stream",
     "text": [
      "Error processing example: 'NoneType' object has no attribute 'copy'\n"
     ]
    },
    {
     "name": "stderr",
     "output_type": "stream",
     "text": [
      "Processing dataset:   4%|▍         | 184/4156 [00:02<00:37, 104.58it/s]"
     ]
    },
    {
     "name": "stdout",
     "output_type": "stream",
     "text": [
      "Error processing example: No Javadoc comment found in the code.\n",
      "Error processing example: No Javadoc comment found in the code.\n"
     ]
    },
    {
     "name": "stderr",
     "output_type": "stream",
     "text": [
      "Generating responses:   0%|          | 0/1 [00:00<?, ?it/s]\n"
     ]
    },
    {
     "name": "stdout",
     "output_type": "stream",
     "text": [
      "Error processing example: 'NoneType' object has no attribute 'copy'\n"
     ]
    },
    {
     "name": "stderr",
     "output_type": "stream",
     "text": [
      "Generating responses:   0%|          | 0/1 [00:00<?, ?it/s]\n"
     ]
    },
    {
     "name": "stdout",
     "output_type": "stream",
     "text": [
      "Error processing example: 'NoneType' object has no attribute 'copy'\n"
     ]
    },
    {
     "name": "stderr",
     "output_type": "stream",
     "text": [
      "Generating responses:   0%|          | 0/1 [00:00<?, ?it/s]\n"
     ]
    },
    {
     "name": "stdout",
     "output_type": "stream",
     "text": [
      "Error processing example: 'NoneType' object has no attribute 'copy'\n",
      "Error processing example: No Javadoc comment found in the code.\n",
      "Error processing example: No Javadoc comment found in the code.\n"
     ]
    },
    {
     "name": "stderr",
     "output_type": "stream",
     "text": [
      "Generating responses:   0%|          | 0/1 [00:00<?, ?it/s]\n"
     ]
    },
    {
     "name": "stdout",
     "output_type": "stream",
     "text": [
      "Error processing example: 'NoneType' object has no attribute 'copy'\n"
     ]
    },
    {
     "name": "stderr",
     "output_type": "stream",
     "text": [
      "Generating responses:   0%|          | 0/1 [00:00<?, ?it/s]\n"
     ]
    },
    {
     "name": "stdout",
     "output_type": "stream",
     "text": [
      "Error processing example: 'NoneType' object has no attribute 'copy'\n",
      "Error processing example: No Javadoc comment found in the code.\n"
     ]
    },
    {
     "name": "stderr",
     "output_type": "stream",
     "text": [
      "Generating responses:   0%|          | 0/1 [00:00<?, ?it/s]\n"
     ]
    },
    {
     "name": "stdout",
     "output_type": "stream",
     "text": [
      "Error processing example: 'NoneType' object has no attribute 'copy'\n"
     ]
    },
    {
     "name": "stderr",
     "output_type": "stream",
     "text": [
      "Generating responses:   0%|          | 0/1 [00:00<?, ?it/s]\n",
      "Processing dataset:   5%|▍         | 195/4156 [00:02<00:38, 102.26it/s]"
     ]
    },
    {
     "name": "stdout",
     "output_type": "stream",
     "text": [
      "Error processing example: 'NoneType' object has no attribute 'copy'\n"
     ]
    },
    {
     "name": "stderr",
     "output_type": "stream",
     "text": [
      "Generating responses:   0%|          | 0/1 [00:00<?, ?it/s]\n"
     ]
    },
    {
     "name": "stdout",
     "output_type": "stream",
     "text": [
      "Error processing example: 'NoneType' object has no attribute 'copy'\n"
     ]
    },
    {
     "name": "stderr",
     "output_type": "stream",
     "text": [
      "Generating responses:   0%|          | 0/1 [00:00<?, ?it/s]\n"
     ]
    },
    {
     "name": "stdout",
     "output_type": "stream",
     "text": [
      "Error processing example: 'NoneType' object has no attribute 'copy'\n"
     ]
    },
    {
     "name": "stderr",
     "output_type": "stream",
     "text": [
      "Generating responses:   0%|          | 0/1 [00:00<?, ?it/s]\n"
     ]
    },
    {
     "name": "stdout",
     "output_type": "stream",
     "text": [
      "Error processing example: 'NoneType' object has no attribute 'copy'\n",
      "Error processing example: No Javadoc comment found in the code.\n",
      "Error processing example: No Javadoc comment found in the code.\n",
      "Error processing example: No Javadoc comment found in the code.\n"
     ]
    },
    {
     "name": "stderr",
     "output_type": "stream",
     "text": [
      "Generating responses:   0%|          | 0/1 [00:00<?, ?it/s]\n"
     ]
    },
    {
     "name": "stdout",
     "output_type": "stream",
     "text": [
      "Error processing example: 'NoneType' object has no attribute 'copy'\n",
      "Error processing example: No Javadoc comment found in the code.\n",
      "Error processing example: No Javadoc comment found in the code.\n"
     ]
    },
    {
     "name": "stderr",
     "output_type": "stream",
     "text": [
      "Generating responses:   0%|          | 0/1 [00:00<?, ?it/s]\n"
     ]
    },
    {
     "name": "stdout",
     "output_type": "stream",
     "text": [
      "Error processing example: 'NoneType' object has no attribute 'copy'\n"
     ]
    },
    {
     "name": "stderr",
     "output_type": "stream",
     "text": [
      "Processing dataset:   5%|▍         | 206/4156 [00:02<00:38, 102.56it/s]"
     ]
    },
    {
     "name": "stdout",
     "output_type": "stream",
     "text": [
      "Error processing example: No Javadoc comment found in the code.\n"
     ]
    },
    {
     "name": "stderr",
     "output_type": "stream",
     "text": [
      "Generating responses:   0%|          | 0/1 [00:00<?, ?it/s]\n"
     ]
    },
    {
     "name": "stdout",
     "output_type": "stream",
     "text": [
      "Error processing example: 'NoneType' object has no attribute 'copy'\n",
      "Error processing example: No Javadoc comment found in the code.\n",
      "Error processing example: No Javadoc comment found in the code.\n"
     ]
    },
    {
     "name": "stderr",
     "output_type": "stream",
     "text": [
      "Generating responses:   0%|          | 0/1 [00:00<?, ?it/s]\n"
     ]
    },
    {
     "name": "stdout",
     "output_type": "stream",
     "text": [
      "Error processing example: 'NoneType' object has no attribute 'copy'\n",
      "Error processing example: No Javadoc comment found in the code.\n"
     ]
    },
    {
     "name": "stderr",
     "output_type": "stream",
     "text": [
      "Generating responses:   0%|          | 0/1 [00:00<?, ?it/s]\n"
     ]
    },
    {
     "name": "stdout",
     "output_type": "stream",
     "text": [
      "Error processing example: 'NoneType' object has no attribute 'copy'\n"
     ]
    },
    {
     "name": "stderr",
     "output_type": "stream",
     "text": [
      "Generating responses:   0%|          | 0/1 [00:00<?, ?it/s]\n"
     ]
    },
    {
     "name": "stdout",
     "output_type": "stream",
     "text": [
      "Error processing example: 'NoneType' object has no attribute 'copy'\n",
      "Error processing example: No Javadoc comment found in the code.\n",
      "Error processing example: No Javadoc comment found in the code.\n"
     ]
    },
    {
     "name": "stderr",
     "output_type": "stream",
     "text": [
      "Generating responses:   0%|          | 0/1 [00:00<?, ?it/s]\n"
     ]
    },
    {
     "name": "stdout",
     "output_type": "stream",
     "text": [
      "Error processing example: 'NoneType' object has no attribute 'copy'\n"
     ]
    },
    {
     "name": "stderr",
     "output_type": "stream",
     "text": [
      "Generating responses:   0%|          | 0/1 [00:00<?, ?it/s]\n"
     ]
    },
    {
     "name": "stdout",
     "output_type": "stream",
     "text": [
      "Error processing example: 'NoneType' object has no attribute 'copy'\n",
      "Error processing example: No Javadoc comment found in the code.\n",
      "Error processing example: No Javadoc comment found in the code.\n"
     ]
    },
    {
     "name": "stderr",
     "output_type": "stream",
     "text": [
      "Generating responses:   0%|          | 0/1 [00:00<?, ?it/s]\n"
     ]
    },
    {
     "name": "stdout",
     "output_type": "stream",
     "text": [
      "Error processing example: 'NoneType' object has no attribute 'copy'\n"
     ]
    },
    {
     "name": "stderr",
     "output_type": "stream",
     "text": [
      "Processing dataset:   5%|▌         | 221/4156 [00:02<00:34, 114.07it/s]"
     ]
    },
    {
     "name": "stdout",
     "output_type": "stream",
     "text": [
      "Error processing example: No Javadoc comment found in the code.\n",
      "Error processing example: No Javadoc comment found in the code.\n"
     ]
    },
    {
     "name": "stderr",
     "output_type": "stream",
     "text": [
      "Generating responses:   0%|          | 0/1 [00:00<?, ?it/s]\n"
     ]
    },
    {
     "name": "stdout",
     "output_type": "stream",
     "text": [
      "Error processing example: 'NoneType' object has no attribute 'copy'\n"
     ]
    },
    {
     "name": "stderr",
     "output_type": "stream",
     "text": [
      "Generating responses:   0%|          | 0/1 [00:00<?, ?it/s]\n"
     ]
    },
    {
     "name": "stdout",
     "output_type": "stream",
     "text": [
      "Error processing example: 'NoneType' object has no attribute 'copy'\n"
     ]
    },
    {
     "name": "stderr",
     "output_type": "stream",
     "text": [
      "Generating responses:   0%|          | 0/1 [00:00<?, ?it/s]\n"
     ]
    },
    {
     "name": "stdout",
     "output_type": "stream",
     "text": [
      "Error processing example: 'NoneType' object has no attribute 'copy'\n"
     ]
    },
    {
     "name": "stderr",
     "output_type": "stream",
     "text": [
      "Generating responses:   0%|          | 0/1 [00:00<?, ?it/s]\n"
     ]
    },
    {
     "name": "stdout",
     "output_type": "stream",
     "text": [
      "Error processing example: 'NoneType' object has no attribute 'copy'\n",
      "Error processing example: No Javadoc comment found in the code.\n"
     ]
    },
    {
     "name": "stderr",
     "output_type": "stream",
     "text": [
      "Generating responses:   0%|          | 0/1 [00:00<?, ?it/s]\n"
     ]
    },
    {
     "name": "stdout",
     "output_type": "stream",
     "text": [
      "Error processing example: 'NoneType' object has no attribute 'copy'\n",
      "Error processing example: No Javadoc comment found in the code.\n",
      "Error processing example: No Javadoc comment found in the code.\n",
      "Error processing example: No Javadoc comment found in the code.\n"
     ]
    },
    {
     "name": "stderr",
     "output_type": "stream",
     "text": [
      "Generating responses:   0%|          | 0/1 [00:00<?, ?it/s]\n",
      "Processing dataset:   6%|▌         | 233/4156 [00:02<00:35, 112.02it/s]"
     ]
    },
    {
     "name": "stdout",
     "output_type": "stream",
     "text": [
      "Error processing example: 'NoneType' object has no attribute 'copy'\n",
      "Error processing example: No Javadoc comment found in the code.\n"
     ]
    },
    {
     "name": "stderr",
     "output_type": "stream",
     "text": [
      "Generating responses:   0%|          | 0/1 [00:00<?, ?it/s]\n"
     ]
    },
    {
     "name": "stdout",
     "output_type": "stream",
     "text": [
      "Error processing example: 'NoneType' object has no attribute 'copy'\n"
     ]
    },
    {
     "name": "stderr",
     "output_type": "stream",
     "text": [
      "Generating responses:   0%|          | 0/1 [00:00<?, ?it/s]\n"
     ]
    },
    {
     "name": "stdout",
     "output_type": "stream",
     "text": [
      "Error processing example: 'NoneType' object has no attribute 'copy'\n"
     ]
    },
    {
     "name": "stderr",
     "output_type": "stream",
     "text": [
      "Generating responses:   0%|          | 0/1 [00:00<?, ?it/s]\n"
     ]
    },
    {
     "name": "stdout",
     "output_type": "stream",
     "text": [
      "Error processing example: 'NoneType' object has no attribute 'copy'\n"
     ]
    },
    {
     "name": "stderr",
     "output_type": "stream",
     "text": [
      "Generating responses:   0%|          | 0/1 [00:00<?, ?it/s]\n"
     ]
    },
    {
     "name": "stdout",
     "output_type": "stream",
     "text": [
      "Error processing example: 'NoneType' object has no attribute 'copy'\n",
      "Error processing example: No Javadoc comment found in the code.\n",
      "Error processing example: No Javadoc comment found in the code.\n"
     ]
    },
    {
     "name": "stderr",
     "output_type": "stream",
     "text": [
      "Generating responses:   0%|          | 0/1 [00:00<?, ?it/s]\n"
     ]
    },
    {
     "name": "stdout",
     "output_type": "stream",
     "text": [
      "Error processing example: 'NoneType' object has no attribute 'copy'\n",
      "Error processing example: No Javadoc comment found in the code.\n",
      "Error processing example: No Javadoc comment found in the code.\n",
      "Error processing example: No Javadoc comment found in the code.\n",
      "Error processing example: No Javadoc comment found in the code.\n"
     ]
    },
    {
     "name": "stderr",
     "output_type": "stream",
     "text": [
      "Processing dataset:   6%|▌         | 245/4156 [00:02<00:35, 109.82it/s]"
     ]
    },
    {
     "name": "stdout",
     "output_type": "stream",
     "text": [
      "Error processing example: No Javadoc comment found in the code.\n",
      "Error processing example: No Javadoc comment found in the code.\n"
     ]
    },
    {
     "name": "stderr",
     "output_type": "stream",
     "text": [
      "Generating responses:   0%|          | 0/1 [00:00<?, ?it/s]\n"
     ]
    },
    {
     "name": "stdout",
     "output_type": "stream",
     "text": [
      "Error processing example: 'NoneType' object has no attribute 'copy'\n"
     ]
    },
    {
     "name": "stderr",
     "output_type": "stream",
     "text": [
      "Generating responses:   0%|          | 0/1 [00:00<?, ?it/s]\n"
     ]
    },
    {
     "name": "stdout",
     "output_type": "stream",
     "text": [
      "Error processing example: 'NoneType' object has no attribute 'copy'\n",
      "Error processing example: No Javadoc comment found in the code.\n",
      "Error processing example: No Javadoc comment found in the code.\n"
     ]
    },
    {
     "name": "stderr",
     "output_type": "stream",
     "text": [
      "Generating responses:   0%|          | 0/1 [00:00<?, ?it/s]\n"
     ]
    },
    {
     "name": "stdout",
     "output_type": "stream",
     "text": [
      "Error processing example: 'NoneType' object has no attribute 'copy'\n",
      "Error processing example: No Javadoc comment found in the code.\n"
     ]
    },
    {
     "name": "stderr",
     "output_type": "stream",
     "text": [
      "Generating responses:   0%|          | 0/1 [00:00<?, ?it/s]\n"
     ]
    },
    {
     "name": "stdout",
     "output_type": "stream",
     "text": [
      "Error processing example: 'NoneType' object has no attribute 'copy'\n",
      "Error processing example: No Javadoc comment found in the code.\n",
      "Error processing example: No Javadoc comment found in the code.\n",
      "Error processing example: No Javadoc comment found in the code.\n"
     ]
    },
    {
     "name": "stderr",
     "output_type": "stream",
     "text": [
      "Generating responses:   0%|          | 0/1 [00:00<?, ?it/s]\n",
      "Processing dataset:   6%|▌         | 257/4156 [00:02<00:41, 93.63it/s] "
     ]
    },
    {
     "name": "stdout",
     "output_type": "stream",
     "text": [
      "Error processing example: 'NoneType' object has no attribute 'copy'\n",
      "Error processing example: No Javadoc comment found in the code.\n",
      "Error processing example: No Javadoc comment found in the code.\n",
      "Error processing example: No Javadoc comment found in the code.\n"
     ]
    },
    {
     "name": "stderr",
     "output_type": "stream",
     "text": [
      "Generating responses:   0%|          | 0/1 [00:00<?, ?it/s]"
     ]
    },
    {
     "name": "stdout",
     "output_type": "stream",
     "text": [
      "Error processing example: 'NoneType' object has no attribute 'copy'\n"
     ]
    },
    {
     "name": "stderr",
     "output_type": "stream",
     "text": [
      "\n"
     ]
    },
    {
     "name": "stdout",
     "output_type": "stream",
     "text": [
      "Error processing example: No Javadoc comment found in the code.\n"
     ]
    },
    {
     "name": "stderr",
     "output_type": "stream",
     "text": [
      "Generating responses:   0%|          | 0/1 [00:00<?, ?it/s]\n"
     ]
    },
    {
     "name": "stdout",
     "output_type": "stream",
     "text": [
      "Error processing example: 'NoneType' object has no attribute 'copy'\n",
      "Error processing example: No Javadoc comment found in the code.\n",
      "Error processing example: No Javadoc comment found in the code.\n"
     ]
    },
    {
     "name": "stderr",
     "output_type": "stream",
     "text": [
      "Generating responses:   0%|          | 0/1 [00:00<?, ?it/s]\n"
     ]
    },
    {
     "name": "stdout",
     "output_type": "stream",
     "text": [
      "Error processing example: 'NoneType' object has no attribute 'copy'\n"
     ]
    },
    {
     "name": "stderr",
     "output_type": "stream",
     "text": [
      "Generating responses:   0%|          | 0/1 [00:00<?, ?it/s]\n",
      "Processing dataset:   6%|▋         | 267/4156 [00:02<00:42, 90.59it/s]"
     ]
    },
    {
     "name": "stdout",
     "output_type": "stream",
     "text": [
      "Error processing example: 'NoneType' object has no attribute 'copy'\n",
      "Error processing example: No Javadoc comment found in the code.\n",
      "Error processing example: No Javadoc comment found in the code.\n"
     ]
    },
    {
     "name": "stderr",
     "output_type": "stream",
     "text": [
      "Generating responses:   0%|          | 0/1 [00:00<?, ?it/s]\n"
     ]
    },
    {
     "name": "stdout",
     "output_type": "stream",
     "text": [
      "Error processing example: 'NoneType' object has no attribute 'copy'\n",
      "Error processing example: No Javadoc comment found in the code.\n",
      "Error processing example: No Javadoc comment found in the code.\n",
      "Error processing example: No Javadoc comment found in the code.\n"
     ]
    },
    {
     "name": "stderr",
     "output_type": "stream",
     "text": [
      "Generating responses:   0%|          | 0/1 [00:00<?, ?it/s]\n"
     ]
    },
    {
     "name": "stdout",
     "output_type": "stream",
     "text": [
      "Error processing example: 'NoneType' object has no attribute 'copy'\n"
     ]
    },
    {
     "name": "stderr",
     "output_type": "stream",
     "text": [
      "Generating responses:   0%|          | 0/1 [00:00<?, ?it/s]\n"
     ]
    },
    {
     "name": "stdout",
     "output_type": "stream",
     "text": [
      "Error processing example: 'NoneType' object has no attribute 'copy'\n"
     ]
    },
    {
     "name": "stderr",
     "output_type": "stream",
     "text": [
      "Generating responses:   0%|          | 0/1 [00:00<?, ?it/s]\n",
      "Processing dataset:   7%|▋         | 277/4156 [00:03<00:45, 84.61it/s]"
     ]
    },
    {
     "name": "stdout",
     "output_type": "stream",
     "text": [
      "Error processing example: 'NoneType' object has no attribute 'copy'\n",
      "Error processing example: No Javadoc comment found in the code.\n",
      "Error processing example: No Javadoc comment found in the code.\n",
      "Error processing example: No Javadoc comment found in the code.\n",
      "Error processing example: No Javadoc comment found in the code.\n",
      "Error processing example: No Javadoc comment found in the code.\n",
      "Error processing example: No Javadoc comment found in the code.\n",
      "Error processing example: No Javadoc comment found in the code.\n",
      "Error processing example: No Javadoc comment found in the code.\n",
      "Error processing example: No Javadoc comment found in the code.\n",
      "Error processing example: No Javadoc comment found in the code.\n"
     ]
    },
    {
     "name": "stderr",
     "output_type": "stream",
     "text": [
      "Generating responses:   0%|          | 0/1 [00:00<?, ?it/s]\n"
     ]
    },
    {
     "name": "stdout",
     "output_type": "stream",
     "text": [
      "Error processing example: 'NoneType' object has no attribute 'copy'\n",
      "Error processing example: No Javadoc comment found in the code.\n"
     ]
    },
    {
     "name": "stderr",
     "output_type": "stream",
     "text": [
      "Generating responses:   0%|          | 0/1 [00:00<?, ?it/s]\n"
     ]
    },
    {
     "name": "stdout",
     "output_type": "stream",
     "text": [
      "Error processing example: 'NoneType' object has no attribute 'copy'\n"
     ]
    },
    {
     "name": "stderr",
     "output_type": "stream",
     "text": [
      "Generating responses:   0%|          | 0/1 [00:00<?, ?it/s]\n"
     ]
    },
    {
     "name": "stdout",
     "output_type": "stream",
     "text": [
      "Error processing example: 'NoneType' object has no attribute 'copy'\n",
      "Error processing example: No Javadoc comment found in the code.\n",
      "Error processing example: No Javadoc comment found in the code.\n"
     ]
    },
    {
     "name": "stderr",
     "output_type": "stream",
     "text": [
      "Generating responses:   0%|          | 0/1 [00:00<?, ?it/s]\n",
      "Processing dataset:   7%|▋         | 293/4156 [00:03<00:38, 100.26it/s]"
     ]
    },
    {
     "name": "stdout",
     "output_type": "stream",
     "text": [
      "Error processing example: 'NoneType' object has no attribute 'copy'\n",
      "Error processing example: No Javadoc comment found in the code.\n",
      "Error processing example: No Javadoc comment found in the code.\n",
      "Error processing example: No Javadoc comment found in the code.\n"
     ]
    },
    {
     "name": "stderr",
     "output_type": "stream",
     "text": [
      "Generating responses:   0%|          | 0/1 [00:00<?, ?it/s]\n"
     ]
    },
    {
     "name": "stdout",
     "output_type": "stream",
     "text": [
      "Error processing example: 'NoneType' object has no attribute 'copy'\n",
      "Error processing example: No Javadoc comment found in the code.\n",
      "Error processing example: No Javadoc comment found in the code.\n",
      "Error processing example: No Javadoc comment found in the code.\n",
      "Error processing example: No Javadoc comment found in the code.\n"
     ]
    },
    {
     "name": "stderr",
     "output_type": "stream",
     "text": [
      "Generating responses:   0%|          | 0/1 [00:00<?, ?it/s]\n"
     ]
    },
    {
     "name": "stdout",
     "output_type": "stream",
     "text": [
      "Error processing example: 'NoneType' object has no attribute 'copy'\n"
     ]
    },
    {
     "name": "stderr",
     "output_type": "stream",
     "text": [
      "Generating responses:   0%|          | 0/1 [00:00<?, ?it/s]"
     ]
    },
    {
     "name": "stdout",
     "output_type": "stream",
     "text": [
      "Error processing example: 'NoneType' object has no attribute 'copy'\n",
      "Error processing example: No Javadoc comment found in the code.\n"
     ]
    },
    {
     "name": "stderr",
     "output_type": "stream",
     "text": [
      "\n",
      "Generating responses:   0%|          | 0/1 [00:00<?, ?it/s] 99.74it/s] \n"
     ]
    },
    {
     "name": "stdout",
     "output_type": "stream",
     "text": [
      "Error processing example: 'NoneType' object has no attribute 'copy'\n",
      "Error processing example: No Javadoc comment found in the code.\n",
      "Error processing example: No Javadoc comment found in the code.\n",
      "Error processing example: No Javadoc comment found in the code.\n"
     ]
    },
    {
     "name": "stderr",
     "output_type": "stream",
     "text": [
      "Generating responses:   0%|          | 0/1 [00:00<?, ?it/s]\n"
     ]
    },
    {
     "name": "stdout",
     "output_type": "stream",
     "text": [
      "Error processing example: 'NoneType' object has no attribute 'copy'\n",
      "Error processing example: No Javadoc comment found in the code.\n"
     ]
    },
    {
     "name": "stderr",
     "output_type": "stream",
     "text": [
      "Generating responses:   0%|          | 0/1 [00:00<?, ?it/s]"
     ]
    },
    {
     "name": "stdout",
     "output_type": "stream",
     "text": [
      "Error processing example: 'NoneType' object has no attribute 'copy'\n"
     ]
    },
    {
     "name": "stderr",
     "output_type": "stream",
     "text": [
      "\n"
     ]
    },
    {
     "name": "stdout",
     "output_type": "stream",
     "text": [
      "Error processing example: No Javadoc comment found in the code.\n"
     ]
    },
    {
     "name": "stderr",
     "output_type": "stream",
     "text": [
      "Generating responses:   0%|          | 0/1 [00:00<?, ?it/s]\n"
     ]
    },
    {
     "name": "stdout",
     "output_type": "stream",
     "text": [
      "Error processing example: 'NoneType' object has no attribute 'copy'\n",
      "Error processing example: No Javadoc comment found in the code.\n"
     ]
    },
    {
     "name": "stderr",
     "output_type": "stream",
     "text": [
      "Processing dataset:   8%|▊         | 315/4156 [00:03<00:41, 93.67it/s]"
     ]
    },
    {
     "name": "stdout",
     "output_type": "stream",
     "text": [
      "Error processing example: No Javadoc comment found in the code.\n",
      "Error processing example: No Javadoc comment found in the code.\n",
      "Error processing example: No Javadoc comment found in the code.\n"
     ]
    },
    {
     "name": "stderr",
     "output_type": "stream",
     "text": [
      "Generating responses:   0%|          | 0/1 [00:00<?, ?it/s]\n"
     ]
    },
    {
     "name": "stdout",
     "output_type": "stream",
     "text": [
      "Error processing example: 'NoneType' object has no attribute 'copy'\n"
     ]
    },
    {
     "name": "stderr",
     "output_type": "stream",
     "text": [
      "Generating responses:   0%|          | 0/1 [00:00<?, ?it/s]\n"
     ]
    },
    {
     "name": "stdout",
     "output_type": "stream",
     "text": [
      "Error processing example: 'NoneType' object has no attribute 'copy'\n",
      "Error processing example: No Javadoc comment found in the code.\n",
      "Error processing example: No Javadoc comment found in the code.\n",
      "Error processing example: No Javadoc comment found in the code.\n",
      "Error processing example: No Javadoc comment found in the code.\n",
      "Error processing example: No Javadoc comment found in the code.\n"
     ]
    },
    {
     "name": "stderr",
     "output_type": "stream",
     "text": [
      "Generating responses:   0%|          | 0/1 [00:00<?, ?it/s]\n"
     ]
    },
    {
     "name": "stdout",
     "output_type": "stream",
     "text": [
      "Error processing example: 'NoneType' object has no attribute 'copy'\n"
     ]
    },
    {
     "name": "stderr",
     "output_type": "stream",
     "text": [
      "Generating responses:   0%|          | 0/1 [00:00<?, ?it/s]\n"
     ]
    },
    {
     "name": "stdout",
     "output_type": "stream",
     "text": [
      "Error processing example: 'NoneType' object has no attribute 'copy'\n"
     ]
    },
    {
     "name": "stderr",
     "output_type": "stream",
     "text": [
      "Generating responses:   0%|          | 0/1 [00:00<?, ?it/s]\n",
      "Processing dataset:   8%|▊         | 327/4156 [00:03<00:39, 97.07it/s]"
     ]
    },
    {
     "name": "stdout",
     "output_type": "stream",
     "text": [
      "Error processing example: 'NoneType' object has no attribute 'copy'\n"
     ]
    },
    {
     "name": "stderr",
     "output_type": "stream",
     "text": [
      "Generating responses:   0%|          | 0/1 [00:00<?, ?it/s]\n"
     ]
    },
    {
     "name": "stdout",
     "output_type": "stream",
     "text": [
      "Error processing example: 'NoneType' object has no attribute 'copy'\n"
     ]
    },
    {
     "name": "stderr",
     "output_type": "stream",
     "text": [
      "Generating responses:   0%|          | 0/1 [00:00<?, ?it/s]\n"
     ]
    },
    {
     "name": "stdout",
     "output_type": "stream",
     "text": [
      "Error processing example: 'NoneType' object has no attribute 'copy'\n",
      "Error processing example: No Javadoc comment found in the code.\n",
      "Error processing example: No Javadoc comment found in the code.\n"
     ]
    },
    {
     "name": "stderr",
     "output_type": "stream",
     "text": [
      "Generating responses:   0%|          | 0/1 [00:00<?, ?it/s]\n"
     ]
    },
    {
     "name": "stdout",
     "output_type": "stream",
     "text": [
      "Error processing example: 'NoneType' object has no attribute 'copy'\n",
      "Error processing example: No Javadoc comment found in the code.\n",
      "Error processing example: No Javadoc comment found in the code.\n",
      "Error processing example: No Javadoc comment found in the code.\n"
     ]
    },
    {
     "name": "stderr",
     "output_type": "stream",
     "text": [
      "Processing dataset:   8%|▊         | 337/4156 [00:03<00:41, 91.99it/s]"
     ]
    },
    {
     "name": "stdout",
     "output_type": "stream",
     "text": [
      "Error processing example: No Javadoc comment found in the code.\n",
      "Error processing example: No Javadoc comment found in the code.\n"
     ]
    },
    {
     "name": "stderr",
     "output_type": "stream",
     "text": [
      "Generating responses:   0%|          | 0/1 [00:00<?, ?it/s]\n"
     ]
    },
    {
     "name": "stdout",
     "output_type": "stream",
     "text": [
      "Error processing example: 'NoneType' object has no attribute 'copy'\n"
     ]
    },
    {
     "name": "stderr",
     "output_type": "stream",
     "text": [
      "Generating responses:   0%|          | 0/1 [00:00<?, ?it/s]\n"
     ]
    },
    {
     "name": "stdout",
     "output_type": "stream",
     "text": [
      "Error processing example: 'NoneType' object has no attribute 'copy'\n",
      "Error processing example: No Javadoc comment found in the code.\n"
     ]
    },
    {
     "name": "stderr",
     "output_type": "stream",
     "text": [
      "Generating responses:   0%|          | 0/1 [00:00<?, ?it/s]\n"
     ]
    },
    {
     "name": "stdout",
     "output_type": "stream",
     "text": [
      "Error processing example: 'NoneType' object has no attribute 'copy'\n"
     ]
    },
    {
     "name": "stderr",
     "output_type": "stream",
     "text": [
      "Generating responses:   0%|          | 0/1 [00:00<?, ?it/s]\n"
     ]
    },
    {
     "name": "stdout",
     "output_type": "stream",
     "text": [
      "Error processing example: 'NoneType' object has no attribute 'copy'\n"
     ]
    },
    {
     "name": "stderr",
     "output_type": "stream",
     "text": [
      "Generating responses:   0%|          | 0/1 [00:00<?, ?it/s]\n"
     ]
    },
    {
     "name": "stdout",
     "output_type": "stream",
     "text": [
      "Error processing example: 'NoneType' object has no attribute 'copy'\n",
      "Error processing example: No Javadoc comment found in the code.\n"
     ]
    },
    {
     "name": "stderr",
     "output_type": "stream",
     "text": [
      "Generating responses:   0%|          | 0/1 [00:00<?, ?it/s]\n"
     ]
    },
    {
     "name": "stdout",
     "output_type": "stream",
     "text": [
      "Error processing example: 'NoneType' object has no attribute 'copy'\n",
      "Error processing example: No Javadoc comment found in the code.\n"
     ]
    },
    {
     "name": "stderr",
     "output_type": "stream",
     "text": [
      "Generating responses:   0%|          | 0/1 [00:00<?, ?it/s]\n",
      "Processing dataset:   8%|▊         | 347/4156 [00:03<00:46, 81.59it/s]"
     ]
    },
    {
     "name": "stdout",
     "output_type": "stream",
     "text": [
      "Error processing example: 'NoneType' object has no attribute 'copy'\n",
      "Error processing example: No Javadoc comment found in the code.\n",
      "Error processing example: No Javadoc comment found in the code.\n",
      "Error processing example: No Javadoc comment found in the code.\n"
     ]
    },
    {
     "name": "stderr",
     "output_type": "stream",
     "text": [
      "Generating responses:   0%|          | 0/1 [00:00<?, ?it/s]\n"
     ]
    },
    {
     "name": "stdout",
     "output_type": "stream",
     "text": [
      "Error processing example: 'NoneType' object has no attribute 'copy'\n",
      "Error processing example: No Javadoc comment found in the code.\n",
      "Error processing example: No Javadoc comment found in the code.\n"
     ]
    },
    {
     "name": "stderr",
     "output_type": "stream",
     "text": [
      "Generating responses:   0%|          | 0/1 [00:00<?, ?it/s]\n",
      "Processing dataset:   9%|▊         | 356/4156 [00:03<00:47, 79.48it/s]"
     ]
    },
    {
     "name": "stdout",
     "output_type": "stream",
     "text": [
      "Error processing example: 'NoneType' object has no attribute 'copy'\n",
      "Error processing example: No Javadoc comment found in the code.\n",
      "Error processing example: No Javadoc comment found in the code.\n"
     ]
    },
    {
     "name": "stderr",
     "output_type": "stream",
     "text": [
      "Generating responses:   0%|          | 0/1 [00:00<?, ?it/s]\n"
     ]
    },
    {
     "name": "stdout",
     "output_type": "stream",
     "text": [
      "Error processing example: 'NoneType' object has no attribute 'copy'\n",
      "Error processing example: No Javadoc comment found in the code.\n",
      "Error processing example: No Javadoc comment found in the code.\n"
     ]
    },
    {
     "name": "stderr",
     "output_type": "stream",
     "text": [
      "Generating responses:   0%|          | 0/1 [00:00<?, ?it/s]"
     ]
    },
    {
     "name": "stdout",
     "output_type": "stream",
     "text": [
      "Error processing example: 'NoneType' object has no attribute 'copy'\n"
     ]
    },
    {
     "name": "stderr",
     "output_type": "stream",
     "text": [
      "\n",
      "Generating responses:   0%|          | 0/1 [00:00<?, ?it/s]\n"
     ]
    },
    {
     "name": "stdout",
     "output_type": "stream",
     "text": [
      "Error processing example: 'NoneType' object has no attribute 'copy'\n",
      "Error processing example: No Javadoc comment found in the code.\n",
      "Error processing example: No Javadoc comment found in the code.\n"
     ]
    },
    {
     "name": "stderr",
     "output_type": "stream",
     "text": [
      "Generating responses:   0%|          | 0/1 [00:00<?, ?it/s]\n",
      "Processing dataset:   9%|▉         | 365/4156 [00:04<00:49, 77.31it/s]"
     ]
    },
    {
     "name": "stdout",
     "output_type": "stream",
     "text": [
      "Error processing example: 'NoneType' object has no attribute 'copy'\n",
      "Error processing example: No Javadoc comment found in the code.\n",
      "Error processing example: No Javadoc comment found in the code.\n"
     ]
    },
    {
     "name": "stderr",
     "output_type": "stream",
     "text": [
      "Generating responses:   0%|          | 0/2 [00:00<?, ?it/s]\n"
     ]
    },
    {
     "name": "stdout",
     "output_type": "stream",
     "text": [
      "Error processing example: 'NoneType' object has no attribute 'copy'\n",
      "Error processing example: No Javadoc comment found in the code.\n",
      "Error processing example: No Javadoc comment found in the code.\n"
     ]
    },
    {
     "name": "stderr",
     "output_type": "stream",
     "text": [
      "Generating responses:   0%|          | 0/2 [00:00<?, ?it/s]\n"
     ]
    },
    {
     "name": "stdout",
     "output_type": "stream",
     "text": [
      "Error processing example: 'NoneType' object has no attribute 'copy'\n"
     ]
    },
    {
     "name": "stderr",
     "output_type": "stream",
     "text": [
      "Generating responses:   0%|          | 0/2 [00:00<?, ?it/s]\n"
     ]
    },
    {
     "name": "stdout",
     "output_type": "stream",
     "text": [
      "Error processing example: 'NoneType' object has no attribute 'copy'\n",
      "Error processing example: No Javadoc comment found in the code.\n",
      "Error processing example: No Javadoc comment found in the code.\n",
      "Error processing example: No Javadoc comment found in the code.\n",
      "Error processing example: No Javadoc comment found in the code.\n",
      "Error processing example: No Javadoc comment found in the code.\n",
      "Error processing example: No Javadoc comment found in the code.\n",
      "Error processing example: No Javadoc comment found in the code.\n"
     ]
    },
    {
     "name": "stderr",
     "output_type": "stream",
     "text": [
      "Generating responses:   0%|          | 0/2 [00:00<?, ?it/s]\n"
     ]
    },
    {
     "name": "stdout",
     "output_type": "stream",
     "text": [
      "Error processing example: 'NoneType' object has no attribute 'copy'\n"
     ]
    },
    {
     "name": "stderr",
     "output_type": "stream",
     "text": [
      "Generating responses:   0%|          | 0/2 [00:00<?, ?it/s]\n",
      "Processing dataset:   9%|▉         | 381/4156 [00:04<00:39, 96.27it/s]"
     ]
    },
    {
     "name": "stdout",
     "output_type": "stream",
     "text": [
      "Error processing example: 'NoneType' object has no attribute 'copy'\n",
      "Error processing example: No Javadoc comment found in the code.\n",
      "Error processing example: No Javadoc comment found in the code.\n",
      "Error processing example: No Javadoc comment found in the code.\n"
     ]
    },
    {
     "name": "stderr",
     "output_type": "stream",
     "text": [
      "Generating responses:   0%|          | 0/2 [00:00<?, ?it/s]\n"
     ]
    },
    {
     "name": "stdout",
     "output_type": "stream",
     "text": [
      "Error processing example: 'NoneType' object has no attribute 'copy'\n",
      "Error processing example: No Javadoc comment found in the code.\n",
      "Error processing example: No Javadoc comment found in the code.\n"
     ]
    },
    {
     "name": "stderr",
     "output_type": "stream",
     "text": [
      "Generating responses:   0%|          | 0/2 [00:00<?, ?it/s]\n"
     ]
    },
    {
     "name": "stdout",
     "output_type": "stream",
     "text": [
      "Error processing example: 'NoneType' object has no attribute 'copy'\n"
     ]
    },
    {
     "name": "stderr",
     "output_type": "stream",
     "text": [
      "Generating responses:   0%|          | 0/2 [00:00<?, ?it/s]"
     ]
    },
    {
     "name": "stdout",
     "output_type": "stream",
     "text": [
      "Error processing example: 'NoneType' object has no attribute 'copy'\n"
     ]
    },
    {
     "name": "stderr",
     "output_type": "stream",
     "text": [
      "\n"
     ]
    },
    {
     "name": "stdout",
     "output_type": "stream",
     "text": [
      "Error processing example: No Javadoc comment found in the code.\n"
     ]
    },
    {
     "name": "stderr",
     "output_type": "stream",
     "text": [
      "Generating responses:   0%|          | 0/2 [00:00<?, ?it/s]\n"
     ]
    },
    {
     "name": "stdout",
     "output_type": "stream",
     "text": [
      "Error processing example: 'NoneType' object has no attribute 'copy'\n"
     ]
    },
    {
     "name": "stderr",
     "output_type": "stream",
     "text": [
      "Generating responses:   0%|          | 0/2 [00:00<?, ?it/s]\n",
      "Processing dataset:   9%|▉         | 391/4156 [00:04<00:43, 87.09it/s]"
     ]
    },
    {
     "name": "stdout",
     "output_type": "stream",
     "text": [
      "Error processing example: 'NoneType' object has no attribute 'copy'\n"
     ]
    },
    {
     "name": "stderr",
     "output_type": "stream",
     "text": [
      "Generating responses:   0%|          | 0/2 [00:00<?, ?it/s]\n"
     ]
    },
    {
     "name": "stdout",
     "output_type": "stream",
     "text": [
      "Error processing example: 'NoneType' object has no attribute 'copy'\n",
      "Error processing example: No Javadoc comment found in the code.\n",
      "Error processing example: No Javadoc comment found in the code.\n"
     ]
    },
    {
     "name": "stderr",
     "output_type": "stream",
     "text": [
      "Generating responses:   0%|          | 0/2 [00:00<?, ?it/s]\n"
     ]
    },
    {
     "name": "stdout",
     "output_type": "stream",
     "text": [
      "Error processing example: 'NoneType' object has no attribute 'copy'\n"
     ]
    },
    {
     "name": "stderr",
     "output_type": "stream",
     "text": [
      "Generating responses:   0%|          | 0/2 [00:00<?, ?it/s]\n"
     ]
    },
    {
     "name": "stdout",
     "output_type": "stream",
     "text": [
      "Error processing example: 'NoneType' object has no attribute 'copy'\n",
      "Error processing example: No Javadoc comment found in the code.\n",
      "Error processing example: No Javadoc comment found in the code.\n",
      "Error processing example: No Javadoc comment found in the code.\n",
      "Error processing example: No Javadoc comment found in the code.\n"
     ]
    },
    {
     "name": "stderr",
     "output_type": "stream",
     "text": [
      "Generating responses:   0%|          | 0/2 [00:00<?, ?it/s]\n"
     ]
    },
    {
     "name": "stdout",
     "output_type": "stream",
     "text": [
      "Error processing example: 'NoneType' object has no attribute 'copy'\n",
      "Error processing example: No Javadoc comment found in the code.\n",
      "Error processing example: No Javadoc comment found in the code.\n"
     ]
    },
    {
     "name": "stderr",
     "output_type": "stream",
     "text": [
      "Generating responses:   0%|          | 0/2 [00:00<?, ?it/s]\n",
      "Processing dataset:  10%|▉         | 404/4156 [00:04<00:40, 93.46it/s]"
     ]
    },
    {
     "name": "stdout",
     "output_type": "stream",
     "text": [
      "Error processing example: 'NoneType' object has no attribute 'copy'\n",
      "Error processing example: No Javadoc comment found in the code.\n",
      "Error processing example: No Javadoc comment found in the code.\n"
     ]
    },
    {
     "name": "stderr",
     "output_type": "stream",
     "text": [
      "Generating responses:   0%|          | 0/2 [00:00<?, ?it/s]\n"
     ]
    },
    {
     "name": "stdout",
     "output_type": "stream",
     "text": [
      "Error processing example: 'NoneType' object has no attribute 'copy'\n",
      "Error processing example: No Javadoc comment found in the code.\n",
      "Error processing example: No Javadoc comment found in the code.\n"
     ]
    },
    {
     "name": "stderr",
     "output_type": "stream",
     "text": [
      "Generating responses:   0%|          | 0/2 [00:00<?, ?it/s]\n"
     ]
    },
    {
     "name": "stdout",
     "output_type": "stream",
     "text": [
      "Error processing example: 'NoneType' object has no attribute 'copy'\n",
      "Error processing example: No Javadoc comment found in the code.\n",
      "Error processing example: No Javadoc comment found in the code.\n",
      "Error processing example: No Javadoc comment found in the code.\n",
      "Error processing example: No Javadoc comment found in the code.\n",
      "Error processing example: No Javadoc comment found in the code.\n",
      "Error processing example: No Javadoc comment found in the code.\n",
      "Error processing example: No Javadoc comment found in the code.\n",
      "Error processing example: No Javadoc comment found in the code.\n"
     ]
    },
    {
     "name": "stderr",
     "output_type": "stream",
     "text": [
      "Generating responses:   0%|          | 0/2 [00:00<?, ?it/s]\n",
      "Processing dataset:  10%|█         | 419/4156 [00:04<00:35, 105.51it/s]"
     ]
    },
    {
     "name": "stdout",
     "output_type": "stream",
     "text": [
      "Error processing example: 'NoneType' object has no attribute 'copy'\n",
      "Error processing example: No Javadoc comment found in the code.\n",
      "Error processing example: No Javadoc comment found in the code.\n"
     ]
    },
    {
     "name": "stderr",
     "output_type": "stream",
     "text": [
      "Generating responses:   0%|          | 0/2 [00:00<?, ?it/s]"
     ]
    },
    {
     "name": "stdout",
     "output_type": "stream",
     "text": [
      "Error processing example: 'NoneType' object has no attribute 'copy'\n",
      "Error processing example: No Javadoc comment found in the code.\n"
     ]
    },
    {
     "name": "stderr",
     "output_type": "stream",
     "text": [
      "\n"
     ]
    },
    {
     "name": "stdout",
     "output_type": "stream",
     "text": [
      "Error processing example: No Javadoc comment found in the code.\n",
      "Error processing example: No Javadoc comment found in the code.\n",
      "Error processing example: No Javadoc comment found in the code.\n",
      "Error processing example: No Javadoc comment found in the code.\n",
      "Error processing example: No Javadoc comment found in the code.\n",
      "Error processing example: No Javadoc comment found in the code.\n",
      "Error processing example: No Javadoc comment found in the code.\n"
     ]
    },
    {
     "name": "stderr",
     "output_type": "stream",
     "text": [
      "Generating responses:   0%|          | 0/2 [00:00<?, ?it/s]\n"
     ]
    },
    {
     "name": "stdout",
     "output_type": "stream",
     "text": [
      "Error processing example: 'NoneType' object has no attribute 'copy'\n",
      "Error processing example: No Javadoc comment found in the code.\n",
      "Error processing example: No Javadoc comment found in the code.\n"
     ]
    },
    {
     "name": "stderr",
     "output_type": "stream",
     "text": [
      "Processing dataset:  10%|█         | 435/4156 [00:04<00:31, 118.23it/s]"
     ]
    },
    {
     "name": "stdout",
     "output_type": "stream",
     "text": [
      "Error processing example: No Javadoc comment found in the code.\n",
      "Error processing example: No Javadoc comment found in the code.\n",
      "Error processing example: No Javadoc comment found in the code.\n",
      "Error processing example: No Javadoc comment found in the code.\n",
      "Error processing example: No Javadoc comment found in the code.\n",
      "Error processing example: No Javadoc comment found in the code.\n",
      "Error processing example: No Javadoc comment found in the code.\n",
      "Error processing example: No Javadoc comment found in the code.\n",
      "Error processing example: No Javadoc comment found in the code.\n"
     ]
    },
    {
     "name": "stderr",
     "output_type": "stream",
     "text": [
      "Generating responses:   0%|          | 0/2 [00:00<?, ?it/s]\n"
     ]
    },
    {
     "name": "stdout",
     "output_type": "stream",
     "text": [
      "Error processing example: 'NoneType' object has no attribute 'copy'\n",
      "Error processing example: No Javadoc comment found in the code.\n"
     ]
    },
    {
     "name": "stderr",
     "output_type": "stream",
     "text": [
      "Generating responses:   0%|          | 0/2 [00:00<?, ?it/s]"
     ]
    },
    {
     "name": "stdout",
     "output_type": "stream",
     "text": [
      "Error processing example: 'NoneType' object has no attribute 'copy'\n"
     ]
    },
    {
     "name": "stderr",
     "output_type": "stream",
     "text": [
      "\n",
      "Generating responses:   0%|          | 0/2 [00:00<?, ?it/s]\n"
     ]
    },
    {
     "name": "stdout",
     "output_type": "stream",
     "text": [
      "Error processing example: 'NoneType' object has no attribute 'copy'\n"
     ]
    },
    {
     "name": "stderr",
     "output_type": "stream",
     "text": [
      "Generating responses:   0%|          | 0/2 [00:00<?, ?it/s]\n",
      "Processing dataset:  11%|█         | 448/4156 [00:04<00:32, 114.49it/s]"
     ]
    },
    {
     "name": "stdout",
     "output_type": "stream",
     "text": [
      "Error processing example: 'NoneType' object has no attribute 'copy'\n",
      "Error processing example: No Javadoc comment found in the code.\n",
      "Error processing example: No Javadoc comment found in the code.\n",
      "Error processing example: No Javadoc comment found in the code.\n",
      "Error processing example: No Javadoc comment found in the code.\n",
      "Error processing example: No Javadoc comment found in the code.\n"
     ]
    },
    {
     "name": "stderr",
     "output_type": "stream",
     "text": [
      "Generating responses:   0%|          | 0/2 [00:00<?, ?it/s]\n"
     ]
    },
    {
     "name": "stdout",
     "output_type": "stream",
     "text": [
      "Error processing example: 'NoneType' object has no attribute 'copy'\n",
      "Error processing example: No Javadoc comment found in the code.\n"
     ]
    },
    {
     "name": "stderr",
     "output_type": "stream",
     "text": [
      "Generating responses:   0%|          | 0/2 [00:00<?, ?it/s]\n"
     ]
    },
    {
     "name": "stdout",
     "output_type": "stream",
     "text": [
      "Error processing example: 'NoneType' object has no attribute 'copy'\n"
     ]
    },
    {
     "name": "stderr",
     "output_type": "stream",
     "text": [
      "Generating responses:   0%|          | 0/2 [00:00<?, ?it/s]"
     ]
    },
    {
     "name": "stdout",
     "output_type": "stream",
     "text": [
      "Error processing example: 'NoneType' object has no attribute 'copy'\n"
     ]
    },
    {
     "name": "stderr",
     "output_type": "stream",
     "text": [
      "\n"
     ]
    },
    {
     "name": "stdout",
     "output_type": "stream",
     "text": [
      "Error processing example: No Javadoc comment found in the code.\n"
     ]
    },
    {
     "name": "stderr",
     "output_type": "stream",
     "text": [
      "Generating responses:   0%|          | 0/2 [00:00<?, ?it/s]\n"
     ]
    },
    {
     "name": "stdout",
     "output_type": "stream",
     "text": [
      "Error processing example: 'NoneType' object has no attribute 'copy'\n"
     ]
    },
    {
     "name": "stderr",
     "output_type": "stream",
     "text": [
      "Generating responses:   0%|          | 0/2 [00:00<?, ?it/s]\n",
      "Processing dataset:  11%|█         | 460/4156 [00:04<00:33, 109.53it/s]"
     ]
    },
    {
     "name": "stdout",
     "output_type": "stream",
     "text": [
      "Error processing example: 'NoneType' object has no attribute 'copy'\n",
      "Error processing example: No Javadoc comment found in the code.\n",
      "Error processing example: No Javadoc comment found in the code.\n",
      "Error processing example: No Javadoc comment found in the code.\n",
      "Error processing example: No Javadoc comment found in the code.\n",
      "Error processing example: No Javadoc comment found in the code.\n",
      "Error processing example: No Javadoc comment found in the code.\n"
     ]
    },
    {
     "name": "stderr",
     "output_type": "stream",
     "text": [
      "Generating responses:   0%|          | 0/2 [00:00<?, ?it/s]\n"
     ]
    },
    {
     "name": "stdout",
     "output_type": "stream",
     "text": [
      "Error processing example: 'NoneType' object has no attribute 'copy'\n",
      "Error processing example: No Javadoc comment found in the code.\n"
     ]
    },
    {
     "name": "stderr",
     "output_type": "stream",
     "text": [
      "Generating responses:   0%|          | 0/2 [00:00<?, ?it/s]\n"
     ]
    },
    {
     "name": "stdout",
     "output_type": "stream",
     "text": [
      "Error processing example: 'NoneType' object has no attribute 'copy'\n"
     ]
    },
    {
     "name": "stderr",
     "output_type": "stream",
     "text": [
      "Generating responses:   0%|          | 0/2 [00:00<?, ?it/s]\n"
     ]
    },
    {
     "name": "stdout",
     "output_type": "stream",
     "text": [
      "Error processing example: 'NoneType' object has no attribute 'copy'\n",
      "Error processing example: No Javadoc comment found in the code.\n"
     ]
    },
    {
     "name": "stderr",
     "output_type": "stream",
     "text": [
      "Generating responses:   0%|          | 0/2 [00:00<?, ?it/s]"
     ]
    },
    {
     "name": "stdout",
     "output_type": "stream",
     "text": [
      "Error processing example: 'NoneType' object has no attribute 'copy'\n",
      "Error processing example: No Javadoc comment found in the code.\n"
     ]
    },
    {
     "name": "stderr",
     "output_type": "stream",
     "text": [
      "\n"
     ]
    },
    {
     "name": "stdout",
     "output_type": "stream",
     "text": [
      "Error processing example: No Javadoc comment found in the code.\n"
     ]
    },
    {
     "name": "stderr",
     "output_type": "stream",
     "text": [
      "Generating responses:   0%|          | 0/2 [00:00<?, ?it/s]\n",
      "Processing dataset:  11%|█▏        | 474/4156 [00:05<00:32, 113.17it/s]"
     ]
    },
    {
     "name": "stdout",
     "output_type": "stream",
     "text": [
      "Error processing example: 'NoneType' object has no attribute 'copy'\n",
      "Error processing example: No Javadoc comment found in the code.\n",
      "Error processing example: No Javadoc comment found in the code.\n",
      "Error processing example: No Javadoc comment found in the code.\n"
     ]
    },
    {
     "name": "stderr",
     "output_type": "stream",
     "text": [
      "Generating responses:   0%|          | 0/2 [00:00<?, ?it/s]\n"
     ]
    },
    {
     "name": "stdout",
     "output_type": "stream",
     "text": [
      "Error processing example: 'NoneType' object has no attribute 'copy'\n",
      "Error processing example: No Javadoc comment found in the code.\n",
      "Error processing example: No Javadoc comment found in the code.\n",
      "Error processing example: No Javadoc comment found in the code.\n",
      "Error processing example: No Javadoc comment found in the code.\n",
      "Error processing example: No Javadoc comment found in the code.\n"
     ]
    },
    {
     "name": "stderr",
     "output_type": "stream",
     "text": [
      "Generating responses:   0%|          | 0/2 [00:00<?, ?it/s]\n"
     ]
    },
    {
     "name": "stdout",
     "output_type": "stream",
     "text": [
      "Error processing example: 'NoneType' object has no attribute 'copy'\n",
      "Error processing example: No Javadoc comment found in the code.\n"
     ]
    },
    {
     "name": "stderr",
     "output_type": "stream",
     "text": [
      "Generating responses:   0%|          | 0/2 [00:00<?, ?it/s]\n",
      "Processing dataset:  12%|█▏        | 486/4156 [00:05<00:35, 103.50it/s]"
     ]
    },
    {
     "name": "stdout",
     "output_type": "stream",
     "text": [
      "Error processing example: 'NoneType' object has no attribute 'copy'\n"
     ]
    },
    {
     "name": "stderr",
     "output_type": "stream",
     "text": [
      "Generating responses:   0%|          | 0/2 [00:00<?, ?it/s]"
     ]
    },
    {
     "name": "stdout",
     "output_type": "stream",
     "text": [
      "Error processing example: 'NoneType' object has no attribute 'copy'\n",
      "Error processing example: No Javadoc comment found in the code.\n"
     ]
    },
    {
     "name": "stderr",
     "output_type": "stream",
     "text": [
      "\n"
     ]
    },
    {
     "name": "stdout",
     "output_type": "stream",
     "text": [
      "Error processing example: No Javadoc comment found in the code.\n",
      "Error processing example: No Javadoc comment found in the code.\n",
      "Error processing example: No Javadoc comment found in the code.\n"
     ]
    },
    {
     "name": "stderr",
     "output_type": "stream",
     "text": [
      "Generating responses:   0%|          | 0/2 [00:00<?, ?it/s]\n"
     ]
    },
    {
     "name": "stdout",
     "output_type": "stream",
     "text": [
      "Error processing example: 'NoneType' object has no attribute 'copy'\n"
     ]
    },
    {
     "name": "stderr",
     "output_type": "stream",
     "text": [
      "Generating responses:   0%|          | 0/2 [00:00<?, ?it/s]"
     ]
    },
    {
     "name": "stdout",
     "output_type": "stream",
     "text": [
      "Error processing example: 'NoneType' object has no attribute 'copy'\n",
      "Error processing example: No Javadoc comment found in the code.\n",
      "Error processing example: No Javadoc comment found in the code.\n",
      "Error processing example: No Javadoc comment found in the code.\n"
     ]
    },
    {
     "name": "stderr",
     "output_type": "stream",
     "text": [
      "\n",
      "Processing dataset:  12%|█▏        | 502/4156 [00:05<00:31, 117.81it/s]"
     ]
    },
    {
     "name": "stdout",
     "output_type": "stream",
     "text": [
      "Error processing example: No Javadoc comment found in the code.\n",
      "Error processing example: No Javadoc comment found in the code.\n",
      "Error processing example: No Javadoc comment found in the code.\n",
      "Error processing example: No Javadoc comment found in the code.\n",
      "Error processing example: No Javadoc comment found in the code.\n",
      "Error processing example: No Javadoc comment found in the code.\n",
      "Error processing example: No Javadoc comment found in the code.\n",
      "Error processing example: No Javadoc comment found in the code.\n"
     ]
    },
    {
     "name": "stderr",
     "output_type": "stream",
     "text": [
      "Generating responses:   0%|          | 0/2 [00:00<?, ?it/s]\n"
     ]
    },
    {
     "name": "stdout",
     "output_type": "stream",
     "text": [
      "Error processing example: 'NoneType' object has no attribute 'copy'\n",
      "Error processing example: No Javadoc comment found in the code.\n",
      "Error processing example: No Javadoc comment found in the code.\n"
     ]
    },
    {
     "name": "stderr",
     "output_type": "stream",
     "text": [
      "Generating responses:   0%|          | 0/2 [00:00<?, ?it/s]"
     ]
    },
    {
     "name": "stdout",
     "output_type": "stream",
     "text": [
      "Error processing example: 'NoneType' object has no attribute 'copy'\n"
     ]
    },
    {
     "name": "stderr",
     "output_type": "stream",
     "text": [
      "\n",
      "Generating responses:   0%|          | 0/2 [00:00<?, ?it/s]"
     ]
    },
    {
     "name": "stdout",
     "output_type": "stream",
     "text": [
      "Error processing example: 'NoneType' object has no attribute 'copy'\n",
      "Error processing example: No Javadoc comment found in the code.\n",
      "Error processing example: No Javadoc comment found in the code.\n"
     ]
    },
    {
     "name": "stderr",
     "output_type": "stream",
     "text": [
      "\n",
      "Generating responses:   0%|          | 0/2 [00:00<?, ?it/s]\n"
     ]
    },
    {
     "name": "stdout",
     "output_type": "stream",
     "text": [
      "Error processing example: 'NoneType' object has no attribute 'copy'\n"
     ]
    },
    {
     "name": "stderr",
     "output_type": "stream",
     "text": [
      "Generating responses:   0%|          | 0/2 [00:00<?, ?it/s]\n"
     ]
    },
    {
     "name": "stdout",
     "output_type": "stream",
     "text": [
      "Error processing example: 'NoneType' object has no attribute 'copy'\n",
      "Error processing example: No Javadoc comment found in the code.\n",
      "Error processing example: No Javadoc comment found in the code.\n",
      "Error processing example: No Javadoc comment found in the code.\n",
      "Error processing example: No Javadoc comment found in the code.\n",
      "Error processing example: No Javadoc comment found in the code.\n",
      "Error processing example: No Javadoc comment found in the code.\n"
     ]
    },
    {
     "name": "stderr",
     "output_type": "stream",
     "text": [
      "Generating responses:   0%|          | 0/2 [00:00<?, ?it/s]\n"
     ]
    },
    {
     "name": "stdout",
     "output_type": "stream",
     "text": [
      "Error processing example: 'NoneType' object has no attribute 'copy'\n"
     ]
    },
    {
     "name": "stderr",
     "output_type": "stream",
     "text": [
      "Generating responses:   0%|          | 0/2 [00:00<?, ?it/s]\n",
      "Processing dataset:  13%|█▎        | 522/4156 [00:05<00:26, 139.21it/s]"
     ]
    },
    {
     "name": "stdout",
     "output_type": "stream",
     "text": [
      "Error processing example: 'NoneType' object has no attribute 'copy'\n",
      "Error processing example: No Javadoc comment found in the code.\n",
      "Error processing example: No Javadoc comment found in the code.\n"
     ]
    },
    {
     "name": "stderr",
     "output_type": "stream",
     "text": [
      "Generating responses:   0%|          | 0/2 [00:00<?, ?it/s]"
     ]
    },
    {
     "name": "stdout",
     "output_type": "stream",
     "text": [
      "Error processing example: 'NoneType' object has no attribute 'copy'\n",
      "Error processing example: No Javadoc comment found in the code.\n"
     ]
    },
    {
     "name": "stderr",
     "output_type": "stream",
     "text": [
      "\n",
      "Generating responses:   0%|          | 0/2 [00:00<?, ?it/s]\n"
     ]
    },
    {
     "name": "stdout",
     "output_type": "stream",
     "text": [
      "Error processing example: 'NoneType' object has no attribute 'copy'\n"
     ]
    },
    {
     "name": "stderr",
     "output_type": "stream",
     "text": [
      "Generating responses:   0%|          | 0/2 [00:00<?, ?it/s]\n"
     ]
    },
    {
     "name": "stdout",
     "output_type": "stream",
     "text": [
      "Error processing example: 'NoneType' object has no attribute 'copy'\n",
      "Error processing example: No Javadoc comment found in the code.\n",
      "Error processing example: No Javadoc comment found in the code.\n"
     ]
    },
    {
     "name": "stderr",
     "output_type": "stream",
     "text": [
      "Generating responses:   0%|          | 0/2 [00:00<?, ?it/s]\n"
     ]
    },
    {
     "name": "stdout",
     "output_type": "stream",
     "text": [
      "Error processing example: 'NoneType' object has no attribute 'copy'\n"
     ]
    },
    {
     "name": "stderr",
     "output_type": "stream",
     "text": [
      "Generating responses:   0%|          | 0/2 [00:00<?, ?it/s]\n"
     ]
    },
    {
     "name": "stdout",
     "output_type": "stream",
     "text": [
      "Error processing example: 'NoneType' object has no attribute 'copy'\n"
     ]
    },
    {
     "name": "stderr",
     "output_type": "stream",
     "text": [
      "Generating responses:   0%|          | 0/2 [00:00<?, ?it/s]\n"
     ]
    },
    {
     "name": "stdout",
     "output_type": "stream",
     "text": [
      "Error processing example: 'NoneType' object has no attribute 'copy'\n",
      "Error processing example: No Javadoc comment found in the code.\n"
     ]
    },
    {
     "name": "stderr",
     "output_type": "stream",
     "text": [
      "Generating responses:   0%|          | 0/2 [00:00<?, ?it/s]\n"
     ]
    },
    {
     "name": "stdout",
     "output_type": "stream",
     "text": [
      "Error processing example: 'NoneType' object has no attribute 'copy'\n"
     ]
    },
    {
     "name": "stderr",
     "output_type": "stream",
     "text": [
      "Generating responses:   0%|          | 0/2 [00:00<?, ?it/s]\n"
     ]
    },
    {
     "name": "stdout",
     "output_type": "stream",
     "text": [
      "Error processing example: 'NoneType' object has no attribute 'copy'\n",
      "Error processing example: No Javadoc comment found in the code.\n"
     ]
    },
    {
     "name": "stderr",
     "output_type": "stream",
     "text": [
      "Processing dataset:  13%|█▎        | 537/4156 [00:05<00:31, 113.77it/s]"
     ]
    },
    {
     "name": "stdout",
     "output_type": "stream",
     "text": [
      "Error processing example: No Javadoc comment found in the code.\n"
     ]
    },
    {
     "name": "stderr",
     "output_type": "stream",
     "text": [
      "Generating responses:   0%|          | 0/2 [00:00<?, ?it/s]\n"
     ]
    },
    {
     "name": "stdout",
     "output_type": "stream",
     "text": [
      "Error processing example: 'NoneType' object has no attribute 'copy'\n"
     ]
    },
    {
     "name": "stderr",
     "output_type": "stream",
     "text": [
      "Generating responses:   0%|          | 0/2 [00:00<?, ?it/s]"
     ]
    },
    {
     "name": "stdout",
     "output_type": "stream",
     "text": [
      "Error processing example: 'NoneType' object has no attribute 'copy'\n"
     ]
    },
    {
     "name": "stderr",
     "output_type": "stream",
     "text": [
      "\n",
      "Generating responses:   0%|          | 0/2 [00:00<?, ?it/s]\n"
     ]
    },
    {
     "name": "stdout",
     "output_type": "stream",
     "text": [
      "Error processing example: 'NoneType' object has no attribute 'copy'\n",
      "Error processing example: No Javadoc comment found in the code.\n",
      "Error processing example: No Javadoc comment found in the code.\n",
      "Error processing example: No Javadoc comment found in the code.\n",
      "Error processing example: No Javadoc comment found in the code.\n",
      "Error processing example: No Javadoc comment found in the code.\n",
      "Error processing example: No Javadoc comment found in the code.\n",
      "Error processing example: No Javadoc comment found in the code.\n"
     ]
    },
    {
     "name": "stderr",
     "output_type": "stream",
     "text": [
      "Generating responses:   0%|          | 0/2 [00:00<?, ?it/s]\n"
     ]
    },
    {
     "name": "stdout",
     "output_type": "stream",
     "text": [
      "Error processing example: 'NoneType' object has no attribute 'copy'\n",
      "Error processing example: No Javadoc comment found in the code.\n",
      "Error processing example: No Javadoc comment found in the code.\n"
     ]
    },
    {
     "name": "stderr",
     "output_type": "stream",
     "text": [
      "Generating responses:   0%|          | 0/2 [00:00<?, ?it/s]\n",
      "Processing dataset:  13%|█▎        | 551/4156 [00:05<00:30, 119.22it/s]"
     ]
    },
    {
     "name": "stdout",
     "output_type": "stream",
     "text": [
      "Error processing example: 'NoneType' object has no attribute 'copy'\n"
     ]
    },
    {
     "name": "stderr",
     "output_type": "stream",
     "text": [
      "Generating responses:   0%|          | 0/2 [00:00<?, ?it/s]\n"
     ]
    },
    {
     "name": "stdout",
     "output_type": "stream",
     "text": [
      "Error processing example: 'NoneType' object has no attribute 'copy'\n",
      "Error processing example: No Javadoc comment found in the code.\n",
      "Error processing example: No Javadoc comment found in the code.\n",
      "Error processing example: No Javadoc comment found in the code.\n"
     ]
    },
    {
     "name": "stderr",
     "output_type": "stream",
     "text": [
      "Generating responses:   0%|          | 0/2 [00:00<?, ?it/s]\n"
     ]
    },
    {
     "name": "stdout",
     "output_type": "stream",
     "text": [
      "Error processing example: 'NoneType' object has no attribute 'copy'\n",
      "Error processing example: No Javadoc comment found in the code.\n",
      "Error processing example: No Javadoc comment found in the code.\n",
      "Error processing example: No Javadoc comment found in the code.\n",
      "Error processing example: No Javadoc comment found in the code.\n",
      "Error processing example: No Javadoc comment found in the code.\n",
      "Error processing example: No Javadoc comment found in the code.\n"
     ]
    },
    {
     "name": "stderr",
     "output_type": "stream",
     "text": [
      "Generating responses:   0%|          | 0/2 [00:00<?, ?it/s]\n"
     ]
    },
    {
     "name": "stdout",
     "output_type": "stream",
     "text": [
      "Error processing example: 'NoneType' object has no attribute 'copy'\n",
      "Error processing example: No Javadoc comment found in the code.\n"
     ]
    },
    {
     "name": "stderr",
     "output_type": "stream",
     "text": [
      "Generating responses:   0%|          | 0/2 [00:00<?, ?it/s]\n",
      "Processing dataset:  14%|█▎        | 565/4156 [00:05<00:29, 122.04it/s]"
     ]
    },
    {
     "name": "stdout",
     "output_type": "stream",
     "text": [
      "Error processing example: 'NoneType' object has no attribute 'copy'\n"
     ]
    },
    {
     "name": "stderr",
     "output_type": "stream",
     "text": [
      "Generating responses:   0%|          | 0/2 [00:00<?, ?it/s]\n"
     ]
    },
    {
     "name": "stdout",
     "output_type": "stream",
     "text": [
      "Error processing example: 'NoneType' object has no attribute 'copy'\n",
      "Error processing example: No Javadoc comment found in the code.\n"
     ]
    },
    {
     "name": "stderr",
     "output_type": "stream",
     "text": [
      "Generating responses:   0%|          | 0/2 [00:00<?, ?it/s]"
     ]
    },
    {
     "name": "stdout",
     "output_type": "stream",
     "text": [
      "Error processing example: 'NoneType' object has no attribute 'copy'\n",
      "Error processing example: No Javadoc comment found in the code.\n"
     ]
    },
    {
     "name": "stderr",
     "output_type": "stream",
     "text": [
      "\n",
      "Generating responses:   0%|          | 0/2 [00:00<?, ?it/s]"
     ]
    },
    {
     "name": "stdout",
     "output_type": "stream",
     "text": [
      "Error processing example: 'NoneType' object has no attribute 'copy'\n"
     ]
    },
    {
     "name": "stderr",
     "output_type": "stream",
     "text": [
      "\n"
     ]
    },
    {
     "name": "stdout",
     "output_type": "stream",
     "text": [
      "Error processing example: No Javadoc comment found in the code.\n"
     ]
    },
    {
     "name": "stderr",
     "output_type": "stream",
     "text": [
      "Generating responses:   0%|          | 0/2 [00:00<?, ?it/s]\n"
     ]
    },
    {
     "name": "stdout",
     "output_type": "stream",
     "text": [
      "Error processing example: 'NoneType' object has no attribute 'copy'\n"
     ]
    },
    {
     "name": "stderr",
     "output_type": "stream",
     "text": [
      "Generating responses:   0%|          | 0/2 [00:00<?, ?it/s]\n"
     ]
    },
    {
     "name": "stdout",
     "output_type": "stream",
     "text": [
      "Error processing example: 'NoneType' object has no attribute 'copy'\n"
     ]
    },
    {
     "name": "stderr",
     "output_type": "stream",
     "text": [
      "Generating responses:   0%|          | 0/2 [00:00<?, ?it/s]"
     ]
    },
    {
     "name": "stdout",
     "output_type": "stream",
     "text": [
      "Error processing example: 'NoneType' object has no attribute 'copy'\n"
     ]
    },
    {
     "name": "stderr",
     "output_type": "stream",
     "text": [
      "\n"
     ]
    },
    {
     "name": "stdout",
     "output_type": "stream",
     "text": [
      "Error processing example: No Javadoc comment found in the code.\n"
     ]
    },
    {
     "name": "stderr",
     "output_type": "stream",
     "text": [
      "Generating responses:   0%|          | 0/2 [00:00<?, ?it/s]\n"
     ]
    },
    {
     "name": "stdout",
     "output_type": "stream",
     "text": [
      "Error processing example: 'NoneType' object has no attribute 'copy'\n"
     ]
    },
    {
     "name": "stderr",
     "output_type": "stream",
     "text": [
      "Processing dataset:  14%|█▍        | 578/4156 [00:05<00:37, 95.80it/s] "
     ]
    },
    {
     "name": "stdout",
     "output_type": "stream",
     "text": [
      "Error processing example: No Javadoc comment found in the code.\n",
      "Error processing example: No Javadoc comment found in the code.\n"
     ]
    },
    {
     "name": "stderr",
     "output_type": "stream",
     "text": [
      "Generating responses:   0%|          | 0/2 [00:00<?, ?it/s]\n"
     ]
    },
    {
     "name": "stdout",
     "output_type": "stream",
     "text": [
      "Error processing example: 'NoneType' object has no attribute 'copy'\n"
     ]
    },
    {
     "name": "stderr",
     "output_type": "stream",
     "text": [
      "Generating responses:   0%|          | 0/2 [00:00<?, ?it/s]\n"
     ]
    },
    {
     "name": "stdout",
     "output_type": "stream",
     "text": [
      "Error processing example: 'NoneType' object has no attribute 'copy'\n",
      "Error processing example: No Javadoc comment found in the code.\n",
      "Error processing example: No Javadoc comment found in the code.\n",
      "Error processing example: No Javadoc comment found in the code.\n",
      "Error processing example: No Javadoc comment found in the code.\n",
      "Error processing example: No Javadoc comment found in the code.\n",
      "Error processing example: No Javadoc comment found in the code.\n",
      "Error processing example: No Javadoc comment found in the code.\n"
     ]
    },
    {
     "name": "stderr",
     "output_type": "stream",
     "text": [
      "Generating responses:   0%|          | 0/2 [00:00<?, ?it/s]\n"
     ]
    },
    {
     "name": "stdout",
     "output_type": "stream",
     "text": [
      "Error processing example: 'NoneType' object has no attribute 'copy'\n"
     ]
    },
    {
     "name": "stderr",
     "output_type": "stream",
     "text": [
      "Generating responses:   0%|          | 0/2 [00:00<?, ?it/s]\n",
      "Processing dataset:  14%|█▍        | 589/4156 [00:06<00:36, 96.99it/s]"
     ]
    },
    {
     "name": "stdout",
     "output_type": "stream",
     "text": [
      "Error processing example: 'NoneType' object has no attribute 'copy'\n",
      "Error processing example: No Javadoc comment found in the code.\n"
     ]
    },
    {
     "name": "stderr",
     "output_type": "stream",
     "text": [
      "Generating responses:   0%|          | 0/2 [00:00<?, ?it/s]\n"
     ]
    },
    {
     "name": "stdout",
     "output_type": "stream",
     "text": [
      "Error processing example: 'NoneType' object has no attribute 'copy'\n",
      "Error processing example: No Javadoc comment found in the code.\n"
     ]
    },
    {
     "name": "stderr",
     "output_type": "stream",
     "text": [
      "Generating responses:   0%|          | 0/2 [00:00<?, ?it/s]"
     ]
    },
    {
     "name": "stdout",
     "output_type": "stream",
     "text": [
      "Error processing example: 'NoneType' object has no attribute 'copy'\n"
     ]
    },
    {
     "name": "stderr",
     "output_type": "stream",
     "text": [
      "\n"
     ]
    },
    {
     "name": "stdout",
     "output_type": "stream",
     "text": [
      "Error processing example: No Javadoc comment found in the code.\n"
     ]
    },
    {
     "name": "stderr",
     "output_type": "stream",
     "text": [
      "Generating responses:   0%|          | 0/2 [00:00<?, ?it/s]\n"
     ]
    },
    {
     "name": "stdout",
     "output_type": "stream",
     "text": [
      "Error processing example: 'NoneType' object has no attribute 'copy'\n",
      "Error processing example: No Javadoc comment found in the code.\n",
      "Error processing example: No Javadoc comment found in the code.\n",
      "Error processing example: No Javadoc comment found in the code.\n"
     ]
    },
    {
     "name": "stderr",
     "output_type": "stream",
     "text": [
      "Generating responses:   0%|          | 0/2 [00:00<?, ?it/s]\n"
     ]
    },
    {
     "name": "stdout",
     "output_type": "stream",
     "text": [
      "Error processing example: 'NoneType' object has no attribute 'copy'\n"
     ]
    },
    {
     "name": "stderr",
     "output_type": "stream",
     "text": [
      "Generating responses:   0%|          | 0/2 [00:00<?, ?it/s]\n",
      "Processing dataset:  14%|█▍        | 600/4156 [00:06<00:36, 97.10it/s]"
     ]
    },
    {
     "name": "stdout",
     "output_type": "stream",
     "text": [
      "Error processing example: 'NoneType' object has no attribute 'copy'\n",
      "Error processing example: No Javadoc comment found in the code.\n",
      "Error processing example: No Javadoc comment found in the code.\n"
     ]
    },
    {
     "name": "stderr",
     "output_type": "stream",
     "text": [
      "Generating responses:   0%|          | 0/2 [00:00<?, ?it/s]\n"
     ]
    },
    {
     "name": "stdout",
     "output_type": "stream",
     "text": [
      "Error processing example: 'NoneType' object has no attribute 'copy'\n"
     ]
    },
    {
     "name": "stderr",
     "output_type": "stream",
     "text": [
      "Generating responses:   0%|          | 0/2 [00:00<?, ?it/s]\n"
     ]
    },
    {
     "name": "stdout",
     "output_type": "stream",
     "text": [
      "Error processing example: 'NoneType' object has no attribute 'copy'\n",
      "Error processing example: No Javadoc comment found in the code.\n",
      "Error processing example: No Javadoc comment found in the code.\n"
     ]
    },
    {
     "name": "stderr",
     "output_type": "stream",
     "text": [
      "Generating responses:   0%|          | 0/2 [00:00<?, ?it/s]\n"
     ]
    },
    {
     "name": "stdout",
     "output_type": "stream",
     "text": [
      "Error processing example: 'NoneType' object has no attribute 'copy'\n"
     ]
    },
    {
     "name": "stderr",
     "output_type": "stream",
     "text": [
      "Generating responses:   0%|          | 0/2 [00:00<?, ?it/s]\n"
     ]
    },
    {
     "name": "stdout",
     "output_type": "stream",
     "text": [
      "Error processing example: 'NoneType' object has no attribute 'copy'\n",
      "Error processing example: No Javadoc comment found in the code.\n"
     ]
    },
    {
     "name": "stderr",
     "output_type": "stream",
     "text": [
      "Processing dataset:  15%|█▍        | 611/4156 [00:06<00:37, 94.62it/s]"
     ]
    },
    {
     "name": "stdout",
     "output_type": "stream",
     "text": [
      "Error processing example: No Javadoc comment found in the code.\n",
      "Error processing example: No Javadoc comment found in the code.\n",
      "Error processing example: No Javadoc comment found in the code.\n",
      "Error processing example: No Javadoc comment found in the code.\n",
      "Error processing example: No Javadoc comment found in the code.\n",
      "Error processing example: No Javadoc comment found in the code.\n",
      "Error processing example: No Javadoc comment found in the code.\n"
     ]
    },
    {
     "name": "stderr",
     "output_type": "stream",
     "text": [
      "Generating responses:   0%|          | 0/2 [00:00<?, ?it/s]\n"
     ]
    },
    {
     "name": "stdout",
     "output_type": "stream",
     "text": [
      "Error processing example: 'NoneType' object has no attribute 'copy'\n"
     ]
    },
    {
     "name": "stderr",
     "output_type": "stream",
     "text": [
      "Generating responses:   0%|          | 0/2 [00:00<?, ?it/s]\n"
     ]
    },
    {
     "name": "stdout",
     "output_type": "stream",
     "text": [
      "Error processing example: 'NoneType' object has no attribute 'copy'\n",
      "Error processing example: No Javadoc comment found in the code.\n",
      "Error processing example: No Javadoc comment found in the code.\n"
     ]
    },
    {
     "name": "stderr",
     "output_type": "stream",
     "text": [
      "Generating responses:   0%|          | 0/2 [00:00<?, ?it/s]\n"
     ]
    },
    {
     "name": "stdout",
     "output_type": "stream",
     "text": [
      "Error processing example: 'NoneType' object has no attribute 'copy'\n"
     ]
    },
    {
     "name": "stderr",
     "output_type": "stream",
     "text": [
      "Generating responses:   0%|          | 0/2 [00:00<?, ?it/s]\n",
      "Processing dataset:  15%|█▍        | 622/4156 [00:06<00:37, 93.10it/s]"
     ]
    },
    {
     "name": "stdout",
     "output_type": "stream",
     "text": [
      "Error processing example: 'NoneType' object has no attribute 'copy'\n",
      "Error processing example: No Javadoc comment found in the code.\n",
      "Error processing example: No Javadoc comment found in the code.\n",
      "Error processing example: No Javadoc comment found in the code.\n",
      "Error processing example: No Javadoc comment found in the code.\n",
      "Error processing example: No Javadoc comment found in the code.\n"
     ]
    },
    {
     "name": "stderr",
     "output_type": "stream",
     "text": [
      "Generating responses:   0%|          | 0/2 [00:00<?, ?it/s]"
     ]
    },
    {
     "name": "stdout",
     "output_type": "stream",
     "text": [
      "Error processing example: 'NoneType' object has no attribute 'copy'\n"
     ]
    },
    {
     "name": "stderr",
     "output_type": "stream",
     "text": [
      "\n",
      "Generating responses:   0%|          | 0/2 [00:00<?, ?it/s]\n"
     ]
    },
    {
     "name": "stdout",
     "output_type": "stream",
     "text": [
      "Error processing example: 'NoneType' object has no attribute 'copy'\n",
      "Error processing example: No Javadoc comment found in the code.\n"
     ]
    },
    {
     "name": "stderr",
     "output_type": "stream",
     "text": [
      "Generating responses:   0%|          | 0/2 [00:00<?, ?it/s]\n"
     ]
    },
    {
     "name": "stdout",
     "output_type": "stream",
     "text": [
      "Error processing example: 'NoneType' object has no attribute 'copy'\n"
     ]
    },
    {
     "name": "stderr",
     "output_type": "stream",
     "text": [
      "Generating responses:   0%|          | 0/2 [00:00<?, ?it/s]\n"
     ]
    },
    {
     "name": "stdout",
     "output_type": "stream",
     "text": [
      "Error processing example: 'NoneType' object has no attribute 'copy'\n"
     ]
    },
    {
     "name": "stderr",
     "output_type": "stream",
     "text": [
      "Generating responses:   0%|          | 0/2 [00:00<?, ?it/s]\n"
     ]
    },
    {
     "name": "stdout",
     "output_type": "stream",
     "text": [
      "Error processing example: 'NoneType' object has no attribute 'copy'\n",
      "Error processing example: No Javadoc comment found in the code.\n"
     ]
    },
    {
     "name": "stderr",
     "output_type": "stream",
     "text": [
      "Generating responses:   0%|          | 0/2 [00:00<?, ?it/s]\n",
      "Processing dataset:  15%|█▌        | 635/4156 [00:06<00:35, 98.48it/s]"
     ]
    },
    {
     "name": "stdout",
     "output_type": "stream",
     "text": [
      "Error processing example: 'NoneType' object has no attribute 'copy'\n",
      "Error processing example: No Javadoc comment found in the code.\n",
      "Error processing example: No Javadoc comment found in the code.\n"
     ]
    },
    {
     "name": "stderr",
     "output_type": "stream",
     "text": [
      "Generating responses:   0%|          | 0/2 [00:00<?, ?it/s]\n"
     ]
    },
    {
     "name": "stdout",
     "output_type": "stream",
     "text": [
      "Error processing example: 'NoneType' object has no attribute 'copy'\n"
     ]
    },
    {
     "name": "stderr",
     "output_type": "stream",
     "text": [
      "Generating responses:   0%|          | 0/2 [00:00<?, ?it/s]\n"
     ]
    },
    {
     "name": "stdout",
     "output_type": "stream",
     "text": [
      "Error processing example: 'NoneType' object has no attribute 'copy'\n",
      "Error processing example: No Javadoc comment found in the code.\n",
      "Error processing example: No Javadoc comment found in the code.\n",
      "Error processing example: No Javadoc comment found in the code.\n",
      "Error processing example: No Javadoc comment found in the code.\n"
     ]
    },
    {
     "name": "stderr",
     "output_type": "stream",
     "text": [
      "Generating responses:   0%|          | 0/2 [00:00<?, ?it/s]\n"
     ]
    },
    {
     "name": "stdout",
     "output_type": "stream",
     "text": [
      "Error processing example: 'NoneType' object has no attribute 'copy'\n"
     ]
    },
    {
     "name": "stderr",
     "output_type": "stream",
     "text": [
      "Generating responses:   0%|          | 0/2 [00:00<?, ?it/s]\n"
     ]
    },
    {
     "name": "stdout",
     "output_type": "stream",
     "text": [
      "Error processing example: 'NoneType' object has no attribute 'copy'\n"
     ]
    },
    {
     "name": "stderr",
     "output_type": "stream",
     "text": [
      "Processing dataset:  16%|█▌        | 649/4156 [00:06<00:32, 108.79it/s]"
     ]
    },
    {
     "name": "stdout",
     "output_type": "stream",
     "text": [
      "Error processing example: No Javadoc comment found in the code.\n",
      "Error processing example: No Javadoc comment found in the code.\n",
      "Error processing example: No Javadoc comment found in the code.\n",
      "Error processing example: No Javadoc comment found in the code.\n"
     ]
    },
    {
     "name": "stderr",
     "output_type": "stream",
     "text": [
      "Generating responses:   0%|          | 0/2 [00:00<?, ?it/s]\n"
     ]
    },
    {
     "name": "stdout",
     "output_type": "stream",
     "text": [
      "Error processing example: 'NoneType' object has no attribute 'copy'\n"
     ]
    },
    {
     "name": "stderr",
     "output_type": "stream",
     "text": [
      "Generating responses:   0%|          | 0/2 [00:00<?, ?it/s]\n"
     ]
    },
    {
     "name": "stdout",
     "output_type": "stream",
     "text": [
      "Error processing example: 'NoneType' object has no attribute 'copy'\n",
      "Error processing example: No Javadoc comment found in the code.\n",
      "Error processing example: No Javadoc comment found in the code.\n",
      "Error processing example: No Javadoc comment found in the code.\n"
     ]
    },
    {
     "name": "stderr",
     "output_type": "stream",
     "text": [
      "Generating responses:   0%|          | 0/2 [00:00<?, ?it/s]\n"
     ]
    },
    {
     "name": "stdout",
     "output_type": "stream",
     "text": [
      "Error processing example: 'NoneType' object has no attribute 'copy'\n"
     ]
    },
    {
     "name": "stderr",
     "output_type": "stream",
     "text": [
      "Generating responses:   0%|          | 0/2 [00:00<?, ?it/s]\n"
     ]
    },
    {
     "name": "stdout",
     "output_type": "stream",
     "text": [
      "Error processing example: 'NoneType' object has no attribute 'copy'\n",
      "Error processing example: No Javadoc comment found in the code.\n"
     ]
    },
    {
     "name": "stderr",
     "output_type": "stream",
     "text": [
      "Generating responses:   0%|          | 0/2 [00:00<?, ?it/s]"
     ]
    },
    {
     "name": "stdout",
     "output_type": "stream",
     "text": [
      "Error processing example: 'NoneType' object has no attribute 'copy'\n"
     ]
    },
    {
     "name": "stderr",
     "output_type": "stream",
     "text": [
      "\n"
     ]
    },
    {
     "name": "stdout",
     "output_type": "stream",
     "text": [
      "Error processing example: No Javadoc comment found in the code.\n"
     ]
    },
    {
     "name": "stderr",
     "output_type": "stream",
     "text": [
      "Generating responses:   0%|          | 0/2 [00:00<?, ?it/s]\n"
     ]
    },
    {
     "name": "stdout",
     "output_type": "stream",
     "text": [
      "Error processing example: 'NoneType' object has no attribute 'copy'\n"
     ]
    },
    {
     "name": "stderr",
     "output_type": "stream",
     "text": [
      "Processing dataset:  16%|█▌        | 661/4156 [00:06<00:35, 99.05it/s] "
     ]
    },
    {
     "name": "stdout",
     "output_type": "stream",
     "text": [
      "Error processing example: No Javadoc comment found in the code.\n",
      "Error processing example: No Javadoc comment found in the code.\n"
     ]
    },
    {
     "name": "stderr",
     "output_type": "stream",
     "text": [
      "Generating responses:   0%|          | 0/2 [00:00<?, ?it/s]\n"
     ]
    },
    {
     "name": "stdout",
     "output_type": "stream",
     "text": [
      "Error processing example: 'NoneType' object has no attribute 'copy'\n",
      "Error processing example: No Javadoc comment found in the code.\n",
      "Error processing example: No Javadoc comment found in the code.\n",
      "Error processing example: No Javadoc comment found in the code.\n",
      "Error processing example: No Javadoc comment found in the code.\n",
      "Error processing example: No Javadoc comment found in the code.\n",
      "Error processing example: No Javadoc comment found in the code.\n",
      "Error processing example: No Javadoc comment found in the code.\n"
     ]
    },
    {
     "name": "stderr",
     "output_type": "stream",
     "text": [
      "Generating responses:   0%|          | 0/2 [00:00<?, ?it/s]\n"
     ]
    },
    {
     "name": "stdout",
     "output_type": "stream",
     "text": [
      "Error processing example: 'NoneType' object has no attribute 'copy'\n",
      "Error processing example: No Javadoc comment found in the code.\n",
      "Error processing example: No Javadoc comment found in the code.\n",
      "Error processing example: No Javadoc comment found in the code.\n"
     ]
    },
    {
     "name": "stderr",
     "output_type": "stream",
     "text": [
      "Processing dataset:  16%|█▌        | 675/4156 [00:06<00:31, 109.10it/s]"
     ]
    },
    {
     "name": "stdout",
     "output_type": "stream",
     "text": [
      "Error processing example: No Javadoc comment found in the code.\n",
      "Error processing example: No Javadoc comment found in the code.\n"
     ]
    },
    {
     "name": "stderr",
     "output_type": "stream",
     "text": [
      "Generating responses:   0%|          | 0/2 [00:00<?, ?it/s]\n"
     ]
    },
    {
     "name": "stdout",
     "output_type": "stream",
     "text": [
      "Error processing example: 'NoneType' object has no attribute 'copy'\n"
     ]
    },
    {
     "name": "stderr",
     "output_type": "stream",
     "text": [
      "Generating responses:   0%|          | 0/2 [00:00<?, ?it/s]\n"
     ]
    },
    {
     "name": "stdout",
     "output_type": "stream",
     "text": [
      "Error processing example: 'NoneType' object has no attribute 'copy'\n",
      "Error processing example: No Javadoc comment found in the code.\n"
     ]
    },
    {
     "name": "stderr",
     "output_type": "stream",
     "text": [
      "Generating responses:   0%|          | 0/2 [00:00<?, ?it/s]"
     ]
    },
    {
     "name": "stdout",
     "output_type": "stream",
     "text": [
      "Error processing example: 'NoneType' object has no attribute 'copy'\n"
     ]
    },
    {
     "name": "stderr",
     "output_type": "stream",
     "text": [
      "\n"
     ]
    },
    {
     "name": "stdout",
     "output_type": "stream",
     "text": [
      "Error processing example: No Javadoc comment found in the code.\n",
      "Error processing example: No Javadoc comment found in the code.\n",
      "Error processing example: No Javadoc comment found in the code.\n",
      "Error processing example: No Javadoc comment found in the code.\n"
     ]
    },
    {
     "name": "stderr",
     "output_type": "stream",
     "text": [
      "Generating responses:   0%|          | 0/2 [00:00<?, ?it/s]\n"
     ]
    },
    {
     "name": "stdout",
     "output_type": "stream",
     "text": [
      "Error processing example: 'NoneType' object has no attribute 'copy'\n"
     ]
    },
    {
     "name": "stderr",
     "output_type": "stream",
     "text": [
      "Generating responses:   0%|          | 0/2 [00:00<?, ?it/s]\n",
      "Processing dataset:  17%|█▋        | 687/4156 [00:07<00:33, 104.68it/s]"
     ]
    },
    {
     "name": "stdout",
     "output_type": "stream",
     "text": [
      "Error processing example: 'NoneType' object has no attribute 'copy'\n",
      "Error processing example: No Javadoc comment found in the code.\n",
      "Error processing example: No Javadoc comment found in the code.\n",
      "Error processing example: No Javadoc comment found in the code.\n"
     ]
    },
    {
     "name": "stderr",
     "output_type": "stream",
     "text": [
      "Generating responses:   0%|          | 0/2 [00:00<?, ?it/s]\n"
     ]
    },
    {
     "name": "stdout",
     "output_type": "stream",
     "text": [
      "Error processing example: 'NoneType' object has no attribute 'copy'\n",
      "Error processing example: No Javadoc comment found in the code.\n"
     ]
    },
    {
     "name": "stderr",
     "output_type": "stream",
     "text": [
      "Generating responses:   0%|          | 0/2 [00:00<?, ?it/s]\n"
     ]
    },
    {
     "name": "stdout",
     "output_type": "stream",
     "text": [
      "Error processing example: 'NoneType' object has no attribute 'copy'\n"
     ]
    },
    {
     "name": "stderr",
     "output_type": "stream",
     "text": [
      "Generating responses:   0%|          | 0/2 [00:00<?, ?it/s]\n"
     ]
    },
    {
     "name": "stdout",
     "output_type": "stream",
     "text": [
      "Error processing example: 'NoneType' object has no attribute 'copy'\n",
      "Error processing example: No Javadoc comment found in the code.\n",
      "Error processing example: No Javadoc comment found in the code.\n",
      "Error processing example: No Javadoc comment found in the code.\n",
      "Error processing example: No Javadoc comment found in the code.\n"
     ]
    },
    {
     "name": "stderr",
     "output_type": "stream",
     "text": [
      "Generating responses:   0%|          | 0/2 [00:00<?, ?it/s]\n",
      "Processing dataset:  17%|█▋        | 698/4156 [00:07<00:35, 96.52it/s] "
     ]
    },
    {
     "name": "stdout",
     "output_type": "stream",
     "text": [
      "Error processing example: 'NoneType' object has no attribute 'copy'\n",
      "Error processing example: No Javadoc comment found in the code.\n",
      "Error processing example: No Javadoc comment found in the code.\n"
     ]
    },
    {
     "name": "stderr",
     "output_type": "stream",
     "text": [
      "Generating responses:   0%|          | 0/2 [00:00<?, ?it/s]\n"
     ]
    },
    {
     "name": "stdout",
     "output_type": "stream",
     "text": [
      "Error processing example: 'NoneType' object has no attribute 'copy'\n",
      "Error processing example: No Javadoc comment found in the code.\n"
     ]
    },
    {
     "name": "stderr",
     "output_type": "stream",
     "text": [
      "Generating responses:   0%|          | 0/2 [00:00<?, ?it/s]\n"
     ]
    },
    {
     "name": "stdout",
     "output_type": "stream",
     "text": [
      "Error processing example: 'NoneType' object has no attribute 'copy'\n"
     ]
    },
    {
     "name": "stderr",
     "output_type": "stream",
     "text": [
      "Generating responses:   0%|          | 0/2 [00:00<?, ?it/s]\n"
     ]
    },
    {
     "name": "stdout",
     "output_type": "stream",
     "text": [
      "Error processing example: 'NoneType' object has no attribute 'copy'\n",
      "Error processing example: No Javadoc comment found in the code.\n"
     ]
    },
    {
     "name": "stderr",
     "output_type": "stream",
     "text": [
      "Generating responses:   0%|          | 0/2 [00:00<?, ?it/s]\n"
     ]
    },
    {
     "name": "stdout",
     "output_type": "stream",
     "text": [
      "Error processing example: 'NoneType' object has no attribute 'copy'\n",
      "Error processing example: No Javadoc comment found in the code.\n"
     ]
    },
    {
     "name": "stderr",
     "output_type": "stream",
     "text": [
      "Generating responses:   0%|          | 0/2 [00:00<?, ?it/s]\n",
      "Processing dataset:  17%|█▋        | 708/4156 [00:07<00:38, 89.70it/s]"
     ]
    },
    {
     "name": "stdout",
     "output_type": "stream",
     "text": [
      "Error processing example: 'NoneType' object has no attribute 'copy'\n"
     ]
    },
    {
     "name": "stderr",
     "output_type": "stream",
     "text": [
      "Generating responses:   0%|          | 0/2 [00:00<?, ?it/s]\n"
     ]
    },
    {
     "name": "stdout",
     "output_type": "stream",
     "text": [
      "Error processing example: 'NoneType' object has no attribute 'copy'\n"
     ]
    },
    {
     "name": "stderr",
     "output_type": "stream",
     "text": [
      "Generating responses:   0%|          | 0/2 [00:00<?, ?it/s]\n"
     ]
    },
    {
     "name": "stdout",
     "output_type": "stream",
     "text": [
      "Error processing example: 'NoneType' object has no attribute 'copy'\n",
      "Error processing example: No Javadoc comment found in the code.\n",
      "Error processing example: No Javadoc comment found in the code.\n",
      "Error processing example: No Javadoc comment found in the code.\n",
      "Error processing example: No Javadoc comment found in the code.\n",
      "Error processing example: No Javadoc comment found in the code.\n",
      "Error processing example: No Javadoc comment found in the code.\n",
      "Error processing example: No Javadoc comment found in the code.\n"
     ]
    },
    {
     "name": "stderr",
     "output_type": "stream",
     "text": [
      "Generating responses:   0%|          | 0/2 [00:00<?, ?it/s]\n"
     ]
    },
    {
     "name": "stdout",
     "output_type": "stream",
     "text": [
      "Error processing example: 'NoneType' object has no attribute 'copy'\n",
      "Error processing example: No Javadoc comment found in the code.\n"
     ]
    },
    {
     "name": "stderr",
     "output_type": "stream",
     "text": [
      "Generating responses:   0%|          | 0/2 [00:00<?, ?it/s]\n"
     ]
    },
    {
     "name": "stdout",
     "output_type": "stream",
     "text": [
      "Error processing example: 'NoneType' object has no attribute 'copy'\n"
     ]
    },
    {
     "name": "stderr",
     "output_type": "stream",
     "text": [
      "Generating responses:   0%|          | 0/2 [00:00<?, ?it/s]\n",
      "Processing dataset:  17%|█▋        | 722/4156 [00:07<00:33, 101.52it/s]"
     ]
    },
    {
     "name": "stdout",
     "output_type": "stream",
     "text": [
      "Error processing example: 'NoneType' object has no attribute 'copy'\n",
      "Error processing example: No Javadoc comment found in the code.\n",
      "Error processing example: No Javadoc comment found in the code.\n",
      "Error processing example: No Javadoc comment found in the code.\n"
     ]
    },
    {
     "name": "stderr",
     "output_type": "stream",
     "text": [
      "Generating responses:   0%|          | 0/2 [00:00<?, ?it/s]\n"
     ]
    },
    {
     "name": "stdout",
     "output_type": "stream",
     "text": [
      "Error processing example: 'NoneType' object has no attribute 'copy'\n"
     ]
    },
    {
     "name": "stderr",
     "output_type": "stream",
     "text": [
      "Generating responses:   0%|          | 0/2 [00:00<?, ?it/s]\n"
     ]
    },
    {
     "name": "stdout",
     "output_type": "stream",
     "text": [
      "Error processing example: 'NoneType' object has no attribute 'copy'\n",
      "Error processing example: No Javadoc comment found in the code.\n"
     ]
    },
    {
     "name": "stderr",
     "output_type": "stream",
     "text": [
      "Generating responses:   0%|          | 0/2 [00:00<?, ?it/s]\n"
     ]
    },
    {
     "name": "stdout",
     "output_type": "stream",
     "text": [
      "Error processing example: 'NoneType' object has no attribute 'copy'\n"
     ]
    },
    {
     "name": "stderr",
     "output_type": "stream",
     "text": [
      "Generating responses:   0%|          | 0/2 [00:00<?, ?it/s]\n"
     ]
    },
    {
     "name": "stdout",
     "output_type": "stream",
     "text": [
      "Error processing example: 'NoneType' object has no attribute 'copy'\n",
      "Error processing example: No Javadoc comment found in the code.\n",
      "Error processing example: No Javadoc comment found in the code.\n",
      "Error processing example: No Javadoc comment found in the code.\n"
     ]
    },
    {
     "name": "stderr",
     "output_type": "stream",
     "text": [
      "Generating responses:   0%|          | 0/2 [00:00<?, ?it/s]\n",
      "Processing dataset:  18%|█▊        | 733/4156 [00:07<00:33, 102.17it/s]"
     ]
    },
    {
     "name": "stdout",
     "output_type": "stream",
     "text": [
      "Error processing example: 'NoneType' object has no attribute 'copy'\n"
     ]
    },
    {
     "name": "stderr",
     "output_type": "stream",
     "text": [
      "Generating responses:   0%|          | 0/2 [00:00<?, ?it/s]\n"
     ]
    },
    {
     "name": "stdout",
     "output_type": "stream",
     "text": [
      "Error processing example: 'NoneType' object has no attribute 'copy'\n",
      "Error processing example: No Javadoc comment found in the code.\n",
      "Error processing example: No Javadoc comment found in the code.\n",
      "Error processing example: No Javadoc comment found in the code.\n",
      "Error processing example: No Javadoc comment found in the code.\n"
     ]
    },
    {
     "name": "stderr",
     "output_type": "stream",
     "text": [
      "Generating responses:   0%|          | 0/2 [00:00<?, ?it/s]\n"
     ]
    },
    {
     "name": "stdout",
     "output_type": "stream",
     "text": [
      "Error processing example: 'NoneType' object has no attribute 'copy'\n"
     ]
    },
    {
     "name": "stderr",
     "output_type": "stream",
     "text": [
      "Generating responses:   0%|          | 0/2 [00:00<?, ?it/s]\n"
     ]
    },
    {
     "name": "stdout",
     "output_type": "stream",
     "text": [
      "Error processing example: 'NoneType' object has no attribute 'copy'\n",
      "Error processing example: No Javadoc comment found in the code.\n",
      "Error processing example: No Javadoc comment found in the code.\n",
      "Error processing example: No Javadoc comment found in the code.\n"
     ]
    },
    {
     "name": "stderr",
     "output_type": "stream",
     "text": [
      "Generating responses:   0%|          | 0/3 [00:00<?, ?it/s]\n",
      "Processing dataset:  18%|█▊        | 744/4156 [00:07<00:34, 99.97it/s] "
     ]
    },
    {
     "name": "stdout",
     "output_type": "stream",
     "text": [
      "Error processing example: 'NoneType' object has no attribute 'copy'\n",
      "Error processing example: No Javadoc comment found in the code.\n",
      "Error processing example: No Javadoc comment found in the code.\n"
     ]
    },
    {
     "name": "stderr",
     "output_type": "stream",
     "text": [
      "Generating responses:   0%|          | 0/3 [00:00<?, ?it/s]\n"
     ]
    },
    {
     "name": "stdout",
     "output_type": "stream",
     "text": [
      "Error processing example: 'NoneType' object has no attribute 'copy'\n",
      "Error processing example: No Javadoc comment found in the code.\n",
      "Error processing example: No Javadoc comment found in the code.\n",
      "Error processing example: No Javadoc comment found in the code.\n",
      "Error processing example: No Javadoc comment found in the code.\n"
     ]
    },
    {
     "name": "stderr",
     "output_type": "stream",
     "text": [
      "Generating responses:   0%|          | 0/3 [00:00<?, ?it/s]\n"
     ]
    },
    {
     "name": "stdout",
     "output_type": "stream",
     "text": [
      "Error processing example: 'NoneType' object has no attribute 'copy'\n"
     ]
    },
    {
     "name": "stderr",
     "output_type": "stream",
     "text": [
      "Generating responses:   0%|          | 0/3 [00:00<?, ?it/s]\n"
     ]
    },
    {
     "name": "stdout",
     "output_type": "stream",
     "text": [
      "Error processing example: 'NoneType' object has no attribute 'copy'\n",
      "Error processing example: No Javadoc comment found in the code.\n"
     ]
    },
    {
     "name": "stderr",
     "output_type": "stream",
     "text": [
      "Processing dataset:  18%|█▊        | 755/4156 [00:07<00:34, 99.48it/s]"
     ]
    },
    {
     "name": "stdout",
     "output_type": "stream",
     "text": [
      "Error processing example: No Javadoc comment found in the code.\n"
     ]
    },
    {
     "name": "stderr",
     "output_type": "stream",
     "text": [
      "Generating responses:   0%|          | 0/3 [00:00<?, ?it/s]\n"
     ]
    },
    {
     "name": "stdout",
     "output_type": "stream",
     "text": [
      "Error processing example: 'NoneType' object has no attribute 'copy'\n"
     ]
    },
    {
     "name": "stderr",
     "output_type": "stream",
     "text": [
      "Generating responses:   0%|          | 0/3 [00:00<?, ?it/s]"
     ]
    },
    {
     "name": "stdout",
     "output_type": "stream",
     "text": [
      "Error processing example: 'NoneType' object has no attribute 'copy'\n"
     ]
    },
    {
     "name": "stderr",
     "output_type": "stream",
     "text": [
      "\n"
     ]
    },
    {
     "name": "stdout",
     "output_type": "stream",
     "text": [
      "Error processing example: No Javadoc comment found in the code.\n",
      "Error processing example: No Javadoc comment found in the code.\n"
     ]
    },
    {
     "name": "stderr",
     "output_type": "stream",
     "text": [
      "Generating responses:   0%|          | 0/3 [00:00<?, ?it/s]\n"
     ]
    },
    {
     "name": "stdout",
     "output_type": "stream",
     "text": [
      "Error processing example: 'NoneType' object has no attribute 'copy'\n"
     ]
    },
    {
     "name": "stderr",
     "output_type": "stream",
     "text": [
      "Generating responses:   0%|          | 0/3 [00:00<?, ?it/s]\n"
     ]
    },
    {
     "name": "stdout",
     "output_type": "stream",
     "text": [
      "Error processing example: 'NoneType' object has no attribute 'copy'\n",
      "Error processing example: No Javadoc comment found in the code.\n",
      "Error processing example: No Javadoc comment found in the code.\n",
      "Error processing example: No Javadoc comment found in the code.\n",
      "Error processing example: No Javadoc comment found in the code.\n"
     ]
    },
    {
     "name": "stderr",
     "output_type": "stream",
     "text": [
      "Generating responses:   0%|          | 0/3 [00:00<?, ?it/s]\n",
      "Processing dataset:  18%|█▊        | 766/4156 [00:07<00:36, 92.83it/s]"
     ]
    },
    {
     "name": "stdout",
     "output_type": "stream",
     "text": [
      "Error processing example: 'NoneType' object has no attribute 'copy'\n",
      "Error processing example: No Javadoc comment found in the code.\n",
      "Error processing example: No Javadoc comment found in the code.\n",
      "Error processing example: No Javadoc comment found in the code.\n",
      "Error processing example: No Javadoc comment found in the code.\n",
      "Error processing example: No Javadoc comment found in the code.\n"
     ]
    },
    {
     "name": "stderr",
     "output_type": "stream",
     "text": [
      "Generating responses:   0%|          | 0/3 [00:00<?, ?it/s]\n"
     ]
    },
    {
     "name": "stdout",
     "output_type": "stream",
     "text": [
      "Error processing example: 'NoneType' object has no attribute 'copy'\n"
     ]
    },
    {
     "name": "stderr",
     "output_type": "stream",
     "text": [
      "Generating responses:   0%|          | 0/3 [00:00<?, ?it/s]\n"
     ]
    },
    {
     "name": "stdout",
     "output_type": "stream",
     "text": [
      "Error processing example: 'NoneType' object has no attribute 'copy'\n",
      "Error processing example: No Javadoc comment found in the code.\n",
      "Error processing example: No Javadoc comment found in the code.\n"
     ]
    },
    {
     "name": "stderr",
     "output_type": "stream",
     "text": [
      "Generating responses:   0%|          | 0/3 [00:00<?, ?it/s]\n",
      "Processing dataset:  19%|█▊        | 776/4156 [00:07<00:36, 92.84it/s]"
     ]
    },
    {
     "name": "stdout",
     "output_type": "stream",
     "text": [
      "Error processing example: 'NoneType' object has no attribute 'copy'\n"
     ]
    },
    {
     "name": "stderr",
     "output_type": "stream",
     "text": [
      "Generating responses:   0%|          | 0/3 [00:00<?, ?it/s]\n"
     ]
    },
    {
     "name": "stdout",
     "output_type": "stream",
     "text": [
      "Error processing example: 'NoneType' object has no attribute 'copy'\n"
     ]
    },
    {
     "name": "stderr",
     "output_type": "stream",
     "text": [
      "Generating responses:   0%|          | 0/3 [00:00<?, ?it/s]\n"
     ]
    },
    {
     "name": "stdout",
     "output_type": "stream",
     "text": [
      "Error processing example: 'NoneType' object has no attribute 'copy'\n",
      "Error processing example: No Javadoc comment found in the code.\n"
     ]
    },
    {
     "name": "stderr",
     "output_type": "stream",
     "text": [
      "Generating responses:   0%|          | 0/3 [00:00<?, ?it/s]"
     ]
    },
    {
     "name": "stdout",
     "output_type": "stream",
     "text": [
      "Error processing example: 'NoneType' object has no attribute 'copy'\n",
      "Error processing example: No Javadoc comment found in the code.\n"
     ]
    },
    {
     "name": "stderr",
     "output_type": "stream",
     "text": [
      "\n",
      "Generating responses:   0%|          | 0/3 [00:00<?, ?it/s]\n"
     ]
    },
    {
     "name": "stdout",
     "output_type": "stream",
     "text": [
      "Error processing example: 'NoneType' object has no attribute 'copy'\n",
      "Error processing example: No Javadoc comment found in the code.\n",
      "Error processing example: No Javadoc comment found in the code.\n",
      "Error processing example: No Javadoc comment found in the code.\n"
     ]
    },
    {
     "name": "stderr",
     "output_type": "stream",
     "text": [
      "Generating responses:   0%|          | 0/3 [00:00<?, ?it/s]\n",
      "Processing dataset:  19%|█▉        | 786/4156 [00:08<00:39, 84.67it/s]"
     ]
    },
    {
     "name": "stdout",
     "output_type": "stream",
     "text": [
      "Error processing example: 'NoneType' object has no attribute 'copy'\n",
      "Error processing example: No Javadoc comment found in the code.\n",
      "Error processing example: No Javadoc comment found in the code.\n"
     ]
    },
    {
     "name": "stderr",
     "output_type": "stream",
     "text": [
      "Generating responses:   0%|          | 0/3 [00:00<?, ?it/s]\n"
     ]
    },
    {
     "name": "stdout",
     "output_type": "stream",
     "text": [
      "Error processing example: 'NoneType' object has no attribute 'copy'\n",
      "Error processing example: No Javadoc comment found in the code.\n",
      "Error processing example: No Javadoc comment found in the code.\n",
      "Error processing example: No Javadoc comment found in the code.\n"
     ]
    },
    {
     "name": "stderr",
     "output_type": "stream",
     "text": [
      "Generating responses:   0%|          | 0/3 [00:00<?, ?it/s]\n"
     ]
    },
    {
     "name": "stdout",
     "output_type": "stream",
     "text": [
      "Error processing example: 'NoneType' object has no attribute 'copy'\n",
      "Error processing example: No Javadoc comment found in the code.\n",
      "Error processing example: No Javadoc comment found in the code.\n",
      "Error processing example: No Javadoc comment found in the code.\n"
     ]
    },
    {
     "name": "stderr",
     "output_type": "stream",
     "text": [
      "Generating responses:   0%|          | 0/3 [00:00<?, ?it/s]\n",
      "Processing dataset:  19%|█▉        | 797/4156 [00:08<00:38, 87.59it/s]"
     ]
    },
    {
     "name": "stdout",
     "output_type": "stream",
     "text": [
      "Error processing example: 'NoneType' object has no attribute 'copy'\n",
      "Error processing example: No Javadoc comment found in the code.\n",
      "Error processing example: No Javadoc comment found in the code.\n"
     ]
    },
    {
     "name": "stderr",
     "output_type": "stream",
     "text": [
      "Generating responses:   0%|          | 0/3 [00:00<?, ?it/s]\n"
     ]
    },
    {
     "name": "stdout",
     "output_type": "stream",
     "text": [
      "Error processing example: 'NoneType' object has no attribute 'copy'\n",
      "Error processing example: No Javadoc comment found in the code.\n",
      "Error processing example: Javadoc comment is not properly closed.\n",
      "Error processing example: No Javadoc comment found in the code.\n"
     ]
    },
    {
     "name": "stderr",
     "output_type": "stream",
     "text": [
      "Generating responses:   0%|          | 0/3 [00:00<?, ?it/s]\n"
     ]
    },
    {
     "name": "stdout",
     "output_type": "stream",
     "text": [
      "Error processing example: 'NoneType' object has no attribute 'copy'\n"
     ]
    },
    {
     "name": "stderr",
     "output_type": "stream",
     "text": [
      "Generating responses:   0%|          | 0/3 [00:00<?, ?it/s]\n"
     ]
    },
    {
     "name": "stdout",
     "output_type": "stream",
     "text": [
      "Error processing example: 'NoneType' object has no attribute 'copy'\n"
     ]
    },
    {
     "name": "stderr",
     "output_type": "stream",
     "text": [
      "Generating responses:   0%|          | 0/3 [00:00<?, ?it/s]\n"
     ]
    },
    {
     "name": "stdout",
     "output_type": "stream",
     "text": [
      "Error processing example: 'NoneType' object has no attribute 'copy'\n"
     ]
    },
    {
     "name": "stderr",
     "output_type": "stream",
     "text": [
      "Generating responses:   0%|          | 0/3 [00:00<?, ?it/s]\n",
      "Processing dataset:  19%|█▉        | 807/4156 [00:08<00:37, 88.22it/s]"
     ]
    },
    {
     "name": "stdout",
     "output_type": "stream",
     "text": [
      "Error processing example: 'NoneType' object has no attribute 'copy'\n"
     ]
    },
    {
     "name": "stderr",
     "output_type": "stream",
     "text": [
      "Generating responses:   0%|          | 0/3 [00:00<?, ?it/s]\n"
     ]
    },
    {
     "name": "stdout",
     "output_type": "stream",
     "text": [
      "Error processing example: 'NoneType' object has no attribute 'copy'\n",
      "Error processing example: No Javadoc comment found in the code.\n"
     ]
    },
    {
     "name": "stderr",
     "output_type": "stream",
     "text": [
      "Generating responses:   0%|          | 0/3 [00:00<?, ?it/s]\n"
     ]
    },
    {
     "name": "stdout",
     "output_type": "stream",
     "text": [
      "Error processing example: 'NoneType' object has no attribute 'copy'\n"
     ]
    },
    {
     "name": "stderr",
     "output_type": "stream",
     "text": [
      "Generating responses:   0%|          | 0/3 [00:00<?, ?it/s]\n"
     ]
    },
    {
     "name": "stdout",
     "output_type": "stream",
     "text": [
      "Error processing example: 'NoneType' object has no attribute 'copy'\n"
     ]
    },
    {
     "name": "stderr",
     "output_type": "stream",
     "text": [
      "Generating responses:   0%|          | 0/3 [00:00<?, ?it/s]\n"
     ]
    },
    {
     "name": "stdout",
     "output_type": "stream",
     "text": [
      "Error processing example: 'NoneType' object has no attribute 'copy'\n",
      "Error processing example: No Javadoc comment found in the code.\n"
     ]
    },
    {
     "name": "stderr",
     "output_type": "stream",
     "text": [
      "Generating responses:   0%|          | 0/3 [00:00<?, ?it/s]"
     ]
    },
    {
     "name": "stdout",
     "output_type": "stream",
     "text": [
      "Error processing example: 'NoneType' object has no attribute 'copy'\n",
      "Error processing example: No Javadoc comment found in the code.\n"
     ]
    },
    {
     "name": "stderr",
     "output_type": "stream",
     "text": [
      "\n",
      "Generating responses:   0%|          | 0/3 [00:00<?, ?it/s]\n",
      "Processing dataset:  20%|█▉        | 816/4156 [00:08<00:42, 79.05it/s]"
     ]
    },
    {
     "name": "stdout",
     "output_type": "stream",
     "text": [
      "Error processing example: 'NoneType' object has no attribute 'copy'\n",
      "Error processing example: No Javadoc comment found in the code.\n"
     ]
    },
    {
     "name": "stderr",
     "output_type": "stream",
     "text": [
      "Generating responses:   0%|          | 0/3 [00:00<?, ?it/s]\n"
     ]
    },
    {
     "name": "stdout",
     "output_type": "stream",
     "text": [
      "Error processing example: 'NoneType' object has no attribute 'copy'\n"
     ]
    },
    {
     "name": "stderr",
     "output_type": "stream",
     "text": [
      "Generating responses:   0%|          | 0/3 [00:00<?, ?it/s]\n"
     ]
    },
    {
     "name": "stdout",
     "output_type": "stream",
     "text": [
      "Error processing example: 'NoneType' object has no attribute 'copy'\n",
      "Error processing example: No Javadoc comment found in the code.\n",
      "Error processing example: No Javadoc comment found in the code.\n",
      "Error processing example: No Javadoc comment found in the code.\n",
      "Error processing example: No Javadoc comment found in the code.\n",
      "Error processing example: No Javadoc comment found in the code.\n",
      "Error processing example: No Javadoc comment found in the code.\n",
      "Error processing example: No Javadoc comment found in the code.\n"
     ]
    },
    {
     "name": "stderr",
     "output_type": "stream",
     "text": [
      "Generating responses:   0%|          | 0/3 [00:00<?, ?it/s]\n"
     ]
    },
    {
     "name": "stdout",
     "output_type": "stream",
     "text": [
      "Error processing example: 'NoneType' object has no attribute 'copy'\n",
      "Error processing example: No Javadoc comment found in the code.\n",
      "Error processing example: No Javadoc comment found in the code.\n",
      "Error processing example: No Javadoc comment found in the code.\n",
      "Error processing example: No Javadoc comment found in the code.\n"
     ]
    },
    {
     "name": "stderr",
     "output_type": "stream",
     "text": [
      "Generating responses:   0%|          | 0/3 [00:00<?, ?it/s]\n",
      "Processing dataset:  20%|██        | 832/4156 [00:08<00:34, 95.90it/s]"
     ]
    },
    {
     "name": "stdout",
     "output_type": "stream",
     "text": [
      "Error processing example: 'NoneType' object has no attribute 'copy'\n",
      "Error processing example: No Javadoc comment found in the code.\n"
     ]
    },
    {
     "name": "stderr",
     "output_type": "stream",
     "text": [
      "Generating responses:   0%|          | 0/3 [00:00<?, ?it/s]"
     ]
    },
    {
     "name": "stdout",
     "output_type": "stream",
     "text": [
      "Error processing example: 'NoneType' object has no attribute 'copy'\n"
     ]
    },
    {
     "name": "stderr",
     "output_type": "stream",
     "text": [
      "\n"
     ]
    },
    {
     "name": "stdout",
     "output_type": "stream",
     "text": [
      "Error processing example: No Javadoc comment found in the code.\n",
      "Error processing example: No Javadoc comment found in the code.\n",
      "Error processing example: No Javadoc comment found in the code.\n"
     ]
    },
    {
     "name": "stderr",
     "output_type": "stream",
     "text": [
      "Generating responses:   0%|          | 0/3 [00:00<?, ?it/s]\n"
     ]
    },
    {
     "name": "stdout",
     "output_type": "stream",
     "text": [
      "Error processing example: 'NoneType' object has no attribute 'copy'\n",
      "Error processing example: No Javadoc comment found in the code.\n",
      "Error processing example: No Javadoc comment found in the code.\n"
     ]
    },
    {
     "name": "stderr",
     "output_type": "stream",
     "text": [
      "Processing dataset:  20%|██        | 842/4156 [00:08<00:35, 94.66it/s]"
     ]
    },
    {
     "name": "stdout",
     "output_type": "stream",
     "text": [
      "Error processing example: No Javadoc comment found in the code.\n",
      "Error processing example: No Javadoc comment found in the code.\n",
      "Error processing example: No Javadoc comment found in the code.\n"
     ]
    },
    {
     "name": "stderr",
     "output_type": "stream",
     "text": [
      "Generating responses:   0%|          | 0/3 [00:00<?, ?it/s]"
     ]
    },
    {
     "name": "stdout",
     "output_type": "stream",
     "text": [
      "Error processing example: 'NoneType' object has no attribute 'copy'\n",
      "Error processing example: No Javadoc comment found in the code.\n"
     ]
    },
    {
     "name": "stderr",
     "output_type": "stream",
     "text": [
      "\n",
      "Generating responses:   0%|          | 0/3 [00:00<?, ?it/s]\n"
     ]
    },
    {
     "name": "stdout",
     "output_type": "stream",
     "text": [
      "Error processing example: 'NoneType' object has no attribute 'copy'\n"
     ]
    },
    {
     "name": "stderr",
     "output_type": "stream",
     "text": [
      "Generating responses:   0%|          | 0/3 [00:00<?, ?it/s]\n"
     ]
    },
    {
     "name": "stdout",
     "output_type": "stream",
     "text": [
      "Error processing example: 'NoneType' object has no attribute 'copy'\n",
      "Error processing example: No Javadoc comment found in the code.\n"
     ]
    },
    {
     "name": "stderr",
     "output_type": "stream",
     "text": [
      "Generating responses:   0%|          | 0/3 [00:00<?, ?it/s]\n"
     ]
    },
    {
     "name": "stdout",
     "output_type": "stream",
     "text": [
      "Error processing example: 'NoneType' object has no attribute 'copy'\n"
     ]
    },
    {
     "name": "stderr",
     "output_type": "stream",
     "text": [
      "Generating responses:   0%|          | 0/3 [00:00<?, ?it/s]\n"
     ]
    },
    {
     "name": "stdout",
     "output_type": "stream",
     "text": [
      "Error processing example: 'NoneType' object has no attribute 'copy'\n"
     ]
    },
    {
     "name": "stderr",
     "output_type": "stream",
     "text": [
      "Generating responses:   0%|          | 0/3 [00:00<?, ?it/s]\n",
      "Processing dataset:  21%|██        | 852/4156 [00:08<00:37, 87.27it/s]"
     ]
    },
    {
     "name": "stdout",
     "output_type": "stream",
     "text": [
      "Error processing example: 'NoneType' object has no attribute 'copy'\n",
      "Error processing example: No Javadoc comment found in the code.\n"
     ]
    },
    {
     "name": "stderr",
     "output_type": "stream",
     "text": [
      "Generating responses:   0%|          | 0/3 [00:00<?, ?it/s]\n"
     ]
    },
    {
     "name": "stdout",
     "output_type": "stream",
     "text": [
      "Error processing example: 'NoneType' object has no attribute 'copy'\n"
     ]
    },
    {
     "name": "stderr",
     "output_type": "stream",
     "text": [
      "Generating responses:   0%|          | 0/3 [00:00<?, ?it/s]\n"
     ]
    },
    {
     "name": "stdout",
     "output_type": "stream",
     "text": [
      "Error processing example: 'NoneType' object has no attribute 'copy'\n",
      "Error processing example: No Javadoc comment found in the code.\n",
      "Error processing example: No Javadoc comment found in the code.\n",
      "Error processing example: No Javadoc comment found in the code.\n"
     ]
    },
    {
     "name": "stderr",
     "output_type": "stream",
     "text": [
      "Generating responses:   0%|          | 0/3 [00:00<?, ?it/s]"
     ]
    },
    {
     "name": "stdout",
     "output_type": "stream",
     "text": [
      "Error processing example: 'NoneType' object has no attribute 'copy'\n",
      "Error processing example: No Javadoc comment found in the code.\n",
      "Error processing example: No Javadoc comment found in the code.\n"
     ]
    },
    {
     "name": "stderr",
     "output_type": "stream",
     "text": [
      "\n"
     ]
    },
    {
     "name": "stdout",
     "output_type": "stream",
     "text": [
      "Error processing example: No Javadoc comment found in the code.\n",
      "Error processing example: No Javadoc comment found in the code.\n"
     ]
    },
    {
     "name": "stderr",
     "output_type": "stream",
     "text": [
      "Generating responses:   0%|          | 0/3 [00:00<?, ?it/s]\n"
     ]
    },
    {
     "name": "stdout",
     "output_type": "stream",
     "text": [
      "Error processing example: 'NoneType' object has no attribute 'copy'\n",
      "Error processing example: No Javadoc comment found in the code.\n",
      "Error processing example: No Javadoc comment found in the code.\n",
      "Error processing example: No Javadoc comment found in the code.\n"
     ]
    },
    {
     "name": "stderr",
     "output_type": "stream",
     "text": [
      "Generating responses:   0%|          | 0/3 [00:00<?, ?it/s]\n",
      "Processing dataset:  21%|██        | 868/4156 [00:08<00:31, 105.27it/s]"
     ]
    },
    {
     "name": "stdout",
     "output_type": "stream",
     "text": [
      "Error processing example: 'NoneType' object has no attribute 'copy'\n",
      "Error processing example: No Javadoc comment found in the code.\n",
      "Error processing example: No Javadoc comment found in the code.\n"
     ]
    },
    {
     "name": "stderr",
     "output_type": "stream",
     "text": [
      "Generating responses:   0%|          | 0/3 [00:00<?, ?it/s]\n"
     ]
    },
    {
     "name": "stdout",
     "output_type": "stream",
     "text": [
      "Error processing example: 'NoneType' object has no attribute 'copy'\n",
      "Error processing example: No Javadoc comment found in the code.\n",
      "Error processing example: No Javadoc comment found in the code.\n"
     ]
    },
    {
     "name": "stderr",
     "output_type": "stream",
     "text": [
      "Generating responses:   0%|          | 0/3 [00:00<?, ?it/s]\n"
     ]
    },
    {
     "name": "stdout",
     "output_type": "stream",
     "text": [
      "Error processing example: 'NoneType' object has no attribute 'copy'\n",
      "Error processing example: No Javadoc comment found in the code.\n",
      "Error processing example: No Javadoc comment found in the code.\n"
     ]
    },
    {
     "name": "stderr",
     "output_type": "stream",
     "text": [
      "Generating responses:   0%|          | 0/3 [00:00<?, ?it/s]\n"
     ]
    },
    {
     "name": "stdout",
     "output_type": "stream",
     "text": [
      "Error processing example: 'NoneType' object has no attribute 'copy'\n",
      "Error processing example: No Javadoc comment found in the code.\n"
     ]
    },
    {
     "name": "stderr",
     "output_type": "stream",
     "text": [
      "Generating responses:   0%|          | 0/3 [00:00<?, ?it/s]\n"
     ]
    },
    {
     "name": "stdout",
     "output_type": "stream",
     "text": [
      "Error processing example: 'NoneType' object has no attribute 'copy'\n"
     ]
    },
    {
     "name": "stderr",
     "output_type": "stream",
     "text": [
      "Generating responses:   0%|          | 0/3 [00:00<?, ?it/s]\n",
      "Processing dataset:  21%|██        | 879/4156 [00:09<00:33, 98.16it/s] "
     ]
    },
    {
     "name": "stdout",
     "output_type": "stream",
     "text": [
      "Error processing example: 'NoneType' object has no attribute 'copy'\n"
     ]
    },
    {
     "name": "stderr",
     "output_type": "stream",
     "text": [
      "Generating responses:   0%|          | 0/3 [00:00<?, ?it/s]\n"
     ]
    },
    {
     "name": "stdout",
     "output_type": "stream",
     "text": [
      "Error processing example: 'NoneType' object has no attribute 'copy'\n",
      "Error processing example: No Javadoc comment found in the code.\n",
      "Error processing example: No Javadoc comment found in the code.\n"
     ]
    },
    {
     "name": "stderr",
     "output_type": "stream",
     "text": [
      "Generating responses:   0%|          | 0/3 [00:00<?, ?it/s]\n"
     ]
    },
    {
     "name": "stdout",
     "output_type": "stream",
     "text": [
      "Error processing example: 'NoneType' object has no attribute 'copy'\n",
      "Error processing example: No Javadoc comment found in the code.\n",
      "Error processing example: No Javadoc comment found in the code.\n"
     ]
    },
    {
     "name": "stderr",
     "output_type": "stream",
     "text": [
      "Generating responses:   0%|          | 0/3 [00:00<?, ?it/s]\n"
     ]
    },
    {
     "name": "stdout",
     "output_type": "stream",
     "text": [
      "Error processing example: 'NoneType' object has no attribute 'copy'\n",
      "Error processing example: No Javadoc comment found in the code.\n"
     ]
    },
    {
     "name": "stderr",
     "output_type": "stream",
     "text": [
      "Generating responses:   0%|          | 0/3 [00:00<?, ?it/s]\n"
     ]
    },
    {
     "name": "stdout",
     "output_type": "stream",
     "text": [
      "Error processing example: 'NoneType' object has no attribute 'copy'\n"
     ]
    },
    {
     "name": "stderr",
     "output_type": "stream",
     "text": [
      "Generating responses:   0%|          | 0/3 [00:00<?, ?it/s]\n"
     ]
    },
    {
     "name": "stdout",
     "output_type": "stream",
     "text": [
      "Error processing example: 'NoneType' object has no attribute 'copy'\n"
     ]
    },
    {
     "name": "stderr",
     "output_type": "stream",
     "text": [
      "Generating responses:   0%|          | 0/3 [00:00<?, ?it/s]\n",
      "Processing dataset:  21%|██▏       | 890/4156 [00:09<00:35, 92.89it/s]"
     ]
    },
    {
     "name": "stdout",
     "output_type": "stream",
     "text": [
      "Error processing example: 'NoneType' object has no attribute 'copy'\n"
     ]
    },
    {
     "name": "stderr",
     "output_type": "stream",
     "text": [
      "Generating responses:   0%|          | 0/3 [00:00<?, ?it/s]\n"
     ]
    },
    {
     "name": "stdout",
     "output_type": "stream",
     "text": [
      "Error processing example: 'NoneType' object has no attribute 'copy'\n"
     ]
    },
    {
     "name": "stderr",
     "output_type": "stream",
     "text": [
      "Generating responses:   0%|          | 0/3 [00:00<?, ?it/s]\n"
     ]
    },
    {
     "name": "stdout",
     "output_type": "stream",
     "text": [
      "Error processing example: 'NoneType' object has no attribute 'copy'\n",
      "Error processing example: No Javadoc comment found in the code.\n",
      "Error processing example: No Javadoc comment found in the code.\n",
      "Error processing example: No Javadoc comment found in the code.\n",
      "Error processing example: No Javadoc comment found in the code.\n",
      "Error processing example: No Javadoc comment found in the code.\n",
      "Error processing example: No Javadoc comment found in the code.\n",
      "Error processing example: No Javadoc comment found in the code.\n",
      "Error processing example: No Javadoc comment found in the code.\n",
      "Error processing example: No Javadoc comment found in the code.\n",
      "Error processing example: No Javadoc comment found in the code.\n",
      "Error processing example: No Javadoc comment found in the code.\n"
     ]
    },
    {
     "name": "stderr",
     "output_type": "stream",
     "text": [
      "Generating responses:   0%|          | 0/3 [00:00<?, ?it/s]\n"
     ]
    },
    {
     "name": "stdout",
     "output_type": "stream",
     "text": [
      "Error processing example: 'NoneType' object has no attribute 'copy'\n"
     ]
    },
    {
     "name": "stderr",
     "output_type": "stream",
     "text": [
      "Generating responses:   0%|          | 0/3 [00:00<?, ?it/s]\n",
      "Processing dataset:  22%|██▏       | 906/4156 [00:09<00:29, 108.83it/s]"
     ]
    },
    {
     "name": "stdout",
     "output_type": "stream",
     "text": [
      "Error processing example: 'NoneType' object has no attribute 'copy'\n",
      "Error processing example: No Javadoc comment found in the code.\n",
      "Error processing example: No Javadoc comment found in the code.\n",
      "Error processing example: No Javadoc comment found in the code.\n"
     ]
    },
    {
     "name": "stderr",
     "output_type": "stream",
     "text": [
      "Generating responses:   0%|          | 0/3 [00:00<?, ?it/s]\n"
     ]
    },
    {
     "name": "stdout",
     "output_type": "stream",
     "text": [
      "Error processing example: 'NoneType' object has no attribute 'copy'\n",
      "Error processing example: No Javadoc comment found in the code.\n"
     ]
    },
    {
     "name": "stderr",
     "output_type": "stream",
     "text": [
      "Generating responses:   0%|          | 0/3 [00:00<?, ?it/s]\n"
     ]
    },
    {
     "name": "stdout",
     "output_type": "stream",
     "text": [
      "Error processing example: 'NoneType' object has no attribute 'copy'\n",
      "Error processing example: No Javadoc comment found in the code.\n"
     ]
    },
    {
     "name": "stderr",
     "output_type": "stream",
     "text": [
      "Generating responses:   0%|          | 0/3 [00:00<?, ?it/s]\n"
     ]
    },
    {
     "name": "stdout",
     "output_type": "stream",
     "text": [
      "Error processing example: 'NoneType' object has no attribute 'copy'\n"
     ]
    },
    {
     "name": "stderr",
     "output_type": "stream",
     "text": [
      "Generating responses:   0%|          | 0/3 [00:00<?, ?it/s]\n"
     ]
    },
    {
     "name": "stdout",
     "output_type": "stream",
     "text": [
      "Error processing example: 'NoneType' object has no attribute 'copy'\n",
      "Error processing example: No Javadoc comment found in the code.\n"
     ]
    },
    {
     "name": "stderr",
     "output_type": "stream",
     "text": [
      "Generating responses:   0%|          | 0/3 [00:00<?, ?it/s]\n"
     ]
    },
    {
     "name": "stdout",
     "output_type": "stream",
     "text": [
      "Error processing example: 'NoneType' object has no attribute 'copy'\n"
     ]
    },
    {
     "name": "stderr",
     "output_type": "stream",
     "text": [
      "Generating responses:   0%|          | 0/3 [00:00<?, ?it/s]\n"
     ]
    },
    {
     "name": "stdout",
     "output_type": "stream",
     "text": [
      "Error processing example: 'NoneType' object has no attribute 'copy'\n"
     ]
    },
    {
     "name": "stderr",
     "output_type": "stream",
     "text": [
      "Generating responses:   0%|          | 0/3 [00:00<?, ?it/s]\n"
     ]
    },
    {
     "name": "stdout",
     "output_type": "stream",
     "text": [
      "Error processing example: 'NoneType' object has no attribute 'copy'\n",
      "Error processing example: No Javadoc comment found in the code.\n",
      "Error processing example: No Javadoc comment found in the code.\n"
     ]
    },
    {
     "name": "stderr",
     "output_type": "stream",
     "text": [
      "Generating responses:   0%|          | 0/3 [00:00<?, ?it/s]\n",
      "Processing dataset:  22%|██▏       | 921/4156 [00:09<00:27, 115.82it/s]"
     ]
    },
    {
     "name": "stdout",
     "output_type": "stream",
     "text": [
      "Error processing example: 'NoneType' object has no attribute 'copy'\n",
      "Error processing example: No Javadoc comment found in the code.\n",
      "Error processing example: No Javadoc comment found in the code.\n",
      "Error processing example: No Javadoc comment found in the code.\n"
     ]
    },
    {
     "name": "stderr",
     "output_type": "stream",
     "text": [
      "Generating responses:   0%|          | 0/3 [00:00<?, ?it/s]"
     ]
    },
    {
     "name": "stdout",
     "output_type": "stream",
     "text": [
      "Error processing example: 'NoneType' object has no attribute 'copy'\n",
      "Error processing example: No Javadoc comment found in the code.\n"
     ]
    },
    {
     "name": "stderr",
     "output_type": "stream",
     "text": [
      "\n"
     ]
    },
    {
     "name": "stdout",
     "output_type": "stream",
     "text": [
      "Error processing example: No Javadoc comment found in the code.\n"
     ]
    },
    {
     "name": "stderr",
     "output_type": "stream",
     "text": [
      "Generating responses:   0%|          | 0/3 [00:00<?, ?it/s]\n"
     ]
    },
    {
     "name": "stdout",
     "output_type": "stream",
     "text": [
      "Error processing example: 'NoneType' object has no attribute 'copy'\n",
      "Error processing example: No Javadoc comment found in the code.\n",
      "Error processing example: No Javadoc comment found in the code.\n",
      "Error processing example: No Javadoc comment found in the code.\n"
     ]
    },
    {
     "name": "stderr",
     "output_type": "stream",
     "text": [
      "Generating responses:   0%|          | 0/3 [00:00<?, ?it/s]\n"
     ]
    },
    {
     "name": "stdout",
     "output_type": "stream",
     "text": [
      "Error processing example: 'NoneType' object has no attribute 'copy'\n"
     ]
    },
    {
     "name": "stderr",
     "output_type": "stream",
     "text": [
      "Processing dataset:  22%|██▏       | 933/4156 [00:09<00:28, 112.84it/s]"
     ]
    },
    {
     "name": "stdout",
     "output_type": "stream",
     "text": [
      "Error processing example: No Javadoc comment found in the code.\n"
     ]
    },
    {
     "name": "stderr",
     "output_type": "stream",
     "text": [
      "Generating responses:   0%|          | 0/3 [00:00<?, ?it/s]\n"
     ]
    },
    {
     "name": "stdout",
     "output_type": "stream",
     "text": [
      "Error processing example: 'NoneType' object has no attribute 'copy'\n",
      "Error processing example: No Javadoc comment found in the code.\n",
      "Error processing example: No Javadoc comment found in the code.\n",
      "Error processing example: No Javadoc comment found in the code.\n",
      "Error processing example: No Javadoc comment found in the code.\n"
     ]
    },
    {
     "name": "stderr",
     "output_type": "stream",
     "text": [
      "Generating responses:   0%|          | 0/3 [00:00<?, ?it/s]"
     ]
    },
    {
     "name": "stdout",
     "output_type": "stream",
     "text": [
      "Error processing example: 'NoneType' object has no attribute 'copy'\n"
     ]
    },
    {
     "name": "stderr",
     "output_type": "stream",
     "text": [
      "\n"
     ]
    },
    {
     "name": "stdout",
     "output_type": "stream",
     "text": [
      "Error processing example: No Javadoc comment found in the code.\n",
      "Error processing example: No Javadoc comment found in the code.\n"
     ]
    },
    {
     "name": "stderr",
     "output_type": "stream",
     "text": [
      "Generating responses:   0%|          | 0/3 [00:00<?, ?it/s]"
     ]
    },
    {
     "name": "stdout",
     "output_type": "stream",
     "text": [
      "Error processing example: 'NoneType' object has no attribute 'copy'\n",
      "Error processing example: No Javadoc comment found in the code.\n"
     ]
    },
    {
     "name": "stderr",
     "output_type": "stream",
     "text": [
      "\n",
      "Generating responses:   0%|          | 0/3 [00:00<?, ?it/s]\n"
     ]
    },
    {
     "name": "stdout",
     "output_type": "stream",
     "text": [
      "Error processing example: 'NoneType' object has no attribute 'copy'\n"
     ]
    },
    {
     "name": "stderr",
     "output_type": "stream",
     "text": [
      "Generating responses:   0%|          | 0/3 [00:00<?, ?it/s]\n",
      "Processing dataset:  23%|██▎       | 945/4156 [00:09<00:33, 96.77it/s] "
     ]
    },
    {
     "name": "stdout",
     "output_type": "stream",
     "text": [
      "Error processing example: 'NoneType' object has no attribute 'copy'\n"
     ]
    },
    {
     "name": "stderr",
     "output_type": "stream",
     "text": [
      "Generating responses:   0%|          | 0/3 [00:00<?, ?it/s]\n"
     ]
    },
    {
     "name": "stdout",
     "output_type": "stream",
     "text": [
      "Error processing example: 'NoneType' object has no attribute 'copy'\n",
      "Error processing example: No Javadoc comment found in the code.\n",
      "Error processing example: No Javadoc comment found in the code.\n",
      "Error processing example: No Javadoc comment found in the code.\n"
     ]
    },
    {
     "name": "stderr",
     "output_type": "stream",
     "text": [
      "Generating responses:   0%|          | 0/3 [00:00<?, ?it/s]\n"
     ]
    },
    {
     "name": "stdout",
     "output_type": "stream",
     "text": [
      "Error processing example: 'NoneType' object has no attribute 'copy'\n"
     ]
    },
    {
     "name": "stderr",
     "output_type": "stream",
     "text": [
      "Generating responses:   0%|          | 0/3 [00:00<?, ?it/s]"
     ]
    },
    {
     "name": "stdout",
     "output_type": "stream",
     "text": [
      "Error processing example: 'NoneType' object has no attribute 'copy'\n",
      "Error processing example: No Javadoc comment found in the code.\n"
     ]
    },
    {
     "name": "stderr",
     "output_type": "stream",
     "text": [
      "\n"
     ]
    },
    {
     "name": "stdout",
     "output_type": "stream",
     "text": [
      "Error processing example: No Javadoc comment found in the code.\n"
     ]
    },
    {
     "name": "stderr",
     "output_type": "stream",
     "text": [
      "Generating responses:   0%|          | 0/3 [00:00<?, ?it/s]"
     ]
    },
    {
     "name": "stdout",
     "output_type": "stream",
     "text": [
      "Error processing example: 'NoneType' object has no attribute 'copy'\n"
     ]
    },
    {
     "name": "stderr",
     "output_type": "stream",
     "text": [
      "\n"
     ]
    },
    {
     "name": "stdout",
     "output_type": "stream",
     "text": [
      "Error processing example: No Javadoc comment found in the code.\n"
     ]
    },
    {
     "name": "stderr",
     "output_type": "stream",
     "text": [
      "Generating responses:   0%|          | 0/3 [00:00<?, ?it/s]\n",
      "Processing dataset:  23%|██▎       | 956/4156 [00:09<00:34, 92.42it/s]"
     ]
    },
    {
     "name": "stdout",
     "output_type": "stream",
     "text": [
      "Error processing example: 'NoneType' object has no attribute 'copy'\n",
      "Error processing example: No Javadoc comment found in the code.\n",
      "Error processing example: No Javadoc comment found in the code.\n",
      "Error processing example: No Javadoc comment found in the code.\n",
      "Error processing example: No Javadoc comment found in the code.\n",
      "Error processing example: No Javadoc comment found in the code.\n"
     ]
    },
    {
     "name": "stderr",
     "output_type": "stream",
     "text": [
      "Generating responses:   0%|          | 0/3 [00:00<?, ?it/s]\n"
     ]
    },
    {
     "name": "stdout",
     "output_type": "stream",
     "text": [
      "Error processing example: 'NoneType' object has no attribute 'copy'\n",
      "Error processing example: No Javadoc comment found in the code.\n",
      "Error processing example: No Javadoc comment found in the code.\n",
      "Error processing example: No Javadoc comment found in the code.\n"
     ]
    },
    {
     "name": "stderr",
     "output_type": "stream",
     "text": [
      "Generating responses:   0%|          | 0/3 [00:00<?, ?it/s]\n"
     ]
    },
    {
     "name": "stdout",
     "output_type": "stream",
     "text": [
      "Error processing example: 'NoneType' object has no attribute 'copy'\n",
      "Error processing example: No Javadoc comment found in the code.\n",
      "Error processing example: No Javadoc comment found in the code.\n"
     ]
    },
    {
     "name": "stderr",
     "output_type": "stream",
     "text": [
      "Processing dataset:  23%|██▎       | 969/4156 [00:09<00:31, 101.34it/s]"
     ]
    },
    {
     "name": "stdout",
     "output_type": "stream",
     "text": [
      "Error processing example: No Javadoc comment found in the code.\n",
      "Error processing example: No Javadoc comment found in the code.\n"
     ]
    },
    {
     "name": "stderr",
     "output_type": "stream",
     "text": [
      "Generating responses:   0%|          | 0/3 [00:00<?, ?it/s]\n"
     ]
    },
    {
     "name": "stdout",
     "output_type": "stream",
     "text": [
      "Error processing example: 'NoneType' object has no attribute 'copy'\n",
      "Error processing example: No Javadoc comment found in the code.\n"
     ]
    },
    {
     "name": "stderr",
     "output_type": "stream",
     "text": [
      "Generating responses:   0%|          | 0/3 [00:00<?, ?it/s]\n"
     ]
    },
    {
     "name": "stdout",
     "output_type": "stream",
     "text": [
      "Error processing example: 'NoneType' object has no attribute 'copy'\n",
      "Error processing example: No Javadoc comment found in the code.\n",
      "Error processing example: No Javadoc comment found in the code.\n"
     ]
    },
    {
     "name": "stderr",
     "output_type": "stream",
     "text": [
      "Generating responses:   0%|          | 0/3 [00:00<?, ?it/s]\n"
     ]
    },
    {
     "name": "stdout",
     "output_type": "stream",
     "text": [
      "Error processing example: 'NoneType' object has no attribute 'copy'\n"
     ]
    },
    {
     "name": "stderr",
     "output_type": "stream",
     "text": [
      "Generating responses:   0%|          | 0/3 [00:00<?, ?it/s]\n"
     ]
    },
    {
     "name": "stdout",
     "output_type": "stream",
     "text": [
      "Error processing example: 'NoneType' object has no attribute 'copy'\n",
      "Error processing example: No Javadoc comment found in the code.\n",
      "Error processing example: No Javadoc comment found in the code.\n",
      "Error processing example: No Javadoc comment found in the code.\n"
     ]
    },
    {
     "name": "stderr",
     "output_type": "stream",
     "text": [
      "Generating responses:   0%|          | 0/3 [00:00<?, ?it/s]\n"
     ]
    },
    {
     "name": "stdout",
     "output_type": "stream",
     "text": [
      "Error processing example: 'NoneType' object has no attribute 'copy'\n"
     ]
    },
    {
     "name": "stderr",
     "output_type": "stream",
     "text": [
      "Generating responses:   0%|          | 0/3 [00:00<?, ?it/s]\n",
      "Processing dataset:  24%|██▎       | 982/4156 [00:10<00:30, 102.56it/s]"
     ]
    },
    {
     "name": "stdout",
     "output_type": "stream",
     "text": [
      "Error processing example: 'NoneType' object has no attribute 'copy'\n",
      "Error processing example: No Javadoc comment found in the code.\n",
      "Error processing example: No Javadoc comment found in the code.\n"
     ]
    },
    {
     "name": "stderr",
     "output_type": "stream",
     "text": [
      "Generating responses:   0%|          | 0/3 [00:00<?, ?it/s]\n"
     ]
    },
    {
     "name": "stdout",
     "output_type": "stream",
     "text": [
      "Error processing example: 'NoneType' object has no attribute 'copy'\n"
     ]
    },
    {
     "name": "stderr",
     "output_type": "stream",
     "text": [
      "Generating responses:   0%|          | 0/3 [00:00<?, ?it/s]\n"
     ]
    },
    {
     "name": "stdout",
     "output_type": "stream",
     "text": [
      "Error processing example: 'NoneType' object has no attribute 'copy'\n",
      "Error processing example: No Javadoc comment found in the code.\n",
      "Error processing example: No Javadoc comment found in the code.\n"
     ]
    },
    {
     "name": "stderr",
     "output_type": "stream",
     "text": [
      "Generating responses:   0%|          | 0/3 [00:00<?, ?it/s]\n"
     ]
    },
    {
     "name": "stdout",
     "output_type": "stream",
     "text": [
      "Error processing example: 'NoneType' object has no attribute 'copy'\n"
     ]
    },
    {
     "name": "stderr",
     "output_type": "stream",
     "text": [
      "Generating responses:   0%|          | 0/3 [00:00<?, ?it/s]"
     ]
    },
    {
     "name": "stdout",
     "output_type": "stream",
     "text": [
      "Error processing example: 'NoneType' object has no attribute 'copy'\n"
     ]
    },
    {
     "name": "stderr",
     "output_type": "stream",
     "text": [
      "\n",
      "Generating responses:   0%|          | 0/3 [00:00<?, ?it/s]\n"
     ]
    },
    {
     "name": "stdout",
     "output_type": "stream",
     "text": [
      "Error processing example: 'NoneType' object has no attribute 'copy'\n",
      "Error processing example: No Javadoc comment found in the code.\n"
     ]
    },
    {
     "name": "stderr",
     "output_type": "stream",
     "text": [
      "Generating responses:   0%|          | 0/3 [00:00<?, ?it/s]\n",
      "Processing dataset:  24%|██▍       | 993/4156 [00:10<00:34, 92.88it/s] "
     ]
    },
    {
     "name": "stdout",
     "output_type": "stream",
     "text": [
      "Error processing example: 'NoneType' object has no attribute 'copy'\n"
     ]
    },
    {
     "name": "stderr",
     "output_type": "stream",
     "text": [
      "Generating responses:   0%|          | 0/3 [00:00<?, ?it/s]\n"
     ]
    },
    {
     "name": "stdout",
     "output_type": "stream",
     "text": [
      "Error processing example: 'NoneType' object has no attribute 'copy'\n",
      "Error processing example: No Javadoc comment found in the code.\n",
      "Error processing example: No Javadoc comment found in the code.\n",
      "Error processing example: No Javadoc comment found in the code.\n",
      "Error processing example: No Javadoc comment found in the code.\n"
     ]
    },
    {
     "name": "stderr",
     "output_type": "stream",
     "text": [
      "Generating responses:   0%|          | 0/3 [00:00<?, ?it/s]"
     ]
    },
    {
     "name": "stdout",
     "output_type": "stream",
     "text": [
      "Error processing example: 'NoneType' object has no attribute 'copy'\n"
     ]
    },
    {
     "name": "stderr",
     "output_type": "stream",
     "text": [
      "\n",
      "Generating responses:   0%|          | 0/3 [00:00<?, ?it/s]\n"
     ]
    },
    {
     "name": "stdout",
     "output_type": "stream",
     "text": [
      "Error processing example: 'NoneType' object has no attribute 'copy'\n"
     ]
    },
    {
     "name": "stderr",
     "output_type": "stream",
     "text": [
      "Generating responses:   0%|          | 0/3 [00:00<?, ?it/s]\n"
     ]
    },
    {
     "name": "stdout",
     "output_type": "stream",
     "text": [
      "Error processing example: 'NoneType' object has no attribute 'copy'\n"
     ]
    },
    {
     "name": "stderr",
     "output_type": "stream",
     "text": [
      "Generating responses:   0%|          | 0/3 [00:00<?, ?it/s]\n"
     ]
    },
    {
     "name": "stdout",
     "output_type": "stream",
     "text": [
      "Error processing example: 'NoneType' object has no attribute 'copy'\n"
     ]
    },
    {
     "name": "stderr",
     "output_type": "stream",
     "text": [
      "Processing dataset:  24%|██▍       | 1003/4156 [00:10<00:37, 83.73it/s]"
     ]
    },
    {
     "name": "stdout",
     "output_type": "stream",
     "text": [
      "Error processing example: No Javadoc comment found in the code.\n",
      "Error processing example: No Javadoc comment found in the code.\n"
     ]
    },
    {
     "name": "stderr",
     "output_type": "stream",
     "text": [
      "Generating responses:   0%|          | 0/3 [00:00<?, ?it/s]\n"
     ]
    },
    {
     "name": "stdout",
     "output_type": "stream",
     "text": [
      "Error processing example: 'NoneType' object has no attribute 'copy'\n"
     ]
    },
    {
     "name": "stderr",
     "output_type": "stream",
     "text": [
      "Generating responses:   0%|          | 0/3 [00:00<?, ?it/s]\n"
     ]
    },
    {
     "name": "stdout",
     "output_type": "stream",
     "text": [
      "Error processing example: 'NoneType' object has no attribute 'copy'\n",
      "Error processing example: No Javadoc comment found in the code.\n"
     ]
    },
    {
     "name": "stderr",
     "output_type": "stream",
     "text": [
      "Generating responses:   0%|          | 0/3 [00:00<?, ?it/s]\n"
     ]
    },
    {
     "name": "stdout",
     "output_type": "stream",
     "text": [
      "Error processing example: 'NoneType' object has no attribute 'copy'\n",
      "Error processing example: No Javadoc comment found in the code.\n",
      "Error processing example: No Javadoc comment found in the code.\n",
      "Error processing example: No Javadoc comment found in the code.\n"
     ]
    },
    {
     "name": "stderr",
     "output_type": "stream",
     "text": [
      "Generating responses:   0%|          | 0/3 [00:00<?, ?it/s]\n",
      "Processing dataset:  24%|██▍       | 1012/4156 [00:10<00:39, 78.99it/s]"
     ]
    },
    {
     "name": "stdout",
     "output_type": "stream",
     "text": [
      "Error processing example: 'NoneType' object has no attribute 'copy'\n",
      "Error processing example: No Javadoc comment found in the code.\n"
     ]
    },
    {
     "name": "stderr",
     "output_type": "stream",
     "text": [
      "Generating responses:   0%|          | 0/3 [00:00<?, ?it/s]\n"
     ]
    },
    {
     "name": "stdout",
     "output_type": "stream",
     "text": [
      "Error processing example: 'NoneType' object has no attribute 'copy'\n",
      "Error processing example: No Javadoc comment found in the code.\n",
      "Error processing example: No Javadoc comment found in the code.\n",
      "Error processing example: No Javadoc comment found in the code.\n",
      "Error processing example: No Javadoc comment found in the code.\n",
      "Error processing example: No Javadoc comment found in the code.\n"
     ]
    },
    {
     "name": "stderr",
     "output_type": "stream",
     "text": [
      "Generating responses:   0%|          | 0/3 [00:00<?, ?it/s]\n"
     ]
    },
    {
     "name": "stdout",
     "output_type": "stream",
     "text": [
      "Error processing example: 'NoneType' object has no attribute 'copy'\n"
     ]
    },
    {
     "name": "stderr",
     "output_type": "stream",
     "text": [
      "Generating responses:   0%|          | 0/3 [00:00<?, ?it/s]\n"
     ]
    },
    {
     "name": "stdout",
     "output_type": "stream",
     "text": [
      "Error processing example: 'NoneType' object has no attribute 'copy'\n"
     ]
    },
    {
     "name": "stderr",
     "output_type": "stream",
     "text": [
      "Generating responses:   0%|          | 0/3 [00:00<?, ?it/s]\n"
     ]
    },
    {
     "name": "stdout",
     "output_type": "stream",
     "text": [
      "Error processing example: 'NoneType' object has no attribute 'copy'\n"
     ]
    },
    {
     "name": "stderr",
     "output_type": "stream",
     "text": [
      "Generating responses:   0%|          | 0/3 [00:00<?, ?it/s]\n",
      "Processing dataset:  25%|██▍       | 1023/4156 [00:10<00:36, 85.26it/s]"
     ]
    },
    {
     "name": "stdout",
     "output_type": "stream",
     "text": [
      "Error processing example: 'NoneType' object has no attribute 'copy'\n",
      "Error processing example: No Javadoc comment found in the code.\n",
      "Error processing example: No Javadoc comment found in the code.\n",
      "Error processing example: No Javadoc comment found in the code.\n",
      "Error processing example: No Javadoc comment found in the code.\n",
      "Error processing example: No Javadoc comment found in the code.\n"
     ]
    },
    {
     "name": "stderr",
     "output_type": "stream",
     "text": [
      "Generating responses:   0%|          | 0/3 [00:00<?, ?it/s]\n"
     ]
    },
    {
     "name": "stdout",
     "output_type": "stream",
     "text": [
      "Error processing example: 'NoneType' object has no attribute 'copy'\n",
      "Error processing example: No Javadoc comment found in the code.\n"
     ]
    },
    {
     "name": "stderr",
     "output_type": "stream",
     "text": [
      "Generating responses:   0%|          | 0/3 [00:00<?, ?it/s]"
     ]
    },
    {
     "name": "stdout",
     "output_type": "stream",
     "text": [
      "Error processing example: 'NoneType' object has no attribute 'copy'\n"
     ]
    },
    {
     "name": "stderr",
     "output_type": "stream",
     "text": [
      "\n",
      "Generating responses:   0%|          | 0/3 [00:00<?, ?it/s]\n",
      "Processing dataset:  25%|██▍       | 1032/4156 [00:10<00:38, 80.44it/s]"
     ]
    },
    {
     "name": "stdout",
     "output_type": "stream",
     "text": [
      "Error processing example: 'NoneType' object has no attribute 'copy'\n",
      "Error processing example: No Javadoc comment found in the code.\n"
     ]
    },
    {
     "name": "stderr",
     "output_type": "stream",
     "text": [
      "Generating responses:   0%|          | 0/3 [00:00<?, ?it/s]\n"
     ]
    },
    {
     "name": "stdout",
     "output_type": "stream",
     "text": [
      "Error processing example: 'NoneType' object has no attribute 'copy'\n",
      "Error processing example: No Javadoc comment found in the code.\n"
     ]
    },
    {
     "name": "stderr",
     "output_type": "stream",
     "text": [
      "Generating responses:   0%|          | 0/3 [00:00<?, ?it/s]\n"
     ]
    },
    {
     "name": "stdout",
     "output_type": "stream",
     "text": [
      "Error processing example: 'NoneType' object has no attribute 'copy'\n",
      "Error processing example: No Javadoc comment found in the code.\n",
      "Error processing example: No Javadoc comment found in the code.\n"
     ]
    },
    {
     "name": "stderr",
     "output_type": "stream",
     "text": [
      "Generating responses:   0%|          | 0/3 [00:00<?, ?it/s]\n"
     ]
    },
    {
     "name": "stdout",
     "output_type": "stream",
     "text": [
      "Error processing example: 'NoneType' object has no attribute 'copy'\n"
     ]
    },
    {
     "name": "stderr",
     "output_type": "stream",
     "text": [
      "Generating responses:   0%|          | 0/3 [00:00<?, ?it/s]\n"
     ]
    },
    {
     "name": "stdout",
     "output_type": "stream",
     "text": [
      "Error processing example: 'NoneType' object has no attribute 'copy'\n",
      "Error processing example: No Javadoc comment found in the code.\n",
      "Error processing example: Javadoc comment is not properly closed.\n",
      "Error processing example: No Javadoc comment found in the code.\n"
     ]
    },
    {
     "name": "stderr",
     "output_type": "stream",
     "text": [
      "Generating responses:   0%|          | 0/3 [00:00<?, ?it/s]"
     ]
    },
    {
     "name": "stdout",
     "output_type": "stream",
     "text": [
      "Error processing example: 'NoneType' object has no attribute 'copy'\n"
     ]
    },
    {
     "name": "stderr",
     "output_type": "stream",
     "text": [
      "\n",
      "Generating responses:   0%|          | 0/3 [00:00<?, ?it/s]\n",
      "Processing dataset:  25%|██▌       | 1045/4156 [00:10<00:34, 89.59it/s]"
     ]
    },
    {
     "name": "stdout",
     "output_type": "stream",
     "text": [
      "Error processing example: 'NoneType' object has no attribute 'copy'\n",
      "Error processing example: No Javadoc comment found in the code.\n",
      "Error processing example: No Javadoc comment found in the code.\n",
      "Error processing example: No Javadoc comment found in the code.\n",
      "Error processing example: No Javadoc comment found in the code.\n"
     ]
    },
    {
     "name": "stderr",
     "output_type": "stream",
     "text": [
      "Generating responses:   0%|          | 0/3 [00:00<?, ?it/s]\n"
     ]
    },
    {
     "name": "stdout",
     "output_type": "stream",
     "text": [
      "Error processing example: 'NoneType' object has no attribute 'copy'\n",
      "Error processing example: No Javadoc comment found in the code.\n"
     ]
    },
    {
     "name": "stderr",
     "output_type": "stream",
     "text": [
      "Generating responses:   0%|          | 0/3 [00:00<?, ?it/s]\n"
     ]
    },
    {
     "name": "stdout",
     "output_type": "stream",
     "text": [
      "Error processing example: 'NoneType' object has no attribute 'copy'\n"
     ]
    },
    {
     "name": "stderr",
     "output_type": "stream",
     "text": [
      "Generating responses:   0%|          | 0/3 [00:00<?, ?it/s]\n"
     ]
    },
    {
     "name": "stdout",
     "output_type": "stream",
     "text": [
      "Error processing example: 'NoneType' object has no attribute 'copy'\n",
      "Error processing example: No Javadoc comment found in the code.\n"
     ]
    },
    {
     "name": "stderr",
     "output_type": "stream",
     "text": [
      "Generating responses:   0%|          | 0/3 [00:00<?, ?it/s]\n",
      "Processing dataset:  25%|██▌       | 1055/4156 [00:10<00:36, 85.43it/s]"
     ]
    },
    {
     "name": "stdout",
     "output_type": "stream",
     "text": [
      "Error processing example: 'NoneType' object has no attribute 'copy'\n"
     ]
    },
    {
     "name": "stderr",
     "output_type": "stream",
     "text": [
      "Generating responses:   0%|          | 0/3 [00:00<?, ?it/s]\n"
     ]
    },
    {
     "name": "stdout",
     "output_type": "stream",
     "text": [
      "Error processing example: 'NoneType' object has no attribute 'copy'\n"
     ]
    },
    {
     "name": "stderr",
     "output_type": "stream",
     "text": [
      "Generating responses:   0%|          | 0/3 [00:00<?, ?it/s]\n"
     ]
    },
    {
     "name": "stdout",
     "output_type": "stream",
     "text": [
      "Error processing example: 'NoneType' object has no attribute 'copy'\n",
      "Error processing example: No Javadoc comment found in the code.\n",
      "Error processing example: No Javadoc comment found in the code.\n"
     ]
    },
    {
     "name": "stderr",
     "output_type": "stream",
     "text": [
      "Generating responses:   0%|          | 0/3 [00:00<?, ?it/s]\n"
     ]
    },
    {
     "name": "stdout",
     "output_type": "stream",
     "text": [
      "Error processing example: 'NoneType' object has no attribute 'copy'\n",
      "Error processing example: No Javadoc comment found in the code.\n",
      "Error processing example: No Javadoc comment found in the code.\n",
      "Error processing example: No Javadoc comment found in the code.\n"
     ]
    },
    {
     "name": "stderr",
     "output_type": "stream",
     "text": [
      "Generating responses:   0%|          | 0/3 [00:00<?, ?it/s]\n",
      "Processing dataset:  26%|██▌       | 1064/4156 [00:11<00:35, 86.36it/s]"
     ]
    },
    {
     "name": "stdout",
     "output_type": "stream",
     "text": [
      "Error processing example: 'NoneType' object has no attribute 'copy'\n",
      "Error processing example: No Javadoc comment found in the code.\n"
     ]
    },
    {
     "name": "stderr",
     "output_type": "stream",
     "text": [
      "Generating responses:   0%|          | 0/3 [00:00<?, ?it/s]\n"
     ]
    },
    {
     "name": "stdout",
     "output_type": "stream",
     "text": [
      "Error processing example: 'NoneType' object has no attribute 'copy'\n",
      "Error processing example: No Javadoc comment found in the code.\n",
      "Error processing example: No Javadoc comment found in the code.\n"
     ]
    },
    {
     "name": "stderr",
     "output_type": "stream",
     "text": [
      "Generating responses:   0%|          | 0/3 [00:00<?, ?it/s]\n"
     ]
    },
    {
     "name": "stdout",
     "output_type": "stream",
     "text": [
      "Error processing example: 'NoneType' object has no attribute 'copy'\n"
     ]
    },
    {
     "name": "stderr",
     "output_type": "stream",
     "text": [
      "Generating responses:   0%|          | 0/3 [00:00<?, ?it/s]\n"
     ]
    },
    {
     "name": "stdout",
     "output_type": "stream",
     "text": [
      "Error processing example: 'NoneType' object has no attribute 'copy'\n",
      "Error processing example: No Javadoc comment found in the code.\n"
     ]
    },
    {
     "name": "stderr",
     "output_type": "stream",
     "text": [
      "Generating responses:   0%|          | 0/3 [00:00<?, ?it/s]\n"
     ]
    },
    {
     "name": "stdout",
     "output_type": "stream",
     "text": [
      "Error processing example: 'NoneType' object has no attribute 'copy'\n"
     ]
    },
    {
     "name": "stderr",
     "output_type": "stream",
     "text": [
      "Processing dataset:  26%|██▌       | 1073/4156 [00:11<00:38, 79.96it/s]"
     ]
    },
    {
     "name": "stdout",
     "output_type": "stream",
     "text": [
      "Error processing example: No Javadoc comment found in the code.\n",
      "Error processing example: No Javadoc comment found in the code.\n"
     ]
    },
    {
     "name": "stderr",
     "output_type": "stream",
     "text": [
      "Generating responses:   0%|          | 0/3 [00:00<?, ?it/s]\n"
     ]
    },
    {
     "name": "stdout",
     "output_type": "stream",
     "text": [
      "Error processing example: 'NoneType' object has no attribute 'copy'\n",
      "Error processing example: No Javadoc comment found in the code.\n"
     ]
    },
    {
     "name": "stderr",
     "output_type": "stream",
     "text": [
      "Generating responses:   0%|          | 0/3 [00:00<?, ?it/s]\n"
     ]
    },
    {
     "name": "stdout",
     "output_type": "stream",
     "text": [
      "Error processing example: 'NoneType' object has no attribute 'copy'\n",
      "Error processing example: No Javadoc comment found in the code.\n",
      "Error processing example: No Javadoc comment found in the code.\n",
      "Error processing example: No Javadoc comment found in the code.\n"
     ]
    },
    {
     "name": "stderr",
     "output_type": "stream",
     "text": [
      "Generating responses:   0%|          | 0/3 [00:00<?, ?it/s]"
     ]
    },
    {
     "name": "stdout",
     "output_type": "stream",
     "text": [
      "Error processing example: 'NoneType' object has no attribute 'copy'\n",
      "Error processing example: No Javadoc comment found in the code.\n"
     ]
    },
    {
     "name": "stderr",
     "output_type": "stream",
     "text": [
      "\n",
      "Generating responses:   0%|          | 0/3 [00:00<?, ?it/s], 82.36it/s]\n"
     ]
    },
    {
     "name": "stdout",
     "output_type": "stream",
     "text": [
      "Error processing example: 'NoneType' object has no attribute 'copy'\n"
     ]
    },
    {
     "name": "stderr",
     "output_type": "stream",
     "text": [
      "Generating responses:   0%|          | 0/3 [00:00<?, ?it/s]\n"
     ]
    },
    {
     "name": "stdout",
     "output_type": "stream",
     "text": [
      "Error processing example: 'NoneType' object has no attribute 'copy'\n"
     ]
    },
    {
     "name": "stderr",
     "output_type": "stream",
     "text": [
      "Generating responses:   0%|          | 0/3 [00:00<?, ?it/s]\n"
     ]
    },
    {
     "name": "stdout",
     "output_type": "stream",
     "text": [
      "Error processing example: 'NoneType' object has no attribute 'copy'\n"
     ]
    },
    {
     "name": "stderr",
     "output_type": "stream",
     "text": [
      "Generating responses:   0%|          | 0/3 [00:00<?, ?it/s]\n"
     ]
    },
    {
     "name": "stdout",
     "output_type": "stream",
     "text": [
      "Error processing example: 'NoneType' object has no attribute 'copy'\n"
     ]
    },
    {
     "name": "stderr",
     "output_type": "stream",
     "text": [
      "Generating responses:   0%|          | 0/3 [00:00<?, ?it/s]\n"
     ]
    },
    {
     "name": "stdout",
     "output_type": "stream",
     "text": [
      "Error processing example: 'NoneType' object has no attribute 'copy'\n"
     ]
    },
    {
     "name": "stderr",
     "output_type": "stream",
     "text": [
      "Generating responses:   0%|          | 0/3 [00:00<?, ?it/s]\n"
     ]
    },
    {
     "name": "stdout",
     "output_type": "stream",
     "text": [
      "Error processing example: 'NoneType' object has no attribute 'copy'\n"
     ]
    },
    {
     "name": "stderr",
     "output_type": "stream",
     "text": [
      "Generating responses:   0%|          | 0/3 [00:00<?, ?it/s]"
     ]
    },
    {
     "name": "stdout",
     "output_type": "stream",
     "text": [
      "Error processing example: 'NoneType' object has no attribute 'copy'\n"
     ]
    },
    {
     "name": "stderr",
     "output_type": "stream",
     "text": [
      "\n",
      "Generating responses:   0%|          | 0/3 [00:00<?, ?it/s]\n"
     ]
    },
    {
     "name": "stdout",
     "output_type": "stream",
     "text": [
      "Error processing example: 'NoneType' object has no attribute 'copy'\n"
     ]
    },
    {
     "name": "stderr",
     "output_type": "stream",
     "text": [
      "Generating responses:   0%|          | 0/3 [00:00<?, ?it/s]\n",
      "Processing dataset:  26%|██▋       | 1091/4156 [00:11<00:47, 64.72it/s]"
     ]
    },
    {
     "name": "stdout",
     "output_type": "stream",
     "text": [
      "Error processing example: 'NoneType' object has no attribute 'copy'\n",
      "Error processing example: No Javadoc comment found in the code.\n",
      "Error processing example: No Javadoc comment found in the code.\n",
      "Error processing example: No Javadoc comment found in the code.\n",
      "Error processing example: No Javadoc comment found in the code.\n",
      "Error processing example: No Javadoc comment found in the code.\n",
      "Error processing example: No Javadoc comment found in the code.\n"
     ]
    },
    {
     "name": "stderr",
     "output_type": "stream",
     "text": [
      "Generating responses:   0%|          | 0/3 [00:00<?, ?it/s]\n"
     ]
    },
    {
     "name": "stdout",
     "output_type": "stream",
     "text": [
      "Error processing example: 'NoneType' object has no attribute 'copy'\n",
      "Error processing example: No Javadoc comment found in the code.\n",
      "Error processing example: No Javadoc comment found in the code.\n",
      "Error processing example: No Javadoc comment found in the code.\n",
      "Error processing example: No Javadoc comment found in the code.\n"
     ]
    },
    {
     "name": "stderr",
     "output_type": "stream",
     "text": [
      "Generating responses:   0%|          | 0/3 [00:00<?, ?it/s]\n"
     ]
    },
    {
     "name": "stdout",
     "output_type": "stream",
     "text": [
      "Error processing example: 'NoneType' object has no attribute 'copy'\n",
      "Error processing example: No Javadoc comment found in the code.\n",
      "Error processing example: No Javadoc comment found in the code.\n",
      "Error processing example: No Javadoc comment found in the code.\n",
      "Error processing example: No Javadoc comment found in the code.\n"
     ]
    },
    {
     "name": "stderr",
     "output_type": "stream",
     "text": [
      "Generating responses:   0%|          | 0/3 [00:00<?, ?it/s]\n",
      "Processing dataset:  27%|██▋       | 1108/4156 [00:11<00:34, 88.28it/s]"
     ]
    },
    {
     "name": "stdout",
     "output_type": "stream",
     "text": [
      "Error processing example: 'NoneType' object has no attribute 'copy'\n",
      "Error processing example: No Javadoc comment found in the code.\n",
      "Error processing example: No Javadoc comment found in the code.\n",
      "Error processing example: No Javadoc comment found in the code.\n",
      "Error processing example: No Javadoc comment found in the code.\n",
      "Error processing example: No Javadoc comment found in the code.\n"
     ]
    },
    {
     "name": "stderr",
     "output_type": "stream",
     "text": [
      "Generating responses:   0%|          | 0/4 [00:00<?, ?it/s]\n"
     ]
    },
    {
     "name": "stdout",
     "output_type": "stream",
     "text": [
      "Error processing example: 'NoneType' object has no attribute 'copy'\n",
      "Error processing example: No Javadoc comment found in the code.\n"
     ]
    },
    {
     "name": "stderr",
     "output_type": "stream",
     "text": [
      "Generating responses:   0%|          | 0/4 [00:00<?, ?it/s]\n"
     ]
    },
    {
     "name": "stdout",
     "output_type": "stream",
     "text": [
      "Error processing example: 'NoneType' object has no attribute 'copy'\n",
      "Error processing example: No Javadoc comment found in the code.\n",
      "Error processing example: No Javadoc comment found in the code.\n"
     ]
    },
    {
     "name": "stderr",
     "output_type": "stream",
     "text": [
      "Processing dataset:  27%|██▋       | 1119/4156 [00:11<00:33, 90.15it/s]"
     ]
    },
    {
     "name": "stdout",
     "output_type": "stream",
     "text": [
      "Error processing example: No Javadoc comment found in the code.\n",
      "Error processing example: No Javadoc comment found in the code.\n"
     ]
    },
    {
     "name": "stderr",
     "output_type": "stream",
     "text": [
      "Generating responses:   0%|          | 0/4 [00:00<?, ?it/s]\n"
     ]
    },
    {
     "name": "stdout",
     "output_type": "stream",
     "text": [
      "Error processing example: 'NoneType' object has no attribute 'copy'\n"
     ]
    },
    {
     "name": "stderr",
     "output_type": "stream",
     "text": [
      "Generating responses:   0%|          | 0/4 [00:00<?, ?it/s]"
     ]
    },
    {
     "name": "stdout",
     "output_type": "stream",
     "text": [
      "Error processing example: 'NoneType' object has no attribute 'copy'\n",
      "Error processing example: No Javadoc comment found in the code.\n"
     ]
    },
    {
     "name": "stderr",
     "output_type": "stream",
     "text": [
      "\n",
      "Generating responses:   0%|          | 0/4 [00:00<?, ?it/s]\n"
     ]
    },
    {
     "name": "stdout",
     "output_type": "stream",
     "text": [
      "Error processing example: 'NoneType' object has no attribute 'copy'\n"
     ]
    },
    {
     "name": "stderr",
     "output_type": "stream",
     "text": [
      "Generating responses:   0%|          | 0/4 [00:00<?, ?it/s]"
     ]
    },
    {
     "name": "stdout",
     "output_type": "stream",
     "text": [
      "Error processing example: 'NoneType' object has no attribute 'copy'\n",
      "Error processing example: No Javadoc comment found in the code.\n"
     ]
    },
    {
     "name": "stderr",
     "output_type": "stream",
     "text": [
      "\n"
     ]
    },
    {
     "name": "stdout",
     "output_type": "stream",
     "text": [
      "Error processing example: No Javadoc comment found in the code.\n"
     ]
    },
    {
     "name": "stderr",
     "output_type": "stream",
     "text": [
      "Generating responses:   0%|          | 0/4 [00:00<?, ?it/s]\n"
     ]
    },
    {
     "name": "stdout",
     "output_type": "stream",
     "text": [
      "Error processing example: 'NoneType' object has no attribute 'copy'\n"
     ]
    },
    {
     "name": "stderr",
     "output_type": "stream",
     "text": [
      "Generating responses:   0%|          | 0/4 [00:00<?, ?it/s]\n",
      "Processing dataset:  27%|██▋       | 1129/4156 [00:11<00:36, 82.34it/s]"
     ]
    },
    {
     "name": "stdout",
     "output_type": "stream",
     "text": [
      "Error processing example: 'NoneType' object has no attribute 'copy'\n",
      "Error processing example: No Javadoc comment found in the code.\n",
      "Error processing example: No Javadoc comment found in the code.\n",
      "Error processing example: No Javadoc comment found in the code.\n",
      "Error processing example: No Javadoc comment found in the code.\n"
     ]
    },
    {
     "name": "stderr",
     "output_type": "stream",
     "text": [
      "Generating responses:   0%|          | 0/4 [00:00<?, ?it/s]\n"
     ]
    },
    {
     "name": "stdout",
     "output_type": "stream",
     "text": [
      "Error processing example: 'NoneType' object has no attribute 'copy'\n",
      "Error processing example: No Javadoc comment found in the code.\n"
     ]
    },
    {
     "name": "stderr",
     "output_type": "stream",
     "text": [
      "Generating responses:   0%|          | 0/4 [00:00<?, ?it/s]"
     ]
    },
    {
     "name": "stdout",
     "output_type": "stream",
     "text": [
      "Error processing example: 'NoneType' object has no attribute 'copy'\n",
      "Error processing example: No Javadoc comment found in the code.\n"
     ]
    },
    {
     "name": "stderr",
     "output_type": "stream",
     "text": [
      "\n"
     ]
    },
    {
     "name": "stdout",
     "output_type": "stream",
     "text": [
      "Error processing example: No Javadoc comment found in the code.\n"
     ]
    },
    {
     "name": "stderr",
     "output_type": "stream",
     "text": [
      "Generating responses:   0%|          | 0/4 [00:00<?, ?it/s]\n"
     ]
    },
    {
     "name": "stdout",
     "output_type": "stream",
     "text": [
      "Error processing example: 'NoneType' object has no attribute 'copy'\n",
      "Error processing example: No Javadoc comment found in the code.\n",
      "Error processing example: No Javadoc comment found in the code.\n",
      "Error processing example: No Javadoc comment found in the code.\n"
     ]
    },
    {
     "name": "stderr",
     "output_type": "stream",
     "text": [
      "Generating responses:   0%|          | 0/4 [00:00<?, ?it/s]\n",
      "Processing dataset:  28%|██▊       | 1143/4156 [00:12<00:31, 95.09it/s]"
     ]
    },
    {
     "name": "stdout",
     "output_type": "stream",
     "text": [
      "Error processing example: 'NoneType' object has no attribute 'copy'\n",
      "Error processing example: No Javadoc comment found in the code.\n",
      "Error processing example: No Javadoc comment found in the code.\n"
     ]
    },
    {
     "name": "stderr",
     "output_type": "stream",
     "text": [
      "Generating responses:   0%|          | 0/4 [00:00<?, ?it/s]\n"
     ]
    },
    {
     "name": "stdout",
     "output_type": "stream",
     "text": [
      "Error processing example: 'NoneType' object has no attribute 'copy'\n",
      "Error processing example: No Javadoc comment found in the code.\n",
      "Error processing example: No Javadoc comment found in the code.\n"
     ]
    },
    {
     "name": "stderr",
     "output_type": "stream",
     "text": [
      "Generating responses:   0%|          | 0/4 [00:00<?, ?it/s]\n"
     ]
    },
    {
     "name": "stdout",
     "output_type": "stream",
     "text": [
      "Error processing example: 'NoneType' object has no attribute 'copy'\n",
      "Error processing example: No Javadoc comment found in the code.\n"
     ]
    },
    {
     "name": "stderr",
     "output_type": "stream",
     "text": [
      "Generating responses:   0%|          | 0/4 [00:00<?, ?it/s]\n"
     ]
    },
    {
     "name": "stdout",
     "output_type": "stream",
     "text": [
      "Error processing example: 'NoneType' object has no attribute 'copy'\n"
     ]
    },
    {
     "name": "stderr",
     "output_type": "stream",
     "text": [
      "Generating responses:   0%|          | 0/4 [00:00<?, ?it/s]\n"
     ]
    },
    {
     "name": "stdout",
     "output_type": "stream",
     "text": [
      "Error processing example: 'NoneType' object has no attribute 'copy'\n"
     ]
    },
    {
     "name": "stderr",
     "output_type": "stream",
     "text": [
      "Generating responses:   0%|          | 0/4 [00:00<?, ?it/s]\n",
      "Processing dataset:  28%|██▊       | 1154/4156 [00:12<00:31, 96.27it/s]"
     ]
    },
    {
     "name": "stdout",
     "output_type": "stream",
     "text": [
      "Error processing example: 'NoneType' object has no attribute 'copy'\n",
      "Error processing example: No Javadoc comment found in the code.\n"
     ]
    },
    {
     "name": "stderr",
     "output_type": "stream",
     "text": [
      "Generating responses:   0%|          | 0/4 [00:00<?, ?it/s]\n"
     ]
    },
    {
     "name": "stdout",
     "output_type": "stream",
     "text": [
      "Error processing example: 'NoneType' object has no attribute 'copy'\n",
      "Error processing example: No Javadoc comment found in the code.\n"
     ]
    },
    {
     "name": "stderr",
     "output_type": "stream",
     "text": [
      "Generating responses:   0%|          | 0/4 [00:00<?, ?it/s]"
     ]
    },
    {
     "name": "stdout",
     "output_type": "stream",
     "text": [
      "Error processing example: 'NoneType' object has no attribute 'copy'\n"
     ]
    },
    {
     "name": "stderr",
     "output_type": "stream",
     "text": [
      "\n"
     ]
    },
    {
     "name": "stdout",
     "output_type": "stream",
     "text": [
      "Error processing example: No Javadoc comment found in the code.\n",
      "Error processing example: No Javadoc comment found in the code.\n"
     ]
    },
    {
     "name": "stderr",
     "output_type": "stream",
     "text": [
      "Generating responses:   0%|          | 0/4 [00:00<?, ?it/s]\n"
     ]
    },
    {
     "name": "stdout",
     "output_type": "stream",
     "text": [
      "Error processing example: 'NoneType' object has no attribute 'copy'\n",
      "Error processing example: No Javadoc comment found in the code.\n",
      "Error processing example: No Javadoc comment found in the code.\n"
     ]
    },
    {
     "name": "stderr",
     "output_type": "stream",
     "text": [
      "Generating responses:   0%|          | 0/4 [00:00<?, ?it/s]"
     ]
    },
    {
     "name": "stdout",
     "output_type": "stream",
     "text": [
      "Error processing example: 'NoneType' object has no attribute 'copy'\n"
     ]
    },
    {
     "name": "stderr",
     "output_type": "stream",
     "text": [
      "\n"
     ]
    },
    {
     "name": "stdout",
     "output_type": "stream",
     "text": [
      "Error processing example: No Javadoc comment found in the code.\n"
     ]
    },
    {
     "name": "stderr",
     "output_type": "stream",
     "text": [
      "Generating responses:   0%|          | 0/4 [00:00<?, ?it/s]\n",
      "Processing dataset:  28%|██▊       | 1165/4156 [00:12<00:31, 94.33it/s]"
     ]
    },
    {
     "name": "stdout",
     "output_type": "stream",
     "text": [
      "Error processing example: 'NoneType' object has no attribute 'copy'\n"
     ]
    },
    {
     "name": "stderr",
     "output_type": "stream",
     "text": [
      "Generating responses:   0%|          | 0/4 [00:00<?, ?it/s]\n"
     ]
    },
    {
     "name": "stdout",
     "output_type": "stream",
     "text": [
      "Error processing example: 'NoneType' object has no attribute 'copy'\n"
     ]
    },
    {
     "name": "stderr",
     "output_type": "stream",
     "text": [
      "Generating responses:   0%|          | 0/4 [00:00<?, ?it/s]\n"
     ]
    },
    {
     "name": "stdout",
     "output_type": "stream",
     "text": [
      "Error processing example: 'NoneType' object has no attribute 'copy'\n",
      "Error processing example: No Javadoc comment found in the code.\n",
      "Error processing example: No Javadoc comment found in the code.\n",
      "Error processing example: No Javadoc comment found in the code.\n",
      "Error processing example: No Javadoc comment found in the code.\n",
      "Error processing example: No Javadoc comment found in the code.\n",
      "Error processing example: No Javadoc comment found in the code.\n"
     ]
    },
    {
     "name": "stderr",
     "output_type": "stream",
     "text": [
      "Generating responses:   0%|          | 0/4 [00:00<?, ?it/s]\n"
     ]
    },
    {
     "name": "stdout",
     "output_type": "stream",
     "text": [
      "Error processing example: 'NoneType' object has no attribute 'copy'\n"
     ]
    },
    {
     "name": "stderr",
     "output_type": "stream",
     "text": [
      "Processing dataset:  28%|██▊       | 1175/4156 [00:12<00:31, 94.06it/s]"
     ]
    },
    {
     "name": "stdout",
     "output_type": "stream",
     "text": [
      "Error processing example: No Javadoc comment found in the code.\n"
     ]
    },
    {
     "name": "stderr",
     "output_type": "stream",
     "text": [
      "Generating responses:   0%|          | 0/4 [00:00<?, ?it/s]\n"
     ]
    },
    {
     "name": "stdout",
     "output_type": "stream",
     "text": [
      "Error processing example: 'NoneType' object has no attribute 'copy'\n",
      "Error processing example: No Javadoc comment found in the code.\n"
     ]
    },
    {
     "name": "stderr",
     "output_type": "stream",
     "text": [
      "Generating responses:   0%|          | 0/4 [00:00<?, ?it/s]\n"
     ]
    },
    {
     "name": "stdout",
     "output_type": "stream",
     "text": [
      "Error processing example: 'NoneType' object has no attribute 'copy'\n",
      "Error processing example: No Javadoc comment found in the code.\n"
     ]
    },
    {
     "name": "stderr",
     "output_type": "stream",
     "text": [
      "Generating responses:   0%|          | 0/4 [00:00<?, ?it/s]\n"
     ]
    },
    {
     "name": "stdout",
     "output_type": "stream",
     "text": [
      "Error processing example: 'NoneType' object has no attribute 'copy'\n",
      "Error processing example: No Javadoc comment found in the code.\n",
      "Error processing example: No Javadoc comment found in the code.\n",
      "Error processing example: No Javadoc comment found in the code.\n",
      "Error processing example: No Javadoc comment found in the code.\n"
     ]
    },
    {
     "name": "stderr",
     "output_type": "stream",
     "text": [
      "Generating responses:   0%|          | 0/4 [00:00<?, ?it/s]\n",
      "Processing dataset:  29%|██▊       | 1185/4156 [00:12<00:33, 88.75it/s]"
     ]
    },
    {
     "name": "stdout",
     "output_type": "stream",
     "text": [
      "Error processing example: 'NoneType' object has no attribute 'copy'\n"
     ]
    },
    {
     "name": "stderr",
     "output_type": "stream",
     "text": [
      "Generating responses:   0%|          | 0/4 [00:00<?, ?it/s]\n"
     ]
    },
    {
     "name": "stdout",
     "output_type": "stream",
     "text": [
      "Error processing example: 'NoneType' object has no attribute 'copy'\n"
     ]
    },
    {
     "name": "stderr",
     "output_type": "stream",
     "text": [
      "Generating responses:   0%|          | 0/4 [00:00<?, ?it/s]"
     ]
    },
    {
     "name": "stdout",
     "output_type": "stream",
     "text": [
      "Error processing example: 'NoneType' object has no attribute 'copy'\n"
     ]
    },
    {
     "name": "stderr",
     "output_type": "stream",
     "text": [
      "\n",
      "Generating responses:   0%|          | 0/4 [00:00<?, ?it/s]\n"
     ]
    },
    {
     "name": "stdout",
     "output_type": "stream",
     "text": [
      "Error processing example: 'NoneType' object has no attribute 'copy'\n"
     ]
    },
    {
     "name": "stderr",
     "output_type": "stream",
     "text": [
      "Generating responses:   0%|          | 0/4 [00:00<?, ?it/s]\n"
     ]
    },
    {
     "name": "stdout",
     "output_type": "stream",
     "text": [
      "Error processing example: 'NoneType' object has no attribute 'copy'\n"
     ]
    },
    {
     "name": "stderr",
     "output_type": "stream",
     "text": [
      "Processing dataset:  29%|██▉       | 1195/4156 [00:12<00:33, 87.26it/s]"
     ]
    },
    {
     "name": "stdout",
     "output_type": "stream",
     "text": [
      "Error processing example: No Javadoc comment found in the code.\n",
      "Error processing example: No Javadoc comment found in the code.\n",
      "Error processing example: No Javadoc comment found in the code.\n",
      "Error processing example: No Javadoc comment found in the code.\n",
      "Error processing example: No Javadoc comment found in the code.\n",
      "Error processing example: No Javadoc comment found in the code.\n"
     ]
    },
    {
     "name": "stderr",
     "output_type": "stream",
     "text": [
      "Generating responses:   0%|          | 0/4 [00:00<?, ?it/s]\n"
     ]
    },
    {
     "name": "stdout",
     "output_type": "stream",
     "text": [
      "Error processing example: 'NoneType' object has no attribute 'copy'\n"
     ]
    },
    {
     "name": "stderr",
     "output_type": "stream",
     "text": [
      "Generating responses:   0%|          | 0/4 [00:00<?, ?it/s]\n"
     ]
    },
    {
     "name": "stdout",
     "output_type": "stream",
     "text": [
      "Error processing example: 'NoneType' object has no attribute 'copy'\n"
     ]
    },
    {
     "name": "stderr",
     "output_type": "stream",
     "text": [
      "Generating responses:   0%|          | 0/4 [00:00<?, ?it/s]\n"
     ]
    },
    {
     "name": "stdout",
     "output_type": "stream",
     "text": [
      "Error processing example: 'NoneType' object has no attribute 'copy'\n",
      "Error processing example: No Javadoc comment found in the code.\n"
     ]
    },
    {
     "name": "stderr",
     "output_type": "stream",
     "text": [
      "Generating responses:   0%|          | 0/4 [00:00<?, ?it/s]\n"
     ]
    },
    {
     "name": "stdout",
     "output_type": "stream",
     "text": [
      "Error processing example: 'NoneType' object has no attribute 'copy'\n"
     ]
    },
    {
     "name": "stderr",
     "output_type": "stream",
     "text": [
      "Generating responses:   0%|          | 0/4 [00:00<?, ?it/s]\n"
     ]
    },
    {
     "name": "stdout",
     "output_type": "stream",
     "text": [
      "Error processing example: 'NoneType' object has no attribute 'copy'\n"
     ]
    },
    {
     "name": "stderr",
     "output_type": "stream",
     "text": [
      "Generating responses:   0%|          | 0/4 [00:00<?, ?it/s]\n"
     ]
    },
    {
     "name": "stdout",
     "output_type": "stream",
     "text": [
      "Error processing example: 'NoneType' object has no attribute 'copy'\n",
      "Error processing example: No Javadoc comment found in the code.\n",
      "Error processing example: No Javadoc comment found in the code.\n"
     ]
    },
    {
     "name": "stderr",
     "output_type": "stream",
     "text": [
      "Generating responses:   0%|          | 0/4 [00:00<?, ?it/s]\n",
      "Processing dataset:  29%|██▉       | 1205/4156 [00:12<00:32, 89.50it/s]"
     ]
    },
    {
     "name": "stdout",
     "output_type": "stream",
     "text": [
      "Error processing example: 'NoneType' object has no attribute 'copy'\n",
      "Error processing example: No Javadoc comment found in the code.\n",
      "Error processing example: No Javadoc comment found in the code.\n",
      "Error processing example: No Javadoc comment found in the code.\n"
     ]
    },
    {
     "name": "stderr",
     "output_type": "stream",
     "text": [
      "Generating responses:   0%|          | 0/4 [00:00<?, ?it/s]\n"
     ]
    },
    {
     "name": "stdout",
     "output_type": "stream",
     "text": [
      "Error processing example: 'NoneType' object has no attribute 'copy'\n",
      "Error processing example: No Javadoc comment found in the code.\n",
      "Error processing example: No Javadoc comment found in the code.\n",
      "Error processing example: No Javadoc comment found in the code.\n",
      "Error processing example: No Javadoc comment found in the code.\n",
      "Error processing example: No Javadoc comment found in the code.\n"
     ]
    },
    {
     "name": "stderr",
     "output_type": "stream",
     "text": [
      "Generating responses:   0%|          | 0/4 [00:00<?, ?it/s]\n",
      "Processing dataset:  29%|██▉       | 1215/4156 [00:12<00:32, 91.19it/s]"
     ]
    },
    {
     "name": "stdout",
     "output_type": "stream",
     "text": [
      "Error processing example: 'NoneType' object has no attribute 'copy'\n",
      "Error processing example: No Javadoc comment found in the code.\n",
      "Error processing example: No Javadoc comment found in the code.\n",
      "Error processing example: No Javadoc comment found in the code.\n",
      "Error processing example: No Javadoc comment found in the code.\n"
     ]
    },
    {
     "name": "stderr",
     "output_type": "stream",
     "text": [
      "Generating responses:   0%|          | 0/4 [00:00<?, ?it/s]\n"
     ]
    },
    {
     "name": "stdout",
     "output_type": "stream",
     "text": [
      "Error processing example: 'NoneType' object has no attribute 'copy'\n",
      "Error processing example: No Javadoc comment found in the code.\n"
     ]
    },
    {
     "name": "stderr",
     "output_type": "stream",
     "text": [
      "Generating responses:   0%|          | 0/4 [00:00<?, ?it/s]\n"
     ]
    },
    {
     "name": "stdout",
     "output_type": "stream",
     "text": [
      "Error processing example: 'NoneType' object has no attribute 'copy'\n",
      "Error processing example: No Javadoc comment found in the code.\n"
     ]
    },
    {
     "name": "stderr",
     "output_type": "stream",
     "text": [
      "Generating responses:   0%|          | 0/4 [00:00<?, ?it/s]"
     ]
    },
    {
     "name": "stdout",
     "output_type": "stream",
     "text": [
      "Error processing example: 'NoneType' object has no attribute 'copy'\n"
     ]
    },
    {
     "name": "stderr",
     "output_type": "stream",
     "text": [
      "\n",
      "Generating responses:   0%|          | 0/4 [00:00<?, ?it/s]\n",
      "Processing dataset:  29%|██▉       | 1225/4156 [00:12<00:33, 88.65it/s]"
     ]
    },
    {
     "name": "stdout",
     "output_type": "stream",
     "text": [
      "Error processing example: 'NoneType' object has no attribute 'copy'\n",
      "Error processing example: No Javadoc comment found in the code.\n"
     ]
    },
    {
     "name": "stderr",
     "output_type": "stream",
     "text": [
      "Generating responses:   0%|          | 0/4 [00:00<?, ?it/s]"
     ]
    },
    {
     "name": "stdout",
     "output_type": "stream",
     "text": [
      "Error processing example: 'NoneType' object has no attribute 'copy'\n",
      "Error processing example: No Javadoc comment found in the code.\n"
     ]
    },
    {
     "name": "stderr",
     "output_type": "stream",
     "text": [
      "\n"
     ]
    },
    {
     "name": "stdout",
     "output_type": "stream",
     "text": [
      "Error processing example: No Javadoc comment found in the code.\n"
     ]
    },
    {
     "name": "stderr",
     "output_type": "stream",
     "text": [
      "Generating responses:   0%|          | 0/4 [00:00<?, ?it/s]"
     ]
    },
    {
     "name": "stdout",
     "output_type": "stream",
     "text": [
      "Error processing example: 'NoneType' object has no attribute 'copy'\n"
     ]
    },
    {
     "name": "stderr",
     "output_type": "stream",
     "text": [
      "\n",
      "Generating responses:   0%|          | 0/4 [00:00<?, ?it/s]\n"
     ]
    },
    {
     "name": "stdout",
     "output_type": "stream",
     "text": [
      "Error processing example: 'NoneType' object has no attribute 'copy'\n",
      "Error processing example: No Javadoc comment found in the code.\n",
      "Error processing example: No Javadoc comment found in the code.\n",
      "Error processing example: No Javadoc comment found in the code.\n"
     ]
    },
    {
     "name": "stderr",
     "output_type": "stream",
     "text": [
      "Generating responses:   0%|          | 0/4 [00:00<?, ?it/s]\n",
      "Processing dataset:  30%|██▉       | 1235/4156 [00:13<00:32, 89.74it/s]"
     ]
    },
    {
     "name": "stdout",
     "output_type": "stream",
     "text": [
      "Error processing example: 'NoneType' object has no attribute 'copy'\n",
      "Error processing example: No Javadoc comment found in the code.\n",
      "Error processing example: No Javadoc comment found in the code.\n"
     ]
    },
    {
     "name": "stderr",
     "output_type": "stream",
     "text": [
      "Generating responses:   0%|          | 0/4 [00:00<?, ?it/s]"
     ]
    },
    {
     "name": "stdout",
     "output_type": "stream",
     "text": [
      "Error processing example: 'NoneType' object has no attribute 'copy'\n"
     ]
    },
    {
     "name": "stderr",
     "output_type": "stream",
     "text": [
      "\n",
      "Generating responses:   0%|          | 0/4 [00:00<?, ?it/s]\n"
     ]
    },
    {
     "name": "stdout",
     "output_type": "stream",
     "text": [
      "Error processing example: 'NoneType' object has no attribute 'copy'\n"
     ]
    },
    {
     "name": "stderr",
     "output_type": "stream",
     "text": [
      "Generating responses:   0%|          | 0/4 [00:00<?, ?it/s]\n"
     ]
    },
    {
     "name": "stdout",
     "output_type": "stream",
     "text": [
      "Error processing example: 'NoneType' object has no attribute 'copy'\n",
      "Error processing example: No Javadoc comment found in the code.\n",
      "Error processing example: No Javadoc comment found in the code.\n"
     ]
    },
    {
     "name": "stderr",
     "output_type": "stream",
     "text": [
      "Processing dataset:  30%|██▉       | 1245/4156 [00:13<00:31, 91.16it/s]"
     ]
    },
    {
     "name": "stdout",
     "output_type": "stream",
     "text": [
      "Error processing example: No Javadoc comment found in the code.\n",
      "Error processing example: No Javadoc comment found in the code.\n",
      "Error processing example: No Javadoc comment found in the code.\n",
      "Error processing example: No Javadoc comment found in the code.\n"
     ]
    },
    {
     "name": "stderr",
     "output_type": "stream",
     "text": [
      "Generating responses:   0%|          | 0/4 [00:00<?, ?it/s]"
     ]
    },
    {
     "name": "stdout",
     "output_type": "stream",
     "text": [
      "Error processing example: 'NoneType' object has no attribute 'copy'\n"
     ]
    },
    {
     "name": "stderr",
     "output_type": "stream",
     "text": [
      "\n"
     ]
    },
    {
     "name": "stdout",
     "output_type": "stream",
     "text": [
      "Error processing example: No Javadoc comment found in the code.\n"
     ]
    },
    {
     "name": "stderr",
     "output_type": "stream",
     "text": [
      "Generating responses:   0%|          | 0/4 [00:00<?, ?it/s]\n"
     ]
    },
    {
     "name": "stdout",
     "output_type": "stream",
     "text": [
      "Error processing example: 'NoneType' object has no attribute 'copy'\n"
     ]
    },
    {
     "name": "stderr",
     "output_type": "stream",
     "text": [
      "Generating responses:   0%|          | 0/4 [00:00<?, ?it/s]"
     ]
    },
    {
     "name": "stdout",
     "output_type": "stream",
     "text": [
      "Error processing example: 'NoneType' object has no attribute 'copy'\n"
     ]
    },
    {
     "name": "stderr",
     "output_type": "stream",
     "text": [
      "\n"
     ]
    },
    {
     "name": "stdout",
     "output_type": "stream",
     "text": [
      "Error processing example: No Javadoc comment found in the code.\n"
     ]
    },
    {
     "name": "stderr",
     "output_type": "stream",
     "text": [
      "Generating responses:   0%|          | 0/4 [00:00<?, ?it/s]\n"
     ]
    },
    {
     "name": "stdout",
     "output_type": "stream",
     "text": [
      "Error processing example: 'NoneType' object has no attribute 'copy'\n"
     ]
    },
    {
     "name": "stderr",
     "output_type": "stream",
     "text": [
      "Processing dataset:  30%|███       | 1255/4156 [00:13<00:32, 89.47it/s]"
     ]
    },
    {
     "name": "stdout",
     "output_type": "stream",
     "text": [
      "Error processing example: No Javadoc comment found in the code.\n",
      "Error processing example: No Javadoc comment found in the code.\n",
      "Error processing example: No Javadoc comment found in the code.\n",
      "Error processing example: No Javadoc comment found in the code.\n",
      "Error processing example: No Javadoc comment found in the code.\n",
      "Error processing example: No Javadoc comment found in the code.\n"
     ]
    },
    {
     "name": "stderr",
     "output_type": "stream",
     "text": [
      "Generating responses:   0%|          | 0/4 [00:00<?, ?it/s]\n"
     ]
    },
    {
     "name": "stdout",
     "output_type": "stream",
     "text": [
      "Error processing example: 'NoneType' object has no attribute 'copy'\n",
      "Error processing example: No Javadoc comment found in the code.\n"
     ]
    },
    {
     "name": "stderr",
     "output_type": "stream",
     "text": [
      "Generating responses:   0%|          | 0/4 [00:00<?, ?it/s]\n"
     ]
    },
    {
     "name": "stdout",
     "output_type": "stream",
     "text": [
      "Error processing example: 'NoneType' object has no attribute 'copy'\n"
     ]
    },
    {
     "name": "stderr",
     "output_type": "stream",
     "text": [
      "Generating responses:   0%|          | 0/4 [00:00<?, ?it/s]"
     ]
    },
    {
     "name": "stdout",
     "output_type": "stream",
     "text": [
      "Error processing example: 'NoneType' object has no attribute 'copy'\n",
      "Error processing example: No Javadoc comment found in the code.\n",
      "Error processing example: No Javadoc comment found in the code.\n"
     ]
    },
    {
     "name": "stderr",
     "output_type": "stream",
     "text": [
      "\n"
     ]
    },
    {
     "name": "stdout",
     "output_type": "stream",
     "text": [
      "Error processing example: No Javadoc comment found in the code.\n",
      "Error processing example: No Javadoc comment found in the code.\n"
     ]
    },
    {
     "name": "stderr",
     "output_type": "stream",
     "text": [
      "Generating responses:   0%|          | 0/4 [00:00<?, ?it/s]\n",
      "Processing dataset:  30%|███       | 1267/4156 [00:13<00:29, 97.56it/s]"
     ]
    },
    {
     "name": "stdout",
     "output_type": "stream",
     "text": [
      "Error processing example: 'NoneType' object has no attribute 'copy'\n",
      "Error processing example: No Javadoc comment found in the code.\n",
      "Error processing example: No Javadoc comment found in the code.\n"
     ]
    },
    {
     "name": "stderr",
     "output_type": "stream",
     "text": [
      "Generating responses:   0%|          | 0/4 [00:00<?, ?it/s]\n"
     ]
    },
    {
     "name": "stdout",
     "output_type": "stream",
     "text": [
      "Error processing example: 'NoneType' object has no attribute 'copy'\n",
      "Error processing example: No Javadoc comment found in the code.\n"
     ]
    },
    {
     "name": "stderr",
     "output_type": "stream",
     "text": [
      "Generating responses:   0%|          | 0/4 [00:00<?, ?it/s]\n"
     ]
    },
    {
     "name": "stdout",
     "output_type": "stream",
     "text": [
      "Error processing example: 'NoneType' object has no attribute 'copy'\n",
      "Error processing example: No Javadoc comment found in the code.\n",
      "Error processing example: No Javadoc comment found in the code.\n",
      "Error processing example: No Javadoc comment found in the code.\n",
      "Error processing example: No Javadoc comment found in the code.\n",
      "Error processing example: No Javadoc comment found in the code.\n",
      "Error processing example: No Javadoc comment found in the code.\n",
      "Error processing example: No Javadoc comment found in the code.\n",
      "Error processing example: No Javadoc comment found in the code.\n",
      "Error processing example: No Javadoc comment found in the code.\n"
     ]
    },
    {
     "name": "stderr",
     "output_type": "stream",
     "text": [
      "Processing dataset:  31%|███       | 1282/4156 [00:13<00:25, 112.07it/s]"
     ]
    },
    {
     "name": "stdout",
     "output_type": "stream",
     "text": [
      "Error processing example: No Javadoc comment found in the code.\n",
      "Error processing example: No Javadoc comment found in the code.\n",
      "Error processing example: No Javadoc comment found in the code.\n"
     ]
    },
    {
     "name": "stderr",
     "output_type": "stream",
     "text": [
      "Generating responses:   0%|          | 0/4 [00:00<?, ?it/s]\n"
     ]
    },
    {
     "name": "stdout",
     "output_type": "stream",
     "text": [
      "Error processing example: 'NoneType' object has no attribute 'copy'\n",
      "Error processing example: No Javadoc comment found in the code.\n"
     ]
    },
    {
     "name": "stderr",
     "output_type": "stream",
     "text": [
      "Generating responses:   0%|          | 0/4 [00:00<?, ?it/s]\n"
     ]
    },
    {
     "name": "stdout",
     "output_type": "stream",
     "text": [
      "Error processing example: 'NoneType' object has no attribute 'copy'\n"
     ]
    },
    {
     "name": "stderr",
     "output_type": "stream",
     "text": [
      "Generating responses:   0%|          | 0/4 [00:00<?, ?it/s]"
     ]
    },
    {
     "name": "stdout",
     "output_type": "stream",
     "text": [
      "Error processing example: 'NoneType' object has no attribute 'copy'\n"
     ]
    },
    {
     "name": "stderr",
     "output_type": "stream",
     "text": [
      "\n"
     ]
    },
    {
     "name": "stdout",
     "output_type": "stream",
     "text": [
      "Error processing example: No Javadoc comment found in the code.\n",
      "Error processing example: No Javadoc comment found in the code.\n",
      "Error processing example: No Javadoc comment found in the code.\n"
     ]
    },
    {
     "name": "stderr",
     "output_type": "stream",
     "text": [
      "Generating responses:   0%|          | 0/4 [00:00<?, ?it/s]"
     ]
    },
    {
     "name": "stdout",
     "output_type": "stream",
     "text": [
      "Error processing example: 'NoneType' object has no attribute 'copy'\n"
     ]
    },
    {
     "name": "stderr",
     "output_type": "stream",
     "text": [
      "\n",
      "Processing dataset:  31%|███       | 1294/4156 [00:13<00:25, 110.81it/s]"
     ]
    },
    {
     "name": "stdout",
     "output_type": "stream",
     "text": [
      "Error processing example: No Javadoc comment found in the code.\n",
      "Error processing example: No Javadoc comment found in the code.\n"
     ]
    },
    {
     "name": "stderr",
     "output_type": "stream",
     "text": [
      "Generating responses:   0%|          | 0/4 [00:00<?, ?it/s]\n"
     ]
    },
    {
     "name": "stdout",
     "output_type": "stream",
     "text": [
      "Error processing example: 'NoneType' object has no attribute 'copy'\n"
     ]
    },
    {
     "name": "stderr",
     "output_type": "stream",
     "text": [
      "Generating responses:   0%|          | 0/4 [00:00<?, ?it/s]"
     ]
    },
    {
     "name": "stdout",
     "output_type": "stream",
     "text": [
      "Error processing example: 'NoneType' object has no attribute 'copy'\n",
      "Error processing example: No Javadoc comment found in the code.\n"
     ]
    },
    {
     "name": "stderr",
     "output_type": "stream",
     "text": [
      "\n"
     ]
    },
    {
     "name": "stdout",
     "output_type": "stream",
     "text": [
      "Error processing example: No Javadoc comment found in the code.\n",
      "Error processing example: No Javadoc comment found in the code.\n",
      "Error processing example: No Javadoc comment found in the code.\n"
     ]
    },
    {
     "name": "stderr",
     "output_type": "stream",
     "text": [
      "Generating responses:   0%|          | 0/4 [00:00<?, ?it/s]"
     ]
    },
    {
     "name": "stdout",
     "output_type": "stream",
     "text": [
      "Error processing example: 'NoneType' object has no attribute 'copy'\n",
      "Error processing example: No Javadoc comment found in the code.\n"
     ]
    },
    {
     "name": "stderr",
     "output_type": "stream",
     "text": [
      "\n"
     ]
    },
    {
     "name": "stdout",
     "output_type": "stream",
     "text": [
      "Error processing example: No Javadoc comment found in the code.\n"
     ]
    },
    {
     "name": "stderr",
     "output_type": "stream",
     "text": [
      "Generating responses:   0%|          | 0/4 [00:00<?, ?it/s]\n",
      "Processing dataset:  31%|███▏      | 1306/4156 [00:13<00:26, 105.78it/s]"
     ]
    },
    {
     "name": "stdout",
     "output_type": "stream",
     "text": [
      "Error processing example: 'NoneType' object has no attribute 'copy'\n",
      "Error processing example: No Javadoc comment found in the code.\n",
      "Error processing example: No Javadoc comment found in the code.\n"
     ]
    },
    {
     "name": "stderr",
     "output_type": "stream",
     "text": [
      "Generating responses:   0%|          | 0/4 [00:00<?, ?it/s]\n"
     ]
    },
    {
     "name": "stdout",
     "output_type": "stream",
     "text": [
      "Error processing example: 'NoneType' object has no attribute 'copy'\n",
      "Error processing example: No Javadoc comment found in the code.\n"
     ]
    },
    {
     "name": "stderr",
     "output_type": "stream",
     "text": [
      "Generating responses:   0%|          | 0/4 [00:00<?, ?it/s]\n"
     ]
    },
    {
     "name": "stdout",
     "output_type": "stream",
     "text": [
      "Error processing example: 'NoneType' object has no attribute 'copy'\n",
      "Error processing example: No Javadoc comment found in the code.\n",
      "Error processing example: No Javadoc comment found in the code.\n"
     ]
    },
    {
     "name": "stderr",
     "output_type": "stream",
     "text": [
      "Generating responses:   0%|          | 0/4 [00:00<?, ?it/s]\n"
     ]
    },
    {
     "name": "stdout",
     "output_type": "stream",
     "text": [
      "Error processing example: 'NoneType' object has no attribute 'copy'\n",
      "Error processing example: No Javadoc comment found in the code.\n",
      "Error processing example: No Javadoc comment found in the code.\n"
     ]
    },
    {
     "name": "stderr",
     "output_type": "stream",
     "text": [
      "Generating responses:   0%|          | 0/4 [00:00<?, ?it/s]"
     ]
    },
    {
     "name": "stdout",
     "output_type": "stream",
     "text": [
      "Error processing example: 'NoneType' object has no attribute 'copy'\n"
     ]
    },
    {
     "name": "stderr",
     "output_type": "stream",
     "text": [
      "\n",
      "Generating responses:   0%|          | 0/4 [00:00<?, ?it/s]\n"
     ]
    },
    {
     "name": "stdout",
     "output_type": "stream",
     "text": [
      "Error processing example: 'NoneType' object has no attribute 'copy'\n"
     ]
    },
    {
     "name": "stderr",
     "output_type": "stream",
     "text": [
      "Generating responses:   0%|          | 0/4 [00:00<?, ?it/s]\n",
      "Processing dataset:  32%|███▏      | 1317/4156 [00:13<00:34, 81.69it/s] "
     ]
    },
    {
     "name": "stdout",
     "output_type": "stream",
     "text": [
      "Error processing example: 'NoneType' object has no attribute 'copy'\n",
      "Error processing example: No Javadoc comment found in the code.\n"
     ]
    },
    {
     "name": "stderr",
     "output_type": "stream",
     "text": [
      "Generating responses:   0%|          | 0/4 [00:00<?, ?it/s]\n"
     ]
    },
    {
     "name": "stdout",
     "output_type": "stream",
     "text": [
      "Error processing example: 'NoneType' object has no attribute 'copy'\n",
      "Error processing example: No Javadoc comment found in the code.\n",
      "Error processing example: No Javadoc comment found in the code.\n",
      "Error processing example: No Javadoc comment found in the code.\n",
      "Error processing example: No Javadoc comment found in the code.\n",
      "Error processing example: No Javadoc comment found in the code.\n"
     ]
    },
    {
     "name": "stderr",
     "output_type": "stream",
     "text": [
      "Generating responses:   0%|          | 0/4 [00:00<?, ?it/s]\n"
     ]
    },
    {
     "name": "stdout",
     "output_type": "stream",
     "text": [
      "Error processing example: 'NoneType' object has no attribute 'copy'\n",
      "Error processing example: No Javadoc comment found in the code.\n"
     ]
    },
    {
     "name": "stderr",
     "output_type": "stream",
     "text": [
      "Generating responses:   0%|          | 0/4 [00:00<?, ?it/s]\n",
      "Processing dataset:  32%|███▏      | 1327/4156 [00:14<00:33, 85.26it/s]"
     ]
    },
    {
     "name": "stdout",
     "output_type": "stream",
     "text": [
      "Error processing example: 'NoneType' object has no attribute 'copy'\n"
     ]
    },
    {
     "name": "stderr",
     "output_type": "stream",
     "text": [
      "Generating responses:   0%|          | 0/4 [00:00<?, ?it/s]\n"
     ]
    },
    {
     "name": "stdout",
     "output_type": "stream",
     "text": [
      "Error processing example: 'NoneType' object has no attribute 'copy'\n"
     ]
    },
    {
     "name": "stderr",
     "output_type": "stream",
     "text": [
      "Generating responses:   0%|          | 0/4 [00:00<?, ?it/s]\n"
     ]
    },
    {
     "name": "stdout",
     "output_type": "stream",
     "text": [
      "Error processing example: 'NoneType' object has no attribute 'copy'\n",
      "Error processing example: No Javadoc comment found in the code.\n",
      "Error processing example: No Javadoc comment found in the code.\n",
      "Error processing example: No Javadoc comment found in the code.\n",
      "Error processing example: No Javadoc comment found in the code.\n"
     ]
    },
    {
     "name": "stderr",
     "output_type": "stream",
     "text": [
      "Generating responses:   0%|          | 0/4 [00:00<?, ?it/s]\n"
     ]
    },
    {
     "name": "stdout",
     "output_type": "stream",
     "text": [
      "Error processing example: 'NoneType' object has no attribute 'copy'\n"
     ]
    },
    {
     "name": "stderr",
     "output_type": "stream",
     "text": [
      "Generating responses:   0%|          | 0/4 [00:00<?, ?it/s]\n",
      "Processing dataset:  32%|███▏      | 1337/4156 [00:14<00:35, 80.38it/s]"
     ]
    },
    {
     "name": "stdout",
     "output_type": "stream",
     "text": [
      "Error processing example: 'NoneType' object has no attribute 'copy'\n",
      "Error processing example: No Javadoc comment found in the code.\n",
      "Error processing example: No Javadoc comment found in the code.\n",
      "Error processing example: No Javadoc comment found in the code.\n",
      "Error processing example: No Javadoc comment found in the code.\n"
     ]
    },
    {
     "name": "stderr",
     "output_type": "stream",
     "text": [
      "Generating responses:   0%|          | 0/4 [00:00<?, ?it/s]\n"
     ]
    },
    {
     "name": "stdout",
     "output_type": "stream",
     "text": [
      "Error processing example: 'NoneType' object has no attribute 'copy'\n",
      "Error processing example: No Javadoc comment found in the code.\n"
     ]
    },
    {
     "name": "stderr",
     "output_type": "stream",
     "text": [
      "Generating responses:   0%|          | 0/4 [00:00<?, ?it/s]\n"
     ]
    },
    {
     "name": "stdout",
     "output_type": "stream",
     "text": [
      "Error processing example: 'NoneType' object has no attribute 'copy'\n",
      "Error processing example: No Javadoc comment found in the code.\n",
      "Error processing example: No Javadoc comment found in the code.\n",
      "Error processing example: No Javadoc comment found in the code.\n",
      "Error processing example: No Javadoc comment found in the code.\n",
      "Error processing example: No Javadoc comment found in the code.\n"
     ]
    },
    {
     "name": "stderr",
     "output_type": "stream",
     "text": [
      "Generating responses:   0%|          | 0/4 [00:00<?, ?it/s]\n"
     ]
    },
    {
     "name": "stdout",
     "output_type": "stream",
     "text": [
      "Error processing example: 'NoneType' object has no attribute 'copy'\n"
     ]
    },
    {
     "name": "stderr",
     "output_type": "stream",
     "text": [
      "Generating responses:   0%|          | 0/4 [00:00<?, ?it/s]\n",
      "Processing dataset:  32%|███▏      | 1349/4156 [00:14<00:32, 87.55it/s]"
     ]
    },
    {
     "name": "stdout",
     "output_type": "stream",
     "text": [
      "Error processing example: 'NoneType' object has no attribute 'copy'\n",
      "Error processing example: No Javadoc comment found in the code.\n"
     ]
    },
    {
     "name": "stderr",
     "output_type": "stream",
     "text": [
      "Generating responses:   0%|          | 0/4 [00:00<?, ?it/s]"
     ]
    },
    {
     "name": "stdout",
     "output_type": "stream",
     "text": [
      "Error processing example: 'NoneType' object has no attribute 'copy'\n"
     ]
    },
    {
     "name": "stderr",
     "output_type": "stream",
     "text": [
      "\n"
     ]
    },
    {
     "name": "stdout",
     "output_type": "stream",
     "text": [
      "Error processing example: No Javadoc comment found in the code.\n",
      "Error processing example: No Javadoc comment found in the code.\n",
      "Error processing example: No Javadoc comment found in the code.\n",
      "Error processing example: No Javadoc comment found in the code.\n",
      "Error processing example: No Javadoc comment found in the code.\n"
     ]
    },
    {
     "name": "stderr",
     "output_type": "stream",
     "text": [
      "Generating responses:   0%|          | 0/4 [00:00<?, ?it/s]\n"
     ]
    },
    {
     "name": "stdout",
     "output_type": "stream",
     "text": [
      "Error processing example: 'NoneType' object has no attribute 'copy'\n"
     ]
    },
    {
     "name": "stderr",
     "output_type": "stream",
     "text": [
      "Generating responses:   0%|          | 0/4 [00:00<?, ?it/s]\n",
      "Processing dataset:  33%|███▎      | 1359/4156 [00:14<00:31, 89.95it/s]"
     ]
    },
    {
     "name": "stdout",
     "output_type": "stream",
     "text": [
      "Error processing example: 'NoneType' object has no attribute 'copy'\n",
      "Error processing example: No Javadoc comment found in the code.\n"
     ]
    },
    {
     "name": "stderr",
     "output_type": "stream",
     "text": [
      "Generating responses:   0%|          | 0/4 [00:00<?, ?it/s]\n"
     ]
    },
    {
     "name": "stdout",
     "output_type": "stream",
     "text": [
      "Error processing example: 'NoneType' object has no attribute 'copy'\n"
     ]
    },
    {
     "name": "stderr",
     "output_type": "stream",
     "text": [
      "Generating responses:   0%|          | 0/4 [00:00<?, ?it/s]\n"
     ]
    },
    {
     "name": "stdout",
     "output_type": "stream",
     "text": [
      "Error processing example: 'NoneType' object has no attribute 'copy'\n",
      "Error processing example: No Javadoc comment found in the code.\n",
      "Error processing example: No Javadoc comment found in the code.\n",
      "Error processing example: No Javadoc comment found in the code.\n",
      "Error processing example: No Javadoc comment found in the code.\n",
      "Error processing example: No Javadoc comment found in the code.\n",
      "Error processing example: No Javadoc comment found in the code.\n"
     ]
    },
    {
     "name": "stderr",
     "output_type": "stream",
     "text": [
      "Generating responses:   0%|          | 0/4 [00:00<?, ?it/s]\n",
      "Processing dataset:  33%|███▎      | 1369/4156 [00:14<00:32, 86.65it/s]"
     ]
    },
    {
     "name": "stdout",
     "output_type": "stream",
     "text": [
      "Error processing example: 'NoneType' object has no attribute 'copy'\n",
      "Error processing example: No Javadoc comment found in the code.\n",
      "Error processing example: No Javadoc comment found in the code.\n"
     ]
    },
    {
     "name": "stderr",
     "output_type": "stream",
     "text": [
      "Generating responses:   0%|          | 0/4 [00:00<?, ?it/s]\n"
     ]
    },
    {
     "name": "stdout",
     "output_type": "stream",
     "text": [
      "Error processing example: 'NoneType' object has no attribute 'copy'\n"
     ]
    },
    {
     "name": "stderr",
     "output_type": "stream",
     "text": [
      "Generating responses:   0%|          | 0/4 [00:00<?, ?it/s]\n"
     ]
    },
    {
     "name": "stdout",
     "output_type": "stream",
     "text": [
      "Error processing example: 'NoneType' object has no attribute 'copy'\n"
     ]
    },
    {
     "name": "stderr",
     "output_type": "stream",
     "text": [
      "Generating responses:   0%|          | 0/4 [00:00<?, ?it/s]\n"
     ]
    },
    {
     "name": "stdout",
     "output_type": "stream",
     "text": [
      "Error processing example: 'NoneType' object has no attribute 'copy'\n"
     ]
    },
    {
     "name": "stderr",
     "output_type": "stream",
     "text": [
      "Generating responses:   0%|          | 0/4 [00:00<?, ?it/s]\n"
     ]
    },
    {
     "name": "stdout",
     "output_type": "stream",
     "text": [
      "Error processing example: 'NoneType' object has no attribute 'copy'\n",
      "Error processing example: No Javadoc comment found in the code.\n"
     ]
    },
    {
     "name": "stderr",
     "output_type": "stream",
     "text": [
      "Generating responses:   0%|          | 0/4 [00:00<?, ?it/s]\n"
     ]
    },
    {
     "name": "stdout",
     "output_type": "stream",
     "text": [
      "Error processing example: 'NoneType' object has no attribute 'copy'\n",
      "Error processing example: No Javadoc comment found in the code.\n",
      "Error processing example: No Javadoc comment found in the code.\n",
      "Error processing example: No Javadoc comment found in the code.\n",
      "Error processing example: No Javadoc comment found in the code.\n",
      "Error processing example: No Javadoc comment found in the code.\n"
     ]
    },
    {
     "name": "stderr",
     "output_type": "stream",
     "text": [
      "Generating responses:   0%|          | 0/4 [00:00<?, ?it/s]\n",
      "Processing dataset:  33%|███▎      | 1382/4156 [00:14<00:28, 96.38it/s]"
     ]
    },
    {
     "name": "stdout",
     "output_type": "stream",
     "text": [
      "Error processing example: 'NoneType' object has no attribute 'copy'\n"
     ]
    },
    {
     "name": "stderr",
     "output_type": "stream",
     "text": [
      "Generating responses:   0%|          | 0/4 [00:00<?, ?it/s]\n"
     ]
    },
    {
     "name": "stdout",
     "output_type": "stream",
     "text": [
      "Error processing example: 'NoneType' object has no attribute 'copy'\n",
      "Error processing example: No Javadoc comment found in the code.\n",
      "Error processing example: No Javadoc comment found in the code.\n",
      "Error processing example: No Javadoc comment found in the code.\n"
     ]
    },
    {
     "name": "stderr",
     "output_type": "stream",
     "text": [
      "Generating responses:   0%|          | 0/4 [00:00<?, ?it/s]"
     ]
    },
    {
     "name": "stdout",
     "output_type": "stream",
     "text": [
      "Error processing example: 'NoneType' object has no attribute 'copy'\n"
     ]
    },
    {
     "name": "stderr",
     "output_type": "stream",
     "text": [
      "\n",
      "Generating responses:   0%|          | 0/4 [00:00<?, ?it/s]\n"
     ]
    },
    {
     "name": "stdout",
     "output_type": "stream",
     "text": [
      "Error processing example: 'NoneType' object has no attribute 'copy'\n",
      "Error processing example: No Javadoc comment found in the code.\n"
     ]
    },
    {
     "name": "stderr",
     "output_type": "stream",
     "text": [
      "Generating responses:   0%|          | 0/4 [00:00<?, ?it/s]\n"
     ]
    },
    {
     "name": "stdout",
     "output_type": "stream",
     "text": [
      "Error processing example: 'NoneType' object has no attribute 'copy'\n",
      "Error processing example: No Javadoc comment found in the code.\n"
     ]
    },
    {
     "name": "stderr",
     "output_type": "stream",
     "text": [
      "Processing dataset:  33%|███▎      | 1392/4156 [00:14<00:30, 91.58it/s]"
     ]
    },
    {
     "name": "stdout",
     "output_type": "stream",
     "text": [
      "Error processing example: No Javadoc comment found in the code.\n"
     ]
    },
    {
     "name": "stderr",
     "output_type": "stream",
     "text": [
      "Generating responses:   0%|          | 0/4 [00:00<?, ?it/s]\n"
     ]
    },
    {
     "name": "stdout",
     "output_type": "stream",
     "text": [
      "Error processing example: 'NoneType' object has no attribute 'copy'\n"
     ]
    },
    {
     "name": "stderr",
     "output_type": "stream",
     "text": [
      "Generating responses:   0%|          | 0/4 [00:00<?, ?it/s]\n"
     ]
    },
    {
     "name": "stdout",
     "output_type": "stream",
     "text": [
      "Error processing example: 'NoneType' object has no attribute 'copy'\n",
      "Error processing example: No Javadoc comment found in the code.\n"
     ]
    },
    {
     "name": "stderr",
     "output_type": "stream",
     "text": [
      "Generating responses:   0%|          | 0/4 [00:00<?, ?it/s]\n"
     ]
    },
    {
     "name": "stdout",
     "output_type": "stream",
     "text": [
      "Error processing example: 'NoneType' object has no attribute 'copy'\n"
     ]
    },
    {
     "name": "stderr",
     "output_type": "stream",
     "text": [
      "Generating responses:   0%|          | 0/4 [00:00<?, ?it/s]\n"
     ]
    },
    {
     "name": "stdout",
     "output_type": "stream",
     "text": [
      "Error processing example: 'NoneType' object has no attribute 'copy'\n"
     ]
    },
    {
     "name": "stderr",
     "output_type": "stream",
     "text": [
      "Generating responses:   0%|          | 0/4 [00:00<?, ?it/s]\n"
     ]
    },
    {
     "name": "stdout",
     "output_type": "stream",
     "text": [
      "Error processing example: 'NoneType' object has no attribute 'copy'\n",
      "Error processing example: No Javadoc comment found in the code.\n",
      "Error processing example: No Javadoc comment found in the code.\n"
     ]
    },
    {
     "name": "stderr",
     "output_type": "stream",
     "text": [
      "Generating responses:   0%|          | 0/4 [00:00<?, ?it/s]\n",
      "Processing dataset:  34%|███▎      | 1402/4156 [00:14<00:32, 85.81it/s]"
     ]
    },
    {
     "name": "stdout",
     "output_type": "stream",
     "text": [
      "Error processing example: 'NoneType' object has no attribute 'copy'\n",
      "Error processing example: No Javadoc comment found in the code.\n"
     ]
    },
    {
     "name": "stderr",
     "output_type": "stream",
     "text": [
      "Generating responses:   0%|          | 0/4 [00:00<?, ?it/s]\n"
     ]
    },
    {
     "name": "stdout",
     "output_type": "stream",
     "text": [
      "Error processing example: 'NoneType' object has no attribute 'copy'\n",
      "Error processing example: No Javadoc comment found in the code.\n"
     ]
    },
    {
     "name": "stderr",
     "output_type": "stream",
     "text": [
      "Generating responses:   0%|          | 0/4 [00:00<?, ?it/s]"
     ]
    },
    {
     "name": "stdout",
     "output_type": "stream",
     "text": [
      "Error processing example: 'NoneType' object has no attribute 'copy'\n"
     ]
    },
    {
     "name": "stderr",
     "output_type": "stream",
     "text": [
      "\n"
     ]
    },
    {
     "name": "stdout",
     "output_type": "stream",
     "text": [
      "Error processing example: No Javadoc comment found in the code.\n"
     ]
    },
    {
     "name": "stderr",
     "output_type": "stream",
     "text": [
      "Generating responses:   0%|          | 0/4 [00:00<?, ?it/s]\n"
     ]
    },
    {
     "name": "stdout",
     "output_type": "stream",
     "text": [
      "Error processing example: 'NoneType' object has no attribute 'copy'\n",
      "Error processing example: No Javadoc comment found in the code.\n",
      "Error processing example: No Javadoc comment found in the code.\n",
      "Error processing example: No Javadoc comment found in the code.\n",
      "Error processing example: No Javadoc comment found in the code.\n",
      "Error processing example: No Javadoc comment found in the code.\n",
      "Error processing example: No Javadoc comment found in the code.\n",
      "Error processing example: No Javadoc comment found in the code.\n",
      "Error processing example: No Javadoc comment found in the code.\n"
     ]
    },
    {
     "name": "stderr",
     "output_type": "stream",
     "text": [
      "Generating responses:   0%|          | 0/4 [00:00<?, ?it/s]\n",
      "Processing dataset:  34%|███▍      | 1416/4156 [00:14<00:28, 97.25it/s]"
     ]
    },
    {
     "name": "stdout",
     "output_type": "stream",
     "text": [
      "Error processing example: 'NoneType' object has no attribute 'copy'\n",
      "Error processing example: No Javadoc comment found in the code.\n"
     ]
    },
    {
     "name": "stderr",
     "output_type": "stream",
     "text": [
      "Generating responses:   0%|          | 0/4 [00:00<?, ?it/s]\n"
     ]
    },
    {
     "name": "stdout",
     "output_type": "stream",
     "text": [
      "Error processing example: 'NoneType' object has no attribute 'copy'\n"
     ]
    },
    {
     "name": "stderr",
     "output_type": "stream",
     "text": [
      "Generating responses:   0%|          | 0/4 [00:00<?, ?it/s]\n"
     ]
    },
    {
     "name": "stdout",
     "output_type": "stream",
     "text": [
      "Error processing example: 'NoneType' object has no attribute 'copy'\n",
      "Error processing example: No Javadoc comment found in the code.\n"
     ]
    },
    {
     "name": "stderr",
     "output_type": "stream",
     "text": [
      "Generating responses:   0%|          | 0/4 [00:00<?, ?it/s]\n"
     ]
    },
    {
     "name": "stdout",
     "output_type": "stream",
     "text": [
      "Error processing example: 'NoneType' object has no attribute 'copy'\n"
     ]
    },
    {
     "name": "stderr",
     "output_type": "stream",
     "text": [
      "Generating responses:   0%|          | 0/4 [00:00<?, ?it/s]\n"
     ]
    },
    {
     "name": "stdout",
     "output_type": "stream",
     "text": [
      "Error processing example: 'NoneType' object has no attribute 'copy'\n"
     ]
    },
    {
     "name": "stderr",
     "output_type": "stream",
     "text": [
      "Generating responses:   0%|          | 0/4 [00:00<?, ?it/s]"
     ]
    },
    {
     "name": "stdout",
     "output_type": "stream",
     "text": [
      "Error processing example: 'NoneType' object has no attribute 'copy'\n"
     ]
    },
    {
     "name": "stderr",
     "output_type": "stream",
     "text": [
      "\n"
     ]
    },
    {
     "name": "stdout",
     "output_type": "stream",
     "text": [
      "Error processing example: No Javadoc comment found in the code.\n"
     ]
    },
    {
     "name": "stderr",
     "output_type": "stream",
     "text": [
      "Generating responses:   0%|          | 0/4 [00:00<?, ?it/s]\n"
     ]
    },
    {
     "name": "stdout",
     "output_type": "stream",
     "text": [
      "Error processing example: 'NoneType' object has no attribute 'copy'\n"
     ]
    },
    {
     "name": "stderr",
     "output_type": "stream",
     "text": [
      "Generating responses:   0%|          | 0/4 [00:00<?, ?it/s]\n",
      "Processing dataset:  34%|███▍      | 1426/4156 [00:15<00:35, 76.66it/s]"
     ]
    },
    {
     "name": "stdout",
     "output_type": "stream",
     "text": [
      "Error processing example: 'NoneType' object has no attribute 'copy'\n",
      "Error processing example: No Javadoc comment found in the code.\n",
      "Error processing example: No Javadoc comment found in the code.\n"
     ]
    },
    {
     "name": "stderr",
     "output_type": "stream",
     "text": [
      "Generating responses:   0%|          | 0/4 [00:00<?, ?it/s]\n"
     ]
    },
    {
     "name": "stdout",
     "output_type": "stream",
     "text": [
      "Error processing example: 'NoneType' object has no attribute 'copy'\n"
     ]
    },
    {
     "name": "stderr",
     "output_type": "stream",
     "text": [
      "Generating responses:   0%|          | 0/4 [00:00<?, ?it/s]\n"
     ]
    },
    {
     "name": "stdout",
     "output_type": "stream",
     "text": [
      "Error processing example: 'NoneType' object has no attribute 'copy'\n",
      "Error processing example: No Javadoc comment found in the code.\n"
     ]
    },
    {
     "name": "stderr",
     "output_type": "stream",
     "text": [
      "Generating responses:   0%|          | 0/4 [00:00<?, ?it/s]\n"
     ]
    },
    {
     "name": "stdout",
     "output_type": "stream",
     "text": [
      "Error processing example: 'NoneType' object has no attribute 'copy'\n"
     ]
    },
    {
     "name": "stderr",
     "output_type": "stream",
     "text": [
      "Generating responses:   0%|          | 0/4 [00:00<?, ?it/s]\n"
     ]
    },
    {
     "name": "stdout",
     "output_type": "stream",
     "text": [
      "Error processing example: 'NoneType' object has no attribute 'copy'\n",
      "Error processing example: No Javadoc comment found in the code.\n"
     ]
    },
    {
     "name": "stderr",
     "output_type": "stream",
     "text": [
      "Generating responses:   0%|          | 0/4 [00:00<?, ?it/s]\n",
      "Processing dataset:  35%|███▍      | 1435/4156 [00:15<00:35, 75.66it/s]"
     ]
    },
    {
     "name": "stdout",
     "output_type": "stream",
     "text": [
      "Error processing example: 'NoneType' object has no attribute 'copy'\n",
      "Error processing example: No Javadoc comment found in the code.\n",
      "Error processing example: No Javadoc comment found in the code.\n"
     ]
    },
    {
     "name": "stderr",
     "output_type": "stream",
     "text": [
      "Generating responses:   0%|          | 0/4 [00:00<?, ?it/s]\n"
     ]
    },
    {
     "name": "stdout",
     "output_type": "stream",
     "text": [
      "Error processing example: 'NoneType' object has no attribute 'copy'\n",
      "Error processing example: No Javadoc comment found in the code.\n",
      "Error processing example: No Javadoc comment found in the code.\n",
      "Error processing example: No Javadoc comment found in the code.\n",
      "Error processing example: No Javadoc comment found in the code.\n"
     ]
    },
    {
     "name": "stderr",
     "output_type": "stream",
     "text": [
      "Generating responses:   0%|          | 0/4 [00:00<?, ?it/s]\n"
     ]
    },
    {
     "name": "stdout",
     "output_type": "stream",
     "text": [
      "Error processing example: 'NoneType' object has no attribute 'copy'\n",
      "Error processing example: No Javadoc comment found in the code.\n",
      "Error processing example: No Javadoc comment found in the code.\n",
      "Error processing example: No Javadoc comment found in the code.\n",
      "Error processing example: No Javadoc comment found in the code.\n",
      "Error processing example: No Javadoc comment found in the code.\n"
     ]
    },
    {
     "name": "stderr",
     "output_type": "stream",
     "text": [
      "Generating responses:   0%|          | 0/4 [00:00<?, ?it/s]\n",
      "Processing dataset:  35%|███▍      | 1449/4156 [00:15<00:29, 90.34it/s]"
     ]
    },
    {
     "name": "stdout",
     "output_type": "stream",
     "text": [
      "Error processing example: 'NoneType' object has no attribute 'copy'\n",
      "Error processing example: No Javadoc comment found in the code.\n"
     ]
    },
    {
     "name": "stderr",
     "output_type": "stream",
     "text": [
      "Generating responses:   0%|          | 0/4 [00:00<?, ?it/s]\n"
     ]
    },
    {
     "name": "stdout",
     "output_type": "stream",
     "text": [
      "Error processing example: 'NoneType' object has no attribute 'copy'\n",
      "Error processing example: No Javadoc comment found in the code.\n"
     ]
    },
    {
     "name": "stderr",
     "output_type": "stream",
     "text": [
      "Generating responses:   0%|          | 0/4 [00:00<?, ?it/s]\n"
     ]
    },
    {
     "name": "stdout",
     "output_type": "stream",
     "text": [
      "Error processing example: 'NoneType' object has no attribute 'copy'\n",
      "Error processing example: No Javadoc comment found in the code.\n"
     ]
    },
    {
     "name": "stderr",
     "output_type": "stream",
     "text": [
      "Generating responses:   0%|          | 0/4 [00:00<?, ?it/s]"
     ]
    },
    {
     "name": "stdout",
     "output_type": "stream",
     "text": [
      "Error processing example: 'NoneType' object has no attribute 'copy'\n"
     ]
    },
    {
     "name": "stderr",
     "output_type": "stream",
     "text": [
      "\n",
      "Processing dataset:  35%|███▌      | 1459/4156 [00:15<00:31, 86.08it/s]"
     ]
    },
    {
     "name": "stdout",
     "output_type": "stream",
     "text": [
      "Error processing example: No Javadoc comment found in the code.\n",
      "Error processing example: No Javadoc comment found in the code.\n",
      "Error processing example: No Javadoc comment found in the code.\n",
      "Error processing example: No Javadoc comment found in the code.\n",
      "Error processing example: No Javadoc comment found in the code.\n",
      "Error processing example: No Javadoc comment found in the code.\n",
      "Error processing example: No Javadoc comment found in the code.\n"
     ]
    },
    {
     "name": "stderr",
     "output_type": "stream",
     "text": [
      "Generating responses:   0%|          | 0/4 [00:00<?, ?it/s]\n"
     ]
    },
    {
     "name": "stdout",
     "output_type": "stream",
     "text": [
      "Error processing example: 'NoneType' object has no attribute 'copy'\n"
     ]
    },
    {
     "name": "stderr",
     "output_type": "stream",
     "text": [
      "Generating responses:   0%|          | 0/4 [00:00<?, ?it/s]\n"
     ]
    },
    {
     "name": "stdout",
     "output_type": "stream",
     "text": [
      "Error processing example: 'NoneType' object has no attribute 'copy'\n",
      "Error processing example: No Javadoc comment found in the code.\n",
      "Error processing example: No Javadoc comment found in the code.\n"
     ]
    },
    {
     "name": "stderr",
     "output_type": "stream",
     "text": [
      "Generating responses:   0%|          | 0/4 [00:00<?, ?it/s]\n"
     ]
    },
    {
     "name": "stdout",
     "output_type": "stream",
     "text": [
      "Error processing example: 'NoneType' object has no attribute 'copy'\n"
     ]
    },
    {
     "name": "stderr",
     "output_type": "stream",
     "text": [
      "Generating responses:   0%|          | 0/4 [00:00<?, ?it/s]\n",
      "Processing dataset:  35%|███▌      | 1471/4156 [00:15<00:28, 94.27it/s]"
     ]
    },
    {
     "name": "stdout",
     "output_type": "stream",
     "text": [
      "Error processing example: 'NoneType' object has no attribute 'copy'\n",
      "Error processing example: No Javadoc comment found in the code.\n",
      "Error processing example: No Javadoc comment found in the code.\n",
      "Error processing example: No Javadoc comment found in the code.\n",
      "Error processing example: No Javadoc comment found in the code.\n",
      "Error processing example: No Javadoc comment found in the code.\n"
     ]
    },
    {
     "name": "stderr",
     "output_type": "stream",
     "text": [
      "Generating responses:   0%|          | 0/4 [00:00<?, ?it/s]\n"
     ]
    },
    {
     "name": "stdout",
     "output_type": "stream",
     "text": [
      "Error processing example: 'NoneType' object has no attribute 'copy'\n"
     ]
    },
    {
     "name": "stderr",
     "output_type": "stream",
     "text": [
      "Generating responses:   0%|          | 0/4 [00:00<?, ?it/s]\n"
     ]
    },
    {
     "name": "stdout",
     "output_type": "stream",
     "text": [
      "Error processing example: 'NoneType' object has no attribute 'copy'\n",
      "Error processing example: No Javadoc comment found in the code.\n"
     ]
    },
    {
     "name": "stderr",
     "output_type": "stream",
     "text": [
      "Generating responses:   0%|          | 0/4 [00:00<?, ?it/s]\n"
     ]
    },
    {
     "name": "stdout",
     "output_type": "stream",
     "text": [
      "Error processing example: 'NoneType' object has no attribute 'copy'\n"
     ]
    },
    {
     "name": "stderr",
     "output_type": "stream",
     "text": [
      "Generating responses:   0%|          | 0/4 [00:00<?, ?it/s]\n"
     ]
    },
    {
     "name": "stdout",
     "output_type": "stream",
     "text": [
      "Error processing example: 'NoneType' object has no attribute 'copy'\n",
      "Error processing example: No Javadoc comment found in the code.\n"
     ]
    },
    {
     "name": "stderr",
     "output_type": "stream",
     "text": [
      "Generating responses:   0%|          | 0/5 [00:00<?, ?it/s]\n",
      "Processing dataset:  36%|███▌      | 1481/4156 [00:15<00:30, 86.62it/s]"
     ]
    },
    {
     "name": "stdout",
     "output_type": "stream",
     "text": [
      "Error processing example: 'NoneType' object has no attribute 'copy'\n",
      "Error processing example: No Javadoc comment found in the code.\n"
     ]
    },
    {
     "name": "stderr",
     "output_type": "stream",
     "text": [
      "Generating responses:   0%|          | 0/5 [00:00<?, ?it/s]\n"
     ]
    },
    {
     "name": "stdout",
     "output_type": "stream",
     "text": [
      "Error processing example: 'NoneType' object has no attribute 'copy'\n"
     ]
    },
    {
     "name": "stderr",
     "output_type": "stream",
     "text": [
      "Generating responses:   0%|          | 0/5 [00:00<?, ?it/s]\n"
     ]
    },
    {
     "name": "stdout",
     "output_type": "stream",
     "text": [
      "Error processing example: 'NoneType' object has no attribute 'copy'\n",
      "Error processing example: No Javadoc comment found in the code.\n"
     ]
    },
    {
     "name": "stderr",
     "output_type": "stream",
     "text": [
      "Generating responses:   0%|          | 0/5 [00:00<?, ?it/s]\n"
     ]
    },
    {
     "name": "stdout",
     "output_type": "stream",
     "text": [
      "Error processing example: 'NoneType' object has no attribute 'copy'\n",
      "Error processing example: No Javadoc comment found in the code.\n"
     ]
    },
    {
     "name": "stderr",
     "output_type": "stream",
     "text": [
      "Generating responses:   0%|          | 0/5 [00:00<?, ?it/s]\n"
     ]
    },
    {
     "name": "stdout",
     "output_type": "stream",
     "text": [
      "Error processing example: 'NoneType' object has no attribute 'copy'\n"
     ]
    },
    {
     "name": "stderr",
     "output_type": "stream",
     "text": [
      "Generating responses:   0%|          | 0/5 [00:00<?, ?it/s]\n"
     ]
    },
    {
     "name": "stdout",
     "output_type": "stream",
     "text": [
      "Error processing example: 'NoneType' object has no attribute 'copy'\n"
     ]
    },
    {
     "name": "stderr",
     "output_type": "stream",
     "text": [
      "Generating responses:   0%|          | 0/5 [00:00<?, ?it/s]\n"
     ]
    },
    {
     "name": "stdout",
     "output_type": "stream",
     "text": [
      "Error processing example: 'NoneType' object has no attribute 'copy'\n",
      "Error processing example: No Javadoc comment found in the code.\n"
     ]
    },
    {
     "name": "stderr",
     "output_type": "stream",
     "text": [
      "Processing dataset:  36%|███▌      | 1491/4156 [00:15<00:34, 77.02it/s]"
     ]
    },
    {
     "name": "stdout",
     "output_type": "stream",
     "text": [
      "Error processing example: No Javadoc comment found in the code.\n"
     ]
    },
    {
     "name": "stderr",
     "output_type": "stream",
     "text": [
      "Generating responses:   0%|          | 0/5 [00:00<?, ?it/s]\n"
     ]
    },
    {
     "name": "stdout",
     "output_type": "stream",
     "text": [
      "Error processing example: 'NoneType' object has no attribute 'copy'\n",
      "Error processing example: No Javadoc comment found in the code.\n"
     ]
    },
    {
     "name": "stderr",
     "output_type": "stream",
     "text": [
      "Generating responses:   0%|          | 0/5 [00:00<?, ?it/s]\n"
     ]
    },
    {
     "name": "stdout",
     "output_type": "stream",
     "text": [
      "Error processing example: 'NoneType' object has no attribute 'copy'\n"
     ]
    },
    {
     "name": "stderr",
     "output_type": "stream",
     "text": [
      "Generating responses:   0%|          | 0/5 [00:00<?, ?it/s]\n"
     ]
    },
    {
     "name": "stdout",
     "output_type": "stream",
     "text": [
      "Error processing example: 'NoneType' object has no attribute 'copy'\n",
      "Error processing example: No Javadoc comment found in the code.\n",
      "Error processing example: No Javadoc comment found in the code.\n"
     ]
    },
    {
     "name": "stderr",
     "output_type": "stream",
     "text": [
      "Generating responses:   0%|          | 0/5 [00:00<?, ?it/s]\n",
      "Processing dataset:  36%|███▌      | 1500/4156 [00:16<00:34, 77.18it/s]"
     ]
    },
    {
     "name": "stdout",
     "output_type": "stream",
     "text": [
      "Error processing example: 'NoneType' object has no attribute 'copy'\n",
      "Error processing example: No Javadoc comment found in the code.\n",
      "Error processing example: No Javadoc comment found in the code.\n",
      "Error processing example: No Javadoc comment found in the code.\n"
     ]
    },
    {
     "name": "stderr",
     "output_type": "stream",
     "text": [
      "Generating responses:   0%|          | 0/5 [00:00<?, ?it/s]\n"
     ]
    },
    {
     "name": "stdout",
     "output_type": "stream",
     "text": [
      "Error processing example: 'NoneType' object has no attribute 'copy'\n"
     ]
    },
    {
     "name": "stderr",
     "output_type": "stream",
     "text": [
      "Generating responses:   0%|          | 0/5 [00:00<?, ?it/s]\n"
     ]
    },
    {
     "name": "stdout",
     "output_type": "stream",
     "text": [
      "Error processing example: 'NoneType' object has no attribute 'copy'\n"
     ]
    },
    {
     "name": "stderr",
     "output_type": "stream",
     "text": [
      "Generating responses:   0%|          | 0/5 [00:00<?, ?it/s]\n"
     ]
    },
    {
     "name": "stdout",
     "output_type": "stream",
     "text": [
      "Error processing example: 'NoneType' object has no attribute 'copy'\n"
     ]
    },
    {
     "name": "stderr",
     "output_type": "stream",
     "text": [
      "Generating responses:   0%|          | 0/5 [00:00<?, ?it/s]\n"
     ]
    },
    {
     "name": "stdout",
     "output_type": "stream",
     "text": [
      "Error processing example: 'NoneType' object has no attribute 'copy'\n"
     ]
    },
    {
     "name": "stderr",
     "output_type": "stream",
     "text": [
      "Generating responses:   0%|          | 0/5 [00:00<?, ?it/s]\n"
     ]
    },
    {
     "name": "stdout",
     "output_type": "stream",
     "text": [
      "Error processing example: 'NoneType' object has no attribute 'copy'\n"
     ]
    },
    {
     "name": "stderr",
     "output_type": "stream",
     "text": [
      "Generating responses:   0%|          | 0/5 [00:00<?, ?it/s]\n"
     ]
    },
    {
     "name": "stdout",
     "output_type": "stream",
     "text": [
      "Error processing example: 'NoneType' object has no attribute 'copy'\n",
      "Error processing example: No Javadoc comment found in the code.\n"
     ]
    },
    {
     "name": "stderr",
     "output_type": "stream",
     "text": [
      "Generating responses:   0%|          | 0/5 [00:00<?, ?it/s]\n",
      "Processing dataset:  36%|███▋      | 1509/4156 [00:16<00:36, 71.81it/s]"
     ]
    },
    {
     "name": "stdout",
     "output_type": "stream",
     "text": [
      "Error processing example: 'NoneType' object has no attribute 'copy'\n",
      "Error processing example: No Javadoc comment found in the code.\n"
     ]
    },
    {
     "name": "stderr",
     "output_type": "stream",
     "text": [
      "Generating responses:   0%|          | 0/5 [00:00<?, ?it/s]"
     ]
    },
    {
     "name": "stdout",
     "output_type": "stream",
     "text": [
      "Error processing example: 'NoneType' object has no attribute 'copy'\n"
     ]
    },
    {
     "name": "stderr",
     "output_type": "stream",
     "text": [
      "\n",
      "Generating responses:   0%|          | 0/5 [00:00<?, ?it/s]\n"
     ]
    },
    {
     "name": "stdout",
     "output_type": "stream",
     "text": [
      "Error processing example: 'NoneType' object has no attribute 'copy'\n"
     ]
    },
    {
     "name": "stderr",
     "output_type": "stream",
     "text": [
      "Generating responses:   0%|          | 0/5 [00:00<?, ?it/s]"
     ]
    },
    {
     "name": "stdout",
     "output_type": "stream",
     "text": [
      "Error processing example: 'NoneType' object has no attribute 'copy'\n"
     ]
    },
    {
     "name": "stderr",
     "output_type": "stream",
     "text": [
      "\n"
     ]
    },
    {
     "name": "stdout",
     "output_type": "stream",
     "text": [
      "Error processing example: No Javadoc comment found in the code.\n",
      "Error processing example: No Javadoc comment found in the code.\n"
     ]
    },
    {
     "name": "stderr",
     "output_type": "stream",
     "text": [
      "Generating responses:   0%|          | 0/5 [00:00<?, ?it/s]"
     ]
    },
    {
     "name": "stdout",
     "output_type": "stream",
     "text": [
      "Error processing example: 'NoneType' object has no attribute 'copy'\n"
     ]
    },
    {
     "name": "stderr",
     "output_type": "stream",
     "text": [
      "\n"
     ]
    },
    {
     "name": "stdout",
     "output_type": "stream",
     "text": [
      "Error processing example: No Javadoc comment found in the code.\n"
     ]
    },
    {
     "name": "stderr",
     "output_type": "stream",
     "text": [
      "Generating responses:   0%|          | 0/5 [00:00<?, ?it/s]\n"
     ]
    },
    {
     "name": "stdout",
     "output_type": "stream",
     "text": [
      "Error processing example: 'NoneType' object has no attribute 'copy'\n"
     ]
    },
    {
     "name": "stderr",
     "output_type": "stream",
     "text": [
      "Generating responses:   0%|          | 0/5 [00:00<?, ?it/s]\n",
      "Processing dataset:  37%|███▋      | 1519/4156 [00:16<00:33, 77.74it/s]"
     ]
    },
    {
     "name": "stdout",
     "output_type": "stream",
     "text": [
      "Error processing example: 'NoneType' object has no attribute 'copy'\n",
      "Error processing example: No Javadoc comment found in the code.\n",
      "Error processing example: No Javadoc comment found in the code.\n",
      "Error processing example: No Javadoc comment found in the code.\n"
     ]
    },
    {
     "name": "stderr",
     "output_type": "stream",
     "text": [
      "Generating responses:   0%|          | 0/5 [00:00<?, ?it/s]\n"
     ]
    },
    {
     "name": "stdout",
     "output_type": "stream",
     "text": [
      "Error processing example: 'NoneType' object has no attribute 'copy'\n"
     ]
    },
    {
     "name": "stderr",
     "output_type": "stream",
     "text": [
      "Generating responses:   0%|          | 0/5 [00:00<?, ?it/s]\n"
     ]
    },
    {
     "name": "stdout",
     "output_type": "stream",
     "text": [
      "Error processing example: 'NoneType' object has no attribute 'copy'\n"
     ]
    },
    {
     "name": "stderr",
     "output_type": "stream",
     "text": [
      "Generating responses:   0%|          | 0/5 [00:00<?, ?it/s]\n"
     ]
    },
    {
     "name": "stdout",
     "output_type": "stream",
     "text": [
      "Error processing example: 'NoneType' object has no attribute 'copy'\n",
      "Error processing example: No Javadoc comment found in the code.\n"
     ]
    },
    {
     "name": "stderr",
     "output_type": "stream",
     "text": [
      "Generating responses:   0%|          | 0/5 [00:00<?, ?it/s]\n",
      "Processing dataset:  37%|███▋      | 1528/4156 [00:16<00:33, 79.17it/s]"
     ]
    },
    {
     "name": "stdout",
     "output_type": "stream",
     "text": [
      "Error processing example: 'NoneType' object has no attribute 'copy'\n",
      "Error processing example: No Javadoc comment found in the code.\n"
     ]
    },
    {
     "name": "stderr",
     "output_type": "stream",
     "text": [
      "Generating responses:   0%|          | 0/5 [00:00<?, ?it/s]\n"
     ]
    },
    {
     "name": "stdout",
     "output_type": "stream",
     "text": [
      "Error processing example: 'NoneType' object has no attribute 'copy'\n",
      "Error processing example: No Javadoc comment found in the code.\n",
      "Error processing example: No Javadoc comment found in the code.\n",
      "Error processing example: No Javadoc comment found in the code.\n",
      "Error processing example: No Javadoc comment found in the code.\n",
      "Error processing example: No Javadoc comment found in the code.\n"
     ]
    },
    {
     "name": "stderr",
     "output_type": "stream",
     "text": [
      "Generating responses:   0%|          | 0/5 [00:00<?, ?it/s]\n"
     ]
    },
    {
     "name": "stdout",
     "output_type": "stream",
     "text": [
      "Error processing example: 'NoneType' object has no attribute 'copy'\n",
      "Error processing example: No Javadoc comment found in the code.\n",
      "Error processing example: No Javadoc comment found in the code.\n"
     ]
    },
    {
     "name": "stderr",
     "output_type": "stream",
     "text": [
      "Generating responses:   0%|          | 0/5 [00:00<?, ?it/s]\n",
      "Processing dataset:  37%|███▋      | 1538/4156 [00:16<00:31, 84.14it/s]"
     ]
    },
    {
     "name": "stdout",
     "output_type": "stream",
     "text": [
      "Error processing example: 'NoneType' object has no attribute 'copy'\n",
      "Error processing example: No Javadoc comment found in the code.\n",
      "Error processing example: No Javadoc comment found in the code.\n"
     ]
    },
    {
     "name": "stderr",
     "output_type": "stream",
     "text": [
      "Generating responses:   0%|          | 0/5 [00:00<?, ?it/s]\n"
     ]
    },
    {
     "name": "stdout",
     "output_type": "stream",
     "text": [
      "Error processing example: 'NoneType' object has no attribute 'copy'\n",
      "Error processing example: No Javadoc comment found in the code.\n",
      "Error processing example: No Javadoc comment found in the code.\n",
      "Error processing example: No Javadoc comment found in the code.\n",
      "Error processing example: No Javadoc comment found in the code.\n",
      "Error processing example: No Javadoc comment found in the code.\n"
     ]
    },
    {
     "name": "stderr",
     "output_type": "stream",
     "text": [
      "Generating responses:   0%|          | 0/5 [00:00<?, ?it/s]\n"
     ]
    },
    {
     "name": "stdout",
     "output_type": "stream",
     "text": [
      "Error processing example: 'NoneType' object has no attribute 'copy'\n",
      "Error processing example: No Javadoc comment found in the code.\n",
      "Error processing example: No Javadoc comment found in the code.\n",
      "Error processing example: No Javadoc comment found in the code.\n",
      "Error processing example: No Javadoc comment found in the code.\n"
     ]
    },
    {
     "name": "stderr",
     "output_type": "stream",
     "text": [
      "Generating responses:   0%|          | 0/5 [00:00<?, ?it/s]"
     ]
    },
    {
     "name": "stdout",
     "output_type": "stream",
     "text": [
      "Error processing example: 'NoneType' object has no attribute 'copy'\n"
     ]
    },
    {
     "name": "stderr",
     "output_type": "stream",
     "text": [
      "\n",
      "Processing dataset:  37%|███▋      | 1553/4156 [00:16<00:25, 100.86it/s]"
     ]
    },
    {
     "name": "stdout",
     "output_type": "stream",
     "text": [
      "Error processing example: No Javadoc comment found in the code.\n",
      "Error processing example: No Javadoc comment found in the code.\n",
      "Error processing example: No Javadoc comment found in the code.\n",
      "Error processing example: No Javadoc comment found in the code.\n"
     ]
    },
    {
     "name": "stderr",
     "output_type": "stream",
     "text": [
      "Generating responses:   0%|          | 0/5 [00:00<?, ?it/s]"
     ]
    },
    {
     "name": "stdout",
     "output_type": "stream",
     "text": [
      "Error processing example: 'NoneType' object has no attribute 'copy'\n"
     ]
    },
    {
     "name": "stderr",
     "output_type": "stream",
     "text": [
      "\n",
      "Generating responses:   0%|          | 0/5 [00:00<?, ?it/s]\n"
     ]
    },
    {
     "name": "stdout",
     "output_type": "stream",
     "text": [
      "Error processing example: 'NoneType' object has no attribute 'copy'\n"
     ]
    },
    {
     "name": "stderr",
     "output_type": "stream",
     "text": [
      "Generating responses:   0%|          | 0/5 [00:00<?, ?it/s]"
     ]
    },
    {
     "name": "stdout",
     "output_type": "stream",
     "text": [
      "Error processing example: 'NoneType' object has no attribute 'copy'\n",
      "Error processing example: No Javadoc comment found in the code.\n"
     ]
    },
    {
     "name": "stderr",
     "output_type": "stream",
     "text": [
      "\n",
      "Generating responses:   0%|          | 0/5 [00:00<?, ?it/s]\n"
     ]
    },
    {
     "name": "stdout",
     "output_type": "stream",
     "text": [
      "Error processing example: 'NoneType' object has no attribute 'copy'\n",
      "Error processing example: No Javadoc comment found in the code.\n"
     ]
    },
    {
     "name": "stderr",
     "output_type": "stream",
     "text": [
      "Generating responses:   0%|          | 0/5 [00:00<?, ?it/s]\n",
      "Processing dataset:  38%|███▊      | 1564/4156 [00:16<00:27, 95.33it/s] "
     ]
    },
    {
     "name": "stdout",
     "output_type": "stream",
     "text": [
      "Error processing example: 'NoneType' object has no attribute 'copy'\n",
      "Error processing example: No Javadoc comment found in the code.\n",
      "Error processing example: No Javadoc comment found in the code.\n",
      "Error processing example: No Javadoc comment found in the code.\n",
      "Error processing example: No Javadoc comment found in the code.\n",
      "Error processing example: No Javadoc comment found in the code.\n",
      "Error processing example: No Javadoc comment found in the code.\n",
      "Error processing example: No Javadoc comment found in the code.\n",
      "Error processing example: No Javadoc comment found in the code.\n"
     ]
    },
    {
     "name": "stderr",
     "output_type": "stream",
     "text": [
      "Generating responses:   0%|          | 0/5 [00:00<?, ?it/s]\n"
     ]
    },
    {
     "name": "stdout",
     "output_type": "stream",
     "text": [
      "Error processing example: 'NoneType' object has no attribute 'copy'\n",
      "Error processing example: No Javadoc comment found in the code.\n",
      "Error processing example: No Javadoc comment found in the code.\n"
     ]
    },
    {
     "name": "stderr",
     "output_type": "stream",
     "text": [
      "Generating responses:   0%|          | 0/5 [00:00<?, ?it/s]\n"
     ]
    },
    {
     "name": "stdout",
     "output_type": "stream",
     "text": [
      "Error processing example: 'NoneType' object has no attribute 'copy'\n",
      "Error processing example: No Javadoc comment found in the code.\n"
     ]
    },
    {
     "name": "stderr",
     "output_type": "stream",
     "text": [
      "Processing dataset:  38%|███▊      | 1579/4156 [00:16<00:23, 109.26it/s]"
     ]
    },
    {
     "name": "stdout",
     "output_type": "stream",
     "text": [
      "Error processing example: No Javadoc comment found in the code.\n",
      "Error processing example: No Javadoc comment found in the code.\n",
      "Error processing example: No Javadoc comment found in the code.\n"
     ]
    },
    {
     "name": "stderr",
     "output_type": "stream",
     "text": [
      "Generating responses:   0%|          | 0/5 [00:00<?, ?it/s]\n"
     ]
    },
    {
     "name": "stdout",
     "output_type": "stream",
     "text": [
      "Error processing example: 'NoneType' object has no attribute 'copy'\n",
      "Error processing example: No Javadoc comment found in the code.\n"
     ]
    },
    {
     "name": "stderr",
     "output_type": "stream",
     "text": [
      "Generating responses:   0%|          | 0/5 [00:00<?, ?it/s]\n"
     ]
    },
    {
     "name": "stdout",
     "output_type": "stream",
     "text": [
      "Error processing example: 'NoneType' object has no attribute 'copy'\n"
     ]
    },
    {
     "name": "stderr",
     "output_type": "stream",
     "text": [
      "Generating responses:   0%|          | 0/5 [00:00<?, ?it/s]\n"
     ]
    },
    {
     "name": "stdout",
     "output_type": "stream",
     "text": [
      "Error processing example: 'NoneType' object has no attribute 'copy'\n",
      "Error processing example: No Javadoc comment found in the code.\n",
      "Error processing example: No Javadoc comment found in the code.\n",
      "Error processing example: No Javadoc comment found in the code.\n",
      "Error processing example: No Javadoc comment found in the code.\n"
     ]
    },
    {
     "name": "stderr",
     "output_type": "stream",
     "text": [
      "Generating responses:   0%|          | 0/5 [00:00<?, ?it/s]\n"
     ]
    },
    {
     "name": "stdout",
     "output_type": "stream",
     "text": [
      "Error processing example: 'NoneType' object has no attribute 'copy'\n"
     ]
    },
    {
     "name": "stderr",
     "output_type": "stream",
     "text": [
      "Generating responses:   0%|          | 0/5 [00:00<?, ?it/s]\n"
     ]
    },
    {
     "name": "stdout",
     "output_type": "stream",
     "text": [
      "Error processing example: 'NoneType' object has no attribute 'copy'\n"
     ]
    },
    {
     "name": "stderr",
     "output_type": "stream",
     "text": [
      "Generating responses:   0%|          | 0/5 [00:00<?, ?it/s]\n"
     ]
    },
    {
     "name": "stdout",
     "output_type": "stream",
     "text": [
      "Error processing example: 'NoneType' object has no attribute 'copy'\n"
     ]
    },
    {
     "name": "stderr",
     "output_type": "stream",
     "text": [
      "Generating responses:   0%|          | 0/5 [00:00<?, ?it/s]\n",
      "Processing dataset:  38%|███▊      | 1591/4156 [00:17<00:28, 90.90it/s] "
     ]
    },
    {
     "name": "stdout",
     "output_type": "stream",
     "text": [
      "Error processing example: 'NoneType' object has no attribute 'copy'\n"
     ]
    },
    {
     "name": "stderr",
     "output_type": "stream",
     "text": [
      "Generating responses:   0%|          | 0/5 [00:00<?, ?it/s]\n"
     ]
    },
    {
     "name": "stdout",
     "output_type": "stream",
     "text": [
      "Error processing example: 'NoneType' object has no attribute 'copy'\n"
     ]
    },
    {
     "name": "stderr",
     "output_type": "stream",
     "text": [
      "Generating responses:   0%|          | 0/5 [00:00<?, ?it/s]\n"
     ]
    },
    {
     "name": "stdout",
     "output_type": "stream",
     "text": [
      "Error processing example: 'NoneType' object has no attribute 'copy'\n"
     ]
    },
    {
     "name": "stderr",
     "output_type": "stream",
     "text": [
      "Generating responses:   0%|          | 0/5 [00:00<?, ?it/s]\n"
     ]
    },
    {
     "name": "stdout",
     "output_type": "stream",
     "text": [
      "Error processing example: 'NoneType' object has no attribute 'copy'\n"
     ]
    },
    {
     "name": "stderr",
     "output_type": "stream",
     "text": [
      "Generating responses:   0%|          | 0/5 [00:00<?, ?it/s]\n"
     ]
    },
    {
     "name": "stdout",
     "output_type": "stream",
     "text": [
      "Error processing example: 'NoneType' object has no attribute 'copy'\n"
     ]
    },
    {
     "name": "stderr",
     "output_type": "stream",
     "text": [
      "Generating responses:   0%|          | 0/5 [00:00<?, ?it/s]\n"
     ]
    },
    {
     "name": "stdout",
     "output_type": "stream",
     "text": [
      "Error processing example: 'NoneType' object has no attribute 'copy'\n"
     ]
    },
    {
     "name": "stderr",
     "output_type": "stream",
     "text": [
      "Generating responses:   0%|          | 0/5 [00:00<?, ?it/s]"
     ]
    },
    {
     "name": "stdout",
     "output_type": "stream",
     "text": [
      "Error processing example: 'NoneType' object has no attribute 'copy'\n",
      "Error processing example: No Javadoc comment found in the code.\n",
      "Error processing example: No Javadoc comment found in the code.\n",
      "Error processing example: No Javadoc comment found in the code.\n"
     ]
    },
    {
     "name": "stderr",
     "output_type": "stream",
     "text": [
      "\n",
      "Processing dataset:  39%|███▊      | 1601/4156 [00:17<00:30, 84.42it/s]"
     ]
    },
    {
     "name": "stdout",
     "output_type": "stream",
     "text": [
      "Error processing example: Javadoc comment is not properly closed.\n"
     ]
    },
    {
     "name": "stderr",
     "output_type": "stream",
     "text": [
      "Generating responses:   0%|          | 0/5 [00:00<?, ?it/s]\n"
     ]
    },
    {
     "name": "stdout",
     "output_type": "stream",
     "text": [
      "Error processing example: 'NoneType' object has no attribute 'copy'\n"
     ]
    },
    {
     "name": "stderr",
     "output_type": "stream",
     "text": [
      "Generating responses:   0%|          | 0/5 [00:00<?, ?it/s]\n"
     ]
    },
    {
     "name": "stdout",
     "output_type": "stream",
     "text": [
      "Error processing example: 'NoneType' object has no attribute 'copy'\n"
     ]
    },
    {
     "name": "stderr",
     "output_type": "stream",
     "text": [
      "Generating responses:   0%|          | 0/5 [00:00<?, ?it/s]\n"
     ]
    },
    {
     "name": "stdout",
     "output_type": "stream",
     "text": [
      "Error processing example: 'NoneType' object has no attribute 'copy'\n",
      "Error processing example: No Javadoc comment found in the code.\n",
      "Error processing example: No Javadoc comment found in the code.\n"
     ]
    },
    {
     "name": "stderr",
     "output_type": "stream",
     "text": [
      "Generating responses:   0%|          | 0/5 [00:00<?, ?it/s]\n"
     ]
    },
    {
     "name": "stdout",
     "output_type": "stream",
     "text": [
      "Error processing example: 'NoneType' object has no attribute 'copy'\n"
     ]
    },
    {
     "name": "stderr",
     "output_type": "stream",
     "text": [
      "Generating responses:   0%|          | 0/5 [00:00<?, ?it/s]\n"
     ]
    },
    {
     "name": "stdout",
     "output_type": "stream",
     "text": [
      "Error processing example: 'NoneType' object has no attribute 'copy'\n",
      "Error processing example: No Javadoc comment found in the code.\n",
      "Error processing example: No Javadoc comment found in the code.\n"
     ]
    },
    {
     "name": "stderr",
     "output_type": "stream",
     "text": [
      "Generating responses:   0%|          | 0/5 [00:00<?, ?it/s]\n"
     ]
    },
    {
     "name": "stdout",
     "output_type": "stream",
     "text": [
      "Error processing example: 'NoneType' object has no attribute 'copy'\n"
     ]
    },
    {
     "name": "stderr",
     "output_type": "stream",
     "text": [
      "Generating responses:   0%|          | 0/5 [00:00<?, ?it/s]\n"
     ]
    },
    {
     "name": "stdout",
     "output_type": "stream",
     "text": [
      "Error processing example: 'NoneType' object has no attribute 'copy'\n",
      "Error processing example: No Javadoc comment found in the code.\n"
     ]
    },
    {
     "name": "stderr",
     "output_type": "stream",
     "text": [
      "Generating responses:   0%|          | 0/5 [00:00<?, ?it/s]\n"
     ]
    },
    {
     "name": "stdout",
     "output_type": "stream",
     "text": [
      "Error processing example: 'NoneType' object has no attribute 'copy'\n"
     ]
    },
    {
     "name": "stderr",
     "output_type": "stream",
     "text": [
      "Generating responses:   0%|          | 0/5 [00:00<?, ?it/s]\n",
      "Processing dataset:  39%|███▉      | 1615/4156 [00:17<00:26, 94.48it/s]"
     ]
    },
    {
     "name": "stdout",
     "output_type": "stream",
     "text": [
      "Error processing example: 'NoneType' object has no attribute 'copy'\n"
     ]
    },
    {
     "name": "stderr",
     "output_type": "stream",
     "text": [
      "Generating responses:   0%|          | 0/5 [00:00<?, ?it/s]\n"
     ]
    },
    {
     "name": "stdout",
     "output_type": "stream",
     "text": [
      "Error processing example: 'NoneType' object has no attribute 'copy'\n",
      "Error processing example: No Javadoc comment found in the code.\n"
     ]
    },
    {
     "name": "stderr",
     "output_type": "stream",
     "text": [
      "Generating responses:   0%|          | 0/5 [00:00<?, ?it/s]\n"
     ]
    },
    {
     "name": "stdout",
     "output_type": "stream",
     "text": [
      "Error processing example: 'NoneType' object has no attribute 'copy'\n",
      "Error processing example: No Javadoc comment found in the code.\n",
      "Error processing example: No Javadoc comment found in the code.\n"
     ]
    },
    {
     "name": "stderr",
     "output_type": "stream",
     "text": [
      "Generating responses:   0%|          | 0/5 [00:00<?, ?it/s]\n"
     ]
    },
    {
     "name": "stdout",
     "output_type": "stream",
     "text": [
      "Error processing example: 'NoneType' object has no attribute 'copy'\n"
     ]
    },
    {
     "name": "stderr",
     "output_type": "stream",
     "text": [
      "Generating responses:   0%|          | 0/5 [00:00<?, ?it/s]\n"
     ]
    },
    {
     "name": "stdout",
     "output_type": "stream",
     "text": [
      "Error processing example: 'NoneType' object has no attribute 'copy'\n",
      "Error processing example: No Javadoc comment found in the code.\n"
     ]
    },
    {
     "name": "stderr",
     "output_type": "stream",
     "text": [
      "Generating responses:   0%|          | 0/5 [00:00<?, ?it/s]\n"
     ]
    },
    {
     "name": "stdout",
     "output_type": "stream",
     "text": [
      "Error processing example: 'NoneType' object has no attribute 'copy'\n"
     ]
    },
    {
     "name": "stderr",
     "output_type": "stream",
     "text": [
      "Generating responses:   0%|          | 0/5 [00:00<?, ?it/s]"
     ]
    },
    {
     "name": "stdout",
     "output_type": "stream",
     "text": [
      "Error processing example: 'NoneType' object has no attribute 'copy'\n"
     ]
    },
    {
     "name": "stderr",
     "output_type": "stream",
     "text": [
      "\n"
     ]
    },
    {
     "name": "stdout",
     "output_type": "stream",
     "text": [
      "Error processing example: No Javadoc comment found in the code.\n"
     ]
    },
    {
     "name": "stderr",
     "output_type": "stream",
     "text": [
      "Generating responses:   0%|          | 0/5 [00:00<?, ?it/s]\n"
     ]
    },
    {
     "name": "stdout",
     "output_type": "stream",
     "text": [
      "Error processing example: 'NoneType' object has no attribute 'copy'\n",
      "Error processing example: No Javadoc comment found in the code.\n"
     ]
    },
    {
     "name": "stderr",
     "output_type": "stream",
     "text": [
      "Processing dataset:  39%|███▉      | 1629/4156 [00:17<00:23, 105.44it/s]"
     ]
    },
    {
     "name": "stdout",
     "output_type": "stream",
     "text": [
      "Error processing example: No Javadoc comment found in the code.\n"
     ]
    },
    {
     "name": "stderr",
     "output_type": "stream",
     "text": [
      "Generating responses:   0%|          | 0/5 [00:00<?, ?it/s]\n"
     ]
    },
    {
     "name": "stdout",
     "output_type": "stream",
     "text": [
      "Error processing example: 'NoneType' object has no attribute 'copy'\n"
     ]
    },
    {
     "name": "stderr",
     "output_type": "stream",
     "text": [
      "Generating responses:   0%|          | 0/5 [00:00<?, ?it/s]\n"
     ]
    },
    {
     "name": "stdout",
     "output_type": "stream",
     "text": [
      "Error processing example: 'NoneType' object has no attribute 'copy'\n"
     ]
    },
    {
     "name": "stderr",
     "output_type": "stream",
     "text": [
      "Generating responses:   0%|          | 0/5 [00:00<?, ?it/s]\n"
     ]
    },
    {
     "name": "stdout",
     "output_type": "stream",
     "text": [
      "Error processing example: 'NoneType' object has no attribute 'copy'\n",
      "Error processing example: No Javadoc comment found in the code.\n",
      "Error processing example: No Javadoc comment found in the code.\n",
      "Error processing example: No Javadoc comment found in the code.\n",
      "Error processing example: No Javadoc comment found in the code.\n"
     ]
    },
    {
     "name": "stderr",
     "output_type": "stream",
     "text": [
      "Generating responses:   0%|          | 0/5 [00:00<?, ?it/s]\n"
     ]
    },
    {
     "name": "stdout",
     "output_type": "stream",
     "text": [
      "Error processing example: 'NoneType' object has no attribute 'copy'\n",
      "Error processing example: No Javadoc comment found in the code.\n",
      "Error processing example: No Javadoc comment found in the code.\n",
      "Error processing example: No Javadoc comment found in the code.\n"
     ]
    },
    {
     "name": "stderr",
     "output_type": "stream",
     "text": [
      "Generating responses:   0%|          | 0/5 [00:00<?, ?it/s]\n"
     ]
    },
    {
     "name": "stdout",
     "output_type": "stream",
     "text": [
      "Error processing example: 'NoneType' object has no attribute 'copy'\n",
      "Error processing example: No Javadoc comment found in the code.\n",
      "Error processing example: No Javadoc comment found in the code.\n",
      "Error processing example: No Javadoc comment found in the code.\n",
      "Error processing example: No Javadoc comment found in the code.\n"
     ]
    },
    {
     "name": "stderr",
     "output_type": "stream",
     "text": [
      "Generating responses:   0%|          | 0/5 [00:00<?, ?it/s]\n"
     ]
    },
    {
     "name": "stdout",
     "output_type": "stream",
     "text": [
      "Error processing example: 'NoneType' object has no attribute 'copy'\n",
      "Error processing example: No Javadoc comment found in the code.\n"
     ]
    },
    {
     "name": "stderr",
     "output_type": "stream",
     "text": [
      "Generating responses:   0%|          | 0/5 [00:00<?, ?it/s]\n",
      "Processing dataset:  40%|███▉      | 1648/4156 [00:17<00:20, 124.99it/s]"
     ]
    },
    {
     "name": "stdout",
     "output_type": "stream",
     "text": [
      "Error processing example: 'NoneType' object has no attribute 'copy'\n",
      "Error processing example: No Javadoc comment found in the code.\n"
     ]
    },
    {
     "name": "stderr",
     "output_type": "stream",
     "text": [
      "Generating responses:   0%|          | 0/5 [00:00<?, ?it/s]\n"
     ]
    },
    {
     "name": "stdout",
     "output_type": "stream",
     "text": [
      "Error processing example: 'NoneType' object has no attribute 'copy'\n",
      "Error processing example: No Javadoc comment found in the code.\n"
     ]
    },
    {
     "name": "stderr",
     "output_type": "stream",
     "text": [
      "Generating responses:   0%|          | 0/5 [00:00<?, ?it/s]\n"
     ]
    },
    {
     "name": "stdout",
     "output_type": "stream",
     "text": [
      "Error processing example: 'NoneType' object has no attribute 'copy'\n"
     ]
    },
    {
     "name": "stderr",
     "output_type": "stream",
     "text": [
      "Generating responses:   0%|          | 0/5 [00:00<?, ?it/s]\n"
     ]
    },
    {
     "name": "stdout",
     "output_type": "stream",
     "text": [
      "Error processing example: 'NoneType' object has no attribute 'copy'\n"
     ]
    },
    {
     "name": "stderr",
     "output_type": "stream",
     "text": [
      "Generating responses:   0%|          | 0/5 [00:00<?, ?it/s]\n"
     ]
    },
    {
     "name": "stdout",
     "output_type": "stream",
     "text": [
      "Error processing example: 'NoneType' object has no attribute 'copy'\n"
     ]
    },
    {
     "name": "stderr",
     "output_type": "stream",
     "text": [
      "Generating responses:   0%|          | 0/5 [00:00<?, ?it/s]\n"
     ]
    },
    {
     "name": "stdout",
     "output_type": "stream",
     "text": [
      "Error processing example: 'NoneType' object has no attribute 'copy'\n",
      "Error processing example: No Javadoc comment found in the code.\n",
      "Error processing example: No Javadoc comment found in the code.\n",
      "Error processing example: No Javadoc comment found in the code.\n"
     ]
    },
    {
     "name": "stderr",
     "output_type": "stream",
     "text": [
      "Generating responses:   0%|          | 0/5 [00:00<?, ?it/s]\n"
     ]
    },
    {
     "name": "stdout",
     "output_type": "stream",
     "text": [
      "Error processing example: 'NoneType' object has no attribute 'copy'\n"
     ]
    },
    {
     "name": "stderr",
     "output_type": "stream",
     "text": [
      "Generating responses:   0%|          | 0/5 [00:00<?, ?it/s]\n"
     ]
    },
    {
     "name": "stdout",
     "output_type": "stream",
     "text": [
      "Error processing example: 'NoneType' object has no attribute 'copy'\n"
     ]
    },
    {
     "name": "stderr",
     "output_type": "stream",
     "text": [
      "Generating responses:   0%|          | 0/5 [00:00<?, ?it/s]\n"
     ]
    },
    {
     "name": "stdout",
     "output_type": "stream",
     "text": [
      "Error processing example: 'NoneType' object has no attribute 'copy'\n"
     ]
    },
    {
     "name": "stderr",
     "output_type": "stream",
     "text": [
      "Generating responses:   0%|          | 0/5 [00:00<?, ?it/s]\n",
      "Processing dataset:  40%|███▉      | 1662/4156 [00:17<00:19, 126.68it/s]"
     ]
    },
    {
     "name": "stdout",
     "output_type": "stream",
     "text": [
      "Error processing example: 'NoneType' object has no attribute 'copy'\n",
      "Error processing example: No Javadoc comment found in the code.\n",
      "Error processing example: No Javadoc comment found in the code.\n"
     ]
    },
    {
     "name": "stderr",
     "output_type": "stream",
     "text": [
      "Generating responses:   0%|          | 0/5 [00:00<?, ?it/s]\n"
     ]
    },
    {
     "name": "stdout",
     "output_type": "stream",
     "text": [
      "Error processing example: 'NoneType' object has no attribute 'copy'\n"
     ]
    },
    {
     "name": "stderr",
     "output_type": "stream",
     "text": [
      "Generating responses:   0%|          | 0/5 [00:00<?, ?it/s]\n"
     ]
    },
    {
     "name": "stdout",
     "output_type": "stream",
     "text": [
      "Error processing example: 'NoneType' object has no attribute 'copy'\n",
      "Error processing example: No Javadoc comment found in the code.\n"
     ]
    },
    {
     "name": "stderr",
     "output_type": "stream",
     "text": [
      "Generating responses:   0%|          | 0/5 [00:00<?, ?it/s]\n"
     ]
    },
    {
     "name": "stdout",
     "output_type": "stream",
     "text": [
      "Error processing example: 'NoneType' object has no attribute 'copy'\n",
      "Error processing example: No Javadoc comment found in the code.\n"
     ]
    },
    {
     "name": "stderr",
     "output_type": "stream",
     "text": [
      "Generating responses:   0%|          | 0/5 [00:00<?, ?it/s]\n"
     ]
    },
    {
     "name": "stdout",
     "output_type": "stream",
     "text": [
      "Error processing example: 'NoneType' object has no attribute 'copy'\n"
     ]
    },
    {
     "name": "stderr",
     "output_type": "stream",
     "text": [
      "Generating responses:   0%|          | 0/5 [00:00<?, ?it/s]\n"
     ]
    },
    {
     "name": "stdout",
     "output_type": "stream",
     "text": [
      "Error processing example: 'NoneType' object has no attribute 'copy'\n",
      "Error processing example: No Javadoc comment found in the code.\n",
      "Error processing example: No Javadoc comment found in the code.\n",
      "Error processing example: No Javadoc comment found in the code.\n",
      "Error processing example: No Javadoc comment found in the code.\n"
     ]
    },
    {
     "name": "stderr",
     "output_type": "stream",
     "text": [
      "Processing dataset:  40%|████      | 1676/4156 [00:17<00:19, 127.65it/s]"
     ]
    },
    {
     "name": "stdout",
     "output_type": "stream",
     "text": [
      "Error processing example: No Javadoc comment found in the code.\n",
      "Error processing example: No Javadoc comment found in the code.\n",
      "Error processing example: No Javadoc comment found in the code.\n",
      "Error processing example: No Javadoc comment found in the code.\n",
      "Error processing example: No Javadoc comment found in the code.\n"
     ]
    },
    {
     "name": "stderr",
     "output_type": "stream",
     "text": [
      "Generating responses:   0%|          | 0/5 [00:00<?, ?it/s]\n"
     ]
    },
    {
     "name": "stdout",
     "output_type": "stream",
     "text": [
      "Error processing example: 'NoneType' object has no attribute 'copy'\n",
      "Error processing example: No Javadoc comment found in the code.\n",
      "Error processing example: No Javadoc comment found in the code.\n",
      "Error processing example: No Javadoc comment found in the code.\n",
      "Error processing example: No Javadoc comment found in the code.\n"
     ]
    },
    {
     "name": "stderr",
     "output_type": "stream",
     "text": [
      "Generating responses:   0%|          | 0/5 [00:00<?, ?it/s]\n"
     ]
    },
    {
     "name": "stdout",
     "output_type": "stream",
     "text": [
      "Error processing example: 'NoneType' object has no attribute 'copy'\n"
     ]
    },
    {
     "name": "stderr",
     "output_type": "stream",
     "text": [
      "Generating responses:   0%|          | 0/5 [00:00<?, ?it/s]\n"
     ]
    },
    {
     "name": "stdout",
     "output_type": "stream",
     "text": [
      "Error processing example: 'NoneType' object has no attribute 'copy'\n"
     ]
    },
    {
     "name": "stderr",
     "output_type": "stream",
     "text": [
      "Generating responses:   0%|          | 0/5 [00:00<?, ?it/s]"
     ]
    },
    {
     "name": "stdout",
     "output_type": "stream",
     "text": [
      "Error processing example: 'NoneType' object has no attribute 'copy'\n"
     ]
    },
    {
     "name": "stderr",
     "output_type": "stream",
     "text": [
      "\n"
     ]
    },
    {
     "name": "stdout",
     "output_type": "stream",
     "text": [
      "Error processing example: No Javadoc comment found in the code.\n"
     ]
    },
    {
     "name": "stderr",
     "output_type": "stream",
     "text": [
      "Generating responses:   0%|          | 0/5 [00:00<?, ?it/s]\n",
      "Processing dataset:  41%|████      | 1690/4156 [00:17<00:22, 110.44it/s]"
     ]
    },
    {
     "name": "stdout",
     "output_type": "stream",
     "text": [
      "Error processing example: 'NoneType' object has no attribute 'copy'\n",
      "Error processing example: No Javadoc comment found in the code.\n",
      "Error processing example: Javadoc comment is not properly closed.\n"
     ]
    },
    {
     "name": "stderr",
     "output_type": "stream",
     "text": [
      "Generating responses:   0%|          | 0/5 [00:00<?, ?it/s]"
     ]
    },
    {
     "name": "stdout",
     "output_type": "stream",
     "text": [
      "Error processing example: 'NoneType' object has no attribute 'copy'\n"
     ]
    },
    {
     "name": "stderr",
     "output_type": "stream",
     "text": [
      "\n"
     ]
    },
    {
     "name": "stdout",
     "output_type": "stream",
     "text": [
      "Error processing example: No Javadoc comment found in the code.\n"
     ]
    },
    {
     "name": "stderr",
     "output_type": "stream",
     "text": [
      "Generating responses:   0%|          | 0/5 [00:00<?, ?it/s]\n"
     ]
    },
    {
     "name": "stdout",
     "output_type": "stream",
     "text": [
      "Error processing example: 'NoneType' object has no attribute 'copy'\n"
     ]
    },
    {
     "name": "stderr",
     "output_type": "stream",
     "text": [
      "Generating responses:   0%|          | 0/5 [00:00<?, ?it/s]"
     ]
    },
    {
     "name": "stdout",
     "output_type": "stream",
     "text": [
      "Error processing example: 'NoneType' object has no attribute 'copy'\n"
     ]
    },
    {
     "name": "stderr",
     "output_type": "stream",
     "text": [
      "\n"
     ]
    },
    {
     "name": "stdout",
     "output_type": "stream",
     "text": [
      "Error processing example: No Javadoc comment found in the code.\n"
     ]
    },
    {
     "name": "stderr",
     "output_type": "stream",
     "text": [
      "Generating responses:   0%|          | 0/5 [00:00<?, ?it/s]"
     ]
    },
    {
     "name": "stdout",
     "output_type": "stream",
     "text": [
      "Error processing example: 'NoneType' object has no attribute 'copy'\n",
      "Error processing example: No Javadoc comment found in the code.\n"
     ]
    },
    {
     "name": "stderr",
     "output_type": "stream",
     "text": [
      "\n",
      "Generating responses:   0%|          | 0/5 [00:00<?, ?it/s]\n",
      "Processing dataset:  41%|████      | 1702/4156 [00:18<00:22, 107.99it/s]"
     ]
    },
    {
     "name": "stdout",
     "output_type": "stream",
     "text": [
      "Error processing example: 'NoneType' object has no attribute 'copy'\n",
      "Error processing example: No Javadoc comment found in the code.\n",
      "Error processing example: No Javadoc comment found in the code.\n",
      "Error processing example: No Javadoc comment found in the code.\n",
      "Error processing example: No Javadoc comment found in the code.\n"
     ]
    },
    {
     "name": "stderr",
     "output_type": "stream",
     "text": [
      "Generating responses:   0%|          | 0/5 [00:00<?, ?it/s]\n"
     ]
    },
    {
     "name": "stdout",
     "output_type": "stream",
     "text": [
      "Error processing example: 'NoneType' object has no attribute 'copy'\n",
      "Error processing example: No Javadoc comment found in the code.\n",
      "Error processing example: No Javadoc comment found in the code.\n"
     ]
    },
    {
     "name": "stderr",
     "output_type": "stream",
     "text": [
      "Generating responses:   0%|          | 0/5 [00:00<?, ?it/s]\n"
     ]
    },
    {
     "name": "stdout",
     "output_type": "stream",
     "text": [
      "Error processing example: 'NoneType' object has no attribute 'copy'\n"
     ]
    },
    {
     "name": "stderr",
     "output_type": "stream",
     "text": [
      "Generating responses:   0%|          | 0/5 [00:00<?, ?it/s]\n"
     ]
    },
    {
     "name": "stdout",
     "output_type": "stream",
     "text": [
      "Error processing example: 'NoneType' object has no attribute 'copy'\n",
      "Error processing example: No Javadoc comment found in the code.\n",
      "Error processing example: No Javadoc comment found in the code.\n"
     ]
    },
    {
     "name": "stderr",
     "output_type": "stream",
     "text": [
      "Generating responses:   0%|          | 0/5 [00:00<?, ?it/s]\n"
     ]
    },
    {
     "name": "stdout",
     "output_type": "stream",
     "text": [
      "Error processing example: 'NoneType' object has no attribute 'copy'\n"
     ]
    },
    {
     "name": "stderr",
     "output_type": "stream",
     "text": [
      "Generating responses:   0%|          | 0/5 [00:00<?, ?it/s]"
     ]
    },
    {
     "name": "stdout",
     "output_type": "stream",
     "text": [
      "Error processing example: 'NoneType' object has no attribute 'copy'\n"
     ]
    },
    {
     "name": "stderr",
     "output_type": "stream",
     "text": [
      "\n",
      "Generating responses:   0%|          | 0/5 [00:00<?, ?it/s]\n",
      "Processing dataset:  41%|████      | 1714/4156 [00:18<00:25, 96.56it/s] "
     ]
    },
    {
     "name": "stdout",
     "output_type": "stream",
     "text": [
      "Error processing example: 'NoneType' object has no attribute 'copy'\n"
     ]
    },
    {
     "name": "stderr",
     "output_type": "stream",
     "text": [
      "Generating responses:   0%|          | 0/5 [00:00<?, ?it/s]\n"
     ]
    },
    {
     "name": "stdout",
     "output_type": "stream",
     "text": [
      "Error processing example: 'NoneType' object has no attribute 'copy'\n"
     ]
    },
    {
     "name": "stderr",
     "output_type": "stream",
     "text": [
      "Generating responses:   0%|          | 0/5 [00:00<?, ?it/s]\n"
     ]
    },
    {
     "name": "stdout",
     "output_type": "stream",
     "text": [
      "Error processing example: 'NoneType' object has no attribute 'copy'\n",
      "Error processing example: No Javadoc comment found in the code.\n",
      "Error processing example: No Javadoc comment found in the code.\n",
      "Error processing example: No Javadoc comment found in the code.\n"
     ]
    },
    {
     "name": "stderr",
     "output_type": "stream",
     "text": [
      "Generating responses:   0%|          | 0/5 [00:00<?, ?it/s]\n"
     ]
    },
    {
     "name": "stdout",
     "output_type": "stream",
     "text": [
      "Error processing example: 'NoneType' object has no attribute 'copy'\n",
      "Error processing example: No Javadoc comment found in the code.\n",
      "Error processing example: No Javadoc comment found in the code.\n",
      "Error processing example: No Javadoc comment found in the code.\n",
      "Error processing example: No Javadoc comment found in the code.\n"
     ]
    },
    {
     "name": "stderr",
     "output_type": "stream",
     "text": [
      "Generating responses:   0%|          | 0/5 [00:00<?, ?it/s]\n",
      "Processing dataset:  42%|████▏     | 1725/4156 [00:18<00:24, 99.49it/s]"
     ]
    },
    {
     "name": "stdout",
     "output_type": "stream",
     "text": [
      "Error processing example: 'NoneType' object has no attribute 'copy'\n",
      "Error processing example: No Javadoc comment found in the code.\n",
      "Error processing example: No Javadoc comment found in the code.\n"
     ]
    },
    {
     "name": "stderr",
     "output_type": "stream",
     "text": [
      "Generating responses:   0%|          | 0/5 [00:00<?, ?it/s]\n"
     ]
    },
    {
     "name": "stdout",
     "output_type": "stream",
     "text": [
      "Error processing example: 'NoneType' object has no attribute 'copy'\n"
     ]
    },
    {
     "name": "stderr",
     "output_type": "stream",
     "text": [
      "Generating responses:   0%|          | 0/5 [00:00<?, ?it/s]"
     ]
    },
    {
     "name": "stdout",
     "output_type": "stream",
     "text": [
      "Error processing example: 'NoneType' object has no attribute 'copy'\n"
     ]
    },
    {
     "name": "stderr",
     "output_type": "stream",
     "text": [
      "\n",
      "Generating responses:   0%|          | 0/5 [00:00<?, ?it/s]\n"
     ]
    },
    {
     "name": "stdout",
     "output_type": "stream",
     "text": [
      "Error processing example: 'NoneType' object has no attribute 'copy'\n"
     ]
    },
    {
     "name": "stderr",
     "output_type": "stream",
     "text": [
      "Generating responses:   0%|          | 0/5 [00:00<?, ?it/s]\n"
     ]
    },
    {
     "name": "stdout",
     "output_type": "stream",
     "text": [
      "Error processing example: 'NoneType' object has no attribute 'copy'\n"
     ]
    },
    {
     "name": "stderr",
     "output_type": "stream",
     "text": [
      "Generating responses:   0%|          | 0/5 [00:00<?, ?it/s]\n"
     ]
    },
    {
     "name": "stdout",
     "output_type": "stream",
     "text": [
      "Error processing example: 'NoneType' object has no attribute 'copy'\n"
     ]
    },
    {
     "name": "stderr",
     "output_type": "stream",
     "text": [
      "Generating responses:   0%|          | 0/5 [00:00<?, ?it/s]\n"
     ]
    },
    {
     "name": "stdout",
     "output_type": "stream",
     "text": [
      "Error processing example: 'NoneType' object has no attribute 'copy'\n"
     ]
    },
    {
     "name": "stderr",
     "output_type": "stream",
     "text": [
      "Generating responses:   0%|          | 0/5 [00:00<?, ?it/s]\n"
     ]
    },
    {
     "name": "stdout",
     "output_type": "stream",
     "text": [
      "Error processing example: 'NoneType' object has no attribute 'copy'\n",
      "Error processing example: No Javadoc comment found in the code.\n"
     ]
    },
    {
     "name": "stderr",
     "output_type": "stream",
     "text": [
      "Generating responses:   0%|          | 0/5 [00:00<?, ?it/s]"
     ]
    },
    {
     "name": "stdout",
     "output_type": "stream",
     "text": [
      "Error processing example: 'NoneType' object has no attribute 'copy'\n"
     ]
    },
    {
     "name": "stderr",
     "output_type": "stream",
     "text": [
      "\n",
      "Processing dataset:  42%|████▏     | 1736/4156 [00:18<00:28, 86.04it/s]"
     ]
    },
    {
     "name": "stdout",
     "output_type": "stream",
     "text": [
      "Error processing example: No Javadoc comment found in the code.\n"
     ]
    },
    {
     "name": "stderr",
     "output_type": "stream",
     "text": [
      "Generating responses:   0%|          | 0/5 [00:00<?, ?it/s]\n"
     ]
    },
    {
     "name": "stdout",
     "output_type": "stream",
     "text": [
      "Error processing example: 'NoneType' object has no attribute 'copy'\n",
      "Error processing example: No Javadoc comment found in the code.\n",
      "Error processing example: No Javadoc comment found in the code.\n"
     ]
    },
    {
     "name": "stderr",
     "output_type": "stream",
     "text": [
      "Generating responses:   0%|          | 0/5 [00:00<?, ?it/s]\n"
     ]
    },
    {
     "name": "stdout",
     "output_type": "stream",
     "text": [
      "Error processing example: 'NoneType' object has no attribute 'copy'\n"
     ]
    },
    {
     "name": "stderr",
     "output_type": "stream",
     "text": [
      "Generating responses:   0%|          | 0/5 [00:00<?, ?it/s]\n"
     ]
    },
    {
     "name": "stdout",
     "output_type": "stream",
     "text": [
      "Error processing example: 'NoneType' object has no attribute 'copy'\n",
      "Error processing example: No Javadoc comment found in the code.\n",
      "Error processing example: No Javadoc comment found in the code.\n"
     ]
    },
    {
     "name": "stderr",
     "output_type": "stream",
     "text": [
      "Generating responses:   0%|          | 0/5 [00:00<?, ?it/s]\n"
     ]
    },
    {
     "name": "stdout",
     "output_type": "stream",
     "text": [
      "Error processing example: 'NoneType' object has no attribute 'copy'\n"
     ]
    },
    {
     "name": "stderr",
     "output_type": "stream",
     "text": [
      "Generating responses:   0%|          | 0/5 [00:00<?, ?it/s]\n",
      "Processing dataset:  42%|████▏     | 1746/4156 [00:18<00:28, 85.79it/s]"
     ]
    },
    {
     "name": "stdout",
     "output_type": "stream",
     "text": [
      "Error processing example: 'NoneType' object has no attribute 'copy'\n"
     ]
    },
    {
     "name": "stderr",
     "output_type": "stream",
     "text": [
      "Generating responses:   0%|          | 0/5 [00:00<?, ?it/s]\n"
     ]
    },
    {
     "name": "stdout",
     "output_type": "stream",
     "text": [
      "Error processing example: 'NoneType' object has no attribute 'copy'\n",
      "Error processing example: No Javadoc comment found in the code.\n",
      "Error processing example: No Javadoc comment found in the code.\n",
      "Error processing example: No Javadoc comment found in the code.\n"
     ]
    },
    {
     "name": "stderr",
     "output_type": "stream",
     "text": [
      "Generating responses:   0%|          | 0/5 [00:00<?, ?it/s]\n"
     ]
    },
    {
     "name": "stdout",
     "output_type": "stream",
     "text": [
      "Error processing example: 'NoneType' object has no attribute 'copy'\n",
      "Error processing example: No Javadoc comment found in the code.\n"
     ]
    },
    {
     "name": "stderr",
     "output_type": "stream",
     "text": [
      "Generating responses:   0%|          | 0/5 [00:00<?, ?it/s]\n"
     ]
    },
    {
     "name": "stdout",
     "output_type": "stream",
     "text": [
      "Error processing example: 'NoneType' object has no attribute 'copy'\n",
      "Error processing example: No Javadoc comment found in the code.\n"
     ]
    },
    {
     "name": "stderr",
     "output_type": "stream",
     "text": [
      "Processing dataset:  42%|████▏     | 1755/4156 [00:18<00:27, 86.70it/s]"
     ]
    },
    {
     "name": "stdout",
     "output_type": "stream",
     "text": [
      "Error processing example: No Javadoc comment found in the code.\n",
      "Error processing example: No Javadoc comment found in the code.\n",
      "Error processing example: No Javadoc comment found in the code.\n"
     ]
    },
    {
     "name": "stderr",
     "output_type": "stream",
     "text": [
      "Generating responses:   0%|          | 0/5 [00:00<?, ?it/s]\n"
     ]
    },
    {
     "name": "stdout",
     "output_type": "stream",
     "text": [
      "Error processing example: 'NoneType' object has no attribute 'copy'\n",
      "Error processing example: No Javadoc comment found in the code.\n"
     ]
    },
    {
     "name": "stderr",
     "output_type": "stream",
     "text": [
      "Generating responses:   0%|          | 0/5 [00:00<?, ?it/s]\n"
     ]
    },
    {
     "name": "stdout",
     "output_type": "stream",
     "text": [
      "Error processing example: 'NoneType' object has no attribute 'copy'\n"
     ]
    },
    {
     "name": "stderr",
     "output_type": "stream",
     "text": [
      "Generating responses:   0%|          | 0/5 [00:00<?, ?it/s]\n"
     ]
    },
    {
     "name": "stdout",
     "output_type": "stream",
     "text": [
      "Error processing example: 'NoneType' object has no attribute 'copy'\n",
      "Error processing example: No Javadoc comment found in the code.\n"
     ]
    },
    {
     "name": "stderr",
     "output_type": "stream",
     "text": [
      "Generating responses:   0%|          | 0/5 [00:00<?, ?it/s]\n"
     ]
    },
    {
     "name": "stdout",
     "output_type": "stream",
     "text": [
      "Error processing example: 'NoneType' object has no attribute 'copy'\n"
     ]
    },
    {
     "name": "stderr",
     "output_type": "stream",
     "text": [
      "Processing dataset:  42%|████▏     | 1764/4156 [00:18<00:27, 85.43it/s]"
     ]
    },
    {
     "name": "stdout",
     "output_type": "stream",
     "text": [
      "Error processing example: No Javadoc comment found in the code.\n",
      "Error processing example: No Javadoc comment found in the code.\n",
      "Error processing example: No Javadoc comment found in the code.\n",
      "Error processing example: No Javadoc comment found in the code.\n",
      "Error processing example: No Javadoc comment found in the code.\n",
      "Error processing example: No Javadoc comment found in the code.\n",
      "Error processing example: No Javadoc comment found in the code.\n"
     ]
    },
    {
     "name": "stderr",
     "output_type": "stream",
     "text": [
      "Generating responses:   0%|          | 0/5 [00:00<?, ?it/s]\n"
     ]
    },
    {
     "name": "stdout",
     "output_type": "stream",
     "text": [
      "Error processing example: 'NoneType' object has no attribute 'copy'\n"
     ]
    },
    {
     "name": "stderr",
     "output_type": "stream",
     "text": [
      "Generating responses:   0%|          | 0/5 [00:00<?, ?it/s]"
     ]
    },
    {
     "name": "stdout",
     "output_type": "stream",
     "text": [
      "Error processing example: 'NoneType' object has no attribute 'copy'\n",
      "Error processing example: No Javadoc comment found in the code.\n"
     ]
    },
    {
     "name": "stderr",
     "output_type": "stream",
     "text": [
      "\n",
      "Processing dataset:  43%|████▎     | 1775/4156 [00:18<00:26, 91.00it/s]"
     ]
    },
    {
     "name": "stdout",
     "output_type": "stream",
     "text": [
      "Error processing example: No Javadoc comment found in the code.\n",
      "Error processing example: No Javadoc comment found in the code.\n",
      "Error processing example: No Javadoc comment found in the code.\n",
      "Error processing example: No Javadoc comment found in the code.\n",
      "Error processing example: No Javadoc comment found in the code.\n"
     ]
    },
    {
     "name": "stderr",
     "output_type": "stream",
     "text": [
      "Generating responses:   0%|          | 0/5 [00:00<?, ?it/s]\n"
     ]
    },
    {
     "name": "stdout",
     "output_type": "stream",
     "text": [
      "Error processing example: 'NoneType' object has no attribute 'copy'\n",
      "Error processing example: No Javadoc comment found in the code.\n",
      "Error processing example: No Javadoc comment found in the code.\n"
     ]
    },
    {
     "name": "stderr",
     "output_type": "stream",
     "text": [
      "Generating responses:   0%|          | 0/5 [00:00<?, ?it/s]\n"
     ]
    },
    {
     "name": "stdout",
     "output_type": "stream",
     "text": [
      "Error processing example: 'NoneType' object has no attribute 'copy'\n"
     ]
    },
    {
     "name": "stderr",
     "output_type": "stream",
     "text": [
      "Generating responses:   0%|          | 0/5 [00:00<?, ?it/s]\n"
     ]
    },
    {
     "name": "stdout",
     "output_type": "stream",
     "text": [
      "Error processing example: 'NoneType' object has no attribute 'copy'\n",
      "Error processing example: No Javadoc comment found in the code.\n"
     ]
    },
    {
     "name": "stderr",
     "output_type": "stream",
     "text": [
      "Generating responses:   0%|          | 0/5 [00:00<?, ?it/s]"
     ]
    },
    {
     "name": "stdout",
     "output_type": "stream",
     "text": [
      "Error processing example: 'NoneType' object has no attribute 'copy'\n"
     ]
    },
    {
     "name": "stderr",
     "output_type": "stream",
     "text": [
      "\n",
      "Processing dataset:  43%|████▎     | 1786/4156 [00:18<00:24, 95.31it/s]"
     ]
    },
    {
     "name": "stdout",
     "output_type": "stream",
     "text": [
      "Error processing example: No Javadoc comment found in the code.\n"
     ]
    },
    {
     "name": "stderr",
     "output_type": "stream",
     "text": [
      "Generating responses:   0%|          | 0/5 [00:00<?, ?it/s]\n"
     ]
    },
    {
     "name": "stdout",
     "output_type": "stream",
     "text": [
      "Error processing example: 'NoneType' object has no attribute 'copy'\n"
     ]
    },
    {
     "name": "stderr",
     "output_type": "stream",
     "text": [
      "Generating responses:   0%|          | 0/5 [00:00<?, ?it/s]\n"
     ]
    },
    {
     "name": "stdout",
     "output_type": "stream",
     "text": [
      "Error processing example: 'NoneType' object has no attribute 'copy'\n"
     ]
    },
    {
     "name": "stderr",
     "output_type": "stream",
     "text": [
      "Generating responses:   0%|          | 0/5 [00:00<?, ?it/s]"
     ]
    },
    {
     "name": "stdout",
     "output_type": "stream",
     "text": [
      "Error processing example: 'NoneType' object has no attribute 'copy'\n",
      "Error processing example: No Javadoc comment found in the code.\n"
     ]
    },
    {
     "name": "stderr",
     "output_type": "stream",
     "text": [
      "\n",
      "Processing dataset:  43%|████▎     | 1796/4156 [00:19<00:25, 92.99it/s]"
     ]
    },
    {
     "name": "stdout",
     "output_type": "stream",
     "text": [
      "Error processing example: No Javadoc comment found in the code.\n",
      "Error processing example: No Javadoc comment found in the code.\n",
      "Error processing example: No Javadoc comment found in the code.\n",
      "Error processing example: No Javadoc comment found in the code.\n",
      "Error processing example: No Javadoc comment found in the code.\n",
      "Error processing example: No Javadoc comment found in the code.\n",
      "Error processing example: No Javadoc comment found in the code.\n",
      "Error processing example: No Javadoc comment found in the code.\n",
      "Error processing example: No Javadoc comment found in the code.\n",
      "Error processing example: No Javadoc comment found in the code.\n"
     ]
    },
    {
     "name": "stderr",
     "output_type": "stream",
     "text": [
      "Generating responses:   0%|          | 0/5 [00:00<?, ?it/s]\n"
     ]
    },
    {
     "name": "stdout",
     "output_type": "stream",
     "text": [
      "Error processing example: 'NoneType' object has no attribute 'copy'\n",
      "Error processing example: No Javadoc comment found in the code.\n",
      "Error processing example: No Javadoc comment found in the code.\n",
      "Error processing example: No Javadoc comment found in the code.\n",
      "Error processing example: No Javadoc comment found in the code.\n"
     ]
    },
    {
     "name": "stderr",
     "output_type": "stream",
     "text": [
      "Generating responses:   0%|          | 0/5 [00:00<?, ?it/s]\n"
     ]
    },
    {
     "name": "stdout",
     "output_type": "stream",
     "text": [
      "Error processing example: 'NoneType' object has no attribute 'copy'\n",
      "Error processing example: No Javadoc comment found in the code.\n"
     ]
    },
    {
     "name": "stderr",
     "output_type": "stream",
     "text": [
      "Generating responses:   0%|          | 0/5 [00:00<?, ?it/s]\n",
      "Processing dataset:  44%|████▎     | 1808/4156 [00:19<00:25, 93.50it/s]"
     ]
    },
    {
     "name": "stdout",
     "output_type": "stream",
     "text": [
      "Error processing example: 'NoneType' object has no attribute 'copy'\n"
     ]
    },
    {
     "name": "stderr",
     "output_type": "stream",
     "text": [
      "Generating responses:   0%|          | 0/5 [00:00<?, ?it/s]\n"
     ]
    },
    {
     "name": "stdout",
     "output_type": "stream",
     "text": [
      "Error processing example: 'NoneType' object has no attribute 'copy'\n"
     ]
    },
    {
     "name": "stderr",
     "output_type": "stream",
     "text": [
      "Generating responses:   0%|          | 0/5 [00:00<?, ?it/s]\n"
     ]
    },
    {
     "name": "stdout",
     "output_type": "stream",
     "text": [
      "Error processing example: 'NoneType' object has no attribute 'copy'\n",
      "Error processing example: No Javadoc comment found in the code.\n",
      "Error processing example: No Javadoc comment found in the code.\n",
      "Error processing example: No Javadoc comment found in the code.\n"
     ]
    },
    {
     "name": "stderr",
     "output_type": "stream",
     "text": [
      "Generating responses:   0%|          | 0/5 [00:00<?, ?it/s]\n"
     ]
    },
    {
     "name": "stdout",
     "output_type": "stream",
     "text": [
      "Error processing example: 'NoneType' object has no attribute 'copy'\n",
      "Error processing example: No Javadoc comment found in the code.\n",
      "Error processing example: No Javadoc comment found in the code.\n"
     ]
    },
    {
     "name": "stderr",
     "output_type": "stream",
     "text": [
      "Generating responses:   0%|          | 0/5 [00:00<?, ?it/s]\n"
     ]
    },
    {
     "name": "stdout",
     "output_type": "stream",
     "text": [
      "Error processing example: 'NoneType' object has no attribute 'copy'\n"
     ]
    },
    {
     "name": "stderr",
     "output_type": "stream",
     "text": [
      "Processing dataset:  44%|████▎     | 1818/4156 [00:19<00:28, 81.56it/s]"
     ]
    },
    {
     "name": "stdout",
     "output_type": "stream",
     "text": [
      "Error processing example: No Javadoc comment found in the code.\n",
      "Error processing example: No Javadoc comment found in the code.\n"
     ]
    },
    {
     "name": "stderr",
     "output_type": "stream",
     "text": [
      "Generating responses:   0%|          | 0/5 [00:00<?, ?it/s]\n"
     ]
    },
    {
     "name": "stdout",
     "output_type": "stream",
     "text": [
      "Error processing example: 'NoneType' object has no attribute 'copy'\n"
     ]
    },
    {
     "name": "stderr",
     "output_type": "stream",
     "text": [
      "Generating responses:   0%|          | 0/5 [00:00<?, ?it/s]\n"
     ]
    },
    {
     "name": "stdout",
     "output_type": "stream",
     "text": [
      "Error processing example: 'NoneType' object has no attribute 'copy'\n",
      "Error processing example: No Javadoc comment found in the code.\n",
      "Error processing example: No Javadoc comment found in the code.\n",
      "Error processing example: No Javadoc comment found in the code.\n"
     ]
    },
    {
     "name": "stderr",
     "output_type": "stream",
     "text": [
      "Generating responses:   0%|          | 0/5 [00:00<?, ?it/s]\n"
     ]
    },
    {
     "name": "stdout",
     "output_type": "stream",
     "text": [
      "Error processing example: 'NoneType' object has no attribute 'copy'\n",
      "Error processing example: No Javadoc comment found in the code.\n",
      "Error processing example: No Javadoc comment found in the code.\n",
      "Error processing example: No Javadoc comment found in the code.\n",
      "Error processing example: No Javadoc comment found in the code.\n"
     ]
    },
    {
     "name": "stderr",
     "output_type": "stream",
     "text": [
      "Generating responses:   0%|          | 0/5 [00:00<?, ?it/s]\n",
      "Processing dataset:  44%|████▍     | 1830/4156 [00:19<00:27, 85.17it/s]"
     ]
    },
    {
     "name": "stdout",
     "output_type": "stream",
     "text": [
      "Error processing example: 'NoneType' object has no attribute 'copy'\n",
      "Error processing example: No Javadoc comment found in the code.\n",
      "Error processing example: No Javadoc comment found in the code.\n"
     ]
    },
    {
     "name": "stderr",
     "output_type": "stream",
     "text": [
      "Generating responses:   0%|          | 0/5 [00:00<?, ?it/s]\n"
     ]
    },
    {
     "name": "stdout",
     "output_type": "stream",
     "text": [
      "Error processing example: 'NoneType' object has no attribute 'copy'\n",
      "Error processing example: No Javadoc comment found in the code.\n"
     ]
    },
    {
     "name": "stderr",
     "output_type": "stream",
     "text": [
      "Generating responses:   0%|          | 0/5 [00:00<?, ?it/s]\n"
     ]
    },
    {
     "name": "stdout",
     "output_type": "stream",
     "text": [
      "Error processing example: 'NoneType' object has no attribute 'copy'\n"
     ]
    },
    {
     "name": "stderr",
     "output_type": "stream",
     "text": [
      "Generating responses:   0%|          | 0/5 [00:00<?, ?it/s]"
     ]
    },
    {
     "name": "stdout",
     "output_type": "stream",
     "text": [
      "Error processing example: 'NoneType' object has no attribute 'copy'\n"
     ]
    },
    {
     "name": "stderr",
     "output_type": "stream",
     "text": [
      "\n",
      "Generating responses:   0%|          | 0/5 [00:00<?, ?it/s]\n"
     ]
    },
    {
     "name": "stdout",
     "output_type": "stream",
     "text": [
      "Error processing example: 'NoneType' object has no attribute 'copy'\n"
     ]
    },
    {
     "name": "stderr",
     "output_type": "stream",
     "text": [
      "Generating responses:   0%|          | 0/6 [00:00<?, ?it/s]\n",
      "Processing dataset:  44%|████▍     | 1839/4156 [00:19<00:30, 76.71it/s]"
     ]
    },
    {
     "name": "stdout",
     "output_type": "stream",
     "text": [
      "Error processing example: 'NoneType' object has no attribute 'copy'\n",
      "Error processing example: No Javadoc comment found in the code.\n"
     ]
    },
    {
     "name": "stderr",
     "output_type": "stream",
     "text": [
      "Generating responses:   0%|          | 0/6 [00:00<?, ?it/s]\n"
     ]
    },
    {
     "name": "stdout",
     "output_type": "stream",
     "text": [
      "Error processing example: 'NoneType' object has no attribute 'copy'\n",
      "Error processing example: No Javadoc comment found in the code.\n",
      "Error processing example: No Javadoc comment found in the code.\n"
     ]
    },
    {
     "name": "stderr",
     "output_type": "stream",
     "text": [
      "Generating responses:   0%|          | 0/6 [00:00<?, ?it/s]\n"
     ]
    },
    {
     "name": "stdout",
     "output_type": "stream",
     "text": [
      "Error processing example: 'NoneType' object has no attribute 'copy'\n"
     ]
    },
    {
     "name": "stderr",
     "output_type": "stream",
     "text": [
      "Generating responses:   0%|          | 0/6 [00:00<?, ?it/s]\n"
     ]
    },
    {
     "name": "stdout",
     "output_type": "stream",
     "text": [
      "Error processing example: 'NoneType' object has no attribute 'copy'\n"
     ]
    },
    {
     "name": "stderr",
     "output_type": "stream",
     "text": [
      "Generating responses:   0%|          | 0/6 [00:00<?, ?it/s]\n"
     ]
    },
    {
     "name": "stdout",
     "output_type": "stream",
     "text": [
      "Error processing example: 'NoneType' object has no attribute 'copy'\n"
     ]
    },
    {
     "name": "stderr",
     "output_type": "stream",
     "text": [
      "Generating responses:   0%|          | 0/6 [00:00<?, ?it/s]\n"
     ]
    },
    {
     "name": "stdout",
     "output_type": "stream",
     "text": [
      "Error processing example: 'NoneType' object has no attribute 'copy'\n"
     ]
    },
    {
     "name": "stderr",
     "output_type": "stream",
     "text": [
      "Generating responses:   0%|          | 0/6 [00:00<?, ?it/s]\n",
      "Processing dataset:  44%|████▍     | 1847/4156 [00:19<00:34, 66.93it/s]"
     ]
    },
    {
     "name": "stdout",
     "output_type": "stream",
     "text": [
      "Error processing example: 'NoneType' object has no attribute 'copy'\n"
     ]
    },
    {
     "name": "stderr",
     "output_type": "stream",
     "text": [
      "Generating responses:   0%|          | 0/6 [00:00<?, ?it/s]\n"
     ]
    },
    {
     "name": "stdout",
     "output_type": "stream",
     "text": [
      "Error processing example: 'NoneType' object has no attribute 'copy'\n"
     ]
    },
    {
     "name": "stderr",
     "output_type": "stream",
     "text": [
      "Generating responses:   0%|          | 0/6 [00:00<?, ?it/s]\n"
     ]
    },
    {
     "name": "stdout",
     "output_type": "stream",
     "text": [
      "Error processing example: 'NoneType' object has no attribute 'copy'\n"
     ]
    },
    {
     "name": "stderr",
     "output_type": "stream",
     "text": [
      "Generating responses:   0%|          | 0/6 [00:00<?, ?it/s]\n"
     ]
    },
    {
     "name": "stdout",
     "output_type": "stream",
     "text": [
      "Error processing example: 'NoneType' object has no attribute 'copy'\n"
     ]
    },
    {
     "name": "stderr",
     "output_type": "stream",
     "text": [
      "Generating responses:   0%|          | 0/6 [00:00<?, ?it/s]"
     ]
    },
    {
     "name": "stdout",
     "output_type": "stream",
     "text": [
      "Error processing example: 'NoneType' object has no attribute 'copy'\n"
     ]
    },
    {
     "name": "stderr",
     "output_type": "stream",
     "text": [
      "\n"
     ]
    },
    {
     "name": "stdout",
     "output_type": "stream",
     "text": [
      "Error processing example: No Javadoc comment found in the code.\n"
     ]
    },
    {
     "name": "stderr",
     "output_type": "stream",
     "text": [
      "Generating responses:   0%|          | 0/6 [00:00<?, ?it/s]\n"
     ]
    },
    {
     "name": "stdout",
     "output_type": "stream",
     "text": [
      "Error processing example: 'NoneType' object has no attribute 'copy'\n",
      "Error processing example: No Javadoc comment found in the code.\n"
     ]
    },
    {
     "name": "stderr",
     "output_type": "stream",
     "text": [
      "Generating responses:   0%|          | 0/6 [00:00<?, ?it/s]\n"
     ]
    },
    {
     "name": "stdout",
     "output_type": "stream",
     "text": [
      "Error processing example: 'NoneType' object has no attribute 'copy'\n",
      "Error processing example: No Javadoc comment found in the code.\n",
      "Error processing example: No Javadoc comment found in the code.\n",
      "Error processing example: No Javadoc comment found in the code.\n",
      "Error processing example: No Javadoc comment found in the code.\n"
     ]
    },
    {
     "name": "stderr",
     "output_type": "stream",
     "text": [
      "Generating responses:   0%|          | 0/6 [00:00<?, ?it/s]\n",
      "Processing dataset:  45%|████▍     | 1860/4156 [00:19<00:28, 80.66it/s]"
     ]
    },
    {
     "name": "stdout",
     "output_type": "stream",
     "text": [
      "Error processing example: 'NoneType' object has no attribute 'copy'\n",
      "Error processing example: No Javadoc comment found in the code.\n"
     ]
    },
    {
     "name": "stderr",
     "output_type": "stream",
     "text": [
      "Generating responses:   0%|          | 0/6 [00:00<?, ?it/s]\n"
     ]
    },
    {
     "name": "stdout",
     "output_type": "stream",
     "text": [
      "Error processing example: 'NoneType' object has no attribute 'copy'\n",
      "Error processing example: No Javadoc comment found in the code.\n",
      "Error processing example: No Javadoc comment found in the code.\n",
      "Error processing example: No Javadoc comment found in the code.\n",
      "Error processing example: No Javadoc comment found in the code.\n"
     ]
    },
    {
     "name": "stderr",
     "output_type": "stream",
     "text": [
      "Generating responses:   0%|          | 0/6 [00:00<?, ?it/s]\n"
     ]
    },
    {
     "name": "stdout",
     "output_type": "stream",
     "text": [
      "Error processing example: 'NoneType' object has no attribute 'copy'\n",
      "Error processing example: No Javadoc comment found in the code.\n",
      "Error processing example: No Javadoc comment found in the code.\n",
      "Error processing example: No Javadoc comment found in the code.\n",
      "Error processing example: No Javadoc comment found in the code.\n",
      "Error processing example: No Javadoc comment found in the code.\n"
     ]
    },
    {
     "name": "stderr",
     "output_type": "stream",
     "text": [
      "Processing dataset:  45%|████▌     | 1873/4156 [00:20<00:24, 92.49it/s]"
     ]
    },
    {
     "name": "stdout",
     "output_type": "stream",
     "text": [
      "Error processing example: No Javadoc comment found in the code.\n",
      "Error processing example: No Javadoc comment found in the code.\n",
      "Error processing example: No Javadoc comment found in the code.\n",
      "Error processing example: No Javadoc comment found in the code.\n",
      "Error processing example: No Javadoc comment found in the code.\n",
      "Error processing example: No Javadoc comment found in the code.\n"
     ]
    },
    {
     "name": "stderr",
     "output_type": "stream",
     "text": [
      "Generating responses:   0%|          | 0/6 [00:00<?, ?it/s]\n"
     ]
    },
    {
     "name": "stdout",
     "output_type": "stream",
     "text": [
      "Error processing example: 'NoneType' object has no attribute 'copy'\n",
      "Error processing example: No Javadoc comment found in the code.\n",
      "Error processing example: No Javadoc comment found in the code.\n"
     ]
    },
    {
     "name": "stderr",
     "output_type": "stream",
     "text": [
      "Generating responses:   0%|          | 0/6 [00:00<?, ?it/s]\n"
     ]
    },
    {
     "name": "stdout",
     "output_type": "stream",
     "text": [
      "Error processing example: 'NoneType' object has no attribute 'copy'\n"
     ]
    },
    {
     "name": "stderr",
     "output_type": "stream",
     "text": [
      "Generating responses:   0%|          | 0/6 [00:00<?, ?it/s]\n",
      "Processing dataset:  45%|████▌     | 1883/4156 [00:20<00:26, 87.39it/s]"
     ]
    },
    {
     "name": "stdout",
     "output_type": "stream",
     "text": [
      "Error processing example: 'NoneType' object has no attribute 'copy'\n",
      "Error processing example: No Javadoc comment found in the code.\n"
     ]
    },
    {
     "name": "stderr",
     "output_type": "stream",
     "text": [
      "Generating responses:   0%|          | 0/6 [00:00<?, ?it/s]\n"
     ]
    },
    {
     "name": "stdout",
     "output_type": "stream",
     "text": [
      "Error processing example: 'NoneType' object has no attribute 'copy'\n",
      "Error processing example: No Javadoc comment found in the code.\n",
      "Error processing example: No Javadoc comment found in the code.\n"
     ]
    },
    {
     "name": "stderr",
     "output_type": "stream",
     "text": [
      "Generating responses:   0%|          | 0/6 [00:00<?, ?it/s]"
     ]
    },
    {
     "name": "stdout",
     "output_type": "stream",
     "text": [
      "Error processing example: 'NoneType' object has no attribute 'copy'\n",
      "Error processing example: No Javadoc comment found in the code.\n"
     ]
    },
    {
     "name": "stderr",
     "output_type": "stream",
     "text": [
      "\n",
      "Generating responses:   0%|          | 0/6 [00:00<?, ?it/s]\n"
     ]
    },
    {
     "name": "stdout",
     "output_type": "stream",
     "text": [
      "Error processing example: 'NoneType' object has no attribute 'copy'\n",
      "Error processing example: No Javadoc comment found in the code.\n"
     ]
    },
    {
     "name": "stderr",
     "output_type": "stream",
     "text": [
      "Generating responses:   0%|          | 0/6 [00:00<?, ?it/s]"
     ]
    },
    {
     "name": "stdout",
     "output_type": "stream",
     "text": [
      "Error processing example: 'NoneType' object has no attribute 'copy'\n"
     ]
    },
    {
     "name": "stderr",
     "output_type": "stream",
     "text": [
      "\n",
      "Processing dataset:  46%|████▌     | 1893/4156 [00:20<00:25, 87.55it/s]"
     ]
    },
    {
     "name": "stdout",
     "output_type": "stream",
     "text": [
      "Error processing example: No Javadoc comment found in the code.\n"
     ]
    },
    {
     "name": "stderr",
     "output_type": "stream",
     "text": [
      "Generating responses:   0%|          | 0/6 [00:00<?, ?it/s]\n"
     ]
    },
    {
     "name": "stdout",
     "output_type": "stream",
     "text": [
      "Error processing example: 'NoneType' object has no attribute 'copy'\n",
      "Error processing example: No Javadoc comment found in the code.\n"
     ]
    },
    {
     "name": "stderr",
     "output_type": "stream",
     "text": [
      "Generating responses:   0%|          | 0/6 [00:00<?, ?it/s]\n"
     ]
    },
    {
     "name": "stdout",
     "output_type": "stream",
     "text": [
      "Error processing example: 'NoneType' object has no attribute 'copy'\n",
      "Error processing example: No Javadoc comment found in the code.\n"
     ]
    },
    {
     "name": "stderr",
     "output_type": "stream",
     "text": [
      "Generating responses:   0%|          | 0/6 [00:00<?, ?it/s]\n"
     ]
    },
    {
     "name": "stdout",
     "output_type": "stream",
     "text": [
      "Error processing example: 'NoneType' object has no attribute 'copy'\n"
     ]
    },
    {
     "name": "stderr",
     "output_type": "stream",
     "text": [
      "Generating responses:   0%|          | 0/6 [00:00<?, ?it/s]\n",
      "Processing dataset:  46%|████▌     | 1903/4156 [00:20<00:26, 84.60it/s]"
     ]
    },
    {
     "name": "stdout",
     "output_type": "stream",
     "text": [
      "Error processing example: 'NoneType' object has no attribute 'copy'\n",
      "Error processing example: No Javadoc comment found in the code.\n",
      "Error processing example: No Javadoc comment found in the code.\n",
      "Error processing example: No Javadoc comment found in the code.\n",
      "Error processing example: No Javadoc comment found in the code.\n",
      "Error processing example: No Javadoc comment found in the code.\n",
      "Error processing example: No Javadoc comment found in the code.\n",
      "Error processing example: No Javadoc comment found in the code.\n",
      "Error processing example: No Javadoc comment found in the code.\n"
     ]
    },
    {
     "name": "stderr",
     "output_type": "stream",
     "text": [
      "Generating responses:   0%|          | 0/6 [00:00<?, ?it/s]\n"
     ]
    },
    {
     "name": "stdout",
     "output_type": "stream",
     "text": [
      "Error processing example: 'NoneType' object has no attribute 'copy'\n",
      "Error processing example: No Javadoc comment found in the code.\n",
      "Error processing example: No Javadoc comment found in the code.\n",
      "Error processing example: No Javadoc comment found in the code.\n",
      "Error processing example: No Javadoc comment found in the code.\n",
      "Error processing example: No Javadoc comment found in the code.\n",
      "Error processing example: No Javadoc comment found in the code.\n",
      "Error processing example: No Javadoc comment found in the code.\n",
      "Error processing example: No Javadoc comment found in the code.\n"
     ]
    },
    {
     "name": "stderr",
     "output_type": "stream",
     "text": [
      "Generating responses:   0%|          | 0/6 [00:00<?, ?it/s]\n",
      "Processing dataset:  46%|████▌     | 1917/4156 [00:20<00:23, 95.49it/s]"
     ]
    },
    {
     "name": "stdout",
     "output_type": "stream",
     "text": [
      "Error processing example: 'NoneType' object has no attribute 'copy'\n"
     ]
    },
    {
     "name": "stderr",
     "output_type": "stream",
     "text": [
      "Generating responses:   0%|          | 0/6 [00:00<?, ?it/s]"
     ]
    },
    {
     "name": "stdout",
     "output_type": "stream",
     "text": [
      "Error processing example: 'NoneType' object has no attribute 'copy'\n"
     ]
    },
    {
     "name": "stderr",
     "output_type": "stream",
     "text": [
      "\n",
      "Generating responses:   0%|          | 0/6 [00:00<?, ?it/s]\n"
     ]
    },
    {
     "name": "stdout",
     "output_type": "stream",
     "text": [
      "Error processing example: 'NoneType' object has no attribute 'copy'\n"
     ]
    },
    {
     "name": "stderr",
     "output_type": "stream",
     "text": [
      "Generating responses:   0%|          | 0/6 [00:00<?, ?it/s]\n"
     ]
    },
    {
     "name": "stdout",
     "output_type": "stream",
     "text": [
      "Error processing example: 'NoneType' object has no attribute 'copy'\n",
      "Error processing example: No Javadoc comment found in the code.\n"
     ]
    },
    {
     "name": "stderr",
     "output_type": "stream",
     "text": [
      "Generating responses:   0%|          | 0/6 [00:00<?, ?it/s]\n"
     ]
    },
    {
     "name": "stdout",
     "output_type": "stream",
     "text": [
      "Error processing example: 'NoneType' object has no attribute 'copy'\n"
     ]
    },
    {
     "name": "stderr",
     "output_type": "stream",
     "text": [
      "Generating responses:   0%|          | 0/6 [00:00<?, ?it/s]"
     ]
    },
    {
     "name": "stdout",
     "output_type": "stream",
     "text": [
      "Error processing example: 'NoneType' object has no attribute 'copy'\n"
     ]
    },
    {
     "name": "stderr",
     "output_type": "stream",
     "text": [
      "\n"
     ]
    },
    {
     "name": "stdout",
     "output_type": "stream",
     "text": [
      "Error processing example: No Javadoc comment found in the code.\n",
      "Error processing example: No Javadoc comment found in the code.\n",
      "Error processing example: No Javadoc comment found in the code.\n"
     ]
    },
    {
     "name": "stderr",
     "output_type": "stream",
     "text": [
      "Generating responses:   0%|          | 0/6 [00:00<?, ?it/s]\n",
      "Processing dataset:  46%|████▋     | 1927/4156 [00:20<00:27, 81.25it/s]"
     ]
    },
    {
     "name": "stdout",
     "output_type": "stream",
     "text": [
      "Error processing example: 'NoneType' object has no attribute 'copy'\n",
      "Error processing example: No Javadoc comment found in the code.\n"
     ]
    },
    {
     "name": "stderr",
     "output_type": "stream",
     "text": [
      "Generating responses:   0%|          | 0/6 [00:00<?, ?it/s]\n"
     ]
    },
    {
     "name": "stdout",
     "output_type": "stream",
     "text": [
      "Error processing example: 'NoneType' object has no attribute 'copy'\n"
     ]
    },
    {
     "name": "stderr",
     "output_type": "stream",
     "text": [
      "Generating responses:   0%|          | 0/6 [00:00<?, ?it/s]\n"
     ]
    },
    {
     "name": "stdout",
     "output_type": "stream",
     "text": [
      "Error processing example: 'NoneType' object has no attribute 'copy'\n"
     ]
    },
    {
     "name": "stderr",
     "output_type": "stream",
     "text": [
      "Generating responses:   0%|          | 0/6 [00:00<?, ?it/s]\n"
     ]
    },
    {
     "name": "stdout",
     "output_type": "stream",
     "text": [
      "Error processing example: 'NoneType' object has no attribute 'copy'\n",
      "Error processing example: No Javadoc comment found in the code.\n",
      "Error processing example: No Javadoc comment found in the code.\n",
      "Error processing example: No Javadoc comment found in the code.\n"
     ]
    },
    {
     "name": "stderr",
     "output_type": "stream",
     "text": [
      "Generating responses:   0%|          | 0/6 [00:00<?, ?it/s]\n"
     ]
    },
    {
     "name": "stdout",
     "output_type": "stream",
     "text": [
      "Error processing example: 'NoneType' object has no attribute 'copy'\n"
     ]
    },
    {
     "name": "stderr",
     "output_type": "stream",
     "text": [
      "Generating responses:   0%|          | 0/6 [00:00<?, ?it/s]\n",
      "Processing dataset:  47%|████▋     | 1936/4156 [00:20<00:32, 67.56it/s]"
     ]
    },
    {
     "name": "stdout",
     "output_type": "stream",
     "text": [
      "Error processing example: 'NoneType' object has no attribute 'copy'\n"
     ]
    },
    {
     "name": "stderr",
     "output_type": "stream",
     "text": [
      "Generating responses:   0%|          | 0/6 [00:00<?, ?it/s]\n"
     ]
    },
    {
     "name": "stdout",
     "output_type": "stream",
     "text": [
      "Error processing example: 'NoneType' object has no attribute 'copy'\n"
     ]
    },
    {
     "name": "stderr",
     "output_type": "stream",
     "text": [
      "Generating responses:   0%|          | 0/6 [00:00<?, ?it/s]\n"
     ]
    },
    {
     "name": "stdout",
     "output_type": "stream",
     "text": [
      "Error processing example: 'NoneType' object has no attribute 'copy'\n",
      "Error processing example: No Javadoc comment found in the code.\n",
      "Error processing example: No Javadoc comment found in the code.\n",
      "Error processing example: No Javadoc comment found in the code.\n",
      "Error processing example: No Javadoc comment found in the code.\n"
     ]
    },
    {
     "name": "stderr",
     "output_type": "stream",
     "text": [
      "Generating responses:   0%|          | 0/6 [00:00<?, ?it/s]\n"
     ]
    },
    {
     "name": "stdout",
     "output_type": "stream",
     "text": [
      "Error processing example: 'NoneType' object has no attribute 'copy'\n"
     ]
    },
    {
     "name": "stderr",
     "output_type": "stream",
     "text": [
      "Generating responses:   0%|          | 0/6 [00:00<?, ?it/s]\n",
      "Processing dataset:  47%|████▋     | 1944/4156 [00:21<00:31, 69.65it/s]"
     ]
    },
    {
     "name": "stdout",
     "output_type": "stream",
     "text": [
      "Error processing example: 'NoneType' object has no attribute 'copy'\n",
      "Error processing example: No Javadoc comment found in the code.\n"
     ]
    },
    {
     "name": "stderr",
     "output_type": "stream",
     "text": [
      "Generating responses:   0%|          | 0/6 [00:00<?, ?it/s]\n"
     ]
    },
    {
     "name": "stdout",
     "output_type": "stream",
     "text": [
      "Error processing example: 'NoneType' object has no attribute 'copy'\n",
      "Error processing example: No Javadoc comment found in the code.\n",
      "Error processing example: No Javadoc comment found in the code.\n",
      "Error processing example: No Javadoc comment found in the code.\n"
     ]
    },
    {
     "name": "stderr",
     "output_type": "stream",
     "text": [
      "Generating responses:   0%|          | 0/6 [00:00<?, ?it/s]\n"
     ]
    },
    {
     "name": "stdout",
     "output_type": "stream",
     "text": [
      "Error processing example: 'NoneType' object has no attribute 'copy'\n",
      "Error processing example: No Javadoc comment found in the code.\n"
     ]
    },
    {
     "name": "stderr",
     "output_type": "stream",
     "text": [
      "Generating responses:   0%|          | 0/6 [00:00<?, ?it/s]\n"
     ]
    },
    {
     "name": "stdout",
     "output_type": "stream",
     "text": [
      "Error processing example: 'NoneType' object has no attribute 'copy'\n"
     ]
    },
    {
     "name": "stderr",
     "output_type": "stream",
     "text": [
      "Generating responses:   0%|          | 0/6 [00:00<?, ?it/s]\n"
     ]
    },
    {
     "name": "stdout",
     "output_type": "stream",
     "text": [
      "Error processing example: 'NoneType' object has no attribute 'copy'\n",
      "Error processing example: No Javadoc comment found in the code.\n"
     ]
    },
    {
     "name": "stderr",
     "output_type": "stream",
     "text": [
      "Generating responses:   0%|          | 0/6 [00:00<?, ?it/s]\n",
      "Processing dataset:  47%|████▋     | 1955/4156 [00:21<00:28, 78.44it/s]"
     ]
    },
    {
     "name": "stdout",
     "output_type": "stream",
     "text": [
      "Error processing example: 'NoneType' object has no attribute 'copy'\n",
      "Error processing example: No Javadoc comment found in the code.\n",
      "Error processing example: No Javadoc comment found in the code.\n"
     ]
    },
    {
     "name": "stderr",
     "output_type": "stream",
     "text": [
      "Generating responses:   0%|          | 0/6 [00:00<?, ?it/s]\n"
     ]
    },
    {
     "name": "stdout",
     "output_type": "stream",
     "text": [
      "Error processing example: 'NoneType' object has no attribute 'copy'\n",
      "Error processing example: No Javadoc comment found in the code.\n",
      "Error processing example: No Javadoc comment found in the code.\n",
      "Error processing example: No Javadoc comment found in the code.\n"
     ]
    },
    {
     "name": "stderr",
     "output_type": "stream",
     "text": [
      "Generating responses:   0%|          | 0/6 [00:00<?, ?it/s]\n"
     ]
    },
    {
     "name": "stdout",
     "output_type": "stream",
     "text": [
      "Error processing example: 'NoneType' object has no attribute 'copy'\n"
     ]
    },
    {
     "name": "stderr",
     "output_type": "stream",
     "text": [
      "Generating responses:   0%|          | 0/6 [00:00<?, ?it/s]\n"
     ]
    },
    {
     "name": "stdout",
     "output_type": "stream",
     "text": [
      "Error processing example: 'NoneType' object has no attribute 'copy'\n",
      "Error processing example: No Javadoc comment found in the code.\n",
      "Error processing example: No Javadoc comment found in the code.\n",
      "Error processing example: No Javadoc comment found in the code.\n"
     ]
    },
    {
     "name": "stderr",
     "output_type": "stream",
     "text": [
      "Generating responses:   0%|          | 0/6 [00:00<?, ?it/s]\n",
      "Processing dataset:  47%|████▋     | 1967/4156 [00:21<00:25, 86.66it/s]"
     ]
    },
    {
     "name": "stdout",
     "output_type": "stream",
     "text": [
      "Error processing example: 'NoneType' object has no attribute 'copy'\n",
      "Error processing example: No Javadoc comment found in the code.\n"
     ]
    },
    {
     "name": "stderr",
     "output_type": "stream",
     "text": [
      "Generating responses:   0%|          | 0/6 [00:00<?, ?it/s]\n"
     ]
    },
    {
     "name": "stdout",
     "output_type": "stream",
     "text": [
      "Error processing example: 'NoneType' object has no attribute 'copy'\n",
      "Error processing example: No Javadoc comment found in the code.\n"
     ]
    },
    {
     "name": "stderr",
     "output_type": "stream",
     "text": [
      "Generating responses:   0%|          | 0/6 [00:00<?, ?it/s]\n"
     ]
    },
    {
     "name": "stdout",
     "output_type": "stream",
     "text": [
      "Error processing example: 'NoneType' object has no attribute 'copy'\n"
     ]
    },
    {
     "name": "stderr",
     "output_type": "stream",
     "text": [
      "Generating responses:   0%|          | 0/6 [00:00<?, ?it/s]\n"
     ]
    },
    {
     "name": "stdout",
     "output_type": "stream",
     "text": [
      "Error processing example: 'NoneType' object has no attribute 'copy'\n"
     ]
    },
    {
     "name": "stderr",
     "output_type": "stream",
     "text": [
      "Generating responses:   0%|          | 0/6 [00:00<?, ?it/s]\n"
     ]
    },
    {
     "name": "stdout",
     "output_type": "stream",
     "text": [
      "Error processing example: 'NoneType' object has no attribute 'copy'\n",
      "Error processing example: No Javadoc comment found in the code.\n",
      "Error processing example: No Javadoc comment found in the code.\n"
     ]
    },
    {
     "name": "stderr",
     "output_type": "stream",
     "text": [
      "Processing dataset:  48%|████▊     | 1978/4156 [00:21<00:23, 92.51it/s]"
     ]
    },
    {
     "name": "stdout",
     "output_type": "stream",
     "text": [
      "Error processing example: No Javadoc comment found in the code.\n",
      "Error processing example: No Javadoc comment found in the code.\n",
      "Error processing example: No Javadoc comment found in the code.\n",
      "Error processing example: No Javadoc comment found in the code.\n",
      "Error processing example: No Javadoc comment found in the code.\n"
     ]
    },
    {
     "name": "stderr",
     "output_type": "stream",
     "text": [
      "Generating responses:   0%|          | 0/6 [00:00<?, ?it/s]\n"
     ]
    },
    {
     "name": "stdout",
     "output_type": "stream",
     "text": [
      "Error processing example: 'NoneType' object has no attribute 'copy'\n"
     ]
    },
    {
     "name": "stderr",
     "output_type": "stream",
     "text": [
      "Generating responses:   0%|          | 0/6 [00:00<?, ?it/s]\n"
     ]
    },
    {
     "name": "stdout",
     "output_type": "stream",
     "text": [
      "Error processing example: 'NoneType' object has no attribute 'copy'\n",
      "Error processing example: No Javadoc comment found in the code.\n",
      "Error processing example: No Javadoc comment found in the code.\n",
      "Error processing example: No Javadoc comment found in the code.\n"
     ]
    },
    {
     "name": "stderr",
     "output_type": "stream",
     "text": [
      "Generating responses:   0%|          | 0/6 [00:00<?, ?it/s]\n"
     ]
    },
    {
     "name": "stdout",
     "output_type": "stream",
     "text": [
      "Error processing example: 'NoneType' object has no attribute 'copy'\n",
      "Error processing example: No Javadoc comment found in the code.\n"
     ]
    },
    {
     "name": "stderr",
     "output_type": "stream",
     "text": [
      "Processing dataset:  48%|████▊     | 1988/4156 [00:21<00:23, 91.40it/s]"
     ]
    },
    {
     "name": "stdout",
     "output_type": "stream",
     "text": [
      "Error processing example: No Javadoc comment found in the code.\n",
      "Error processing example: No Javadoc comment found in the code.\n"
     ]
    },
    {
     "name": "stderr",
     "output_type": "stream",
     "text": [
      "Generating responses:   0%|          | 0/6 [00:00<?, ?it/s]\n"
     ]
    },
    {
     "name": "stdout",
     "output_type": "stream",
     "text": [
      "Error processing example: 'NoneType' object has no attribute 'copy'\n"
     ]
    },
    {
     "name": "stderr",
     "output_type": "stream",
     "text": [
      "Generating responses:   0%|          | 0/6 [00:00<?, ?it/s]\n"
     ]
    },
    {
     "name": "stdout",
     "output_type": "stream",
     "text": [
      "Error processing example: 'NoneType' object has no attribute 'copy'\n"
     ]
    },
    {
     "name": "stderr",
     "output_type": "stream",
     "text": [
      "Generating responses:   0%|          | 0/6 [00:00<?, ?it/s]"
     ]
    },
    {
     "name": "stdout",
     "output_type": "stream",
     "text": [
      "Error processing example: 'NoneType' object has no attribute 'copy'\n"
     ]
    },
    {
     "name": "stderr",
     "output_type": "stream",
     "text": [
      "\n",
      "Generating responses:   0%|          | 0/6 [00:00<?, ?it/s]\n"
     ]
    },
    {
     "name": "stdout",
     "output_type": "stream",
     "text": [
      "Error processing example: 'NoneType' object has no attribute 'copy'\n",
      "Error processing example: No Javadoc comment found in the code.\n"
     ]
    },
    {
     "name": "stderr",
     "output_type": "stream",
     "text": [
      "Processing dataset:  48%|████▊     | 1998/4156 [00:21<00:24, 86.95it/s]"
     ]
    },
    {
     "name": "stdout",
     "output_type": "stream",
     "text": [
      "Error processing example: No Javadoc comment found in the code.\n",
      "Error processing example: No Javadoc comment found in the code.\n",
      "Error processing example: No Javadoc comment found in the code.\n",
      "Error processing example: No Javadoc comment found in the code.\n",
      "Error processing example: No Javadoc comment found in the code.\n",
      "Error processing example: No Javadoc comment found in the code.\n",
      "Error processing example: No Javadoc comment found in the code.\n",
      "Error processing example: No Javadoc comment found in the code.\n",
      "Error processing example: No Javadoc comment found in the code.\n",
      "Error processing example: No Javadoc comment found in the code.\n"
     ]
    },
    {
     "name": "stderr",
     "output_type": "stream",
     "text": [
      "Generating responses:   0%|          | 0/6 [00:00<?, ?it/s]\n"
     ]
    },
    {
     "name": "stdout",
     "output_type": "stream",
     "text": [
      "Error processing example: 'NoneType' object has no attribute 'copy'\n"
     ]
    },
    {
     "name": "stderr",
     "output_type": "stream",
     "text": [
      "Generating responses:   0%|          | 0/6 [00:00<?, ?it/s]"
     ]
    },
    {
     "name": "stdout",
     "output_type": "stream",
     "text": [
      "Error processing example: 'NoneType' object has no attribute 'copy'\n",
      "Error processing example: No Javadoc comment found in the code.\n",
      "Error processing example: No Javadoc comment found in the code.\n"
     ]
    },
    {
     "name": "stderr",
     "output_type": "stream",
     "text": [
      "\n",
      "Generating responses:   0%|          | 0/6 [00:00<?, ?it/s]\n"
     ]
    },
    {
     "name": "stdout",
     "output_type": "stream",
     "text": [
      "Error processing example: 'NoneType' object has no attribute 'copy'\n",
      "Error processing example: No Javadoc comment found in the code.\n"
     ]
    },
    {
     "name": "stderr",
     "output_type": "stream",
     "text": [
      "Processing dataset:  48%|████▊     | 2011/4156 [00:21<00:22, 95.95it/s]"
     ]
    },
    {
     "name": "stdout",
     "output_type": "stream",
     "text": [
      "Error processing example: No Javadoc comment found in the code.\n",
      "Error processing example: No Javadoc comment found in the code.\n",
      "Error processing example: No Javadoc comment found in the code.\n"
     ]
    },
    {
     "name": "stderr",
     "output_type": "stream",
     "text": [
      "Generating responses:   0%|          | 0/6 [00:00<?, ?it/s]\n"
     ]
    },
    {
     "name": "stdout",
     "output_type": "stream",
     "text": [
      "Error processing example: 'NoneType' object has no attribute 'copy'\n",
      "Error processing example: No Javadoc comment found in the code.\n",
      "Error processing example: No Javadoc comment found in the code.\n",
      "Error processing example: No Javadoc comment found in the code.\n",
      "Error processing example: No Javadoc comment found in the code.\n"
     ]
    },
    {
     "name": "stderr",
     "output_type": "stream",
     "text": [
      "Generating responses:   0%|          | 0/6 [00:00<?, ?it/s]\n"
     ]
    },
    {
     "name": "stdout",
     "output_type": "stream",
     "text": [
      "Error processing example: 'NoneType' object has no attribute 'copy'\n",
      "Error processing example: No Javadoc comment found in the code.\n"
     ]
    },
    {
     "name": "stderr",
     "output_type": "stream",
     "text": [
      "Generating responses:   0%|          | 0/6 [00:00<?, ?it/s]"
     ]
    },
    {
     "name": "stdout",
     "output_type": "stream",
     "text": [
      "Error processing example: 'NoneType' object has no attribute 'copy'\n"
     ]
    },
    {
     "name": "stderr",
     "output_type": "stream",
     "text": [
      "\n",
      "Processing dataset:  49%|████▊     | 2023/4156 [00:21<00:20, 101.83it/s]"
     ]
    },
    {
     "name": "stdout",
     "output_type": "stream",
     "text": [
      "Error processing example: No Javadoc comment found in the code.\n",
      "Error processing example: No Javadoc comment found in the code.\n"
     ]
    },
    {
     "name": "stderr",
     "output_type": "stream",
     "text": [
      "Generating responses:   0%|          | 0/6 [00:00<?, ?it/s]\n"
     ]
    },
    {
     "name": "stdout",
     "output_type": "stream",
     "text": [
      "Error processing example: 'NoneType' object has no attribute 'copy'\n",
      "Error processing example: No Javadoc comment found in the code.\n"
     ]
    },
    {
     "name": "stderr",
     "output_type": "stream",
     "text": [
      "Generating responses:   0%|          | 0/6 [00:00<?, ?it/s]\n"
     ]
    },
    {
     "name": "stdout",
     "output_type": "stream",
     "text": [
      "Error processing example: 'NoneType' object has no attribute 'copy'\n"
     ]
    },
    {
     "name": "stderr",
     "output_type": "stream",
     "text": [
      "Generating responses:   0%|          | 0/6 [00:00<?, ?it/s]\n"
     ]
    },
    {
     "name": "stdout",
     "output_type": "stream",
     "text": [
      "Error processing example: 'NoneType' object has no attribute 'copy'\n",
      "Error processing example: No Javadoc comment found in the code.\n",
      "Error processing example: No Javadoc comment found in the code.\n",
      "Error processing example: No Javadoc comment found in the code.\n"
     ]
    },
    {
     "name": "stderr",
     "output_type": "stream",
     "text": [
      "Generating responses:   0%|          | 0/6 [00:00<?, ?it/s]\n"
     ]
    },
    {
     "name": "stdout",
     "output_type": "stream",
     "text": [
      "Error processing example: 'NoneType' object has no attribute 'copy'\n",
      "Error processing example: No Javadoc comment found in the code.\n",
      "Error processing example: No Javadoc comment found in the code.\n"
     ]
    },
    {
     "name": "stderr",
     "output_type": "stream",
     "text": [
      "Generating responses:   0%|          | 0/6 [00:00<?, ?it/s]\n",
      "Processing dataset:  49%|████▉     | 2034/4156 [00:21<00:22, 93.57it/s] "
     ]
    },
    {
     "name": "stdout",
     "output_type": "stream",
     "text": [
      "Error processing example: 'NoneType' object has no attribute 'copy'\n"
     ]
    },
    {
     "name": "stderr",
     "output_type": "stream",
     "text": [
      "Generating responses:   0%|          | 0/6 [00:00<?, ?it/s]\n"
     ]
    },
    {
     "name": "stdout",
     "output_type": "stream",
     "text": [
      "Error processing example: 'NoneType' object has no attribute 'copy'\n",
      "Error processing example: No Javadoc comment found in the code.\n"
     ]
    },
    {
     "name": "stderr",
     "output_type": "stream",
     "text": [
      "Generating responses:   0%|          | 0/6 [00:00<?, ?it/s]"
     ]
    },
    {
     "name": "stdout",
     "output_type": "stream",
     "text": [
      "Error processing example: 'NoneType' object has no attribute 'copy'\n",
      "Error processing example: No Javadoc comment found in the code.\n",
      "Error processing example: No Javadoc comment found in the code.\n"
     ]
    },
    {
     "name": "stderr",
     "output_type": "stream",
     "text": [
      "\n"
     ]
    },
    {
     "name": "stdout",
     "output_type": "stream",
     "text": [
      "Error processing example: No Javadoc comment found in the code.\n",
      "Error processing example: No Javadoc comment found in the code.\n",
      "Error processing example: No Javadoc comment found in the code.\n",
      "Error processing example: No Javadoc comment found in the code.\n",
      "Error processing example: No Javadoc comment found in the code.\n"
     ]
    },
    {
     "name": "stderr",
     "output_type": "stream",
     "text": [
      "Generating responses:   0%|          | 0/6 [00:00<?, ?it/s]\n"
     ]
    },
    {
     "name": "stdout",
     "output_type": "stream",
     "text": [
      "Error processing example: 'NoneType' object has no attribute 'copy'\n",
      "Error processing example: No Javadoc comment found in the code.\n"
     ]
    },
    {
     "name": "stderr",
     "output_type": "stream",
     "text": [
      "Generating responses:   0%|          | 0/6 [00:00<?, ?it/s]\n",
      "Processing dataset:  49%|████▉     | 2047/4156 [00:22<00:21, 98.10it/s]"
     ]
    },
    {
     "name": "stdout",
     "output_type": "stream",
     "text": [
      "Error processing example: 'NoneType' object has no attribute 'copy'\n",
      "Error processing example: No Javadoc comment found in the code.\n",
      "Error processing example: No Javadoc comment found in the code.\n",
      "Error processing example: No Javadoc comment found in the code.\n"
     ]
    },
    {
     "name": "stderr",
     "output_type": "stream",
     "text": [
      "Generating responses:   0%|          | 0/6 [00:00<?, ?it/s]\n"
     ]
    },
    {
     "name": "stdout",
     "output_type": "stream",
     "text": [
      "Error processing example: 'NoneType' object has no attribute 'copy'\n",
      "Error processing example: No Javadoc comment found in the code.\n"
     ]
    },
    {
     "name": "stderr",
     "output_type": "stream",
     "text": [
      "Generating responses:   0%|          | 0/6 [00:00<?, ?it/s]\n"
     ]
    },
    {
     "name": "stdout",
     "output_type": "stream",
     "text": [
      "Error processing example: 'NoneType' object has no attribute 'copy'\n"
     ]
    },
    {
     "name": "stderr",
     "output_type": "stream",
     "text": [
      "Generating responses:   0%|          | 0/6 [00:00<?, ?it/s]\n"
     ]
    },
    {
     "name": "stdout",
     "output_type": "stream",
     "text": [
      "Error processing example: 'NoneType' object has no attribute 'copy'\n"
     ]
    },
    {
     "name": "stderr",
     "output_type": "stream",
     "text": [
      "Generating responses:   0%|          | 0/6 [00:00<?, ?it/s]\n"
     ]
    },
    {
     "name": "stdout",
     "output_type": "stream",
     "text": [
      "Error processing example: 'NoneType' object has no attribute 'copy'\n",
      "Error processing example: No Javadoc comment found in the code.\n",
      "Error processing example: No Javadoc comment found in the code.\n"
     ]
    },
    {
     "name": "stderr",
     "output_type": "stream",
     "text": [
      "Generating responses:   0%|          | 0/6 [00:00<?, ?it/s]\n",
      "Processing dataset:  50%|████▉     | 2058/4156 [00:22<00:24, 84.59it/s]"
     ]
    },
    {
     "name": "stdout",
     "output_type": "stream",
     "text": [
      "Error processing example: 'NoneType' object has no attribute 'copy'\n",
      "Error processing example: No Javadoc comment found in the code.\n"
     ]
    },
    {
     "name": "stderr",
     "output_type": "stream",
     "text": [
      "Generating responses:   0%|          | 0/6 [00:00<?, ?it/s]\n"
     ]
    },
    {
     "name": "stdout",
     "output_type": "stream",
     "text": [
      "Error processing example: 'NoneType' object has no attribute 'copy'\n"
     ]
    },
    {
     "name": "stderr",
     "output_type": "stream",
     "text": [
      "Generating responses:   0%|          | 0/6 [00:00<?, ?it/s]\n"
     ]
    },
    {
     "name": "stdout",
     "output_type": "stream",
     "text": [
      "Error processing example: 'NoneType' object has no attribute 'copy'\n"
     ]
    },
    {
     "name": "stderr",
     "output_type": "stream",
     "text": [
      "Generating responses:   0%|          | 0/6 [00:00<?, ?it/s]\n"
     ]
    },
    {
     "name": "stdout",
     "output_type": "stream",
     "text": [
      "Error processing example: 'NoneType' object has no attribute 'copy'\n",
      "Error processing example: No Javadoc comment found in the code.\n",
      "Error processing example: No Javadoc comment found in the code.\n"
     ]
    },
    {
     "name": "stderr",
     "output_type": "stream",
     "text": [
      "Generating responses:   0%|          | 0/6 [00:00<?, ?it/s]\n"
     ]
    },
    {
     "name": "stdout",
     "output_type": "stream",
     "text": [
      "Error processing example: 'NoneType' object has no attribute 'copy'\n",
      "Error processing example: No Javadoc comment found in the code.\n"
     ]
    },
    {
     "name": "stderr",
     "output_type": "stream",
     "text": [
      "Processing dataset:  50%|████▉     | 2067/4156 [00:22<00:24, 84.93it/s]"
     ]
    },
    {
     "name": "stdout",
     "output_type": "stream",
     "text": [
      "Error processing example: No Javadoc comment found in the code.\n",
      "Error processing example: No Javadoc comment found in the code.\n",
      "Error processing example: No Javadoc comment found in the code.\n",
      "Error processing example: No Javadoc comment found in the code.\n",
      "Error processing example: No Javadoc comment found in the code.\n"
     ]
    },
    {
     "name": "stderr",
     "output_type": "stream",
     "text": [
      "Generating responses:   0%|          | 0/6 [00:00<?, ?it/s]\n"
     ]
    },
    {
     "name": "stdout",
     "output_type": "stream",
     "text": [
      "Error processing example: 'NoneType' object has no attribute 'copy'\n",
      "Error processing example: No Javadoc comment found in the code.\n",
      "Error processing example: No Javadoc comment found in the code.\n"
     ]
    },
    {
     "name": "stderr",
     "output_type": "stream",
     "text": [
      "Generating responses:   0%|          | 0/6 [00:00<?, ?it/s]\n"
     ]
    },
    {
     "name": "stdout",
     "output_type": "stream",
     "text": [
      "Error processing example: 'NoneType' object has no attribute 'copy'\n"
     ]
    },
    {
     "name": "stderr",
     "output_type": "stream",
     "text": [
      "Generating responses:   0%|          | 0/6 [00:00<?, ?it/s]\n",
      "Processing dataset:  50%|████▉     | 2076/4156 [00:22<00:25, 82.77it/s]"
     ]
    },
    {
     "name": "stdout",
     "output_type": "stream",
     "text": [
      "Error processing example: 'NoneType' object has no attribute 'copy'\n",
      "Error processing example: No Javadoc comment found in the code.\n",
      "Error processing example: No Javadoc comment found in the code.\n",
      "Error processing example: No Javadoc comment found in the code.\n",
      "Error processing example: No Javadoc comment found in the code.\n"
     ]
    },
    {
     "name": "stderr",
     "output_type": "stream",
     "text": [
      "Generating responses:   0%|          | 0/6 [00:00<?, ?it/s]\n"
     ]
    },
    {
     "name": "stdout",
     "output_type": "stream",
     "text": [
      "Error processing example: 'NoneType' object has no attribute 'copy'\n",
      "Error processing example: No Javadoc comment found in the code.\n"
     ]
    },
    {
     "name": "stderr",
     "output_type": "stream",
     "text": [
      "Generating responses:   0%|          | 0/6 [00:00<?, ?it/s]\n"
     ]
    },
    {
     "name": "stdout",
     "output_type": "stream",
     "text": [
      "Error processing example: 'NoneType' object has no attribute 'copy'\n"
     ]
    },
    {
     "name": "stderr",
     "output_type": "stream",
     "text": [
      "Generating responses:   0%|          | 0/6 [00:00<?, ?it/s]\n"
     ]
    },
    {
     "name": "stdout",
     "output_type": "stream",
     "text": [
      "Error processing example: 'NoneType' object has no attribute 'copy'\n",
      "Error processing example: No Javadoc comment found in the code.\n",
      "Error processing example: No Javadoc comment found in the code.\n",
      "Error processing example: No Javadoc comment found in the code.\n"
     ]
    },
    {
     "name": "stderr",
     "output_type": "stream",
     "text": [
      "Generating responses:   0%|          | 0/6 [00:00<?, ?it/s]\n"
     ]
    },
    {
     "name": "stdout",
     "output_type": "stream",
     "text": [
      "Error processing example: 'NoneType' object has no attribute 'copy'\n",
      "Error processing example: No Javadoc comment found in the code.\n",
      "Error processing example: No Javadoc comment found in the code.\n",
      "Error processing example: No Javadoc comment found in the code.\n",
      "Error processing example: No Javadoc comment found in the code.\n"
     ]
    },
    {
     "name": "stderr",
     "output_type": "stream",
     "text": [
      "Generating responses:   0%|          | 0/6 [00:00<?, ?it/s]\n",
      "Processing dataset:  50%|█████     | 2093/4156 [00:22<00:19, 103.94it/s]"
     ]
    },
    {
     "name": "stdout",
     "output_type": "stream",
     "text": [
      "Error processing example: 'NoneType' object has no attribute 'copy'\n"
     ]
    },
    {
     "name": "stderr",
     "output_type": "stream",
     "text": [
      "Generating responses:   0%|          | 0/6 [00:00<?, ?it/s]\n"
     ]
    },
    {
     "name": "stdout",
     "output_type": "stream",
     "text": [
      "Error processing example: 'NoneType' object has no attribute 'copy'\n",
      "Error processing example: No Javadoc comment found in the code.\n",
      "Error processing example: No Javadoc comment found in the code.\n",
      "Error processing example: Javadoc comment is not properly closed.\n",
      "Error processing example: No Javadoc comment found in the code.\n",
      "Error processing example: No Javadoc comment found in the code.\n",
      "Error processing example: No Javadoc comment found in the code.\n",
      "Error processing example: No Javadoc comment found in the code.\n",
      "Error processing example: No Javadoc comment found in the code.\n"
     ]
    },
    {
     "name": "stderr",
     "output_type": "stream",
     "text": [
      "Generating responses:   0%|          | 0/6 [00:00<?, ?it/s]\n"
     ]
    },
    {
     "name": "stdout",
     "output_type": "stream",
     "text": [
      "Error processing example: 'NoneType' object has no attribute 'copy'\n",
      "Error processing example: No Javadoc comment found in the code.\n"
     ]
    },
    {
     "name": "stderr",
     "output_type": "stream",
     "text": [
      "Generating responses:   0%|          | 0/6 [00:00<?, ?it/s]\n"
     ]
    },
    {
     "name": "stdout",
     "output_type": "stream",
     "text": [
      "Error processing example: 'NoneType' object has no attribute 'copy'\n"
     ]
    },
    {
     "name": "stderr",
     "output_type": "stream",
     "text": [
      "Generating responses:   0%|          | 0/6 [00:00<?, ?it/s]\n",
      "Processing dataset:  51%|█████     | 2106/4156 [00:22<00:18, 107.92it/s]"
     ]
    },
    {
     "name": "stdout",
     "output_type": "stream",
     "text": [
      "Error processing example: 'NoneType' object has no attribute 'copy'\n"
     ]
    },
    {
     "name": "stderr",
     "output_type": "stream",
     "text": [
      "Generating responses:   0%|          | 0/6 [00:00<?, ?it/s]\n"
     ]
    },
    {
     "name": "stdout",
     "output_type": "stream",
     "text": [
      "Error processing example: 'NoneType' object has no attribute 'copy'\n"
     ]
    },
    {
     "name": "stderr",
     "output_type": "stream",
     "text": [
      "Generating responses:   0%|          | 0/6 [00:00<?, ?it/s]\n"
     ]
    },
    {
     "name": "stdout",
     "output_type": "stream",
     "text": [
      "Error processing example: 'NoneType' object has no attribute 'copy'\n",
      "Error processing example: No Javadoc comment found in the code.\n",
      "Error processing example: No Javadoc comment found in the code.\n"
     ]
    },
    {
     "name": "stderr",
     "output_type": "stream",
     "text": [
      "Generating responses:   0%|          | 0/6 [00:00<?, ?it/s]\n"
     ]
    },
    {
     "name": "stdout",
     "output_type": "stream",
     "text": [
      "Error processing example: 'NoneType' object has no attribute 'copy'\n"
     ]
    },
    {
     "name": "stderr",
     "output_type": "stream",
     "text": [
      "Generating responses:   0%|          | 0/6 [00:00<?, ?it/s]\n"
     ]
    },
    {
     "name": "stdout",
     "output_type": "stream",
     "text": [
      "Error processing example: 'NoneType' object has no attribute 'copy'\n",
      "Error processing example: No Javadoc comment found in the code.\n"
     ]
    },
    {
     "name": "stderr",
     "output_type": "stream",
     "text": [
      "Generating responses:   0%|          | 0/6 [00:00<?, ?it/s]\n"
     ]
    },
    {
     "name": "stdout",
     "output_type": "stream",
     "text": [
      "Error processing example: 'NoneType' object has no attribute 'copy'\n"
     ]
    },
    {
     "name": "stderr",
     "output_type": "stream",
     "text": [
      "Generating responses:   0%|          | 0/6 [00:00<?, ?it/s]\n"
     ]
    },
    {
     "name": "stdout",
     "output_type": "stream",
     "text": [
      "Error processing example: 'NoneType' object has no attribute 'copy'\n",
      "Error processing example: No Javadoc comment found in the code.\n",
      "Error processing example: No Javadoc comment found in the code.\n"
     ]
    },
    {
     "name": "stderr",
     "output_type": "stream",
     "text": [
      "Generating responses:   0%|          | 0/6 [00:00<?, ?it/s]\n",
      "Processing dataset:  51%|█████     | 2118/4156 [00:22<00:24, 82.43it/s] "
     ]
    },
    {
     "name": "stdout",
     "output_type": "stream",
     "text": [
      "Error processing example: 'NoneType' object has no attribute 'copy'\n",
      "Error processing example: No Javadoc comment found in the code.\n"
     ]
    },
    {
     "name": "stderr",
     "output_type": "stream",
     "text": [
      "Generating responses:   0%|          | 0/6 [00:00<?, ?it/s]\n"
     ]
    },
    {
     "name": "stdout",
     "output_type": "stream",
     "text": [
      "Error processing example: 'NoneType' object has no attribute 'copy'\n",
      "Error processing example: No Javadoc comment found in the code.\n",
      "Error processing example: No Javadoc comment found in the code.\n",
      "Error processing example: No Javadoc comment found in the code.\n"
     ]
    },
    {
     "name": "stderr",
     "output_type": "stream",
     "text": [
      "Generating responses:   0%|          | 0/6 [00:00<?, ?it/s]\n"
     ]
    },
    {
     "name": "stdout",
     "output_type": "stream",
     "text": [
      "Error processing example: 'NoneType' object has no attribute 'copy'\n"
     ]
    },
    {
     "name": "stderr",
     "output_type": "stream",
     "text": [
      "Generating responses:   0%|          | 0/6 [00:00<?, ?it/s]\n"
     ]
    },
    {
     "name": "stdout",
     "output_type": "stream",
     "text": [
      "Error processing example: 'NoneType' object has no attribute 'copy'\n"
     ]
    },
    {
     "name": "stderr",
     "output_type": "stream",
     "text": [
      "Generating responses:   0%|          | 0/6 [00:00<?, ?it/s]\n"
     ]
    },
    {
     "name": "stdout",
     "output_type": "stream",
     "text": [
      "Error processing example: 'NoneType' object has no attribute 'copy'\n",
      "Error processing example: No Javadoc comment found in the code.\n"
     ]
    },
    {
     "name": "stderr",
     "output_type": "stream",
     "text": [
      "Generating responses:   0%|          | 0/6 [00:00<?, ?it/s]\n"
     ]
    },
    {
     "name": "stdout",
     "output_type": "stream",
     "text": [
      "Error processing example: 'NoneType' object has no attribute 'copy'\n",
      "Error processing example: No Javadoc comment found in the code.\n"
     ]
    },
    {
     "name": "stderr",
     "output_type": "stream",
     "text": [
      "Processing dataset:  51%|█████▏    | 2130/4156 [00:22<00:22, 89.97it/s]"
     ]
    },
    {
     "name": "stdout",
     "output_type": "stream",
     "text": [
      "Error processing example: No Javadoc comment found in the code.\n",
      "Error processing example: No Javadoc comment found in the code.\n",
      "Error processing example: No Javadoc comment found in the code.\n",
      "Error processing example: No Javadoc comment found in the code.\n",
      "Error processing example: No Javadoc comment found in the code.\n"
     ]
    },
    {
     "name": "stderr",
     "output_type": "stream",
     "text": [
      "Generating responses:   0%|          | 0/6 [00:00<?, ?it/s]\n"
     ]
    },
    {
     "name": "stdout",
     "output_type": "stream",
     "text": [
      "Error processing example: 'NoneType' object has no attribute 'copy'\n",
      "Error processing example: No Javadoc comment found in the code.\n",
      "Error processing example: No Javadoc comment found in the code.\n",
      "Error processing example: No Javadoc comment found in the code.\n",
      "Error processing example: No Javadoc comment found in the code.\n",
      "Error processing example: No Javadoc comment found in the code.\n",
      "Error processing example: No Javadoc comment found in the code.\n"
     ]
    },
    {
     "name": "stderr",
     "output_type": "stream",
     "text": [
      "Generating responses:   0%|          | 0/6 [00:00<?, ?it/s]\n"
     ]
    },
    {
     "name": "stdout",
     "output_type": "stream",
     "text": [
      "Error processing example: 'NoneType' object has no attribute 'copy'\n",
      "Error processing example: No Javadoc comment found in the code.\n",
      "Error processing example: No Javadoc comment found in the code.\n"
     ]
    },
    {
     "name": "stderr",
     "output_type": "stream",
     "text": [
      "Generating responses:   0%|          | 0/6 [00:00<?, ?it/s]\n"
     ]
    },
    {
     "name": "stdout",
     "output_type": "stream",
     "text": [
      "Error processing example: 'NoneType' object has no attribute 'copy'\n",
      "Error processing example: No Javadoc comment found in the code.\n",
      "Error processing example: No Javadoc comment found in the code.\n"
     ]
    },
    {
     "name": "stderr",
     "output_type": "stream",
     "text": [
      "Generating responses:   0%|          | 0/6 [00:00<?, ?it/s]\n",
      "Processing dataset:  52%|█████▏    | 2148/4156 [00:23<00:18, 109.61it/s]"
     ]
    },
    {
     "name": "stdout",
     "output_type": "stream",
     "text": [
      "Error processing example: 'NoneType' object has no attribute 'copy'\n",
      "Error processing example: No Javadoc comment found in the code.\n"
     ]
    },
    {
     "name": "stderr",
     "output_type": "stream",
     "text": [
      "Generating responses:   0%|          | 0/6 [00:00<?, ?it/s]\n"
     ]
    },
    {
     "name": "stdout",
     "output_type": "stream",
     "text": [
      "Error processing example: 'NoneType' object has no attribute 'copy'\n",
      "Error processing example: No Javadoc comment found in the code.\n",
      "Error processing example: No Javadoc comment found in the code.\n",
      "Error processing example: No Javadoc comment found in the code.\n"
     ]
    },
    {
     "name": "stderr",
     "output_type": "stream",
     "text": [
      "Generating responses:   0%|          | 0/6 [00:00<?, ?it/s]\n"
     ]
    },
    {
     "name": "stdout",
     "output_type": "stream",
     "text": [
      "Error processing example: 'NoneType' object has no attribute 'copy'\n"
     ]
    },
    {
     "name": "stderr",
     "output_type": "stream",
     "text": [
      "Generating responses:   0%|          | 0/6 [00:00<?, ?it/s]\n"
     ]
    },
    {
     "name": "stdout",
     "output_type": "stream",
     "text": [
      "Error processing example: 'NoneType' object has no attribute 'copy'\n",
      "Error processing example: No Javadoc comment found in the code.\n",
      "Error processing example: No Javadoc comment found in the code.\n",
      "Error processing example: No Javadoc comment found in the code.\n"
     ]
    },
    {
     "name": "stderr",
     "output_type": "stream",
     "text": [
      "Processing dataset:  52%|█████▏    | 2161/4156 [00:23<00:17, 113.04it/s]"
     ]
    },
    {
     "name": "stdout",
     "output_type": "stream",
     "text": [
      "Error processing example: No Javadoc comment found in the code.\n",
      "Error processing example: No Javadoc comment found in the code.\n",
      "Error processing example: No Javadoc comment found in the code.\n"
     ]
    },
    {
     "name": "stderr",
     "output_type": "stream",
     "text": [
      "Generating responses:   0%|          | 0/6 [00:00<?, ?it/s]\n"
     ]
    },
    {
     "name": "stdout",
     "output_type": "stream",
     "text": [
      "Error processing example: 'NoneType' object has no attribute 'copy'\n"
     ]
    },
    {
     "name": "stderr",
     "output_type": "stream",
     "text": [
      "Generating responses:   0%|          | 0/6 [00:00<?, ?it/s]\n"
     ]
    },
    {
     "name": "stdout",
     "output_type": "stream",
     "text": [
      "Error processing example: 'NoneType' object has no attribute 'copy'\n",
      "Error processing example: No Javadoc comment found in the code.\n",
      "Error processing example: No Javadoc comment found in the code.\n",
      "Error processing example: No Javadoc comment found in the code.\n"
     ]
    },
    {
     "name": "stderr",
     "output_type": "stream",
     "text": [
      "Generating responses:   0%|          | 0/6 [00:00<?, ?it/s]\n"
     ]
    },
    {
     "name": "stdout",
     "output_type": "stream",
     "text": [
      "Error processing example: 'NoneType' object has no attribute 'copy'\n"
     ]
    },
    {
     "name": "stderr",
     "output_type": "stream",
     "text": [
      "Generating responses:   0%|          | 0/6 [00:00<?, ?it/s]\n"
     ]
    },
    {
     "name": "stdout",
     "output_type": "stream",
     "text": [
      "Error processing example: 'NoneType' object has no attribute 'copy'\n",
      "Error processing example: No Javadoc comment found in the code.\n",
      "Error processing example: No Javadoc comment found in the code.\n"
     ]
    },
    {
     "name": "stderr",
     "output_type": "stream",
     "text": [
      "Generating responses:   0%|          | 0/6 [00:00<?, ?it/s]\n"
     ]
    },
    {
     "name": "stdout",
     "output_type": "stream",
     "text": [
      "Error processing example: 'NoneType' object has no attribute 'copy'\n"
     ]
    },
    {
     "name": "stderr",
     "output_type": "stream",
     "text": [
      "Generating responses:   0%|          | 0/6 [00:00<?, ?it/s]\n"
     ]
    },
    {
     "name": "stdout",
     "output_type": "stream",
     "text": [
      "Error processing example: 'NoneType' object has no attribute 'copy'\n"
     ]
    },
    {
     "name": "stderr",
     "output_type": "stream",
     "text": [
      "Generating responses:   0%|          | 0/6 [00:00<?, ?it/s]"
     ]
    },
    {
     "name": "stdout",
     "output_type": "stream",
     "text": [
      "Error processing example: 'NoneType' object has no attribute 'copy'\n"
     ]
    },
    {
     "name": "stderr",
     "output_type": "stream",
     "text": [
      "\n",
      "Generating responses:   0%|          | 0/6 [00:00<?, ?it/s]\n",
      "Processing dataset:  52%|█████▏    | 2174/4156 [00:23<00:20, 95.18it/s] "
     ]
    },
    {
     "name": "stdout",
     "output_type": "stream",
     "text": [
      "Error processing example: 'NoneType' object has no attribute 'copy'\n",
      "Error processing example: No Javadoc comment found in the code.\n"
     ]
    },
    {
     "name": "stderr",
     "output_type": "stream",
     "text": [
      "Generating responses:   0%|          | 0/6 [00:00<?, ?it/s]\n"
     ]
    },
    {
     "name": "stdout",
     "output_type": "stream",
     "text": [
      "Error processing example: 'NoneType' object has no attribute 'copy'\n"
     ]
    },
    {
     "name": "stderr",
     "output_type": "stream",
     "text": [
      "Generating responses:   0%|          | 0/6 [00:00<?, ?it/s]\n"
     ]
    },
    {
     "name": "stdout",
     "output_type": "stream",
     "text": [
      "Error processing example: 'NoneType' object has no attribute 'copy'\n",
      "Error processing example: No Javadoc comment found in the code.\n",
      "Error processing example: No Javadoc comment found in the code.\n"
     ]
    },
    {
     "name": "stderr",
     "output_type": "stream",
     "text": [
      "Generating responses:   0%|          | 0/6 [00:00<?, ?it/s]\n"
     ]
    },
    {
     "name": "stdout",
     "output_type": "stream",
     "text": [
      "Error processing example: 'NoneType' object has no attribute 'copy'\n"
     ]
    },
    {
     "name": "stderr",
     "output_type": "stream",
     "text": [
      "Generating responses:   0%|          | 0/6 [00:00<?, ?it/s]\n"
     ]
    },
    {
     "name": "stdout",
     "output_type": "stream",
     "text": [
      "Error processing example: 'NoneType' object has no attribute 'copy'\n"
     ]
    },
    {
     "name": "stderr",
     "output_type": "stream",
     "text": [
      "Processing dataset:  53%|█████▎    | 2185/4156 [00:23<00:20, 96.07it/s]"
     ]
    },
    {
     "name": "stdout",
     "output_type": "stream",
     "text": [
      "Error processing example: No Javadoc comment found in the code.\n",
      "Error processing example: No Javadoc comment found in the code.\n",
      "Error processing example: No Javadoc comment found in the code.\n",
      "Error processing example: No Javadoc comment found in the code.\n"
     ]
    },
    {
     "name": "stderr",
     "output_type": "stream",
     "text": [
      "Generating responses:   0%|          | 0/6 [00:00<?, ?it/s]\n"
     ]
    },
    {
     "name": "stdout",
     "output_type": "stream",
     "text": [
      "Error processing example: 'NoneType' object has no attribute 'copy'\n"
     ]
    },
    {
     "name": "stderr",
     "output_type": "stream",
     "text": [
      "Generating responses:   0%|          | 0/6 [00:00<?, ?it/s]\n"
     ]
    },
    {
     "name": "stdout",
     "output_type": "stream",
     "text": [
      "Error processing example: 'NoneType' object has no attribute 'copy'\n",
      "Error processing example: No Javadoc comment found in the code.\n"
     ]
    },
    {
     "name": "stderr",
     "output_type": "stream",
     "text": [
      "Generating responses:   0%|          | 0/6 [00:00<?, ?it/s]\n"
     ]
    },
    {
     "name": "stdout",
     "output_type": "stream",
     "text": [
      "Error processing example: 'NoneType' object has no attribute 'copy'\n",
      "Error processing example: No Javadoc comment found in the code.\n",
      "Error processing example: No Javadoc comment found in the code.\n",
      "Error processing example: No Javadoc comment found in the code.\n"
     ]
    },
    {
     "name": "stderr",
     "output_type": "stream",
     "text": [
      "Generating responses:   0%|          | 0/6 [00:00<?, ?it/s]\n"
     ]
    },
    {
     "name": "stdout",
     "output_type": "stream",
     "text": [
      "Error processing example: 'NoneType' object has no attribute 'copy'\n",
      "Error processing example: No Javadoc comment found in the code.\n",
      "Error processing example: No Javadoc comment found in the code.\n",
      "Error processing example: No Javadoc comment found in the code.\n",
      "Error processing example: No Javadoc comment found in the code.\n",
      "Error processing example: No Javadoc comment found in the code.\n"
     ]
    },
    {
     "name": "stderr",
     "output_type": "stream",
     "text": [
      "Processing dataset:  53%|█████▎    | 2199/4156 [00:23<00:18, 106.15it/s]"
     ]
    },
    {
     "name": "stdout",
     "output_type": "stream",
     "text": [
      "Error processing example: No Javadoc comment found in the code.\n",
      "Error processing example: No Javadoc comment found in the code.\n"
     ]
    },
    {
     "name": "stderr",
     "output_type": "stream",
     "text": [
      "Generating responses:   0%|          | 0/6 [00:00<?, ?it/s]\n"
     ]
    },
    {
     "name": "stdout",
     "output_type": "stream",
     "text": [
      "Error processing example: 'NoneType' object has no attribute 'copy'\n",
      "Error processing example: No Javadoc comment found in the code.\n"
     ]
    },
    {
     "name": "stderr",
     "output_type": "stream",
     "text": [
      "Generating responses:   0%|          | 0/6 [00:00<?, ?it/s]\n"
     ]
    },
    {
     "name": "stdout",
     "output_type": "stream",
     "text": [
      "Error processing example: 'NoneType' object has no attribute 'copy'\n"
     ]
    },
    {
     "name": "stderr",
     "output_type": "stream",
     "text": [
      "Generating responses:   0%|          | 0/6 [00:00<?, ?it/s]\n"
     ]
    },
    {
     "name": "stdout",
     "output_type": "stream",
     "text": [
      "Error processing example: 'NoneType' object has no attribute 'copy'\n"
     ]
    },
    {
     "name": "stderr",
     "output_type": "stream",
     "text": [
      "Generating responses:   0%|          | 0/6 [00:00<?, ?it/s]\n"
     ]
    },
    {
     "name": "stdout",
     "output_type": "stream",
     "text": [
      "Error processing example: 'NoneType' object has no attribute 'copy'\n",
      "Error processing example: No Javadoc comment found in the code.\n"
     ]
    },
    {
     "name": "stderr",
     "output_type": "stream",
     "text": [
      "Generating responses:   0%|          | 0/6 [00:00<?, ?it/s]\n"
     ]
    },
    {
     "name": "stdout",
     "output_type": "stream",
     "text": [
      "Error processing example: 'NoneType' object has no attribute 'copy'\n",
      "Error processing example: No Javadoc comment found in the code.\n",
      "Error processing example: No Javadoc comment found in the code.\n"
     ]
    },
    {
     "name": "stderr",
     "output_type": "stream",
     "text": [
      "Generating responses:   0%|          | 0/7 [00:00<?, ?it/s]\n"
     ]
    },
    {
     "name": "stdout",
     "output_type": "stream",
     "text": [
      "Error processing example: 'NoneType' object has no attribute 'copy'\n"
     ]
    },
    {
     "name": "stderr",
     "output_type": "stream",
     "text": [
      "Processing dataset:  53%|█████▎    | 2211/4156 [00:23<00:18, 103.83it/s]"
     ]
    },
    {
     "name": "stdout",
     "output_type": "stream",
     "text": [
      "Error processing example: No Javadoc comment found in the code.\n"
     ]
    },
    {
     "name": "stderr",
     "output_type": "stream",
     "text": [
      "Generating responses:   0%|          | 0/7 [00:00<?, ?it/s]"
     ]
    },
    {
     "name": "stdout",
     "output_type": "stream",
     "text": [
      "Error processing example: 'NoneType' object has no attribute 'copy'\n"
     ]
    },
    {
     "name": "stderr",
     "output_type": "stream",
     "text": [
      "\n",
      "Generating responses:   0%|          | 0/7 [00:00<?, ?it/s]\n"
     ]
    },
    {
     "name": "stdout",
     "output_type": "stream",
     "text": [
      "Error processing example: 'NoneType' object has no attribute 'copy'\n"
     ]
    },
    {
     "name": "stderr",
     "output_type": "stream",
     "text": [
      "Generating responses:   0%|          | 0/7 [00:00<?, ?it/s]"
     ]
    },
    {
     "name": "stdout",
     "output_type": "stream",
     "text": [
      "Error processing example: 'NoneType' object has no attribute 'copy'\n"
     ]
    },
    {
     "name": "stderr",
     "output_type": "stream",
     "text": [
      "\n"
     ]
    },
    {
     "name": "stdout",
     "output_type": "stream",
     "text": [
      "Error processing example: No Javadoc comment found in the code.\n"
     ]
    },
    {
     "name": "stderr",
     "output_type": "stream",
     "text": [
      "Generating responses:   0%|          | 0/7 [00:00<?, ?it/s]\n"
     ]
    },
    {
     "name": "stdout",
     "output_type": "stream",
     "text": [
      "Error processing example: 'NoneType' object has no attribute 'copy'\n"
     ]
    },
    {
     "name": "stderr",
     "output_type": "stream",
     "text": [
      "Generating responses:   0%|          | 0/7 [00:00<?, ?it/s]\n"
     ]
    },
    {
     "name": "stdout",
     "output_type": "stream",
     "text": [
      "Error processing example: 'NoneType' object has no attribute 'copy'\n"
     ]
    },
    {
     "name": "stderr",
     "output_type": "stream",
     "text": [
      "Generating responses:   0%|          | 0/7 [00:00<?, ?it/s]\n"
     ]
    },
    {
     "name": "stdout",
     "output_type": "stream",
     "text": [
      "Error processing example: 'NoneType' object has no attribute 'copy'\n",
      "Error processing example: No Javadoc comment found in the code.\n",
      "Error processing example: No Javadoc comment found in the code.\n",
      "Error processing example: No Javadoc comment found in the code.\n"
     ]
    },
    {
     "name": "stderr",
     "output_type": "stream",
     "text": [
      "Generating responses:   0%|          | 0/7 [00:00<?, ?it/s]\n",
      "Processing dataset:  53%|█████▎    | 2222/4156 [00:23<00:21, 92.07it/s] "
     ]
    },
    {
     "name": "stdout",
     "output_type": "stream",
     "text": [
      "Error processing example: 'NoneType' object has no attribute 'copy'\n",
      "Error processing example: No Javadoc comment found in the code.\n",
      "Error processing example: No Javadoc comment found in the code.\n",
      "Error processing example: No Javadoc comment found in the code.\n",
      "Error processing example: No Javadoc comment found in the code.\n"
     ]
    },
    {
     "name": "stderr",
     "output_type": "stream",
     "text": [
      "Generating responses:   0%|          | 0/7 [00:00<?, ?it/s]\n"
     ]
    },
    {
     "name": "stdout",
     "output_type": "stream",
     "text": [
      "Error processing example: 'NoneType' object has no attribute 'copy'\n",
      "Error processing example: No Javadoc comment found in the code.\n",
      "Error processing example: No Javadoc comment found in the code.\n",
      "Error processing example: No Javadoc comment found in the code.\n",
      "Error processing example: No Javadoc comment found in the code.\n"
     ]
    },
    {
     "name": "stderr",
     "output_type": "stream",
     "text": [
      "Generating responses:   0%|          | 0/7 [00:00<?, ?it/s]\n"
     ]
    },
    {
     "name": "stdout",
     "output_type": "stream",
     "text": [
      "Error processing example: 'NoneType' object has no attribute 'copy'\n",
      "Error processing example: No Javadoc comment found in the code.\n",
      "Error processing example: No Javadoc comment found in the code.\n",
      "Error processing example: No Javadoc comment found in the code.\n",
      "Error processing example: No Javadoc comment found in the code.\n",
      "Error processing example: No Javadoc comment found in the code.\n",
      "Error processing example: No Javadoc comment found in the code.\n",
      "Error processing example: No Javadoc comment found in the code.\n"
     ]
    },
    {
     "name": "stderr",
     "output_type": "stream",
     "text": [
      "Generating responses:   0%|          | 0/7 [00:00<?, ?it/s]\n"
     ]
    },
    {
     "name": "stdout",
     "output_type": "stream",
     "text": [
      "Error processing example: 'NoneType' object has no attribute 'copy'\n",
      "Error processing example: No Javadoc comment found in the code.\n"
     ]
    },
    {
     "name": "stderr",
     "output_type": "stream",
     "text": [
      "Generating responses:   0%|          | 0/7 [00:00<?, ?it/s]\n",
      "Processing dataset:  54%|█████▍    | 2242/4156 [00:23<00:16, 117.59it/s]"
     ]
    },
    {
     "name": "stdout",
     "output_type": "stream",
     "text": [
      "Error processing example: 'NoneType' object has no attribute 'copy'\n",
      "Error processing example: No Javadoc comment found in the code.\n",
      "Error processing example: No Javadoc comment found in the code.\n",
      "Error processing example: No Javadoc comment found in the code.\n",
      "Error processing example: No Javadoc comment found in the code.\n",
      "Error processing example: No Javadoc comment found in the code.\n",
      "Error processing example: No Javadoc comment found in the code.\n"
     ]
    },
    {
     "name": "stderr",
     "output_type": "stream",
     "text": [
      "Generating responses:   0%|          | 0/7 [00:00<?, ?it/s]\n"
     ]
    },
    {
     "name": "stdout",
     "output_type": "stream",
     "text": [
      "Error processing example: 'NoneType' object has no attribute 'copy'\n",
      "Error processing example: No Javadoc comment found in the code.\n",
      "Error processing example: No Javadoc comment found in the code.\n",
      "Error processing example: No Javadoc comment found in the code.\n",
      "Error processing example: No Javadoc comment found in the code.\n"
     ]
    },
    {
     "name": "stderr",
     "output_type": "stream",
     "text": [
      "Processing dataset:  54%|█████▍    | 2255/4156 [00:24<00:16, 118.62it/s]"
     ]
    },
    {
     "name": "stdout",
     "output_type": "stream",
     "text": [
      "Error processing example: No Javadoc comment found in the code.\n",
      "Error processing example: No Javadoc comment found in the code.\n"
     ]
    },
    {
     "name": "stderr",
     "output_type": "stream",
     "text": [
      "Generating responses:   0%|          | 0/7 [00:00<?, ?it/s]\n"
     ]
    },
    {
     "name": "stdout",
     "output_type": "stream",
     "text": [
      "Error processing example: 'NoneType' object has no attribute 'copy'\n"
     ]
    },
    {
     "name": "stderr",
     "output_type": "stream",
     "text": [
      "Generating responses:   0%|          | 0/7 [00:00<?, ?it/s]"
     ]
    },
    {
     "name": "stdout",
     "output_type": "stream",
     "text": [
      "Error processing example: 'NoneType' object has no attribute 'copy'\n"
     ]
    },
    {
     "name": "stderr",
     "output_type": "stream",
     "text": [
      "\n",
      "Generating responses:   0%|          | 0/7 [00:00<?, ?it/s]\n"
     ]
    },
    {
     "name": "stdout",
     "output_type": "stream",
     "text": [
      "Error processing example: 'NoneType' object has no attribute 'copy'\n"
     ]
    },
    {
     "name": "stderr",
     "output_type": "stream",
     "text": [
      "Generating responses:   0%|          | 0/7 [00:00<?, ?it/s]\n"
     ]
    },
    {
     "name": "stdout",
     "output_type": "stream",
     "text": [
      "Error processing example: 'NoneType' object has no attribute 'copy'\n",
      "Error processing example: No Javadoc comment found in the code.\n"
     ]
    },
    {
     "name": "stderr",
     "output_type": "stream",
     "text": [
      "Generating responses:   0%|          | 0/7 [00:00<?, ?it/s]\n"
     ]
    },
    {
     "name": "stdout",
     "output_type": "stream",
     "text": [
      "Error processing example: 'NoneType' object has no attribute 'copy'\n",
      "Error processing example: No Javadoc comment found in the code.\n",
      "Error processing example: No Javadoc comment found in the code.\n"
     ]
    },
    {
     "name": "stderr",
     "output_type": "stream",
     "text": [
      "Generating responses:   0%|          | 0/7 [00:00<?, ?it/s]\n"
     ]
    },
    {
     "name": "stdout",
     "output_type": "stream",
     "text": [
      "Error processing example: 'NoneType' object has no attribute 'copy'\n",
      "Error processing example: No Javadoc comment found in the code.\n",
      "Error processing example: No Javadoc comment found in the code.\n"
     ]
    },
    {
     "name": "stderr",
     "output_type": "stream",
     "text": [
      "Generating responses:   0%|          | 0/7 [00:00<?, ?it/s]\n",
      "Processing dataset:  55%|█████▍    | 2268/4156 [00:24<00:18, 104.88it/s]"
     ]
    },
    {
     "name": "stdout",
     "output_type": "stream",
     "text": [
      "Error processing example: 'NoneType' object has no attribute 'copy'\n",
      "Error processing example: No Javadoc comment found in the code.\n"
     ]
    },
    {
     "name": "stderr",
     "output_type": "stream",
     "text": [
      "Generating responses:   0%|          | 0/7 [00:00<?, ?it/s]"
     ]
    },
    {
     "name": "stdout",
     "output_type": "stream",
     "text": [
      "Error processing example: 'NoneType' object has no attribute 'copy'\n"
     ]
    },
    {
     "name": "stderr",
     "output_type": "stream",
     "text": [
      "\n",
      "Generating responses:   0%|          | 0/7 [00:00<?, ?it/s]\n"
     ]
    },
    {
     "name": "stdout",
     "output_type": "stream",
     "text": [
      "Error processing example: 'NoneType' object has no attribute 'copy'\n",
      "Error processing example: No Javadoc comment found in the code.\n",
      "Error processing example: No Javadoc comment found in the code.\n"
     ]
    },
    {
     "name": "stderr",
     "output_type": "stream",
     "text": [
      "Generating responses:   0%|          | 0/7 [00:00<?, ?it/s]\n"
     ]
    },
    {
     "name": "stdout",
     "output_type": "stream",
     "text": [
      "Error processing example: 'NoneType' object has no attribute 'copy'\n",
      "Error processing example: No Javadoc comment found in the code.\n",
      "Error processing example: No Javadoc comment found in the code.\n"
     ]
    },
    {
     "name": "stderr",
     "output_type": "stream",
     "text": [
      "Generating responses:   0%|          | 0/7 [00:00<?, ?it/s]\n"
     ]
    },
    {
     "name": "stdout",
     "output_type": "stream",
     "text": [
      "Error processing example: 'NoneType' object has no attribute 'copy'\n",
      "Error processing example: No Javadoc comment found in the code.\n"
     ]
    },
    {
     "name": "stderr",
     "output_type": "stream",
     "text": [
      "Generating responses:   0%|          | 0/7 [00:00<?, ?it/s]"
     ]
    },
    {
     "name": "stdout",
     "output_type": "stream",
     "text": [
      "Error processing example: 'NoneType' object has no attribute 'copy'\n"
     ]
    },
    {
     "name": "stderr",
     "output_type": "stream",
     "text": [
      "\n"
     ]
    },
    {
     "name": "stdout",
     "output_type": "stream",
     "text": [
      "Error processing example: No Javadoc comment found in the code.\n"
     ]
    },
    {
     "name": "stderr",
     "output_type": "stream",
     "text": [
      "Generating responses:   0%|          | 0/7 [00:00<?, ?it/s]\n",
      "Processing dataset:  55%|█████▍    | 2280/4156 [00:24<00:19, 95.29it/s] "
     ]
    },
    {
     "name": "stdout",
     "output_type": "stream",
     "text": [
      "Error processing example: 'NoneType' object has no attribute 'copy'\n",
      "Error processing example: No Javadoc comment found in the code.\n",
      "Error processing example: No Javadoc comment found in the code.\n",
      "Error processing example: No Javadoc comment found in the code.\n"
     ]
    },
    {
     "name": "stderr",
     "output_type": "stream",
     "text": [
      "Generating responses:   0%|          | 0/7 [00:00<?, ?it/s]\n"
     ]
    },
    {
     "name": "stdout",
     "output_type": "stream",
     "text": [
      "Error processing example: 'NoneType' object has no attribute 'copy'\n",
      "Error processing example: No Javadoc comment found in the code.\n"
     ]
    },
    {
     "name": "stderr",
     "output_type": "stream",
     "text": [
      "Generating responses:   0%|          | 0/7 [00:00<?, ?it/s]\n"
     ]
    },
    {
     "name": "stdout",
     "output_type": "stream",
     "text": [
      "Error processing example: 'NoneType' object has no attribute 'copy'\n"
     ]
    },
    {
     "name": "stderr",
     "output_type": "stream",
     "text": [
      "Generating responses:   0%|          | 0/7 [00:00<?, ?it/s]\n"
     ]
    },
    {
     "name": "stdout",
     "output_type": "stream",
     "text": [
      "Error processing example: 'NoneType' object has no attribute 'copy'\n"
     ]
    },
    {
     "name": "stderr",
     "output_type": "stream",
     "text": [
      "Generating responses:   0%|          | 0/7 [00:00<?, ?it/s]\n"
     ]
    },
    {
     "name": "stdout",
     "output_type": "stream",
     "text": [
      "Error processing example: 'NoneType' object has no attribute 'copy'\n",
      "Error processing example: No Javadoc comment found in the code.\n"
     ]
    },
    {
     "name": "stderr",
     "output_type": "stream",
     "text": [
      "Generating responses:   0%|          | 0/7 [00:00<?, ?it/s]\n",
      "Processing dataset:  55%|█████▌    | 2291/4156 [00:24<00:20, 91.01it/s]"
     ]
    },
    {
     "name": "stdout",
     "output_type": "stream",
     "text": [
      "Error processing example: 'NoneType' object has no attribute 'copy'\n",
      "Error processing example: No Javadoc comment found in the code.\n",
      "Error processing example: No Javadoc comment found in the code.\n",
      "Error processing example: No Javadoc comment found in the code.\n",
      "Error processing example: No Javadoc comment found in the code.\n",
      "Error processing example: No Javadoc comment found in the code.\n",
      "Error processing example: No Javadoc comment found in the code.\n"
     ]
    },
    {
     "name": "stderr",
     "output_type": "stream",
     "text": [
      "Generating responses:   0%|          | 0/7 [00:00<?, ?it/s]\n"
     ]
    },
    {
     "name": "stdout",
     "output_type": "stream",
     "text": [
      "Error processing example: 'NoneType' object has no attribute 'copy'\n"
     ]
    },
    {
     "name": "stderr",
     "output_type": "stream",
     "text": [
      "Generating responses:   0%|          | 0/7 [00:00<?, ?it/s]\n"
     ]
    },
    {
     "name": "stdout",
     "output_type": "stream",
     "text": [
      "Error processing example: 'NoneType' object has no attribute 'copy'\n"
     ]
    },
    {
     "name": "stderr",
     "output_type": "stream",
     "text": [
      "Generating responses:   0%|          | 0/7 [00:00<?, ?it/s]"
     ]
    },
    {
     "name": "stdout",
     "output_type": "stream",
     "text": [
      "Error processing example: 'NoneType' object has no attribute 'copy'\n"
     ]
    },
    {
     "name": "stderr",
     "output_type": "stream",
     "text": [
      "\n"
     ]
    },
    {
     "name": "stdout",
     "output_type": "stream",
     "text": [
      "Error processing example: No Javadoc comment found in the code.\n"
     ]
    },
    {
     "name": "stderr",
     "output_type": "stream",
     "text": [
      "Generating responses:   0%|          | 0/7 [00:00<?, ?it/s]"
     ]
    },
    {
     "name": "stdout",
     "output_type": "stream",
     "text": [
      "Error processing example: 'NoneType' object has no attribute 'copy'\n"
     ]
    },
    {
     "name": "stderr",
     "output_type": "stream",
     "text": [
      "\n"
     ]
    },
    {
     "name": "stdout",
     "output_type": "stream",
     "text": [
      "Error processing example: No Javadoc comment found in the code.\n"
     ]
    },
    {
     "name": "stderr",
     "output_type": "stream",
     "text": [
      "Generating responses:   0%|          | 0/7 [00:00<?, ?it/s]\n"
     ]
    },
    {
     "name": "stdout",
     "output_type": "stream",
     "text": [
      "Error processing example: 'NoneType' object has no attribute 'copy'\n"
     ]
    },
    {
     "name": "stderr",
     "output_type": "stream",
     "text": [
      "Generating responses:   0%|          | 0/7 [00:00<?, ?it/s]\n",
      "Processing dataset:  55%|█████▌    | 2304/4156 [00:24<00:19, 96.58it/s]"
     ]
    },
    {
     "name": "stdout",
     "output_type": "stream",
     "text": [
      "Error processing example: 'NoneType' object has no attribute 'copy'\n",
      "Error processing example: No Javadoc comment found in the code.\n"
     ]
    },
    {
     "name": "stderr",
     "output_type": "stream",
     "text": [
      "Generating responses:   0%|          | 0/7 [00:00<?, ?it/s]\n"
     ]
    },
    {
     "name": "stdout",
     "output_type": "stream",
     "text": [
      "Error processing example: 'NoneType' object has no attribute 'copy'\n",
      "Error processing example: No Javadoc comment found in the code.\n"
     ]
    },
    {
     "name": "stderr",
     "output_type": "stream",
     "text": [
      "Generating responses:   0%|          | 0/7 [00:00<?, ?it/s]\n"
     ]
    },
    {
     "name": "stdout",
     "output_type": "stream",
     "text": [
      "Error processing example: 'NoneType' object has no attribute 'copy'\n",
      "Error processing example: No Javadoc comment found in the code.\n"
     ]
    },
    {
     "name": "stderr",
     "output_type": "stream",
     "text": [
      "Generating responses:   0%|          | 0/7 [00:00<?, ?it/s]\n"
     ]
    },
    {
     "name": "stdout",
     "output_type": "stream",
     "text": [
      "Error processing example: 'NoneType' object has no attribute 'copy'\n",
      "Error processing example: No Javadoc comment found in the code.\n"
     ]
    },
    {
     "name": "stderr",
     "output_type": "stream",
     "text": [
      "Generating responses:   0%|          | 0/7 [00:00<?, ?it/s]\n"
     ]
    },
    {
     "name": "stdout",
     "output_type": "stream",
     "text": [
      "Error processing example: 'NoneType' object has no attribute 'copy'\n",
      "Error processing example: No Javadoc comment found in the code.\n"
     ]
    },
    {
     "name": "stderr",
     "output_type": "stream",
     "text": [
      "Generating responses:   0%|          | 0/7 [00:00<?, ?it/s]\n"
     ]
    },
    {
     "name": "stdout",
     "output_type": "stream",
     "text": [
      "Error processing example: 'NoneType' object has no attribute 'copy'\n"
     ]
    },
    {
     "name": "stderr",
     "output_type": "stream",
     "text": [
      "Processing dataset:  56%|█████▌    | 2315/4156 [00:24<00:21, 86.27it/s]"
     ]
    },
    {
     "name": "stdout",
     "output_type": "stream",
     "text": [
      "Error processing example: No Javadoc comment found in the code.\n",
      "Error processing example: No Javadoc comment found in the code.\n"
     ]
    },
    {
     "name": "stderr",
     "output_type": "stream",
     "text": [
      "Generating responses:   0%|          | 0/7 [00:00<?, ?it/s]\n"
     ]
    },
    {
     "name": "stdout",
     "output_type": "stream",
     "text": [
      "Error processing example: 'NoneType' object has no attribute 'copy'\n"
     ]
    },
    {
     "name": "stderr",
     "output_type": "stream",
     "text": [
      "Generating responses:   0%|          | 0/7 [00:00<?, ?it/s]\n"
     ]
    },
    {
     "name": "stdout",
     "output_type": "stream",
     "text": [
      "Error processing example: 'NoneType' object has no attribute 'copy'\n"
     ]
    },
    {
     "name": "stderr",
     "output_type": "stream",
     "text": [
      "Generating responses:   0%|          | 0/7 [00:00<?, ?it/s]"
     ]
    },
    {
     "name": "stdout",
     "output_type": "stream",
     "text": [
      "Error processing example: 'NoneType' object has no attribute 'copy'\n"
     ]
    },
    {
     "name": "stderr",
     "output_type": "stream",
     "text": [
      "\n"
     ]
    },
    {
     "name": "stdout",
     "output_type": "stream",
     "text": [
      "Error processing example: No Javadoc comment found in the code.\n",
      "Error processing example: No Javadoc comment found in the code.\n",
      "Error processing example: No Javadoc comment found in the code.\n"
     ]
    },
    {
     "name": "stderr",
     "output_type": "stream",
     "text": [
      "Generating responses:   0%|          | 0/7 [00:00<?, ?it/s]\n"
     ]
    },
    {
     "name": "stdout",
     "output_type": "stream",
     "text": [
      "Error processing example: 'NoneType' object has no attribute 'copy'\n"
     ]
    },
    {
     "name": "stderr",
     "output_type": "stream",
     "text": [
      "Generating responses:   0%|          | 0/7 [00:00<?, ?it/s]\n",
      "Processing dataset:  56%|█████▌    | 2325/4156 [00:24<00:21, 86.55it/s]"
     ]
    },
    {
     "name": "stdout",
     "output_type": "stream",
     "text": [
      "Error processing example: 'NoneType' object has no attribute 'copy'\n",
      "Error processing example: No Javadoc comment found in the code.\n",
      "Error processing example: No Javadoc comment found in the code.\n",
      "Error processing example: No Javadoc comment found in the code.\n",
      "Error processing example: No Javadoc comment found in the code.\n"
     ]
    },
    {
     "name": "stderr",
     "output_type": "stream",
     "text": [
      "Generating responses:   0%|          | 0/7 [00:00<?, ?it/s]\n"
     ]
    },
    {
     "name": "stdout",
     "output_type": "stream",
     "text": [
      "Error processing example: 'NoneType' object has no attribute 'copy'\n"
     ]
    },
    {
     "name": "stderr",
     "output_type": "stream",
     "text": [
      "Generating responses:   0%|          | 0/7 [00:00<?, ?it/s]\n"
     ]
    },
    {
     "name": "stdout",
     "output_type": "stream",
     "text": [
      "Error processing example: 'NoneType' object has no attribute 'copy'\n",
      "Error processing example: No Javadoc comment found in the code.\n"
     ]
    },
    {
     "name": "stderr",
     "output_type": "stream",
     "text": [
      "Generating responses:   0%|          | 0/7 [00:00<?, ?it/s]\n"
     ]
    },
    {
     "name": "stdout",
     "output_type": "stream",
     "text": [
      "Error processing example: 'NoneType' object has no attribute 'copy'\n",
      "Error processing example: No Javadoc comment found in the code.\n"
     ]
    },
    {
     "name": "stderr",
     "output_type": "stream",
     "text": [
      "Generating responses:   0%|          | 0/7 [00:00<?, ?it/s]\n"
     ]
    },
    {
     "name": "stdout",
     "output_type": "stream",
     "text": [
      "Error processing example: 'NoneType' object has no attribute 'copy'\n",
      "Error processing example: No Javadoc comment found in the code.\n"
     ]
    },
    {
     "name": "stderr",
     "output_type": "stream",
     "text": [
      "Processing dataset:  56%|█████▌    | 2336/4156 [00:25<00:19, 91.71it/s]"
     ]
    },
    {
     "name": "stdout",
     "output_type": "stream",
     "text": [
      "Error processing example: No Javadoc comment found in the code.\n",
      "Error processing example: No Javadoc comment found in the code.\n"
     ]
    },
    {
     "name": "stderr",
     "output_type": "stream",
     "text": [
      "Generating responses:   0%|          | 0/7 [00:00<?, ?it/s]\n"
     ]
    },
    {
     "name": "stdout",
     "output_type": "stream",
     "text": [
      "Error processing example: 'NoneType' object has no attribute 'copy'\n",
      "Error processing example: No Javadoc comment found in the code.\n",
      "Error processing example: No Javadoc comment found in the code.\n",
      "Error processing example: No Javadoc comment found in the code.\n",
      "Error processing example: No Javadoc comment found in the code.\n",
      "Error processing example: No Javadoc comment found in the code.\n",
      "Error processing example: No Javadoc comment found in the code.\n",
      "Error processing example: No Javadoc comment found in the code.\n"
     ]
    },
    {
     "name": "stderr",
     "output_type": "stream",
     "text": [
      "Generating responses:   0%|          | 0/7 [00:00<?, ?it/s]"
     ]
    },
    {
     "name": "stdout",
     "output_type": "stream",
     "text": [
      "Error processing example: 'NoneType' object has no attribute 'copy'\n"
     ]
    },
    {
     "name": "stderr",
     "output_type": "stream",
     "text": [
      "\n"
     ]
    },
    {
     "name": "stdout",
     "output_type": "stream",
     "text": [
      "Error processing example: No Javadoc comment found in the code.\n",
      "Error processing example: No Javadoc comment found in the code.\n"
     ]
    },
    {
     "name": "stderr",
     "output_type": "stream",
     "text": [
      "Generating responses:   0%|          | 0/7 [00:00<?, ?it/s]\n"
     ]
    },
    {
     "name": "stdout",
     "output_type": "stream",
     "text": [
      "Error processing example: 'NoneType' object has no attribute 'copy'\n",
      "Error processing example: No Javadoc comment found in the code.\n",
      "Error processing example: No Javadoc comment found in the code.\n",
      "Error processing example: No Javadoc comment found in the code.\n",
      "Error processing example: No Javadoc comment found in the code.\n",
      "Error processing example: No Javadoc comment found in the code.\n",
      "Error processing example: No Javadoc comment found in the code.\n",
      "Error processing example: No Javadoc comment found in the code.\n"
     ]
    },
    {
     "name": "stderr",
     "output_type": "stream",
     "text": [
      "Generating responses:   0%|          | 0/7 [00:00<?, ?it/s]\n",
      "Processing dataset:  57%|█████▋    | 2357/4156 [00:25<00:15, 113.51it/s]"
     ]
    },
    {
     "name": "stdout",
     "output_type": "stream",
     "text": [
      "Error processing example: 'NoneType' object has no attribute 'copy'\n",
      "Error processing example: No Javadoc comment found in the code.\n",
      "Error processing example: No Javadoc comment found in the code.\n"
     ]
    },
    {
     "name": "stderr",
     "output_type": "stream",
     "text": [
      "Generating responses:   0%|          | 0/7 [00:00<?, ?it/s]\n"
     ]
    },
    {
     "name": "stdout",
     "output_type": "stream",
     "text": [
      "Error processing example: 'NoneType' object has no attribute 'copy'\n"
     ]
    },
    {
     "name": "stderr",
     "output_type": "stream",
     "text": [
      "Generating responses:   0%|          | 0/7 [00:00<?, ?it/s]\n"
     ]
    },
    {
     "name": "stdout",
     "output_type": "stream",
     "text": [
      "Error processing example: 'NoneType' object has no attribute 'copy'\n",
      "Error processing example: No Javadoc comment found in the code.\n"
     ]
    },
    {
     "name": "stderr",
     "output_type": "stream",
     "text": [
      "Generating responses:   0%|          | 0/7 [00:00<?, ?it/s]\n"
     ]
    },
    {
     "name": "stdout",
     "output_type": "stream",
     "text": [
      "Error processing example: 'NoneType' object has no attribute 'copy'\n",
      "Error processing example: No Javadoc comment found in the code.\n",
      "Error processing example: No Javadoc comment found in the code.\n",
      "Error processing example: No Javadoc comment found in the code.\n",
      "Error processing example: No Javadoc comment found in the code.\n"
     ]
    },
    {
     "name": "stderr",
     "output_type": "stream",
     "text": [
      "Generating responses:   0%|          | 0/7 [00:00<?, ?it/s]\n",
      "Processing dataset:  57%|█████▋    | 2369/4156 [00:25<00:15, 112.11it/s]"
     ]
    },
    {
     "name": "stdout",
     "output_type": "stream",
     "text": [
      "Error processing example: 'NoneType' object has no attribute 'copy'\n",
      "Error processing example: No Javadoc comment found in the code.\n",
      "Error processing example: No Javadoc comment found in the code.\n",
      "Error processing example: No Javadoc comment found in the code.\n"
     ]
    },
    {
     "name": "stderr",
     "output_type": "stream",
     "text": [
      "Generating responses:   0%|          | 0/7 [00:00<?, ?it/s]\n"
     ]
    },
    {
     "name": "stdout",
     "output_type": "stream",
     "text": [
      "Error processing example: 'NoneType' object has no attribute 'copy'\n"
     ]
    },
    {
     "name": "stderr",
     "output_type": "stream",
     "text": [
      "Generating responses:   0%|          | 0/7 [00:00<?, ?it/s]\n"
     ]
    },
    {
     "name": "stdout",
     "output_type": "stream",
     "text": [
      "Error processing example: 'NoneType' object has no attribute 'copy'\n"
     ]
    },
    {
     "name": "stderr",
     "output_type": "stream",
     "text": [
      "Generating responses:   0%|          | 0/7 [00:00<?, ?it/s]\n"
     ]
    },
    {
     "name": "stdout",
     "output_type": "stream",
     "text": [
      "Error processing example: 'NoneType' object has no attribute 'copy'\n"
     ]
    },
    {
     "name": "stderr",
     "output_type": "stream",
     "text": [
      "Generating responses:   0%|          | 0/7 [00:00<?, ?it/s]\n"
     ]
    },
    {
     "name": "stdout",
     "output_type": "stream",
     "text": [
      "Error processing example: 'NoneType' object has no attribute 'copy'\n",
      "Error processing example: No Javadoc comment found in the code.\n",
      "Error processing example: No Javadoc comment found in the code.\n"
     ]
    },
    {
     "name": "stderr",
     "output_type": "stream",
     "text": [
      "Processing dataset:  57%|█████▋    | 2381/4156 [00:25<00:16, 110.03it/s]"
     ]
    },
    {
     "name": "stdout",
     "output_type": "stream",
     "text": [
      "Error processing example: No Javadoc comment found in the code.\n",
      "Error processing example: No Javadoc comment found in the code.\n",
      "Error processing example: No Javadoc comment found in the code.\n",
      "Error processing example: No Javadoc comment found in the code.\n",
      "Error processing example: No Javadoc comment found in the code.\n",
      "Error processing example: No Javadoc comment found in the code.\n",
      "Error processing example: No Javadoc comment found in the code.\n",
      "Error processing example: No Javadoc comment found in the code.\n"
     ]
    },
    {
     "name": "stderr",
     "output_type": "stream",
     "text": [
      "Generating responses:   0%|          | 0/7 [00:00<?, ?it/s]\n"
     ]
    },
    {
     "name": "stdout",
     "output_type": "stream",
     "text": [
      "Error processing example: 'NoneType' object has no attribute 'copy'\n"
     ]
    },
    {
     "name": "stderr",
     "output_type": "stream",
     "text": [
      "Generating responses:   0%|          | 0/7 [00:00<?, ?it/s]\n"
     ]
    },
    {
     "name": "stdout",
     "output_type": "stream",
     "text": [
      "Error processing example: 'NoneType' object has no attribute 'copy'\n"
     ]
    },
    {
     "name": "stderr",
     "output_type": "stream",
     "text": [
      "Generating responses:   0%|          | 0/7 [00:00<?, ?it/s]\n"
     ]
    },
    {
     "name": "stdout",
     "output_type": "stream",
     "text": [
      "Error processing example: 'NoneType' object has no attribute 'copy'\n"
     ]
    },
    {
     "name": "stderr",
     "output_type": "stream",
     "text": [
      "Generating responses:   0%|          | 0/7 [00:00<?, ?it/s]\n"
     ]
    },
    {
     "name": "stdout",
     "output_type": "stream",
     "text": [
      "Error processing example: 'NoneType' object has no attribute 'copy'\n",
      "Error processing example: No Javadoc comment found in the code.\n",
      "Error processing example: No Javadoc comment found in the code.\n"
     ]
    },
    {
     "name": "stderr",
     "output_type": "stream",
     "text": [
      "Generating responses:   0%|          | 0/7 [00:00<?, ?it/s]\n"
     ]
    },
    {
     "name": "stdout",
     "output_type": "stream",
     "text": [
      "Error processing example: 'NoneType' object has no attribute 'copy'\n"
     ]
    },
    {
     "name": "stderr",
     "output_type": "stream",
     "text": [
      "Generating responses:   0%|          | 0/7 [00:00<?, ?it/s]\n",
      "Processing dataset:  58%|█████▊    | 2393/4156 [00:25<00:19, 91.74it/s] "
     ]
    },
    {
     "name": "stdout",
     "output_type": "stream",
     "text": [
      "Error processing example: 'NoneType' object has no attribute 'copy'\n",
      "Error processing example: No Javadoc comment found in the code.\n",
      "Error processing example: No Javadoc comment found in the code.\n",
      "Error processing example: No Javadoc comment found in the code.\n"
     ]
    },
    {
     "name": "stderr",
     "output_type": "stream",
     "text": [
      "Generating responses:   0%|          | 0/7 [00:00<?, ?it/s]\n"
     ]
    },
    {
     "name": "stdout",
     "output_type": "stream",
     "text": [
      "Error processing example: 'NoneType' object has no attribute 'copy'\n",
      "Error processing example: No Javadoc comment found in the code.\n"
     ]
    },
    {
     "name": "stderr",
     "output_type": "stream",
     "text": [
      "Generating responses:   0%|          | 0/7 [00:00<?, ?it/s]\n"
     ]
    },
    {
     "name": "stdout",
     "output_type": "stream",
     "text": [
      "Error processing example: 'NoneType' object has no attribute 'copy'\n"
     ]
    },
    {
     "name": "stderr",
     "output_type": "stream",
     "text": [
      "Generating responses:   0%|          | 0/7 [00:00<?, ?it/s]\n"
     ]
    },
    {
     "name": "stdout",
     "output_type": "stream",
     "text": [
      "Error processing example: 'NoneType' object has no attribute 'copy'\n"
     ]
    },
    {
     "name": "stderr",
     "output_type": "stream",
     "text": [
      "Generating responses:   0%|          | 0/7 [00:00<?, ?it/s]\n"
     ]
    },
    {
     "name": "stdout",
     "output_type": "stream",
     "text": [
      "Error processing example: 'NoneType' object has no attribute 'copy'\n"
     ]
    },
    {
     "name": "stderr",
     "output_type": "stream",
     "text": [
      "Processing dataset:  58%|█████▊    | 2403/4156 [00:25<00:18, 93.62it/s]"
     ]
    },
    {
     "name": "stdout",
     "output_type": "stream",
     "text": [
      "Error processing example: No Javadoc comment found in the code.\n",
      "Error processing example: No Javadoc comment found in the code.\n",
      "Error processing example: No Javadoc comment found in the code.\n"
     ]
    },
    {
     "name": "stderr",
     "output_type": "stream",
     "text": [
      "Generating responses:   0%|          | 0/7 [00:00<?, ?it/s]\n"
     ]
    },
    {
     "name": "stdout",
     "output_type": "stream",
     "text": [
      "Error processing example: 'NoneType' object has no attribute 'copy'\n",
      "Error processing example: No Javadoc comment found in the code.\n",
      "Error processing example: No Javadoc comment found in the code.\n",
      "Error processing example: No Javadoc comment found in the code.\n",
      "Error processing example: No Javadoc comment found in the code.\n",
      "Error processing example: No Javadoc comment found in the code.\n"
     ]
    },
    {
     "name": "stderr",
     "output_type": "stream",
     "text": [
      "Generating responses:   0%|          | 0/7 [00:00<?, ?it/s]"
     ]
    },
    {
     "name": "stdout",
     "output_type": "stream",
     "text": [
      "Error processing example: 'NoneType' object has no attribute 'copy'\n",
      "Error processing example: No Javadoc comment found in the code.\n"
     ]
    },
    {
     "name": "stderr",
     "output_type": "stream",
     "text": [
      "\n"
     ]
    },
    {
     "name": "stdout",
     "output_type": "stream",
     "text": [
      "Error processing example: No Javadoc comment found in the code.\n"
     ]
    },
    {
     "name": "stderr",
     "output_type": "stream",
     "text": [
      "Generating responses:   0%|          | 0/7 [00:00<?, ?it/s]\n"
     ]
    },
    {
     "name": "stdout",
     "output_type": "stream",
     "text": [
      "Error processing example: 'NoneType' object has no attribute 'copy'\n"
     ]
    },
    {
     "name": "stderr",
     "output_type": "stream",
     "text": [
      "Generating responses:   0%|          | 0/7 [00:00<?, ?it/s]\n"
     ]
    },
    {
     "name": "stdout",
     "output_type": "stream",
     "text": [
      "Error processing example: 'NoneType' object has no attribute 'copy'\n"
     ]
    },
    {
     "name": "stderr",
     "output_type": "stream",
     "text": [
      "Generating responses:   0%|          | 0/7 [00:00<?, ?it/s]\n",
      "Processing dataset:  58%|█████▊    | 2416/4156 [00:25<00:17, 101.63it/s]"
     ]
    },
    {
     "name": "stdout",
     "output_type": "stream",
     "text": [
      "Error processing example: 'NoneType' object has no attribute 'copy'\n"
     ]
    },
    {
     "name": "stderr",
     "output_type": "stream",
     "text": [
      "Generating responses:   0%|          | 0/7 [00:00<?, ?it/s]\n"
     ]
    },
    {
     "name": "stdout",
     "output_type": "stream",
     "text": [
      "Error processing example: 'NoneType' object has no attribute 'copy'\n"
     ]
    },
    {
     "name": "stderr",
     "output_type": "stream",
     "text": [
      "Generating responses:   0%|          | 0/7 [00:00<?, ?it/s]"
     ]
    },
    {
     "name": "stdout",
     "output_type": "stream",
     "text": [
      "Error processing example: 'NoneType' object has no attribute 'copy'\n"
     ]
    },
    {
     "name": "stderr",
     "output_type": "stream",
     "text": [
      "\n",
      "Generating responses:   0%|          | 0/7 [00:00<?, ?it/s]\n"
     ]
    },
    {
     "name": "stdout",
     "output_type": "stream",
     "text": [
      "Error processing example: 'NoneType' object has no attribute 'copy'\n"
     ]
    },
    {
     "name": "stderr",
     "output_type": "stream",
     "text": [
      "Generating responses:   0%|          | 0/7 [00:00<?, ?it/s]\n"
     ]
    },
    {
     "name": "stdout",
     "output_type": "stream",
     "text": [
      "Error processing example: 'NoneType' object has no attribute 'copy'\n",
      "Error processing example: No Javadoc comment found in the code.\n"
     ]
    },
    {
     "name": "stderr",
     "output_type": "stream",
     "text": [
      "Generating responses:   0%|          | 0/7 [00:00<?, ?it/s]\n"
     ]
    },
    {
     "name": "stdout",
     "output_type": "stream",
     "text": [
      "Error processing example: 'NoneType' object has no attribute 'copy'\n",
      "Error processing example: No Javadoc comment found in the code.\n",
      "Error processing example: No Javadoc comment found in the code.\n",
      "Error processing example: No Javadoc comment found in the code.\n"
     ]
    },
    {
     "name": "stderr",
     "output_type": "stream",
     "text": [
      "Generating responses:   0%|          | 0/7 [00:00<?, ?it/s]\n"
     ]
    },
    {
     "name": "stdout",
     "output_type": "stream",
     "text": [
      "Error processing example: 'NoneType' object has no attribute 'copy'\n"
     ]
    },
    {
     "name": "stderr",
     "output_type": "stream",
     "text": [
      "Generating responses:   0%|          | 0/7 [00:00<?, ?it/s]\n",
      "Processing dataset:  58%|█████▊    | 2427/4156 [00:25<00:20, 83.33it/s] "
     ]
    },
    {
     "name": "stdout",
     "output_type": "stream",
     "text": [
      "Error processing example: 'NoneType' object has no attribute 'copy'\n",
      "Error processing example: No Javadoc comment found in the code.\n",
      "Error processing example: No Javadoc comment found in the code.\n",
      "Error processing example: No Javadoc comment found in the code.\n"
     ]
    },
    {
     "name": "stderr",
     "output_type": "stream",
     "text": [
      "Generating responses:   0%|          | 0/7 [00:00<?, ?it/s]\n"
     ]
    },
    {
     "name": "stdout",
     "output_type": "stream",
     "text": [
      "Error processing example: 'NoneType' object has no attribute 'copy'\n"
     ]
    },
    {
     "name": "stderr",
     "output_type": "stream",
     "text": [
      "Generating responses:   0%|          | 0/7 [00:00<?, ?it/s]\n"
     ]
    },
    {
     "name": "stdout",
     "output_type": "stream",
     "text": [
      "Error processing example: 'NoneType' object has no attribute 'copy'\n"
     ]
    },
    {
     "name": "stderr",
     "output_type": "stream",
     "text": [
      "Generating responses:   0%|          | 0/7 [00:00<?, ?it/s]\n"
     ]
    },
    {
     "name": "stdout",
     "output_type": "stream",
     "text": [
      "Error processing example: 'NoneType' object has no attribute 'copy'\n",
      "Error processing example: No Javadoc comment found in the code.\n",
      "Error processing example: No Javadoc comment found in the code.\n",
      "Error processing example: No Javadoc comment found in the code.\n",
      "Error processing example: No Javadoc comment found in the code.\n",
      "Error processing example: No Javadoc comment found in the code.\n"
     ]
    },
    {
     "name": "stderr",
     "output_type": "stream",
     "text": [
      "Generating responses:   0%|          | 0/7 [00:00<?, ?it/s]\n",
      "Processing dataset:  59%|█████▊    | 2439/4156 [00:26<00:19, 90.25it/s]"
     ]
    },
    {
     "name": "stdout",
     "output_type": "stream",
     "text": [
      "Error processing example: 'NoneType' object has no attribute 'copy'\n",
      "Error processing example: No Javadoc comment found in the code.\n",
      "Error processing example: No Javadoc comment found in the code.\n",
      "Error processing example: No Javadoc comment found in the code.\n"
     ]
    },
    {
     "name": "stderr",
     "output_type": "stream",
     "text": [
      "Generating responses:   0%|          | 0/7 [00:00<?, ?it/s]\n"
     ]
    },
    {
     "name": "stdout",
     "output_type": "stream",
     "text": [
      "Error processing example: 'NoneType' object has no attribute 'copy'\n",
      "Error processing example: No Javadoc comment found in the code.\n",
      "Error processing example: No Javadoc comment found in the code.\n",
      "Error processing example: No Javadoc comment found in the code.\n",
      "Error processing example: No Javadoc comment found in the code.\n",
      "Error processing example: No Javadoc comment found in the code.\n",
      "Error processing example: No Javadoc comment found in the code.\n",
      "Error processing example: No Javadoc comment found in the code.\n",
      "Error processing example: No Javadoc comment found in the code.\n"
     ]
    },
    {
     "name": "stderr",
     "output_type": "stream",
     "text": [
      "Generating responses:   0%|          | 0/7 [00:00<?, ?it/s]\n"
     ]
    },
    {
     "name": "stdout",
     "output_type": "stream",
     "text": [
      "Error processing example: 'NoneType' object has no attribute 'copy'\n"
     ]
    },
    {
     "name": "stderr",
     "output_type": "stream",
     "text": [
      "Generating responses:   0%|          | 0/7 [00:00<?, ?it/s]\n",
      "Processing dataset:  59%|█████▉    | 2453/4156 [00:26<00:16, 102.04it/s]"
     ]
    },
    {
     "name": "stdout",
     "output_type": "stream",
     "text": [
      "Error processing example: 'NoneType' object has no attribute 'copy'\n",
      "Error processing example: No Javadoc comment found in the code.\n"
     ]
    },
    {
     "name": "stderr",
     "output_type": "stream",
     "text": [
      "Generating responses:   0%|          | 0/7 [00:00<?, ?it/s]\n"
     ]
    },
    {
     "name": "stdout",
     "output_type": "stream",
     "text": [
      "Error processing example: 'NoneType' object has no attribute 'copy'\n"
     ]
    },
    {
     "name": "stderr",
     "output_type": "stream",
     "text": [
      "Generating responses:   0%|          | 0/7 [00:00<?, ?it/s]\n"
     ]
    },
    {
     "name": "stdout",
     "output_type": "stream",
     "text": [
      "Error processing example: 'NoneType' object has no attribute 'copy'\n",
      "Error processing example: No Javadoc comment found in the code.\n",
      "Error processing example: No Javadoc comment found in the code.\n",
      "Error processing example: No Javadoc comment found in the code.\n"
     ]
    },
    {
     "name": "stderr",
     "output_type": "stream",
     "text": [
      "Generating responses:   0%|          | 0/7 [00:00<?, ?it/s]"
     ]
    },
    {
     "name": "stdout",
     "output_type": "stream",
     "text": [
      "Error processing example: 'NoneType' object has no attribute 'copy'\n"
     ]
    },
    {
     "name": "stderr",
     "output_type": "stream",
     "text": [
      "\n",
      "Generating responses:   0%|          | 0/7 [00:00<?, ?it/s]\n"
     ]
    },
    {
     "name": "stdout",
     "output_type": "stream",
     "text": [
      "Error processing example: 'NoneType' object has no attribute 'copy'\n"
     ]
    },
    {
     "name": "stderr",
     "output_type": "stream",
     "text": [
      "Generating responses:   0%|          | 0/7 [00:00<?, ?it/s]\n"
     ]
    },
    {
     "name": "stdout",
     "output_type": "stream",
     "text": [
      "Error processing example: 'NoneType' object has no attribute 'copy'\n"
     ]
    },
    {
     "name": "stderr",
     "output_type": "stream",
     "text": [
      "Generating responses:   0%|          | 0/7 [00:00<?, ?it/s]"
     ]
    },
    {
     "name": "stdout",
     "output_type": "stream",
     "text": [
      "Error processing example: 'NoneType' object has no attribute 'copy'"
     ]
    },
    {
     "name": "stderr",
     "output_type": "stream",
     "text": [
      "\n"
     ]
    },
    {
     "name": "stdout",
     "output_type": "stream",
     "text": [
      "\n"
     ]
    },
    {
     "name": "stderr",
     "output_type": "stream",
     "text": [
      "Generating responses:   0%|          | 0/7 [00:00<?, ?it/s]\n",
      "Processing dataset:  59%|█████▉    | 2464/4156 [00:26<00:20, 83.81it/s] "
     ]
    },
    {
     "name": "stdout",
     "output_type": "stream",
     "text": [
      "Error processing example: 'NoneType' object has no attribute 'copy'\n"
     ]
    },
    {
     "name": "stderr",
     "output_type": "stream",
     "text": [
      "Generating responses:   0%|          | 0/7 [00:00<?, ?it/s]\n"
     ]
    },
    {
     "name": "stdout",
     "output_type": "stream",
     "text": [
      "Error processing example: 'NoneType' object has no attribute 'copy'\n"
     ]
    },
    {
     "name": "stderr",
     "output_type": "stream",
     "text": [
      "Generating responses:   0%|          | 0/7 [00:00<?, ?it/s]\n"
     ]
    },
    {
     "name": "stdout",
     "output_type": "stream",
     "text": [
      "Error processing example: 'NoneType' object has no attribute 'copy'\n"
     ]
    },
    {
     "name": "stderr",
     "output_type": "stream",
     "text": [
      "Generating responses:   0%|          | 0/7 [00:00<?, ?it/s]\n"
     ]
    },
    {
     "name": "stdout",
     "output_type": "stream",
     "text": [
      "Error processing example: 'NoneType' object has no attribute 'copy'\n",
      "Error processing example: No Javadoc comment found in the code.\n",
      "Error processing example: No Javadoc comment found in the code.\n",
      "Error processing example: No Javadoc comment found in the code.\n",
      "Error processing example: No Javadoc comment found in the code.\n",
      "Error processing example: No Javadoc comment found in the code.\n",
      "Error processing example: No Javadoc comment found in the code.\n"
     ]
    },
    {
     "name": "stderr",
     "output_type": "stream",
     "text": [
      "Generating responses:   0%|          | 0/7 [00:00<?, ?it/s]\n",
      "Processing dataset:  60%|█████▉    | 2474/4156 [00:26<00:20, 80.68it/s]"
     ]
    },
    {
     "name": "stdout",
     "output_type": "stream",
     "text": [
      "Error processing example: 'NoneType' object has no attribute 'copy'\n",
      "Error processing example: No Javadoc comment found in the code.\n",
      "Error processing example: No Javadoc comment found in the code.\n",
      "Error processing example: No Javadoc comment found in the code.\n"
     ]
    },
    {
     "name": "stderr",
     "output_type": "stream",
     "text": [
      "Generating responses:   0%|          | 0/7 [00:00<?, ?it/s]\n"
     ]
    },
    {
     "name": "stdout",
     "output_type": "stream",
     "text": [
      "Error processing example: 'NoneType' object has no attribute 'copy'\n"
     ]
    },
    {
     "name": "stderr",
     "output_type": "stream",
     "text": [
      "Generating responses:   0%|          | 0/7 [00:00<?, ?it/s]\n"
     ]
    },
    {
     "name": "stdout",
     "output_type": "stream",
     "text": [
      "Error processing example: 'NoneType' object has no attribute 'copy'\n",
      "Error processing example: No Javadoc comment found in the code.\n"
     ]
    },
    {
     "name": "stderr",
     "output_type": "stream",
     "text": [
      "Generating responses:   0%|          | 0/7 [00:00<?, ?it/s]\n"
     ]
    },
    {
     "name": "stdout",
     "output_type": "stream",
     "text": [
      "Error processing example: 'NoneType' object has no attribute 'copy'\n"
     ]
    },
    {
     "name": "stderr",
     "output_type": "stream",
     "text": [
      "Processing dataset:  60%|█████▉    | 2483/4156 [00:26<00:21, 79.20it/s]"
     ]
    },
    {
     "name": "stdout",
     "output_type": "stream",
     "text": [
      "Error processing example: No Javadoc comment found in the code.\n",
      "Error processing example: No Javadoc comment found in the code.\n",
      "Error processing example: No Javadoc comment found in the code.\n",
      "Error processing example: No Javadoc comment found in the code.\n",
      "Error processing example: No Javadoc comment found in the code.\n"
     ]
    },
    {
     "name": "stderr",
     "output_type": "stream",
     "text": [
      "Generating responses:   0%|          | 0/7 [00:00<?, ?it/s]"
     ]
    },
    {
     "name": "stdout",
     "output_type": "stream",
     "text": [
      "Error processing example: 'NoneType' object has no attribute 'copy'\n",
      "Error processing example: No Javadoc comment found in the code.\n",
      "Error processing example: No Javadoc comment found in the code.\n",
      "Error processing example: No Javadoc comment found in the code.\n"
     ]
    },
    {
     "name": "stderr",
     "output_type": "stream",
     "text": [
      "\n"
     ]
    },
    {
     "name": "stdout",
     "output_type": "stream",
     "text": [
      "Error processing example: No Javadoc comment found in the code.\n"
     ]
    },
    {
     "name": "stderr",
     "output_type": "stream",
     "text": [
      "Generating responses:   0%|          | 0/7 [00:00<?, ?it/s]\n"
     ]
    },
    {
     "name": "stdout",
     "output_type": "stream",
     "text": [
      "Error processing example: 'NoneType' object has no attribute 'copy'\n",
      "Error processing example: No Javadoc comment found in the code.\n",
      "Error processing example: No Javadoc comment found in the code.\n",
      "Error processing example: No Javadoc comment found in the code.\n"
     ]
    },
    {
     "name": "stderr",
     "output_type": "stream",
     "text": [
      "Processing dataset:  60%|██████    | 2497/4156 [00:26<00:17, 93.36it/s]"
     ]
    },
    {
     "name": "stdout",
     "output_type": "stream",
     "text": [
      "Error processing example: No Javadoc comment found in the code.\n",
      "Error processing example: No Javadoc comment found in the code.\n"
     ]
    },
    {
     "name": "stderr",
     "output_type": "stream",
     "text": [
      "Generating responses:   0%|          | 0/7 [00:00<?, ?it/s]\n"
     ]
    },
    {
     "name": "stdout",
     "output_type": "stream",
     "text": [
      "Error processing example: 'NoneType' object has no attribute 'copy'\n",
      "Error processing example: No Javadoc comment found in the code.\n",
      "Error processing example: No Javadoc comment found in the code.\n"
     ]
    },
    {
     "name": "stderr",
     "output_type": "stream",
     "text": [
      "Generating responses:   0%|          | 0/7 [00:00<?, ?it/s]\n"
     ]
    },
    {
     "name": "stdout",
     "output_type": "stream",
     "text": [
      "Error processing example: 'NoneType' object has no attribute 'copy'\n",
      "Error processing example: No Javadoc comment found in the code.\n"
     ]
    },
    {
     "name": "stderr",
     "output_type": "stream",
     "text": [
      "Generating responses:   0%|          | 0/7 [00:00<?, ?it/s]\n"
     ]
    },
    {
     "name": "stdout",
     "output_type": "stream",
     "text": [
      "Error processing example: 'NoneType' object has no attribute 'copy'\n",
      "Error processing example: No Javadoc comment found in the code.\n"
     ]
    },
    {
     "name": "stderr",
     "output_type": "stream",
     "text": [
      "Generating responses:   0%|          | 0/7 [00:00<?, ?it/s]\n",
      "Processing dataset:  60%|██████    | 2507/4156 [00:26<00:19, 82.50it/s]"
     ]
    },
    {
     "name": "stdout",
     "output_type": "stream",
     "text": [
      "Error processing example: 'NoneType' object has no attribute 'copy'\n",
      "Error processing example: No Javadoc comment found in the code.\n",
      "Error processing example: No Javadoc comment found in the code.\n",
      "Error processing example: No Javadoc comment found in the code.\n"
     ]
    },
    {
     "name": "stderr",
     "output_type": "stream",
     "text": [
      "Generating responses:   0%|          | 0/7 [00:00<?, ?it/s]\n"
     ]
    },
    {
     "name": "stdout",
     "output_type": "stream",
     "text": [
      "Error processing example: 'NoneType' object has no attribute 'copy'\n",
      "Error processing example: No Javadoc comment found in the code.\n",
      "Error processing example: No Javadoc comment found in the code.\n"
     ]
    },
    {
     "name": "stderr",
     "output_type": "stream",
     "text": [
      "Generating responses:   0%|          | 0/7 [00:00<?, ?it/s]\n"
     ]
    },
    {
     "name": "stdout",
     "output_type": "stream",
     "text": [
      "Error processing example: 'NoneType' object has no attribute 'copy'\n"
     ]
    },
    {
     "name": "stderr",
     "output_type": "stream",
     "text": [
      "Generating responses:   0%|          | 0/7 [00:00<?, ?it/s]\n"
     ]
    },
    {
     "name": "stdout",
     "output_type": "stream",
     "text": [
      "Error processing example: 'NoneType' object has no attribute 'copy'\n"
     ]
    },
    {
     "name": "stderr",
     "output_type": "stream",
     "text": [
      "Generating responses:   0%|          | 0/7 [00:00<?, ?it/s]\n"
     ]
    },
    {
     "name": "stdout",
     "output_type": "stream",
     "text": [
      "Error processing example: 'NoneType' object has no attribute 'copy'\n"
     ]
    },
    {
     "name": "stderr",
     "output_type": "stream",
     "text": [
      "Generating responses:   0%|          | 0/7 [00:00<?, ?it/s]\n"
     ]
    },
    {
     "name": "stdout",
     "output_type": "stream",
     "text": [
      "Error processing example: 'NoneType' object has no attribute 'copy'\n"
     ]
    },
    {
     "name": "stderr",
     "output_type": "stream",
     "text": [
      "Processing dataset:  61%|██████    | 2516/4156 [00:27<00:22, 73.43it/s]"
     ]
    },
    {
     "name": "stdout",
     "output_type": "stream",
     "text": [
      "Error processing example: No Javadoc comment found in the code.\n",
      "Error processing example: No Javadoc comment found in the code.\n",
      "Error processing example: No Javadoc comment found in the code.\n",
      "Error processing example: No Javadoc comment found in the code.\n",
      "Error processing example: No Javadoc comment found in the code.\n"
     ]
    },
    {
     "name": "stderr",
     "output_type": "stream",
     "text": [
      "Generating responses:   0%|          | 0/7 [00:00<?, ?it/s]"
     ]
    },
    {
     "name": "stdout",
     "output_type": "stream",
     "text": [
      "Error processing example: 'NoneType' object has no attribute 'copy'\n"
     ]
    },
    {
     "name": "stderr",
     "output_type": "stream",
     "text": [
      "\n"
     ]
    },
    {
     "name": "stdout",
     "output_type": "stream",
     "text": [
      "Error processing example: No Javadoc comment found in the code.\n",
      "Error processing example: No Javadoc comment found in the code.\n",
      "Error processing example: No Javadoc comment found in the code.\n",
      "Error processing example: No Javadoc comment found in the code.\n"
     ]
    },
    {
     "name": "stderr",
     "output_type": "stream",
     "text": [
      "Processing dataset:  61%|██████    | 2528/4156 [00:27<00:19, 83.88it/s]"
     ]
    },
    {
     "name": "stdout",
     "output_type": "stream",
     "text": [
      "Error processing example: No Javadoc comment found in the code.\n",
      "Error processing example: No Javadoc comment found in the code.\n",
      "Error processing example: No Javadoc comment found in the code.\n"
     ]
    },
    {
     "name": "stderr",
     "output_type": "stream",
     "text": [
      "Generating responses:   0%|          | 0/7 [00:00<?, ?it/s]\n"
     ]
    },
    {
     "name": "stdout",
     "output_type": "stream",
     "text": [
      "Error processing example: 'NoneType' object has no attribute 'copy'\n"
     ]
    },
    {
     "name": "stderr",
     "output_type": "stream",
     "text": [
      "Generating responses:   0%|          | 0/7 [00:00<?, ?it/s]\n"
     ]
    },
    {
     "name": "stdout",
     "output_type": "stream",
     "text": [
      "Error processing example: 'NoneType' object has no attribute 'copy'\n"
     ]
    },
    {
     "name": "stderr",
     "output_type": "stream",
     "text": [
      "Generating responses:   0%|          | 0/7 [00:00<?, ?it/s]\n"
     ]
    },
    {
     "name": "stdout",
     "output_type": "stream",
     "text": [
      "Error processing example: 'NoneType' object has no attribute 'copy'\n",
      "Error processing example: No Javadoc comment found in the code.\n"
     ]
    },
    {
     "name": "stderr",
     "output_type": "stream",
     "text": [
      "Generating responses:   0%|          | 0/7 [00:00<?, ?it/s]"
     ]
    },
    {
     "name": "stdout",
     "output_type": "stream",
     "text": [
      "Error processing example: 'NoneType' object has no attribute 'copy'\n"
     ]
    },
    {
     "name": "stderr",
     "output_type": "stream",
     "text": [
      "\n",
      "Processing dataset:  61%|██████    | 2538/4156 [00:27<00:19, 85.09it/s]"
     ]
    },
    {
     "name": "stdout",
     "output_type": "stream",
     "text": [
      "Error processing example: No Javadoc comment found in the code.\n",
      "Error processing example: No Javadoc comment found in the code.\n",
      "Error processing example: No Javadoc comment found in the code.\n",
      "Error processing example: No Javadoc comment found in the code.\n",
      "Error processing example: No Javadoc comment found in the code.\n",
      "Error processing example: No Javadoc comment found in the code.\n",
      "Error processing example: No Javadoc comment found in the code.\n",
      "Error processing example: No Javadoc comment found in the code.\n"
     ]
    },
    {
     "name": "stderr",
     "output_type": "stream",
     "text": [
      "Generating responses:   0%|          | 0/7 [00:00<?, ?it/s]\n"
     ]
    },
    {
     "name": "stdout",
     "output_type": "stream",
     "text": [
      "Error processing example: 'NoneType' object has no attribute 'copy'\n",
      "Error processing example: No Javadoc comment found in the code.\n"
     ]
    },
    {
     "name": "stderr",
     "output_type": "stream",
     "text": [
      "Generating responses:   0%|          | 0/7 [00:00<?, ?it/s]\n"
     ]
    },
    {
     "name": "stdout",
     "output_type": "stream",
     "text": [
      "Error processing example: 'NoneType' object has no attribute 'copy'\n",
      "Error processing example: No Javadoc comment found in the code.\n"
     ]
    },
    {
     "name": "stderr",
     "output_type": "stream",
     "text": [
      "Generating responses:   0%|          | 0/7 [00:00<?, ?it/s]\n"
     ]
    },
    {
     "name": "stdout",
     "output_type": "stream",
     "text": [
      "Error processing example: 'NoneType' object has no attribute 'copy'\n"
     ]
    },
    {
     "name": "stderr",
     "output_type": "stream",
     "text": [
      "Generating responses:   0%|          | 0/7 [00:00<?, ?it/s]"
     ]
    },
    {
     "name": "stdout",
     "output_type": "stream",
     "text": [
      "Error processing example: 'NoneType' object has no attribute 'copy'\n"
     ]
    },
    {
     "name": "stderr",
     "output_type": "stream",
     "text": [
      "\n"
     ]
    },
    {
     "name": "stdout",
     "output_type": "stream",
     "text": [
      "Error processing example: No Javadoc comment found in the code.\n",
      "Error processing example: No Javadoc comment found in the code.\n",
      "Error processing example: No Javadoc comment found in the code.\n"
     ]
    },
    {
     "name": "stderr",
     "output_type": "stream",
     "text": [
      "Generating responses:   0%|          | 0/7 [00:00<?, ?it/s]\n",
      "Processing dataset:  61%|██████▏   | 2551/4156 [00:27<00:16, 96.49it/s]"
     ]
    },
    {
     "name": "stdout",
     "output_type": "stream",
     "text": [
      "Error processing example: 'NoneType' object has no attribute 'copy'\n"
     ]
    },
    {
     "name": "stderr",
     "output_type": "stream",
     "text": [
      "Generating responses:   0%|          | 0/7 [00:00<?, ?it/s]\n"
     ]
    },
    {
     "name": "stdout",
     "output_type": "stream",
     "text": [
      "Error processing example: 'NoneType' object has no attribute 'copy'\n",
      "Error processing example: No Javadoc comment found in the code.\n"
     ]
    },
    {
     "name": "stderr",
     "output_type": "stream",
     "text": [
      "Generating responses:   0%|          | 0/7 [00:00<?, ?it/s]\n"
     ]
    },
    {
     "name": "stdout",
     "output_type": "stream",
     "text": [
      "Error processing example: 'NoneType' object has no attribute 'copy'\n",
      "Error processing example: No Javadoc comment found in the code.\n"
     ]
    },
    {
     "name": "stderr",
     "output_type": "stream",
     "text": [
      "Generating responses:   0%|          | 0/7 [00:00<?, ?it/s]\n"
     ]
    },
    {
     "name": "stdout",
     "output_type": "stream",
     "text": [
      "Error processing example: 'NoneType' object has no attribute 'copy'\n"
     ]
    },
    {
     "name": "stderr",
     "output_type": "stream",
     "text": [
      "Generating responses:   0%|          | 0/7 [00:00<?, ?it/s]\n"
     ]
    },
    {
     "name": "stdout",
     "output_type": "stream",
     "text": [
      "Error processing example: 'NoneType' object has no attribute 'copy'\n"
     ]
    },
    {
     "name": "stderr",
     "output_type": "stream",
     "text": [
      "Generating responses:   0%|          | 0/7 [00:00<?, ?it/s]\n"
     ]
    },
    {
     "name": "stdout",
     "output_type": "stream",
     "text": [
      "Error processing example: 'NoneType' object has no attribute 'copy'\n"
     ]
    },
    {
     "name": "stderr",
     "output_type": "stream",
     "text": [
      "Generating responses:   0%|          | 0/7 [00:00<?, ?it/s]\n"
     ]
    },
    {
     "name": "stdout",
     "output_type": "stream",
     "text": [
      "Error processing example: 'NoneType' object has no attribute 'copy'\n"
     ]
    },
    {
     "name": "stderr",
     "output_type": "stream",
     "text": [
      "Generating responses:   0%|          | 0/7 [00:00<?, ?it/s]\n"
     ]
    },
    {
     "name": "stdout",
     "output_type": "stream",
     "text": [
      "Error processing example: 'NoneType' object has no attribute 'copy'\n",
      "Error processing example: Javadoc comment is not properly closed.\n"
     ]
    },
    {
     "name": "stderr",
     "output_type": "stream",
     "text": [
      "Generating responses:   0%|          | 0/7 [00:00<?, ?it/s]\n",
      "Processing dataset:  62%|██████▏   | 2562/4156 [00:27<00:18, 85.01it/s]"
     ]
    },
    {
     "name": "stdout",
     "output_type": "stream",
     "text": [
      "Error processing example: 'NoneType' object has no attribute 'copy'\n",
      "Error processing example: No Javadoc comment found in the code.\n",
      "Error processing example: No Javadoc comment found in the code.\n"
     ]
    },
    {
     "name": "stderr",
     "output_type": "stream",
     "text": [
      "Generating responses:   0%|          | 0/7 [00:00<?, ?it/s]"
     ]
    },
    {
     "name": "stdout",
     "output_type": "stream",
     "text": [
      "Error processing example: 'NoneType' object has no attribute 'copy'\n"
     ]
    },
    {
     "name": "stderr",
     "output_type": "stream",
     "text": [
      "\n"
     ]
    },
    {
     "name": "stdout",
     "output_type": "stream",
     "text": [
      "Error processing example: No Javadoc comment found in the code.\n",
      "Error processing example: No Javadoc comment found in the code.\n"
     ]
    },
    {
     "name": "stderr",
     "output_type": "stream",
     "text": [
      "Generating responses:   0%|          | 0/7 [00:00<?, ?it/s]\n"
     ]
    },
    {
     "name": "stdout",
     "output_type": "stream",
     "text": [
      "Error processing example: 'NoneType' object has no attribute 'copy'\n"
     ]
    },
    {
     "name": "stderr",
     "output_type": "stream",
     "text": [
      "Generating responses:   0%|          | 0/7 [00:00<?, ?it/s]\n"
     ]
    },
    {
     "name": "stdout",
     "output_type": "stream",
     "text": [
      "Error processing example: 'NoneType' object has no attribute 'copy'\n",
      "Error processing example: No Javadoc comment found in the code.\n",
      "Error processing example: No Javadoc comment found in the code.\n"
     ]
    },
    {
     "name": "stderr",
     "output_type": "stream",
     "text": [
      "Generating responses:   0%|          | 0/7 [00:00<?, ?it/s]\n",
      "Processing dataset:  62%|██████▏   | 2572/4156 [00:27<00:20, 76.66it/s]"
     ]
    },
    {
     "name": "stdout",
     "output_type": "stream",
     "text": [
      "Error processing example: 'NoneType' object has no attribute 'copy'\n"
     ]
    },
    {
     "name": "stderr",
     "output_type": "stream",
     "text": [
      "Generating responses:   0%|          | 0/7 [00:00<?, ?it/s]"
     ]
    },
    {
     "name": "stdout",
     "output_type": "stream",
     "text": [
      "Error processing example: 'NoneType' object has no attribute 'copy'\n"
     ]
    },
    {
     "name": "stderr",
     "output_type": "stream",
     "text": [
      "\n",
      "Generating responses:   0%|          | 0/7 [00:00<?, ?it/s]\n"
     ]
    },
    {
     "name": "stdout",
     "output_type": "stream",
     "text": [
      "Error processing example: 'NoneType' object has no attribute 'copy'\n"
     ]
    },
    {
     "name": "stderr",
     "output_type": "stream",
     "text": [
      "Generating responses:   0%|          | 0/7 [00:00<?, ?it/s]"
     ]
    },
    {
     "name": "stdout",
     "output_type": "stream",
     "text": [
      "Error processing example: 'NoneType' object has no attribute 'copy'\n",
      "Error processing example: No Javadoc comment found in the code.\n"
     ]
    },
    {
     "name": "stderr",
     "output_type": "stream",
     "text": [
      "\n"
     ]
    },
    {
     "name": "stdout",
     "output_type": "stream",
     "text": [
      "Error processing example: No Javadoc comment found in the code.\n",
      "Error processing example: No Javadoc comment found in the code.\n"
     ]
    },
    {
     "name": "stderr",
     "output_type": "stream",
     "text": [
      "Generating responses:   0%|          | 0/8 [00:00<?, ?it/s]"
     ]
    },
    {
     "name": "stdout",
     "output_type": "stream",
     "text": [
      "Error processing example: 'NoneType' object has no attribute 'copy'\n"
     ]
    },
    {
     "name": "stderr",
     "output_type": "stream",
     "text": [
      "\n",
      "Generating responses:   0%|          | 0/8 [00:00<?, ?it/s]\n",
      "Processing dataset:  62%|██████▏   | 2581/4156 [00:27<00:21, 74.65it/s]"
     ]
    },
    {
     "name": "stdout",
     "output_type": "stream",
     "text": [
      "Error processing example: 'NoneType' object has no attribute 'copy'\n",
      "Error processing example: No Javadoc comment found in the code.\n"
     ]
    },
    {
     "name": "stderr",
     "output_type": "stream",
     "text": [
      "Generating responses:   0%|          | 0/8 [00:00<?, ?it/s]\n"
     ]
    },
    {
     "name": "stdout",
     "output_type": "stream",
     "text": [
      "Error processing example: 'NoneType' object has no attribute 'copy'\n"
     ]
    },
    {
     "name": "stderr",
     "output_type": "stream",
     "text": [
      "Generating responses:   0%|          | 0/8 [00:00<?, ?it/s]\n"
     ]
    },
    {
     "name": "stdout",
     "output_type": "stream",
     "text": [
      "Error processing example: 'NoneType' object has no attribute 'copy'\n"
     ]
    },
    {
     "name": "stderr",
     "output_type": "stream",
     "text": [
      "Generating responses:   0%|          | 0/8 [00:00<?, ?it/s]"
     ]
    },
    {
     "name": "stdout",
     "output_type": "stream",
     "text": [
      "Error processing example: 'NoneType' object has no attribute 'copy'\n"
     ]
    },
    {
     "name": "stderr",
     "output_type": "stream",
     "text": [
      "\n"
     ]
    },
    {
     "name": "stdout",
     "output_type": "stream",
     "text": [
      "Error processing example: No Javadoc comment found in the code.\n"
     ]
    },
    {
     "name": "stderr",
     "output_type": "stream",
     "text": [
      "Generating responses:   0%|          | 0/8 [00:00<?, ?it/s]\n"
     ]
    },
    {
     "name": "stdout",
     "output_type": "stream",
     "text": [
      "Error processing example: 'NoneType' object has no attribute 'copy'\n",
      "Error processing example: No Javadoc comment found in the code.\n",
      "Error processing example: No Javadoc comment found in the code.\n",
      "Error processing example: No Javadoc comment found in the code.\n",
      "Error processing example: No Javadoc comment found in the code.\n",
      "Error processing example: No Javadoc comment found in the code.\n"
     ]
    },
    {
     "name": "stderr",
     "output_type": "stream",
     "text": [
      "Generating responses:   0%|          | 0/8 [00:00<?, ?it/s]\n",
      "Processing dataset:  62%|██████▏   | 2592/4156 [00:27<00:19, 81.86it/s]"
     ]
    },
    {
     "name": "stdout",
     "output_type": "stream",
     "text": [
      "Error processing example: 'NoneType' object has no attribute 'copy'\n",
      "Error processing example: No Javadoc comment found in the code.\n",
      "Error processing example: No Javadoc comment found in the code.\n"
     ]
    },
    {
     "name": "stderr",
     "output_type": "stream",
     "text": [
      "Generating responses:   0%|          | 0/8 [00:00<?, ?it/s]"
     ]
    },
    {
     "name": "stdout",
     "output_type": "stream",
     "text": [
      "Error processing example: 'NoneType' object has no attribute 'copy'\n"
     ]
    },
    {
     "name": "stderr",
     "output_type": "stream",
     "text": [
      "\n",
      "Generating responses:   0%|          | 0/8 [00:00<?, ?it/s]\n"
     ]
    },
    {
     "name": "stdout",
     "output_type": "stream",
     "text": [
      "Error processing example: 'NoneType' object has no attribute 'copy'\n"
     ]
    },
    {
     "name": "stderr",
     "output_type": "stream",
     "text": [
      "Generating responses:   0%|          | 0/8 [00:00<?, ?it/s]\n"
     ]
    },
    {
     "name": "stdout",
     "output_type": "stream",
     "text": [
      "Error processing example: 'NoneType' object has no attribute 'copy'\n",
      "Error processing example: No Javadoc comment found in the code.\n"
     ]
    },
    {
     "name": "stderr",
     "output_type": "stream",
     "text": [
      "Generating responses:   0%|          | 0/8 [00:00<?, ?it/s]\n"
     ]
    },
    {
     "name": "stdout",
     "output_type": "stream",
     "text": [
      "Error processing example: 'NoneType' object has no attribute 'copy'\n"
     ]
    },
    {
     "name": "stderr",
     "output_type": "stream",
     "text": [
      "Generating responses:   0%|          | 0/8 [00:00<?, ?it/s]\n",
      "Processing dataset:  63%|██████▎   | 2601/4156 [00:28<00:20, 75.39it/s]"
     ]
    },
    {
     "name": "stdout",
     "output_type": "stream",
     "text": [
      "Error processing example: 'NoneType' object has no attribute 'copy'\n",
      "Error processing example: No Javadoc comment found in the code.\n",
      "Error processing example: No Javadoc comment found in the code.\n"
     ]
    },
    {
     "name": "stderr",
     "output_type": "stream",
     "text": [
      "Generating responses:   0%|          | 0/8 [00:00<?, ?it/s]\n"
     ]
    },
    {
     "name": "stdout",
     "output_type": "stream",
     "text": [
      "Error processing example: 'NoneType' object has no attribute 'copy'\n",
      "Error processing example: No Javadoc comment found in the code.\n"
     ]
    },
    {
     "name": "stderr",
     "output_type": "stream",
     "text": [
      "Generating responses:   0%|          | 0/8 [00:00<?, ?it/s]\n"
     ]
    },
    {
     "name": "stdout",
     "output_type": "stream",
     "text": [
      "Error processing example: 'NoneType' object has no attribute 'copy'\n",
      "Error processing example: No Javadoc comment found in the code.\n"
     ]
    },
    {
     "name": "stderr",
     "output_type": "stream",
     "text": [
      "Generating responses:   0%|          | 0/8 [00:00<?, ?it/s]\n"
     ]
    },
    {
     "name": "stdout",
     "output_type": "stream",
     "text": [
      "Error processing example: 'NoneType' object has no attribute 'copy'\n"
     ]
    },
    {
     "name": "stderr",
     "output_type": "stream",
     "text": [
      "Processing dataset:  63%|██████▎   | 2609/4156 [00:28<00:20, 75.01it/s]"
     ]
    },
    {
     "name": "stdout",
     "output_type": "stream",
     "text": [
      "Error processing example: No Javadoc comment found in the code.\n",
      "Error processing example: No Javadoc comment found in the code.\n",
      "Error processing example: No Javadoc comment found in the code.\n",
      "Error processing example: No Javadoc comment found in the code.\n",
      "Error processing example: No Javadoc comment found in the code.\n"
     ]
    },
    {
     "name": "stderr",
     "output_type": "stream",
     "text": [
      "Generating responses:   0%|          | 0/8 [00:00<?, ?it/s]\n"
     ]
    },
    {
     "name": "stdout",
     "output_type": "stream",
     "text": [
      "Error processing example: 'NoneType' object has no attribute 'copy'\n"
     ]
    },
    {
     "name": "stderr",
     "output_type": "stream",
     "text": [
      "Generating responses:   0%|          | 0/8 [00:00<?, ?it/s]\n"
     ]
    },
    {
     "name": "stdout",
     "output_type": "stream",
     "text": [
      "Error processing example: 'NoneType' object has no attribute 'copy'\n",
      "Error processing example: No Javadoc comment found in the code.\n",
      "Error processing example: No Javadoc comment found in the code.\n"
     ]
    },
    {
     "name": "stderr",
     "output_type": "stream",
     "text": [
      "Generating responses:   0%|          | 0/8 [00:00<?, ?it/s]\n"
     ]
    },
    {
     "name": "stdout",
     "output_type": "stream",
     "text": [
      "Error processing example: 'NoneType' object has no attribute 'copy'\n",
      "Error processing example: No Javadoc comment found in the code.\n",
      "Error processing example: No Javadoc comment found in the code.\n"
     ]
    },
    {
     "name": "stderr",
     "output_type": "stream",
     "text": [
      "Generating responses:   0%|          | 0/8 [00:00<?, ?it/s]\n"
     ]
    },
    {
     "name": "stdout",
     "output_type": "stream",
     "text": [
      "Error processing example: 'NoneType' object has no attribute 'copy'\n"
     ]
    },
    {
     "name": "stderr",
     "output_type": "stream",
     "text": [
      "Generating responses:   0%|          | 0/8 [00:00<?, ?it/s]\n",
      "Processing dataset:  63%|██████▎   | 2621/4156 [00:28<00:18, 84.80it/s]"
     ]
    },
    {
     "name": "stdout",
     "output_type": "stream",
     "text": [
      "Error processing example: 'NoneType' object has no attribute 'copy'\n",
      "Error processing example: No Javadoc comment found in the code.\n"
     ]
    },
    {
     "name": "stderr",
     "output_type": "stream",
     "text": [
      "Generating responses:   0%|          | 0/8 [00:00<?, ?it/s]\n"
     ]
    },
    {
     "name": "stdout",
     "output_type": "stream",
     "text": [
      "Error processing example: 'NoneType' object has no attribute 'copy'\n",
      "Error processing example: No Javadoc comment found in the code.\n",
      "Error processing example: No Javadoc comment found in the code.\n",
      "Error processing example: No Javadoc comment found in the code.\n",
      "Error processing example: No Javadoc comment found in the code.\n"
     ]
    },
    {
     "name": "stderr",
     "output_type": "stream",
     "text": [
      "Generating responses:   0%|          | 0/8 [00:00<?, ?it/s]\n"
     ]
    },
    {
     "name": "stdout",
     "output_type": "stream",
     "text": [
      "Error processing example: 'NoneType' object has no attribute 'copy'\n"
     ]
    },
    {
     "name": "stderr",
     "output_type": "stream",
     "text": [
      "Generating responses:   0%|          | 0/8 [00:00<?, ?it/s]"
     ]
    },
    {
     "name": "stdout",
     "output_type": "stream",
     "text": [
      "Error processing example: 'NoneType' object has no attribute 'copy'\n"
     ]
    },
    {
     "name": "stderr",
     "output_type": "stream",
     "text": [
      "\n",
      "Generating responses:   0%|          | 0/8 [00:00<?, ?it/s]\n",
      "Processing dataset:  63%|██████▎   | 2630/4156 [00:28<00:18, 83.30it/s]"
     ]
    },
    {
     "name": "stdout",
     "output_type": "stream",
     "text": [
      "Error processing example: 'NoneType' object has no attribute 'copy'\n",
      "Error processing example: No Javadoc comment found in the code.\n",
      "Error processing example: No Javadoc comment found in the code.\n",
      "Error processing example: No Javadoc comment found in the code.\n"
     ]
    },
    {
     "name": "stderr",
     "output_type": "stream",
     "text": [
      "Generating responses:   0%|          | 0/8 [00:00<?, ?it/s]\n"
     ]
    },
    {
     "name": "stdout",
     "output_type": "stream",
     "text": [
      "Error processing example: 'NoneType' object has no attribute 'copy'\n"
     ]
    },
    {
     "name": "stderr",
     "output_type": "stream",
     "text": [
      "Generating responses:   0%|          | 0/8 [00:00<?, ?it/s]\n"
     ]
    },
    {
     "name": "stdout",
     "output_type": "stream",
     "text": [
      "Error processing example: 'NoneType' object has no attribute 'copy'\n"
     ]
    },
    {
     "name": "stderr",
     "output_type": "stream",
     "text": [
      "Generating responses:   0%|          | 0/8 [00:00<?, ?it/s]\n"
     ]
    },
    {
     "name": "stdout",
     "output_type": "stream",
     "text": [
      "Error processing example: 'NoneType' object has no attribute 'copy'\n"
     ]
    },
    {
     "name": "stderr",
     "output_type": "stream",
     "text": [
      "Generating responses:   0%|          | 0/8 [00:00<?, ?it/s]\n"
     ]
    },
    {
     "name": "stdout",
     "output_type": "stream",
     "text": [
      "Error processing example: 'NoneType' object has no attribute 'copy'\n"
     ]
    },
    {
     "name": "stderr",
     "output_type": "stream",
     "text": [
      "Generating responses:   0%|          | 0/8 [00:00<?, ?it/s]"
     ]
    },
    {
     "name": "stdout",
     "output_type": "stream",
     "text": [
      "Error processing example: 'NoneType' object has no attribute 'copy'\n"
     ]
    },
    {
     "name": "stderr",
     "output_type": "stream",
     "text": [
      "\n",
      "Processing dataset:  63%|██████▎   | 2639/4156 [00:28<00:19, 78.09it/s]"
     ]
    },
    {
     "name": "stdout",
     "output_type": "stream",
     "text": [
      "Error processing example: No Javadoc comment found in the code.\n",
      "Error processing example: No Javadoc comment found in the code.\n",
      "Error processing example: No Javadoc comment found in the code.\n",
      "Error processing example: No Javadoc comment found in the code.\n"
     ]
    },
    {
     "name": "stderr",
     "output_type": "stream",
     "text": [
      "Generating responses:   0%|          | 0/8 [00:00<?, ?it/s]\n"
     ]
    },
    {
     "name": "stdout",
     "output_type": "stream",
     "text": [
      "Error processing example: 'NoneType' object has no attribute 'copy'\n",
      "Error processing example: No Javadoc comment found in the code.\n",
      "Error processing example: No Javadoc comment found in the code.\n",
      "Error processing example: No Javadoc comment found in the code.\n"
     ]
    },
    {
     "name": "stderr",
     "output_type": "stream",
     "text": [
      "Generating responses:   0%|          | 0/8 [00:00<?, ?it/s]\n"
     ]
    },
    {
     "name": "stdout",
     "output_type": "stream",
     "text": [
      "Error processing example: 'NoneType' object has no attribute 'copy'\n"
     ]
    },
    {
     "name": "stderr",
     "output_type": "stream",
     "text": [
      "Generating responses:   0%|          | 0/8 [00:00<?, ?it/s]\n",
      "Processing dataset:  64%|██████▎   | 2648/4156 [00:28<00:18, 79.79it/s]"
     ]
    },
    {
     "name": "stdout",
     "output_type": "stream",
     "text": [
      "Error processing example: 'NoneType' object has no attribute 'copy'\n",
      "Error processing example: No Javadoc comment found in the code.\n"
     ]
    },
    {
     "name": "stderr",
     "output_type": "stream",
     "text": [
      "Generating responses:   0%|          | 0/8 [00:00<?, ?it/s]\n"
     ]
    },
    {
     "name": "stdout",
     "output_type": "stream",
     "text": [
      "Error processing example: 'NoneType' object has no attribute 'copy'\n",
      "Error processing example: No Javadoc comment found in the code.\n",
      "Error processing example: No Javadoc comment found in the code.\n"
     ]
    },
    {
     "name": "stderr",
     "output_type": "stream",
     "text": [
      "Generating responses:   0%|          | 0/8 [00:00<?, ?it/s]\n"
     ]
    },
    {
     "name": "stdout",
     "output_type": "stream",
     "text": [
      "Error processing example: 'NoneType' object has no attribute 'copy'\n",
      "Error processing example: No Javadoc comment found in the code.\n"
     ]
    },
    {
     "name": "stderr",
     "output_type": "stream",
     "text": [
      "Generating responses:   0%|          | 0/8 [00:00<?, ?it/s]\n"
     ]
    },
    {
     "name": "stdout",
     "output_type": "stream",
     "text": [
      "Error processing example: 'NoneType' object has no attribute 'copy'\n",
      "Error processing example: No Javadoc comment found in the code.\n"
     ]
    },
    {
     "name": "stderr",
     "output_type": "stream",
     "text": [
      "Generating responses:   0%|          | 0/8 [00:00<?, ?it/s]"
     ]
    },
    {
     "name": "stdout",
     "output_type": "stream",
     "text": [
      "Error processing example: 'NoneType' object has no attribute 'copy'\n",
      "Error processing example: No Javadoc comment found in the code.\n"
     ]
    },
    {
     "name": "stderr",
     "output_type": "stream",
     "text": [
      "\n",
      "Generating responses:   0%|          | 0/8 [00:00<?, ?it/s]\n",
      "Processing dataset:  64%|██████▍   | 2659/4156 [00:28<00:17, 86.90it/s]"
     ]
    },
    {
     "name": "stdout",
     "output_type": "stream",
     "text": [
      "Error processing example: 'NoneType' object has no attribute 'copy'\n",
      "Error processing example: No Javadoc comment found in the code.\n",
      "Error processing example: No Javadoc comment found in the code.\n",
      "Error processing example: No Javadoc comment found in the code.\n"
     ]
    },
    {
     "name": "stderr",
     "output_type": "stream",
     "text": [
      "Generating responses:   0%|          | 0/8 [00:00<?, ?it/s]\n"
     ]
    },
    {
     "name": "stdout",
     "output_type": "stream",
     "text": [
      "Error processing example: 'NoneType' object has no attribute 'copy'\n",
      "Error processing example: No Javadoc comment found in the code.\n",
      "Error processing example: No Javadoc comment found in the code.\n"
     ]
    },
    {
     "name": "stderr",
     "output_type": "stream",
     "text": [
      "Generating responses:   0%|          | 0/8 [00:00<?, ?it/s]"
     ]
    },
    {
     "name": "stdout",
     "output_type": "stream",
     "text": [
      "Error processing example: 'NoneType' object has no attribute 'copy'\n"
     ]
    },
    {
     "name": "stderr",
     "output_type": "stream",
     "text": [
      "\n"
     ]
    },
    {
     "name": "stdout",
     "output_type": "stream",
     "text": [
      "Error processing example: No Javadoc comment found in the code.\n"
     ]
    },
    {
     "name": "stderr",
     "output_type": "stream",
     "text": [
      "Generating responses:   0%|          | 0/8 [00:00<?, ?it/s]\n"
     ]
    },
    {
     "name": "stdout",
     "output_type": "stream",
     "text": [
      "Error processing example: 'NoneType' object has no attribute 'copy'\n"
     ]
    },
    {
     "name": "stderr",
     "output_type": "stream",
     "text": [
      "Generating responses:   0%|          | 0/8 [00:00<?, ?it/s]\n",
      "Processing dataset:  64%|██████▍   | 2669/4156 [00:28<00:16, 90.48it/s]"
     ]
    },
    {
     "name": "stdout",
     "output_type": "stream",
     "text": [
      "Error processing example: 'NoneType' object has no attribute 'copy'\n"
     ]
    },
    {
     "name": "stderr",
     "output_type": "stream",
     "text": [
      "Generating responses:   0%|          | 0/8 [00:00<?, ?it/s]\n"
     ]
    },
    {
     "name": "stdout",
     "output_type": "stream",
     "text": [
      "Error processing example: 'NoneType' object has no attribute 'copy'\n",
      "Error processing example: No Javadoc comment found in the code.\n",
      "Error processing example: No Javadoc comment found in the code.\n",
      "Error processing example: No Javadoc comment found in the code.\n"
     ]
    },
    {
     "name": "stderr",
     "output_type": "stream",
     "text": [
      "Generating responses:   0%|          | 0/8 [00:00<?, ?it/s]\n"
     ]
    },
    {
     "name": "stdout",
     "output_type": "stream",
     "text": [
      "Error processing example: 'NoneType' object has no attribute 'copy'\n"
     ]
    },
    {
     "name": "stderr",
     "output_type": "stream",
     "text": [
      "Generating responses:   0%|          | 0/8 [00:00<?, ?it/s]\n"
     ]
    },
    {
     "name": "stdout",
     "output_type": "stream",
     "text": [
      "Error processing example: 'NoneType' object has no attribute 'copy'\n"
     ]
    },
    {
     "name": "stderr",
     "output_type": "stream",
     "text": [
      "Generating responses:   0%|          | 0/8 [00:00<?, ?it/s]\n"
     ]
    },
    {
     "name": "stdout",
     "output_type": "stream",
     "text": [
      "Error processing example: 'NoneType' object has no attribute 'copy'\n",
      "Error processing example: No Javadoc comment found in the code.\n",
      "Error processing example: No Javadoc comment found in the code.\n",
      "Error processing example: No Javadoc comment found in the code.\n"
     ]
    },
    {
     "name": "stderr",
     "output_type": "stream",
     "text": [
      "Generating responses:   0%|          | 0/8 [00:00<?, ?it/s]\n",
      "Processing dataset:  64%|██████▍   | 2680/4156 [00:28<00:16, 90.24it/s]"
     ]
    },
    {
     "name": "stdout",
     "output_type": "stream",
     "text": [
      "Error processing example: 'NoneType' object has no attribute 'copy'\n",
      "Error processing example: No Javadoc comment found in the code.\n",
      "Error processing example: No Javadoc comment found in the code.\n"
     ]
    },
    {
     "name": "stderr",
     "output_type": "stream",
     "text": [
      "Generating responses:   0%|          | 0/8 [00:00<?, ?it/s]\n"
     ]
    },
    {
     "name": "stdout",
     "output_type": "stream",
     "text": [
      "Error processing example: 'NoneType' object has no attribute 'copy'\n",
      "Error processing example: No Javadoc comment found in the code.\n",
      "Error processing example: No Javadoc comment found in the code.\n"
     ]
    },
    {
     "name": "stderr",
     "output_type": "stream",
     "text": [
      "Generating responses:   0%|          | 0/8 [00:00<?, ?it/s]"
     ]
    },
    {
     "name": "stdout",
     "output_type": "stream",
     "text": [
      "Error processing example: 'NoneType' object has no attribute 'copy'\n"
     ]
    },
    {
     "name": "stderr",
     "output_type": "stream",
     "text": [
      "\n",
      "Generating responses:   0%|          | 0/8 [00:00<?, ?it/s]\n"
     ]
    },
    {
     "name": "stdout",
     "output_type": "stream",
     "text": [
      "Error processing example: 'NoneType' object has no attribute 'copy'\n"
     ]
    },
    {
     "name": "stderr",
     "output_type": "stream",
     "text": [
      "Generating responses:   0%|          | 0/8 [00:00<?, ?it/s]\n",
      "Processing dataset:  65%|██████▍   | 2690/4156 [00:29<00:16, 88.45it/s]"
     ]
    },
    {
     "name": "stdout",
     "output_type": "stream",
     "text": [
      "Error processing example: 'NoneType' object has no attribute 'copy'\n",
      "Error processing example: No Javadoc comment found in the code.\n",
      "Error processing example: No Javadoc comment found in the code.\n"
     ]
    },
    {
     "name": "stderr",
     "output_type": "stream",
     "text": [
      "Generating responses:   0%|          | 0/8 [00:00<?, ?it/s]\n"
     ]
    },
    {
     "name": "stdout",
     "output_type": "stream",
     "text": [
      "Error processing example: 'NoneType' object has no attribute 'copy'\n",
      "Error processing example: No Javadoc comment found in the code.\n",
      "Error processing example: No Javadoc comment found in the code.\n"
     ]
    },
    {
     "name": "stderr",
     "output_type": "stream",
     "text": [
      "Generating responses:   0%|          | 0/8 [00:00<?, ?it/s]"
     ]
    },
    {
     "name": "stdout",
     "output_type": "stream",
     "text": [
      "Error processing example: 'NoneType' object has no attribute 'copy'\n"
     ]
    },
    {
     "name": "stderr",
     "output_type": "stream",
     "text": [
      "\n"
     ]
    },
    {
     "name": "stdout",
     "output_type": "stream",
     "text": [
      "Error processing example: No Javadoc comment found in the code.\n",
      "Error processing example: No Javadoc comment found in the code.\n"
     ]
    },
    {
     "name": "stderr",
     "output_type": "stream",
     "text": [
      "Generating responses:   0%|          | 0/8 [00:00<?, ?it/s]"
     ]
    },
    {
     "name": "stdout",
     "output_type": "stream",
     "text": [
      "Error processing example: 'NoneType' object has no attribute 'copy'\n",
      "Error processing example: No Javadoc comment found in the code.\n",
      "Error processing example: No Javadoc comment found in the code.\n"
     ]
    },
    {
     "name": "stderr",
     "output_type": "stream",
     "text": [
      "\n",
      "Processing dataset:  65%|██████▍   | 2699/4156 [00:29<00:16, 87.96it/s]"
     ]
    },
    {
     "name": "stdout",
     "output_type": "stream",
     "text": [
      "Error processing example: No Javadoc comment found in the code.\n"
     ]
    },
    {
     "name": "stderr",
     "output_type": "stream",
     "text": [
      "Generating responses:   0%|          | 0/8 [00:00<?, ?it/s]\n"
     ]
    },
    {
     "name": "stdout",
     "output_type": "stream",
     "text": [
      "Error processing example: 'NoneType' object has no attribute 'copy'\n"
     ]
    },
    {
     "name": "stderr",
     "output_type": "stream",
     "text": [
      "Generating responses:   0%|          | 0/8 [00:00<?, ?it/s]\n"
     ]
    },
    {
     "name": "stdout",
     "output_type": "stream",
     "text": [
      "Error processing example: 'NoneType' object has no attribute 'copy'\n",
      "Error processing example: No Javadoc comment found in the code.\n",
      "Error processing example: No Javadoc comment found in the code.\n",
      "Error processing example: No Javadoc comment found in the code.\n"
     ]
    },
    {
     "name": "stderr",
     "output_type": "stream",
     "text": [
      "Generating responses:   0%|          | 0/8 [00:00<?, ?it/s]\n"
     ]
    },
    {
     "name": "stdout",
     "output_type": "stream",
     "text": [
      "Error processing example: 'NoneType' object has no attribute 'copy'\n"
     ]
    },
    {
     "name": "stderr",
     "output_type": "stream",
     "text": [
      "Generating responses:   0%|          | 0/8 [00:00<?, ?it/s]\n",
      "Processing dataset:  65%|██████▌   | 2708/4156 [00:29<00:18, 79.58it/s]"
     ]
    },
    {
     "name": "stdout",
     "output_type": "stream",
     "text": [
      "Error processing example: 'NoneType' object has no attribute 'copy'\n",
      "Error processing example: No Javadoc comment found in the code.\n",
      "Error processing example: No Javadoc comment found in the code.\n"
     ]
    },
    {
     "name": "stderr",
     "output_type": "stream",
     "text": [
      "Generating responses:   0%|          | 0/8 [00:00<?, ?it/s]\n"
     ]
    },
    {
     "name": "stdout",
     "output_type": "stream",
     "text": [
      "Error processing example: 'NoneType' object has no attribute 'copy'\n"
     ]
    },
    {
     "name": "stderr",
     "output_type": "stream",
     "text": [
      "Generating responses:   0%|          | 0/8 [00:00<?, ?it/s]\n"
     ]
    },
    {
     "name": "stdout",
     "output_type": "stream",
     "text": [
      "Error processing example: 'NoneType' object has no attribute 'copy'\n",
      "Error processing example: No Javadoc comment found in the code.\n"
     ]
    },
    {
     "name": "stderr",
     "output_type": "stream",
     "text": [
      "Generating responses:   0%|          | 0/8 [00:00<?, ?it/s]\n"
     ]
    },
    {
     "name": "stdout",
     "output_type": "stream",
     "text": [
      "Error processing example: 'NoneType' object has no attribute 'copy'\n"
     ]
    },
    {
     "name": "stderr",
     "output_type": "stream",
     "text": [
      "Generating responses:   0%|          | 0/8 [00:00<?, ?it/s]"
     ]
    },
    {
     "name": "stdout",
     "output_type": "stream",
     "text": [
      "Error processing example: 'NoneType' object has no attribute 'copy'\n"
     ]
    },
    {
     "name": "stderr",
     "output_type": "stream",
     "text": [
      "\n",
      "Processing dataset:  65%|██████▌   | 2717/4156 [00:29<00:18, 78.21it/s]"
     ]
    },
    {
     "name": "stdout",
     "output_type": "stream",
     "text": [
      "Error processing example: No Javadoc comment found in the code.\n",
      "Error processing example: No Javadoc comment found in the code.\n",
      "Error processing example: No Javadoc comment found in the code.\n"
     ]
    },
    {
     "name": "stderr",
     "output_type": "stream",
     "text": [
      "Generating responses:   0%|          | 0/8 [00:00<?, ?it/s]\n"
     ]
    },
    {
     "name": "stdout",
     "output_type": "stream",
     "text": [
      "Error processing example: 'NoneType' object has no attribute 'copy'\n",
      "Error processing example: No Javadoc comment found in the code.\n",
      "Error processing example: No Javadoc comment found in the code.\n",
      "Error processing example: No Javadoc comment found in the code.\n",
      "Error processing example: No Javadoc comment found in the code.\n"
     ]
    },
    {
     "name": "stderr",
     "output_type": "stream",
     "text": [
      "Generating responses:   0%|          | 0/8 [00:00<?, ?it/s]\n"
     ]
    },
    {
     "name": "stdout",
     "output_type": "stream",
     "text": [
      "Error processing example: 'NoneType' object has no attribute 'copy'\n"
     ]
    },
    {
     "name": "stderr",
     "output_type": "stream",
     "text": [
      "Generating responses:   0%|          | 0/8 [00:00<?, ?it/s]\n"
     ]
    },
    {
     "name": "stdout",
     "output_type": "stream",
     "text": [
      "Error processing example: 'NoneType' object has no attribute 'copy'\n"
     ]
    },
    {
     "name": "stderr",
     "output_type": "stream",
     "text": [
      "Generating responses:   0%|          | 0/8 [00:00<?, ?it/s]\n",
      "Processing dataset:  66%|██████▌   | 2725/4156 [00:29<00:18, 78.03it/s]"
     ]
    },
    {
     "name": "stdout",
     "output_type": "stream",
     "text": [
      "Error processing example: 'NoneType' object has no attribute 'copy'\n",
      "Error processing example: No Javadoc comment found in the code.\n",
      "Error processing example: No Javadoc comment found in the code.\n"
     ]
    },
    {
     "name": "stderr",
     "output_type": "stream",
     "text": [
      "Generating responses:   0%|          | 0/8 [00:00<?, ?it/s]\n"
     ]
    },
    {
     "name": "stdout",
     "output_type": "stream",
     "text": [
      "Error processing example: 'NoneType' object has no attribute 'copy'\n",
      "Error processing example: No Javadoc comment found in the code.\n"
     ]
    },
    {
     "name": "stderr",
     "output_type": "stream",
     "text": [
      "Generating responses:   0%|          | 0/8 [00:00<?, ?it/s]"
     ]
    },
    {
     "name": "stdout",
     "output_type": "stream",
     "text": [
      "Error processing example: 'NoneType' object has no attribute 'copy'\n"
     ]
    },
    {
     "name": "stderr",
     "output_type": "stream",
     "text": [
      "\n",
      "Generating responses:   0%|          | 0/8 [00:00<?, ?it/s]\n"
     ]
    },
    {
     "name": "stdout",
     "output_type": "stream",
     "text": [
      "Error processing example: 'NoneType' object has no attribute 'copy'\n",
      "Error processing example: No Javadoc comment found in the code.\n"
     ]
    },
    {
     "name": "stderr",
     "output_type": "stream",
     "text": [
      "Generating responses:   0%|          | 0/8 [00:00<?, ?it/s]\n"
     ]
    },
    {
     "name": "stdout",
     "output_type": "stream",
     "text": [
      "Error processing example: 'NoneType' object has no attribute 'copy'\n",
      "Error processing example: No Javadoc comment found in the code.\n",
      "Error processing example: No Javadoc comment found in the code.\n",
      "Error processing example: No Javadoc comment found in the code.\n",
      "Error processing example: No Javadoc comment found in the code.\n",
      "Error processing example: No Javadoc comment found in the code.\n",
      "Error processing example: No Javadoc comment found in the code.\n"
     ]
    },
    {
     "name": "stderr",
     "output_type": "stream",
     "text": [
      "Generating responses:   0%|          | 0/8 [00:00<?, ?it/s]\n"
     ]
    },
    {
     "name": "stdout",
     "output_type": "stream",
     "text": [
      "Error processing example: 'NoneType' object has no attribute 'copy'\n"
     ]
    },
    {
     "name": "stderr",
     "output_type": "stream",
     "text": [
      "Generating responses:   0%|          | 0/8 [00:00<?, ?it/s]\n",
      "Processing dataset:  66%|██████▌   | 2741/4156 [00:29<00:14, 94.60it/s]"
     ]
    },
    {
     "name": "stdout",
     "output_type": "stream",
     "text": [
      "Error processing example: 'NoneType' object has no attribute 'copy'\n"
     ]
    },
    {
     "name": "stderr",
     "output_type": "stream",
     "text": [
      "Generating responses:   0%|          | 0/8 [00:00<?, ?it/s]"
     ]
    },
    {
     "name": "stdout",
     "output_type": "stream",
     "text": [
      "Error processing example: 'NoneType' object has no attribute 'copy'\n"
     ]
    },
    {
     "name": "stderr",
     "output_type": "stream",
     "text": [
      "\n"
     ]
    },
    {
     "name": "stdout",
     "output_type": "stream",
     "text": [
      "Error processing example: No Javadoc comment found in the code.\n"
     ]
    },
    {
     "name": "stderr",
     "output_type": "stream",
     "text": [
      "Generating responses:   0%|          | 0/8 [00:00<?, ?it/s]\n"
     ]
    },
    {
     "name": "stdout",
     "output_type": "stream",
     "text": [
      "Error processing example: 'NoneType' object has no attribute 'copy'\n",
      "Error processing example: No Javadoc comment found in the code.\n"
     ]
    },
    {
     "name": "stderr",
     "output_type": "stream",
     "text": [
      "Generating responses:   0%|          | 0/8 [00:00<?, ?it/s]\n"
     ]
    },
    {
     "name": "stdout",
     "output_type": "stream",
     "text": [
      "Error processing example: 'NoneType' object has no attribute 'copy'\n"
     ]
    },
    {
     "name": "stderr",
     "output_type": "stream",
     "text": [
      "Generating responses:   0%|          | 0/8 [00:00<?, ?it/s]\n"
     ]
    },
    {
     "name": "stdout",
     "output_type": "stream",
     "text": [
      "Error processing example: 'NoneType' object has no attribute 'copy'\n",
      "Error processing example: No Javadoc comment found in the code.\n"
     ]
    },
    {
     "name": "stderr",
     "output_type": "stream",
     "text": [
      "Generating responses:   0%|          | 0/8 [00:00<?, ?it/s]\n"
     ]
    },
    {
     "name": "stdout",
     "output_type": "stream",
     "text": [
      "Error processing example: 'NoneType' object has no attribute 'copy'\n",
      "Error processing example: No Javadoc comment found in the code.\n"
     ]
    },
    {
     "name": "stderr",
     "output_type": "stream",
     "text": [
      "Generating responses:   0%|          | 0/8 [00:00<?, ?it/s]"
     ]
    },
    {
     "name": "stdout",
     "output_type": "stream",
     "text": [
      "Error processing example: 'NoneType' object has no attribute 'copy'"
     ]
    },
    {
     "name": "stderr",
     "output_type": "stream",
     "text": [
      "\n",
      "Processing dataset:  66%|██████▌   | 2751/4156 [00:29<00:16, 83.94it/s]"
     ]
    },
    {
     "name": "stdout",
     "output_type": "stream",
     "text": [
      "\n",
      "Error processing example: No Javadoc comment found in the code.\n"
     ]
    },
    {
     "name": "stderr",
     "output_type": "stream",
     "text": [
      "Generating responses:   0%|          | 0/8 [00:00<?, ?it/s]\n"
     ]
    },
    {
     "name": "stdout",
     "output_type": "stream",
     "text": [
      "Error processing example: 'NoneType' object has no attribute 'copy'\n",
      "Error processing example: No Javadoc comment found in the code.\n",
      "Error processing example: No Javadoc comment found in the code.\n",
      "Error processing example: No Javadoc comment found in the code.\n"
     ]
    },
    {
     "name": "stderr",
     "output_type": "stream",
     "text": [
      "Generating responses:   0%|          | 0/8 [00:00<?, ?it/s]\n"
     ]
    },
    {
     "name": "stdout",
     "output_type": "stream",
     "text": [
      "Error processing example: 'NoneType' object has no attribute 'copy'\n",
      "Error processing example: No Javadoc comment found in the code.\n"
     ]
    },
    {
     "name": "stderr",
     "output_type": "stream",
     "text": [
      "Generating responses:   0%|          | 0/8 [00:00<?, ?it/s]\n"
     ]
    },
    {
     "name": "stdout",
     "output_type": "stream",
     "text": [
      "Error processing example: 'NoneType' object has no attribute 'copy'\n"
     ]
    },
    {
     "name": "stderr",
     "output_type": "stream",
     "text": [
      "Generating responses:   0%|          | 0/8 [00:00<?, ?it/s]\n"
     ]
    },
    {
     "name": "stdout",
     "output_type": "stream",
     "text": [
      "Error processing example: 'NoneType' object has no attribute 'copy'\n",
      "Error processing example: No Javadoc comment found in the code.\n",
      "Error processing example: No Javadoc comment found in the code.\n"
     ]
    },
    {
     "name": "stderr",
     "output_type": "stream",
     "text": [
      "Generating responses:   0%|          | 0/8 [00:00<?, ?it/s]\n"
     ]
    },
    {
     "name": "stdout",
     "output_type": "stream",
     "text": [
      "Error processing example: 'NoneType' object has no attribute 'copy'\n",
      "Error processing example: No Javadoc comment found in the code.\n"
     ]
    },
    {
     "name": "stderr",
     "output_type": "stream",
     "text": [
      "Generating responses:   0%|          | 0/8 [00:00<?, ?it/s]\n"
     ]
    },
    {
     "name": "stdout",
     "output_type": "stream",
     "text": [
      "Error processing example: 'NoneType' object has no attribute 'copy'\n",
      "Error processing example: No Javadoc comment found in the code.\n"
     ]
    },
    {
     "name": "stderr",
     "output_type": "stream",
     "text": [
      "Generating responses:   0%|          | 0/8 [00:00<?, ?it/s]\n",
      "Processing dataset:  67%|██████▋   | 2772/4156 [00:29<00:12, 114.78it/s]"
     ]
    },
    {
     "name": "stdout",
     "output_type": "stream",
     "text": [
      "Error processing example: 'NoneType' object has no attribute 'copy'\n",
      "Error processing example: Javadoc comment is not properly closed.\n",
      "Error processing example: No Javadoc comment found in the code.\n",
      "Error processing example: No Javadoc comment found in the code.\n",
      "Error processing example: No Javadoc comment found in the code.\n",
      "Error processing example: No Javadoc comment found in the code.\n",
      "Error processing example: No Javadoc comment found in the code.\n",
      "Error processing example: No Javadoc comment found in the code.\n",
      "Error processing example: No Javadoc comment found in the code.\n",
      "Error processing example: No Javadoc comment found in the code.\n"
     ]
    },
    {
     "name": "stderr",
     "output_type": "stream",
     "text": [
      "Generating responses:   0%|          | 0/8 [00:00<?, ?it/s]\n"
     ]
    },
    {
     "name": "stdout",
     "output_type": "stream",
     "text": [
      "Error processing example: 'NoneType' object has no attribute 'copy'\n"
     ]
    },
    {
     "name": "stderr",
     "output_type": "stream",
     "text": [
      "Generating responses:   0%|          | 0/8 [00:00<?, ?it/s]\n"
     ]
    },
    {
     "name": "stdout",
     "output_type": "stream",
     "text": [
      "Error processing example: 'NoneType' object has no attribute 'copy'\n"
     ]
    },
    {
     "name": "stderr",
     "output_type": "stream",
     "text": [
      "Generating responses:   0%|          | 0/8 [00:00<?, ?it/s]\n"
     ]
    },
    {
     "name": "stdout",
     "output_type": "stream",
     "text": [
      "Error processing example: 'NoneType' object has no attribute 'copy'\n"
     ]
    },
    {
     "name": "stderr",
     "output_type": "stream",
     "text": [
      "Generating responses:   0%|          | 0/8 [00:00<?, ?it/s]\n"
     ]
    },
    {
     "name": "stdout",
     "output_type": "stream",
     "text": [
      "Error processing example: 'NoneType' object has no attribute 'copy'\n"
     ]
    },
    {
     "name": "stderr",
     "output_type": "stream",
     "text": [
      "Generating responses:   0%|          | 0/8 [00:00<?, ?it/s]\n"
     ]
    },
    {
     "name": "stdout",
     "output_type": "stream",
     "text": [
      "Error processing example: 'NoneType' object has no attribute 'copy'\n"
     ]
    },
    {
     "name": "stderr",
     "output_type": "stream",
     "text": [
      "Generating responses:   0%|          | 0/8 [00:00<?, ?it/s]\n"
     ]
    },
    {
     "name": "stdout",
     "output_type": "stream",
     "text": [
      "Error processing example: 'NoneType' object has no attribute 'copy'\n",
      "Error processing example: No Javadoc comment found in the code.\n",
      "Error processing example: No Javadoc comment found in the code.\n"
     ]
    },
    {
     "name": "stderr",
     "output_type": "stream",
     "text": [
      "Generating responses:   0%|          | 0/8 [00:00<?, ?it/s]\n",
      "Processing dataset:  67%|██████▋   | 2785/4156 [00:30<00:12, 105.66it/s]"
     ]
    },
    {
     "name": "stdout",
     "output_type": "stream",
     "text": [
      "Error processing example: 'NoneType' object has no attribute 'copy'\n"
     ]
    },
    {
     "name": "stderr",
     "output_type": "stream",
     "text": [
      "Generating responses:   0%|          | 0/8 [00:00<?, ?it/s]\n"
     ]
    },
    {
     "name": "stdout",
     "output_type": "stream",
     "text": [
      "Error processing example: 'NoneType' object has no attribute 'copy'\n",
      "Error processing example: No Javadoc comment found in the code.\n"
     ]
    },
    {
     "name": "stderr",
     "output_type": "stream",
     "text": [
      "Generating responses:   0%|          | 0/8 [00:00<?, ?it/s]\n"
     ]
    },
    {
     "name": "stdout",
     "output_type": "stream",
     "text": [
      "Error processing example: 'NoneType' object has no attribute 'copy'\n"
     ]
    },
    {
     "name": "stderr",
     "output_type": "stream",
     "text": [
      "Generating responses:   0%|          | 0/8 [00:00<?, ?it/s]\n"
     ]
    },
    {
     "name": "stdout",
     "output_type": "stream",
     "text": [
      "Error processing example: 'NoneType' object has no attribute 'copy'\n",
      "Error processing example: No Javadoc comment found in the code.\n",
      "Error processing example: No Javadoc comment found in the code.\n",
      "Error processing example: No Javadoc comment found in the code.\n",
      "Error processing example: No Javadoc comment found in the code.\n",
      "Error processing example: No Javadoc comment found in the code.\n",
      "Error processing example: No Javadoc comment found in the code.\n",
      "Error processing example: No Javadoc comment found in the code.\n",
      "Error processing example: No Javadoc comment found in the code.\n",
      "Error processing example: No Javadoc comment found in the code.\n",
      "Error processing example: No Javadoc comment found in the code.\n"
     ]
    },
    {
     "name": "stderr",
     "output_type": "stream",
     "text": [
      "Generating responses:   0%|          | 0/8 [00:00<?, ?it/s]"
     ]
    },
    {
     "name": "stdout",
     "output_type": "stream",
     "text": [
      "Error processing example: 'NoneType' object has no attribute 'copy'\n"
     ]
    },
    {
     "name": "stderr",
     "output_type": "stream",
     "text": [
      "\n"
     ]
    },
    {
     "name": "stdout",
     "output_type": "stream",
     "text": [
      "Error processing example: No Javadoc comment found in the code.\n"
     ]
    },
    {
     "name": "stderr",
     "output_type": "stream",
     "text": [
      "Generating responses:   0%|          | 0/8 [00:00<?, ?it/s]\n"
     ]
    },
    {
     "name": "stdout",
     "output_type": "stream",
     "text": [
      "Error processing example: 'NoneType' object has no attribute 'copy'\n"
     ]
    },
    {
     "name": "stderr",
     "output_type": "stream",
     "text": [
      "Generating responses:   0%|          | 0/8 [00:00<?, ?it/s]\n"
     ]
    },
    {
     "name": "stdout",
     "output_type": "stream",
     "text": [
      "Error processing example: 'NoneType' object has no attribute 'copy'\n"
     ]
    },
    {
     "name": "stderr",
     "output_type": "stream",
     "text": [
      "Generating responses:   0%|          | 0/8 [00:00<?, ?it/s]\n",
      "Processing dataset:  67%|██████▋   | 2804/4156 [00:30<00:11, 120.26it/s]"
     ]
    },
    {
     "name": "stdout",
     "output_type": "stream",
     "text": [
      "Error processing example: 'NoneType' object has no attribute 'copy'\n",
      "Error processing example: No Javadoc comment found in the code.\n",
      "Error processing example: No Javadoc comment found in the code.\n"
     ]
    },
    {
     "name": "stderr",
     "output_type": "stream",
     "text": [
      "Generating responses:   0%|          | 0/8 [00:00<?, ?it/s]\n"
     ]
    },
    {
     "name": "stdout",
     "output_type": "stream",
     "text": [
      "Error processing example: 'NoneType' object has no attribute 'copy'\n"
     ]
    },
    {
     "name": "stderr",
     "output_type": "stream",
     "text": [
      "Generating responses:   0%|          | 0/8 [00:00<?, ?it/s]\n"
     ]
    },
    {
     "name": "stdout",
     "output_type": "stream",
     "text": [
      "Error processing example: 'NoneType' object has no attribute 'copy'\n"
     ]
    },
    {
     "name": "stderr",
     "output_type": "stream",
     "text": [
      "Generating responses:   0%|          | 0/8 [00:00<?, ?it/s]\n"
     ]
    },
    {
     "name": "stdout",
     "output_type": "stream",
     "text": [
      "Error processing example: 'NoneType' object has no attribute 'copy'\n"
     ]
    },
    {
     "name": "stderr",
     "output_type": "stream",
     "text": [
      "Generating responses:   0%|          | 0/8 [00:00<?, ?it/s]\n"
     ]
    },
    {
     "name": "stdout",
     "output_type": "stream",
     "text": [
      "Error processing example: 'NoneType' object has no attribute 'copy'\n",
      "Error processing example: No Javadoc comment found in the code.\n",
      "Error processing example: No Javadoc comment found in the code.\n"
     ]
    },
    {
     "name": "stderr",
     "output_type": "stream",
     "text": [
      "Generating responses:   0%|          | 0/8 [00:00<?, ?it/s]\n"
     ]
    },
    {
     "name": "stdout",
     "output_type": "stream",
     "text": [
      "Error processing example: 'NoneType' object has no attribute 'copy'\n",
      "Error processing example: No Javadoc comment found in the code.\n"
     ]
    },
    {
     "name": "stderr",
     "output_type": "stream",
     "text": [
      "Generating responses:   0%|          | 0/8 [00:00<?, ?it/s]"
     ]
    },
    {
     "name": "stdout",
     "output_type": "stream",
     "text": [
      "Error processing example: 'NoneType' object has no attribute 'copy'\n"
     ]
    },
    {
     "name": "stderr",
     "output_type": "stream",
     "text": [
      "\n",
      "Generating responses:   0%|          | 0/8 [00:00<?, ?it/s]\n",
      "Processing dataset:  68%|██████▊   | 2817/4156 [00:30<00:13, 102.82it/s]"
     ]
    },
    {
     "name": "stdout",
     "output_type": "stream",
     "text": [
      "Error processing example: 'NoneType' object has no attribute 'copy'\n",
      "Error processing example: No Javadoc comment found in the code.\n",
      "Error processing example: No Javadoc comment found in the code.\n",
      "Error processing example: No Javadoc comment found in the code.\n",
      "Error processing example: No Javadoc comment found in the code.\n",
      "Error processing example: No Javadoc comment found in the code.\n"
     ]
    },
    {
     "name": "stderr",
     "output_type": "stream",
     "text": [
      "Generating responses:   0%|          | 0/8 [00:00<?, ?it/s]\n"
     ]
    },
    {
     "name": "stdout",
     "output_type": "stream",
     "text": [
      "Error processing example: 'NoneType' object has no attribute 'copy'\n"
     ]
    },
    {
     "name": "stderr",
     "output_type": "stream",
     "text": [
      "Generating responses:   0%|          | 0/8 [00:00<?, ?it/s]\n"
     ]
    },
    {
     "name": "stdout",
     "output_type": "stream",
     "text": [
      "Error processing example: 'NoneType' object has no attribute 'copy'\n"
     ]
    },
    {
     "name": "stderr",
     "output_type": "stream",
     "text": [
      "Generating responses:   0%|          | 0/8 [00:00<?, ?it/s]\n"
     ]
    },
    {
     "name": "stdout",
     "output_type": "stream",
     "text": [
      "Error processing example: 'NoneType' object has no attribute 'copy'\n"
     ]
    },
    {
     "name": "stderr",
     "output_type": "stream",
     "text": [
      "Generating responses:   0%|          | 0/8 [00:00<?, ?it/s]\n"
     ]
    },
    {
     "name": "stdout",
     "output_type": "stream",
     "text": [
      "Error processing example: 'NoneType' object has no attribute 'copy'\n"
     ]
    },
    {
     "name": "stderr",
     "output_type": "stream",
     "text": [
      "Generating responses:   0%|          | 0/8 [00:00<?, ?it/s]"
     ]
    },
    {
     "name": "stdout",
     "output_type": "stream",
     "text": [
      "Error processing example: 'NoneType' object has no attribute 'copy'\n"
     ]
    },
    {
     "name": "stderr",
     "output_type": "stream",
     "text": [
      "\n",
      "Processing dataset:  68%|██████▊   | 2828/4156 [00:30<00:14, 91.31it/s] "
     ]
    },
    {
     "name": "stdout",
     "output_type": "stream",
     "text": [
      "Error processing example: No Javadoc comment found in the code.\n",
      "Error processing example: No Javadoc comment found in the code.\n",
      "Error processing example: No Javadoc comment found in the code.\n",
      "Error processing example: No Javadoc comment found in the code.\n",
      "Error processing example: No Javadoc comment found in the code.\n"
     ]
    },
    {
     "name": "stderr",
     "output_type": "stream",
     "text": [
      "Generating responses:   0%|          | 0/8 [00:00<?, ?it/s]\n"
     ]
    },
    {
     "name": "stdout",
     "output_type": "stream",
     "text": [
      "Error processing example: 'NoneType' object has no attribute 'copy'\n",
      "Error processing example: No Javadoc comment found in the code.\n",
      "Error processing example: No Javadoc comment found in the code.\n",
      "Error processing example: No Javadoc comment found in the code.\n"
     ]
    },
    {
     "name": "stderr",
     "output_type": "stream",
     "text": [
      "Generating responses:   0%|          | 0/8 [00:00<?, ?it/s]\n"
     ]
    },
    {
     "name": "stdout",
     "output_type": "stream",
     "text": [
      "Error processing example: 'NoneType' object has no attribute 'copy'\n",
      "Error processing example: No Javadoc comment found in the code.\n",
      "Error processing example: No Javadoc comment found in the code.\n"
     ]
    },
    {
     "name": "stderr",
     "output_type": "stream",
     "text": [
      "Generating responses:   0%|          | 0/8 [00:00<?, ?it/s]\n"
     ]
    },
    {
     "name": "stdout",
     "output_type": "stream",
     "text": [
      "Error processing example: 'NoneType' object has no attribute 'copy'\n"
     ]
    },
    {
     "name": "stderr",
     "output_type": "stream",
     "text": [
      "Generating responses:   0%|          | 0/8 [00:00<?, ?it/s]\n",
      "Processing dataset:  68%|██████▊   | 2840/4156 [00:30<00:13, 96.16it/s]"
     ]
    },
    {
     "name": "stdout",
     "output_type": "stream",
     "text": [
      "Error processing example: 'NoneType' object has no attribute 'copy'\n"
     ]
    },
    {
     "name": "stderr",
     "output_type": "stream",
     "text": [
      "Generating responses:   0%|          | 0/8 [00:00<?, ?it/s]\n"
     ]
    },
    {
     "name": "stdout",
     "output_type": "stream",
     "text": [
      "Error processing example: 'NoneType' object has no attribute 'copy'\n",
      "Error processing example: No Javadoc comment found in the code.\n",
      "Error processing example: No Javadoc comment found in the code.\n",
      "Error processing example: No Javadoc comment found in the code.\n"
     ]
    },
    {
     "name": "stderr",
     "output_type": "stream",
     "text": [
      "Generating responses:   0%|          | 0/8 [00:00<?, ?it/s]\n"
     ]
    },
    {
     "name": "stdout",
     "output_type": "stream",
     "text": [
      "Error processing example: 'NoneType' object has no attribute 'copy'\n"
     ]
    },
    {
     "name": "stderr",
     "output_type": "stream",
     "text": [
      "Generating responses:   0%|          | 0/8 [00:00<?, ?it/s]\n"
     ]
    },
    {
     "name": "stdout",
     "output_type": "stream",
     "text": [
      "Error processing example: 'NoneType' object has no attribute 'copy'\n",
      "Error processing example: No Javadoc comment found in the code.\n"
     ]
    },
    {
     "name": "stderr",
     "output_type": "stream",
     "text": [
      "Generating responses:   0%|          | 0/8 [00:00<?, ?it/s]\n"
     ]
    },
    {
     "name": "stdout",
     "output_type": "stream",
     "text": [
      "Error processing example: 'NoneType' object has no attribute 'copy'\n"
     ]
    },
    {
     "name": "stderr",
     "output_type": "stream",
     "text": [
      "Generating responses:   0%|          | 0/8 [00:00<?, ?it/s]\n"
     ]
    },
    {
     "name": "stdout",
     "output_type": "stream",
     "text": [
      "Error processing example: 'NoneType' object has no attribute 'copy'\n"
     ]
    },
    {
     "name": "stderr",
     "output_type": "stream",
     "text": [
      "Generating responses:   0%|          | 0/8 [00:00<?, ?it/s]\n"
     ]
    },
    {
     "name": "stdout",
     "output_type": "stream",
     "text": [
      "Error processing example: 'NoneType' object has no attribute 'copy'\n"
     ]
    },
    {
     "name": "stderr",
     "output_type": "stream",
     "text": [
      "Generating responses:   0%|          | 0/8 [00:00<?, ?it/s]\n",
      "Processing dataset:  69%|██████▊   | 2851/4156 [00:30<00:13, 95.60it/s]"
     ]
    },
    {
     "name": "stdout",
     "output_type": "stream",
     "text": [
      "Error processing example: 'NoneType' object has no attribute 'copy'\n",
      "Error processing example: No Javadoc comment found in the code.\n",
      "Error processing example: No Javadoc comment found in the code.\n",
      "Error processing example: No Javadoc comment found in the code.\n"
     ]
    },
    {
     "name": "stderr",
     "output_type": "stream",
     "text": [
      "Generating responses:   0%|          | 0/8 [00:00<?, ?it/s]"
     ]
    },
    {
     "name": "stdout",
     "output_type": "stream",
     "text": [
      "Error processing example: 'NoneType' object has no attribute 'copy'\n"
     ]
    },
    {
     "name": "stderr",
     "output_type": "stream",
     "text": [
      "\n",
      "Generating responses:   0%|          | 0/8 [00:00<?, ?it/s]\n"
     ]
    },
    {
     "name": "stdout",
     "output_type": "stream",
     "text": [
      "Error processing example: 'NoneType' object has no attribute 'copy'\n"
     ]
    },
    {
     "name": "stderr",
     "output_type": "stream",
     "text": [
      "Generating responses:   0%|          | 0/8 [00:00<?, ?it/s]\n"
     ]
    },
    {
     "name": "stdout",
     "output_type": "stream",
     "text": [
      "Error processing example: 'NoneType' object has no attribute 'copy'\n",
      "Error processing example: No Javadoc comment found in the code.\n",
      "Error processing example: No Javadoc comment found in the code.\n",
      "Error processing example: No Javadoc comment found in the code.\n"
     ]
    },
    {
     "name": "stderr",
     "output_type": "stream",
     "text": [
      "Generating responses:   0%|          | 0/8 [00:00<?, ?it/s]\n",
      "Processing dataset:  69%|██████▉   | 2861/4156 [00:30<00:13, 96.23it/s]"
     ]
    },
    {
     "name": "stdout",
     "output_type": "stream",
     "text": [
      "Error processing example: 'NoneType' object has no attribute 'copy'\n",
      "Error processing example: No Javadoc comment found in the code.\n",
      "Error processing example: No Javadoc comment found in the code.\n",
      "Error processing example: No Javadoc comment found in the code.\n",
      "Error processing example: No Javadoc comment found in the code.\n",
      "Error processing example: No Javadoc comment found in the code.\n"
     ]
    },
    {
     "name": "stderr",
     "output_type": "stream",
     "text": [
      "Generating responses:   0%|          | 0/8 [00:00<?, ?it/s]\n"
     ]
    },
    {
     "name": "stdout",
     "output_type": "stream",
     "text": [
      "Error processing example: 'NoneType' object has no attribute 'copy'\n",
      "Error processing example: No Javadoc comment found in the code.\n"
     ]
    },
    {
     "name": "stderr",
     "output_type": "stream",
     "text": [
      "Generating responses:   0%|          | 0/8 [00:00<?, ?it/s]\n"
     ]
    },
    {
     "name": "stdout",
     "output_type": "stream",
     "text": [
      "Error processing example: 'NoneType' object has no attribute 'copy'\n"
     ]
    },
    {
     "name": "stderr",
     "output_type": "stream",
     "text": [
      "Generating responses:   0%|          | 0/8 [00:00<?, ?it/s]\n"
     ]
    },
    {
     "name": "stdout",
     "output_type": "stream",
     "text": [
      "Error processing example: 'NoneType' object has no attribute 'copy'\n"
     ]
    },
    {
     "name": "stderr",
     "output_type": "stream",
     "text": [
      "Generating responses:   0%|          | 0/8 [00:00<?, ?it/s]\n",
      "Processing dataset:  69%|██████▉   | 2871/4156 [00:30<00:14, 91.57it/s]"
     ]
    },
    {
     "name": "stdout",
     "output_type": "stream",
     "text": [
      "Error processing example: 'NoneType' object has no attribute 'copy'\n",
      "Error processing example: No Javadoc comment found in the code.\n",
      "Error processing example: No Javadoc comment found in the code.\n",
      "Error processing example: No Javadoc comment found in the code.\n",
      "Error processing example: No Javadoc comment found in the code.\n",
      "Error processing example: No Javadoc comment found in the code.\n"
     ]
    },
    {
     "name": "stderr",
     "output_type": "stream",
     "text": [
      "Generating responses:   0%|          | 0/8 [00:00<?, ?it/s]\n"
     ]
    },
    {
     "name": "stdout",
     "output_type": "stream",
     "text": [
      "Error processing example: 'NoneType' object has no attribute 'copy'\n"
     ]
    },
    {
     "name": "stderr",
     "output_type": "stream",
     "text": [
      "Generating responses:   0%|          | 0/8 [00:00<?, ?it/s]\n"
     ]
    },
    {
     "name": "stdout",
     "output_type": "stream",
     "text": [
      "Error processing example: 'NoneType' object has no attribute 'copy'\n",
      "Error processing example: No Javadoc comment found in the code.\n",
      "Error processing example: No Javadoc comment found in the code.\n"
     ]
    },
    {
     "name": "stderr",
     "output_type": "stream",
     "text": [
      "Generating responses:   0%|          | 0/8 [00:00<?, ?it/s]\n",
      "Processing dataset:  69%|██████▉   | 2881/4156 [00:31<00:14, 88.20it/s]"
     ]
    },
    {
     "name": "stdout",
     "output_type": "stream",
     "text": [
      "Error processing example: 'NoneType' object has no attribute 'copy'\n",
      "Error processing example: No Javadoc comment found in the code.\n",
      "Error processing example: No Javadoc comment found in the code.\n",
      "Error processing example: No Javadoc comment found in the code.\n",
      "Error processing example: No Javadoc comment found in the code.\n"
     ]
    },
    {
     "name": "stderr",
     "output_type": "stream",
     "text": [
      "Generating responses:   0%|          | 0/8 [00:00<?, ?it/s]\n"
     ]
    },
    {
     "name": "stdout",
     "output_type": "stream",
     "text": [
      "Error processing example: 'NoneType' object has no attribute 'copy'\n",
      "Error processing example: No Javadoc comment found in the code.\n",
      "Error processing example: No Javadoc comment found in the code.\n",
      "Error processing example: No Javadoc comment found in the code.\n",
      "Error processing example: No Javadoc comment found in the code.\n"
     ]
    },
    {
     "name": "stderr",
     "output_type": "stream",
     "text": [
      "Generating responses:   0%|          | 0/8 [00:00<?, ?it/s]\n"
     ]
    },
    {
     "name": "stdout",
     "output_type": "stream",
     "text": [
      "Error processing example: 'NoneType' object has no attribute 'copy'\n",
      "Error processing example: No Javadoc comment found in the code.\n",
      "Error processing example: No Javadoc comment found in the code.\n"
     ]
    },
    {
     "name": "stderr",
     "output_type": "stream",
     "text": [
      "Generating responses:   0%|          | 0/8 [00:00<?, ?it/s]\n"
     ]
    },
    {
     "name": "stdout",
     "output_type": "stream",
     "text": [
      "Error processing example: 'NoneType' object has no attribute 'copy'\n"
     ]
    },
    {
     "name": "stderr",
     "output_type": "stream",
     "text": [
      "Generating responses:   0%|          | 0/8 [00:00<?, ?it/s]\n"
     ]
    },
    {
     "name": "stdout",
     "output_type": "stream",
     "text": [
      "Error processing example: 'NoneType' object has no attribute 'copy'\n"
     ]
    },
    {
     "name": "stderr",
     "output_type": "stream",
     "text": [
      "Generating responses:   0%|          | 0/8 [00:00<?, ?it/s]\n",
      "Processing dataset:  70%|██████▉   | 2896/4156 [00:31<00:12, 103.70it/s]"
     ]
    },
    {
     "name": "stdout",
     "output_type": "stream",
     "text": [
      "Error processing example: 'NoneType' object has no attribute 'copy'\n",
      "Error processing example: No Javadoc comment found in the code.\n"
     ]
    },
    {
     "name": "stderr",
     "output_type": "stream",
     "text": [
      "Generating responses:   0%|          | 0/8 [00:00<?, ?it/s]\n"
     ]
    },
    {
     "name": "stdout",
     "output_type": "stream",
     "text": [
      "Error processing example: 'NoneType' object has no attribute 'copy'\n"
     ]
    },
    {
     "name": "stderr",
     "output_type": "stream",
     "text": [
      "Generating responses:   0%|          | 0/8 [00:00<?, ?it/s]"
     ]
    },
    {
     "name": "stdout",
     "output_type": "stream",
     "text": [
      "Error processing example: 'NoneType' object has no attribute 'copy'\n",
      "Error processing example: No Javadoc comment found in the code.\n",
      "Error processing example: No Javadoc comment found in the code.\n"
     ]
    },
    {
     "name": "stderr",
     "output_type": "stream",
     "text": [
      "\n",
      "Generating responses:   0%|          | 0/8 [00:00<?, ?it/s]\n"
     ]
    },
    {
     "name": "stdout",
     "output_type": "stream",
     "text": [
      "Error processing example: 'NoneType' object has no attribute 'copy'\n",
      "Error processing example: No Javadoc comment found in the code.\n",
      "Error processing example: No Javadoc comment found in the code.\n"
     ]
    },
    {
     "name": "stderr",
     "output_type": "stream",
     "text": [
      "Generating responses:   0%|          | 0/8 [00:00<?, ?it/s]\n"
     ]
    },
    {
     "name": "stdout",
     "output_type": "stream",
     "text": [
      "Error processing example: 'NoneType' object has no attribute 'copy'\n"
     ]
    },
    {
     "name": "stderr",
     "output_type": "stream",
     "text": [
      "Generating responses:   0%|          | 0/8 [00:00<?, ?it/s]\n"
     ]
    },
    {
     "name": "stdout",
     "output_type": "stream",
     "text": [
      "Error processing example: 'NoneType' object has no attribute 'copy'\n"
     ]
    },
    {
     "name": "stderr",
     "output_type": "stream",
     "text": [
      "Generating responses:   0%|          | 0/8 [00:00<?, ?it/s]\n",
      "Processing dataset:  70%|██████▉   | 2907/4156 [00:31<00:12, 101.95it/s]"
     ]
    },
    {
     "name": "stdout",
     "output_type": "stream",
     "text": [
      "Error processing example: 'NoneType' object has no attribute 'copy'\n",
      "Error processing example: No Javadoc comment found in the code.\n",
      "Error processing example: No Javadoc comment found in the code.\n",
      "Error processing example: No Javadoc comment found in the code.\n"
     ]
    },
    {
     "name": "stderr",
     "output_type": "stream",
     "text": [
      "Generating responses:   0%|          | 0/8 [00:00<?, ?it/s]\n"
     ]
    },
    {
     "name": "stdout",
     "output_type": "stream",
     "text": [
      "Error processing example: 'NoneType' object has no attribute 'copy'\n",
      "Error processing example: No Javadoc comment found in the code.\n"
     ]
    },
    {
     "name": "stderr",
     "output_type": "stream",
     "text": [
      "Generating responses:   0%|          | 0/8 [00:00<?, ?it/s]\n"
     ]
    },
    {
     "name": "stdout",
     "output_type": "stream",
     "text": [
      "Error processing example: 'NoneType' object has no attribute 'copy'\n",
      "Error processing example: No Javadoc comment found in the code.\n",
      "Error processing example: No Javadoc comment found in the code.\n",
      "Error processing example: No Javadoc comment found in the code.\n",
      "Error processing example: No Javadoc comment found in the code.\n"
     ]
    },
    {
     "name": "stderr",
     "output_type": "stream",
     "text": [
      "Generating responses:   0%|          | 0/8 [00:00<?, ?it/s]\n",
      "Processing dataset:  70%|███████   | 2918/4156 [00:31<00:12, 95.88it/s] "
     ]
    },
    {
     "name": "stdout",
     "output_type": "stream",
     "text": [
      "Error processing example: 'NoneType' object has no attribute 'copy'\n",
      "Error processing example: No Javadoc comment found in the code.\n"
     ]
    },
    {
     "name": "stderr",
     "output_type": "stream",
     "text": [
      "Generating responses:   0%|          | 0/8 [00:00<?, ?it/s]\n"
     ]
    },
    {
     "name": "stdout",
     "output_type": "stream",
     "text": [
      "Error processing example: 'NoneType' object has no attribute 'copy'\n"
     ]
    },
    {
     "name": "stderr",
     "output_type": "stream",
     "text": [
      "Generating responses:   0%|          | 0/8 [00:00<?, ?it/s]\n"
     ]
    },
    {
     "name": "stdout",
     "output_type": "stream",
     "text": [
      "Error processing example: 'NoneType' object has no attribute 'copy'\n",
      "Error processing example: No Javadoc comment found in the code.\n"
     ]
    },
    {
     "name": "stderr",
     "output_type": "stream",
     "text": [
      "Generating responses:   0%|          | 0/8 [00:00<?, ?it/s]"
     ]
    },
    {
     "name": "stdout",
     "output_type": "stream",
     "text": [
      "Error processing example: 'NoneType' object has no attribute 'copy'\n"
     ]
    },
    {
     "name": "stderr",
     "output_type": "stream",
     "text": [
      "\n"
     ]
    },
    {
     "name": "stdout",
     "output_type": "stream",
     "text": [
      "Error processing example: No Javadoc comment found in the code.\n",
      "Error processing example: No Javadoc comment found in the code.\n"
     ]
    },
    {
     "name": "stderr",
     "output_type": "stream",
     "text": [
      "Generating responses:   0%|          | 0/8 [00:00<?, ?it/s]\n"
     ]
    },
    {
     "name": "stdout",
     "output_type": "stream",
     "text": [
      "Error processing example: 'NoneType' object has no attribute 'copy'\n",
      "Error processing example: No Javadoc comment found in the code.\n"
     ]
    },
    {
     "name": "stderr",
     "output_type": "stream",
     "text": [
      "Processing dataset:  70%|███████   | 2928/4156 [00:31<00:13, 89.11it/s]"
     ]
    },
    {
     "name": "stdout",
     "output_type": "stream",
     "text": [
      "Error processing example: No Javadoc comment found in the code.\n"
     ]
    },
    {
     "name": "stderr",
     "output_type": "stream",
     "text": [
      "Generating responses:   0%|          | 0/8 [00:00<?, ?it/s]"
     ]
    },
    {
     "name": "stdout",
     "output_type": "stream",
     "text": [
      "Error processing example: 'NoneType' object has no attribute 'copy'\n"
     ]
    },
    {
     "name": "stderr",
     "output_type": "stream",
     "text": [
      "\n"
     ]
    },
    {
     "name": "stdout",
     "output_type": "stream",
     "text": [
      "Error processing example: No Javadoc comment found in the code.\n",
      "Error processing example: No Javadoc comment found in the code.\n",
      "Error processing example: No Javadoc comment found in the code.\n",
      "Error processing example: No Javadoc comment found in the code.\n"
     ]
    },
    {
     "name": "stderr",
     "output_type": "stream",
     "text": [
      "Generating responses:   0%|          | 0/8 [00:00<?, ?it/s]\n"
     ]
    },
    {
     "name": "stdout",
     "output_type": "stream",
     "text": [
      "Error processing example: 'NoneType' object has no attribute 'copy'\n"
     ]
    },
    {
     "name": "stderr",
     "output_type": "stream",
     "text": [
      "Generating responses:   0%|          | 0/8 [00:00<?, ?it/s]\n"
     ]
    },
    {
     "name": "stdout",
     "output_type": "stream",
     "text": [
      "Error processing example: 'NoneType' object has no attribute 'copy'\n",
      "Error processing example: No Javadoc comment found in the code.\n"
     ]
    },
    {
     "name": "stderr",
     "output_type": "stream",
     "text": [
      "Generating responses:   0%|          | 0/8 [00:00<?, ?it/s]\n"
     ]
    },
    {
     "name": "stdout",
     "output_type": "stream",
     "text": [
      "Error processing example: 'NoneType' object has no attribute 'copy'\n"
     ]
    },
    {
     "name": "stderr",
     "output_type": "stream",
     "text": [
      "Generating responses:   0%|          | 0/9 [00:00<?, ?it/s]\n",
      "Processing dataset:  71%|███████   | 2938/4156 [00:31<00:13, 89.27it/s]"
     ]
    },
    {
     "name": "stdout",
     "output_type": "stream",
     "text": [
      "Error processing example: 'NoneType' object has no attribute 'copy'\n"
     ]
    },
    {
     "name": "stderr",
     "output_type": "stream",
     "text": [
      "Generating responses:   0%|          | 0/9 [00:00<?, ?it/s]\n"
     ]
    },
    {
     "name": "stdout",
     "output_type": "stream",
     "text": [
      "Error processing example: 'NoneType' object has no attribute 'copy'\n"
     ]
    },
    {
     "name": "stderr",
     "output_type": "stream",
     "text": [
      "Generating responses:   0%|          | 0/9 [00:00<?, ?it/s]\n"
     ]
    },
    {
     "name": "stdout",
     "output_type": "stream",
     "text": [
      "Error processing example: 'NoneType' object has no attribute 'copy'\n",
      "Error processing example: No Javadoc comment found in the code.\n"
     ]
    },
    {
     "name": "stderr",
     "output_type": "stream",
     "text": [
      "Generating responses:   0%|          | 0/9 [00:00<?, ?it/s]\n"
     ]
    },
    {
     "name": "stdout",
     "output_type": "stream",
     "text": [
      "Error processing example: 'NoneType' object has no attribute 'copy'\n",
      "Error processing example: No Javadoc comment found in the code.\n"
     ]
    },
    {
     "name": "stderr",
     "output_type": "stream",
     "text": [
      "Generating responses:   0%|          | 0/9 [00:00<?, ?it/s]\n"
     ]
    },
    {
     "name": "stdout",
     "output_type": "stream",
     "text": [
      "Error processing example: 'NoneType' object has no attribute 'copy'\n",
      "Error processing example: No Javadoc comment found in the code.\n",
      "Error processing example: No Javadoc comment found in the code.\n",
      "Error processing example: No Javadoc comment found in the code.\n",
      "Error processing example: No Javadoc comment found in the code.\n"
     ]
    },
    {
     "name": "stderr",
     "output_type": "stream",
     "text": [
      "Generating responses:   0%|          | 0/9 [00:00<?, ?it/s]\n",
      "Processing dataset:  71%|███████   | 2949/4156 [00:31<00:12, 94.17it/s]"
     ]
    },
    {
     "name": "stdout",
     "output_type": "stream",
     "text": [
      "Error processing example: 'NoneType' object has no attribute 'copy'\n",
      "Error processing example: No Javadoc comment found in the code.\n",
      "Error processing example: No Javadoc comment found in the code.\n"
     ]
    },
    {
     "name": "stderr",
     "output_type": "stream",
     "text": [
      "Generating responses:   0%|          | 0/9 [00:00<?, ?it/s]\n"
     ]
    },
    {
     "name": "stdout",
     "output_type": "stream",
     "text": [
      "Error processing example: 'NoneType' object has no attribute 'copy'\n"
     ]
    },
    {
     "name": "stderr",
     "output_type": "stream",
     "text": [
      "Generating responses:   0%|          | 0/9 [00:00<?, ?it/s]"
     ]
    },
    {
     "name": "stdout",
     "output_type": "stream",
     "text": [
      "Error processing example: 'NoneType' object has no attribute 'copy'\n"
     ]
    },
    {
     "name": "stderr",
     "output_type": "stream",
     "text": [
      "\n"
     ]
    },
    {
     "name": "stdout",
     "output_type": "stream",
     "text": [
      "Error processing example: No Javadoc comment found in the code.\n",
      "Error processing example: No Javadoc comment found in the code.\n",
      "Error processing example: No Javadoc comment found in the code.\n",
      "Error processing example: No Javadoc comment found in the code.\n",
      "Error processing example: No Javadoc comment found in the code.\n",
      "Error processing example: No Javadoc comment found in the code.\n"
     ]
    },
    {
     "name": "stderr",
     "output_type": "stream",
     "text": [
      "Generating responses:   0%|          | 0/9 [00:00<?, ?it/s]\n"
     ]
    },
    {
     "name": "stdout",
     "output_type": "stream",
     "text": [
      "Error processing example: 'NoneType' object has no attribute 'copy'\n",
      "Error processing example: No Javadoc comment found in the code.\n"
     ]
    },
    {
     "name": "stderr",
     "output_type": "stream",
     "text": [
      "Generating responses:   0%|          | 0/9 [00:00<?, ?it/s]\n",
      "Processing dataset:  71%|███████▏  | 2962/4156 [00:31<00:11, 101.62it/s]"
     ]
    },
    {
     "name": "stdout",
     "output_type": "stream",
     "text": [
      "Error processing example: 'NoneType' object has no attribute 'copy'\n"
     ]
    },
    {
     "name": "stderr",
     "output_type": "stream",
     "text": [
      "Generating responses:   0%|          | 0/9 [00:00<?, ?it/s]\n"
     ]
    },
    {
     "name": "stdout",
     "output_type": "stream",
     "text": [
      "Error processing example: 'NoneType' object has no attribute 'copy'\n",
      "Error processing example: No Javadoc comment found in the code.\n",
      "Error processing example: No Javadoc comment found in the code.\n",
      "Error processing example: No Javadoc comment found in the code.\n"
     ]
    },
    {
     "name": "stderr",
     "output_type": "stream",
     "text": [
      "Generating responses:   0%|          | 0/9 [00:00<?, ?it/s]\n"
     ]
    },
    {
     "name": "stdout",
     "output_type": "stream",
     "text": [
      "Error processing example: 'NoneType' object has no attribute 'copy'\n"
     ]
    },
    {
     "name": "stderr",
     "output_type": "stream",
     "text": [
      "Generating responses:   0%|          | 0/9 [00:00<?, ?it/s]"
     ]
    },
    {
     "name": "stdout",
     "output_type": "stream",
     "text": [
      "Error processing example: 'NoneType' object has no attribute 'copy'\n"
     ]
    },
    {
     "name": "stderr",
     "output_type": "stream",
     "text": [
      "\n"
     ]
    },
    {
     "name": "stdout",
     "output_type": "stream",
     "text": [
      "Error processing example: No Javadoc comment found in the code.\n",
      "Error processing example: No Javadoc comment found in the code.\n",
      "Error processing example: No Javadoc comment found in the code.\n"
     ]
    },
    {
     "name": "stderr",
     "output_type": "stream",
     "text": [
      "Processing dataset:  72%|███████▏  | 2974/4156 [00:32<00:11, 105.35it/s]"
     ]
    },
    {
     "name": "stdout",
     "output_type": "stream",
     "text": [
      "Error processing example: No Javadoc comment found in the code.\n",
      "Error processing example: No Javadoc comment found in the code.\n",
      "Error processing example: No Javadoc comment found in the code.\n",
      "Error processing example: No Javadoc comment found in the code.\n"
     ]
    },
    {
     "name": "stderr",
     "output_type": "stream",
     "text": [
      "Generating responses:   0%|          | 0/9 [00:00<?, ?it/s]"
     ]
    },
    {
     "name": "stdout",
     "output_type": "stream",
     "text": [
      "Error processing example: 'NoneType' object has no attribute 'copy'\n",
      "Error processing example: No Javadoc comment found in the code.\n"
     ]
    },
    {
     "name": "stderr",
     "output_type": "stream",
     "text": [
      "\n",
      "Generating responses:   0%|          | 0/9 [00:00<?, ?it/s]\n"
     ]
    },
    {
     "name": "stdout",
     "output_type": "stream",
     "text": [
      "Error processing example: 'NoneType' object has no attribute 'copy'\n",
      "Error processing example: No Javadoc comment found in the code.\n"
     ]
    },
    {
     "name": "stderr",
     "output_type": "stream",
     "text": [
      "Generating responses:   0%|          | 0/9 [00:00<?, ?it/s]\n"
     ]
    },
    {
     "name": "stdout",
     "output_type": "stream",
     "text": [
      "Error processing example: 'NoneType' object has no attribute 'copy'\n"
     ]
    },
    {
     "name": "stderr",
     "output_type": "stream",
     "text": [
      "Generating responses:   0%|          | 0/9 [00:00<?, ?it/s]"
     ]
    },
    {
     "name": "stdout",
     "output_type": "stream",
     "text": [
      "Error processing example: 'NoneType' object has no attribute 'copy'\n",
      "Error processing example: No Javadoc comment found in the code.\n"
     ]
    },
    {
     "name": "stderr",
     "output_type": "stream",
     "text": [
      "\n"
     ]
    },
    {
     "name": "stdout",
     "output_type": "stream",
     "text": [
      "Error processing example: No Javadoc comment found in the code.\n"
     ]
    },
    {
     "name": "stderr",
     "output_type": "stream",
     "text": [
      "Generating responses:   0%|          | 0/9 [00:00<?, ?it/s]\n",
      "Processing dataset:  72%|███████▏  | 2985/4156 [00:32<00:11, 104.13it/s]"
     ]
    },
    {
     "name": "stdout",
     "output_type": "stream",
     "text": [
      "Error processing example: 'NoneType' object has no attribute 'copy'\n",
      "Error processing example: No Javadoc comment found in the code.\n",
      "Error processing example: No Javadoc comment found in the code.\n",
      "Error processing example: No Javadoc comment found in the code.\n",
      "Error processing example: No Javadoc comment found in the code.\n",
      "Error processing example: No Javadoc comment found in the code.\n"
     ]
    },
    {
     "name": "stderr",
     "output_type": "stream",
     "text": [
      "Generating responses:   0%|          | 0/9 [00:00<?, ?it/s]\n"
     ]
    },
    {
     "name": "stdout",
     "output_type": "stream",
     "text": [
      "Error processing example: 'NoneType' object has no attribute 'copy'\n",
      "Error processing example: No Javadoc comment found in the code.\n"
     ]
    },
    {
     "name": "stderr",
     "output_type": "stream",
     "text": [
      "Generating responses:   0%|          | 0/9 [00:00<?, ?it/s]\n"
     ]
    },
    {
     "name": "stdout",
     "output_type": "stream",
     "text": [
      "Error processing example: 'NoneType' object has no attribute 'copy'\n",
      "Error processing example: No Javadoc comment found in the code.\n"
     ]
    },
    {
     "name": "stderr",
     "output_type": "stream",
     "text": [
      "Generating responses:   0%|          | 0/9 [00:00<?, ?it/s]\n",
      "Processing dataset:  72%|███████▏  | 2997/4156 [00:32<00:10, 108.19it/s]"
     ]
    },
    {
     "name": "stdout",
     "output_type": "stream",
     "text": [
      "Error processing example: 'NoneType' object has no attribute 'copy'\n",
      "Error processing example: No Javadoc comment found in the code.\n",
      "Error processing example: No Javadoc comment found in the code.\n",
      "Error processing example: No Javadoc comment found in the code.\n"
     ]
    },
    {
     "name": "stderr",
     "output_type": "stream",
     "text": [
      "Generating responses:   0%|          | 0/9 [00:00<?, ?it/s]\n"
     ]
    },
    {
     "name": "stdout",
     "output_type": "stream",
     "text": [
      "Error processing example: 'NoneType' object has no attribute 'copy'\n",
      "Error processing example: No Javadoc comment found in the code.\n",
      "Error processing example: No Javadoc comment found in the code.\n"
     ]
    },
    {
     "name": "stderr",
     "output_type": "stream",
     "text": [
      "Generating responses:   0%|          | 0/9 [00:00<?, ?it/s]\n"
     ]
    },
    {
     "name": "stdout",
     "output_type": "stream",
     "text": [
      "Error processing example: 'NoneType' object has no attribute 'copy'\n"
     ]
    },
    {
     "name": "stderr",
     "output_type": "stream",
     "text": [
      "Generating responses:   0%|          | 0/9 [00:00<?, ?it/s]\n"
     ]
    },
    {
     "name": "stdout",
     "output_type": "stream",
     "text": [
      "Error processing example: 'NoneType' object has no attribute 'copy'\n"
     ]
    },
    {
     "name": "stderr",
     "output_type": "stream",
     "text": [
      "Generating responses:   0%|          | 0/9 [00:00<?, ?it/s]\n"
     ]
    },
    {
     "name": "stdout",
     "output_type": "stream",
     "text": [
      "Error processing example: 'NoneType' object has no attribute 'copy'\n",
      "Error processing example: No Javadoc comment found in the code.\n"
     ]
    },
    {
     "name": "stderr",
     "output_type": "stream",
     "text": [
      "Generating responses:   0%|          | 0/9 [00:00<?, ?it/s]\n"
     ]
    },
    {
     "name": "stdout",
     "output_type": "stream",
     "text": [
      "Error processing example: 'NoneType' object has no attribute 'copy'\n",
      "Error processing example: No Javadoc comment found in the code.\n"
     ]
    },
    {
     "name": "stderr",
     "output_type": "stream",
     "text": [
      "Generating responses:   0%|          | 0/9 [00:00<?, ?it/s]\n"
     ]
    },
    {
     "name": "stdout",
     "output_type": "stream",
     "text": [
      "Error processing example: 'NoneType' object has no attribute 'copy'\n"
     ]
    },
    {
     "name": "stderr",
     "output_type": "stream",
     "text": [
      "Generating responses:   0%|          | 0/9 [00:00<?, ?it/s]\n",
      "Processing dataset:  72%|███████▏  | 3008/4156 [00:32<00:12, 90.81it/s] "
     ]
    },
    {
     "name": "stdout",
     "output_type": "stream",
     "text": [
      "Error processing example: 'NoneType' object has no attribute 'copy'\n"
     ]
    },
    {
     "name": "stderr",
     "output_type": "stream",
     "text": [
      "Generating responses:   0%|          | 0/9 [00:00<?, ?it/s]\n"
     ]
    },
    {
     "name": "stdout",
     "output_type": "stream",
     "text": [
      "Error processing example: 'NoneType' object has no attribute 'copy'\n",
      "Error processing example: No Javadoc comment found in the code.\n",
      "Error processing example: No Javadoc comment found in the code.\n",
      "Error processing example: No Javadoc comment found in the code.\n"
     ]
    },
    {
     "name": "stderr",
     "output_type": "stream",
     "text": [
      "Generating responses:   0%|          | 0/9 [00:00<?, ?it/s]\n"
     ]
    },
    {
     "name": "stdout",
     "output_type": "stream",
     "text": [
      "Error processing example: 'NoneType' object has no attribute 'copy'\n",
      "Error processing example: No Javadoc comment found in the code.\n"
     ]
    },
    {
     "name": "stderr",
     "output_type": "stream",
     "text": [
      "Generating responses:   0%|          | 0/9 [00:00<?, ?it/s]\n"
     ]
    },
    {
     "name": "stdout",
     "output_type": "stream",
     "text": [
      "Error processing example: 'NoneType' object has no attribute 'copy'\n",
      "Error processing example: No Javadoc comment found in the code.\n"
     ]
    },
    {
     "name": "stderr",
     "output_type": "stream",
     "text": [
      "Generating responses:   0%|          | 0/9 [00:00<?, ?it/s]"
     ]
    },
    {
     "name": "stdout",
     "output_type": "stream",
     "text": [
      "Error processing example: 'NoneType' object has no attribute 'copy'\n"
     ]
    },
    {
     "name": "stderr",
     "output_type": "stream",
     "text": [
      "\n"
     ]
    },
    {
     "name": "stdout",
     "output_type": "stream",
     "text": [
      "Error processing example: No Javadoc comment found in the code.\n",
      "Error processing example: No Javadoc comment found in the code.\n",
      "Error processing example: No Javadoc comment found in the code.\n",
      "Error processing example: No Javadoc comment found in the code.\n"
     ]
    },
    {
     "name": "stderr",
     "output_type": "stream",
     "text": [
      "Generating responses:   0%|          | 0/9 [00:00<?, ?it/s]\n"
     ]
    },
    {
     "name": "stdout",
     "output_type": "stream",
     "text": [
      "Error processing example: 'NoneType' object has no attribute 'copy'\n"
     ]
    },
    {
     "name": "stderr",
     "output_type": "stream",
     "text": [
      "Generating responses:   0%|          | 0/9 [00:00<?, ?it/s]\n",
      "Processing dataset:  73%|███████▎  | 3023/4156 [00:32<00:10, 104.91it/s]"
     ]
    },
    {
     "name": "stdout",
     "output_type": "stream",
     "text": [
      "Error processing example: 'NoneType' object has no attribute 'copy'\n"
     ]
    },
    {
     "name": "stderr",
     "output_type": "stream",
     "text": [
      "Generating responses:   0%|          | 0/9 [00:00<?, ?it/s]\n"
     ]
    },
    {
     "name": "stdout",
     "output_type": "stream",
     "text": [
      "Error processing example: 'NoneType' object has no attribute 'copy'\n",
      "Error processing example: No Javadoc comment found in the code.\n",
      "Error processing example: No Javadoc comment found in the code.\n",
      "Error processing example: No Javadoc comment found in the code.\n"
     ]
    },
    {
     "name": "stderr",
     "output_type": "stream",
     "text": [
      "Generating responses:   0%|          | 0/9 [00:00<?, ?it/s]\n"
     ]
    },
    {
     "name": "stdout",
     "output_type": "stream",
     "text": [
      "Error processing example: 'NoneType' object has no attribute 'copy'\n",
      "Error processing example: No Javadoc comment found in the code.\n"
     ]
    },
    {
     "name": "stderr",
     "output_type": "stream",
     "text": [
      "Generating responses:   0%|          | 0/9 [00:00<?, ?it/s]\n"
     ]
    },
    {
     "name": "stdout",
     "output_type": "stream",
     "text": [
      "Error processing example: 'NoneType' object has no attribute 'copy'\n",
      "Error processing example: No Javadoc comment found in the code.\n",
      "Error processing example: No Javadoc comment found in the code.\n",
      "Error processing example: No Javadoc comment found in the code.\n"
     ]
    },
    {
     "name": "stderr",
     "output_type": "stream",
     "text": [
      "Generating responses:   0%|          | 0/9 [00:00<?, ?it/s]\n"
     ]
    },
    {
     "name": "stdout",
     "output_type": "stream",
     "text": [
      "Error processing example: 'NoneType' object has no attribute 'copy'\n"
     ]
    },
    {
     "name": "stderr",
     "output_type": "stream",
     "text": [
      "Generating responses:   0%|          | 0/9 [00:00<?, ?it/s]\n",
      "Processing dataset:  73%|███████▎  | 3035/4156 [00:32<00:10, 108.72it/s]"
     ]
    },
    {
     "name": "stdout",
     "output_type": "stream",
     "text": [
      "Error processing example: 'NoneType' object has no attribute 'copy'\n"
     ]
    },
    {
     "name": "stderr",
     "output_type": "stream",
     "text": [
      "Generating responses:   0%|          | 0/9 [00:00<?, ?it/s]\n"
     ]
    },
    {
     "name": "stdout",
     "output_type": "stream",
     "text": [
      "Error processing example: 'NoneType' object has no attribute 'copy'\n",
      "Error processing example: No Javadoc comment found in the code.\n"
     ]
    },
    {
     "name": "stderr",
     "output_type": "stream",
     "text": [
      "Generating responses:   0%|          | 0/9 [00:00<?, ?it/s]\n"
     ]
    },
    {
     "name": "stdout",
     "output_type": "stream",
     "text": [
      "Error processing example: 'NoneType' object has no attribute 'copy'\n"
     ]
    },
    {
     "name": "stderr",
     "output_type": "stream",
     "text": [
      "Generating responses:   0%|          | 0/9 [00:00<?, ?it/s]\n"
     ]
    },
    {
     "name": "stdout",
     "output_type": "stream",
     "text": [
      "Error processing example: 'NoneType' object has no attribute 'copy'\n",
      "Error processing example: No Javadoc comment found in the code.\n",
      "Error processing example: No Javadoc comment found in the code.\n",
      "Error processing example: No Javadoc comment found in the code.\n",
      "Error processing example: No Javadoc comment found in the code.\n"
     ]
    },
    {
     "name": "stderr",
     "output_type": "stream",
     "text": [
      "Generating responses:   0%|          | 0/9 [00:00<?, ?it/s]\n"
     ]
    },
    {
     "name": "stdout",
     "output_type": "stream",
     "text": [
      "Error processing example: 'NoneType' object has no attribute 'copy'\n",
      "Error processing example: No Javadoc comment found in the code.\n"
     ]
    },
    {
     "name": "stderr",
     "output_type": "stream",
     "text": [
      "Generating responses:   0%|          | 0/9 [00:00<?, ?it/s]\n"
     ]
    },
    {
     "name": "stdout",
     "output_type": "stream",
     "text": [
      "Error processing example: 'NoneType' object has no attribute 'copy'\n"
     ]
    },
    {
     "name": "stderr",
     "output_type": "stream",
     "text": [
      "Generating responses:   0%|          | 0/9 [00:00<?, ?it/s]\n",
      "Processing dataset:  73%|███████▎  | 3047/4156 [00:32<00:11, 97.17it/s] "
     ]
    },
    {
     "name": "stdout",
     "output_type": "stream",
     "text": [
      "Error processing example: 'NoneType' object has no attribute 'copy'\n"
     ]
    },
    {
     "name": "stderr",
     "output_type": "stream",
     "text": [
      "Generating responses:   0%|          | 0/9 [00:00<?, ?it/s]\n"
     ]
    },
    {
     "name": "stdout",
     "output_type": "stream",
     "text": [
      "Error processing example: 'NoneType' object has no attribute 'copy'\n",
      "Error processing example: No Javadoc comment found in the code.\n"
     ]
    },
    {
     "name": "stderr",
     "output_type": "stream",
     "text": [
      "Generating responses:   0%|          | 0/9 [00:00<?, ?it/s]\n"
     ]
    },
    {
     "name": "stdout",
     "output_type": "stream",
     "text": [
      "Error processing example: 'NoneType' object has no attribute 'copy'\n",
      "Error processing example: No Javadoc comment found in the code.\n"
     ]
    },
    {
     "name": "stderr",
     "output_type": "stream",
     "text": [
      "Generating responses:   0%|          | 0/9 [00:00<?, ?it/s]\n"
     ]
    },
    {
     "name": "stdout",
     "output_type": "stream",
     "text": [
      "Error processing example: 'NoneType' object has no attribute 'copy'\n"
     ]
    },
    {
     "name": "stderr",
     "output_type": "stream",
     "text": [
      "Generating responses:   0%|          | 0/9 [00:00<?, ?it/s]\n"
     ]
    },
    {
     "name": "stdout",
     "output_type": "stream",
     "text": [
      "Error processing example: 'NoneType' object has no attribute 'copy'\n",
      "Error processing example: No Javadoc comment found in the code.\n"
     ]
    },
    {
     "name": "stderr",
     "output_type": "stream",
     "text": [
      "Generating responses:   0%|          | 0/9 [00:00<?, ?it/s]"
     ]
    },
    {
     "name": "stdout",
     "output_type": "stream",
     "text": [
      "Error processing example: 'NoneType' object has no attribute 'copy'\n"
     ]
    },
    {
     "name": "stderr",
     "output_type": "stream",
     "text": [
      "\n"
     ]
    },
    {
     "name": "stdout",
     "output_type": "stream",
     "text": [
      "Error processing example: No Javadoc comment found in the code.\n"
     ]
    },
    {
     "name": "stderr",
     "output_type": "stream",
     "text": [
      "Generating responses:   0%|          | 0/9 [00:00<?, ?it/s]\n",
      "Processing dataset:  74%|███████▎  | 3058/4156 [00:32<00:12, 87.61it/s]"
     ]
    },
    {
     "name": "stdout",
     "output_type": "stream",
     "text": [
      "Error processing example: 'NoneType' object has no attribute 'copy'\n",
      "Error processing example: No Javadoc comment found in the code.\n"
     ]
    },
    {
     "name": "stderr",
     "output_type": "stream",
     "text": [
      "Generating responses:   0%|          | 0/9 [00:00<?, ?it/s]\n"
     ]
    },
    {
     "name": "stdout",
     "output_type": "stream",
     "text": [
      "Error processing example: 'NoneType' object has no attribute 'copy'\n"
     ]
    },
    {
     "name": "stderr",
     "output_type": "stream",
     "text": [
      "Generating responses:   0%|          | 0/9 [00:00<?, ?it/s]\n"
     ]
    },
    {
     "name": "stdout",
     "output_type": "stream",
     "text": [
      "Error processing example: 'NoneType' object has no attribute 'copy'\n",
      "Error processing example: No Javadoc comment found in the code.\n"
     ]
    },
    {
     "name": "stderr",
     "output_type": "stream",
     "text": [
      "Generating responses:   0%|          | 0/9 [00:00<?, ?it/s]\n"
     ]
    },
    {
     "name": "stdout",
     "output_type": "stream",
     "text": [
      "Error processing example: 'NoneType' object has no attribute 'copy'\n",
      "Error processing example: No Javadoc comment found in the code.\n"
     ]
    },
    {
     "name": "stderr",
     "output_type": "stream",
     "text": [
      "Generating responses:   0%|          | 0/9 [00:00<?, ?it/s]\n"
     ]
    },
    {
     "name": "stdout",
     "output_type": "stream",
     "text": [
      "Error processing example: 'NoneType' object has no attribute 'copy'\n",
      "Error processing example: No Javadoc comment found in the code.\n",
      "Error processing example: No Javadoc comment found in the code.\n"
     ]
    },
    {
     "name": "stderr",
     "output_type": "stream",
     "text": [
      "Generating responses:   0%|          | 0/9 [00:00<?, ?it/s]"
     ]
    },
    {
     "name": "stdout",
     "output_type": "stream",
     "text": [
      "Error processing example: 'NoneType' object has no attribute 'copy'\n"
     ]
    },
    {
     "name": "stderr",
     "output_type": "stream",
     "text": [
      "\n"
     ]
    },
    {
     "name": "stdout",
     "output_type": "stream",
     "text": [
      "Error processing example: No Javadoc comment found in the code.\n"
     ]
    },
    {
     "name": "stderr",
     "output_type": "stream",
     "text": [
      "Generating responses:   0%|          | 0/9 [00:00<?, ?it/s]\n",
      "Processing dataset:  74%|███████▍  | 3069/4156 [00:33<00:12, 90.47it/s]"
     ]
    },
    {
     "name": "stdout",
     "output_type": "stream",
     "text": [
      "Error processing example: 'NoneType' object has no attribute 'copy'\n",
      "Error processing example: No Javadoc comment found in the code.\n"
     ]
    },
    {
     "name": "stderr",
     "output_type": "stream",
     "text": [
      "Generating responses:   0%|          | 0/9 [00:00<?, ?it/s]\n"
     ]
    },
    {
     "name": "stdout",
     "output_type": "stream",
     "text": [
      "Error processing example: 'NoneType' object has no attribute 'copy'\n"
     ]
    },
    {
     "name": "stderr",
     "output_type": "stream",
     "text": [
      "Generating responses:   0%|          | 0/9 [00:00<?, ?it/s]\n"
     ]
    },
    {
     "name": "stdout",
     "output_type": "stream",
     "text": [
      "Error processing example: 'NoneType' object has no attribute 'copy'\n"
     ]
    },
    {
     "name": "stderr",
     "output_type": "stream",
     "text": [
      "Generating responses:   0%|          | 0/9 [00:00<?, ?it/s]\n"
     ]
    },
    {
     "name": "stdout",
     "output_type": "stream",
     "text": [
      "Error processing example: 'NoneType' object has no attribute 'copy'\n",
      "Error processing example: No Javadoc comment found in the code.\n",
      "Error processing example: No Javadoc comment found in the code.\n",
      "Error processing example: No Javadoc comment found in the code.\n",
      "Error processing example: No Javadoc comment found in the code.\n"
     ]
    },
    {
     "name": "stderr",
     "output_type": "stream",
     "text": [
      "Generating responses:   0%|          | 0/9 [00:00<?, ?it/s]\n",
      "Processing dataset:  74%|███████▍  | 3079/4156 [00:33<00:12, 84.99it/s]"
     ]
    },
    {
     "name": "stdout",
     "output_type": "stream",
     "text": [
      "Error processing example: 'NoneType' object has no attribute 'copy'\n",
      "Error processing example: No Javadoc comment found in the code.\n",
      "Error processing example: No Javadoc comment found in the code.\n",
      "Error processing example: No Javadoc comment found in the code.\n"
     ]
    },
    {
     "name": "stderr",
     "output_type": "stream",
     "text": [
      "Generating responses:   0%|          | 0/9 [00:00<?, ?it/s]"
     ]
    },
    {
     "name": "stdout",
     "output_type": "stream",
     "text": [
      "Error processing example: 'NoneType' object has no attribute 'copy'\n"
     ]
    },
    {
     "name": "stderr",
     "output_type": "stream",
     "text": [
      "\n"
     ]
    },
    {
     "name": "stdout",
     "output_type": "stream",
     "text": [
      "Error processing example: No Javadoc comment found in the code.\n",
      "Error processing example: No Javadoc comment found in the code.\n",
      "Error processing example: No Javadoc comment found in the code.\n"
     ]
    },
    {
     "name": "stderr",
     "output_type": "stream",
     "text": [
      "Generating responses:   0%|          | 0/9 [00:00<?, ?it/s]\n"
     ]
    },
    {
     "name": "stdout",
     "output_type": "stream",
     "text": [
      "Error processing example: 'NoneType' object has no attribute 'copy'\n"
     ]
    },
    {
     "name": "stderr",
     "output_type": "stream",
     "text": [
      "Processing dataset:  74%|███████▍  | 3088/4156 [00:33<00:12, 82.20it/s]"
     ]
    },
    {
     "name": "stdout",
     "output_type": "stream",
     "text": [
      "Error processing example: No Javadoc comment found in the code.\n",
      "Error processing example: No Javadoc comment found in the code.\n"
     ]
    },
    {
     "name": "stderr",
     "output_type": "stream",
     "text": [
      "Generating responses:   0%|          | 0/9 [00:00<?, ?it/s]\n"
     ]
    },
    {
     "name": "stdout",
     "output_type": "stream",
     "text": [
      "Error processing example: 'NoneType' object has no attribute 'copy'\n"
     ]
    },
    {
     "name": "stderr",
     "output_type": "stream",
     "text": [
      "Generating responses:   0%|          | 0/9 [00:00<?, ?it/s]\n"
     ]
    },
    {
     "name": "stdout",
     "output_type": "stream",
     "text": [
      "Error processing example: 'NoneType' object has no attribute 'copy'\n",
      "Error processing example: No Javadoc comment found in the code.\n",
      "Error processing example: No Javadoc comment found in the code.\n"
     ]
    },
    {
     "name": "stderr",
     "output_type": "stream",
     "text": [
      "Generating responses:   0%|          | 0/9 [00:00<?, ?it/s]\n"
     ]
    },
    {
     "name": "stdout",
     "output_type": "stream",
     "text": [
      "Error processing example: 'NoneType' object has no attribute 'copy'\n",
      "Error processing example: No Javadoc comment found in the code.\n",
      "Error processing example: No Javadoc comment found in the code.\n",
      "Error processing example: No Javadoc comment found in the code.\n"
     ]
    },
    {
     "name": "stderr",
     "output_type": "stream",
     "text": [
      "Generating responses:   0%|          | 0/9 [00:00<?, ?it/s]"
     ]
    },
    {
     "name": "stdout",
     "output_type": "stream",
     "text": [
      "Error processing example: 'NoneType' object has no attribute 'copy'\n",
      "Error processing example: No Javadoc comment found in the code.\n"
     ]
    },
    {
     "name": "stderr",
     "output_type": "stream",
     "text": [
      "\n"
     ]
    },
    {
     "name": "stdout",
     "output_type": "stream",
     "text": [
      "Error processing example: No Javadoc comment found in the code.\n"
     ]
    },
    {
     "name": "stderr",
     "output_type": "stream",
     "text": [
      "Generating responses:   0%|          | 0/9 [00:00<?, ?it/s]\n",
      "Processing dataset:  75%|███████▍  | 3100/4156 [00:33<00:11, 88.62it/s]"
     ]
    },
    {
     "name": "stdout",
     "output_type": "stream",
     "text": [
      "Error processing example: 'NoneType' object has no attribute 'copy'\n",
      "Error processing example: No Javadoc comment found in the code.\n"
     ]
    },
    {
     "name": "stderr",
     "output_type": "stream",
     "text": [
      "Generating responses:   0%|          | 0/9 [00:00<?, ?it/s]"
     ]
    },
    {
     "name": "stdout",
     "output_type": "stream",
     "text": [
      "Error processing example: 'NoneType' object has no attribute 'copy'\n"
     ]
    },
    {
     "name": "stderr",
     "output_type": "stream",
     "text": [
      "\n"
     ]
    },
    {
     "name": "stdout",
     "output_type": "stream",
     "text": [
      "Error processing example: No Javadoc comment found in the code.\n"
     ]
    },
    {
     "name": "stderr",
     "output_type": "stream",
     "text": [
      "Generating responses:   0%|          | 0/9 [00:00<?, ?it/s]"
     ]
    },
    {
     "name": "stdout",
     "output_type": "stream",
     "text": [
      "Error processing example: 'NoneType' object has no attribute 'copy'\n"
     ]
    },
    {
     "name": "stderr",
     "output_type": "stream",
     "text": [
      "\n"
     ]
    },
    {
     "name": "stdout",
     "output_type": "stream",
     "text": [
      "Error processing example: No Javadoc comment found in the code.\n",
      "Error processing example: No Javadoc comment found in the code.\n"
     ]
    },
    {
     "name": "stderr",
     "output_type": "stream",
     "text": [
      "Generating responses:   0%|          | 0/9 [00:00<?, ?it/s]\n"
     ]
    },
    {
     "name": "stdout",
     "output_type": "stream",
     "text": [
      "Error processing example: 'NoneType' object has no attribute 'copy'\n",
      "Error processing example: No Javadoc comment found in the code.\n"
     ]
    },
    {
     "name": "stderr",
     "output_type": "stream",
     "text": [
      "Generating responses:   0%|          | 0/9 [00:00<?, ?it/s]\n"
     ]
    },
    {
     "name": "stdout",
     "output_type": "stream",
     "text": [
      "Error processing example: 'NoneType' object has no attribute 'copy'\n"
     ]
    },
    {
     "name": "stderr",
     "output_type": "stream",
     "text": [
      "Processing dataset:  75%|███████▍  | 3110/4156 [00:33<00:12, 84.05it/s]"
     ]
    },
    {
     "name": "stdout",
     "output_type": "stream",
     "text": [
      "Error processing example: No Javadoc comment found in the code.\n",
      "Error processing example: No Javadoc comment found in the code.\n"
     ]
    },
    {
     "name": "stderr",
     "output_type": "stream",
     "text": [
      "Generating responses:   0%|          | 0/9 [00:00<?, ?it/s]\n"
     ]
    },
    {
     "name": "stdout",
     "output_type": "stream",
     "text": [
      "Error processing example: 'NoneType' object has no attribute 'copy'\n"
     ]
    },
    {
     "name": "stderr",
     "output_type": "stream",
     "text": [
      "Generating responses:   0%|          | 0/9 [00:00<?, ?it/s]"
     ]
    },
    {
     "name": "stdout",
     "output_type": "stream",
     "text": [
      "Error processing example: 'NoneType' object has no attribute 'copy'\n"
     ]
    },
    {
     "name": "stderr",
     "output_type": "stream",
     "text": [
      "\n",
      "Generating responses:   0%|          | 0/9 [00:00<?, ?it/s]\n"
     ]
    },
    {
     "name": "stdout",
     "output_type": "stream",
     "text": [
      "Error processing example: 'NoneType' object has no attribute 'copy'\n",
      "Error processing example: No Javadoc comment found in the code.\n"
     ]
    },
    {
     "name": "stderr",
     "output_type": "stream",
     "text": [
      "Generating responses:   0%|          | 0/9 [00:00<?, ?it/s]\n"
     ]
    },
    {
     "name": "stdout",
     "output_type": "stream",
     "text": [
      "Error processing example: 'NoneType' object has no attribute 'copy'\n"
     ]
    },
    {
     "name": "stderr",
     "output_type": "stream",
     "text": [
      "Generating responses:   0%|          | 0/9 [00:00<?, ?it/s]\n"
     ]
    },
    {
     "name": "stdout",
     "output_type": "stream",
     "text": [
      "Error processing example: 'NoneType' object has no attribute 'copy'\n",
      "Error processing example: No Javadoc comment found in the code.\n"
     ]
    },
    {
     "name": "stderr",
     "output_type": "stream",
     "text": [
      "Generating responses:   0%|          | 0/9 [00:00<?, ?it/s]\n",
      "Processing dataset:  75%|███████▌  | 3119/4156 [00:33<00:13, 77.44it/s]"
     ]
    },
    {
     "name": "stdout",
     "output_type": "stream",
     "text": [
      "Error processing example: 'NoneType' object has no attribute 'copy'\n",
      "Error processing example: No Javadoc comment found in the code.\n",
      "Error processing example: No Javadoc comment found in the code.\n"
     ]
    },
    {
     "name": "stderr",
     "output_type": "stream",
     "text": [
      "Generating responses:   0%|          | 0/9 [00:00<?, ?it/s]\n"
     ]
    },
    {
     "name": "stdout",
     "output_type": "stream",
     "text": [
      "Error processing example: 'NoneType' object has no attribute 'copy'\n"
     ]
    },
    {
     "name": "stderr",
     "output_type": "stream",
     "text": [
      "Generating responses:   0%|          | 0/9 [00:00<?, ?it/s]"
     ]
    },
    {
     "name": "stdout",
     "output_type": "stream",
     "text": [
      "Error processing example: 'NoneType' object has no attribute 'copy'\n"
     ]
    },
    {
     "name": "stderr",
     "output_type": "stream",
     "text": [
      "\n",
      "Generating responses:   0%|          | 0/9 [00:00<?, ?it/s]"
     ]
    },
    {
     "name": "stdout",
     "output_type": "stream",
     "text": [
      "Error processing example: 'NoneType' object has no attribute 'copy'\n"
     ]
    },
    {
     "name": "stderr",
     "output_type": "stream",
     "text": [
      "\n"
     ]
    },
    {
     "name": "stdout",
     "output_type": "stream",
     "text": [
      "Error processing example: No Javadoc comment found in the code.\n",
      "Error processing example: No Javadoc comment found in the code.\n"
     ]
    },
    {
     "name": "stderr",
     "output_type": "stream",
     "text": [
      "Generating responses:   0%|          | 0/9 [00:00<?, ?it/s]\n"
     ]
    },
    {
     "name": "stdout",
     "output_type": "stream",
     "text": [
      "Error processing example: 'NoneType' object has no attribute 'copy'\n",
      "Error processing example: No Javadoc comment found in the code.\n"
     ]
    },
    {
     "name": "stderr",
     "output_type": "stream",
     "text": [
      "Processing dataset:  75%|███████▌  | 3129/4156 [00:33<00:12, 82.63it/s]"
     ]
    },
    {
     "name": "stdout",
     "output_type": "stream",
     "text": [
      "Error processing example: No Javadoc comment found in the code.\n"
     ]
    },
    {
     "name": "stderr",
     "output_type": "stream",
     "text": [
      "Generating responses:   0%|          | 0/9 [00:00<?, ?it/s]\n"
     ]
    },
    {
     "name": "stdout",
     "output_type": "stream",
     "text": [
      "Error processing example: 'NoneType' object has no attribute 'copy'\n",
      "Error processing example: No Javadoc comment found in the code.\n",
      "Error processing example: No Javadoc comment found in the code.\n",
      "Error processing example: No Javadoc comment found in the code.\n",
      "Error processing example: No Javadoc comment found in the code.\n",
      "Error processing example: No Javadoc comment found in the code.\n",
      "Error processing example: No Javadoc comment found in the code.\n"
     ]
    },
    {
     "name": "stderr",
     "output_type": "stream",
     "text": [
      "Generating responses:   0%|          | 0/9 [00:00<?, ?it/s]\n"
     ]
    },
    {
     "name": "stdout",
     "output_type": "stream",
     "text": [
      "Error processing example: 'NoneType' object has no attribute 'copy'\n",
      "Error processing example: No Javadoc comment found in the code.\n"
     ]
    },
    {
     "name": "stderr",
     "output_type": "stream",
     "text": [
      "Processing dataset:  76%|███████▌  | 3139/4156 [00:33<00:11, 85.63it/s]"
     ]
    },
    {
     "name": "stdout",
     "output_type": "stream",
     "text": [
      "Error processing example: No Javadoc comment found in the code.\n",
      "Error processing example: No Javadoc comment found in the code.\n",
      "Error processing example: No Javadoc comment found in the code.\n",
      "Error processing example: No Javadoc comment found in the code.\n",
      "Error processing example: No Javadoc comment found in the code.\n"
     ]
    },
    {
     "name": "stderr",
     "output_type": "stream",
     "text": [
      "Generating responses:   0%|          | 0/9 [00:00<?, ?it/s]\n"
     ]
    },
    {
     "name": "stdout",
     "output_type": "stream",
     "text": [
      "Error processing example: 'NoneType' object has no attribute 'copy'\n"
     ]
    },
    {
     "name": "stderr",
     "output_type": "stream",
     "text": [
      "Generating responses:   0%|          | 0/9 [00:00<?, ?it/s]\n"
     ]
    },
    {
     "name": "stdout",
     "output_type": "stream",
     "text": [
      "Error processing example: 'NoneType' object has no attribute 'copy'\n"
     ]
    },
    {
     "name": "stderr",
     "output_type": "stream",
     "text": [
      "Generating responses:   0%|          | 0/9 [00:00<?, ?it/s]\n"
     ]
    },
    {
     "name": "stdout",
     "output_type": "stream",
     "text": [
      "Error processing example: 'NoneType' object has no attribute 'copy'\n",
      "Error processing example: No Javadoc comment found in the code.\n",
      "Error processing example: No Javadoc comment found in the code.\n"
     ]
    },
    {
     "name": "stderr",
     "output_type": "stream",
     "text": [
      "Generating responses:   0%|          | 0/9 [00:00<?, ?it/s]\n"
     ]
    },
    {
     "name": "stdout",
     "output_type": "stream",
     "text": [
      "Error processing example: 'NoneType' object has no attribute 'copy'\n",
      "Error processing example: No Javadoc comment found in the code.\n"
     ]
    },
    {
     "name": "stderr",
     "output_type": "stream",
     "text": [
      "Generating responses:   0%|          | 0/9 [00:00<?, ?it/s]\n",
      "Processing dataset:  76%|███████▌  | 3151/4156 [00:34<00:11, 91.20it/s]"
     ]
    },
    {
     "name": "stdout",
     "output_type": "stream",
     "text": [
      "Error processing example: 'NoneType' object has no attribute 'copy'\n",
      "Error processing example: No Javadoc comment found in the code.\n",
      "Error processing example: No Javadoc comment found in the code.\n"
     ]
    },
    {
     "name": "stderr",
     "output_type": "stream",
     "text": [
      "Generating responses:   0%|          | 0/9 [00:00<?, ?it/s]\n"
     ]
    },
    {
     "name": "stdout",
     "output_type": "stream",
     "text": [
      "Error processing example: 'NoneType' object has no attribute 'copy'\n",
      "Error processing example: No Javadoc comment found in the code.\n",
      "Error processing example: No Javadoc comment found in the code.\n",
      "Error processing example: No Javadoc comment found in the code.\n"
     ]
    },
    {
     "name": "stderr",
     "output_type": "stream",
     "text": [
      "Generating responses:   0%|          | 0/9 [00:00<?, ?it/s]"
     ]
    },
    {
     "name": "stdout",
     "output_type": "stream",
     "text": [
      "Error processing example: 'NoneType' object has no attribute 'copy'\n",
      "Error processing example: No Javadoc comment found in the code.\n"
     ]
    },
    {
     "name": "stderr",
     "output_type": "stream",
     "text": [
      "\n"
     ]
    },
    {
     "name": "stdout",
     "output_type": "stream",
     "text": [
      "Error processing example: No Javadoc comment found in the code.\n"
     ]
    },
    {
     "name": "stderr",
     "output_type": "stream",
     "text": [
      "Processing dataset:  76%|███████▌  | 3161/4156 [00:34<00:11, 85.88it/s]"
     ]
    },
    {
     "name": "stdout",
     "output_type": "stream",
     "text": [
      "Error processing example: No Javadoc comment found in the code.\n"
     ]
    },
    {
     "name": "stderr",
     "output_type": "stream",
     "text": [
      "Generating responses:   0%|          | 0/9 [00:00<?, ?it/s]\n"
     ]
    },
    {
     "name": "stdout",
     "output_type": "stream",
     "text": [
      "Error processing example: 'NoneType' object has no attribute 'copy'\n",
      "Error processing example: No Javadoc comment found in the code.\n",
      "Error processing example: No Javadoc comment found in the code.\n",
      "Error processing example: No Javadoc comment found in the code.\n"
     ]
    },
    {
     "name": "stderr",
     "output_type": "stream",
     "text": [
      "Generating responses:   0%|          | 0/9 [00:00<?, ?it/s]\n"
     ]
    },
    {
     "name": "stdout",
     "output_type": "stream",
     "text": [
      "Error processing example: 'NoneType' object has no attribute 'copy'\n"
     ]
    },
    {
     "name": "stderr",
     "output_type": "stream",
     "text": [
      "Generating responses:   0%|          | 0/9 [00:00<?, ?it/s]\n"
     ]
    },
    {
     "name": "stdout",
     "output_type": "stream",
     "text": [
      "Error processing example: 'NoneType' object has no attribute 'copy'\n",
      "Error processing example: No Javadoc comment found in the code.\n",
      "Error processing example: No Javadoc comment found in the code.\n"
     ]
    },
    {
     "name": "stderr",
     "output_type": "stream",
     "text": [
      "Generating responses:   0%|          | 0/9 [00:00<?, ?it/s]\n"
     ]
    },
    {
     "name": "stdout",
     "output_type": "stream",
     "text": [
      "Error processing example: 'NoneType' object has no attribute 'copy'\n"
     ]
    },
    {
     "name": "stderr",
     "output_type": "stream",
     "text": [
      "Generating responses:   0%|          | 0/9 [00:00<?, ?it/s]\n",
      "Processing dataset:  76%|███████▋  | 3172/4156 [00:34<00:10, 91.10it/s]"
     ]
    },
    {
     "name": "stdout",
     "output_type": "stream",
     "text": [
      "Error processing example: 'NoneType' object has no attribute 'copy'\n",
      "Error processing example: No Javadoc comment found in the code.\n",
      "Error processing example: No Javadoc comment found in the code.\n"
     ]
    },
    {
     "name": "stderr",
     "output_type": "stream",
     "text": [
      "Generating responses:   0%|          | 0/9 [00:00<?, ?it/s]"
     ]
    },
    {
     "name": "stdout",
     "output_type": "stream",
     "text": [
      "Error processing example: 'NoneType' object has no attribute 'copy'\n",
      "Error processing example: No Javadoc comment found in the code.\n"
     ]
    },
    {
     "name": "stderr",
     "output_type": "stream",
     "text": [
      "\n",
      "Generating responses:   0%|          | 0/9 [00:00<?, ?it/s]\n"
     ]
    },
    {
     "name": "stdout",
     "output_type": "stream",
     "text": [
      "Error processing example: 'NoneType' object has no attribute 'copy'\n"
     ]
    },
    {
     "name": "stderr",
     "output_type": "stream",
     "text": [
      "Generating responses:   0%|          | 0/9 [00:00<?, ?it/s]"
     ]
    },
    {
     "name": "stdout",
     "output_type": "stream",
     "text": [
      "Error processing example: 'NoneType' object has no attribute 'copy'\n",
      "Error processing example: No Javadoc comment found in the code.\n"
     ]
    },
    {
     "name": "stderr",
     "output_type": "stream",
     "text": [
      "\n",
      "Generating responses:   0%|          | 0/9 [00:00<?, ?it/s]\n"
     ]
    },
    {
     "name": "stdout",
     "output_type": "stream",
     "text": [
      "Error processing example: 'NoneType' object has no attribute 'copy'\n"
     ]
    },
    {
     "name": "stderr",
     "output_type": "stream",
     "text": [
      "Generating responses:   0%|          | 0/9 [00:00<?, ?it/s]\n",
      "Processing dataset:  77%|███████▋  | 3182/4156 [00:34<00:11, 86.40it/s]"
     ]
    },
    {
     "name": "stdout",
     "output_type": "stream",
     "text": [
      "Error processing example: 'NoneType' object has no attribute 'copy'\n",
      "Error processing example: No Javadoc comment found in the code.\n",
      "Error processing example: No Javadoc comment found in the code.\n"
     ]
    },
    {
     "name": "stderr",
     "output_type": "stream",
     "text": [
      "Generating responses:   0%|          | 0/9 [00:00<?, ?it/s]\n"
     ]
    },
    {
     "name": "stdout",
     "output_type": "stream",
     "text": [
      "Error processing example: 'NoneType' object has no attribute 'copy'\n"
     ]
    },
    {
     "name": "stderr",
     "output_type": "stream",
     "text": [
      "Generating responses:   0%|          | 0/9 [00:00<?, ?it/s]"
     ]
    },
    {
     "name": "stdout",
     "output_type": "stream",
     "text": [
      "Error processing example: 'NoneType' object has no attribute 'copy'\n"
     ]
    },
    {
     "name": "stderr",
     "output_type": "stream",
     "text": [
      "\n"
     ]
    },
    {
     "name": "stdout",
     "output_type": "stream",
     "text": [
      "Error processing example: No Javadoc comment found in the code.\n",
      "Error processing example: No Javadoc comment found in the code.\n"
     ]
    },
    {
     "name": "stderr",
     "output_type": "stream",
     "text": [
      "Generating responses:   0%|          | 0/9 [00:00<?, ?it/s]\n"
     ]
    },
    {
     "name": "stdout",
     "output_type": "stream",
     "text": [
      "Error processing example: 'NoneType' object has no attribute 'copy'\n",
      "Error processing example: No Javadoc comment found in the code.\n",
      "Error processing example: No Javadoc comment found in the code.\n",
      "Error processing example: No Javadoc comment found in the code.\n"
     ]
    },
    {
     "name": "stderr",
     "output_type": "stream",
     "text": [
      "Generating responses:   0%|          | 0/9 [00:00<?, ?it/s]\n"
     ]
    },
    {
     "name": "stdout",
     "output_type": "stream",
     "text": [
      "Error processing example: 'NoneType' object has no attribute 'copy'\n"
     ]
    },
    {
     "name": "stderr",
     "output_type": "stream",
     "text": [
      "Generating responses:   0%|          | 0/9 [00:00<?, ?it/s]\n",
      "Processing dataset:  77%|███████▋  | 3192/4156 [00:34<00:11, 87.21it/s]"
     ]
    },
    {
     "name": "stdout",
     "output_type": "stream",
     "text": [
      "Error processing example: 'NoneType' object has no attribute 'copy'\n",
      "Error processing example: No Javadoc comment found in the code.\n",
      "Error processing example: No Javadoc comment found in the code.\n",
      "Error processing example: No Javadoc comment found in the code.\n",
      "Error processing example: No Javadoc comment found in the code.\n",
      "Error processing example: No Javadoc comment found in the code.\n",
      "Error processing example: No Javadoc comment found in the code.\n"
     ]
    },
    {
     "name": "stderr",
     "output_type": "stream",
     "text": [
      "Generating responses:   0%|          | 0/9 [00:00<?, ?it/s]\n"
     ]
    },
    {
     "name": "stdout",
     "output_type": "stream",
     "text": [
      "Error processing example: 'NoneType' object has no attribute 'copy'\n",
      "Error processing example: No Javadoc comment found in the code.\n",
      "Error processing example: No Javadoc comment found in the code.\n"
     ]
    },
    {
     "name": "stderr",
     "output_type": "stream",
     "text": [
      "Generating responses:   0%|          | 0/9 [00:00<?, ?it/s]\n"
     ]
    },
    {
     "name": "stdout",
     "output_type": "stream",
     "text": [
      "Error processing example: 'NoneType' object has no attribute 'copy'\n",
      "Error processing example: No Javadoc comment found in the code.\n",
      "Error processing example: No Javadoc comment found in the code.\n",
      "Error processing example: No Javadoc comment found in the code.\n"
     ]
    },
    {
     "name": "stderr",
     "output_type": "stream",
     "text": [
      "Generating responses:   0%|          | 0/9 [00:00<?, ?it/s]\n",
      "Processing dataset:  77%|███████▋  | 3206/4156 [00:34<00:09, 101.21it/s]"
     ]
    },
    {
     "name": "stdout",
     "output_type": "stream",
     "text": [
      "Error processing example: 'NoneType' object has no attribute 'copy'\n"
     ]
    },
    {
     "name": "stderr",
     "output_type": "stream",
     "text": [
      "Generating responses:   0%|          | 0/9 [00:00<?, ?it/s]"
     ]
    },
    {
     "name": "stdout",
     "output_type": "stream",
     "text": [
      "Error processing example: 'NoneType' object has no attribute 'copy'\n",
      "Error processing example: No Javadoc comment found in the code.\n"
     ]
    },
    {
     "name": "stderr",
     "output_type": "stream",
     "text": [
      "\n",
      "Generating responses:   0%|          | 0/9 [00:00<?, ?it/s]"
     ]
    },
    {
     "name": "stdout",
     "output_type": "stream",
     "text": [
      "Error processing example: 'NoneType' object has no attribute 'copy'\n"
     ]
    },
    {
     "name": "stderr",
     "output_type": "stream",
     "text": [
      "\n",
      "Generating responses:   0%|          | 0/9 [00:00<?, ?it/s]\n"
     ]
    },
    {
     "name": "stdout",
     "output_type": "stream",
     "text": [
      "Error processing example: 'NoneType' object has no attribute 'copy'\n"
     ]
    },
    {
     "name": "stderr",
     "output_type": "stream",
     "text": [
      "Generating responses:   0%|          | 0/9 [00:00<?, ?it/s]"
     ]
    },
    {
     "name": "stdout",
     "output_type": "stream",
     "text": [
      "Error processing example: 'NoneType' object has no attribute 'copy'\n"
     ]
    },
    {
     "name": "stderr",
     "output_type": "stream",
     "text": [
      "\n",
      "Generating responses:   0%|          | 0/9 [00:00<?, ?it/s]\n"
     ]
    },
    {
     "name": "stdout",
     "output_type": "stream",
     "text": [
      "Error processing example: 'NoneType' object has no attribute 'copy'\n",
      "Error processing example: No Javadoc comment found in the code.\n",
      "Error processing example: No Javadoc comment found in the code.\n"
     ]
    },
    {
     "name": "stderr",
     "output_type": "stream",
     "text": [
      "Generating responses:   0%|          | 0/9 [00:00<?, ?it/s]\n",
      "Processing dataset:  77%|███████▋  | 3217/4156 [00:34<00:11, 82.06it/s] "
     ]
    },
    {
     "name": "stdout",
     "output_type": "stream",
     "text": [
      "Error processing example: 'NoneType' object has no attribute 'copy'\n",
      "Error processing example: No Javadoc comment found in the code.\n",
      "Error processing example: No Javadoc comment found in the code.\n",
      "Error processing example: No Javadoc comment found in the code.\n",
      "Error processing example: No Javadoc comment found in the code.\n",
      "Error processing example: No Javadoc comment found in the code.\n",
      "Error processing example: No Javadoc comment found in the code.\n",
      "Error processing example: No Javadoc comment found in the code.\n",
      "Error processing example: No Javadoc comment found in the code.\n"
     ]
    },
    {
     "name": "stderr",
     "output_type": "stream",
     "text": [
      "Generating responses:   0%|          | 0/9 [00:00<?, ?it/s]\n"
     ]
    },
    {
     "name": "stdout",
     "output_type": "stream",
     "text": [
      "Error processing example: 'NoneType' object has no attribute 'copy'\n"
     ]
    },
    {
     "name": "stderr",
     "output_type": "stream",
     "text": [
      "Generating responses:   0%|          | 0/9 [00:00<?, ?it/s]\n"
     ]
    },
    {
     "name": "stdout",
     "output_type": "stream",
     "text": [
      "Error processing example: 'NoneType' object has no attribute 'copy'\n",
      "Error processing example: No Javadoc comment found in the code.\n"
     ]
    },
    {
     "name": "stderr",
     "output_type": "stream",
     "text": [
      "Generating responses:   0%|          | 0/9 [00:00<?, ?it/s]\n"
     ]
    },
    {
     "name": "stdout",
     "output_type": "stream",
     "text": [
      "Error processing example: 'NoneType' object has no attribute 'copy'\n"
     ]
    },
    {
     "name": "stderr",
     "output_type": "stream",
     "text": [
      "Generating responses:   0%|          | 0/9 [00:00<?, ?it/s]\n",
      "Processing dataset:  78%|███████▊  | 3228/4156 [00:34<00:11, 83.66it/s]"
     ]
    },
    {
     "name": "stdout",
     "output_type": "stream",
     "text": [
      "Error processing example: 'NoneType' object has no attribute 'copy'\n",
      "Error processing example: No Javadoc comment found in the code.\n"
     ]
    },
    {
     "name": "stderr",
     "output_type": "stream",
     "text": [
      "Generating responses:   0%|          | 0/9 [00:00<?, ?it/s]\n"
     ]
    },
    {
     "name": "stdout",
     "output_type": "stream",
     "text": [
      "Error processing example: 'NoneType' object has no attribute 'copy'\n"
     ]
    },
    {
     "name": "stderr",
     "output_type": "stream",
     "text": [
      "Generating responses:   0%|          | 0/9 [00:00<?, ?it/s]"
     ]
    },
    {
     "name": "stdout",
     "output_type": "stream",
     "text": [
      "Error processing example: 'NoneType' object has no attribute 'copy'\n"
     ]
    },
    {
     "name": "stderr",
     "output_type": "stream",
     "text": [
      "\n",
      "Generating responses:   0%|          | 0/9 [00:00<?, ?it/s]\n"
     ]
    },
    {
     "name": "stdout",
     "output_type": "stream",
     "text": [
      "Error processing example: 'NoneType' object has no attribute 'copy'\n"
     ]
    },
    {
     "name": "stderr",
     "output_type": "stream",
     "text": [
      "Generating responses:   0%|          | 0/9 [00:00<?, ?it/s]\n"
     ]
    },
    {
     "name": "stdout",
     "output_type": "stream",
     "text": [
      "Error processing example: 'NoneType' object has no attribute 'copy'\n"
     ]
    },
    {
     "name": "stderr",
     "output_type": "stream",
     "text": [
      "Generating responses:   0%|          | 0/9 [00:00<?, ?it/s]\n"
     ]
    },
    {
     "name": "stdout",
     "output_type": "stream",
     "text": [
      "Error processing example: 'NoneType' object has no attribute 'copy'\n",
      "Error processing example: No Javadoc comment found in the code.\n",
      "Error processing example: No Javadoc comment found in the code.\n"
     ]
    },
    {
     "name": "stderr",
     "output_type": "stream",
     "text": [
      "Generating responses:   0%|          | 0/9 [00:00<?, ?it/s]\n",
      "Processing dataset:  78%|███████▊  | 3237/4156 [00:35<00:11, 82.37it/s]"
     ]
    },
    {
     "name": "stdout",
     "output_type": "stream",
     "text": [
      "Error processing example: 'NoneType' object has no attribute 'copy'\n"
     ]
    },
    {
     "name": "stderr",
     "output_type": "stream",
     "text": [
      "Generating responses:   0%|          | 0/9 [00:00<?, ?it/s]\n"
     ]
    },
    {
     "name": "stdout",
     "output_type": "stream",
     "text": [
      "Error processing example: 'NoneType' object has no attribute 'copy'\n"
     ]
    },
    {
     "name": "stderr",
     "output_type": "stream",
     "text": [
      "Generating responses:   0%|          | 0/9 [00:00<?, ?it/s]\n"
     ]
    },
    {
     "name": "stdout",
     "output_type": "stream",
     "text": [
      "Error processing example: 'NoneType' object has no attribute 'copy'\n",
      "Error processing example: No Javadoc comment found in the code.\n"
     ]
    },
    {
     "name": "stderr",
     "output_type": "stream",
     "text": [
      "Generating responses:   0%|          | 0/9 [00:00<?, ?it/s]\n"
     ]
    },
    {
     "name": "stdout",
     "output_type": "stream",
     "text": [
      "Error processing example: 'NoneType' object has no attribute 'copy'\n",
      "Error processing example: No Javadoc comment found in the code.\n",
      "Error processing example: No Javadoc comment found in the code.\n",
      "Error processing example: No Javadoc comment found in the code.\n",
      "Error processing example: No Javadoc comment found in the code.\n",
      "Error processing example: No Javadoc comment found in the code.\n"
     ]
    },
    {
     "name": "stderr",
     "output_type": "stream",
     "text": [
      "Processing dataset:  78%|███████▊  | 3249/4156 [00:35<00:09, 91.21it/s]"
     ]
    },
    {
     "name": "stdout",
     "output_type": "stream",
     "text": [
      "Error processing example: No Javadoc comment found in the code.\n",
      "Error processing example: No Javadoc comment found in the code.\n",
      "Error processing example: No Javadoc comment found in the code.\n"
     ]
    },
    {
     "name": "stderr",
     "output_type": "stream",
     "text": [
      "Generating responses:   0%|          | 0/9 [00:00<?, ?it/s]\n"
     ]
    },
    {
     "name": "stdout",
     "output_type": "stream",
     "text": [
      "Error processing example: 'NoneType' object has no attribute 'copy'\n"
     ]
    },
    {
     "name": "stderr",
     "output_type": "stream",
     "text": [
      "Generating responses:   0%|          | 0/9 [00:00<?, ?it/s]\n"
     ]
    },
    {
     "name": "stdout",
     "output_type": "stream",
     "text": [
      "Error processing example: 'NoneType' object has no attribute 'copy'\n",
      "Error processing example: No Javadoc comment found in the code.\n",
      "Error processing example: No Javadoc comment found in the code.\n"
     ]
    },
    {
     "name": "stderr",
     "output_type": "stream",
     "text": [
      "Generating responses:   0%|          | 0/9 [00:00<?, ?it/s]\n"
     ]
    },
    {
     "name": "stdout",
     "output_type": "stream",
     "text": [
      "Error processing example: 'NoneType' object has no attribute 'copy'\n"
     ]
    },
    {
     "name": "stderr",
     "output_type": "stream",
     "text": [
      "Generating responses:   0%|          | 0/9 [00:00<?, ?it/s]\n"
     ]
    },
    {
     "name": "stdout",
     "output_type": "stream",
     "text": [
      "Error processing example: 'NoneType' object has no attribute 'copy'\n",
      "Error processing example: No Javadoc comment found in the code.\n",
      "Error processing example: No Javadoc comment found in the code.\n",
      "Error processing example: No Javadoc comment found in the code.\n"
     ]
    },
    {
     "name": "stderr",
     "output_type": "stream",
     "text": [
      "Generating responses:   0%|          | 0/9 [00:00<?, ?it/s]\n",
      "Processing dataset:  78%|███████▊  | 3259/4156 [00:35<00:10, 84.29it/s]"
     ]
    },
    {
     "name": "stdout",
     "output_type": "stream",
     "text": [
      "Error processing example: 'NoneType' object has no attribute 'copy'\n",
      "Error processing example: No Javadoc comment found in the code.\n"
     ]
    },
    {
     "name": "stderr",
     "output_type": "stream",
     "text": [
      "Generating responses:   0%|          | 0/9 [00:00<?, ?it/s]"
     ]
    },
    {
     "name": "stdout",
     "output_type": "stream",
     "text": [
      "Error processing example: 'NoneType' object has no attribute 'copy'\n"
     ]
    },
    {
     "name": "stderr",
     "output_type": "stream",
     "text": [
      "\n"
     ]
    },
    {
     "name": "stdout",
     "output_type": "stream",
     "text": [
      "Error processing example: No Javadoc comment found in the code.\n",
      "Error processing example: No Javadoc comment found in the code.\n",
      "Error processing example: No Javadoc comment found in the code.\n",
      "Error processing example: No Javadoc comment found in the code.\n",
      "Error processing example: No Javadoc comment found in the code.\n"
     ]
    },
    {
     "name": "stderr",
     "output_type": "stream",
     "text": [
      "Generating responses:   0%|          | 0/9 [00:00<?, ?it/s]\n"
     ]
    },
    {
     "name": "stdout",
     "output_type": "stream",
     "text": [
      "Error processing example: 'NoneType' object has no attribute 'copy'\n",
      "Error processing example: No Javadoc comment found in the code.\n"
     ]
    },
    {
     "name": "stderr",
     "output_type": "stream",
     "text": [
      "Generating responses:   0%|          | 0/9 [00:00<?, ?it/s]\n"
     ]
    },
    {
     "name": "stdout",
     "output_type": "stream",
     "text": [
      "Error processing example: 'NoneType' object has no attribute 'copy'\n"
     ]
    },
    {
     "name": "stderr",
     "output_type": "stream",
     "text": [
      "Generating responses:   0%|          | 0/9 [00:00<?, ?it/s]\n",
      "Processing dataset:  79%|███████▊  | 3270/4156 [00:35<00:10, 85.11it/s]"
     ]
    },
    {
     "name": "stdout",
     "output_type": "stream",
     "text": [
      "Error processing example: 'NoneType' object has no attribute 'copy'\n"
     ]
    },
    {
     "name": "stderr",
     "output_type": "stream",
     "text": [
      "Generating responses:   0%|          | 0/9 [00:00<?, ?it/s]\n"
     ]
    },
    {
     "name": "stdout",
     "output_type": "stream",
     "text": [
      "Error processing example: 'NoneType' object has no attribute 'copy'\n"
     ]
    },
    {
     "name": "stderr",
     "output_type": "stream",
     "text": [
      "Generating responses:   0%|          | 0/9 [00:00<?, ?it/s]\n"
     ]
    },
    {
     "name": "stdout",
     "output_type": "stream",
     "text": [
      "Error processing example: 'NoneType' object has no attribute 'copy'\n",
      "Error processing example: No Javadoc comment found in the code.\n",
      "Error processing example: No Javadoc comment found in the code.\n",
      "Error processing example: No Javadoc comment found in the code.\n"
     ]
    },
    {
     "name": "stderr",
     "output_type": "stream",
     "text": [
      "Generating responses:   0%|          | 0/9 [00:00<?, ?it/s]\n"
     ]
    },
    {
     "name": "stdout",
     "output_type": "stream",
     "text": [
      "Error processing example: 'NoneType' object has no attribute 'copy'\n",
      "Error processing example: No Javadoc comment found in the code.\n"
     ]
    },
    {
     "name": "stderr",
     "output_type": "stream",
     "text": [
      "Generating responses:   0%|          | 0/9 [00:00<?, ?it/s]\n",
      "Processing dataset:  79%|███████▉  | 3280/4156 [00:35<00:09, 88.76it/s]"
     ]
    },
    {
     "name": "stdout",
     "output_type": "stream",
     "text": [
      "Error processing example: 'NoneType' object has no attribute 'copy'\n",
      "Error processing example: No Javadoc comment found in the code.\n",
      "Error processing example: No Javadoc comment found in the code.\n"
     ]
    },
    {
     "name": "stderr",
     "output_type": "stream",
     "text": [
      "Generating responses:   0%|          | 0/9 [00:00<?, ?it/s]\n"
     ]
    },
    {
     "name": "stdout",
     "output_type": "stream",
     "text": [
      "Error processing example: 'NoneType' object has no attribute 'copy'\n",
      "Error processing example: No Javadoc comment found in the code.\n",
      "Error processing example: No Javadoc comment found in the code.\n",
      "Error processing example: No Javadoc comment found in the code.\n"
     ]
    },
    {
     "name": "stderr",
     "output_type": "stream",
     "text": [
      "Generating responses:   0%|          | 0/9 [00:00<?, ?it/s]\n"
     ]
    },
    {
     "name": "stdout",
     "output_type": "stream",
     "text": [
      "Error processing example: 'NoneType' object has no attribute 'copy'\n"
     ]
    },
    {
     "name": "stderr",
     "output_type": "stream",
     "text": [
      "Generating responses:   0%|          | 0/9 [00:00<?, ?it/s]\n"
     ]
    },
    {
     "name": "stdout",
     "output_type": "stream",
     "text": [
      "Error processing example: 'NoneType' object has no attribute 'copy'\n",
      "Error processing example: No Javadoc comment found in the code.\n",
      "Error processing example: No Javadoc comment found in the code.\n"
     ]
    },
    {
     "name": "stderr",
     "output_type": "stream",
     "text": [
      "Generating responses:   0%|          | 0/9 [00:00<?, ?it/s]\n"
     ]
    },
    {
     "name": "stdout",
     "output_type": "stream",
     "text": [
      "Error processing example: 'NoneType' object has no attribute 'copy'\n",
      "Error processing example: No Javadoc comment found in the code.\n",
      "Error processing example: No Javadoc comment found in the code.\n"
     ]
    },
    {
     "name": "stderr",
     "output_type": "stream",
     "text": [
      "Processing dataset:  79%|███████▉  | 3292/4156 [00:35<00:09, 95.73it/s]"
     ]
    },
    {
     "name": "stdout",
     "output_type": "stream",
     "text": [
      "Error processing example: No Javadoc comment found in the code.\n",
      "Error processing example: No Javadoc comment found in the code.\n"
     ]
    },
    {
     "name": "stderr",
     "output_type": "stream",
     "text": [
      "Generating responses:   0%|          | 0/9 [00:00<?, ?it/s]\n"
     ]
    },
    {
     "name": "stdout",
     "output_type": "stream",
     "text": [
      "Error processing example: 'NoneType' object has no attribute 'copy'\n"
     ]
    },
    {
     "name": "stderr",
     "output_type": "stream",
     "text": [
      "Generating responses:   0%|          | 0/9 [00:00<?, ?it/s]\n"
     ]
    },
    {
     "name": "stdout",
     "output_type": "stream",
     "text": [
      "Error processing example: 'NoneType' object has no attribute 'copy'\n",
      "Error processing example: No Javadoc comment found in the code.\n"
     ]
    },
    {
     "name": "stderr",
     "output_type": "stream",
     "text": [
      "Generating responses:   0%|          | 0/9 [00:00<?, ?it/s]\n"
     ]
    },
    {
     "name": "stdout",
     "output_type": "stream",
     "text": [
      "Error processing example: 'NoneType' object has no attribute 'copy'\n",
      "Error processing example: No Javadoc comment found in the code.\n",
      "Error processing example: No Javadoc comment found in the code.\n"
     ]
    },
    {
     "name": "stderr",
     "output_type": "stream",
     "text": [
      "Processing dataset:  79%|███████▉  | 3302/4156 [00:35<00:09, 94.24it/s]"
     ]
    },
    {
     "name": "stdout",
     "output_type": "stream",
     "text": [
      "Error processing example: No Javadoc comment found in the code.\n",
      "Error processing example: No Javadoc comment found in the code.\n",
      "Error processing example: No Javadoc comment found in the code.\n"
     ]
    },
    {
     "name": "stderr",
     "output_type": "stream",
     "text": [
      "Generating responses:   0%|          | 0/10 [00:00<?, ?it/s]\n"
     ]
    },
    {
     "name": "stdout",
     "output_type": "stream",
     "text": [
      "Error processing example: 'NoneType' object has no attribute 'copy'\n",
      "Error processing example: No Javadoc comment found in the code.\n",
      "Error processing example: No Javadoc comment found in the code.\n",
      "Error processing example: No Javadoc comment found in the code.\n"
     ]
    },
    {
     "name": "stderr",
     "output_type": "stream",
     "text": [
      "Generating responses:   0%|          | 0/10 [00:00<?, ?it/s]"
     ]
    },
    {
     "name": "stdout",
     "output_type": "stream",
     "text": [
      "Error processing example: 'NoneType' object has no attribute 'copy'\n"
     ]
    },
    {
     "name": "stderr",
     "output_type": "stream",
     "text": [
      "\n",
      "Generating responses:   0%|          | 0/10 [00:00<?, ?it/s]"
     ]
    },
    {
     "name": "stdout",
     "output_type": "stream",
     "text": [
      "Error processing example: 'NoneType' object has no attribute 'copy'\n"
     ]
    },
    {
     "name": "stderr",
     "output_type": "stream",
     "text": [
      "\n"
     ]
    },
    {
     "name": "stdout",
     "output_type": "stream",
     "text": [
      "Error processing example: No Javadoc comment found in the code.\n",
      "Error processing example: No Javadoc comment found in the code.\n"
     ]
    },
    {
     "name": "stderr",
     "output_type": "stream",
     "text": [
      "Generating responses:   0%|          | 0/10 [00:00<?, ?it/s]\n"
     ]
    },
    {
     "name": "stdout",
     "output_type": "stream",
     "text": [
      "Error processing example: 'NoneType' object has no attribute 'copy'\n",
      "Error processing example: No Javadoc comment found in the code.\n",
      "Error processing example: No Javadoc comment found in the code.\n"
     ]
    },
    {
     "name": "stderr",
     "output_type": "stream",
     "text": [
      "Generating responses:   0%|          | 0/10 [00:00<?, ?it/s]\n",
      "Processing dataset:  80%|███████▉  | 3315/4156 [00:35<00:08, 102.76it/s]"
     ]
    },
    {
     "name": "stdout",
     "output_type": "stream",
     "text": [
      "Error processing example: 'NoneType' object has no attribute 'copy'\n",
      "Error processing example: No Javadoc comment found in the code.\n",
      "Error processing example: No Javadoc comment found in the code.\n",
      "Error processing example: No Javadoc comment found in the code.\n"
     ]
    },
    {
     "name": "stderr",
     "output_type": "stream",
     "text": [
      "Generating responses:   0%|          | 0/10 [00:00<?, ?it/s]\n"
     ]
    },
    {
     "name": "stdout",
     "output_type": "stream",
     "text": [
      "Error processing example: 'NoneType' object has no attribute 'copy'\n",
      "Error processing example: No Javadoc comment found in the code.\n"
     ]
    },
    {
     "name": "stderr",
     "output_type": "stream",
     "text": [
      "Generating responses:   0%|          | 0/10 [00:00<?, ?it/s]\n"
     ]
    },
    {
     "name": "stdout",
     "output_type": "stream",
     "text": [
      "Error processing example: 'NoneType' object has no attribute 'copy'\n",
      "Error processing example: No Javadoc comment found in the code.\n",
      "Error processing example: No Javadoc comment found in the code.\n"
     ]
    },
    {
     "name": "stderr",
     "output_type": "stream",
     "text": [
      "Generating responses:   0%|          | 0/10 [00:00<?, ?it/s]"
     ]
    },
    {
     "name": "stdout",
     "output_type": "stream",
     "text": [
      "Error processing example: 'NoneType' object has no attribute 'copy'\n",
      "Error processing example: No Javadoc comment found in the code.\n"
     ]
    },
    {
     "name": "stderr",
     "output_type": "stream",
     "text": [
      "\n"
     ]
    },
    {
     "name": "stdout",
     "output_type": "stream",
     "text": [
      "Error processing example: No Javadoc comment found in the code.\n",
      "Error processing example: No Javadoc comment found in the code.\n"
     ]
    },
    {
     "name": "stderr",
     "output_type": "stream",
     "text": [
      "Generating responses:   0%|          | 0/10 [00:00<?, ?it/s]\n",
      "Processing dataset:  80%|████████  | 3327/4156 [00:35<00:07, 106.22it/s]"
     ]
    },
    {
     "name": "stdout",
     "output_type": "stream",
     "text": [
      "Error processing example: 'NoneType' object has no attribute 'copy'\n",
      "Error processing example: No Javadoc comment found in the code.\n",
      "Error processing example: No Javadoc comment found in the code.\n"
     ]
    },
    {
     "name": "stderr",
     "output_type": "stream",
     "text": [
      "Generating responses:   0%|          | 0/10 [00:00<?, ?it/s]"
     ]
    },
    {
     "name": "stdout",
     "output_type": "stream",
     "text": [
      "Error processing example: 'NoneType' object has no attribute 'copy'\n",
      "Error processing example: No Javadoc comment found in the code.\n"
     ]
    },
    {
     "name": "stderr",
     "output_type": "stream",
     "text": [
      "\n"
     ]
    },
    {
     "name": "stdout",
     "output_type": "stream",
     "text": [
      "Error processing example: No Javadoc comment found in the code.\n"
     ]
    },
    {
     "name": "stderr",
     "output_type": "stream",
     "text": [
      "Generating responses:   0%|          | 0/10 [00:00<?, ?it/s]\n"
     ]
    },
    {
     "name": "stdout",
     "output_type": "stream",
     "text": [
      "Error processing example: 'NoneType' object has no attribute 'copy'\n",
      "Error processing example: No Javadoc comment found in the code.\n"
     ]
    },
    {
     "name": "stderr",
     "output_type": "stream",
     "text": [
      "Generating responses:   0%|          | 0/10 [00:00<?, ?it/s]\n"
     ]
    },
    {
     "name": "stdout",
     "output_type": "stream",
     "text": [
      "Error processing example: 'NoneType' object has no attribute 'copy'\n"
     ]
    },
    {
     "name": "stderr",
     "output_type": "stream",
     "text": [
      "Generating responses:   0%|          | 0/10 [00:00<?, ?it/s]\n"
     ]
    },
    {
     "name": "stdout",
     "output_type": "stream",
     "text": [
      "Error processing example: 'NoneType' object has no attribute 'copy'\n",
      "Error processing example: No Javadoc comment found in the code.\n"
     ]
    },
    {
     "name": "stderr",
     "output_type": "stream",
     "text": [
      "Generating responses:   0%|          | 0/10 [00:00<?, ?it/s]\n"
     ]
    },
    {
     "name": "stdout",
     "output_type": "stream",
     "text": [
      "Error processing example: 'NoneType' object has no attribute 'copy'\n",
      "Error processing example: No Javadoc comment found in the code.\n"
     ]
    },
    {
     "name": "stderr",
     "output_type": "stream",
     "text": [
      "Processing dataset:  80%|████████  | 3343/4156 [00:36<00:06, 119.62it/s]"
     ]
    },
    {
     "name": "stdout",
     "output_type": "stream",
     "text": [
      "Error processing example: No Javadoc comment found in the code.\n",
      "Error processing example: No Javadoc comment found in the code.\n",
      "Error processing example: No Javadoc comment found in the code.\n",
      "Error processing example: No Javadoc comment found in the code.\n"
     ]
    },
    {
     "name": "stderr",
     "output_type": "stream",
     "text": [
      "Generating responses:   0%|          | 0/10 [00:00<?, ?it/s]\n"
     ]
    },
    {
     "name": "stdout",
     "output_type": "stream",
     "text": [
      "Error processing example: 'NoneType' object has no attribute 'copy'\n",
      "Error processing example: No Javadoc comment found in the code.\n"
     ]
    },
    {
     "name": "stderr",
     "output_type": "stream",
     "text": [
      "Generating responses:   0%|          | 0/10 [00:00<?, ?it/s]\n"
     ]
    },
    {
     "name": "stdout",
     "output_type": "stream",
     "text": [
      "Error processing example: 'NoneType' object has no attribute 'copy'\n",
      "Error processing example: No Javadoc comment found in the code.\n"
     ]
    },
    {
     "name": "stderr",
     "output_type": "stream",
     "text": [
      "Generating responses:   0%|          | 0/10 [00:00<?, ?it/s]"
     ]
    },
    {
     "name": "stdout",
     "output_type": "stream",
     "text": [
      "Error processing example: 'NoneType' object has no attribute 'copy'\n",
      "Error processing example: No Javadoc comment found in the code.\n"
     ]
    },
    {
     "name": "stderr",
     "output_type": "stream",
     "text": [
      "\n",
      "Generating responses:   0%|          | 0/10 [00:00<?, ?it/s]\n"
     ]
    },
    {
     "name": "stdout",
     "output_type": "stream",
     "text": [
      "Error processing example: 'NoneType' object has no attribute 'copy'\n"
     ]
    },
    {
     "name": "stderr",
     "output_type": "stream",
     "text": [
      "Generating responses:   0%|          | 0/10 [00:00<?, ?it/s]"
     ]
    },
    {
     "name": "stdout",
     "output_type": "stream",
     "text": [
      "Error processing example: 'NoneType' object has no attribute 'copy'\n"
     ]
    },
    {
     "name": "stderr",
     "output_type": "stream",
     "text": [
      "\n",
      "Generating responses:   0%|          | 0/10 [00:00<?, ?it/s]\n"
     ]
    },
    {
     "name": "stdout",
     "output_type": "stream",
     "text": [
      "Error processing example: 'NoneType' object has no attribute 'copy'\n",
      "Error processing example: No Javadoc comment found in the code.\n",
      "Error processing example: No Javadoc comment found in the code.\n",
      "Error processing example: No Javadoc comment found in the code.\n"
     ]
    },
    {
     "name": "stderr",
     "output_type": "stream",
     "text": [
      "Processing dataset:  81%|████████  | 3356/4156 [00:36<00:08, 97.57it/s] "
     ]
    },
    {
     "name": "stdout",
     "output_type": "stream",
     "text": [
      "Error processing example: No Javadoc comment found in the code.\n",
      "Error processing example: No Javadoc comment found in the code.\n"
     ]
    },
    {
     "name": "stderr",
     "output_type": "stream",
     "text": [
      "Generating responses:   0%|          | 0/10 [00:00<?, ?it/s]\n"
     ]
    },
    {
     "name": "stdout",
     "output_type": "stream",
     "text": [
      "Error processing example: 'NoneType' object has no attribute 'copy'\n",
      "Error processing example: No Javadoc comment found in the code.\n",
      "Error processing example: No Javadoc comment found in the code.\n",
      "Error processing example: No Javadoc comment found in the code.\n",
      "Error processing example: No Javadoc comment found in the code.\n",
      "Error processing example: No Javadoc comment found in the code.\n",
      "Error processing example: No Javadoc comment found in the code.\n",
      "Error processing example: No Javadoc comment found in the code.\n"
     ]
    },
    {
     "name": "stderr",
     "output_type": "stream",
     "text": [
      "Generating responses:   0%|          | 0/10 [00:00<?, ?it/s]"
     ]
    },
    {
     "name": "stdout",
     "output_type": "stream",
     "text": [
      "Error processing example: 'NoneType' object has no attribute 'copy'\n"
     ]
    },
    {
     "name": "stderr",
     "output_type": "stream",
     "text": [
      "\n"
     ]
    },
    {
     "name": "stdout",
     "output_type": "stream",
     "text": [
      "Error processing example: No Javadoc comment found in the code.\n",
      "Error processing example: No Javadoc comment found in the code.\n"
     ]
    },
    {
     "name": "stderr",
     "output_type": "stream",
     "text": [
      "Generating responses:   0%|          | 0/10 [00:00<?, ?it/s]\n",
      "Processing dataset:  81%|████████  | 3369/4156 [00:36<00:07, 102.00it/s]"
     ]
    },
    {
     "name": "stdout",
     "output_type": "stream",
     "text": [
      "Error processing example: 'NoneType' object has no attribute 'copy'\n",
      "Error processing example: No Javadoc comment found in the code.\n"
     ]
    },
    {
     "name": "stderr",
     "output_type": "stream",
     "text": [
      "Generating responses:   0%|          | 0/10 [00:00<?, ?it/s]\n"
     ]
    },
    {
     "name": "stdout",
     "output_type": "stream",
     "text": [
      "Error processing example: 'NoneType' object has no attribute 'copy'\n",
      "Error processing example: No Javadoc comment found in the code.\n",
      "Error processing example: No Javadoc comment found in the code.\n"
     ]
    },
    {
     "name": "stderr",
     "output_type": "stream",
     "text": [
      "Generating responses:   0%|          | 0/10 [00:00<?, ?it/s]\n"
     ]
    },
    {
     "name": "stdout",
     "output_type": "stream",
     "text": [
      "Error processing example: 'NoneType' object has no attribute 'copy'\n"
     ]
    },
    {
     "name": "stderr",
     "output_type": "stream",
     "text": [
      "Generating responses:   0%|          | 0/10 [00:00<?, ?it/s]\n"
     ]
    },
    {
     "name": "stdout",
     "output_type": "stream",
     "text": [
      "Error processing example: 'NoneType' object has no attribute 'copy'\n"
     ]
    },
    {
     "name": "stderr",
     "output_type": "stream",
     "text": [
      "Generating responses:   0%|          | 0/10 [00:00<?, ?it/s]\n"
     ]
    },
    {
     "name": "stdout",
     "output_type": "stream",
     "text": [
      "Error processing example: 'NoneType' object has no attribute 'copy'\n"
     ]
    },
    {
     "name": "stderr",
     "output_type": "stream",
     "text": [
      "Generating responses:   0%|          | 0/10 [00:00<?, ?it/s]\n"
     ]
    },
    {
     "name": "stdout",
     "output_type": "stream",
     "text": [
      "Error processing example: 'NoneType' object has no attribute 'copy'\n",
      "Error processing example: No Javadoc comment found in the code.\n"
     ]
    },
    {
     "name": "stderr",
     "output_type": "stream",
     "text": [
      "Generating responses:   0%|          | 0/10 [00:00<?, ?it/s]\n",
      "Processing dataset:  81%|████████▏ | 3380/4156 [00:36<00:07, 102.32it/s]"
     ]
    },
    {
     "name": "stdout",
     "output_type": "stream",
     "text": [
      "Error processing example: 'NoneType' object has no attribute 'copy'\n",
      "Error processing example: No Javadoc comment found in the code.\n",
      "Error processing example: No Javadoc comment found in the code.\n",
      "Error processing example: No Javadoc comment found in the code.\n"
     ]
    },
    {
     "name": "stderr",
     "output_type": "stream",
     "text": [
      "Generating responses:   0%|          | 0/10 [00:00<?, ?it/s]\n"
     ]
    },
    {
     "name": "stdout",
     "output_type": "stream",
     "text": [
      "Error processing example: 'NoneType' object has no attribute 'copy'\n"
     ]
    },
    {
     "name": "stderr",
     "output_type": "stream",
     "text": [
      "Generating responses:   0%|          | 0/10 [00:00<?, ?it/s]\n"
     ]
    },
    {
     "name": "stdout",
     "output_type": "stream",
     "text": [
      "Error processing example: 'NoneType' object has no attribute 'copy'\n"
     ]
    },
    {
     "name": "stderr",
     "output_type": "stream",
     "text": [
      "Generating responses:   0%|          | 0/10 [00:00<?, ?it/s]\n"
     ]
    },
    {
     "name": "stdout",
     "output_type": "stream",
     "text": [
      "Error processing example: 'NoneType' object has no attribute 'copy'\n",
      "Error processing example: No Javadoc comment found in the code.\n",
      "Error processing example: No Javadoc comment found in the code.\n",
      "Error processing example: No Javadoc comment found in the code.\n"
     ]
    },
    {
     "name": "stderr",
     "output_type": "stream",
     "text": [
      "Generating responses:   0%|          | 0/10 [00:00<?, ?it/s]"
     ]
    },
    {
     "name": "stdout",
     "output_type": "stream",
     "text": [
      "Error processing example: 'NoneType' object has no attribute 'copy'\n"
     ]
    },
    {
     "name": "stderr",
     "output_type": "stream",
     "text": [
      "\n"
     ]
    },
    {
     "name": "stdout",
     "output_type": "stream",
     "text": [
      "Error processing example: No Javadoc comment found in the code.\n"
     ]
    },
    {
     "name": "stderr",
     "output_type": "stream",
     "text": [
      "Generating responses:   0%|          | 0/10 [00:00<?, ?it/s]\n"
     ]
    },
    {
     "name": "stdout",
     "output_type": "stream",
     "text": [
      "Error processing example: 'NoneType' object has no attribute 'copy'\n",
      "Error processing example: No Javadoc comment found in the code."
     ]
    },
    {
     "name": "stderr",
     "output_type": "stream",
     "text": [
      "Processing dataset:  82%|████████▏ | 3392/4156 [00:36<00:07, 105.56it/s]"
     ]
    },
    {
     "name": "stdout",
     "output_type": "stream",
     "text": [
      "\n",
      "Error processing example: No Javadoc comment found in the code.\n"
     ]
    },
    {
     "name": "stderr",
     "output_type": "stream",
     "text": [
      "Generating responses:   0%|          | 0/10 [00:00<?, ?it/s]\n"
     ]
    },
    {
     "name": "stdout",
     "output_type": "stream",
     "text": [
      "Error processing example: 'NoneType' object has no attribute 'copy'\n",
      "Error processing example: No Javadoc comment found in the code.\n",
      "Error processing example: No Javadoc comment found in the code.\n",
      "Error processing example: No Javadoc comment found in the code.\n",
      "Error processing example: No Javadoc comment found in the code.\n",
      "Error processing example: No Javadoc comment found in the code.\n",
      "Error processing example: No Javadoc comment found in the code.\n",
      "Error processing example: No Javadoc comment found in the code.\n"
     ]
    },
    {
     "name": "stderr",
     "output_type": "stream",
     "text": [
      "Generating responses:   0%|          | 0/10 [00:00<?, ?it/s]"
     ]
    },
    {
     "name": "stdout",
     "output_type": "stream",
     "text": [
      "Error processing example: 'NoneType' object has no attribute 'copy'\n",
      "Error processing example: No Javadoc comment found in the code.\n",
      "Error processing example: No Javadoc comment found in the code.\n",
      "Error processing example: No Javadoc comment found in the code.\n"
     ]
    },
    {
     "name": "stderr",
     "output_type": "stream",
     "text": [
      "\n"
     ]
    },
    {
     "name": "stdout",
     "output_type": "stream",
     "text": [
      "Error processing example: No Javadoc comment found in the code.\n"
     ]
    },
    {
     "name": "stderr",
     "output_type": "stream",
     "text": [
      "Generating responses:   0%|          | 0/10 [00:00<?, ?it/s]\n"
     ]
    },
    {
     "name": "stdout",
     "output_type": "stream",
     "text": [
      "Error processing example: 'NoneType' object has no attribute 'copy'\n",
      "Error processing example: No Javadoc comment found in the code.\n",
      "Error processing example: No Javadoc comment found in the code.\n"
     ]
    },
    {
     "name": "stderr",
     "output_type": "stream",
     "text": [
      "Generating responses:   0%|          | 0/10 [00:00<?, ?it/s]\n",
      "Processing dataset:  82%|████████▏ | 3410/4156 [00:36<00:06, 120.12it/s]"
     ]
    },
    {
     "name": "stdout",
     "output_type": "stream",
     "text": [
      "Error processing example: 'NoneType' object has no attribute 'copy'\n"
     ]
    },
    {
     "name": "stderr",
     "output_type": "stream",
     "text": [
      "Generating responses:   0%|          | 0/10 [00:00<?, ?it/s]\n"
     ]
    },
    {
     "name": "stdout",
     "output_type": "stream",
     "text": [
      "Error processing example: 'NoneType' object has no attribute 'copy'\n",
      "Error processing example: No Javadoc comment found in the code.\n",
      "Error processing example: No Javadoc comment found in the code.\n",
      "Error processing example: No Javadoc comment found in the code.\n",
      "Error processing example: No Javadoc comment found in the code.\n",
      "Error processing example: No Javadoc comment found in the code.\n",
      "Error processing example: No Javadoc comment found in the code.\n",
      "Error processing example: No Javadoc comment found in the code.\n",
      "Error processing example: No Javadoc comment found in the code.\n"
     ]
    },
    {
     "name": "stderr",
     "output_type": "stream",
     "text": [
      "Generating responses:   0%|          | 0/10 [00:00<?, ?it/s]\n"
     ]
    },
    {
     "name": "stdout",
     "output_type": "stream",
     "text": [
      "Error processing example: 'NoneType' object has no attribute 'copy'\n",
      "Error processing example: No Javadoc comment found in the code.\n",
      "Error processing example: No Javadoc comment found in the code.\n",
      "Error processing example: No Javadoc comment found in the code.\n",
      "Error processing example: No Javadoc comment found in the code.\n",
      "Error processing example: No Javadoc comment found in the code.\n"
     ]
    },
    {
     "name": "stderr",
     "output_type": "stream",
     "text": [
      "Generating responses:   0%|          | 0/10 [00:00<?, ?it/s]\n"
     ]
    },
    {
     "name": "stdout",
     "output_type": "stream",
     "text": [
      "Error processing example: 'NoneType' object has no attribute 'copy'\n",
      "Error processing example: No Javadoc comment found in the code.\n"
     ]
    },
    {
     "name": "stderr",
     "output_type": "stream",
     "text": [
      "Generating responses:   0%|          | 0/10 [00:00<?, ?it/s]"
     ]
    },
    {
     "name": "stdout",
     "output_type": "stream",
     "text": [
      "Error processing example: 'NoneType' object has no attribute 'copy'\n"
     ]
    },
    {
     "name": "stderr",
     "output_type": "stream",
     "text": [
      "\n",
      "Generating responses:   0%|          | 0/10 [00:00<?, ?it/s] 132.33it/s]\n"
     ]
    },
    {
     "name": "stdout",
     "output_type": "stream",
     "text": [
      "Error processing example: 'NoneType' object has no attribute 'copy'\n",
      "Error processing example: No Javadoc comment found in the code.\n",
      "Error processing example: No Javadoc comment found in the code.\n",
      "Error processing example: No Javadoc comment found in the code.\n"
     ]
    },
    {
     "name": "stderr",
     "output_type": "stream",
     "text": [
      "Generating responses:   0%|          | 0/10 [00:00<?, ?it/s]\n"
     ]
    },
    {
     "name": "stdout",
     "output_type": "stream",
     "text": [
      "Error processing example: 'NoneType' object has no attribute 'copy'\n"
     ]
    },
    {
     "name": "stderr",
     "output_type": "stream",
     "text": [
      "Generating responses:   0%|          | 0/10 [00:00<?, ?it/s]\n"
     ]
    },
    {
     "name": "stdout",
     "output_type": "stream",
     "text": [
      "Error processing example: 'NoneType' object has no attribute 'copy'\n"
     ]
    },
    {
     "name": "stderr",
     "output_type": "stream",
     "text": [
      "Generating responses:   0%|          | 0/10 [00:00<?, ?it/s]\n"
     ]
    },
    {
     "name": "stdout",
     "output_type": "stream",
     "text": [
      "Error processing example: 'NoneType' object has no attribute 'copy'\n",
      "Error processing example: No Javadoc comment found in the code.\n"
     ]
    },
    {
     "name": "stderr",
     "output_type": "stream",
     "text": [
      "Generating responses:   0%|          | 0/10 [00:00<?, ?it/s]\n"
     ]
    },
    {
     "name": "stdout",
     "output_type": "stream",
     "text": [
      "Error processing example: 'NoneType' object has no attribute 'copy'\n",
      "Error processing example: No Javadoc comment found in the code.\n"
     ]
    },
    {
     "name": "stderr",
     "output_type": "stream",
     "text": [
      "Generating responses:   0%|          | 0/10 [00:00<?, ?it/s]\n"
     ]
    },
    {
     "name": "stdout",
     "output_type": "stream",
     "text": [
      "Error processing example: 'NoneType' object has no attribute 'copy'\n",
      "Error processing example: No Javadoc comment found in the code.\n"
     ]
    },
    {
     "name": "stderr",
     "output_type": "stream",
     "text": [
      "Generating responses:   0%|          | 0/10 [00:00<?, ?it/s]\n",
      "Processing dataset:  83%|████████▎ | 3442/4156 [00:36<00:05, 122.44it/s]"
     ]
    },
    {
     "name": "stdout",
     "output_type": "stream",
     "text": [
      "Error processing example: 'NoneType' object has no attribute 'copy'\n",
      "Error processing example: No Javadoc comment found in the code.\n",
      "Error processing example: No Javadoc comment found in the code.\n"
     ]
    },
    {
     "name": "stderr",
     "output_type": "stream",
     "text": [
      "Generating responses:   0%|          | 0/10 [00:00<?, ?it/s]\n"
     ]
    },
    {
     "name": "stdout",
     "output_type": "stream",
     "text": [
      "Error processing example: 'NoneType' object has no attribute 'copy'\n"
     ]
    },
    {
     "name": "stderr",
     "output_type": "stream",
     "text": [
      "Generating responses:   0%|          | 0/10 [00:00<?, ?it/s]\n"
     ]
    },
    {
     "name": "stdout",
     "output_type": "stream",
     "text": [
      "Error processing example: 'NoneType' object has no attribute 'copy'\n"
     ]
    },
    {
     "name": "stderr",
     "output_type": "stream",
     "text": [
      "Generating responses:   0%|          | 0/10 [00:00<?, ?it/s]\n"
     ]
    },
    {
     "name": "stdout",
     "output_type": "stream",
     "text": [
      "Error processing example: 'NoneType' object has no attribute 'copy'\n"
     ]
    },
    {
     "name": "stderr",
     "output_type": "stream",
     "text": [
      "Generating responses:   0%|          | 0/10 [00:00<?, ?it/s]\n"
     ]
    },
    {
     "name": "stdout",
     "output_type": "stream",
     "text": [
      "Error processing example: 'NoneType' object has no attribute 'copy'\n"
     ]
    },
    {
     "name": "stderr",
     "output_type": "stream",
     "text": [
      "Generating responses:   0%|          | 0/10 [00:00<?, ?it/s]\n"
     ]
    },
    {
     "name": "stdout",
     "output_type": "stream",
     "text": [
      "Error processing example: 'NoneType' object has no attribute 'copy'\n"
     ]
    },
    {
     "name": "stderr",
     "output_type": "stream",
     "text": [
      "Generating responses:   0%|          | 0/10 [00:00<?, ?it/s]\n"
     ]
    },
    {
     "name": "stdout",
     "output_type": "stream",
     "text": [
      "Error processing example: 'NoneType' object has no attribute 'copy'\n",
      "Error processing example: No Javadoc comment found in the code.\n"
     ]
    },
    {
     "name": "stderr",
     "output_type": "stream",
     "text": [
      "Generating responses:   0%|          | 0/10 [00:00<?, ?it/s]\n"
     ]
    },
    {
     "name": "stdout",
     "output_type": "stream",
     "text": [
      "Error processing example: 'NoneType' object has no attribute 'copy'\n"
     ]
    },
    {
     "name": "stderr",
     "output_type": "stream",
     "text": [
      "Generating responses:   0%|          | 0/10 [00:00<?, ?it/s]\n"
     ]
    },
    {
     "name": "stdout",
     "output_type": "stream",
     "text": [
      "Error processing example: 'NoneType' object has no attribute 'copy'\n",
      "Error processing example: No Javadoc comment found in the code.\n",
      "Error processing example: No Javadoc comment found in the code.\n"
     ]
    },
    {
     "name": "stderr",
     "output_type": "stream",
     "text": [
      "Generating responses:   0%|          | 0/10 [00:00<?, ?it/s]\n",
      "Processing dataset:  83%|████████▎ | 3455/4156 [00:37<00:06, 100.22it/s]"
     ]
    },
    {
     "name": "stdout",
     "output_type": "stream",
     "text": [
      "Error processing example: 'NoneType' object has no attribute 'copy'\n",
      "Error processing example: No Javadoc comment found in the code.\n",
      "Error processing example: No Javadoc comment found in the code.\n",
      "Error processing example: No Javadoc comment found in the code.\n",
      "Error processing example: No Javadoc comment found in the code.\n",
      "Error processing example: No Javadoc comment found in the code.\n",
      "Error processing example: No Javadoc comment found in the code.\n",
      "Error processing example: No Javadoc comment found in the code.\n",
      "Error processing example: No Javadoc comment found in the code.\n",
      "Error processing example: No Javadoc comment found in the code.\n",
      "Error processing example: No Javadoc comment found in the code.\n"
     ]
    },
    {
     "name": "stderr",
     "output_type": "stream",
     "text": [
      "Generating responses:   0%|          | 0/10 [00:00<?, ?it/s]\n"
     ]
    },
    {
     "name": "stdout",
     "output_type": "stream",
     "text": [
      "Error processing example: 'NoneType' object has no attribute 'copy'\n"
     ]
    },
    {
     "name": "stderr",
     "output_type": "stream",
     "text": [
      "Generating responses:   0%|          | 0/10 [00:00<?, ?it/s]\n"
     ]
    },
    {
     "name": "stdout",
     "output_type": "stream",
     "text": [
      "Error processing example: 'NoneType' object has no attribute 'copy'\n"
     ]
    },
    {
     "name": "stderr",
     "output_type": "stream",
     "text": [
      "Generating responses:   0%|          | 0/10 [00:00<?, ?it/s]\n"
     ]
    },
    {
     "name": "stdout",
     "output_type": "stream",
     "text": [
      "Error processing example: 'NoneType' object has no attribute 'copy'\n",
      "Error processing example: No Javadoc comment found in the code.\n",
      "Error processing example: No Javadoc comment found in the code.\n",
      "Error processing example: No Javadoc comment found in the code.\n",
      "Error processing example: No Javadoc comment found in the code.\n"
     ]
    },
    {
     "name": "stderr",
     "output_type": "stream",
     "text": [
      "Generating responses:   0%|          | 0/10 [00:00<?, ?it/s]"
     ]
    },
    {
     "name": "stdout",
     "output_type": "stream",
     "text": [
      "Error processing example: 'NoneType' object has no attribute 'copy'\n"
     ]
    },
    {
     "name": "stderr",
     "output_type": "stream",
     "text": [
      "\n",
      "Processing dataset:  84%|████████▎ | 3473/4156 [00:37<00:05, 116.35it/s]"
     ]
    },
    {
     "name": "stdout",
     "output_type": "stream",
     "text": [
      "Error processing example: No Javadoc comment found in the code.\n"
     ]
    },
    {
     "name": "stderr",
     "output_type": "stream",
     "text": [
      "Generating responses:   0%|          | 0/10 [00:00<?, ?it/s]\n"
     ]
    },
    {
     "name": "stdout",
     "output_type": "stream",
     "text": [
      "Error processing example: 'NoneType' object has no attribute 'copy'\n",
      "Error processing example: No Javadoc comment found in the code.\n"
     ]
    },
    {
     "name": "stderr",
     "output_type": "stream",
     "text": [
      "Generating responses:   0%|          | 0/10 [00:00<?, ?it/s]\n"
     ]
    },
    {
     "name": "stdout",
     "output_type": "stream",
     "text": [
      "Error processing example: 'NoneType' object has no attribute 'copy'\n",
      "Error processing example: No Javadoc comment found in the code.\n",
      "Error processing example: No Javadoc comment found in the code.\n",
      "Error processing example: No Javadoc comment found in the code.\n"
     ]
    },
    {
     "name": "stderr",
     "output_type": "stream",
     "text": [
      "Generating responses:   0%|          | 0/10 [00:00<?, ?it/s]\n"
     ]
    },
    {
     "name": "stdout",
     "output_type": "stream",
     "text": [
      "Error processing example: 'NoneType' object has no attribute 'copy'\n",
      "Error processing example: No Javadoc comment found in the code.\n",
      "Error processing example: No Javadoc comment found in the code.\n",
      "Error processing example: No Javadoc comment found in the code.\n",
      "Error processing example: No Javadoc comment found in the code.\n"
     ]
    },
    {
     "name": "stderr",
     "output_type": "stream",
     "text": [
      "Generating responses:   0%|          | 0/10 [00:00<?, ?it/s]\n",
      "Processing dataset:  84%|████████▍ | 3486/4156 [00:37<00:06, 104.21it/s]"
     ]
    },
    {
     "name": "stdout",
     "output_type": "stream",
     "text": [
      "Error processing example: 'NoneType' object has no attribute 'copy'\n",
      "Error processing example: No Javadoc comment found in the code.\n",
      "Error processing example: No Javadoc comment found in the code.\n",
      "Error processing example: No Javadoc comment found in the code.\n"
     ]
    },
    {
     "name": "stderr",
     "output_type": "stream",
     "text": [
      "Generating responses:   0%|          | 0/10 [00:00<?, ?it/s]\n"
     ]
    },
    {
     "name": "stdout",
     "output_type": "stream",
     "text": [
      "Error processing example: 'NoneType' object has no attribute 'copy'\n",
      "Error processing example: No Javadoc comment found in the code.\n",
      "Error processing example: No Javadoc comment found in the code.\n"
     ]
    },
    {
     "name": "stderr",
     "output_type": "stream",
     "text": [
      "Generating responses:   0%|          | 0/10 [00:00<?, ?it/s]\n"
     ]
    },
    {
     "name": "stdout",
     "output_type": "stream",
     "text": [
      "Error processing example: 'NoneType' object has no attribute 'copy'\n"
     ]
    },
    {
     "name": "stderr",
     "output_type": "stream",
     "text": [
      "Generating responses:   0%|          | 0/10 [00:00<?, ?it/s]\n"
     ]
    },
    {
     "name": "stdout",
     "output_type": "stream",
     "text": [
      "Error processing example: 'NoneType' object has no attribute 'copy'\n"
     ]
    },
    {
     "name": "stderr",
     "output_type": "stream",
     "text": [
      "Processing dataset:  84%|████████▍ | 3498/4156 [00:37<00:06, 106.33it/s]"
     ]
    },
    {
     "name": "stdout",
     "output_type": "stream",
     "text": [
      "Error processing example: No Javadoc comment found in the code.\n",
      "Error processing example: No Javadoc comment found in the code.\n",
      "Error processing example: No Javadoc comment found in the code.\n",
      "Error processing example: No Javadoc comment found in the code.\n",
      "Error processing example: No Javadoc comment found in the code.\n",
      "Error processing example: No Javadoc comment found in the code.\n",
      "Error processing example: No Javadoc comment found in the code.\n"
     ]
    },
    {
     "name": "stderr",
     "output_type": "stream",
     "text": [
      "Generating responses:   0%|          | 0/10 [00:00<?, ?it/s]"
     ]
    },
    {
     "name": "stdout",
     "output_type": "stream",
     "text": [
      "Error processing example: 'NoneType' object has no attribute 'copy'\n"
     ]
    },
    {
     "name": "stderr",
     "output_type": "stream",
     "text": [
      "\n",
      "Generating responses:   0%|          | 0/10 [00:00<?, ?it/s]"
     ]
    },
    {
     "name": "stdout",
     "output_type": "stream",
     "text": [
      "Error processing example: 'NoneType' object has no attribute 'copy'\n"
     ]
    },
    {
     "name": "stderr",
     "output_type": "stream",
     "text": [
      "\n"
     ]
    },
    {
     "name": "stdout",
     "output_type": "stream",
     "text": [
      "Error processing example: No Javadoc comment found in the code.\n",
      "Error processing example: No Javadoc comment found in the code.\n",
      "Error processing example: No Javadoc comment found in the code.\n",
      "Error processing example: No Javadoc comment found in the code.\n"
     ]
    },
    {
     "name": "stderr",
     "output_type": "stream",
     "text": [
      "Generating responses:   0%|          | 0/10 [00:00<?, ?it/s]\n"
     ]
    },
    {
     "name": "stdout",
     "output_type": "stream",
     "text": [
      "Error processing example: 'NoneType' object has no attribute 'copy'\n",
      "Error processing example: No Javadoc comment found in the code.\n",
      "Error processing example: No Javadoc comment found in the code.\n",
      "Error processing example: No Javadoc comment found in the code.\n"
     ]
    },
    {
     "name": "stderr",
     "output_type": "stream",
     "text": [
      "Generating responses:   0%|          | 0/10 [00:00<?, ?it/s]\n",
      "Processing dataset:  85%|████████▍ | 3512/4156 [00:37<00:05, 113.79it/s]"
     ]
    },
    {
     "name": "stdout",
     "output_type": "stream",
     "text": [
      "Error processing example: 'NoneType' object has no attribute 'copy'\n",
      "Error processing example: No Javadoc comment found in the code.\n",
      "Error processing example: No Javadoc comment found in the code.\n"
     ]
    },
    {
     "name": "stderr",
     "output_type": "stream",
     "text": [
      "Generating responses:   0%|          | 0/10 [00:00<?, ?it/s]"
     ]
    },
    {
     "name": "stdout",
     "output_type": "stream",
     "text": [
      "Error processing example: 'NoneType' object has no attribute 'copy'\n"
     ]
    },
    {
     "name": "stderr",
     "output_type": "stream",
     "text": [
      "\n"
     ]
    },
    {
     "name": "stdout",
     "output_type": "stream",
     "text": [
      "Error processing example: No Javadoc comment found in the code.\n",
      "Error processing example: No Javadoc comment found in the code.\n",
      "Error processing example: No Javadoc comment found in the code.\n"
     ]
    },
    {
     "name": "stderr",
     "output_type": "stream",
     "text": [
      "Generating responses:   0%|          | 0/10 [00:00<?, ?it/s]\n"
     ]
    },
    {
     "name": "stdout",
     "output_type": "stream",
     "text": [
      "Error processing example: 'NoneType' object has no attribute 'copy'\n",
      "Error processing example: No Javadoc comment found in the code.\n",
      "Error processing example: No Javadoc comment found in the code.\n",
      "Error processing example: No Javadoc comment found in the code.\n",
      "Error processing example: No Javadoc comment found in the code.\n"
     ]
    },
    {
     "name": "stderr",
     "output_type": "stream",
     "text": [
      "Generating responses:   0%|          | 0/10 [00:00<?, ?it/s]\n",
      "Processing dataset:  85%|████████▍ | 3524/4156 [00:37<00:05, 109.99it/s]"
     ]
    },
    {
     "name": "stdout",
     "output_type": "stream",
     "text": [
      "Error processing example: 'NoneType' object has no attribute 'copy'\n"
     ]
    },
    {
     "name": "stderr",
     "output_type": "stream",
     "text": [
      "Generating responses:   0%|          | 0/10 [00:00<?, ?it/s]\n"
     ]
    },
    {
     "name": "stdout",
     "output_type": "stream",
     "text": [
      "Error processing example: 'NoneType' object has no attribute 'copy'\n",
      "Error processing example: No Javadoc comment found in the code.\n"
     ]
    },
    {
     "name": "stderr",
     "output_type": "stream",
     "text": [
      "Generating responses:   0%|          | 0/10 [00:00<?, ?it/s]\n"
     ]
    },
    {
     "name": "stdout",
     "output_type": "stream",
     "text": [
      "Error processing example: 'NoneType' object has no attribute 'copy'\n",
      "Error processing example: No Javadoc comment found in the code.\n",
      "Error processing example: No Javadoc comment found in the code.\n"
     ]
    },
    {
     "name": "stderr",
     "output_type": "stream",
     "text": [
      "Generating responses:   0%|          | 0/10 [00:00<?, ?it/s]"
     ]
    },
    {
     "name": "stdout",
     "output_type": "stream",
     "text": [
      "Error processing example: 'NoneType' object has no attribute 'copy'\n",
      "Error processing example: No Javadoc comment found in the code.\n"
     ]
    },
    {
     "name": "stderr",
     "output_type": "stream",
     "text": [
      "\n"
     ]
    },
    {
     "name": "stdout",
     "output_type": "stream",
     "text": [
      "Error processing example: No Javadoc comment found in the code.\n"
     ]
    },
    {
     "name": "stderr",
     "output_type": "stream",
     "text": [
      "Generating responses:   0%|          | 0/10 [00:00<?, ?it/s]\n"
     ]
    },
    {
     "name": "stdout",
     "output_type": "stream",
     "text": [
      "Error processing example: 'NoneType' object has no attribute 'copy'\n",
      "Error processing example: No Javadoc comment found in the code.\n"
     ]
    },
    {
     "name": "stderr",
     "output_type": "stream",
     "text": [
      "Generating responses:   0%|          | 0/10 [00:00<?, ?it/s]\n",
      "Processing dataset:  85%|████████▌ | 3536/4156 [00:37<00:05, 104.18it/s]"
     ]
    },
    {
     "name": "stdout",
     "output_type": "stream",
     "text": [
      "Error processing example: 'NoneType' object has no attribute 'copy'\n",
      "Error processing example: No Javadoc comment found in the code.\n"
     ]
    },
    {
     "name": "stderr",
     "output_type": "stream",
     "text": [
      "Generating responses:   0%|          | 0/10 [00:00<?, ?it/s]\n"
     ]
    },
    {
     "name": "stdout",
     "output_type": "stream",
     "text": [
      "Error processing example: 'NoneType' object has no attribute 'copy'\n",
      "Error processing example: No Javadoc comment found in the code.\n",
      "Error processing example: No Javadoc comment found in the code.\n",
      "Error processing example: No Javadoc comment found in the code.\n",
      "Error processing example: No Javadoc comment found in the code.\n",
      "Error processing example: No Javadoc comment found in the code.\n",
      "Error processing example: No Javadoc comment found in the code.\n"
     ]
    },
    {
     "name": "stderr",
     "output_type": "stream",
     "text": [
      "Generating responses:   0%|          | 0/10 [00:00<?, ?it/s]\n"
     ]
    },
    {
     "name": "stdout",
     "output_type": "stream",
     "text": [
      "Error processing example: 'NoneType' object has no attribute 'copy'\n",
      "Error processing example: No Javadoc comment found in the code.\n",
      "Error processing example: No Javadoc comment found in the code.\n",
      "Error processing example: No Javadoc comment found in the code.\n",
      "Error processing example: No Javadoc comment found in the code.\n"
     ]
    },
    {
     "name": "stderr",
     "output_type": "stream",
     "text": [
      "Processing dataset:  85%|████████▌ | 3549/4156 [00:37<00:05, 108.57it/s]"
     ]
    },
    {
     "name": "stdout",
     "output_type": "stream",
     "text": [
      "Error processing example: No Javadoc comment found in the code.\n",
      "Error processing example: No Javadoc comment found in the code.\n",
      "Error processing example: No Javadoc comment found in the code.\n"
     ]
    },
    {
     "name": "stderr",
     "output_type": "stream",
     "text": [
      "Generating responses:   0%|          | 0/10 [00:00<?, ?it/s]\n"
     ]
    },
    {
     "name": "stdout",
     "output_type": "stream",
     "text": [
      "Error processing example: 'NoneType' object has no attribute 'copy'\n",
      "Error processing example: No Javadoc comment found in the code.\n",
      "Error processing example: No Javadoc comment found in the code.\n",
      "Error processing example: No Javadoc comment found in the code.\n",
      "Error processing example: No Javadoc comment found in the code.\n",
      "Error processing example: No Javadoc comment found in the code.\n"
     ]
    },
    {
     "name": "stderr",
     "output_type": "stream",
     "text": [
      "Generating responses:   0%|          | 0/10 [00:00<?, ?it/s]\n"
     ]
    },
    {
     "name": "stdout",
     "output_type": "stream",
     "text": [
      "Error processing example: 'NoneType' object has no attribute 'copy'\n",
      "Error processing example: No Javadoc comment found in the code.\n",
      "Error processing example: No Javadoc comment found in the code.\n"
     ]
    },
    {
     "name": "stderr",
     "output_type": "stream",
     "text": [
      "Generating responses:   0%|          | 0/10 [00:00<?, ?it/s]\n",
      "Processing dataset:  86%|████████▌ | 3561/4156 [00:38<00:05, 107.19it/s]"
     ]
    },
    {
     "name": "stdout",
     "output_type": "stream",
     "text": [
      "Error processing example: 'NoneType' object has no attribute 'copy'\n"
     ]
    },
    {
     "name": "stderr",
     "output_type": "stream",
     "text": [
      "Generating responses:   0%|          | 0/10 [00:00<?, ?it/s]\n"
     ]
    },
    {
     "name": "stdout",
     "output_type": "stream",
     "text": [
      "Error processing example: 'NoneType' object has no attribute 'copy'\n"
     ]
    },
    {
     "name": "stderr",
     "output_type": "stream",
     "text": [
      "Generating responses:   0%|          | 0/10 [00:00<?, ?it/s]"
     ]
    },
    {
     "name": "stdout",
     "output_type": "stream",
     "text": [
      "Error processing example: 'NoneType' object has no attribute 'copy'\n",
      "Error processing example: No Javadoc comment found in the code.\n",
      "Error processing example: No Javadoc comment found in the code.\n"
     ]
    },
    {
     "name": "stderr",
     "output_type": "stream",
     "text": [
      "\n"
     ]
    },
    {
     "name": "stdout",
     "output_type": "stream",
     "text": [
      "Error processing example: No Javadoc comment found in the code.\n"
     ]
    },
    {
     "name": "stderr",
     "output_type": "stream",
     "text": [
      "Generating responses:   0%|          | 0/10 [00:00<?, ?it/s]\n"
     ]
    },
    {
     "name": "stdout",
     "output_type": "stream",
     "text": [
      "Error processing example: 'NoneType' object has no attribute 'copy'\n"
     ]
    },
    {
     "name": "stderr",
     "output_type": "stream",
     "text": [
      "Generating responses:   0%|          | 0/10 [00:00<?, ?it/s]"
     ]
    },
    {
     "name": "stdout",
     "output_type": "stream",
     "text": [
      "Error processing example: 'NoneType' object has no attribute 'copy'\n"
     ]
    },
    {
     "name": "stderr",
     "output_type": "stream",
     "text": [
      "\n",
      "Generating responses:   0%|          | 0/10 [00:00<?, ?it/s]\n"
     ]
    },
    {
     "name": "stdout",
     "output_type": "stream",
     "text": [
      "Error processing example: 'NoneType' object has no attribute 'copy'\n"
     ]
    },
    {
     "name": "stderr",
     "output_type": "stream",
     "text": [
      "Generating responses:   0%|          | 0/10 [00:00<?, ?it/s]\n",
      "Processing dataset:  86%|████████▌ | 3572/4156 [00:38<00:06, 93.84it/s] "
     ]
    },
    {
     "name": "stdout",
     "output_type": "stream",
     "text": [
      "Error processing example: 'NoneType' object has no attribute 'copy'\n",
      "Error processing example: No Javadoc comment found in the code.\n",
      "Error processing example: No Javadoc comment found in the code.\n",
      "Error processing example: No Javadoc comment found in the code.\n",
      "Error processing example: No Javadoc comment found in the code.\n"
     ]
    },
    {
     "name": "stderr",
     "output_type": "stream",
     "text": [
      "Generating responses:   0%|          | 0/10 [00:00<?, ?it/s]\n"
     ]
    },
    {
     "name": "stdout",
     "output_type": "stream",
     "text": [
      "Error processing example: 'NoneType' object has no attribute 'copy'\n",
      "Error processing example: No Javadoc comment found in the code.\n",
      "Error processing example: No Javadoc comment found in the code.\n",
      "Error processing example: No Javadoc comment found in the code.\n",
      "Error processing example: No Javadoc comment found in the code.\n",
      "Error processing example: No Javadoc comment found in the code.\n"
     ]
    },
    {
     "name": "stderr",
     "output_type": "stream",
     "text": [
      "Generating responses:   0%|          | 0/10 [00:00<?, ?it/s]\n"
     ]
    },
    {
     "name": "stdout",
     "output_type": "stream",
     "text": [
      "Error processing example: 'NoneType' object has no attribute 'copy'\n",
      "Error processing example: No Javadoc comment found in the code.\n",
      "Error processing example: No Javadoc comment found in the code.\n",
      "Error processing example: No Javadoc comment found in the code.\n",
      "Error processing example: No Javadoc comment found in the code.\n",
      "Error processing example: No Javadoc comment found in the code.\n",
      "Error processing example: No Javadoc comment found in the code.\n",
      "Error processing example: No Javadoc comment found in the code.\n"
     ]
    },
    {
     "name": "stderr",
     "output_type": "stream",
     "text": [
      "Generating responses:   0%|          | 0/10 [00:00<?, ?it/s]\n"
     ]
    },
    {
     "name": "stdout",
     "output_type": "stream",
     "text": [
      "Error processing example: 'NoneType' object has no attribute 'copy'\n",
      "Error processing example: No Javadoc comment found in the code.\n",
      "Error processing example: No Javadoc comment found in the code.\n"
     ]
    },
    {
     "name": "stderr",
     "output_type": "stream",
     "text": [
      "Generating responses:   0%|          | 0/10 [00:00<?, ?it/s]\n",
      "Processing dataset:  86%|████████▋ | 3592/4156 [00:38<00:04, 118.51it/s]"
     ]
    },
    {
     "name": "stdout",
     "output_type": "stream",
     "text": [
      "Error processing example: 'NoneType' object has no attribute 'copy'\n",
      "Error processing example: No Javadoc comment found in the code.\n",
      "Error processing example: No Javadoc comment found in the code.\n",
      "Error processing example: No Javadoc comment found in the code.\n"
     ]
    },
    {
     "name": "stderr",
     "output_type": "stream",
     "text": [
      "Generating responses:   0%|          | 0/10 [00:00<?, ?it/s]\n"
     ]
    },
    {
     "name": "stdout",
     "output_type": "stream",
     "text": [
      "Error processing example: 'NoneType' object has no attribute 'copy'\n",
      "Error processing example: No Javadoc comment found in the code.\n",
      "Error processing example: No Javadoc comment found in the code.\n",
      "Error processing example: No Javadoc comment found in the code.\n"
     ]
    },
    {
     "name": "stderr",
     "output_type": "stream",
     "text": [
      "Generating responses:   0%|          | 0/10 [00:00<?, ?it/s]\n"
     ]
    },
    {
     "name": "stdout",
     "output_type": "stream",
     "text": [
      "Error processing example: 'NoneType' object has no attribute 'copy'\n",
      "Error processing example: No Javadoc comment found in the code.\n"
     ]
    },
    {
     "name": "stderr",
     "output_type": "stream",
     "text": [
      "Generating responses:   0%|          | 0/10 [00:00<?, ?it/s]\n"
     ]
    },
    {
     "name": "stdout",
     "output_type": "stream",
     "text": [
      "Error processing example: 'NoneType' object has no attribute 'copy'\n",
      "Error processing example: No Javadoc comment found in the code.\n",
      "Error processing example: No Javadoc comment found in the code.\n"
     ]
    },
    {
     "name": "stderr",
     "output_type": "stream",
     "text": [
      "Generating responses:   0%|          | 0/10 [00:00<?, ?it/s]\n",
      "Processing dataset:  87%|████████▋ | 3605/4156 [00:38<00:04, 117.02it/s]"
     ]
    },
    {
     "name": "stdout",
     "output_type": "stream",
     "text": [
      "Error processing example: 'NoneType' object has no attribute 'copy'\n"
     ]
    },
    {
     "name": "stderr",
     "output_type": "stream",
     "text": [
      "Generating responses:   0%|          | 0/10 [00:00<?, ?it/s]\n"
     ]
    },
    {
     "name": "stdout",
     "output_type": "stream",
     "text": [
      "Error processing example: 'NoneType' object has no attribute 'copy'\n"
     ]
    },
    {
     "name": "stderr",
     "output_type": "stream",
     "text": [
      "Generating responses:   0%|          | 0/10 [00:00<?, ?it/s]\n"
     ]
    },
    {
     "name": "stdout",
     "output_type": "stream",
     "text": [
      "Error processing example: 'NoneType' object has no attribute 'copy'\n",
      "Error processing example: No Javadoc comment found in the code.\n",
      "Error processing example: No Javadoc comment found in the code.\n",
      "Error processing example: No Javadoc comment found in the code.\n",
      "Error processing example: No Javadoc comment found in the code.\n",
      "Error processing example: No Javadoc comment found in the code.\n",
      "Error processing example: No Javadoc comment found in the code.\n",
      "Error processing example: No Javadoc comment found in the code.\n"
     ]
    },
    {
     "name": "stderr",
     "output_type": "stream",
     "text": [
      "Generating responses:   0%|          | 0/10 [00:00<?, ?it/s]\n"
     ]
    },
    {
     "name": "stdout",
     "output_type": "stream",
     "text": [
      "Error processing example: 'NoneType' object has no attribute 'copy'\n"
     ]
    },
    {
     "name": "stderr",
     "output_type": "stream",
     "text": [
      "Generating responses:   0%|          | 0/10 [00:00<?, ?it/s]\n"
     ]
    },
    {
     "name": "stdout",
     "output_type": "stream",
     "text": [
      "Error processing example: 'NoneType' object has no attribute 'copy'\n",
      "Error processing example: No Javadoc comment found in the code.\n"
     ]
    },
    {
     "name": "stderr",
     "output_type": "stream",
     "text": [
      "Processing dataset:  87%|████████▋ | 3618/4156 [00:38<00:05, 104.85it/s]"
     ]
    },
    {
     "name": "stdout",
     "output_type": "stream",
     "text": [
      "Error processing example: No Javadoc comment found in the code.\n",
      "Error processing example: No Javadoc comment found in the code.\n"
     ]
    },
    {
     "name": "stderr",
     "output_type": "stream",
     "text": [
      "Generating responses:   0%|          | 0/10 [00:00<?, ?it/s]"
     ]
    },
    {
     "name": "stdout",
     "output_type": "stream",
     "text": [
      "Error processing example: 'NoneType' object has no attribute 'copy'\n"
     ]
    },
    {
     "name": "stderr",
     "output_type": "stream",
     "text": [
      "\n",
      "Generating responses:   0%|          | 0/10 [00:00<?, ?it/s]\n"
     ]
    },
    {
     "name": "stdout",
     "output_type": "stream",
     "text": [
      "Error processing example: 'NoneType' object has no attribute 'copy'\n",
      "Error processing example: No Javadoc comment found in the code.\n",
      "Error processing example: No Javadoc comment found in the code.\n"
     ]
    },
    {
     "name": "stderr",
     "output_type": "stream",
     "text": [
      "Generating responses:   0%|          | 0/10 [00:00<?, ?it/s]\n"
     ]
    },
    {
     "name": "stdout",
     "output_type": "stream",
     "text": [
      "Error processing example: 'NoneType' object has no attribute 'copy'\n",
      "Error processing example: No Javadoc comment found in the code.\n",
      "Error processing example: No Javadoc comment found in the code.\n",
      "Error processing example: No Javadoc comment found in the code.\n",
      "Error processing example: No Javadoc comment found in the code.\n"
     ]
    },
    {
     "name": "stderr",
     "output_type": "stream",
     "text": [
      "Generating responses:   0%|          | 0/10 [00:00<?, ?it/s]\n",
      "Processing dataset:  87%|████████▋ | 3629/4156 [00:38<00:05, 96.88it/s] "
     ]
    },
    {
     "name": "stdout",
     "output_type": "stream",
     "text": [
      "Error processing example: 'NoneType' object has no attribute 'copy'\n"
     ]
    },
    {
     "name": "stderr",
     "output_type": "stream",
     "text": [
      "Generating responses:   0%|          | 0/10 [00:00<?, ?it/s]\n"
     ]
    },
    {
     "name": "stdout",
     "output_type": "stream",
     "text": [
      "Error processing example: 'NoneType' object has no attribute 'copy'\n",
      "Error processing example: No Javadoc comment found in the code.\n",
      "Error processing example: No Javadoc comment found in the code.\n",
      "Error processing example: No Javadoc comment found in the code.\n"
     ]
    },
    {
     "name": "stderr",
     "output_type": "stream",
     "text": [
      "Generating responses:   0%|          | 0/10 [00:00<?, ?it/s]"
     ]
    },
    {
     "name": "stdout",
     "output_type": "stream",
     "text": [
      "Error processing example: 'NoneType' object has no attribute 'copy'\n"
     ]
    },
    {
     "name": "stderr",
     "output_type": "stream",
     "text": [
      "\n",
      "Generating responses:   0%|          | 0/10 [00:00<?, ?it/s]\n"
     ]
    },
    {
     "name": "stdout",
     "output_type": "stream",
     "text": [
      "Error processing example: 'NoneType' object has no attribute 'copy'\n",
      "Error processing example: No Javadoc comment found in the code.\n",
      "Error processing example: No Javadoc comment found in the code.\n"
     ]
    },
    {
     "name": "stderr",
     "output_type": "stream",
     "text": [
      "Generating responses:   0%|          | 0/10 [00:00<?, ?it/s]\n"
     ]
    },
    {
     "name": "stdout",
     "output_type": "stream",
     "text": [
      "Error processing example: 'NoneType' object has no attribute 'copy'\n"
     ]
    },
    {
     "name": "stderr",
     "output_type": "stream",
     "text": [
      "Processing dataset:  88%|████████▊ | 3640/4156 [00:38<00:05, 98.77it/s]"
     ]
    },
    {
     "name": "stdout",
     "output_type": "stream",
     "text": [
      "Error processing example: No Javadoc comment found in the code.\n",
      "Error processing example: No Javadoc comment found in the code.\n"
     ]
    },
    {
     "name": "stderr",
     "output_type": "stream",
     "text": [
      "Generating responses:   0%|          | 0/10 [00:00<?, ?it/s]\n"
     ]
    },
    {
     "name": "stdout",
     "output_type": "stream",
     "text": [
      "Error processing example: 'NoneType' object has no attribute 'copy'\n",
      "Error processing example: No Javadoc comment found in the code.\n",
      "Error processing example: No Javadoc comment found in the code.\n"
     ]
    },
    {
     "name": "stderr",
     "output_type": "stream",
     "text": [
      "Generating responses:   0%|          | 0/10 [00:00<?, ?it/s]\n"
     ]
    },
    {
     "name": "stdout",
     "output_type": "stream",
     "text": [
      "Error processing example: 'NoneType' object has no attribute 'copy'\n"
     ]
    },
    {
     "name": "stderr",
     "output_type": "stream",
     "text": [
      "Generating responses:   0%|          | 0/10 [00:00<?, ?it/s]\n"
     ]
    },
    {
     "name": "stdout",
     "output_type": "stream",
     "text": [
      "Error processing example: 'NoneType' object has no attribute 'copy'\n",
      "Error processing example: No Javadoc comment found in the code.\n"
     ]
    },
    {
     "name": "stderr",
     "output_type": "stream",
     "text": [
      "Generating responses:   0%|          | 0/10 [00:00<?, ?it/s]\n"
     ]
    },
    {
     "name": "stdout",
     "output_type": "stream",
     "text": [
      "Error processing example: 'NoneType' object has no attribute 'copy'\n"
     ]
    },
    {
     "name": "stderr",
     "output_type": "stream",
     "text": [
      "Generating responses:   0%|          | 0/10 [00:00<?, ?it/s]\n",
      "Processing dataset:  88%|████████▊ | 3651/4156 [00:38<00:05, 100.17it/s]"
     ]
    },
    {
     "name": "stdout",
     "output_type": "stream",
     "text": [
      "Error processing example: 'NoneType' object has no attribute 'copy'\n",
      "Error processing example: No Javadoc comment found in the code.\n",
      "Error processing example: No Javadoc comment found in the code.\n",
      "Error processing example: No Javadoc comment found in the code.\n",
      "Error processing example: No Javadoc comment found in the code.\n"
     ]
    },
    {
     "name": "stderr",
     "output_type": "stream",
     "text": [
      "Generating responses:   0%|          | 0/10 [00:00<?, ?it/s]\n"
     ]
    },
    {
     "name": "stdout",
     "output_type": "stream",
     "text": [
      "Error processing example: 'NoneType' object has no attribute 'copy'\n"
     ]
    },
    {
     "name": "stderr",
     "output_type": "stream",
     "text": [
      "Generating responses:   0%|          | 0/10 [00:00<?, ?it/s]\n"
     ]
    },
    {
     "name": "stdout",
     "output_type": "stream",
     "text": [
      "Error processing example: 'NoneType' object has no attribute 'copy'\n",
      "Error processing example: No Javadoc comment found in the code.\n"
     ]
    },
    {
     "name": "stderr",
     "output_type": "stream",
     "text": [
      "Generating responses:   0%|          | 0/10 [00:00<?, ?it/s]\n"
     ]
    },
    {
     "name": "stdout",
     "output_type": "stream",
     "text": [
      "Error processing example: 'NoneType' object has no attribute 'copy'\n"
     ]
    },
    {
     "name": "stderr",
     "output_type": "stream",
     "text": [
      "Generating responses:   0%|          | 0/10 [00:00<?, ?it/s]\n"
     ]
    },
    {
     "name": "stdout",
     "output_type": "stream",
     "text": [
      "Error processing example: 'NoneType' object has no attribute 'copy'\n",
      "Error processing example: No Javadoc comment found in the code.\n",
      "Error processing example: No Javadoc comment found in the code.\n"
     ]
    },
    {
     "name": "stderr",
     "output_type": "stream",
     "text": [
      "Generating responses:   0%|          | 0/10 [00:00<?, ?it/s]\n"
     ]
    },
    {
     "name": "stdout",
     "output_type": "stream",
     "text": [
      "Error processing example: 'NoneType' object has no attribute 'copy'\n",
      "Error processing example: No Javadoc comment found in the code.\n",
      "Error processing example: No Javadoc comment found in the code.\n"
     ]
    },
    {
     "name": "stderr",
     "output_type": "stream",
     "text": [
      "Generating responses:   0%|          | 0/10 [00:00<?, ?it/s]"
     ]
    },
    {
     "name": "stdout",
     "output_type": "stream",
     "text": [
      "Error processing example: 'NoneType' object has no attribute 'copy'\n"
     ]
    },
    {
     "name": "stderr",
     "output_type": "stream",
     "text": [
      "\n",
      "Generating responses:   0%|          | 0/10 [00:00<?, ?it/s]\n",
      "Processing dataset:  88%|████████▊ | 3664/4156 [00:39<00:04, 106.00it/s]"
     ]
    },
    {
     "name": "stdout",
     "output_type": "stream",
     "text": [
      "Error processing example: 'NoneType' object has no attribute 'copy'\n"
     ]
    },
    {
     "name": "stderr",
     "output_type": "stream",
     "text": [
      "Generating responses:   0%|          | 0/10 [00:00<?, ?it/s]\n"
     ]
    },
    {
     "name": "stdout",
     "output_type": "stream",
     "text": [
      "Error processing example: 'NoneType' object has no attribute 'copy'\n"
     ]
    },
    {
     "name": "stderr",
     "output_type": "stream",
     "text": [
      "Generating responses:   0%|          | 0/10 [00:00<?, ?it/s]\n"
     ]
    },
    {
     "name": "stdout",
     "output_type": "stream",
     "text": [
      "Error processing example: 'NoneType' object has no attribute 'copy'\n",
      "Error processing example: No Javadoc comment found in the code.\n",
      "Error processing example: No Javadoc comment found in the code.\n"
     ]
    },
    {
     "name": "stderr",
     "output_type": "stream",
     "text": [
      "Generating responses:   0%|          | 0/10 [00:00<?, ?it/s]\n"
     ]
    },
    {
     "name": "stdout",
     "output_type": "stream",
     "text": [
      "Error processing example: 'NoneType' object has no attribute 'copy'\n",
      "Error processing example: No Javadoc comment found in the code.\n",
      "Error processing example: No Javadoc comment found in the code.\n",
      "Error processing example: No Javadoc comment found in the code.\n",
      "Error processing example: No Javadoc comment found in the code.\n",
      "Error processing example: No Javadoc comment found in the code.\n"
     ]
    },
    {
     "name": "stderr",
     "output_type": "stream",
     "text": [
      "Generating responses:   0%|          | 0/10 [00:00<?, ?it/s]\n",
      "Processing dataset:  88%|████████▊ | 3675/4156 [00:39<00:04, 101.29it/s]"
     ]
    },
    {
     "name": "stdout",
     "output_type": "stream",
     "text": [
      "Error processing example: 'NoneType' object has no attribute 'copy'\n",
      "Error processing example: No Javadoc comment found in the code.\n"
     ]
    },
    {
     "name": "stderr",
     "output_type": "stream",
     "text": [
      "Generating responses:   0%|          | 0/10 [00:00<?, ?it/s]\n"
     ]
    },
    {
     "name": "stdout",
     "output_type": "stream",
     "text": [
      "Error processing example: 'NoneType' object has no attribute 'copy'\n",
      "Error processing example: No Javadoc comment found in the code.\n",
      "Error processing example: No Javadoc comment found in the code.\n",
      "Error processing example: No Javadoc comment found in the code.\n"
     ]
    },
    {
     "name": "stderr",
     "output_type": "stream",
     "text": [
      "Generating responses:   0%|          | 0/10 [00:00<?, ?it/s]\n"
     ]
    },
    {
     "name": "stdout",
     "output_type": "stream",
     "text": [
      "Error processing example: 'NoneType' object has no attribute 'copy'\n",
      "Error processing example: No Javadoc comment found in the code.\n"
     ]
    },
    {
     "name": "stderr",
     "output_type": "stream",
     "text": [
      "Generating responses:   0%|          | 0/11 [00:00<?, ?it/s]\n"
     ]
    },
    {
     "name": "stdout",
     "output_type": "stream",
     "text": [
      "Error processing example: 'NoneType' object has no attribute 'copy'\n"
     ]
    },
    {
     "name": "stderr",
     "output_type": "stream",
     "text": [
      "Generating responses:   0%|          | 0/11 [00:00<?, ?it/s]\n"
     ]
    },
    {
     "name": "stdout",
     "output_type": "stream",
     "text": [
      "Error processing example: 'NoneType' object has no attribute 'copy'\n",
      "Error processing example: No Javadoc comment found in the code.\n"
     ]
    },
    {
     "name": "stderr",
     "output_type": "stream",
     "text": [
      "Processing dataset:  89%|████████▊ | 3686/4156 [00:39<00:04, 99.06it/s] "
     ]
    },
    {
     "name": "stdout",
     "output_type": "stream",
     "text": [
      "Error processing example: No Javadoc comment found in the code.\n",
      "Error processing example: No Javadoc comment found in the code.\n",
      "Error processing example: No Javadoc comment found in the code.\n",
      "Error processing example: No Javadoc comment found in the code.\n"
     ]
    },
    {
     "name": "stderr",
     "output_type": "stream",
     "text": [
      "Generating responses:   0%|          | 0/11 [00:00<?, ?it/s]\n"
     ]
    },
    {
     "name": "stdout",
     "output_type": "stream",
     "text": [
      "Error processing example: 'NoneType' object has no attribute 'copy'\n",
      "Error processing example: No Javadoc comment found in the code.\n"
     ]
    },
    {
     "name": "stderr",
     "output_type": "stream",
     "text": [
      "Generating responses:   0%|          | 0/11 [00:00<?, ?it/s]"
     ]
    },
    {
     "name": "stdout",
     "output_type": "stream",
     "text": [
      "Error processing example: 'NoneType' object has no attribute 'copy'\n",
      "Error processing example: No Javadoc comment found in the code.\n"
     ]
    },
    {
     "name": "stderr",
     "output_type": "stream",
     "text": [
      "\n"
     ]
    },
    {
     "name": "stdout",
     "output_type": "stream",
     "text": [
      "Error processing example: No Javadoc comment found in the code.\n",
      "Error processing example: No Javadoc comment found in the code.\n"
     ]
    },
    {
     "name": "stderr",
     "output_type": "stream",
     "text": [
      "Generating responses:   0%|          | 0/11 [00:00<?, ?it/s]"
     ]
    },
    {
     "name": "stdout",
     "output_type": "stream",
     "text": [
      "Error processing example: 'NoneType' object has no attribute 'copy'"
     ]
    },
    {
     "name": "stderr",
     "output_type": "stream",
     "text": [
      "\n",
      "Processing dataset:  89%|████████▉ | 3698/4156 [00:39<00:04, 104.24it/s]"
     ]
    },
    {
     "name": "stdout",
     "output_type": "stream",
     "text": [
      "\n",
      "Error processing example: No Javadoc comment found in the code.\n",
      "Error processing example: No Javadoc comment found in the code.\n",
      "Error processing example: No Javadoc comment found in the code.\n"
     ]
    },
    {
     "name": "stderr",
     "output_type": "stream",
     "text": [
      "Generating responses:   0%|          | 0/11 [00:00<?, ?it/s]\n"
     ]
    },
    {
     "name": "stdout",
     "output_type": "stream",
     "text": [
      "Error processing example: 'NoneType' object has no attribute 'copy'\n"
     ]
    },
    {
     "name": "stderr",
     "output_type": "stream",
     "text": [
      "Generating responses:   0%|          | 0/11 [00:00<?, ?it/s]\n"
     ]
    },
    {
     "name": "stdout",
     "output_type": "stream",
     "text": [
      "Error processing example: 'NoneType' object has no attribute 'copy'\n",
      "Error processing example: No Javadoc comment found in the code.\n",
      "Error processing example: No Javadoc comment found in the code.\n",
      "Error processing example: No Javadoc comment found in the code.\n",
      "Error processing example: No Javadoc comment found in the code.\n",
      "Error processing example: No Javadoc comment found in the code.\n",
      "Error processing example: No Javadoc comment found in the code.\n",
      "Error processing example: No Javadoc comment found in the code.\n",
      "Error processing example: No Javadoc comment found in the code.\n",
      "Error processing example: No Javadoc comment found in the code.\n"
     ]
    },
    {
     "name": "stderr",
     "output_type": "stream",
     "text": [
      "Generating responses:   0%|          | 0/11 [00:00<?, ?it/s]\n",
      "Processing dataset:  89%|████████▉ | 3713/4156 [00:39<00:03, 116.81it/s]"
     ]
    },
    {
     "name": "stdout",
     "output_type": "stream",
     "text": [
      "Error processing example: 'NoneType' object has no attribute 'copy'\n",
      "Error processing example: No Javadoc comment found in the code.\n",
      "Error processing example: No Javadoc comment found in the code.\n",
      "Error processing example: No Javadoc comment found in the code.\n"
     ]
    },
    {
     "name": "stderr",
     "output_type": "stream",
     "text": [
      "Generating responses:   0%|          | 0/11 [00:00<?, ?it/s]\n"
     ]
    },
    {
     "name": "stdout",
     "output_type": "stream",
     "text": [
      "Error processing example: 'NoneType' object has no attribute 'copy'\n",
      "Error processing example: No Javadoc comment found in the code.\n",
      "Error processing example: No Javadoc comment found in the code.\n"
     ]
    },
    {
     "name": "stderr",
     "output_type": "stream",
     "text": [
      "Generating responses:   0%|          | 0/11 [00:00<?, ?it/s]\n"
     ]
    },
    {
     "name": "stdout",
     "output_type": "stream",
     "text": [
      "Error processing example: 'NoneType' object has no attribute 'copy'\n"
     ]
    },
    {
     "name": "stderr",
     "output_type": "stream",
     "text": [
      "Generating responses:   0%|          | 0/11 [00:00<?, ?it/s]\n"
     ]
    },
    {
     "name": "stdout",
     "output_type": "stream",
     "text": [
      "Error processing example: 'NoneType' object has no attribute 'copy'\n"
     ]
    },
    {
     "name": "stderr",
     "output_type": "stream",
     "text": [
      "Generating responses:   0%|          | 0/11 [00:00<?, ?it/s]"
     ]
    },
    {
     "name": "stdout",
     "output_type": "stream",
     "text": [
      "Error processing example: 'NoneType' object has no attribute 'copy'\n",
      "Error processing example: No Javadoc comment found in the code.\n",
      "Error processing example: No Javadoc comment found in the code.\n"
     ]
    },
    {
     "name": "stderr",
     "output_type": "stream",
     "text": [
      "\n",
      "Generating responses:   0%|          | 0/11 [00:00<?, ?it/s]\n"
     ]
    },
    {
     "name": "stdout",
     "output_type": "stream",
     "text": [
      "Error processing example: 'NoneType' object has no attribute 'copy'\n",
      "Error processing example: No Javadoc comment found in the code.\n"
     ]
    },
    {
     "name": "stderr",
     "output_type": "stream",
     "text": [
      "Generating responses:   0%|          | 0/11 [00:00<?, ?it/s]\n",
      "Processing dataset:  90%|████████▉ | 3725/4156 [00:39<00:04, 103.38it/s]"
     ]
    },
    {
     "name": "stdout",
     "output_type": "stream",
     "text": [
      "Error processing example: 'NoneType' object has no attribute 'copy'\n",
      "Error processing example: No Javadoc comment found in the code.\n",
      "Error processing example: No Javadoc comment found in the code.\n",
      "Error processing example: No Javadoc comment found in the code.\n"
     ]
    },
    {
     "name": "stderr",
     "output_type": "stream",
     "text": [
      "Generating responses:   0%|          | 0/11 [00:00<?, ?it/s]\n"
     ]
    },
    {
     "name": "stdout",
     "output_type": "stream",
     "text": [
      "Error processing example: 'NoneType' object has no attribute 'copy'\n",
      "Error processing example: No Javadoc comment found in the code.\n"
     ]
    },
    {
     "name": "stderr",
     "output_type": "stream",
     "text": [
      "Generating responses:   0%|          | 0/11 [00:00<?, ?it/s]\n"
     ]
    },
    {
     "name": "stdout",
     "output_type": "stream",
     "text": [
      "Error processing example: 'NoneType' object has no attribute 'copy'\n",
      "Error processing example: No Javadoc comment found in the code.\n"
     ]
    },
    {
     "name": "stderr",
     "output_type": "stream",
     "text": [
      "Generating responses:   0%|          | 0/11 [00:00<?, ?it/s]\n"
     ]
    },
    {
     "name": "stdout",
     "output_type": "stream",
     "text": [
      "Error processing example: 'NoneType' object has no attribute 'copy'\n",
      "Error processing example: No Javadoc comment found in the code.\n",
      "Error processing example: No Javadoc comment found in the code.\n",
      "Error processing example: No Javadoc comment found in the code.\n",
      "Error processing example: No Javadoc comment found in the code.\n",
      "Error processing example: No Javadoc comment found in the code.\n"
     ]
    },
    {
     "name": "stderr",
     "output_type": "stream",
     "text": [
      "Generating responses:   0%|          | 0/11 [00:00<?, ?it/s]\n"
     ]
    },
    {
     "name": "stdout",
     "output_type": "stream",
     "text": [
      "Error processing example: 'NoneType' object has no attribute 'copy'\n"
     ]
    },
    {
     "name": "stderr",
     "output_type": "stream",
     "text": [
      "Generating responses:   0%|          | 0/11 [00:00<?, ?it/s]\n"
     ]
    },
    {
     "name": "stdout",
     "output_type": "stream",
     "text": [
      "Error processing example: 'NoneType' object has no attribute 'copy'\n",
      "Error processing example: No Javadoc comment found in the code.\n"
     ]
    },
    {
     "name": "stderr",
     "output_type": "stream",
     "text": [
      "Generating responses:   0%|          | 0/11 [00:00<?, ?it/s]\n",
      "Processing dataset:  90%|█████████ | 3742/4156 [00:39<00:03, 114.44it/s]"
     ]
    },
    {
     "name": "stdout",
     "output_type": "stream",
     "text": [
      "Error processing example: 'NoneType' object has no attribute 'copy'\n"
     ]
    },
    {
     "name": "stderr",
     "output_type": "stream",
     "text": [
      "Generating responses:   0%|          | 0/11 [00:00<?, ?it/s]\n"
     ]
    },
    {
     "name": "stdout",
     "output_type": "stream",
     "text": [
      "Error processing example: 'NoneType' object has no attribute 'copy'\n",
      "Error processing example: No Javadoc comment found in the code.\n"
     ]
    },
    {
     "name": "stderr",
     "output_type": "stream",
     "text": [
      "Generating responses:   0%|          | 0/11 [00:00<?, ?it/s]\n"
     ]
    },
    {
     "name": "stdout",
     "output_type": "stream",
     "text": [
      "Error processing example: 'NoneType' object has no attribute 'copy'\n"
     ]
    },
    {
     "name": "stderr",
     "output_type": "stream",
     "text": [
      "Generating responses:   0%|          | 0/11 [00:00<?, ?it/s]\n"
     ]
    },
    {
     "name": "stdout",
     "output_type": "stream",
     "text": [
      "Error processing example: 'NoneType' object has no attribute 'copy'\n"
     ]
    },
    {
     "name": "stderr",
     "output_type": "stream",
     "text": [
      "Generating responses:   0%|          | 0/11 [00:00<?, ?it/s]\n"
     ]
    },
    {
     "name": "stdout",
     "output_type": "stream",
     "text": [
      "Error processing example: 'NoneType' object has no attribute 'copy'\n",
      "Error processing example: No Javadoc comment found in the code.\n"
     ]
    },
    {
     "name": "stderr",
     "output_type": "stream",
     "text": [
      "Generating responses:   0%|          | 0/11 [00:00<?, ?it/s]\n"
     ]
    },
    {
     "name": "stdout",
     "output_type": "stream",
     "text": [
      "Error processing example: 'NoneType' object has no attribute 'copy'\n",
      "Error processing example: No Javadoc comment found in the code.\n",
      "Error processing example: No Javadoc comment found in the code.\n",
      "Error processing example: No Javadoc comment found in the code.\n",
      "Error processing example: No Javadoc comment found in the code.\n"
     ]
    },
    {
     "name": "stderr",
     "output_type": "stream",
     "text": [
      "Generating responses:   0%|          | 0/11 [00:00<?, ?it/s]\n",
      "Processing dataset:  90%|█████████ | 3754/4156 [00:39<00:03, 104.58it/s]"
     ]
    },
    {
     "name": "stdout",
     "output_type": "stream",
     "text": [
      "Error processing example: 'NoneType' object has no attribute 'copy'\n"
     ]
    },
    {
     "name": "stderr",
     "output_type": "stream",
     "text": [
      "Generating responses:   0%|          | 0/11 [00:00<?, ?it/s]\n"
     ]
    },
    {
     "name": "stdout",
     "output_type": "stream",
     "text": [
      "Error processing example: 'NoneType' object has no attribute 'copy'\n"
     ]
    },
    {
     "name": "stderr",
     "output_type": "stream",
     "text": [
      "Generating responses:   0%|          | 0/11 [00:00<?, ?it/s]\n"
     ]
    },
    {
     "name": "stdout",
     "output_type": "stream",
     "text": [
      "Error processing example: 'NoneType' object has no attribute 'copy'\n",
      "Error processing example: No Javadoc comment found in the code.\n"
     ]
    },
    {
     "name": "stderr",
     "output_type": "stream",
     "text": [
      "Generating responses:   0%|          | 0/11 [00:00<?, ?it/s]\n"
     ]
    },
    {
     "name": "stdout",
     "output_type": "stream",
     "text": [
      "Error processing example: 'NoneType' object has no attribute 'copy'\n",
      "Error processing example: No Javadoc comment found in the code.\n",
      "Error processing example: No Javadoc comment found in the code.\n",
      "Error processing example: No Javadoc comment found in the code.\n",
      "Error processing example: No Javadoc comment found in the code.\n"
     ]
    },
    {
     "name": "stderr",
     "output_type": "stream",
     "text": [
      "Generating responses:   0%|          | 0/11 [00:00<?, ?it/s]\n"
     ]
    },
    {
     "name": "stdout",
     "output_type": "stream",
     "text": [
      "Error processing example: 'NoneType' object has no attribute 'copy'\n",
      "Error processing example: No Javadoc comment found in the code.\n"
     ]
    },
    {
     "name": "stderr",
     "output_type": "stream",
     "text": [
      "Processing dataset:  91%|█████████ | 3765/4156 [00:40<00:04, 92.93it/s] "
     ]
    },
    {
     "name": "stdout",
     "output_type": "stream",
     "text": [
      "Error processing example: No Javadoc comment found in the code.\n",
      "Error processing example: No Javadoc comment found in the code.\n",
      "Error processing example: No Javadoc comment found in the code.\n",
      "Error processing example: No Javadoc comment found in the code.\n",
      "Error processing example: No Javadoc comment found in the code.\n",
      "Error processing example: No Javadoc comment found in the code.\n"
     ]
    },
    {
     "name": "stderr",
     "output_type": "stream",
     "text": [
      "Generating responses:   0%|          | 0/11 [00:00<?, ?it/s]\n"
     ]
    },
    {
     "name": "stdout",
     "output_type": "stream",
     "text": [
      "Error processing example: 'NoneType' object has no attribute 'copy'\n",
      "Error processing example: No Javadoc comment found in the code.\n",
      "Error processing example: No Javadoc comment found in the code.\n"
     ]
    },
    {
     "name": "stderr",
     "output_type": "stream",
     "text": [
      "Generating responses:   0%|          | 0/11 [00:00<?, ?it/s]\n"
     ]
    },
    {
     "name": "stdout",
     "output_type": "stream",
     "text": [
      "Error processing example: 'NoneType' object has no attribute 'copy'\n",
      "Error processing example: No Javadoc comment found in the code.\n"
     ]
    },
    {
     "name": "stderr",
     "output_type": "stream",
     "text": [
      "Generating responses:   0%|          | 0/11 [00:00<?, ?it/s]\n"
     ]
    },
    {
     "name": "stdout",
     "output_type": "stream",
     "text": [
      "Error processing example: 'NoneType' object has no attribute 'copy'\n"
     ]
    },
    {
     "name": "stderr",
     "output_type": "stream",
     "text": [
      "Processing dataset:  91%|█████████ | 3777/4156 [00:40<00:03, 98.32it/s]"
     ]
    },
    {
     "name": "stdout",
     "output_type": "stream",
     "text": [
      "Error processing example: No Javadoc comment found in the code.\n"
     ]
    },
    {
     "name": "stderr",
     "output_type": "stream",
     "text": [
      "Generating responses:   0%|          | 0/11 [00:00<?, ?it/s]\n"
     ]
    },
    {
     "name": "stdout",
     "output_type": "stream",
     "text": [
      "Error processing example: 'NoneType' object has no attribute 'copy'\n"
     ]
    },
    {
     "name": "stderr",
     "output_type": "stream",
     "text": [
      "Generating responses:   0%|          | 0/11 [00:00<?, ?it/s]"
     ]
    },
    {
     "name": "stdout",
     "output_type": "stream",
     "text": [
      "Error processing example: 'NoneType' object has no attribute 'copy'\n"
     ]
    },
    {
     "name": "stderr",
     "output_type": "stream",
     "text": [
      "\n"
     ]
    },
    {
     "name": "stdout",
     "output_type": "stream",
     "text": [
      "Error processing example: No Javadoc comment found in the code.\n"
     ]
    },
    {
     "name": "stderr",
     "output_type": "stream",
     "text": [
      "Generating responses:   0%|          | 0/11 [00:00<?, ?it/s]\n"
     ]
    },
    {
     "name": "stdout",
     "output_type": "stream",
     "text": [
      "Error processing example: 'NoneType' object has no attribute 'copy'\n",
      "Error processing example: No Javadoc comment found in the code.\n",
      "Error processing example: No Javadoc comment found in the code.\n",
      "Error processing example: No Javadoc comment found in the code.\n",
      "Error processing example: No Javadoc comment found in the code.\n",
      "Error processing example: No Javadoc comment found in the code.\n",
      "Error processing example: No Javadoc comment found in the code.\n"
     ]
    },
    {
     "name": "stderr",
     "output_type": "stream",
     "text": [
      "Processing dataset:  91%|█████████ | 3788/4156 [00:40<00:03, 100.61it/s]"
     ]
    },
    {
     "name": "stdout",
     "output_type": "stream",
     "text": [
      "Error processing example: No Javadoc comment found in the code.\n",
      "Error processing example: No Javadoc comment found in the code.\n",
      "Error processing example: No Javadoc comment found in the code.\n",
      "Error processing example: No Javadoc comment found in the code.\n",
      "Error processing example: No Javadoc comment found in the code.\n",
      "Error processing example: No Javadoc comment found in the code.\n",
      "Error processing example: No Javadoc comment found in the code.\n",
      "Error processing example: No Javadoc comment found in the code.\n",
      "Error processing example: No Javadoc comment found in the code.\n",
      "Error processing example: No Javadoc comment found in the code.\n"
     ]
    },
    {
     "name": "stderr",
     "output_type": "stream",
     "text": [
      "Generating responses:   0%|          | 0/11 [00:00<?, ?it/s]"
     ]
    },
    {
     "name": "stdout",
     "output_type": "stream",
     "text": [
      "Error processing example: 'NoneType' object has no attribute 'copy'\n",
      "Error processing example: No Javadoc comment found in the code.\n"
     ]
    },
    {
     "name": "stderr",
     "output_type": "stream",
     "text": [
      "\n"
     ]
    },
    {
     "name": "stdout",
     "output_type": "stream",
     "text": [
      "Error processing example: No Javadoc comment found in the code.\n"
     ]
    },
    {
     "name": "stderr",
     "output_type": "stream",
     "text": [
      "Generating responses:   0%|          | 0/11 [00:00<?, ?it/s]\n"
     ]
    },
    {
     "name": "stdout",
     "output_type": "stream",
     "text": [
      "Error processing example: 'NoneType' object has no attribute 'copy'\n"
     ]
    },
    {
     "name": "stderr",
     "output_type": "stream",
     "text": [
      "Generating responses:   0%|          | 0/11 [00:00<?, ?it/s]\n"
     ]
    },
    {
     "name": "stdout",
     "output_type": "stream",
     "text": [
      "Error processing example: 'NoneType' object has no attribute 'copy'\n",
      "Error processing example: No Javadoc comment found in the code.\n",
      "Error processing example: No Javadoc comment found in the code.\n"
     ]
    },
    {
     "name": "stderr",
     "output_type": "stream",
     "text": [
      "Generating responses:   0%|          | 0/11 [00:00<?, ?it/s]\n",
      "Processing dataset:  92%|█████████▏| 3805/4156 [00:40<00:02, 118.80it/s]"
     ]
    },
    {
     "name": "stdout",
     "output_type": "stream",
     "text": [
      "Error processing example: 'NoneType' object has no attribute 'copy'\n",
      "Error processing example: No Javadoc comment found in the code.\n"
     ]
    },
    {
     "name": "stderr",
     "output_type": "stream",
     "text": [
      "Generating responses:   0%|          | 0/11 [00:00<?, ?it/s]\n"
     ]
    },
    {
     "name": "stdout",
     "output_type": "stream",
     "text": [
      "Error processing example: 'NoneType' object has no attribute 'copy'\n"
     ]
    },
    {
     "name": "stderr",
     "output_type": "stream",
     "text": [
      "Generating responses:   0%|          | 0/11 [00:00<?, ?it/s]\n"
     ]
    },
    {
     "name": "stdout",
     "output_type": "stream",
     "text": [
      "Error processing example: 'NoneType' object has no attribute 'copy'\n"
     ]
    },
    {
     "name": "stderr",
     "output_type": "stream",
     "text": [
      "Generating responses:   0%|          | 0/11 [00:00<?, ?it/s]\n"
     ]
    },
    {
     "name": "stdout",
     "output_type": "stream",
     "text": [
      "Error processing example: 'NoneType' object has no attribute 'copy'\n"
     ]
    },
    {
     "name": "stderr",
     "output_type": "stream",
     "text": [
      "Generating responses:   0%|          | 0/11 [00:00<?, ?it/s]\n"
     ]
    },
    {
     "name": "stdout",
     "output_type": "stream",
     "text": [
      "Error processing example: 'NoneType' object has no attribute 'copy'\n"
     ]
    },
    {
     "name": "stderr",
     "output_type": "stream",
     "text": [
      "Generating responses:   0%|          | 0/11 [00:00<?, ?it/s]"
     ]
    },
    {
     "name": "stdout",
     "output_type": "stream",
     "text": [
      "Error processing example: 'NoneType' object has no attribute 'copy'\n",
      "Error processing example: No Javadoc comment found in the code.\n"
     ]
    },
    {
     "name": "stderr",
     "output_type": "stream",
     "text": [
      "\n",
      "Generating responses:   0%|          | 0/11 [00:00<?, ?it/s]\n"
     ]
    },
    {
     "name": "stdout",
     "output_type": "stream",
     "text": [
      "Error processing example: 'NoneType' object has no attribute 'copy'\n"
     ]
    },
    {
     "name": "stderr",
     "output_type": "stream",
     "text": [
      "Generating responses:   0%|          | 0/11 [00:00<?, ?it/s]\n"
     ]
    },
    {
     "name": "stdout",
     "output_type": "stream",
     "text": [
      "Error processing example: 'NoneType' object has no attribute 'copy'\n"
     ]
    },
    {
     "name": "stderr",
     "output_type": "stream",
     "text": [
      "Generating responses:   0%|          | 0/11 [00:00<?, ?it/s]\n"
     ]
    },
    {
     "name": "stdout",
     "output_type": "stream",
     "text": [
      "Error processing example: 'NoneType' object has no attribute 'copy'\n",
      "Error processing example: No Javadoc comment found in the code.\n",
      "Error processing example: No Javadoc comment found in the code.\n"
     ]
    },
    {
     "name": "stderr",
     "output_type": "stream",
     "text": [
      "Generating responses:   0%|          | 0/11 [00:00<?, ?it/s]\n",
      "Processing dataset:  92%|█████████▏| 3818/4156 [00:40<00:03, 100.54it/s]"
     ]
    },
    {
     "name": "stdout",
     "output_type": "stream",
     "text": [
      "Error processing example: 'NoneType' object has no attribute 'copy'\n",
      "Error processing example: No Javadoc comment found in the code.\n",
      "Error processing example: No Javadoc comment found in the code.\n",
      "Error processing example: No Javadoc comment found in the code.\n",
      "Error processing example: No Javadoc comment found in the code.\n",
      "Error processing example: No Javadoc comment found in the code.\n"
     ]
    },
    {
     "name": "stderr",
     "output_type": "stream",
     "text": [
      "Generating responses:   0%|          | 0/11 [00:00<?, ?it/s]\n"
     ]
    },
    {
     "name": "stdout",
     "output_type": "stream",
     "text": [
      "Error processing example: 'NoneType' object has no attribute 'copy'\n",
      "Error processing example: No Javadoc comment found in the code.\n"
     ]
    },
    {
     "name": "stderr",
     "output_type": "stream",
     "text": [
      "Generating responses:   0%|          | 0/11 [00:00<?, ?it/s]\n"
     ]
    },
    {
     "name": "stdout",
     "output_type": "stream",
     "text": [
      "Error processing example: 'NoneType' object has no attribute 'copy'\n"
     ]
    },
    {
     "name": "stderr",
     "output_type": "stream",
     "text": [
      "Generating responses:   0%|          | 0/11 [00:00<?, ?it/s]\n"
     ]
    },
    {
     "name": "stdout",
     "output_type": "stream",
     "text": [
      "Error processing example: 'NoneType' object has no attribute 'copy'\n"
     ]
    },
    {
     "name": "stderr",
     "output_type": "stream",
     "text": [
      "Generating responses:   0%|          | 0/11 [00:00<?, ?it/s]\n",
      "Processing dataset:  92%|█████████▏| 3830/4156 [00:40<00:03, 104.79it/s]"
     ]
    },
    {
     "name": "stdout",
     "output_type": "stream",
     "text": [
      "Error processing example: 'NoneType' object has no attribute 'copy'\n",
      "Error processing example: No Javadoc comment found in the code.\n",
      "Error processing example: No Javadoc comment found in the code.\n",
      "Error processing example: No Javadoc comment found in the code.\n",
      "Error processing example: No Javadoc comment found in the code.\n",
      "Error processing example: No Javadoc comment found in the code.\n"
     ]
    },
    {
     "name": "stderr",
     "output_type": "stream",
     "text": [
      "Generating responses:   0%|          | 0/11 [00:00<?, ?it/s]\n"
     ]
    },
    {
     "name": "stdout",
     "output_type": "stream",
     "text": [
      "Error processing example: 'NoneType' object has no attribute 'copy'\n",
      "Error processing example: No Javadoc comment found in the code.\n",
      "Error processing example: No Javadoc comment found in the code.\n"
     ]
    },
    {
     "name": "stderr",
     "output_type": "stream",
     "text": [
      "Generating responses:   0%|          | 0/11 [00:00<?, ?it/s]\n"
     ]
    },
    {
     "name": "stdout",
     "output_type": "stream",
     "text": [
      "Error processing example: 'NoneType' object has no attribute 'copy'\n",
      "Error processing example: No Javadoc comment found in the code.\n",
      "Error processing example: No Javadoc comment found in the code.\n"
     ]
    },
    {
     "name": "stderr",
     "output_type": "stream",
     "text": [
      "Generating responses:   0%|          | 0/11 [00:00<?, ?it/s]\n"
     ]
    },
    {
     "name": "stdout",
     "output_type": "stream",
     "text": [
      "Error processing example: 'NoneType' object has no attribute 'copy'\n"
     ]
    },
    {
     "name": "stderr",
     "output_type": "stream",
     "text": [
      "Generating responses:   0%|          | 0/11 [00:00<?, ?it/s]"
     ]
    },
    {
     "name": "stdout",
     "output_type": "stream",
     "text": [
      "Error processing example: 'NoneType' object has no attribute 'copy'\n"
     ]
    },
    {
     "name": "stderr",
     "output_type": "stream",
     "text": [
      "\n",
      "Generating responses:   0%|          | 0/11 [00:00<?, ?it/s]\n",
      "Processing dataset:  92%|█████████▏| 3842/4156 [00:40<00:03, 103.93it/s]"
     ]
    },
    {
     "name": "stdout",
     "output_type": "stream",
     "text": [
      "Error processing example: 'NoneType' object has no attribute 'copy'\n"
     ]
    },
    {
     "name": "stderr",
     "output_type": "stream",
     "text": [
      "Generating responses:   0%|          | 0/11 [00:00<?, ?it/s]\n"
     ]
    },
    {
     "name": "stdout",
     "output_type": "stream",
     "text": [
      "Error processing example: 'NoneType' object has no attribute 'copy'\n",
      "Error processing example: No Javadoc comment found in the code.\n"
     ]
    },
    {
     "name": "stderr",
     "output_type": "stream",
     "text": [
      "Generating responses:   0%|          | 0/11 [00:00<?, ?it/s]\n"
     ]
    },
    {
     "name": "stdout",
     "output_type": "stream",
     "text": [
      "Error processing example: 'NoneType' object has no attribute 'copy'\n"
     ]
    },
    {
     "name": "stderr",
     "output_type": "stream",
     "text": [
      "Generating responses:   0%|          | 0/11 [00:00<?, ?it/s]\n"
     ]
    },
    {
     "name": "stdout",
     "output_type": "stream",
     "text": [
      "Error processing example: 'NoneType' object has no attribute 'copy'\n",
      "Error processing example: No Javadoc comment found in the code.\n"
     ]
    },
    {
     "name": "stderr",
     "output_type": "stream",
     "text": [
      "Generating responses:   0%|          | 0/11 [00:00<?, ?it/s]\n"
     ]
    },
    {
     "name": "stdout",
     "output_type": "stream",
     "text": [
      "Error processing example: 'NoneType' object has no attribute 'copy'\n"
     ]
    },
    {
     "name": "stderr",
     "output_type": "stream",
     "text": [
      "Generating responses:   0%|          | 0/11 [00:00<?, ?it/s]\n"
     ]
    },
    {
     "name": "stdout",
     "output_type": "stream",
     "text": [
      "Error processing example: 'NoneType' object has no attribute 'copy'\n"
     ]
    },
    {
     "name": "stderr",
     "output_type": "stream",
     "text": [
      "Generating responses:   0%|          | 0/11 [00:00<?, ?it/s]\n",
      "Processing dataset:  93%|█████████▎| 3853/4156 [00:40<00:02, 104.34it/s]"
     ]
    },
    {
     "name": "stdout",
     "output_type": "stream",
     "text": [
      "Error processing example: 'NoneType' object has no attribute 'copy'\n",
      "Error processing example: No Javadoc comment found in the code.\n",
      "Error processing example: No Javadoc comment found in the code.\n",
      "Error processing example: No Javadoc comment found in the code.\n"
     ]
    },
    {
     "name": "stderr",
     "output_type": "stream",
     "text": [
      "Generating responses:   0%|          | 0/11 [00:00<?, ?it/s]"
     ]
    },
    {
     "name": "stdout",
     "output_type": "stream",
     "text": [
      "Error processing example: 'NoneType' object has no attribute 'copy'\n",
      "Error processing example: No Javadoc comment found in the code.\n",
      "Error processing example: No Javadoc comment found in the code.\n"
     ]
    },
    {
     "name": "stderr",
     "output_type": "stream",
     "text": [
      "\n",
      "Generating responses:   0%|          | 0/11 [00:00<?, ?it/s]\n"
     ]
    },
    {
     "name": "stdout",
     "output_type": "stream",
     "text": [
      "Error processing example: 'NoneType' object has no attribute 'copy'\n",
      "Error processing example: No Javadoc comment found in the code.\n"
     ]
    },
    {
     "name": "stderr",
     "output_type": "stream",
     "text": [
      "Generating responses:   0%|          | 0/11 [00:00<?, ?it/s]\n"
     ]
    },
    {
     "name": "stdout",
     "output_type": "stream",
     "text": [
      "Error processing example: 'NoneType' object has no attribute 'copy'\n"
     ]
    },
    {
     "name": "stderr",
     "output_type": "stream",
     "text": [
      "Generating responses:   0%|          | 0/11 [00:00<?, ?it/s]"
     ]
    },
    {
     "name": "stdout",
     "output_type": "stream",
     "text": [
      "Error processing example: 'NoneType' object has no attribute 'copy'\n"
     ]
    },
    {
     "name": "stderr",
     "output_type": "stream",
     "text": [
      "\n"
     ]
    },
    {
     "name": "stdout",
     "output_type": "stream",
     "text": [
      "Error processing example: No Javadoc comment found in the code.\n"
     ]
    },
    {
     "name": "stderr",
     "output_type": "stream",
     "text": [
      "Generating responses:   0%|          | 0/11 [00:00<?, ?it/s]\n"
     ]
    },
    {
     "name": "stdout",
     "output_type": "stream",
     "text": [
      "Error processing example: 'NoneType' object has no attribute 'copy'\n"
     ]
    },
    {
     "name": "stderr",
     "output_type": "stream",
     "text": [
      "Processing dataset:  93%|█████████▎| 3864/4156 [00:40<00:02, 100.30it/s]"
     ]
    },
    {
     "name": "stdout",
     "output_type": "stream",
     "text": [
      "Error processing example: No Javadoc comment found in the code.\n",
      "Error processing example: No Javadoc comment found in the code.\n",
      "Error processing example: No Javadoc comment found in the code.\n"
     ]
    },
    {
     "name": "stderr",
     "output_type": "stream",
     "text": [
      "Generating responses:   0%|          | 0/11 [00:00<?, ?it/s]\n"
     ]
    },
    {
     "name": "stdout",
     "output_type": "stream",
     "text": [
      "Error processing example: 'NoneType' object has no attribute 'copy'\n",
      "Error processing example: No Javadoc comment found in the code.\n"
     ]
    },
    {
     "name": "stderr",
     "output_type": "stream",
     "text": [
      "Generating responses:   0%|          | 0/11 [00:00<?, ?it/s]\n"
     ]
    },
    {
     "name": "stdout",
     "output_type": "stream",
     "text": [
      "Error processing example: 'NoneType' object has no attribute 'copy'\n",
      "Error processing example: No Javadoc comment found in the code.\n",
      "Error processing example: No Javadoc comment found in the code.\n"
     ]
    },
    {
     "name": "stderr",
     "output_type": "stream",
     "text": [
      "Generating responses:   0%|          | 0/11 [00:00<?, ?it/s]\n"
     ]
    },
    {
     "name": "stdout",
     "output_type": "stream",
     "text": [
      "Error processing example: 'NoneType' object has no attribute 'copy'\n"
     ]
    },
    {
     "name": "stderr",
     "output_type": "stream",
     "text": [
      "Generating responses:   0%|          | 0/11 [00:00<?, ?it/s]\n"
     ]
    },
    {
     "name": "stdout",
     "output_type": "stream",
     "text": [
      "Error processing example: 'NoneType' object has no attribute 'copy'\n",
      "Error processing example: No Javadoc comment found in the code.\n"
     ]
    },
    {
     "name": "stderr",
     "output_type": "stream",
     "text": [
      "Generating responses:   0%|          | 0/11 [00:00<?, ?it/s]\n",
      "Processing dataset:  93%|█████████▎| 3875/4156 [00:41<00:02, 97.85it/s] "
     ]
    },
    {
     "name": "stdout",
     "output_type": "stream",
     "text": [
      "Error processing example: 'NoneType' object has no attribute 'copy'\n",
      "Error processing example: No Javadoc comment found in the code.\n"
     ]
    },
    {
     "name": "stderr",
     "output_type": "stream",
     "text": [
      "Generating responses:   0%|          | 0/11 [00:00<?, ?it/s]\n"
     ]
    },
    {
     "name": "stdout",
     "output_type": "stream",
     "text": [
      "Error processing example: 'NoneType' object has no attribute 'copy'\n"
     ]
    },
    {
     "name": "stderr",
     "output_type": "stream",
     "text": [
      "Generating responses:   0%|          | 0/11 [00:00<?, ?it/s]\n"
     ]
    },
    {
     "name": "stdout",
     "output_type": "stream",
     "text": [
      "Error processing example: 'NoneType' object has no attribute 'copy'\n",
      "Error processing example: No Javadoc comment found in the code.\n"
     ]
    },
    {
     "name": "stderr",
     "output_type": "stream",
     "text": [
      "Generating responses:   0%|          | 0/11 [00:00<?, ?it/s]\n"
     ]
    },
    {
     "name": "stdout",
     "output_type": "stream",
     "text": [
      "Error processing example: 'NoneType' object has no attribute 'copy'\n",
      "Error processing example: No Javadoc comment found in the code.\n",
      "Error processing example: No Javadoc comment found in the code.\n",
      "Error processing example: No Javadoc comment found in the code.\n",
      "Error processing example: No Javadoc comment found in the code.\n",
      "Error processing example: No Javadoc comment found in the code.\n",
      "Error processing example: No Javadoc comment found in the code.\n",
      "Error processing example: No Javadoc comment found in the code.\n"
     ]
    },
    {
     "name": "stderr",
     "output_type": "stream",
     "text": [
      "Generating responses:   0%|          | 0/11 [00:00<?, ?it/s]\n"
     ]
    },
    {
     "name": "stdout",
     "output_type": "stream",
     "text": [
      "Error processing example: 'NoneType' object has no attribute 'copy'\n",
      "Error processing example: No Javadoc comment found in the code.\n"
     ]
    },
    {
     "name": "stderr",
     "output_type": "stream",
     "text": [
      "Generating responses:   0%|          | 0/11 [00:00<?, ?it/s]\n",
      "Processing dataset:  94%|█████████▎| 3891/4156 [00:41<00:02, 114.09it/s]"
     ]
    },
    {
     "name": "stdout",
     "output_type": "stream",
     "text": [
      "Error processing example: 'NoneType' object has no attribute 'copy'\n",
      "Error processing example: No Javadoc comment found in the code.\n",
      "Error processing example: No Javadoc comment found in the code.\n",
      "Error processing example: No Javadoc comment found in the code.\n"
     ]
    },
    {
     "name": "stderr",
     "output_type": "stream",
     "text": [
      "Generating responses:   0%|          | 0/11 [00:00<?, ?it/s]\n"
     ]
    },
    {
     "name": "stdout",
     "output_type": "stream",
     "text": [
      "Error processing example: 'NoneType' object has no attribute 'copy'\n",
      "Error processing example: No Javadoc comment found in the code.\n",
      "Error processing example: No Javadoc comment found in the code.\n"
     ]
    },
    {
     "name": "stderr",
     "output_type": "stream",
     "text": [
      "Generating responses:   0%|          | 0/11 [00:00<?, ?it/s]\n"
     ]
    },
    {
     "name": "stdout",
     "output_type": "stream",
     "text": [
      "Error processing example: 'NoneType' object has no attribute 'copy'\n"
     ]
    },
    {
     "name": "stderr",
     "output_type": "stream",
     "text": [
      "Generating responses:   0%|          | 0/11 [00:00<?, ?it/s]\n"
     ]
    },
    {
     "name": "stdout",
     "output_type": "stream",
     "text": [
      "Error processing example: 'NoneType' object has no attribute 'copy'\n",
      "Error processing example: No Javadoc comment found in the code.\n"
     ]
    },
    {
     "name": "stderr",
     "output_type": "stream",
     "text": [
      "Generating responses:   0%|          | 0/11 [00:00<?, ?it/s]\n"
     ]
    },
    {
     "name": "stdout",
     "output_type": "stream",
     "text": [
      "Error processing example: 'NoneType' object has no attribute 'copy'\n",
      "Error processing example: No Javadoc comment found in the code.\n",
      "Error processing example: No Javadoc comment found in the code.\n",
      "Error processing example: No Javadoc comment found in the code.\n",
      "Error processing example: No Javadoc comment found in the code.\n",
      "Error processing example: No Javadoc comment found in the code.\n",
      "Error processing example: No Javadoc comment found in the code.\n"
     ]
    },
    {
     "name": "stderr",
     "output_type": "stream",
     "text": [
      "Generating responses:   0%|          | 0/11 [00:00<?, ?it/s]\n",
      "Processing dataset:  94%|█████████▍| 3906/4156 [00:41<00:02, 120.70it/s]"
     ]
    },
    {
     "name": "stdout",
     "output_type": "stream",
     "text": [
      "Error processing example: 'NoneType' object has no attribute 'copy'\n"
     ]
    },
    {
     "name": "stderr",
     "output_type": "stream",
     "text": [
      "Generating responses:   0%|          | 0/11 [00:00<?, ?it/s]\n"
     ]
    },
    {
     "name": "stdout",
     "output_type": "stream",
     "text": [
      "Error processing example: 'NoneType' object has no attribute 'copy'\n"
     ]
    },
    {
     "name": "stderr",
     "output_type": "stream",
     "text": [
      "Generating responses:   0%|          | 0/11 [00:00<?, ?it/s]\n"
     ]
    },
    {
     "name": "stdout",
     "output_type": "stream",
     "text": [
      "Error processing example: 'NoneType' object has no attribute 'copy'\n"
     ]
    },
    {
     "name": "stderr",
     "output_type": "stream",
     "text": [
      "Generating responses:   0%|          | 0/11 [00:00<?, ?it/s]"
     ]
    },
    {
     "name": "stdout",
     "output_type": "stream",
     "text": [
      "Error processing example: 'NoneType' object has no attribute 'copy'\n"
     ]
    },
    {
     "name": "stderr",
     "output_type": "stream",
     "text": [
      "\n"
     ]
    },
    {
     "name": "stdout",
     "output_type": "stream",
     "text": [
      "Error processing example: No Javadoc comment found in the code.\n"
     ]
    },
    {
     "name": "stderr",
     "output_type": "stream",
     "text": [
      "Generating responses:   0%|          | 0/11 [00:00<?, ?it/s]\n"
     ]
    },
    {
     "name": "stdout",
     "output_type": "stream",
     "text": [
      "Error processing example: 'NoneType' object has no attribute 'copy'\n",
      "Error processing example: No Javadoc comment found in the code.\n",
      "Error processing example: No Javadoc comment found in the code.\n",
      "Error processing example: No Javadoc comment found in the code.\n",
      "Error processing example: No Javadoc comment found in the code.\n"
     ]
    },
    {
     "name": "stderr",
     "output_type": "stream",
     "text": [
      "Generating responses:   0%|          | 0/11 [00:00<?, ?it/s]\n"
     ]
    },
    {
     "name": "stdout",
     "output_type": "stream",
     "text": [
      "Error processing example: 'NoneType' object has no attribute 'copy'\n"
     ]
    },
    {
     "name": "stderr",
     "output_type": "stream",
     "text": [
      "Generating responses:   0%|          | 0/11 [00:00<?, ?it/s]\n"
     ]
    },
    {
     "name": "stdout",
     "output_type": "stream",
     "text": [
      "Error processing example: 'NoneType' object has no attribute 'copy'\n"
     ]
    },
    {
     "name": "stderr",
     "output_type": "stream",
     "text": [
      "Generating responses:   0%|          | 0/11 [00:00<?, ?it/s]\n"
     ]
    },
    {
     "name": "stdout",
     "output_type": "stream",
     "text": [
      "Error processing example: 'NoneType' object has no attribute 'copy'\n"
     ]
    },
    {
     "name": "stderr",
     "output_type": "stream",
     "text": [
      "Generating responses:   0%|          | 0/11 [00:00<?, ?it/s]\n",
      "Processing dataset:  94%|█████████▍| 3919/4156 [00:41<00:01, 121.88it/s]"
     ]
    },
    {
     "name": "stdout",
     "output_type": "stream",
     "text": [
      "Error processing example: 'NoneType' object has no attribute 'copy'\n",
      "Error processing example: No Javadoc comment found in the code.\n",
      "Error processing example: No Javadoc comment found in the code.\n"
     ]
    },
    {
     "name": "stderr",
     "output_type": "stream",
     "text": [
      "Generating responses:   0%|          | 0/11 [00:00<?, ?it/s]\n"
     ]
    },
    {
     "name": "stdout",
     "output_type": "stream",
     "text": [
      "Error processing example: 'NoneType' object has no attribute 'copy'\n"
     ]
    },
    {
     "name": "stderr",
     "output_type": "stream",
     "text": [
      "Generating responses:   0%|          | 0/11 [00:00<?, ?it/s]\n"
     ]
    },
    {
     "name": "stdout",
     "output_type": "stream",
     "text": [
      "Error processing example: 'NoneType' object has no attribute 'copy'\n",
      "Error processing example: No Javadoc comment found in the code.\n",
      "Error processing example: No Javadoc comment found in the code.\n",
      "Error processing example: No Javadoc comment found in the code.\n",
      "Error processing example: No Javadoc comment found in the code.\n"
     ]
    },
    {
     "name": "stderr",
     "output_type": "stream",
     "text": [
      "Generating responses:   0%|          | 0/11 [00:00<?, ?it/s]\n"
     ]
    },
    {
     "name": "stdout",
     "output_type": "stream",
     "text": [
      "Error processing example: 'NoneType' object has no attribute 'copy'\n"
     ]
    },
    {
     "name": "stderr",
     "output_type": "stream",
     "text": [
      "Generating responses:   0%|          | 0/11 [00:00<?, ?it/s]"
     ]
    },
    {
     "name": "stdout",
     "output_type": "stream",
     "text": [
      "Error processing example: 'NoneType' object has no attribute 'copy'\n"
     ]
    },
    {
     "name": "stderr",
     "output_type": "stream",
     "text": [
      "\n",
      "Generating responses:   0%|          | 0/11 [00:00<?, ?it/s]\n"
     ]
    },
    {
     "name": "stdout",
     "output_type": "stream",
     "text": [
      "Error processing example: 'NoneType' object has no attribute 'copy'\n"
     ]
    },
    {
     "name": "stderr",
     "output_type": "stream",
     "text": [
      "Generating responses:   0%|          | 0/11 [00:00<?, ?it/s]\n"
     ]
    },
    {
     "name": "stdout",
     "output_type": "stream",
     "text": [
      "Error processing example: 'NoneType' object has no attribute 'copy'\n"
     ]
    },
    {
     "name": "stderr",
     "output_type": "stream",
     "text": [
      "Generating responses:   0%|          | 0/11 [00:00<?, ?it/s]\n",
      "Processing dataset:  95%|█████████▍| 3932/4156 [00:41<00:01, 117.38it/s]"
     ]
    },
    {
     "name": "stdout",
     "output_type": "stream",
     "text": [
      "Error processing example: 'NoneType' object has no attribute 'copy'\n",
      "Error processing example: No Javadoc comment found in the code.\n"
     ]
    },
    {
     "name": "stderr",
     "output_type": "stream",
     "text": [
      "Generating responses:   0%|          | 0/11 [00:00<?, ?it/s]\n"
     ]
    },
    {
     "name": "stdout",
     "output_type": "stream",
     "text": [
      "Error processing example: 'NoneType' object has no attribute 'copy'\n",
      "Error processing example: No Javadoc comment found in the code.\n",
      "Error processing example: No Javadoc comment found in the code.\n",
      "Error processing example: No Javadoc comment found in the code.\n"
     ]
    },
    {
     "name": "stderr",
     "output_type": "stream",
     "text": [
      "Generating responses:   0%|          | 0/11 [00:00<?, ?it/s]\n"
     ]
    },
    {
     "name": "stdout",
     "output_type": "stream",
     "text": [
      "Error processing example: 'NoneType' object has no attribute 'copy'\n"
     ]
    },
    {
     "name": "stderr",
     "output_type": "stream",
     "text": [
      "Generating responses:   0%|          | 0/11 [00:00<?, ?it/s]\n"
     ]
    },
    {
     "name": "stdout",
     "output_type": "stream",
     "text": [
      "Error processing example: 'NoneType' object has no attribute 'copy'\n",
      "Error processing example: No Javadoc comment found in the code.\n"
     ]
    },
    {
     "name": "stderr",
     "output_type": "stream",
     "text": [
      "Generating responses:   0%|          | 0/11 [00:00<?, ?it/s]\n"
     ]
    },
    {
     "name": "stdout",
     "output_type": "stream",
     "text": [
      "Error processing example: 'NoneType' object has no attribute 'copy'\n",
      "Error processing example: No Javadoc comment found in the code.\n",
      "Error processing example: No Javadoc comment found in the code.\n"
     ]
    },
    {
     "name": "stderr",
     "output_type": "stream",
     "text": [
      "Generating responses:   0%|          | 0/11 [00:00<?, ?it/s]\n"
     ]
    },
    {
     "name": "stdout",
     "output_type": "stream",
     "text": [
      "Error processing example: 'NoneType' object has no attribute 'copy'\n"
     ]
    },
    {
     "name": "stderr",
     "output_type": "stream",
     "text": [
      "Generating responses:   0%|          | 0/11 [00:00<?, ?it/s]\n",
      "Processing dataset:  95%|█████████▍| 3945/4156 [00:41<00:01, 118.20it/s]"
     ]
    },
    {
     "name": "stdout",
     "output_type": "stream",
     "text": [
      "Error processing example: 'NoneType' object has no attribute 'copy'\n",
      "Error processing example: No Javadoc comment found in the code.\n",
      "Error processing example: No Javadoc comment found in the code.\n",
      "Error processing example: No Javadoc comment found in the code.\n",
      "Error processing example: No Javadoc comment found in the code.\n"
     ]
    },
    {
     "name": "stderr",
     "output_type": "stream",
     "text": [
      "Generating responses:   0%|          | 0/11 [00:00<?, ?it/s]"
     ]
    },
    {
     "name": "stdout",
     "output_type": "stream",
     "text": [
      "Error processing example: 'NoneType' object has no attribute 'copy'\n"
     ]
    },
    {
     "name": "stderr",
     "output_type": "stream",
     "text": [
      "\n"
     ]
    },
    {
     "name": "stdout",
     "output_type": "stream",
     "text": [
      "Error processing example: No Javadoc comment found in the code.\n"
     ]
    },
    {
     "name": "stderr",
     "output_type": "stream",
     "text": [
      "Generating responses:   0%|          | 0/11 [00:00<?, ?it/s]\n"
     ]
    },
    {
     "name": "stdout",
     "output_type": "stream",
     "text": [
      "Error processing example: 'NoneType' object has no attribute 'copy'\n",
      "Error processing example: No Javadoc comment found in the code.\n",
      "Error processing example: No Javadoc comment found in the code.\n",
      "Error processing example: No Javadoc comment found in the code.\n",
      "Error processing example: No Javadoc comment found in the code.\n"
     ]
    },
    {
     "name": "stderr",
     "output_type": "stream",
     "text": [
      "Generating responses:   0%|          | 0/11 [00:00<?, ?it/s]\n"
     ]
    },
    {
     "name": "stdout",
     "output_type": "stream",
     "text": [
      "Error processing example: 'NoneType' object has no attribute 'copy'\n",
      "Error processing example: No Javadoc comment found in the code.\n",
      "Error processing example: No Javadoc comment found in the code.\n"
     ]
    },
    {
     "name": "stderr",
     "output_type": "stream",
     "text": [
      "Generating responses:   0%|          | 0/11 [00:00<?, ?it/s]\n"
     ]
    },
    {
     "name": "stdout",
     "output_type": "stream",
     "text": [
      "Error processing example: 'NoneType' object has no attribute 'copy'\n"
     ]
    },
    {
     "name": "stderr",
     "output_type": "stream",
     "text": [
      "Generating responses:   0%|          | 0/11 [00:00<?, ?it/s]\n"
     ]
    },
    {
     "name": "stdout",
     "output_type": "stream",
     "text": [
      "Error processing example: 'NoneType' object has no attribute 'copy'\n",
      "Error processing example: No Javadoc comment found in the code.\n",
      "Error processing example: No Javadoc comment found in the code.\n"
     ]
    },
    {
     "name": "stderr",
     "output_type": "stream",
     "text": [
      "Generating responses:   0%|          | 0/11 [00:00<?, ?it/s]\n",
      "Processing dataset:  95%|█████████▌| 3964/4156 [00:41<00:01, 138.11it/s]"
     ]
    },
    {
     "name": "stdout",
     "output_type": "stream",
     "text": [
      "Error processing example: 'NoneType' object has no attribute 'copy'\n"
     ]
    },
    {
     "name": "stderr",
     "output_type": "stream",
     "text": [
      "Generating responses:   0%|          | 0/11 [00:00<?, ?it/s]\n"
     ]
    },
    {
     "name": "stdout",
     "output_type": "stream",
     "text": [
      "Error processing example: 'NoneType' object has no attribute 'copy'\n",
      "Error processing example: No Javadoc comment found in the code.\n",
      "Error processing example: No Javadoc comment found in the code.\n"
     ]
    },
    {
     "name": "stderr",
     "output_type": "stream",
     "text": [
      "Generating responses:   0%|          | 0/11 [00:00<?, ?it/s]\n"
     ]
    },
    {
     "name": "stdout",
     "output_type": "stream",
     "text": [
      "Error processing example: 'NoneType' object has no attribute 'copy'\n"
     ]
    },
    {
     "name": "stderr",
     "output_type": "stream",
     "text": [
      "Generating responses:   0%|          | 0/11 [00:00<?, ?it/s]\n"
     ]
    },
    {
     "name": "stdout",
     "output_type": "stream",
     "text": [
      "Error processing example: 'NoneType' object has no attribute 'copy'\n"
     ]
    },
    {
     "name": "stderr",
     "output_type": "stream",
     "text": [
      "Generating responses:   0%|          | 0/11 [00:00<?, ?it/s]"
     ]
    },
    {
     "name": "stdout",
     "output_type": "stream",
     "text": [
      "Error processing example: 'NoneType' object has no attribute 'copy'\n"
     ]
    },
    {
     "name": "stderr",
     "output_type": "stream",
     "text": [
      "\n"
     ]
    },
    {
     "name": "stdout",
     "output_type": "stream",
     "text": [
      "Error processing example: No Javadoc comment found in the code.\n"
     ]
    },
    {
     "name": "stderr",
     "output_type": "stream",
     "text": [
      "Generating responses:   0%|          | 0/11 [00:00<?, ?it/s]\n"
     ]
    },
    {
     "name": "stdout",
     "output_type": "stream",
     "text": [
      "Error processing example: 'NoneType' object has no attribute 'copy'\n",
      "Error processing example: No Javadoc comment found in the code.\n",
      "Error processing example: No Javadoc comment found in the code.\n",
      "Error processing example: No Javadoc comment found in the code.\n",
      "Error processing example: No Javadoc comment found in the code.\n",
      "Error processing example: No Javadoc comment found in the code.\n"
     ]
    },
    {
     "name": "stderr",
     "output_type": "stream",
     "text": [
      "Generating responses:   0%|          | 0/11 [00:00<?, ?it/s]\n"
     ]
    },
    {
     "name": "stdout",
     "output_type": "stream",
     "text": [
      "Error processing example: 'NoneType' object has no attribute 'copy'\n",
      "Error processing example: No Javadoc comment found in the code.\n"
     ]
    },
    {
     "name": "stderr",
     "output_type": "stream",
     "text": [
      "Processing dataset:  96%|█████████▌| 3979/4156 [00:41<00:01, 131.60it/s]"
     ]
    },
    {
     "name": "stdout",
     "output_type": "stream",
     "text": [
      "Error processing example: No Javadoc comment found in the code.\n",
      "Error processing example: No Javadoc comment found in the code.\n",
      "Error processing example: No Javadoc comment found in the code.\n"
     ]
    },
    {
     "name": "stderr",
     "output_type": "stream",
     "text": [
      "Generating responses:   0%|          | 0/11 [00:00<?, ?it/s]\n"
     ]
    },
    {
     "name": "stdout",
     "output_type": "stream",
     "text": [
      "Error processing example: 'NoneType' object has no attribute 'copy'\n",
      "Error processing example: No Javadoc comment found in the code.\n"
     ]
    },
    {
     "name": "stderr",
     "output_type": "stream",
     "text": [
      "Generating responses:   0%|          | 0/11 [00:00<?, ?it/s]\n"
     ]
    },
    {
     "name": "stdout",
     "output_type": "stream",
     "text": [
      "Error processing example: 'NoneType' object has no attribute 'copy'\n",
      "Error processing example: No Javadoc comment found in the code.\n",
      "Error processing example: No Javadoc comment found in the code.\n"
     ]
    },
    {
     "name": "stderr",
     "output_type": "stream",
     "text": [
      "Generating responses:   0%|          | 0/11 [00:00<?, ?it/s]\n"
     ]
    },
    {
     "name": "stdout",
     "output_type": "stream",
     "text": [
      "Error processing example: 'NoneType' object has no attribute 'copy'\n",
      "Error processing example: No Javadoc comment found in the code.\n",
      "Error processing example: No Javadoc comment found in the code.\n",
      "Error processing example: No Javadoc comment found in the code.\n",
      "Error processing example: No Javadoc comment found in the code.\n",
      "Error processing example: No Javadoc comment found in the code.\n",
      "Error processing example: No Javadoc comment found in the code.\n",
      "Error processing example: No Javadoc comment found in the code.\n",
      "Error processing example: No Javadoc comment found in the code.\n"
     ]
    },
    {
     "name": "stderr",
     "output_type": "stream",
     "text": [
      "Generating responses:   0%|          | 0/11 [00:00<?, ?it/s]\n"
     ]
    },
    {
     "name": "stdout",
     "output_type": "stream",
     "text": [
      "Error processing example: 'NoneType' object has no attribute 'copy'\n",
      "Error processing example: No Javadoc comment found in the code.\n"
     ]
    },
    {
     "name": "stderr",
     "output_type": "stream",
     "text": [
      "Generating responses:   0%|          | 0/11 [00:00<?, ?it/s]\n",
      "Processing dataset:  96%|█████████▌| 3999/4156 [00:41<00:01, 148.47it/s]"
     ]
    },
    {
     "name": "stdout",
     "output_type": "stream",
     "text": [
      "Error processing example: 'NoneType' object has no attribute 'copy'\n",
      "Error processing example: No Javadoc comment found in the code.\n",
      "Error processing example: No Javadoc comment found in the code.\n"
     ]
    },
    {
     "name": "stderr",
     "output_type": "stream",
     "text": [
      "Generating responses:   0%|          | 0/11 [00:00<?, ?it/s]\n"
     ]
    },
    {
     "name": "stdout",
     "output_type": "stream",
     "text": [
      "Error processing example: 'NoneType' object has no attribute 'copy'\n"
     ]
    },
    {
     "name": "stderr",
     "output_type": "stream",
     "text": [
      "Generating responses:   0%|          | 0/11 [00:00<?, ?it/s]\n"
     ]
    },
    {
     "name": "stdout",
     "output_type": "stream",
     "text": [
      "Error processing example: 'NoneType' object has no attribute 'copy'\n"
     ]
    },
    {
     "name": "stderr",
     "output_type": "stream",
     "text": [
      "Generating responses:   0%|          | 0/11 [00:00<?, ?it/s]\n"
     ]
    },
    {
     "name": "stdout",
     "output_type": "stream",
     "text": [
      "Error processing example: 'NoneType' object has no attribute 'copy'\n"
     ]
    },
    {
     "name": "stderr",
     "output_type": "stream",
     "text": [
      "Generating responses:   0%|          | 0/11 [00:00<?, ?it/s]\n"
     ]
    },
    {
     "name": "stdout",
     "output_type": "stream",
     "text": [
      "Error processing example: 'NoneType' object has no attribute 'copy'\n"
     ]
    },
    {
     "name": "stderr",
     "output_type": "stream",
     "text": [
      "Generating responses:   0%|          | 0/11 [00:00<?, ?it/s]\n"
     ]
    },
    {
     "name": "stdout",
     "output_type": "stream",
     "text": [
      "Error processing example: 'NoneType' object has no attribute 'copy'\n"
     ]
    },
    {
     "name": "stderr",
     "output_type": "stream",
     "text": [
      "Generating responses:   0%|          | 0/11 [00:00<?, ?it/s]\n"
     ]
    },
    {
     "name": "stdout",
     "output_type": "stream",
     "text": [
      "Error processing example: 'NoneType' object has no attribute 'copy'\n",
      "Error processing example: No Javadoc comment found in the code.\n",
      "Error processing example: No Javadoc comment found in the code.\n",
      "Error processing example: No Javadoc comment found in the code.\n"
     ]
    },
    {
     "name": "stderr",
     "output_type": "stream",
     "text": [
      "Generating responses:   0%|          | 0/11 [00:00<?, ?it/s]"
     ]
    },
    {
     "name": "stdout",
     "output_type": "stream",
     "text": [
      "Error processing example: 'NoneType' object has no attribute 'copy'\n"
     ]
    },
    {
     "name": "stderr",
     "output_type": "stream",
     "text": [
      "\n",
      "Generating responses:   0%|          | 0/11 [00:00<?, ?it/s]"
     ]
    },
    {
     "name": "stdout",
     "output_type": "stream",
     "text": [
      "Error processing example: 'NoneType' object has no attribute 'copy'\n"
     ]
    },
    {
     "name": "stderr",
     "output_type": "stream",
     "text": [
      "\n",
      "Generating responses:   0%|          | 0/11 [00:00<?, ?it/s]\n"
     ]
    },
    {
     "name": "stdout",
     "output_type": "stream",
     "text": [
      "Error processing example: 'NoneType' object has no attribute 'copy'\n"
     ]
    },
    {
     "name": "stderr",
     "output_type": "stream",
     "text": [
      "Generating responses:   0%|          | 0/11 [00:00<?, ?it/s]\n",
      "Processing dataset:  97%|█████████▋| 4015/4156 [00:42<00:01, 137.55it/s]"
     ]
    },
    {
     "name": "stdout",
     "output_type": "stream",
     "text": [
      "Error processing example: 'NoneType' object has no attribute 'copy'\n",
      "Error processing example: No Javadoc comment found in the code.\n",
      "Error processing example: No Javadoc comment found in the code.\n"
     ]
    },
    {
     "name": "stderr",
     "output_type": "stream",
     "text": [
      "Generating responses:   0%|          | 0/11 [00:00<?, ?it/s]\n"
     ]
    },
    {
     "name": "stdout",
     "output_type": "stream",
     "text": [
      "Error processing example: 'NoneType' object has no attribute 'copy'\n",
      "Error processing example: No Javadoc comment found in the code.\n",
      "Error processing example: No Javadoc comment found in the code.\n",
      "Error processing example: No Javadoc comment found in the code.\n"
     ]
    },
    {
     "name": "stderr",
     "output_type": "stream",
     "text": [
      "Generating responses:   0%|          | 0/11 [00:00<?, ?it/s]"
     ]
    },
    {
     "name": "stdout",
     "output_type": "stream",
     "text": [
      "Error processing example: 'NoneType' object has no attribute 'copy'\n"
     ]
    },
    {
     "name": "stderr",
     "output_type": "stream",
     "text": [
      "\n"
     ]
    },
    {
     "name": "stdout",
     "output_type": "stream",
     "text": [
      "Error processing example: No Javadoc comment found in the code.\n"
     ]
    },
    {
     "name": "stderr",
     "output_type": "stream",
     "text": [
      "Generating responses:   0%|          | 0/11 [00:00<?, ?it/s]\n"
     ]
    },
    {
     "name": "stdout",
     "output_type": "stream",
     "text": [
      "Error processing example: 'NoneType' object has no attribute 'copy'\n",
      "Error processing example: Javadoc comment is not properly closed.\n",
      "Error processing example: No Javadoc comment found in the code.\n"
     ]
    },
    {
     "name": "stderr",
     "output_type": "stream",
     "text": [
      "Generating responses:   0%|          | 0/11 [00:00<?, ?it/s]\n"
     ]
    },
    {
     "name": "stdout",
     "output_type": "stream",
     "text": [
      "Error processing example: 'NoneType' object has no attribute 'copy'\n"
     ]
    },
    {
     "name": "stderr",
     "output_type": "stream",
     "text": [
      "Generating responses:   0%|          | 0/11 [00:00<?, ?it/s]\n"
     ]
    },
    {
     "name": "stdout",
     "output_type": "stream",
     "text": [
      "Error processing example: 'NoneType' object has no attribute 'copy'\n",
      "Error processing example: No Javadoc comment found in the code.\n",
      "Error processing example: No Javadoc comment found in the code.\n"
     ]
    },
    {
     "name": "stderr",
     "output_type": "stream",
     "text": [
      "Generating responses:   0%|          | 0/11 [00:00<?, ?it/s]\n",
      "Processing dataset:  97%|█████████▋| 4030/4156 [00:42<00:00, 126.62it/s]"
     ]
    },
    {
     "name": "stdout",
     "output_type": "stream",
     "text": [
      "Error processing example: 'NoneType' object has no attribute 'copy'\n",
      "Error processing example: No Javadoc comment found in the code.\n"
     ]
    },
    {
     "name": "stderr",
     "output_type": "stream",
     "text": [
      "Generating responses:   0%|          | 0/11 [00:00<?, ?it/s]\n"
     ]
    },
    {
     "name": "stdout",
     "output_type": "stream",
     "text": [
      "Error processing example: 'NoneType' object has no attribute 'copy'\n",
      "Error processing example: No Javadoc comment found in the code.\n",
      "Error processing example: No Javadoc comment found in the code.\n",
      "Error processing example: No Javadoc comment found in the code.\n",
      "Error processing example: No Javadoc comment found in the code.\n",
      "Error processing example: No Javadoc comment found in the code.\n"
     ]
    },
    {
     "name": "stderr",
     "output_type": "stream",
     "text": [
      "Generating responses:   0%|          | 0/11 [00:00<?, ?it/s]\n"
     ]
    },
    {
     "name": "stdout",
     "output_type": "stream",
     "text": [
      "Error processing example: 'NoneType' object has no attribute 'copy'\n"
     ]
    },
    {
     "name": "stderr",
     "output_type": "stream",
     "text": [
      "Generating responses:   0%|          | 0/11 [00:00<?, ?it/s]"
     ]
    },
    {
     "name": "stdout",
     "output_type": "stream",
     "text": [
      "Error processing example: 'NoneType' object has no attribute 'copy'\n"
     ]
    },
    {
     "name": "stderr",
     "output_type": "stream",
     "text": [
      "\n"
     ]
    },
    {
     "name": "stdout",
     "output_type": "stream",
     "text": [
      "Error processing example: No Javadoc comment found in the code.\n"
     ]
    },
    {
     "name": "stderr",
     "output_type": "stream",
     "text": [
      "Generating responses:   0%|          | 0/11 [00:00<?, ?it/s]\n"
     ]
    },
    {
     "name": "stdout",
     "output_type": "stream",
     "text": [
      "Error processing example: 'NoneType' object has no attribute 'copy'\n"
     ]
    },
    {
     "name": "stderr",
     "output_type": "stream",
     "text": [
      "Generating responses:   0%|          | 0/11 [00:00<?, ?it/s]\n",
      "Processing dataset:  97%|█████████▋| 4044/4156 [00:42<00:00, 128.40it/s]"
     ]
    },
    {
     "name": "stdout",
     "output_type": "stream",
     "text": [
      "Error processing example: 'NoneType' object has no attribute 'copy'\n",
      "Error processing example: No Javadoc comment found in the code.\n",
      "Error processing example: No Javadoc comment found in the code.\n",
      "Error processing example: No Javadoc comment found in the code.\n",
      "Error processing example: No Javadoc comment found in the code.\n"
     ]
    },
    {
     "name": "stderr",
     "output_type": "stream",
     "text": [
      "Generating responses:   0%|          | 0/11 [00:00<?, ?it/s]\n"
     ]
    },
    {
     "name": "stdout",
     "output_type": "stream",
     "text": [
      "Error processing example: 'NoneType' object has no attribute 'copy'\n"
     ]
    },
    {
     "name": "stderr",
     "output_type": "stream",
     "text": [
      "Generating responses:   0%|          | 0/11 [00:00<?, ?it/s]\n"
     ]
    },
    {
     "name": "stdout",
     "output_type": "stream",
     "text": [
      "Error processing example: 'NoneType' object has no attribute 'copy'\n",
      "Error processing example: No Javadoc comment found in the code.\n",
      "Error processing example: No Javadoc comment found in the code.\n",
      "Error processing example: No Javadoc comment found in the code.\n"
     ]
    },
    {
     "name": "stderr",
     "output_type": "stream",
     "text": [
      "Generating responses:   0%|          | 0/12 [00:00<?, ?it/s]\n"
     ]
    },
    {
     "name": "stdout",
     "output_type": "stream",
     "text": [
      "Error processing example: 'NoneType' object has no attribute 'copy'\n",
      "Error processing example: No Javadoc comment found in the code.\n",
      "Error processing example: No Javadoc comment found in the code.\n",
      "Error processing example: No Javadoc comment found in the code.\n",
      "Error processing example: No Javadoc comment found in the code.\n",
      "Error processing example: No Javadoc comment found in the code.\n",
      "Error processing example: No Javadoc comment found in the code.\n",
      "Error processing example: No Javadoc comment found in the code.\n",
      "Error processing example: No Javadoc comment found in the code.\n",
      "Error processing example: No Javadoc comment found in the code.\n",
      "Error processing example: No Javadoc comment found in the code.\n",
      "Error processing example: No Javadoc comment found in the code.\n",
      "Error processing example: No Javadoc comment found in the code.\n",
      "Error processing example: No Javadoc comment found in the code.\n",
      "Error processing example: No Javadoc comment found in the code.\n"
     ]
    },
    {
     "name": "stderr",
     "output_type": "stream",
     "text": [
      "Generating responses:   0%|          | 0/12 [00:00<?, ?it/s]\n",
      "Processing dataset:  98%|█████████▊| 4068/4156 [00:42<00:00, 157.16it/s]"
     ]
    },
    {
     "name": "stdout",
     "output_type": "stream",
     "text": [
      "Error processing example: 'NoneType' object has no attribute 'copy'\n",
      "Error processing example: No Javadoc comment found in the code.\n",
      "Error processing example: No Javadoc comment found in the code.\n"
     ]
    },
    {
     "name": "stderr",
     "output_type": "stream",
     "text": [
      "Generating responses:   0%|          | 0/12 [00:00<?, ?it/s]\n"
     ]
    },
    {
     "name": "stdout",
     "output_type": "stream",
     "text": [
      "Error processing example: 'NoneType' object has no attribute 'copy'\n"
     ]
    },
    {
     "name": "stderr",
     "output_type": "stream",
     "text": [
      "Generating responses:   0%|          | 0/12 [00:00<?, ?it/s]\n"
     ]
    },
    {
     "name": "stdout",
     "output_type": "stream",
     "text": [
      "Error processing example: 'NoneType' object has no attribute 'copy'\n",
      "Error processing example: No Javadoc comment found in the code.\n"
     ]
    },
    {
     "name": "stderr",
     "output_type": "stream",
     "text": [
      "Generating responses:   0%|          | 0/12 [00:00<?, ?it/s]\n"
     ]
    },
    {
     "name": "stdout",
     "output_type": "stream",
     "text": [
      "Error processing example: 'NoneType' object has no attribute 'copy'\n",
      "Error processing example: No Javadoc comment found in the code.\n"
     ]
    },
    {
     "name": "stderr",
     "output_type": "stream",
     "text": [
      "Generating responses:   0%|          | 0/12 [00:00<?, ?it/s]"
     ]
    },
    {
     "name": "stdout",
     "output_type": "stream",
     "text": [
      "Error processing example: 'NoneType' object has no attribute 'copy'\n"
     ]
    },
    {
     "name": "stderr",
     "output_type": "stream",
     "text": [
      "\n"
     ]
    },
    {
     "name": "stdout",
     "output_type": "stream",
     "text": [
      "Error processing example: No Javadoc comment found in the code.\n",
      "Error processing example: No Javadoc comment found in the code.\n",
      "Error processing example: No Javadoc comment found in the code.\n",
      "Error processing example: No Javadoc comment found in the code.\n"
     ]
    },
    {
     "name": "stderr",
     "output_type": "stream",
     "text": [
      "Generating responses:   0%|          | 0/12 [00:00<?, ?it/s]"
     ]
    },
    {
     "name": "stdout",
     "output_type": "stream",
     "text": [
      "Error processing example: 'NoneType' object has no attribute 'copy'\n"
     ]
    },
    {
     "name": "stderr",
     "output_type": "stream",
     "text": [
      "\n"
     ]
    },
    {
     "name": "stdout",
     "output_type": "stream",
     "text": [
      "Error processing example: No Javadoc comment found in the code.\n",
      "Error processing example: No Javadoc comment found in the code.\n"
     ]
    },
    {
     "name": "stderr",
     "output_type": "stream",
     "text": [
      "Generating responses:   0%|          | 0/12 [00:00<?, ?it/s]\n"
     ]
    },
    {
     "name": "stdout",
     "output_type": "stream",
     "text": [
      "Error processing example: 'NoneType' object has no attribute 'copy'\n",
      "Error processing example: No Javadoc comment found in the code.\n"
     ]
    },
    {
     "name": "stderr",
     "output_type": "stream",
     "text": [
      "Generating responses:   0%|          | 0/12 [00:00<?, ?it/s]\n",
      "Processing dataset:  98%|█████████▊| 4085/4156 [00:42<00:00, 149.91it/s]"
     ]
    },
    {
     "name": "stdout",
     "output_type": "stream",
     "text": [
      "Error processing example: 'NoneType' object has no attribute 'copy'\n",
      "Error processing example: No Javadoc comment found in the code.\n",
      "Error processing example: No Javadoc comment found in the code.\n"
     ]
    },
    {
     "name": "stderr",
     "output_type": "stream",
     "text": [
      "Generating responses:   0%|          | 0/12 [00:00<?, ?it/s]\n"
     ]
    },
    {
     "name": "stdout",
     "output_type": "stream",
     "text": [
      "Error processing example: 'NoneType' object has no attribute 'copy'\n",
      "Error processing example: No Javadoc comment found in the code.\n",
      "Error processing example: No Javadoc comment found in the code.\n"
     ]
    },
    {
     "name": "stderr",
     "output_type": "stream",
     "text": [
      "Generating responses:   0%|          | 0/12 [00:00<?, ?it/s]\n"
     ]
    },
    {
     "name": "stdout",
     "output_type": "stream",
     "text": [
      "Error processing example: 'NoneType' object has no attribute 'copy'\n",
      "Error processing example: No Javadoc comment found in the code.\n"
     ]
    },
    {
     "name": "stderr",
     "output_type": "stream",
     "text": [
      "Generating responses:   0%|          | 0/12 [00:00<?, ?it/s]\n"
     ]
    },
    {
     "name": "stdout",
     "output_type": "stream",
     "text": [
      "Error processing example: 'NoneType' object has no attribute 'copy'\n"
     ]
    },
    {
     "name": "stderr",
     "output_type": "stream",
     "text": [
      "Generating responses:   0%|          | 0/12 [00:00<?, ?it/s]\n"
     ]
    },
    {
     "name": "stdout",
     "output_type": "stream",
     "text": [
      "Error processing example: 'NoneType' object has no attribute 'copy'\n"
     ]
    },
    {
     "name": "stderr",
     "output_type": "stream",
     "text": [
      "Generating responses:   0%|          | 0/12 [00:00<?, ?it/s]\n"
     ]
    },
    {
     "name": "stdout",
     "output_type": "stream",
     "text": [
      "Error processing example: 'NoneType' object has no attribute 'copy'\n"
     ]
    },
    {
     "name": "stderr",
     "output_type": "stream",
     "text": [
      "Generating responses:   0%|          | 0/12 [00:00<?, ?it/s]\n"
     ]
    },
    {
     "name": "stdout",
     "output_type": "stream",
     "text": [
      "Error processing example: 'NoneType' object has no attribute 'copy'\n",
      "Error processing example: No Javadoc comment found in the code.\n",
      "Error processing example: No Javadoc comment found in the code.\n",
      "Error processing example: No Javadoc comment found in the code.\n",
      "Error processing example: No Javadoc comment found in the code.\n"
     ]
    },
    {
     "name": "stderr",
     "output_type": "stream",
     "text": [
      "Processing dataset:  99%|█████████▊| 4101/4156 [00:42<00:00, 146.47it/s]"
     ]
    },
    {
     "name": "stdout",
     "output_type": "stream",
     "text": [
      "Error processing example: No Javadoc comment found in the code.\n"
     ]
    },
    {
     "name": "stderr",
     "output_type": "stream",
     "text": [
      "Generating responses:   0%|          | 0/12 [00:00<?, ?it/s]\n"
     ]
    },
    {
     "name": "stdout",
     "output_type": "stream",
     "text": [
      "Error processing example: 'NoneType' object has no attribute 'copy'\n",
      "Error processing example: No Javadoc comment found in the code.\n"
     ]
    },
    {
     "name": "stderr",
     "output_type": "stream",
     "text": [
      "Generating responses:   0%|          | 0/12 [00:00<?, ?it/s]\n"
     ]
    },
    {
     "name": "stdout",
     "output_type": "stream",
     "text": [
      "Error processing example: 'NoneType' object has no attribute 'copy'\n",
      "Error processing example: No Javadoc comment found in the code.\n"
     ]
    },
    {
     "name": "stderr",
     "output_type": "stream",
     "text": [
      "Generating responses:   0%|          | 0/12 [00:00<?, ?it/s]\n"
     ]
    },
    {
     "name": "stdout",
     "output_type": "stream",
     "text": [
      "Error processing example: 'NoneType' object has no attribute 'copy'\n",
      "Error processing example: No Javadoc comment found in the code.\n",
      "Error processing example: No Javadoc comment found in the code.\n",
      "Error processing example: No Javadoc comment found in the code.\n",
      "Error processing example: No Javadoc comment found in the code.\n"
     ]
    },
    {
     "name": "stderr",
     "output_type": "stream",
     "text": [
      "Generating responses:   0%|          | 0/12 [00:00<?, ?it/s]\n"
     ]
    },
    {
     "name": "stdout",
     "output_type": "stream",
     "text": [
      "Error processing example: 'NoneType' object has no attribute 'copy'\n",
      "Error processing example: No Javadoc comment found in the code.\n"
     ]
    },
    {
     "name": "stderr",
     "output_type": "stream",
     "text": [
      "Generating responses:   0%|          | 0/12 [00:00<?, ?it/s]\n"
     ]
    },
    {
     "name": "stdout",
     "output_type": "stream",
     "text": [
      "Error processing example: 'NoneType' object has no attribute 'copy'\n",
      "Error processing example: No Javadoc comment found in the code.\n",
      "Error processing example: No Javadoc comment found in the code.\n"
     ]
    },
    {
     "name": "stderr",
     "output_type": "stream",
     "text": [
      "Processing dataset:  99%|█████████▉| 4116/4156 [00:42<00:00, 136.99it/s]"
     ]
    },
    {
     "name": "stdout",
     "output_type": "stream",
     "text": [
      "Error processing example: No Javadoc comment found in the code.\n",
      "Error processing example: No Javadoc comment found in the code.\n",
      "Error processing example: No Javadoc comment found in the code.\n"
     ]
    },
    {
     "name": "stderr",
     "output_type": "stream",
     "text": [
      "Generating responses:   0%|          | 0/12 [00:00<?, ?it/s]\n"
     ]
    },
    {
     "name": "stdout",
     "output_type": "stream",
     "text": [
      "Error processing example: 'NoneType' object has no attribute 'copy'\n",
      "Error processing example: No Javadoc comment found in the code.\n",
      "Error processing example: No Javadoc comment found in the code.\n"
     ]
    },
    {
     "name": "stderr",
     "output_type": "stream",
     "text": [
      "Generating responses:   0%|          | 0/12 [00:00<?, ?it/s]\n"
     ]
    },
    {
     "name": "stdout",
     "output_type": "stream",
     "text": [
      "Error processing example: 'NoneType' object has no attribute 'copy'\n",
      "Error processing example: No Javadoc comment found in the code.\n",
      "Error processing example: No Javadoc comment found in the code.\n",
      "Error processing example: No Javadoc comment found in the code.\n",
      "Error processing example: No Javadoc comment found in the code.\n",
      "Error processing example: No Javadoc comment found in the code.\n",
      "Error processing example: No Javadoc comment found in the code.\n",
      "Error processing example: No Javadoc comment found in the code.\n"
     ]
    },
    {
     "name": "stderr",
     "output_type": "stream",
     "text": [
      "Generating responses:   0%|          | 0/12 [00:00<?, ?it/s]\n"
     ]
    },
    {
     "name": "stdout",
     "output_type": "stream",
     "text": [
      "Error processing example: 'NoneType' object has no attribute 'copy'\n",
      "Error processing example: No Javadoc comment found in the code.\n"
     ]
    },
    {
     "name": "stderr",
     "output_type": "stream",
     "text": [
      "Generating responses:   0%|          | 0/12 [00:00<?, ?it/s]\n"
     ]
    },
    {
     "name": "stdout",
     "output_type": "stream",
     "text": [
      "Error processing example: 'NoneType' object has no attribute 'copy'\n",
      "Error processing example: No Javadoc comment found in the code.\n"
     ]
    },
    {
     "name": "stderr",
     "output_type": "stream",
     "text": [
      "Generating responses:   0%|          | 0/12 [00:00<?, ?it/s]\n",
      "Processing dataset: 100%|█████████▉| 4136/4156 [00:42<00:00, 153.28it/s]"
     ]
    },
    {
     "name": "stdout",
     "output_type": "stream",
     "text": [
      "Error processing example: 'NoneType' object has no attribute 'copy'\n",
      "Error processing example: No Javadoc comment found in the code.\n",
      "Error processing example: No Javadoc comment found in the code.\n"
     ]
    },
    {
     "name": "stderr",
     "output_type": "stream",
     "text": [
      "Generating responses:   0%|          | 0/12 [00:00<?, ?it/s]\n"
     ]
    },
    {
     "name": "stdout",
     "output_type": "stream",
     "text": [
      "Error processing example: 'NoneType' object has no attribute 'copy'\n",
      "Error processing example: No Javadoc comment found in the code.\n",
      "Error processing example: No Javadoc comment found in the code.\n",
      "Error processing example: No Javadoc comment found in the code.\n",
      "Error processing example: No Javadoc comment found in the code.\n"
     ]
    },
    {
     "name": "stderr",
     "output_type": "stream",
     "text": [
      "Generating responses:   0%|          | 0/12 [00:00<?, ?it/s]"
     ]
    },
    {
     "name": "stdout",
     "output_type": "stream",
     "text": [
      "Error processing example: 'NoneType' object has no attribute 'copy'\n",
      "Error processing example: No Javadoc comment found in the code.\n"
     ]
    },
    {
     "name": "stderr",
     "output_type": "stream",
     "text": [
      "\n",
      "Generating responses:   0%|          | 0/12 [00:00<?, ?it/s]\n"
     ]
    },
    {
     "name": "stdout",
     "output_type": "stream",
     "text": [
      "Error processing example: 'NoneType' object has no attribute 'copy'\n",
      "Error processing example: No Javadoc comment found in the code.\n"
     ]
    },
    {
     "name": "stderr",
     "output_type": "stream",
     "text": [
      "Generating responses:   0%|          | 0/12 [00:00<?, ?it/s]\n"
     ]
    },
    {
     "name": "stdout",
     "output_type": "stream",
     "text": [
      "Error processing example: 'NoneType' object has no attribute 'copy'\n"
     ]
    },
    {
     "name": "stderr",
     "output_type": "stream",
     "text": [
      "Generating responses:   0%|          | 0/12 [00:00<?, ?it/s]"
     ]
    },
    {
     "name": "stdout",
     "output_type": "stream",
     "text": [
      "Error processing example: 'NoneType' object has no attribute 'copy'\n"
     ]
    },
    {
     "name": "stderr",
     "output_type": "stream",
     "text": [
      "\n"
     ]
    },
    {
     "name": "stdout",
     "output_type": "stream",
     "text": [
      "Error processing example: No Javadoc comment found in the code.\n"
     ]
    },
    {
     "name": "stderr",
     "output_type": "stream",
     "text": [
      "Generating responses:   0%|          | 0/12 [00:00<?, ?it/s]\n"
     ]
    },
    {
     "name": "stdout",
     "output_type": "stream",
     "text": [
      "Error processing example: 'NoneType' object has no attribute 'copy'\n",
      "Error processing example: No Javadoc comment found in the code.\n",
      "Error processing example: No Javadoc comment found in the code.\n"
     ]
    },
    {
     "name": "stderr",
     "output_type": "stream",
     "text": [
      "Generating responses:   0%|          | 0/12 [00:00<?, ?it/s]\n",
      "Processing dataset: 100%|█████████▉| 4152/4156 [00:43<00:00, 154.09it/s]"
     ]
    },
    {
     "name": "stdout",
     "output_type": "stream",
     "text": [
      "Error processing example: 'NoneType' object has no attribute 'copy'\n"
     ]
    },
    {
     "name": "stderr",
     "output_type": "stream",
     "text": [
      "Generating responses:   0%|          | 0/12 [00:00<?, ?it/s]\n"
     ]
    },
    {
     "name": "stdout",
     "output_type": "stream",
     "text": [
      "Error processing example: 'NoneType' object has no attribute 'copy'\n",
      "Error processing example: No Javadoc comment found in the code.\n",
      "Error processing example: No Javadoc comment found in the code.\n"
     ]
    },
    {
     "name": "stderr",
     "output_type": "stream",
     "text": [
      "Generating responses:   0%|          | 0/12 [00:00<?, ?it/s]\n",
      "Processing dataset: 100%|██████████| 4156/4156 [00:43<00:00, 96.52it/s] "
     ]
    },
    {
     "name": "stdout",
     "output_type": "stream",
     "text": [
      "Error processing example: 'NoneType' object has no attribute 'copy'\n"
     ]
    },
    {
     "name": "stderr",
     "output_type": "stream",
     "text": [
      "\n"
     ]
    }
   ],
   "source": [
    "from tqdm import tqdm\n",
    "\n",
    "# Initialize responses and prompts\n",
    "responses = []\n",
    "prompts = []\n",
    "\n",
    "# Sampling parameters\n",
    "sampling_params = {\"temperature\": 0.0, \"stop\": \"\\n\", \"max_tokens\": 5}\n",
    "\n",
    "# Ensure sampling_params is a valid dictionary\n",
    "if sampling_params is None or not isinstance(sampling_params, dict):\n",
    "    sampling_params = {\"temperature\": 0.0, \"stop\": \"\\n\", \"max_tokens\": 5}\n",
    "\n",
    "# Generate prompts and responses\n",
    "for ex in tqdm(dataset, total=len(dataset), desc=\"Processing dataset\"):\n",
    "    try:\n",
    "        # Generate prompt\n",
    "        code = ex[\"content\"]\n",
    "        toks = len(tokenizer.encode(code)) + few_shot_toks\n",
    "        if toks > 16380:\n",
    "            print(f\"Skipping example with {toks} tokens\")\n",
    "            # Add dummy prompt for skipped examples\n",
    "            prompts.append(dummy_java_prompt)\n",
    "            continue\n",
    "\n",
    "        p = prompt_fmt_java(code)\n",
    "        prompts.append(p)\n",
    "\n",
    "        # Generate responses in chunks of 512 prompts\n",
    "        for chunk in tqdm(chunkify(prompts, 512), desc=\"Generating responses\"):\n",
    "            if chunk is None:\n",
    "                print(\"Warning: Encountered a None chunk. Skipping...\")\n",
    "                continue\n",
    "\n",
    "            # Generate responses for the chunk\n",
    "            outs = model.generate(chunk, sampling_params.copy())\n",
    "            contents = [o.outputs[0].text for o in outs]\n",
    "\n",
    "            for c in contents:\n",
    "                if c is None:\n",
    "                    print(\"Warning: Encountered None content. Treating as default response.\")\n",
    "                    responses.append(False)\n",
    "                    continue\n",
    "\n",
    "                # Count \"yes\" and \"no\" in the response\n",
    "                yes_count = c.lower().count(\"yes\")\n",
    "                no_count = c.lower().count(\"no\")\n",
    "\n",
    "                if yes_count > no_count:\n",
    "                    responses.append(True)\n",
    "                elif yes_count < no_count:\n",
    "                    responses.append(False)\n",
    "                else:\n",
    "                    # Default to No\n",
    "                    responses.append(False)\n",
    "    except Exception as e:\n",
    "        # Log any unexpected errors and skip to the next example\n",
    "        print(f\"Error processing example: {e}\")\n",
    "        prompts.append(dummy_java_prompt)\n",
    "        responses.append(False)\n"
   ]
  },
  {
   "cell_type": "code",
   "execution_count": null,
   "id": "d02e6021-71c7-449b-a54a-d6f9a54e4f04",
   "metadata": {},
   "outputs": [],
   "source": [
    "prompts"
   ]
  },
  {
   "cell_type": "code",
   "execution_count": 55,
   "id": "fa02eef9-f557-4f36-adf3-0115a5c08041",
   "metadata": {},
   "outputs": [],
   "source": [
    "subset = dataset.select(range(10))"
   ]
  },
  {
   "cell_type": "code",
   "execution_count": 56,
   "id": "8d5579e1-7c33-438e-8e79-d8acab10b66b",
   "metadata": {},
   "outputs": [
    {
     "data": {
      "text/plain": [
       "Dataset({\n",
       "    features: ['blob_id', 'directory_id', 'path', 'content_id', 'detected_licenses', 'license_type', 'repo_name', 'snapshot_id', 'revision_id', 'branch_name', 'visit_date', 'revision_date', 'committer_date', 'github_id', 'star_events_count', 'fork_events_count', 'gha_license_id', 'gha_event_created_at', 'gha_created_at', 'gha_language', 'src_encoding', 'language', 'is_vendor', 'is_generated', 'length_bytes', 'extension', 'filename', 'content'],\n",
       "    num_rows: 10\n",
       "})"
      ]
     },
     "execution_count": 56,
     "metadata": {},
     "output_type": "execute_result"
    }
   ],
   "source": [
    "subset"
   ]
  },
  {
   "cell_type": "code",
   "execution_count": 57,
   "id": "da440e82-7104-4c01-99dc-b7dac8803cb9",
   "metadata": {},
   "outputs": [
    {
     "data": {
      "application/vnd.jupyter.widget-view+json": {
       "model_id": "ba9c0591f3bd4422ae8b1bd77934f906",
       "version_major": 2,
       "version_minor": 0
      },
      "text/plain": [
       "Filter:   0%|          | 0/10 [00:00<?, ? examples/s]"
      ]
     },
     "metadata": {},
     "output_type": "display_data"
    },
    {
     "ename": "NameError",
     "evalue": "name 'responses' is not defined",
     "output_type": "error",
     "traceback": [
      "\u001b[0;31m---------------------------------------------------------------------------\u001b[0m",
      "\u001b[0;31mNameError\u001b[0m                                 Traceback (most recent call last)",
      "Cell \u001b[0;32mIn[57], line 1\u001b[0m\n\u001b[0;32m----> 1\u001b[0m new_ds \u001b[38;5;241m=\u001b[39m \u001b[43msubset\u001b[49m\u001b[38;5;241;43m.\u001b[39;49m\u001b[43mfilter\u001b[49m\u001b[43m(\u001b[49m\u001b[43m  \u001b[49m\u001b[38;5;66;43;03m# horrible hack!\u001b[39;49;00m\n\u001b[1;32m      2\u001b[0m \u001b[43m    \u001b[49m\u001b[38;5;28;43;01mlambda\u001b[39;49;00m\u001b[43m \u001b[49m\u001b[43mex\u001b[49m\u001b[43m,\u001b[49m\u001b[43m \u001b[49m\u001b[43mi\u001b[49m\u001b[43m:\u001b[49m\u001b[43m \u001b[49m\u001b[43mresponses\u001b[49m\u001b[43m[\u001b[49m\u001b[43mi\u001b[49m\u001b[43m]\u001b[49m\u001b[43m \u001b[49m\u001b[38;5;129;43;01mand\u001b[39;49;00m\u001b[43m \u001b[49m\u001b[38;5;124;43m\"\u001b[39;49m\u001b[38;5;124;43mdef dummy()\u001b[39;49m\u001b[38;5;124;43m\"\u001b[39;49m\u001b[43m \u001b[49m\u001b[38;5;129;43;01mnot\u001b[39;49;00m\u001b[43m \u001b[49m\u001b[38;5;129;43;01min\u001b[39;49;00m\u001b[43m \u001b[49m\u001b[43mex\u001b[49m\u001b[43m[\u001b[49m\u001b[38;5;124;43m\"\u001b[39;49m\u001b[38;5;124;43mcontent\u001b[39;49m\u001b[38;5;124;43m\"\u001b[39;49m\u001b[43m]\u001b[49m\u001b[43m,\u001b[49m\u001b[43m \u001b[49m\u001b[43mwith_indices\u001b[49m\u001b[38;5;241;43m=\u001b[39;49m\u001b[38;5;28;43;01mTrue\u001b[39;49;00m\u001b[43m)\u001b[49m\n\u001b[1;32m      3\u001b[0m \u001b[38;5;28mprint\u001b[39m(\u001b[38;5;124mf\u001b[39m\u001b[38;5;124m\"\u001b[39m\u001b[38;5;124mFiltered \u001b[39m\u001b[38;5;132;01m{\u001b[39;00m\u001b[38;5;28mlen\u001b[39m(dataset)\u001b[38;5;250m \u001b[39m\u001b[38;5;241m-\u001b[39m\u001b[38;5;250m \u001b[39m\u001b[38;5;28mlen\u001b[39m(new_ds)\u001b[38;5;132;01m}\u001b[39;00m\u001b[38;5;124m examples\u001b[39m\u001b[38;5;124m\"\u001b[39m)\n",
      "File \u001b[0;32m/usr/local/lib/python3.11/dist-packages/datasets/arrow_dataset.py:558\u001b[0m, in \u001b[0;36mtransmit_format.<locals>.wrapper\u001b[0;34m(*args, **kwargs)\u001b[0m\n\u001b[1;32m    551\u001b[0m self_format \u001b[38;5;241m=\u001b[39m {\n\u001b[1;32m    552\u001b[0m     \u001b[38;5;124m\"\u001b[39m\u001b[38;5;124mtype\u001b[39m\u001b[38;5;124m\"\u001b[39m: \u001b[38;5;28mself\u001b[39m\u001b[38;5;241m.\u001b[39m_format_type,\n\u001b[1;32m    553\u001b[0m     \u001b[38;5;124m\"\u001b[39m\u001b[38;5;124mformat_kwargs\u001b[39m\u001b[38;5;124m\"\u001b[39m: \u001b[38;5;28mself\u001b[39m\u001b[38;5;241m.\u001b[39m_format_kwargs,\n\u001b[1;32m    554\u001b[0m     \u001b[38;5;124m\"\u001b[39m\u001b[38;5;124mcolumns\u001b[39m\u001b[38;5;124m\"\u001b[39m: \u001b[38;5;28mself\u001b[39m\u001b[38;5;241m.\u001b[39m_format_columns,\n\u001b[1;32m    555\u001b[0m     \u001b[38;5;124m\"\u001b[39m\u001b[38;5;124moutput_all_columns\u001b[39m\u001b[38;5;124m\"\u001b[39m: \u001b[38;5;28mself\u001b[39m\u001b[38;5;241m.\u001b[39m_output_all_columns,\n\u001b[1;32m    556\u001b[0m }\n\u001b[1;32m    557\u001b[0m \u001b[38;5;66;03m# apply actual function\u001b[39;00m\n\u001b[0;32m--> 558\u001b[0m out: Union[\u001b[38;5;124m\"\u001b[39m\u001b[38;5;124mDataset\u001b[39m\u001b[38;5;124m\"\u001b[39m, \u001b[38;5;124m\"\u001b[39m\u001b[38;5;124mDatasetDict\u001b[39m\u001b[38;5;124m\"\u001b[39m] \u001b[38;5;241m=\u001b[39m \u001b[43mfunc\u001b[49m\u001b[43m(\u001b[49m\u001b[38;5;28;43mself\u001b[39;49m\u001b[43m,\u001b[49m\u001b[43m \u001b[49m\u001b[38;5;241;43m*\u001b[39;49m\u001b[43margs\u001b[49m\u001b[43m,\u001b[49m\u001b[43m \u001b[49m\u001b[38;5;241;43m*\u001b[39;49m\u001b[38;5;241;43m*\u001b[39;49m\u001b[43mkwargs\u001b[49m\u001b[43m)\u001b[49m\n\u001b[1;32m    559\u001b[0m datasets: List[\u001b[38;5;124m\"\u001b[39m\u001b[38;5;124mDataset\u001b[39m\u001b[38;5;124m\"\u001b[39m] \u001b[38;5;241m=\u001b[39m \u001b[38;5;28mlist\u001b[39m(out\u001b[38;5;241m.\u001b[39mvalues()) \u001b[38;5;28;01mif\u001b[39;00m \u001b[38;5;28misinstance\u001b[39m(out, \u001b[38;5;28mdict\u001b[39m) \u001b[38;5;28;01melse\u001b[39;00m [out]\n\u001b[1;32m    560\u001b[0m \u001b[38;5;66;03m# re-apply format to the output\u001b[39;00m\n",
      "File \u001b[0;32m/usr/local/lib/python3.11/dist-packages/datasets/fingerprint.py:482\u001b[0m, in \u001b[0;36mfingerprint_transform.<locals>._fingerprint.<locals>.wrapper\u001b[0;34m(*args, **kwargs)\u001b[0m\n\u001b[1;32m    478\u001b[0m             validate_fingerprint(kwargs[fingerprint_name])\n\u001b[1;32m    480\u001b[0m \u001b[38;5;66;03m# Call actual function\u001b[39;00m\n\u001b[0;32m--> 482\u001b[0m out \u001b[38;5;241m=\u001b[39m \u001b[43mfunc\u001b[49m\u001b[43m(\u001b[49m\u001b[43mdataset\u001b[49m\u001b[43m,\u001b[49m\u001b[43m \u001b[49m\u001b[38;5;241;43m*\u001b[39;49m\u001b[43margs\u001b[49m\u001b[43m,\u001b[49m\u001b[43m \u001b[49m\u001b[38;5;241;43m*\u001b[39;49m\u001b[38;5;241;43m*\u001b[39;49m\u001b[43mkwargs\u001b[49m\u001b[43m)\u001b[49m\n\u001b[1;32m    484\u001b[0m \u001b[38;5;66;03m# Update fingerprint of in-place transforms + update in-place history of transforms\u001b[39;00m\n\u001b[1;32m    486\u001b[0m \u001b[38;5;28;01mif\u001b[39;00m inplace:  \u001b[38;5;66;03m# update after calling func so that the fingerprint doesn't change if the function fails\u001b[39;00m\n",
      "File \u001b[0;32m/usr/local/lib/python3.11/dist-packages/datasets/arrow_dataset.py:3640\u001b[0m, in \u001b[0;36mDataset.filter\u001b[0;34m(self, function, with_indices, with_rank, input_columns, batched, batch_size, keep_in_memory, load_from_cache_file, cache_file_name, writer_batch_size, fn_kwargs, num_proc, suffix_template, new_fingerprint, desc)\u001b[0m\n\u001b[1;32m   3637\u001b[0m \u001b[38;5;28;01mif\u001b[39;00m \u001b[38;5;28mlen\u001b[39m(\u001b[38;5;28mself\u001b[39m) \u001b[38;5;241m==\u001b[39m \u001b[38;5;241m0\u001b[39m:\n\u001b[1;32m   3638\u001b[0m     \u001b[38;5;28;01mreturn\u001b[39;00m \u001b[38;5;28mself\u001b[39m\n\u001b[0;32m-> 3640\u001b[0m indices \u001b[38;5;241m=\u001b[39m \u001b[38;5;28;43mself\u001b[39;49m\u001b[38;5;241;43m.\u001b[39;49m\u001b[43mmap\u001b[49m\u001b[43m(\u001b[49m\n\u001b[1;32m   3641\u001b[0m \u001b[43m    \u001b[49m\u001b[43mfunction\u001b[49m\u001b[38;5;241;43m=\u001b[39;49m\u001b[43mpartial\u001b[49m\u001b[43m(\u001b[49m\n\u001b[1;32m   3642\u001b[0m \u001b[43m        \u001b[49m\u001b[43mget_indices_from_mask_function\u001b[49m\u001b[43m,\u001b[49m\n\u001b[1;32m   3643\u001b[0m \u001b[43m        \u001b[49m\u001b[43mfunction\u001b[49m\u001b[43m,\u001b[49m\n\u001b[1;32m   3644\u001b[0m \u001b[43m        \u001b[49m\u001b[43mbatched\u001b[49m\u001b[43m,\u001b[49m\n\u001b[1;32m   3645\u001b[0m \u001b[43m        \u001b[49m\u001b[43mwith_indices\u001b[49m\u001b[43m,\u001b[49m\n\u001b[1;32m   3646\u001b[0m \u001b[43m        \u001b[49m\u001b[43mwith_rank\u001b[49m\u001b[43m,\u001b[49m\n\u001b[1;32m   3647\u001b[0m \u001b[43m        \u001b[49m\u001b[43minput_columns\u001b[49m\u001b[43m,\u001b[49m\n\u001b[1;32m   3648\u001b[0m \u001b[43m        \u001b[49m\u001b[38;5;28;43mself\u001b[39;49m\u001b[38;5;241;43m.\u001b[39;49m\u001b[43m_indices\u001b[49m\u001b[43m,\u001b[49m\n\u001b[1;32m   3649\u001b[0m \u001b[43m    \u001b[49m\u001b[43m)\u001b[49m\u001b[43m,\u001b[49m\n\u001b[1;32m   3650\u001b[0m \u001b[43m    \u001b[49m\u001b[43mwith_indices\u001b[49m\u001b[38;5;241;43m=\u001b[39;49m\u001b[38;5;28;43;01mTrue\u001b[39;49;00m\u001b[43m,\u001b[49m\n\u001b[1;32m   3651\u001b[0m \u001b[43m    \u001b[49m\u001b[43mwith_rank\u001b[49m\u001b[38;5;241;43m=\u001b[39;49m\u001b[38;5;28;43;01mTrue\u001b[39;49;00m\u001b[43m,\u001b[49m\n\u001b[1;32m   3652\u001b[0m \u001b[43m    \u001b[49m\u001b[43mfeatures\u001b[49m\u001b[38;5;241;43m=\u001b[39;49m\u001b[43mFeatures\u001b[49m\u001b[43m(\u001b[49m\u001b[43m{\u001b[49m\u001b[38;5;124;43m\"\u001b[39;49m\u001b[38;5;124;43mindices\u001b[39;49m\u001b[38;5;124;43m\"\u001b[39;49m\u001b[43m:\u001b[49m\u001b[43m \u001b[49m\u001b[43mValue\u001b[49m\u001b[43m(\u001b[49m\u001b[38;5;124;43m\"\u001b[39;49m\u001b[38;5;124;43muint64\u001b[39;49m\u001b[38;5;124;43m\"\u001b[39;49m\u001b[43m)\u001b[49m\u001b[43m}\u001b[49m\u001b[43m)\u001b[49m\u001b[43m,\u001b[49m\n\u001b[1;32m   3653\u001b[0m \u001b[43m    \u001b[49m\u001b[43mbatched\u001b[49m\u001b[38;5;241;43m=\u001b[39;49m\u001b[38;5;28;43;01mTrue\u001b[39;49;00m\u001b[43m,\u001b[49m\n\u001b[1;32m   3654\u001b[0m \u001b[43m    \u001b[49m\u001b[43mbatch_size\u001b[49m\u001b[38;5;241;43m=\u001b[39;49m\u001b[43mbatch_size\u001b[49m\u001b[43m,\u001b[49m\n\u001b[1;32m   3655\u001b[0m \u001b[43m    \u001b[49m\u001b[43mremove_columns\u001b[49m\u001b[38;5;241;43m=\u001b[39;49m\u001b[38;5;28;43mself\u001b[39;49m\u001b[38;5;241;43m.\u001b[39;49m\u001b[43mcolumn_names\u001b[49m\u001b[43m,\u001b[49m\n\u001b[1;32m   3656\u001b[0m \u001b[43m    \u001b[49m\u001b[43mkeep_in_memory\u001b[49m\u001b[38;5;241;43m=\u001b[39;49m\u001b[43mkeep_in_memory\u001b[49m\u001b[43m,\u001b[49m\n\u001b[1;32m   3657\u001b[0m \u001b[43m    \u001b[49m\u001b[43mload_from_cache_file\u001b[49m\u001b[38;5;241;43m=\u001b[39;49m\u001b[43mload_from_cache_file\u001b[49m\u001b[43m,\u001b[49m\n\u001b[1;32m   3658\u001b[0m \u001b[43m    \u001b[49m\u001b[43mcache_file_name\u001b[49m\u001b[38;5;241;43m=\u001b[39;49m\u001b[43mcache_file_name\u001b[49m\u001b[43m,\u001b[49m\n\u001b[1;32m   3659\u001b[0m \u001b[43m    \u001b[49m\u001b[43mwriter_batch_size\u001b[49m\u001b[38;5;241;43m=\u001b[39;49m\u001b[43mwriter_batch_size\u001b[49m\u001b[43m,\u001b[49m\n\u001b[1;32m   3660\u001b[0m \u001b[43m    \u001b[49m\u001b[43mfn_kwargs\u001b[49m\u001b[38;5;241;43m=\u001b[39;49m\u001b[43mfn_kwargs\u001b[49m\u001b[43m,\u001b[49m\n\u001b[1;32m   3661\u001b[0m \u001b[43m    \u001b[49m\u001b[43mnum_proc\u001b[49m\u001b[38;5;241;43m=\u001b[39;49m\u001b[43mnum_proc\u001b[49m\u001b[43m,\u001b[49m\n\u001b[1;32m   3662\u001b[0m \u001b[43m    \u001b[49m\u001b[43msuffix_template\u001b[49m\u001b[38;5;241;43m=\u001b[39;49m\u001b[43msuffix_template\u001b[49m\u001b[43m,\u001b[49m\n\u001b[1;32m   3663\u001b[0m \u001b[43m    \u001b[49m\u001b[43mnew_fingerprint\u001b[49m\u001b[38;5;241;43m=\u001b[39;49m\u001b[43mnew_fingerprint\u001b[49m\u001b[43m,\u001b[49m\n\u001b[1;32m   3664\u001b[0m \u001b[43m    \u001b[49m\u001b[43minput_columns\u001b[49m\u001b[38;5;241;43m=\u001b[39;49m\u001b[43minput_columns\u001b[49m\u001b[43m,\u001b[49m\n\u001b[1;32m   3665\u001b[0m \u001b[43m    \u001b[49m\u001b[43mdesc\u001b[49m\u001b[38;5;241;43m=\u001b[39;49m\u001b[43mdesc\u001b[49m\u001b[43m \u001b[49m\u001b[38;5;129;43;01mor\u001b[39;49;00m\u001b[43m \u001b[49m\u001b[38;5;124;43m\"\u001b[39;49m\u001b[38;5;124;43mFilter\u001b[39;49m\u001b[38;5;124;43m\"\u001b[39;49m\u001b[43m,\u001b[49m\n\u001b[1;32m   3666\u001b[0m \u001b[43m\u001b[49m\u001b[43m)\u001b[49m\n\u001b[1;32m   3667\u001b[0m new_dataset \u001b[38;5;241m=\u001b[39m copy\u001b[38;5;241m.\u001b[39mdeepcopy(\u001b[38;5;28mself\u001b[39m)\n\u001b[1;32m   3668\u001b[0m new_dataset\u001b[38;5;241m.\u001b[39m_indices \u001b[38;5;241m=\u001b[39m indices\u001b[38;5;241m.\u001b[39mdata\n",
      "File \u001b[0;32m/usr/local/lib/python3.11/dist-packages/datasets/arrow_dataset.py:593\u001b[0m, in \u001b[0;36mtransmit_tasks.<locals>.wrapper\u001b[0;34m(*args, **kwargs)\u001b[0m\n\u001b[1;32m    591\u001b[0m     \u001b[38;5;28mself\u001b[39m: \u001b[38;5;124m\"\u001b[39m\u001b[38;5;124mDataset\u001b[39m\u001b[38;5;124m\"\u001b[39m \u001b[38;5;241m=\u001b[39m kwargs\u001b[38;5;241m.\u001b[39mpop(\u001b[38;5;124m\"\u001b[39m\u001b[38;5;124mself\u001b[39m\u001b[38;5;124m\"\u001b[39m)\n\u001b[1;32m    592\u001b[0m \u001b[38;5;66;03m# apply actual function\u001b[39;00m\n\u001b[0;32m--> 593\u001b[0m out: Union[\u001b[38;5;124m\"\u001b[39m\u001b[38;5;124mDataset\u001b[39m\u001b[38;5;124m\"\u001b[39m, \u001b[38;5;124m\"\u001b[39m\u001b[38;5;124mDatasetDict\u001b[39m\u001b[38;5;124m\"\u001b[39m] \u001b[38;5;241m=\u001b[39m \u001b[43mfunc\u001b[49m\u001b[43m(\u001b[49m\u001b[38;5;28;43mself\u001b[39;49m\u001b[43m,\u001b[49m\u001b[43m \u001b[49m\u001b[38;5;241;43m*\u001b[39;49m\u001b[43margs\u001b[49m\u001b[43m,\u001b[49m\u001b[43m \u001b[49m\u001b[38;5;241;43m*\u001b[39;49m\u001b[38;5;241;43m*\u001b[39;49m\u001b[43mkwargs\u001b[49m\u001b[43m)\u001b[49m\n\u001b[1;32m    594\u001b[0m datasets: List[\u001b[38;5;124m\"\u001b[39m\u001b[38;5;124mDataset\u001b[39m\u001b[38;5;124m\"\u001b[39m] \u001b[38;5;241m=\u001b[39m \u001b[38;5;28mlist\u001b[39m(out\u001b[38;5;241m.\u001b[39mvalues()) \u001b[38;5;28;01mif\u001b[39;00m \u001b[38;5;28misinstance\u001b[39m(out, \u001b[38;5;28mdict\u001b[39m) \u001b[38;5;28;01melse\u001b[39;00m [out]\n\u001b[1;32m    595\u001b[0m \u001b[38;5;28;01mfor\u001b[39;00m dataset \u001b[38;5;129;01min\u001b[39;00m datasets:\n\u001b[1;32m    596\u001b[0m     \u001b[38;5;66;03m# Remove task templates if a column mapping of the template is no longer valid\u001b[39;00m\n",
      "File \u001b[0;32m/usr/local/lib/python3.11/dist-packages/datasets/arrow_dataset.py:558\u001b[0m, in \u001b[0;36mtransmit_format.<locals>.wrapper\u001b[0;34m(*args, **kwargs)\u001b[0m\n\u001b[1;32m    551\u001b[0m self_format \u001b[38;5;241m=\u001b[39m {\n\u001b[1;32m    552\u001b[0m     \u001b[38;5;124m\"\u001b[39m\u001b[38;5;124mtype\u001b[39m\u001b[38;5;124m\"\u001b[39m: \u001b[38;5;28mself\u001b[39m\u001b[38;5;241m.\u001b[39m_format_type,\n\u001b[1;32m    553\u001b[0m     \u001b[38;5;124m\"\u001b[39m\u001b[38;5;124mformat_kwargs\u001b[39m\u001b[38;5;124m\"\u001b[39m: \u001b[38;5;28mself\u001b[39m\u001b[38;5;241m.\u001b[39m_format_kwargs,\n\u001b[1;32m    554\u001b[0m     \u001b[38;5;124m\"\u001b[39m\u001b[38;5;124mcolumns\u001b[39m\u001b[38;5;124m\"\u001b[39m: \u001b[38;5;28mself\u001b[39m\u001b[38;5;241m.\u001b[39m_format_columns,\n\u001b[1;32m    555\u001b[0m     \u001b[38;5;124m\"\u001b[39m\u001b[38;5;124moutput_all_columns\u001b[39m\u001b[38;5;124m\"\u001b[39m: \u001b[38;5;28mself\u001b[39m\u001b[38;5;241m.\u001b[39m_output_all_columns,\n\u001b[1;32m    556\u001b[0m }\n\u001b[1;32m    557\u001b[0m \u001b[38;5;66;03m# apply actual function\u001b[39;00m\n\u001b[0;32m--> 558\u001b[0m out: Union[\u001b[38;5;124m\"\u001b[39m\u001b[38;5;124mDataset\u001b[39m\u001b[38;5;124m\"\u001b[39m, \u001b[38;5;124m\"\u001b[39m\u001b[38;5;124mDatasetDict\u001b[39m\u001b[38;5;124m\"\u001b[39m] \u001b[38;5;241m=\u001b[39m \u001b[43mfunc\u001b[49m\u001b[43m(\u001b[49m\u001b[38;5;28;43mself\u001b[39;49m\u001b[43m,\u001b[49m\u001b[43m \u001b[49m\u001b[38;5;241;43m*\u001b[39;49m\u001b[43margs\u001b[49m\u001b[43m,\u001b[49m\u001b[43m \u001b[49m\u001b[38;5;241;43m*\u001b[39;49m\u001b[38;5;241;43m*\u001b[39;49m\u001b[43mkwargs\u001b[49m\u001b[43m)\u001b[49m\n\u001b[1;32m    559\u001b[0m datasets: List[\u001b[38;5;124m\"\u001b[39m\u001b[38;5;124mDataset\u001b[39m\u001b[38;5;124m\"\u001b[39m] \u001b[38;5;241m=\u001b[39m \u001b[38;5;28mlist\u001b[39m(out\u001b[38;5;241m.\u001b[39mvalues()) \u001b[38;5;28;01mif\u001b[39;00m \u001b[38;5;28misinstance\u001b[39m(out, \u001b[38;5;28mdict\u001b[39m) \u001b[38;5;28;01melse\u001b[39;00m [out]\n\u001b[1;32m    560\u001b[0m \u001b[38;5;66;03m# re-apply format to the output\u001b[39;00m\n",
      "File \u001b[0;32m/usr/local/lib/python3.11/dist-packages/datasets/arrow_dataset.py:3105\u001b[0m, in \u001b[0;36mDataset.map\u001b[0;34m(self, function, with_indices, with_rank, input_columns, batched, batch_size, drop_last_batch, remove_columns, keep_in_memory, load_from_cache_file, cache_file_name, writer_batch_size, features, disable_nullable, fn_kwargs, num_proc, suffix_template, new_fingerprint, desc)\u001b[0m\n\u001b[1;32m   3099\u001b[0m \u001b[38;5;28;01mif\u001b[39;00m transformed_dataset \u001b[38;5;129;01mis\u001b[39;00m \u001b[38;5;28;01mNone\u001b[39;00m:\n\u001b[1;32m   3100\u001b[0m     \u001b[38;5;28;01mwith\u001b[39;00m hf_tqdm(\n\u001b[1;32m   3101\u001b[0m         unit\u001b[38;5;241m=\u001b[39m\u001b[38;5;124m\"\u001b[39m\u001b[38;5;124m examples\u001b[39m\u001b[38;5;124m\"\u001b[39m,\n\u001b[1;32m   3102\u001b[0m         total\u001b[38;5;241m=\u001b[39mpbar_total,\n\u001b[1;32m   3103\u001b[0m         desc\u001b[38;5;241m=\u001b[39mdesc \u001b[38;5;129;01mor\u001b[39;00m \u001b[38;5;124m\"\u001b[39m\u001b[38;5;124mMap\u001b[39m\u001b[38;5;124m\"\u001b[39m,\n\u001b[1;32m   3104\u001b[0m     ) \u001b[38;5;28;01mas\u001b[39;00m pbar:\n\u001b[0;32m-> 3105\u001b[0m \u001b[43m        \u001b[49m\u001b[38;5;28;43;01mfor\u001b[39;49;00m\u001b[43m \u001b[49m\u001b[43mrank\u001b[49m\u001b[43m,\u001b[49m\u001b[43m \u001b[49m\u001b[43mdone\u001b[49m\u001b[43m,\u001b[49m\u001b[43m \u001b[49m\u001b[43mcontent\u001b[49m\u001b[43m \u001b[49m\u001b[38;5;129;43;01min\u001b[39;49;00m\u001b[43m \u001b[49m\u001b[43mDataset\u001b[49m\u001b[38;5;241;43m.\u001b[39;49m\u001b[43m_map_single\u001b[49m\u001b[43m(\u001b[49m\u001b[38;5;241;43m*\u001b[39;49m\u001b[38;5;241;43m*\u001b[39;49m\u001b[43mdataset_kwargs\u001b[49m\u001b[43m)\u001b[49m\u001b[43m:\u001b[49m\n\u001b[1;32m   3106\u001b[0m \u001b[43m            \u001b[49m\u001b[38;5;28;43;01mif\u001b[39;49;00m\u001b[43m \u001b[49m\u001b[43mdone\u001b[49m\u001b[43m:\u001b[49m\n\u001b[1;32m   3107\u001b[0m \u001b[43m                \u001b[49m\u001b[43mshards_done\u001b[49m\u001b[43m \u001b[49m\u001b[38;5;241;43m+\u001b[39;49m\u001b[38;5;241;43m=\u001b[39;49m\u001b[43m \u001b[49m\u001b[38;5;241;43m1\u001b[39;49m\n",
      "File \u001b[0;32m/usr/local/lib/python3.11/dist-packages/datasets/arrow_dataset.py:3482\u001b[0m, in \u001b[0;36mDataset._map_single\u001b[0;34m(shard, function, with_indices, with_rank, input_columns, batched, batch_size, drop_last_batch, remove_columns, keep_in_memory, cache_file_name, writer_batch_size, features, disable_nullable, fn_kwargs, new_fingerprint, rank, offset)\u001b[0m\n\u001b[1;32m   3478\u001b[0m indices \u001b[38;5;241m=\u001b[39m \u001b[38;5;28mlist\u001b[39m(\n\u001b[1;32m   3479\u001b[0m     \u001b[38;5;28mrange\u001b[39m(\u001b[38;5;241m*\u001b[39m(\u001b[38;5;28mslice\u001b[39m(i, i \u001b[38;5;241m+\u001b[39m batch_size)\u001b[38;5;241m.\u001b[39mindices(shard\u001b[38;5;241m.\u001b[39mnum_rows)))\n\u001b[1;32m   3480\u001b[0m )  \u001b[38;5;66;03m# Something simpler?\u001b[39;00m\n\u001b[1;32m   3481\u001b[0m \u001b[38;5;28;01mtry\u001b[39;00m:\n\u001b[0;32m-> 3482\u001b[0m     batch \u001b[38;5;241m=\u001b[39m \u001b[43mapply_function_on_filtered_inputs\u001b[49m\u001b[43m(\u001b[49m\n\u001b[1;32m   3483\u001b[0m \u001b[43m        \u001b[49m\u001b[43mbatch\u001b[49m\u001b[43m,\u001b[49m\n\u001b[1;32m   3484\u001b[0m \u001b[43m        \u001b[49m\u001b[43mindices\u001b[49m\u001b[43m,\u001b[49m\n\u001b[1;32m   3485\u001b[0m \u001b[43m        \u001b[49m\u001b[43mcheck_same_num_examples\u001b[49m\u001b[38;5;241;43m=\u001b[39;49m\u001b[38;5;28;43mlen\u001b[39;49m\u001b[43m(\u001b[49m\u001b[43mshard\u001b[49m\u001b[38;5;241;43m.\u001b[39;49m\u001b[43mlist_indexes\u001b[49m\u001b[43m(\u001b[49m\u001b[43m)\u001b[49m\u001b[43m)\u001b[49m\u001b[43m \u001b[49m\u001b[38;5;241;43m>\u001b[39;49m\u001b[43m \u001b[49m\u001b[38;5;241;43m0\u001b[39;49m\u001b[43m,\u001b[49m\n\u001b[1;32m   3486\u001b[0m \u001b[43m        \u001b[49m\u001b[43moffset\u001b[49m\u001b[38;5;241;43m=\u001b[39;49m\u001b[43moffset\u001b[49m\u001b[43m,\u001b[49m\n\u001b[1;32m   3487\u001b[0m \u001b[43m    \u001b[49m\u001b[43m)\u001b[49m\n\u001b[1;32m   3488\u001b[0m \u001b[38;5;28;01mexcept\u001b[39;00m NumExamplesMismatchError:\n\u001b[1;32m   3489\u001b[0m     \u001b[38;5;28;01mraise\u001b[39;00m DatasetTransformationNotAllowedError(\n\u001b[1;32m   3490\u001b[0m         \u001b[38;5;124m\"\u001b[39m\u001b[38;5;124mUsing `.map` in batched mode on a dataset with attached indexes is allowed only if it doesn\u001b[39m\u001b[38;5;124m'\u001b[39m\u001b[38;5;124mt create or remove existing examples. You can first run `.drop_index() to remove your index and then re-add it.\u001b[39m\u001b[38;5;124m\"\u001b[39m\n\u001b[1;32m   3491\u001b[0m     ) \u001b[38;5;28;01mfrom\u001b[39;00m \u001b[38;5;28;01mNone\u001b[39;00m\n",
      "File \u001b[0;32m/usr/local/lib/python3.11/dist-packages/datasets/arrow_dataset.py:3361\u001b[0m, in \u001b[0;36mDataset._map_single.<locals>.apply_function_on_filtered_inputs\u001b[0;34m(pa_inputs, indices, check_same_num_examples, offset)\u001b[0m\n\u001b[1;32m   3359\u001b[0m \u001b[38;5;28;01mif\u001b[39;00m with_rank:\n\u001b[1;32m   3360\u001b[0m     additional_args \u001b[38;5;241m+\u001b[39m\u001b[38;5;241m=\u001b[39m (rank,)\n\u001b[0;32m-> 3361\u001b[0m processed_inputs \u001b[38;5;241m=\u001b[39m \u001b[43mfunction\u001b[49m\u001b[43m(\u001b[49m\u001b[38;5;241;43m*\u001b[39;49m\u001b[43mfn_args\u001b[49m\u001b[43m,\u001b[49m\u001b[43m \u001b[49m\u001b[38;5;241;43m*\u001b[39;49m\u001b[43madditional_args\u001b[49m\u001b[43m,\u001b[49m\u001b[43m \u001b[49m\u001b[38;5;241;43m*\u001b[39;49m\u001b[38;5;241;43m*\u001b[39;49m\u001b[43mfn_kwargs\u001b[49m\u001b[43m)\u001b[49m\n\u001b[1;32m   3362\u001b[0m \u001b[38;5;28;01mif\u001b[39;00m \u001b[38;5;28misinstance\u001b[39m(processed_inputs, LazyDict):\n\u001b[1;32m   3363\u001b[0m     processed_inputs \u001b[38;5;241m=\u001b[39m {\n\u001b[1;32m   3364\u001b[0m         k: v \u001b[38;5;28;01mfor\u001b[39;00m k, v \u001b[38;5;129;01min\u001b[39;00m processed_inputs\u001b[38;5;241m.\u001b[39mdata\u001b[38;5;241m.\u001b[39mitems() \u001b[38;5;28;01mif\u001b[39;00m k \u001b[38;5;129;01mnot\u001b[39;00m \u001b[38;5;129;01min\u001b[39;00m processed_inputs\u001b[38;5;241m.\u001b[39mkeys_to_format\n\u001b[1;32m   3365\u001b[0m     }\n",
      "File \u001b[0;32m/usr/local/lib/python3.11/dist-packages/datasets/arrow_dataset.py:6259\u001b[0m, in \u001b[0;36mget_indices_from_mask_function\u001b[0;34m(function, batched, with_indices, with_rank, input_columns, indices_mapping, *args, **fn_kwargs)\u001b[0m\n\u001b[1;32m   6257\u001b[0m         \u001b[38;5;28;01mif\u001b[39;00m with_rank:\n\u001b[1;32m   6258\u001b[0m             additional_args \u001b[38;5;241m+\u001b[39m\u001b[38;5;241m=\u001b[39m (rank,)\n\u001b[0;32m-> 6259\u001b[0m         mask\u001b[38;5;241m.\u001b[39mappend(\u001b[43mfunction\u001b[49m\u001b[43m(\u001b[49m\u001b[43mexample\u001b[49m\u001b[43m,\u001b[49m\u001b[43m \u001b[49m\u001b[38;5;241;43m*\u001b[39;49m\u001b[43madditional_args\u001b[49m\u001b[43m,\u001b[49m\u001b[43m \u001b[49m\u001b[38;5;241;43m*\u001b[39;49m\u001b[38;5;241;43m*\u001b[39;49m\u001b[43mfn_kwargs\u001b[49m\u001b[43m)\u001b[49m)\n\u001b[1;32m   6260\u001b[0m \u001b[38;5;28;01melse\u001b[39;00m:\n\u001b[1;32m   6261\u001b[0m     \u001b[38;5;66;03m# inputs is a list of columns\u001b[39;00m\n\u001b[1;32m   6262\u001b[0m     columns: List[List] \u001b[38;5;241m=\u001b[39m inputs\n",
      "Cell \u001b[0;32mIn[57], line 2\u001b[0m, in \u001b[0;36m<lambda>\u001b[0;34m(ex, i)\u001b[0m\n\u001b[1;32m      1\u001b[0m new_ds \u001b[38;5;241m=\u001b[39m subset\u001b[38;5;241m.\u001b[39mfilter(  \u001b[38;5;66;03m# horrible hack!\u001b[39;00m\n\u001b[0;32m----> 2\u001b[0m     \u001b[38;5;28;01mlambda\u001b[39;00m ex, i: \u001b[43mresponses\u001b[49m[i] \u001b[38;5;129;01mand\u001b[39;00m \u001b[38;5;124m\"\u001b[39m\u001b[38;5;124mdef dummy()\u001b[39m\u001b[38;5;124m\"\u001b[39m \u001b[38;5;129;01mnot\u001b[39;00m \u001b[38;5;129;01min\u001b[39;00m ex[\u001b[38;5;124m\"\u001b[39m\u001b[38;5;124mcontent\u001b[39m\u001b[38;5;124m\"\u001b[39m], with_indices\u001b[38;5;241m=\u001b[39m\u001b[38;5;28;01mTrue\u001b[39;00m)\n\u001b[1;32m      3\u001b[0m \u001b[38;5;28mprint\u001b[39m(\u001b[38;5;124mf\u001b[39m\u001b[38;5;124m\"\u001b[39m\u001b[38;5;124mFiltered \u001b[39m\u001b[38;5;132;01m{\u001b[39;00m\u001b[38;5;28mlen\u001b[39m(dataset)\u001b[38;5;250m \u001b[39m\u001b[38;5;241m-\u001b[39m\u001b[38;5;250m \u001b[39m\u001b[38;5;28mlen\u001b[39m(new_ds)\u001b[38;5;132;01m}\u001b[39;00m\u001b[38;5;124m examples\u001b[39m\u001b[38;5;124m\"\u001b[39m)\n",
      "\u001b[0;31mNameError\u001b[0m: name 'responses' is not defined"
     ]
    }
   ],
   "source": [
    "new_ds = subset.filter(  # horrible hack!\n",
    "    lambda ex, i: responses[i] and \"def dummy()\" not in ex[\"content\"], with_indices=True)\n",
    "print(f\"Filtered {len(dataset) - len(new_ds)} examples\")"
   ]
  },
  {
   "cell_type": "code",
   "execution_count": null,
   "id": "908e497d-4afe-4651-b73c-5950e57b06e8",
   "metadata": {},
   "outputs": [],
   "source": [
    "new_ds.save_to_disk(\"../datasets/seed3\")"
   ]
  },
  {
   "cell_type": "code",
   "execution_count": null,
   "id": "9148b29c-1dc5-47a3-bef7-60dc19d75764",
   "metadata": {},
   "outputs": [],
   "source": [
    "new_ds"
   ]
  }
 ],
 "metadata": {
  "kernelspec": {
   "display_name": "Python 3",
   "language": "python",
   "name": "python3"
  },
  "language_info": {
   "codemirror_mode": {
    "name": "ipython",
    "version": 3
   },
   "file_extension": ".py",
   "mimetype": "text/x-python",
   "name": "python",
   "nbconvert_exporter": "python",
   "pygments_lexer": "ipython3",
   "version": "3.11.0rc1"
  }
 },
 "nbformat": 4,
 "nbformat_minor": 5
}
